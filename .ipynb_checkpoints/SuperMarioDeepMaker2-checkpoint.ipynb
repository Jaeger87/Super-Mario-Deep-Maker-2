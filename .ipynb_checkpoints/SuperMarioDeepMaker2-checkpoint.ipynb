{
 "cells": [
  {
   "cell_type": "code",
   "execution_count": 2,
   "metadata": {},
   "outputs": [],
   "source": [
    "import zipfile\n",
    "from os import listdir\n",
    "from os.path import isfile, join\n",
    "from pathlib import Path\n",
    "\n",
    "from tqdm import tqdm"
   ]
  },
  {
   "cell_type": "code",
   "execution_count": 3,
   "metadata": {},
   "outputs": [],
   "source": [
    "levelFolder = Path(\"levels/\")"
   ]
  },
  {
   "cell_type": "code",
   "execution_count": 4,
   "metadata": {},
   "outputs": [],
   "source": [
    "levelsDownloaded = [f for f in listdir(levelFolder) if isfile(join(levelFolder, f))]"
   ]
  },
  {
   "cell_type": "code",
   "execution_count": 5,
   "metadata": {},
   "outputs": [],
   "source": [
    "archive = zipfile.ZipFile(join(levelFolder, '007_-_bond_mario_bond__2958.zip'), 'r')\n",
    "leveldata = archive.read('course_data_000.bcd')"
   ]
  },
  {
   "cell_type": "code",
   "execution_count": 6,
   "metadata": {},
   "outputs": [
    {
     "data": {
      "text/plain": [
       "96"
      ]
     },
     "execution_count": 6,
     "metadata": {},
     "output_type": "execute_result"
    }
   ],
   "source": [
    "leveldata[15215]"
   ]
  },
  {
   "cell_type": "code",
   "execution_count": 7,
   "metadata": {},
   "outputs": [],
   "source": [
    "with open('tools/tmp/course_data_000.bcd', 'wb') as f:\n",
    "    f.write(leveldata)"
   ]
  },
  {
   "cell_type": "code",
   "execution_count": 8,
   "metadata": {},
   "outputs": [
    {
     "name": "stdout",
     "output_type": "stream",
     "text": [
      "Decrypting course .\\tools\\tmp\\course_data_000.bcd to .\\tools\\tmp\\course_data_dec.bcd...\n",
      "Done!\n"
     ]
    }
   ],
   "source": [
    "!.\\tools\\smm2dec.exe -h .\\tools\\tmp\\course_data_000.bcd .\\tools\\tmp\\course_data_dec.bcd"
   ]
  },
  {
   "cell_type": "code",
   "execution_count": 9,
   "metadata": {},
   "outputs": [],
   "source": [
    "with open('tools/tmp/course_data_dec.bcd', 'rb') as f:\n",
    "    leveldata = f.read()"
   ]
  },
  {
   "cell_type": "code",
   "execution_count": 10,
   "metadata": {},
   "outputs": [
    {
     "data": {
      "text/plain": [
       "0"
      ]
     },
     "execution_count": 10,
     "metadata": {},
     "output_type": "execute_result"
    }
   ],
   "source": [
    "leveldata[15215]"
   ]
  },
  {
   "cell_type": "code",
   "execution_count": 30,
   "metadata": {},
   "outputs": [],
   "source": [
    "AESIV = leveldata[:16]  #array\n",
    "randomiserState = leveldata[17:33]\n",
    "AESCMAC = leveldata[34:50]\n",
    "\n",
    "\n",
    "gameVersion = leveldata[:4]\n",
    "gameVersion2 = leveldata[4:6]\n",
    "padding = leveldata[6:8]\n",
    "CRC32 = leveldata[8:12]\n",
    "SCDL = leveldata[12:16]\n",
    "header = leveldata[16:528]\n",
    "mainLevelArea = leveldata[528:188656]\n",
    "subLevelArea = leveldata[188656:376784]\n",
    "CryptoCfg = leveldata[376784:]#non ne sono sicuro\n"
   ]
  },
  {
   "cell_type": "code",
   "execution_count": 32,
   "metadata": {},
   "outputs": [
    {
     "data": {
      "text/plain": [
       "b\"\\xf8T\\x028'\\xae\\x05N\\x07\\xf9 \\xeb\\x84\\xe8n\\x1c'\\xae\\x05N\\xf8T\\x028\\x84\\xe8n\\x1c\\x07\\xf9 \\xeb\\xe0\\x18<=\\x8aZ\\xf5F0\\xcd\\xc6r\\n<\\xe1\\xaf\""
      ]
     },
     "execution_count": 32,
     "metadata": {},
     "output_type": "execute_result"
    }
   ],
   "source": [
    "CryptoCfg"
   ]
  },
  {
   "cell_type": "code",
   "execution_count": 28,
   "metadata": {},
   "outputs": [],
   "source": [
    "startY = header[0]\n",
    "endY = header[1]\n",
    "goalXx100 = header[2:4]\n",
    "timeLimit = header[4:6]\n",
    "targetAmountClearCondition = header[6:8]\n",
    "year = header[8:10]\n",
    "month = header[10]\n",
    "day = header[11]\n",
    "hour = header[12]\n",
    "minute = header[13]\n",
    "unknow = header[14]\n",
    "clearConditionType = header[15]\n",
    "clearConditionObject = header[16:20]\n",
    "unknow4 = header[20:24]\n",
    "levelFlags = header[24:28]\n",
    "clearCheckTime = header[28:32]\n",
    "randomValue = header[32:36]\n",
    "courseWorld = header[36:40]\n",
    "\n",
    "unknow2 = header[240]\n",
    "gameStyle = header[241:244]\n",
    "courseName = header[244:310]#wchar16\n",
    "courseDescription = header[310:378]"
   ]
  },
  {
   "cell_type": "code",
   "execution_count": 33,
   "metadata": {},
   "outputs": [],
   "source": [
    "courseTheme = mainLevelArea[0]\n",
    "autoScrollType = mainLevelArea[1]\n",
    "unknowHorientation = mainLevelArea[2]\n",
    "levelHorientation = mainLevelArea[3]\n",
    "lavaWaterHeight = mainLevelArea[4]\n",
    "lavaWaterMode = mainLevelArea[5]\n",
    "lavaWaterSpeed = mainLevelArea[6]\n",
    "minimunLavaWaterHeight = mainLevelArea[7]\n",
    "rightBoundary = mainLevelArea[8:12]\n",
    "topBoundary = mainLevelArea[12:16]\n",
    "leftBoundary = mainLevelArea[16:20]\n",
    "bottomBoundary = mainLevelArea[20:24]\n",
    "bitField = mainLevelArea[24:28]\n",
    "objectCount = mainLevelArea[28:32]\n",
    "freeStandingSoundEffectCount = mainLevelArea[32:36]\n",
    "snakeBlockCount = mainLevelArea[36:40]\n",
    "clearPipeCount = mainLevelArea[40:44]\n",
    "piranhaCreeperCount = mainLevelArea[44:48]\n",
    "expandingBlockCount = mainLevelArea[48:52]\n",
    "trackBlockCount = mainLevelArea[52:56]\n",
    "alwaysZero = mainLevelArea[56:60]\n",
    "tileCount = mainLevelArea[60:64]\n",
    "railCount = mainLevelArea[64:68]\n",
    "icicleCount = mainLevelArea[68:72]\n",
    "objects = mainLevelArea[72:83272]\n",
    "soundEffects = mainLevelArea[83272:84472]\n",
    "snake = mainLevelArea[84472:89292]\n",
    "clearPipe = mainLevelArea[89292:147692]\n",
    "creeper = mainLevelArea[147692:148532]\n",
    "expandingBlock = mainLevelArea[148532:148972]\n",
    "trackBlock = mainLevelArea[148972:149412]\n",
    "tiles = mainLevelArea[149412:165412]\n",
    "rail = mainLevelArea[165412:183412]\n",
    "iCicle = mainLevelArea[183412:184612]"
   ]
  },
  {
   "cell_type": "code",
   "execution_count": 14,
   "metadata": {},
   "outputs": [
    {
     "data": {
      "text/plain": [
       "5"
      ]
     },
     "execution_count": 14,
     "metadata": {},
     "output_type": "execute_result"
    }
   ],
   "source": [
    "courseTheme"
   ]
  },
  {
   "cell_type": "code",
   "execution_count": 26,
   "metadata": {},
   "outputs": [
    {
     "data": {
      "text/plain": [
       "1128"
      ]
     },
     "execution_count": 26,
     "metadata": {},
     "output_type": "execute_result"
    }
   ],
   "source": [
    "int.from_bytes(tileCount,\"little\", signed = False)"
   ]
  },
  {
   "cell_type": "code",
   "execution_count": 20,
   "metadata": {},
   "outputs": [
    {
     "data": {
      "text/plain": [
       "b'\\x10\\x00'"
      ]
     },
     "execution_count": 20,
     "metadata": {},
     "output_type": "execute_result"
    }
   ],
   "source": [
    "gameVersion2"
   ]
  },
  {
   "cell_type": "code",
   "execution_count": 21,
   "metadata": {},
   "outputs": [
    {
     "data": {
      "text/plain": [
       "7"
      ]
     },
     "execution_count": 21,
     "metadata": {},
     "output_type": "execute_result"
    }
   ],
   "source": [
    "month"
   ]
  },
  {
   "cell_type": "code",
   "execution_count": 29,
   "metadata": {},
   "outputs": [
    {
     "data": {
      "text/plain": [
       "'007 - Bond, Mario Bond ♪\\x00\\x00\\x00\\x00\\x00\\x00\\x00\\x00\\x00'"
      ]
     },
     "execution_count": 29,
     "metadata": {},
     "output_type": "execute_result"
    }
   ],
   "source": [
    "courseName.decode(\"utf-16\")"
   ]
  },
  {
   "cell_type": "code",
   "execution_count": 30,
   "metadata": {},
   "outputs": [
    {
     "data": {
      "text/plain": [
       "'Music and Play!\\x00\\x00\\x00\\x00\\x00\\x00\\x00\\x00\\x00\\x00\\x00\\x00\\x00\\x00\\x00\\x00\\x00\\x00\\x00'"
      ]
     },
     "execution_count": 30,
     "metadata": {},
     "output_type": "execute_result"
    }
   ],
   "source": [
    "courseDescription.decode(\"utf-16\")"
   ]
  },
  {
   "cell_type": "code",
   "execution_count": 27,
   "metadata": {},
   "outputs": [
    {
     "data": {
      "text/plain": [
       "'M3\\x00'"
      ]
     },
     "execution_count": 27,
     "metadata": {},
     "output_type": "execute_result"
    }
   ],
   "source": [
    "gameStyle.decode(\"utf-8\")"
   ]
  },
  {
   "cell_type": "code",
   "execution_count": null,
   "metadata": {},
   "outputs": [],
   "source": []
  }
 ],
 "metadata": {
  "kernelspec": {
   "display_name": "Python 3",
   "language": "python",
   "name": "python3"
  },
  "language_info": {
   "codemirror_mode": {
    "name": "ipython",
    "version": 3
   },
   "file_extension": ".py",
   "mimetype": "text/x-python",
   "name": "python",
   "nbconvert_exporter": "python",
   "pygments_lexer": "ipython3",
   "version": "3.7.3"
  }
 },
 "nbformat": 4,
 "nbformat_minor": 2
}
