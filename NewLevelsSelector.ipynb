{
 "cells": [
  {
   "cell_type": "code",
   "execution_count": 8,
   "metadata": {},
   "outputs": [],
   "source": [
    "import os\n",
    "from os import listdir\n",
    "from os.path import isfile, join\n",
    "from pathlib import Path\n",
    "from tqdm import tqdm"
   ]
  },
  {
   "cell_type": "code",
   "execution_count": 2,
   "metadata": {},
   "outputs": [],
   "source": [
    "class Header():\n",
    "    def __init__(self, headerBytes):\n",
    "        self.startY = headerBytes[0]\n",
    "        self.endY = headerBytes[1]\n",
    "        self.goalXx100 = int.from_bytes(headerBytes[2:4],\"little\", signed = False)\n",
    "        self.timeLimit = int.from_bytes(headerBytes[4:6],\"little\", signed = False)\n",
    "        self.targetAmountClearCondition = int.from_bytes(headerBytes[6:8],\"little\", signed = False)\n",
    "        self.year = int.from_bytes(headerBytes[8:10],\"little\", signed = False)\n",
    "        self.month = headerBytes[10]\n",
    "        self.day = headerBytes[11]\n",
    "        self.hour = headerBytes[12]\n",
    "        self.minute = headerBytes[13]\n",
    "        self.customAutoscrollSpeed = headerBytes[14]\n",
    "        self.clearConditionType = headerBytes[15]\n",
    "        self.clearConditionObject = int.from_bytes(headerBytes[16:20],\"little\", signed = False)\n",
    "        self.gameVersion = int.from_bytes(headerBytes[20:24],\"little\", signed = False)\n",
    "        self.levelFlags = int.from_bytes(headerBytes[24:28],\"little\", signed = False)\n",
    "        self.clearCheckTries = int.from_bytes(headerBytes[28:32],\"little\", signed = False)\n",
    "        self.clearCheckTime = int.from_bytes(headerBytes[32:36],\"little\", signed = False)\n",
    "        self.creationID = int.from_bytes(headerBytes[36:40],\"little\", signed = False)\n",
    "        self.uploadID = headerBytes[40:48]\n",
    "        self.gameVersionCheck = headerBytes[48:52]\n",
    "        self.padding = headerBytes[52:240]\n",
    "        self.unknow2 = headerBytes[240]\n",
    "        self.gameStyle = headerBytes[241:244]\n",
    "        self.courseName = headerBytes[244:310]#wchar16\n",
    "        self.courseDescription = headerBytes[310:512]"
   ]
  },
  {
   "cell_type": "code",
   "execution_count": 3,
   "metadata": {},
   "outputs": [],
   "source": [
    "class MarioMaker2File():\n",
    "    def __init__(self, fileBytes):\n",
    "        self.gameVersion = fileBytes[:4]\n",
    "        self.gameVersion2 = fileBytes[4:6]\n",
    "        self.padding = fileBytes[6:8]\n",
    "        self.CRC32 = fileBytes[8:12]\n",
    "        self.SCDL = fileBytes[12:16]\n",
    "        self.header = Header(fileBytes[16:528])"
   ]
  },
  {
   "cell_type": "code",
   "execution_count": null,
   "metadata": {},
   "outputs": [],
   "source": [
    "for l in marioMakerLevels:\n",
    "    levelsSet.add(l.header.creationID)"
   ]
  },
  {
   "cell_type": "code",
   "execution_count": 104,
   "metadata": {},
   "outputs": [],
   "source": [
    "levelFolder = Path(\"levels/\")\n",
    "levelsDownloaded = [f for f in listdir(levelFolder) if isfile(join(levelFolder, f))]\n",
    "decryptLevelFilteredFolder = Path(\"levels/filtered/\")\n",
    "levelsDecrypted = [f for f in listdir(decryptLevelFilteredFolder) if isfile(join(decryptLevelFilteredFolder, f))]"
   ]
  },
  {
   "cell_type": "code",
   "execution_count": 105,
   "metadata": {},
   "outputs": [],
   "source": [
    "marioMakerLevels = []"
   ]
  },
  {
   "cell_type": "code",
   "execution_count": 106,
   "metadata": {},
   "outputs": [],
   "source": [
    "levelsToLoad = levelsDecrypted[:] if levelsDecrypted else levelsFiltered[:] if levelsFiltered else levelsDownloaded[:]"
   ]
  },
  {
   "cell_type": "code",
   "execution_count": 107,
   "metadata": {},
   "outputs": [
    {
     "name": "stderr",
     "output_type": "stream",
     "text": [
      "100%|██████████████████████████████████████████████████████████████████████████| 13894/13894 [00:01<00:00, 7260.14it/s]\n"
     ]
    }
   ],
   "source": [
    "levelsFiltered = []\n",
    "levelsSet = set()\n",
    "for levelName in tqdm(levelsToLoad):\n",
    "    if not levelsDecrypted:\n",
    "        filePath = join(levelFolder, levelName)\n",
    "        if levelName[-4:] == '.zip':\n",
    "            archive = zipfile.ZipFile(filePath, 'r')\n",
    "            leveldata = archive.read('course_data_000.bcd')\n",
    "            archive.close()\n",
    "            with open('tools/tmp/course_data_000.bcd', 'wb') as f:\n",
    "                f.write(leveldata)\n",
    "        else:\n",
    "            archive = tarfile.open(filePath, 'r')\n",
    "            archive.extract('course_data_000.bcd', path=\"tools/tmp/\")\n",
    "            archive.close()\n",
    "        !.\\tools\\smm2dec.exe -h .\\tools\\tmp\\course_data_000.bcd .\\tools\\tmp\\course_data_dec.bcd >nul 2>&1\n",
    "        with open('tools/tmp/course_data_dec.bcd', 'rb') as f:\n",
    "            leveldata = f.read()\n",
    "    else:\n",
    "        filePath = join(decryptLevelFilteredFolder ,levelName)\n",
    "        with open(filePath, 'rb') as f:\n",
    "            leveldata = f.read()\n",
    "    level = MarioMaker2File(leveldata)\n",
    "    if level.header.gameStyle.decode(\"utf-8\") == '3W\\x00':\n",
    "        continue\n",
    "    if level.header.creationID in levelsSet:\n",
    "        os.remove(filePath)\n",
    "        continue\n",
    "    levelsSet.add(level.header.creationID)\n",
    "    marioMakerLevels.append(level)\n",
    "    levelsFiltered.append(levelName)\n",
    "    if not levelsDecrypted:\n",
    "        with open(join(decryptLevelFilteredFolder, levelName[:-4] + '.bcd'), 'wb') as f:\n",
    "            f.write(leveldata)"
   ]
  },
  {
   "cell_type": "code",
   "execution_count": 121,
   "metadata": {},
   "outputs": [],
   "source": [
    "pathNewLevels = Path(\"newLevels/\")"
   ]
  },
  {
   "cell_type": "code",
   "execution_count": 123,
   "metadata": {},
   "outputs": [],
   "source": [
    "newLevelsFile = [f for f in listdir(pathNewLevels) if isfile(join(pathNewLevels, f))]"
   ]
  },
  {
   "cell_type": "code",
   "execution_count": 124,
   "metadata": {},
   "outputs": [
    {
     "name": "stderr",
     "output_type": "stream",
     "text": [
      "100%|████████████████████████████████████████████████████████████████████████████████| 120/120 [00:08<00:00, 14.28it/s]\n"
     ]
    }
   ],
   "source": [
    "for nl in tqdm(newLevelsFile):\n",
    "    filePath = join(pathNewLevels, nl)\n",
    "    !.\\tools\\smm2dec.exe -h $filePath .\\tools\\tmp\\course_data_dec.bcd >nul 2>&1\n",
    "    with open('tools/tmp/course_data_dec.bcd', 'rb') as f:\n",
    "        leveldata = f.read()\n",
    "    level = MarioMaker2File(leveldata)\n",
    "    if level.header.gameStyle.decode(\"utf-8\") == '3W\\x00':\n",
    "        continue\n",
    "    if level.header.creationID in levelsSet:\n",
    "        os.remove(filePath)\n",
    "        continue\n",
    "    levelsSet.add(level.header.creationID)\n",
    "    levelName = level.header.courseName.decode(\"utf-16\")\n",
    "    lastchar = levelName.find('\\x00')\n",
    "    levelName = levelName[:lastchar]\n",
    "    if levelName == '':\n",
    "        levelName = str(level.header.creationID)\n",
    "    with open(join(decryptLevelFilteredFolder, levelName + '.bcd'), 'wb') as f:\n",
    "            f.write(leveldata)"
   ]
  },
  {
   "cell_type": "code",
   "execution_count": 125,
   "metadata": {},
   "outputs": [
    {
     "data": {
      "text/plain": [
       "13972"
      ]
     },
     "execution_count": 125,
     "metadata": {},
     "output_type": "execute_result"
    }
   ],
   "source": [
    "len(levelsSet)"
   ]
  },
  {
   "cell_type": "code",
   "execution_count": null,
   "metadata": {},
   "outputs": [],
   "source": []
  }
 ],
 "metadata": {
  "kernelspec": {
   "display_name": "Python 3",
   "language": "python",
   "name": "python3"
  },
  "language_info": {
   "codemirror_mode": {
    "name": "ipython",
    "version": 3
   },
   "file_extension": ".py",
   "mimetype": "text/x-python",
   "name": "python",
   "nbconvert_exporter": "python",
   "pygments_lexer": "ipython3",
   "version": "3.7.3"
  }
 },
 "nbformat": 4,
 "nbformat_minor": 2
}
