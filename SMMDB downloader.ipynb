{
 "cells": [
  {
   "cell_type": "code",
   "execution_count": 1,
   "metadata": {},
   "outputs": [],
   "source": [
    "import json\n",
    "from os import listdir\n",
    "from os.path import isfile, join\n",
    "from pathlib import Path\n",
    "import requests\n",
    "import urllib.request\n",
    "\n",
    "from tqdm import tqdm"
   ]
  },
  {
   "cell_type": "code",
   "execution_count": 2,
   "metadata": {},
   "outputs": [],
   "source": [
    "levelFolder = Path(\"levels/\")\n",
    "levelsDownloaded = set()"
   ]
  },
  {
   "cell_type": "code",
   "execution_count": 3,
   "metadata": {},
   "outputs": [],
   "source": [
    "onlyfiles = [f for f in listdir(levelFolder) if isfile(join(levelFolder, f))]\n",
    "levelsDownloaded = set(map(lambda x: x[0 : len(x) - 4], onlyfiles))"
   ]
  },
  {
   "cell_type": "code",
   "execution_count": 4,
   "metadata": {},
   "outputs": [],
   "source": [
    "def urlBuilder(url, chunk, current):\n",
    "    return url.format(chunk,current)"
   ]
  },
  {
   "cell_type": "code",
   "execution_count": 5,
   "metadata": {},
   "outputs": [],
   "source": [
    "def downloadLevelFile(idLevel):\n",
    "    urllib.request.urlretrieve(\"https://api.smmdb.net/courses2/download/{idl}\".format(idl = idLevel), join(levelFolder, idLevel + '.tar'))"
   ]
  },
  {
   "cell_type": "code",
   "execution_count": 6,
   "metadata": {},
   "outputs": [],
   "source": [
    "chunkDownload = 100\n",
    "currentDownloadPosition = 0\n",
    "baseUrl = \"https://api.smmdb.net/courses2?limit={:d}&skip={:d}\"\n",
    "urlToCall = urlBuilder(baseUrl, chunkDownload, currentDownloadPosition)"
   ]
  },
  {
   "cell_type": "code",
   "execution_count": 7,
   "metadata": {},
   "outputs": [],
   "source": [
    "finish = False\n",
    "while not finish:\n",
    "    r = requests.get(urlToCall)\n",
    "    levelsJson = json.loads(r.content)\n",
    "    levelsId = set(map(lambda x: x['id'], levelsJson))\n",
    "    levelsId -= levelsDownloaded #filtro di quelli già scaricati\n",
    "    [downloadLevelFile(idLevel) for idLevel in levelsId]\n",
    "    if len(levelsJson) < chunkDownload:\n",
    "        finish = True\n",
    "    else:\n",
    "        currentDownloadPosition += chunkDownload\n",
    "        urlToCall = urlBuilder(baseUrl, chunkDownload, currentDownloadPosition)\n",
    "        "
   ]
  }
 ],
 "metadata": {
  "kernelspec": {
   "display_name": "Python 3",
   "language": "python",
   "name": "python3"
  },
  "language_info": {
   "codemirror_mode": {
    "name": "ipython",
    "version": 3
   },
   "file_extension": ".py",
   "mimetype": "text/x-python",
   "name": "python",
   "nbconvert_exporter": "python",
   "pygments_lexer": "ipython3",
   "version": "3.7.3"
  }
 },
 "nbformat": 4,
 "nbformat_minor": 2
}
