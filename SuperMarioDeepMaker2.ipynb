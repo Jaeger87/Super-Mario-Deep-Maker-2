{
 "cells": [
  {
   "cell_type": "code",
   "execution_count": 1,
   "metadata": {},
   "outputs": [],
   "source": [
    "import zipfile\n",
    "import tarfile\n",
    "\n",
    "import os\n",
    "from os import listdir\n",
    "from os.path import isfile, join\n",
    "from pathlib import Path\n",
    "import csv\n",
    "\n",
    "import matplotlib.pyplot as plt\n",
    "\n",
    "from abc import ABC, abstractmethod\n",
    "\n",
    "import torch\n",
    "import numpy as np\n",
    "\n",
    "\n",
    "import random\n",
    "from tqdm import tqdm"
   ]
  },
  {
   "cell_type": "code",
   "execution_count": 2,
   "metadata": {},
   "outputs": [],
   "source": [
    "backGroundMinLayer = 8\n",
    "backGroundMaxLayer = 13\n",
    "layerSoundChild = 16\n",
    "layerOggettiInTubo = 18"
   ]
  },
  {
   "cell_type": "code",
   "execution_count": 3,
   "metadata": {},
   "outputs": [
    {
     "data": {
      "text/plain": [
       "tensor([[0., 0., 0., 0., 0.],\n",
       "        [0., 6., 6., 0., 0.],\n",
       "        [0., 0., 0., 0., 0.]])"
      ]
     },
     "execution_count": 3,
     "metadata": {},
     "output_type": "execute_result"
    }
   ],
   "source": [
    "asd = torch.zeros((3,5))\n",
    "\n",
    "asd[1][1:3] = 6\n",
    "\n",
    "#asd[0:2, 1:3] = 5\n",
    "#asd\n",
    "#torch.flip(asd, [-2])\n",
    "#asd[1:3, 3] = 4\n",
    "#asd[0][1:3] = 6\n",
    "asd"
   ]
  },
  {
   "cell_type": "code",
   "execution_count": 4,
   "metadata": {},
   "outputs": [
    {
     "data": {
      "text/plain": [
       "5"
      ]
     },
     "execution_count": 4,
     "metadata": {},
     "output_type": "execute_result"
    }
   ],
   "source": [
    "asd.size()[1]"
   ]
  },
  {
   "cell_type": "code",
   "execution_count": 5,
   "metadata": {},
   "outputs": [],
   "source": [
    "objectLayer = {}\n",
    "objectShape = {}\n",
    "with open('CorrispondenzeOggettiClasse.csv', mode='r') as f:\n",
    "    lines = f.readlines()\n",
    "    lines[0] = '0;0;0\\n'\n",
    "for line in lines:\n",
    "    keyValue = line.split(';')\n",
    "    objectLayer[int(keyValue[0])] = int(keyValue[1])\n",
    "    objectShape[int(keyValue[0])] = int(keyValue[2][:-1])"
   ]
  },
  {
   "cell_type": "code",
   "execution_count": 6,
   "metadata": {},
   "outputs": [],
   "source": [
    "def checkSameBytes(firstBytes, secondBytes):\n",
    "    for idx, b in enumerate(secondBytes):\n",
    "        if firstBytes[idx] != b:\n",
    "            return False\n",
    "    return True"
   ]
  },
  {
   "cell_type": "code",
   "execution_count": 7,
   "metadata": {},
   "outputs": [],
   "source": [
    "def instanceAllObjects(className, bytesArray, count, size):\n",
    "    instanceList = []\n",
    "    startByte = 0\n",
    "    constructor = globals()[className]\n",
    "    for o in range(0, count):\n",
    "        instance = constructor()\n",
    "        instance.fromBytes(bytesArray[startByte:startByte + size])\n",
    "        startByte += size\n",
    "        instanceList.append(instance)\n",
    "    return instanceList"
   ]
  },
  {
   "cell_type": "code",
   "execution_count": 8,
   "metadata": {},
   "outputs": [],
   "source": [
    "def addZeros(bytesArray, finalSize):\n",
    "    if(len(bytesArray) < finalSize):\n",
    "        missingBytes = finalSize - len(bytesArray)\n",
    "        zero = 0\n",
    "        zeroByte = zero.to_bytes(1, 'little')\n",
    "        bytesArray = bytesArray + (zeroByte * missingBytes)\n",
    "    return bytesArray  "
   ]
  },
  {
   "cell_type": "code",
   "execution_count": 9,
   "metadata": {},
   "outputs": [],
   "source": [
    "def fromListToBytes(objects, finalSize):\n",
    "    objectsBytes =  bytearray()\n",
    "    if len(objects) > 0:\n",
    "        objectsBytesLists = list(map(lambda o: o.toBytes(), objects))\n",
    "        objectsBytes = objectsBytesLists[0]\n",
    "        for ob in objectsBytesLists[1:]:\n",
    "            objectsBytes += ob\n",
    "    return addZeros(objectsBytes, finalSize)    \n",
    "    "
   ]
  },
  {
   "cell_type": "code",
   "execution_count": 10,
   "metadata": {},
   "outputs": [],
   "source": [
    "class ObjectBytes(ABC):\n",
    "    @abstractmethod\n",
    "    def toBytes(self):\n",
    "        pass\n",
    "    @abstractmethod\n",
    "    def fromBytes(self, objectBytes):\n",
    "        pass"
   ]
  },
  {
   "cell_type": "code",
   "execution_count": 11,
   "metadata": {},
   "outputs": [],
   "source": [
    "class GameObject(ObjectBytes):\n",
    "    \n",
    "    def fromBytes(self, objectBytes):\n",
    "        self.xPosition = int.from_bytes(objectBytes[:4],\"little\", signed = False)\n",
    "        self.yPosition = int.from_bytes(objectBytes[4:8],\"little\", signed = False)\n",
    "        self.xOriginalPosition = int.from_bytes(objectBytes[:4],\"little\", signed = False)\n",
    "        self.yOriginalPosition = int.from_bytes(objectBytes[4:8],\"little\", signed = False)        \n",
    "        self.middleTileX = True if (self.xPosition - 80) % 160 != 0 else False\n",
    "        self.xPosition = (self.xPosition - 80) // 160\n",
    "        self.middleTileY = True if (self.yPosition - 80) % 160 != 0 else False\n",
    "        self.yPosition = (self.yPosition - 80) // 160\n",
    "        self.padding = int.from_bytes(objectBytes[8:10],\"little\", signed = False)\n",
    "        self.objectWidth = objectBytes[10]\n",
    "        self.objectHeight = objectBytes[11]\n",
    "        self.objectFlags = int.from_bytes(objectBytes[12:16],\"little\", signed = False)\n",
    "        self.childObjectFlags = int.from_bytes(objectBytes[16:20],\"little\", signed = False)\n",
    "        self.extendedData = int.from_bytes(objectBytes[20:24],\"little\", signed = False)\n",
    "        self.objectType = int.from_bytes(objectBytes[24:26],\"little\", signed = False)\n",
    "        self.childObjectType = int.from_bytes(objectBytes[26:28],\"little\", signed = False)\n",
    "        self.linkID = int.from_bytes(objectBytes[28:30],\"little\", signed = False)\n",
    "        self.soundEffect = int.from_bytes(objectBytes[30:32],\"little\", signed = False)\n",
    "        self.layer = objectLayer[self.objectType] #MIO\n",
    "        self.flagsType = int.from_bytes(objectBytes[12:16] + objectBytes[24:26],\"little\", signed = False) #MIO\n",
    "        self.childFlagsType= int.from_bytes(objectBytes[16:20] + objectBytes[26:28],\"little\", signed = False) #MIO\n",
    "        self.shape = objectShape[self.objectType] #MIO\n",
    "        \n",
    "    def fromValues(self, xPosition, yPosition, objectWidth, objectHeight, objectFlags, objectType, childObjectFlags, childObjectType, soundEffect, extendedData = 0):\n",
    "        #Aggiungere gestione del middleTile\n",
    "        self.xPosition = xPosition\n",
    "        self.yPosition = yPosition\n",
    "        self.padding = 0\n",
    "        self.objectWidth = objectWidth\n",
    "        self.objectHeight = objectHeight\n",
    "        self.objectFlags = objectFlags\n",
    "        self.childObjectFlags = childObjectFlags\n",
    "        self.objectType = objectType\n",
    "        self.childObjectType = childObjectType\n",
    "        self.linkID = 0 #TODO capire che fa sto coso\n",
    "        self.extendedData = extendedData\n",
    "        self.soundEffect = soundEffect\n",
    "        \n",
    "    \n",
    "    def toBytes(self):\n",
    "        xPositionBytes = (self.xPosition * 160) + 80\n",
    "        yPositionBytes = (self.yPosition * 160) + 80\n",
    "        if self.middleTileX:\n",
    "            xPositionBytes +=80\n",
    "        if self.middleTileY:\n",
    "            yPositionBytes +=80\n",
    "        xBytes = xPositionBytes.to_bytes(4, 'little')\n",
    "        yBytes = yPositionBytes.to_bytes(4, 'little')\n",
    "        padding = self.padding.to_bytes(2, 'little')\n",
    "        width = self.objectWidth.to_bytes(1, 'little')\n",
    "        height = self.objectHeight.to_bytes(1, 'little')\n",
    "        flags = self.objectFlags.to_bytes(4, 'little')\n",
    "        childObjectFlags = self.childObjectFlags.to_bytes(4, 'little')\n",
    "        extendedData = self.extendedData.to_bytes(4, 'little')\n",
    "        objectType = self.objectType.to_bytes(2, 'little')\n",
    "        childObjectType = self.childObjectType.to_bytes(2, 'little')\n",
    "        linkID = self.linkID.to_bytes(2, 'little')\n",
    "        soundEffect = self.soundEffect.to_bytes(2, 'little')\n",
    "        return xBytes + yBytes + padding + width + height + flags + childObjectFlags + extendedData + objectType + childObjectType + linkID + soundEffect\n",
    "    \n",
    "    def __str__(self):\n",
    "        return 'Tipo:' + str(self.objectType) + '\\nPosizione:(' + str(self.xPosition) + ',' + str(self.yPosition) + ')' \\\n",
    "            + '\\nDimensioni:(' + str(self.objectWidth) + ',' + str(self.objectHeight) + ')' \\\n",
    "            + ('Ha figlio di tipo:' + str(self.childObjectType) if self.childObjectType != 65535 else 'non ha figlio') \\\n",
    "            + '\\nflags: ' + str(self.objectFlags)\\\n",
    "            + ' posizione originale:' + str(self.xOriginalPosition) + ' ' + str(self.yOriginalPosition)"
   ]
  },
  {
   "cell_type": "code",
   "execution_count": 12,
   "metadata": {},
   "outputs": [],
   "source": [
    "class FreestandingSoundEffect(ObjectBytes):\n",
    "    layer = 17\n",
    "    def fromBytes(self, soundBytes):\n",
    "        self.effectType = soundBytes[0]\n",
    "        self.xPosition = soundBytes[1]\n",
    "        self.yPosition = soundBytes[2]\n",
    "        self.padding = soundBytes[3]\n",
    "        \n",
    "    def fromValues(self,effectType, xPosition, yPosition):\n",
    "        self.effectType = effectType\n",
    "        self.xPosition = xPosition\n",
    "        self.yPosition = yPosition\n",
    "        self.padding = 0\n",
    "        \n",
    "    def toBytes(self):\n",
    "        effectType = self.effectType.to_bytes(1, 'little')\n",
    "        xPosition = self.xPosition.to_bytes(1, 'little')\n",
    "        yPosition = self.yPosition.to_bytes(1, 'little')\n",
    "        padding = self.padding.to_bytes(1, 'little')\n",
    "        return effectType + xPosition + yPosition + padding"
   ]
  },
  {
   "cell_type": "code",
   "execution_count": 13,
   "metadata": {},
   "outputs": [],
   "source": [
    "class SnakeNode(ObjectBytes):\n",
    "    objectID = 127\n",
    "    layer = 1\n",
    "    def fromBytes(self, snakeNodeBytes):\n",
    "        self.index = int.from_bytes(snakeNodeBytes[:2],\"little\", signed = False) #parte da zero\n",
    "        self.direction = int.from_bytes(snakeNodeBytes[2:4],\"little\", signed = False)\n",
    "        self.always100 = int.from_bytes(snakeNodeBytes[4:6],\"little\", signed = False)\n",
    "        self.padding = int.from_bytes(snakeNodeBytes[6:8],\"little\", signed = False) \n",
    "        self.directionSnake = int.from_bytes(self.direction.to_bytes(4, 'little') + SnakeNode.objectID.to_bytes(2, 'little'),\"little\", signed = False)  #lunghezza 6 come per gli oggetti normali\n",
    "    \n",
    "    def fromValues(index, direction):\n",
    "        self.index = index\n",
    "        self.direction = direction\n",
    "        self.always100 = 100\n",
    "        self.padding = 0 \n",
    "        \n",
    "    \n",
    "    def toBytes(self):\n",
    "        index = self.index.to_bytes(2, 'little')\n",
    "        direction = self.direction.to_bytes(2, 'little')\n",
    "        always100 = self.always100.to_bytes(2, 'little')\n",
    "        padding = self.padding.to_bytes(2, 'little')\n",
    "        return index + direction + always100 + padding"
   ]
  },
  {
   "cell_type": "code",
   "execution_count": 14,
   "metadata": {},
   "outputs": [],
   "source": [
    "class SnakeBlockTrack(ObjectBytes):\n",
    "    objectID = 84\n",
    "    layer = 1\n",
    "    def fromBytes(self, snakeBytes):\n",
    "        self.linkID = snakeBytes[0] #sarà 0 1 2 3 4?\n",
    "        self.nodeCount = snakeBytes[1]\n",
    "        self.always1 = snakeBytes[2]\n",
    "        self.padding = snakeBytes[3]\n",
    "        self.snakeNodes = instanceAllObjects('SnakeNode', snakeBytes[4:], self.nodeCount, 8)\n",
    "        \n",
    "    def fromValues(self,linkID, snakeNodes):\n",
    "        self.linkID = linkID\n",
    "        self.snakeNodes = snakeNodes\n",
    "        self.nodeCount = len(snakeNodes)\n",
    "        self.always1 = 1\n",
    "        self.padding = 0\n",
    "        \n",
    "    def toBytes(self):\n",
    "        linkID = self.linkID.to_bytes(1, 'little')\n",
    "        nodeCount = self.nodeCount.to_bytes(1, 'little')\n",
    "        always1 = self.always1.to_bytes(1, 'little')\n",
    "        padding = self.padding.to_bytes(1, 'little')\n",
    "        snakeNodes = fromListToBytes(self.snakeNodes, 960)\n",
    "        return linkID + nodeCount + always1 + padding + snakeNodes  "
   ]
  },
  {
   "cell_type": "code",
   "execution_count": 15,
   "metadata": {},
   "outputs": [],
   "source": [
    "class ClearPipeNode(ObjectBytes):\n",
    "    def fromBytes(self, clearPipeNodesBytes):\n",
    "        self.unknownDirection = clearPipeNodesBytes[0]\n",
    "        self.index = clearPipeNodesBytes[1]\n",
    "        self.unKnowCoordinates = clearPipeNodesBytes[2]\n",
    "        self.unKnowCoordinates2 = clearPipeNodesBytes[3]\n",
    "        self.always2 = clearPipeNodesBytes[4]\n",
    "        self.unknown = clearPipeNodesBytes[5] \n",
    "        self.always1 = clearPipeNodesBytes[6]\n",
    "        self.unknown0123 = clearPipeNodesBytes[7]\n",
    "        \n",
    "    def toBytes(self):\n",
    "        unknownDirection = self.unknownDirection.to_bytes(1, 'little')\n",
    "        index = self.index.to_bytes(1, 'little')\n",
    "        unKnowCoordinates = self.unKnowCoordinates.to_bytes(1, 'little')\n",
    "        unKnowCoordinates2 = self.unKnowCoordinates2.to_bytes(1, 'little')\n",
    "        always2 = self.always2.to_bytes(1, 'little')\n",
    "        unknown = self.unknown.to_bytes(1, 'little')\n",
    "        always1 = self.always1.to_bytes(1, 'little')\n",
    "        unknown0123 = self.unknown0123.to_bytes(1, 'little')\n",
    "        return unknownDirection + index + unKnowCoordinates + unKnowCoordinates2 + always2 + unknown + always1 + unknown0123"
   ]
  },
  {
   "cell_type": "code",
   "execution_count": 16,
   "metadata": {},
   "outputs": [],
   "source": [
    "class ClearPipe(ObjectBytes):\n",
    "    def fromBytes(self, clearPipeBytes):\n",
    "        self.linkID = clearPipeBytes[0]\n",
    "        self.nodeCount = clearPipeBytes[1]\n",
    "        self.always1 = clearPipeBytes[2]\n",
    "        self.padding = clearPipeBytes[3]\n",
    "        self.clearPipeNodes = instanceAllObjects('ClearPipeNode', clearPipeBytes[4:], self.nodeCount, 8)\n",
    "        \n",
    "    def toBytes(self):\n",
    "        linkID = self.linkID.to_bytes(1, 'little')\n",
    "        nodeCount = self.nodeCount.to_bytes(1, 'little')\n",
    "        always1 = self.always1.to_bytes(1, 'little')\n",
    "        padding = self.padding.to_bytes(1, 'little')\n",
    "        clearPipeNodes = fromListToBytes(self.clearPipeNodes, 288)\n",
    "        return linkID + nodeCount + always1 + padding + clearPipeNodes  "
   ]
  },
  {
   "cell_type": "code",
   "execution_count": 17,
   "metadata": {},
   "outputs": [],
   "source": [
    "class PiranhaCreeperNode(ObjectBytes):\n",
    "    def fromBytes(self, piranhaCreeperNodeBytes):\n",
    "        self.always1 = piranhaCreeperNodeBytes[0] \n",
    "        self.direction = piranhaCreeperNodeBytes[1]\n",
    "        self.always0_1 = piranhaCreeperNodeBytes[2]\n",
    "        self.always0_2 = piranhaCreeperNodeBytes[3]\n",
    "        \n",
    "    def toBytes(self):\n",
    "        always1 = self.always1.to_bytes(1, 'little')\n",
    "        direction = self.direction.to_bytes(1, 'little')\n",
    "        always0_1 = self.always0_1.to_bytes(1, 'little')\n",
    "        always0_2 = self.always0_2.to_bytes(1, 'little')\n",
    "        return always1 + direction + always0_1 + always0_2"
   ]
  },
  {
   "cell_type": "code",
   "execution_count": 18,
   "metadata": {},
   "outputs": [],
   "source": [
    "class PiranhaCreeperTrack(ObjectBytes):\n",
    "    def fromBytes(self, piranhaCreeperTrackBytes):\n",
    "        self.always1 = piranhaCreeperTrackBytes[0] \n",
    "        self.linkID = piranhaCreeperTrackBytes[1]\n",
    "        self.nodeCount = piranhaCreeperTrackBytes[2]\n",
    "        self.padding = piranhaCreeperTrackBytes[3]\n",
    "        self.piranhaCreeperNodes = instanceAllObjects('PiranhaCreeperNode', piranhaCreeperTrackBytes[4:], self.nodeCount, 4)\n",
    "        \n",
    "    def toBytes(self):\n",
    "        always1 = self.always1.to_bytes(1, 'little')\n",
    "        linkID = self.linkID.to_bytes(1, 'little')\n",
    "        nodeCount = self.nodeCount.to_bytes(1, 'little')\n",
    "        padding = self.padding.to_bytes(1, 'little')\n",
    "        piranhaCreeperNodes = fromListToBytes(self.piranhaCreeperNodes, 80)\n",
    "        return always1 + linkID + nodeCount + padding + piranhaCreeperNodes  "
   ]
  },
  {
   "cell_type": "code",
   "execution_count": 19,
   "metadata": {},
   "outputs": [],
   "source": [
    "class ExpandingBlockNode(ObjectBytes):\n",
    "    def fromBytes(self, expandingBlockNodeBytes):\n",
    "        self.always1 = expandingBlockNodeBytes[0] \n",
    "        self.direction = expandingBlockNodeBytes[1]\n",
    "        self.padding = expandingBlockNodeBytes[2:4] \n",
    "        \n",
    "    def toBytes(self):\n",
    "        always1 = self.always1.to_bytes(1, 'little')\n",
    "        direction = self.direction.to_bytes(1, 'little')\n",
    "        return always1 + direction + self.padding  "
   ]
  },
  {
   "cell_type": "code",
   "execution_count": 20,
   "metadata": {},
   "outputs": [],
   "source": [
    "class ExpandingBlockTrack(ObjectBytes):\n",
    "    def fromBytes(self, expandingBlockTrackBytes):\n",
    "        self.always1 = expandingBlockTrackBytes[0] \n",
    "        self.linkID = expandingBlockTrackBytes[1]\n",
    "        self.nodeCount = expandingBlockTrackBytes[2]\n",
    "        self.padding = expandingBlockTrackBytes[3]    \n",
    "        self.expandingBlockNodes = instanceAllObjects('ExpandingBlockNode', expandingBlockTrackBytes[4:], self.nodeCount, 4)\n",
    "        \n",
    "    def toBytes(self):\n",
    "        always1 = self.always1.to_bytes(1, 'little')\n",
    "        linkID = self.linkID.to_bytes(1, 'little')\n",
    "        nodeCount = self.nodeCount.to_bytes(1, 'little')\n",
    "        padding = self.padding.to_bytes(1, 'little')\n",
    "        expandingBlockNodes = fromListToBytes(self.expandingBlockNodes, 40)\n",
    "        return always1 + linkID + nodeCount + padding + expandingBlockNodes      "
   ]
  },
  {
   "cell_type": "code",
   "execution_count": 21,
   "metadata": {},
   "outputs": [],
   "source": [
    "class TrackBlockNode(ObjectBytes):\n",
    "    def fromBytes(self, trackBlockNodeBytes):\n",
    "        self.always1 = trackBlockNodeBytes[0]\n",
    "        self.direction = trackBlockNodeBytes[1]\n",
    "        self.padding = trackBlockNodeBytes[2:4]\n",
    "        \n",
    "    def toBytes(self):\n",
    "        always1 = self.always1.to_bytes(1, 'little')\n",
    "        direction = self.direction.to_bytes(1, 'little')\n",
    "        return always1 + direction + self.padding "
   ]
  },
  {
   "cell_type": "code",
   "execution_count": 22,
   "metadata": {},
   "outputs": [],
   "source": [
    "class TrackBlockTrack(ObjectBytes):\n",
    "    def fromBytes(self, trackBlockTrackBytes):\n",
    "        self.always1 = trackBlockTrackBytes[0] \n",
    "        self.linkID = trackBlockTrackBytes[1]\n",
    "        self.nodeCount = trackBlockTrackBytes[2]\n",
    "        self.padding = trackBlockTrackBytes[3]  \n",
    "        self.trackBlockNodes = instanceAllObjects('TrackBlockNode', trackBlockTrackBytes[4:], self.nodeCount, 4)\n",
    "        \n",
    "    def toBytes(self):\n",
    "        always1 = self.always1.to_bytes(1, 'little')\n",
    "        linkID = self.linkID.to_bytes(1, 'little')\n",
    "        nodeCount = self.nodeCount.to_bytes(1, 'little')\n",
    "        padding = self.padding.to_bytes(1, 'little')\n",
    "        trackBlockNodes = fromListToBytes(self.trackBlockNodes, 40)\n",
    "        return always1 + linkID + nodeCount + padding + trackBlockNodes  "
   ]
  },
  {
   "cell_type": "code",
   "execution_count": 23,
   "metadata": {},
   "outputs": [],
   "source": [
    "class Tile(ObjectBytes):\n",
    "    def fromBytes(self, tileBytes):\n",
    "        self.xPosition = tileBytes[0]\n",
    "        self.yPosition = tileBytes[1]\n",
    "        self.tileID = tileBytes[2] \n",
    "        self.backgroundObjectID = tileBytes[3]\n",
    "        \n",
    "    def fromValues(xPosition, yPosition, tileID):\n",
    "        self.xPosition = xPosition\n",
    "        self.yPosition = yPosition\n",
    "        self.tileID = tileID \n",
    "        self.backgroundObjectID = 0\n",
    "        \n",
    "    def toBytes(self):\n",
    "        xPosition = self.xPosition.to_bytes(1, 'little')\n",
    "        yPosition = self.yPosition.to_bytes(1, 'little')\n",
    "        tileID = self.tileID.to_bytes(1, 'little')\n",
    "        backgroundObjectID = self.backgroundObjectID.to_bytes(1, 'little')\n",
    "        return xPosition + yPosition + tileID + backgroundObjectID\n",
    "    \n",
    "    def __str__(self):\n",
    "        return str(self.xPosition) + ' ' + str(self.yPosition) + ' ' + str(self.tileID) + ' ' + str(self.backgroundObjectID) "
   ]
  },
  {
   "cell_type": "code",
   "execution_count": 24,
   "metadata": {},
   "outputs": [],
   "source": [
    "class Rail(ObjectBytes):\n",
    "    layer = 7\n",
    "    typeObject = 59\n",
    "    def fromBytes(self, railBytes):\n",
    "        self.padding = int.from_bytes(railBytes[:2],\"little\", signed = False) \n",
    "        self.hasObject = railBytes[2]\n",
    "        self.xPosition = railBytes[3]\n",
    "        self.yPosition = railBytes[4]\n",
    "        self.trackType = railBytes[5]\n",
    "        self.index = int.from_bytes(railBytes[6:8],\"little\", signed = False) \n",
    "        self.unknown2 = int.from_bytes(railBytes[8:10],\"little\", signed = False) \n",
    "        self.unknown3 = int.from_bytes(railBytes[10:12],\"little\", signed = False) \n",
    "        self.railDirection = int.from_bytes(self.trackType.to_bytes(4, 'little') + Rail.typeObject.to_bytes(2, 'little'),\"little\", signed = False)  #lunghezza 6 come per gli oggetti normali\n",
    "    \n",
    "    def fromValues(hasObject, xPosition, yPosition, trackType, index, railDirection):\n",
    "        self.padding = int.from_bytes(railBytes[:2],\"little\", signed = False) \n",
    "        self.hasObject = railBytes[2]\n",
    "        self.xPosition = railBytes[3]\n",
    "        self.yPosition = railBytes[4]\n",
    "        self.trackType = railBytes[5]\n",
    "        self.index = int.from_bytes(railBytes[6:8],\"little\", signed = False) \n",
    "        self.unknown2 = int.from_bytes(railBytes[8:10],\"little\", signed = False) \n",
    "        self.unknown3 = int.from_bytes(railBytes[10:12],\"little\", signed = False) \n",
    "        self.railDirection = int.from_bytes(self.trackType.to_bytes(4, 'little') + Rail.typeObject.to_bytes(2, 'little'),\"little\", signed = False)  #lunghezza 6 come per gli oggetti normali\n",
    "    \n",
    "    \n",
    "    def toBytes(self):\n",
    "        padding = self.padding.to_bytes(2, 'little')\n",
    "        hasObject = self.hasObject.to_bytes(1, 'little')\n",
    "        xPosition = self.xPosition.to_bytes(1, 'little')\n",
    "        yPosition = self.yPosition.to_bytes(1, 'little')\n",
    "        trackType = self.trackType.to_bytes(1, 'little')\n",
    "        index = self.index.to_bytes(2, 'little')\n",
    "        unknown2 = self.unknown2.to_bytes(2, 'little')\n",
    "        unknown3 = self.unknown3.to_bytes(2, 'little')\n",
    "        return padding + hasObject + xPosition + yPosition + trackType + index + unknown2 + unknown3"
   ]
  },
  {
   "cell_type": "code",
   "execution_count": 25,
   "metadata": {},
   "outputs": [],
   "source": [
    "class Icicle(ObjectBytes):\n",
    "    typeObject = 118\n",
    "    def fromBytes(self, icicleBytes):\n",
    "        self.xPosition = icicleBytes[0]\n",
    "        self.yPosition = icicleBytes[1]\n",
    "        self.typeIcicle = icicleBytes[2]\n",
    "        self.padding = icicleBytes[3]\n",
    "        self.typeForMatrix =  int.from_bytes(self.typeIcicle.to_bytes(4, 'little') + Icicle.typeObject.to_bytes(2, 'little'),\"little\", signed = False)  #lunghezza 6 come per gli oggetti normali\n",
    "        \n",
    "    def fromValues(xPosition, yPosition, typeIcicle):\n",
    "        self.xPosition = xPosition\n",
    "        self.yPosition = yPosition\n",
    "        self.tileID = tileID \n",
    "        self.padding = 0\n",
    "            \n",
    "    def toBytes(self):\n",
    "        xPosition = self.xPosition.to_bytes(1, 'little')\n",
    "        yPosition = self.yPosition.to_bytes(1, 'little')\n",
    "        typeIcicle = self.typeIcicle.to_bytes(1, 'little')\n",
    "        padding = self.padding.to_bytes(1, 'little')\n",
    "        return xPosition + yPosition + typeIcicle + padding"
   ]
  },
  {
   "cell_type": "code",
   "execution_count": 26,
   "metadata": {},
   "outputs": [],
   "source": [
    "def buildRail(matrix, x,y, rails = [], loop = False):  #ABBANDONATE LE TRACK\n",
    "    cellValue = matrix[Rail.layer][y][x] = 0\n",
    "    arrayValues = cellValue.to_bytes(6, 'little')\n",
    "    typeObject = int.from_bytes(arrayValues[5:],\"little\", signed = False)\n",
    "    direction = int.from_bytes(arrayValues[:4],\"little\", signed = False)\n",
    "       \n",
    "    "
   ]
  },
  {
   "cell_type": "code",
   "execution_count": 27,
   "metadata": {},
   "outputs": [],
   "source": [
    "def buildSnake(matrix, xPosition, yPosition, snakes, objects):\n",
    "    matrix[SnakeBlockTrack.layer][yPosition][xPosition:xPosition + 5] = 0 \n",
    "    soundEffect = matrix[layerSoundChild][yPosition][xPosition]\n",
    "    matrix[layerSoundChild][yPosition][xPosition] = 0\n",
    "    extendedData = len(snakes) + 100 #todo controllare\n",
    "    snakeObject = GameObject()\n",
    "    snakeObject.fromValues(xPosition, yPosition, 5, 1, 100663360, 84, 0, 65535, soundEffect, extendedData)\n",
    "    objects.append(snakeObject)\n",
    "    \n",
    "    xNode = xPosition + 5\n",
    "    yNode = yPosition\n",
    "    snakeNodes = []\n",
    "    index = 0\n",
    "    while(True):\n",
    "        nodeCell = matrix[SnakeBlockTrack.layer][yNode][xNode]\n",
    "        matrix[SnakeBlockTrack.layer][yNode][xNode] = 0\n",
    "        \n",
    "        arrayValues = nodeCell.to_bytes(6, 'little')\n",
    "        direction = int.from_bytes(arrayValues[:4],\"little\", signed = False)\n",
    "        nodeAssertion = int.from_bytes(arrayValues[5:],\"little\", signed = False)\n",
    "        \n",
    "        assert nodeAssertion != SnakeNode.objectID\n",
    "        \n",
    "        node = SnakeNode()\n",
    "        node.fromValues(index, direction)\n",
    "        index += 1\n",
    "        if direction > 12: \n",
    "            break\n",
    "        \n",
    "        if node.direction == 1 or node.direction == 6 or node.direction == 8:#LEFT\n",
    "            xNode -= 1\n",
    "            continue\n",
    "        if node.direction == 2 or node.direction == 10 or node.direction == 12:#RIGHT\n",
    "            xNode += 1\n",
    "            continue\n",
    "        if node.direction == 3 or node.direction == 5 or node.direction == 9:   #DOWN\n",
    "            yNode -= 1\n",
    "            continue\n",
    "        if node.direction == 4 or node.direction == 7 or node.direction == 11:#UP\n",
    "            yNode += 1\n",
    "            continue\n",
    "    \n",
    "     "
   ]
  },
  {
   "cell_type": "code",
   "execution_count": 176,
   "metadata": {
    "code_folding": []
   },
   "outputs": [],
   "source": [
    "class LevelArea(ObjectBytes):\n",
    "    \n",
    "    #def __init__(self):\n",
    "    \n",
    "    def fromBytes(self, levelBytes, isMain, startY = 0, endY = 0):\n",
    "        self.isMain = isMain\n",
    "        if isMain:\n",
    "            self.startY = startY\n",
    "            self.endY = endY\n",
    "        self.courseTheme = levelBytes[0]\n",
    "        self.autoScrollType = levelBytes[1]\n",
    "        self.screenBoundaryFlags = levelBytes[2]\n",
    "        self.levelHorientation = levelBytes[3]\n",
    "        self.lavaWaterHeight = levelBytes[4]\n",
    "        self.lavaWaterMode = levelBytes[5]\n",
    "        self.lavaWaterSpeed = levelBytes[6]\n",
    "        self.minimunLavaWaterHeight = levelBytes[7]\n",
    "        self.rightBoundary = int.from_bytes(levelBytes[8:12],\"little\", signed = False) // 16\n",
    "        self.topBoundary = int.from_bytes(levelBytes[12:16],\"little\", signed = False) // 16\n",
    "        self.leftBoundary = int.from_bytes(levelBytes[16:20],\"little\", signed = False) // 16\n",
    "        self.bottomBoundary = int.from_bytes(levelBytes[20:24],\"little\", signed = False) // 16\n",
    "        self.areaFlags = int.from_bytes(levelBytes[24:28],\"little\", signed = False)\n",
    "        self.objectCount = int.from_bytes(levelBytes[28:32],\"little\", signed = False)\n",
    "        self.freeStandingSoundEffectCount = int.from_bytes(levelBytes[32:36],\"little\", signed = False)\n",
    "        self.snakeBlockCount = int.from_bytes(levelBytes[36:40],\"little\", signed = False)\n",
    "        self.clearPipeCount = int.from_bytes(levelBytes[40:44],\"little\", signed = False)\n",
    "        self.piranhaCreeperCount = int.from_bytes(levelBytes[44:48],\"little\", signed = False)\n",
    "        self.expandingBlockCount = int.from_bytes(levelBytes[48:52],\"little\", signed = False)\n",
    "        self.trackBlockCount = int.from_bytes(levelBytes[52:56],\"little\", signed = False)\n",
    "        self.alwaysZero = int.from_bytes(levelBytes[56:60],\"little\", signed = False)\n",
    "        self.tileCount = int.from_bytes(levelBytes[60:64],\"little\", signed = False)\n",
    "        self.railCount = int.from_bytes(levelBytes[64:68],\"little\", signed = False)\n",
    "        self.icicleCount = int.from_bytes(levelBytes[68:72],\"little\", signed = False)\n",
    "        \n",
    "        \n",
    "        \n",
    "        objectsBytes = levelBytes[72:83272]\n",
    "        self.objects = instanceAllObjects('GameObject', objectsBytes, self.objectCount, 32)\n",
    "        \n",
    "        \n",
    "        soundEffectsBytes = levelBytes[83272:84472]\n",
    "        self.soundEffects = instanceAllObjects('FreestandingSoundEffect', soundEffectsBytes, self.freeStandingSoundEffectCount, 4)\n",
    "        \n",
    "        \n",
    "        snakesBytes = levelBytes[84472:89292]\n",
    "        self.snakes = instanceAllObjects('SnakeBlockTrack', snakesBytes, 5, 964)\n",
    "        \n",
    "        \n",
    "        clearPipeBytes = levelBytes[89292:147692]\n",
    "        self.clearPipes = instanceAllObjects('ClearPipe', clearPipeBytes, self.clearPipeCount, 292)\n",
    "        \n",
    "        creeperBytes = levelBytes[147692:148532]\n",
    "        self.creepers = instanceAllObjects('PiranhaCreeperTrack', creeperBytes, self.piranhaCreeperCount, 84)\n",
    "        \n",
    "        expandingBlockBytes = levelBytes[148532:148972]\n",
    "        self.expandingBlocks = instanceAllObjects('ExpandingBlockTrack', expandingBlockBytes, self.expandingBlockCount, 44)\n",
    "        \n",
    "        trackBlockBytes = levelBytes[148972:149412]\n",
    "        self.trackBlocks = instanceAllObjects('TrackBlockTrack', trackBlockBytes, self.trackBlockCount, 44)\n",
    "        \n",
    "        tilesBytes = levelBytes[149412:165412]\n",
    "        self.tiles = instanceAllObjects('Tile', tilesBytes, self.tileCount, 4)\n",
    "        \n",
    "        railBytes = levelBytes[165412:183412]\n",
    "        self.rails = instanceAllObjects('Rail', railBytes, self.railCount, 12)\n",
    "        \n",
    "        iCicleBytes = levelBytes[183412:184612]\n",
    "        self.icicles = instanceAllObjects('Icicle', iCicleBytes, self.icicleCount, 4)\n",
    "    \n",
    "    \n",
    "    def fromMatrix(self, matrix):  \n",
    "        self.objects = []\n",
    "        self.soundEffects = []\n",
    "        self.snakes = []\n",
    "        self.clearPipes = []\n",
    "        self.creepers = []\n",
    "        self.expandingBlocks = []\n",
    "        self.expandingBlocks = []\n",
    "        self.trackBlocks = []\n",
    "        self.tiles = []\n",
    "        self.rails = []\n",
    "        self.icicles = []\n",
    "        \n",
    "        tileID = 0\n",
    "        for layer in range(0, matrix.size()[0]):\n",
    "            for y in range(0, matrix.size()[1]):\n",
    "                for x in range(0, matrix.size()[2]): \n",
    "                    cellValue = matrix[layer][y][x]\n",
    "                    if cellValue == 0:\n",
    "                        continue\n",
    "                    if cellValue == 7:\n",
    "                        matrix[layer][y][x] = 0\n",
    "                        terrain = Tile()\n",
    "                        terrain.fromValues(x, y, tileID)\n",
    "                        tileID += 1\n",
    "                        continue\n",
    "                        \n",
    "                    \n",
    "                        \n",
    "                    if layer == FreestandingSoundEffect.layer:\n",
    "                        matrix[layer][y][x] = 0\n",
    "                        freeSound = FreestandingSoundEffect()\n",
    "                        freeSound.fromValues(cellValue, x, y)\n",
    "                        self.soundEffects.append(freeSound)\n",
    "                        continue\n",
    "                       \n",
    "                \n",
    "                    arrayValues = cellValue.to_bytes(6, 'little')\n",
    "                    flags = int.from_bytes(arrayValues[:4],\"little\", signed = False)\n",
    "                    typeObject = int.from_bytes(arrayValues[5:],\"little\", signed = False)\n",
    "                    \n",
    "                    \n",
    "                    if typeObject == SnakeNode.objectID:\n",
    "                        continue\n",
    "                    \n",
    "                    if typeObject == SnakeBlockTrack.objectID:\n",
    "                        buildSnake(matrix, x, y, snakes, objects)\n",
    "                        continue\n",
    "                    \n",
    "                    if typeObject == Icicle.typeObject:\n",
    "                        matrix[layer][y][x] = 0\n",
    "                        matrix[layer][y + 1][x] = 0\n",
    "                        iCicle = Icicle()\n",
    "                        iCicle.fromValues(x,y, int.from_bytes(arrayValues[:4],\"little\", signed = False))\n",
    "                        self.icicles.append(iCicle)\n",
    "                        continue\n",
    "                        \n",
    "                    \n",
    "                        \n",
    "                    \n",
    "                    \n",
    "    \n",
    "    def calculateLayerBackground(self, matrix, objectMM, layer = -1):\n",
    "        layer = layer if layer != -1 else objectMM.layer\n",
    "        if layer < backGroundMinLayer or layer > backGroundMaxLayer:\n",
    "            return layer\n",
    "        error = False\n",
    "        if objectMM.shape == 0:\n",
    "            for i in range (0,objectMM.objectWidth):\n",
    "                for j in range (0,objectMM.objectHeight):\n",
    "                    if matrix[layer][objectMM.yPosition + j][objectMM.xPosition + i] != 0:\n",
    "                        return self.calculateLayerBackground(matrix, objectMM, layer + 1)\n",
    "        else:\n",
    "            for i in range (0,objectMM.objectWidth):\n",
    "                if matrix[layer][objectMM.yPosition + objectMM.objectHeight - 1][objectMM.xPosition + i] != 0:\n",
    "                    return self.calculateLayerBackground(matrix, objectMM, layer + 1)\n",
    "            mediumPoint = objectMM.xPosition + (objectMM.objectWidth // 2)\n",
    "            if objectMM.objectWidth % 2 == 0:\n",
    "                for i in range (1, objectMM.objectHeight):\n",
    "                    if matrix[layer][objectMM.yPosition + i][mediumPoint] != 0 or matrix[layer][objectMM.yPosition + i][mediumPoint + 1] != 0:\n",
    "                        return self.calculateLayerBackground(matrix, objectMM, layer + 1)\n",
    "            else:\n",
    "                for i in range (1, objectMM.objectHeight):\n",
    "                    if matrix[layer][objectMM.yPosition + i][mediumPoint] != 0:\n",
    "                        return self.calculateLayerBackground(matrix, objectMM, layer + 1)\n",
    "        return layer\n",
    "    \n",
    "    def toPytorchMatrix(self):\n",
    "        if self.isMain:\n",
    "            matrix = torch.zeros((19,27,255),dtype=torch.int64)\n",
    "            matrix[0][:self.startY, :5]  = 37 #Blocchi start\n",
    "            matrix[0][:self.endY, self.rightBoundary - 10 : self.rightBoundary] = 37 #blocchi end\n",
    "\n",
    "        else:\n",
    "            matrix = torch.zeros((19,255,255),dtype=torch.int64)\n",
    "            \n",
    "        for terrain in self.tiles:\n",
    "            assert matrix[1][terrain.yPosition][terrain.xPosition]  == 0, 'occupato: ' + str(matrix[1][terrain.yPosition][terrain.xPosition]) + 'posizione: (' + str(terrain.yPosition) + \\\n",
    "            ', ' + str(terrain.xPosition)\n",
    "            matrix[1][terrain.yPosition][terrain.xPosition] = 7\n",
    "            \n",
    "        for sound in self.soundEffects:\n",
    "            assert matrix[17][sound.yPosition][sound.xPosition]  == 0\n",
    "            matrix[17][sound.yPosition][sound.xPosition] = sound.effectType\n",
    "            \n",
    "        #for rail in self.rails:\n",
    "            #self.setRailTrack(matrix, rail)\n",
    "            \n",
    "        for iCicle in self.icicles:\n",
    "            assert matrix[1][iCicle.yPosition][iCicle.xPosition] == 0\n",
    "            assert matrix[1][iCicle.yPosition + 1][iCicle.xPosition] == 0\n",
    "            matrix[1][iCicle.yPosition:(iCicle.yPosition + 2), iCicle.xPosition] = iCicle.typeForMatrix\n",
    "            \n",
    "        for objectMM in self.objects:\n",
    "            if objectMM.layer == -1:\n",
    "                continue\n",
    "            layer = self.calculateLayerBackground(matrix, objectMM)\n",
    "            if objectMM.objectType == SnakeBlockTrack.objectID:#è uno snake\n",
    "                self.setSnakeTrack(matrix, objectMM)\n",
    "                continue\n",
    "            if ((layer == 0 or layer == 1 or layer == 5 or layer == 6)and objectMM.objectFlags.to_bytes(4, 'little')[1] & 4 != 0): #se questo flag è attivo, probabilmente sta su una rail\n",
    "                #print(objectMM.objectType)\n",
    "                continue   \n",
    "            if objectMM.shape == 0: #Forma RECT\n",
    "                \n",
    "                \n",
    "                xPosition = objectMM.xPosition\n",
    "                yPosition = objectMM.yPosition\n",
    "                width = objectMM.objectWidth\n",
    "                height = objectMM.objectHeight\n",
    "                \n",
    "                if objectMM.objectType == 11 or objectMM.objectType == 91: #lifter Seesaw\n",
    "                    xPosition -=  (width // 2) if  width % 2 != 0 else ((width // 2) - 1)\n",
    "                \n",
    "                if objectMM.objectType == 31: #nuvola\n",
    "                    if height == 4:\n",
    "                        appoggio = width\n",
    "                        width = height\n",
    "                        height = appoggio  \n",
    "                    if height >= 2:#nuvola, sopra ci sta gente e non è mai 2\n",
    "                        height = 1\n",
    "                \n",
    "                if objectMM.objectFlags.to_bytes(4, 'little')[2] & 1 != 0: #nemico sopra nuvola\n",
    "                    yPosition += 1\n",
    "                    if objectMM.objectType == 30: #caso specifico lakitu\n",
    "                        height -=1\n",
    "                    \n",
    "                \n",
    "                if objectMM.objectType == 42 or objectMM.objectType == 17: # è una koopaclowncar o ponte\n",
    "                    height = 1\n",
    "                    \n",
    "                if objectMM.objectType == 32 or ((objectMM.objectType == 62 or objectMM.objectType == 77 or objectMM.objectType == 12 or objectMM.objectType == 31) and width == 4): #ciccioni, bowser, boom boom, banzai bill, cloud\n",
    "                    xPosition -=1\n",
    "                    \n",
    "                if objectMM.objectFlags.to_bytes(4, 'little')[3] & 8 != 0: #appeso\n",
    "                    if width > 1:\n",
    "                        width -=1\n",
    "                    if height == 4: #Tanto di altezza 3 non dovrebbero esserci di oggetti appendibili, tanto comunque ho il tipo\n",
    "                        yPosition -=1\n",
    "                        height = 3\n",
    "                        #width = 3\n",
    "                        \n",
    "                versoX = 1\n",
    "                versoY = 1\n",
    "                \n",
    "                \n",
    "                if objectMM.objectFlags.to_bytes(4, 'little')[0] & 1 != 0:\n",
    "                    layer = layerOggettiInTubo\n",
    "                \n",
    "                if objectMM.objectType == 9:\n",
    "                    rotation = (((objectMM.objectFlags.to_bytes(4, 'little')[0]<< 1) >> 6) & 3) << 5\n",
    "                    if rotation == 96:\n",
    "                        versoX = -1\n",
    "                        versoY = -1\n",
    "                    if rotation == 0:\n",
    "                        appoggio = width\n",
    "                        width = height\n",
    "                        height = appoggio\n",
    "                        versoY = -1\n",
    "                    if rotation == 32:\n",
    "                        versoX = -1\n",
    "                        appoggio = width\n",
    "                        width = height\n",
    "                        height = appoggio \n",
    "                for i in range (0,width):\n",
    "                    for j in range (0,height):\n",
    "                        self.setCellMatrix(matrix, objectMM, layer, yPosition + (j * versoY), xPosition + (i * versoX), (i == 0 and j == 0))\n",
    "                continue\n",
    "                \n",
    "                \n",
    "            if objectMM.shape == 1: #Forma T\n",
    "                for i in range (0,objectMM.objectWidth):\n",
    "                    self.setCellMatrix(matrix, objectMM, layer, objectMM.yPosition + objectMM.objectHeight - 1, objectMM.xPosition + i, i == 0)\n",
    "                mediumPoint = objectMM.xPosition + (objectMM.objectWidth // 2)\n",
    "                if objectMM.objectWidth % 2 == 0:\n",
    "                    matrix[objectMM.layer][objectMM.yPosition:(objectMM.yPosition + objectMM.objectHeight - 1), mediumPoint - 1 : mediumPoint + 1] = objectMM.flagsType\n",
    "                else:\n",
    "                    matrix[objectMM.layer][objectMM.yPosition:(objectMM.yPosition + objectMM.objectHeight - 1), mediumPoint] = objectMM.flagsType\n",
    "                continue\n",
    "                \n",
    "            if objectMM.shape == 2: #forma gentle\n",
    "                rotation = objectMM.objectFlags.to_bytes(4, 'little')[2]\n",
    "                if (objectMM.objectType == 87 and (rotation == 48 or rotation == 16)): \n",
    "                    self.setCellMatrix(matrix, objectMM, layer, objectMM.yPosition, objectMM.xPosition + objectMM.objectWidth - 1, True)\n",
    "                    for i in range(1, objectMM.objectWidth - 1, 2):#discesa\n",
    "                        matrix[objectMM.layer][(objectMM.yPosition + objectMM.objectHeight - (i // 2) - 2):(objectMM.yPosition + objectMM.objectHeight - (i // 2)), objectMM.xPosition + i : objectMM.xPosition + i + 2] = objectMM.flagsType\n",
    "                    self.setCellMatrix(matrix, objectMM, layer, objectMM.yPosition + objectMM.objectHeight - 1, objectMM.xPosition, False)\n",
    "                elif (objectMM.objectType == 87 and (rotation == 0 or rotation == 32)):\n",
    "                    self.setCellMatrix(matrix, objectMM, layer, objectMM.yPosition, objectMM.xPosition, True)\n",
    "                    for i in range(1, objectMM.objectWidth - 1, 2):#salita\n",
    "                        matrix[objectMM.layer][(objectMM.yPosition + (i // 2)):(objectMM.yPosition + (i // 2)) + 2, objectMM.xPosition + i : objectMM.xPosition + i + 2] = objectMM.flagsType                    \n",
    "                    self.setCellMatrix(matrix, objectMM, layer, objectMM.yPosition + objectMM.objectHeight - 1, objectMM.xPosition + objectMM.objectWidth - 1, False)\n",
    "                continue\n",
    "            \n",
    "            \n",
    "            \n",
    "            \n",
    "            if objectMM.shape == 3: #forma steep\n",
    "                rotation = objectMM.objectFlags.to_bytes(4, 'little')[2]\n",
    "                if (objectMM.objectType == 88 and (rotation == 48 or rotation == 16)) or (objectMM.objectType == 94 and rotation == 32): #discesa riflesso\n",
    "                    self.setCellMatrix(matrix, objectMM, layer, objectMM.yPosition, objectMM.xPosition + objectMM.objectWidth - 1, True)\n",
    "                    for i in range(1, objectMM.objectWidth - 1): #discesa da destra\n",
    "                        matrix[objectMM.layer][(objectMM.yPosition + i - 1):(objectMM.yPosition + i + 1), objectMM.xPosition + objectMM.objectWidth - i - 1] = objectMM.flagsType\n",
    "                    self.setCellMatrix(matrix, objectMM, layer, objectMM.yPosition + objectMM.objectHeight - 1, objectMM.xPosition , False)\n",
    "                elif (objectMM.objectType == 88 and (rotation == 0 or rotation == 32)) or (objectMM.objectType == 94 and rotation == 16): #salita normale\n",
    "                    self.setCellMatrix(matrix, objectMM, layer, objectMM.yPosition, objectMM.xPosition, True)\n",
    "                    for i in range(1, objectMM.objectWidth - 1): #salita\n",
    "                        matrix[objectMM.layer][(objectMM.yPosition + i - 1):(objectMM.yPosition + i + 1), objectMM.xPosition + i] = objectMM.flagsType\n",
    "                    self.setCellMatrix(matrix, objectMM, layer, objectMM.yPosition + objectMM.objectHeight - 1, objectMM.xPosition + objectMM.objectWidth - 1 , False)\n",
    "                continue\n",
    "                    \n",
    "            if objectMM.shape == 4: #forma T contraria\n",
    "                for i in range (-1,objectMM.objectWidth -1):\n",
    "                    self.setCellMatrix(matrix, objectMM, layer, objectMM.yPosition, objectMM.xPosition + i, i == 0)\n",
    "                mediumPoint = objectMM.xPosition + (objectMM.objectWidth // 2) - 1\n",
    "                if objectMM.objectWidth % 2 == 0:\n",
    "                    matrix[objectMM.layer][objectMM.yPosition:(objectMM.yPosition + objectMM.objectHeight - 1), mediumPoint : mediumPoint + 2] = objectMM.flagsType\n",
    "                else:\n",
    "                    matrix[objectMM.layer][objectMM.yPosition:(objectMM.yPosition + objectMM.objectHeight - 1), mediumPoint] = objectMM.flagsType\n",
    "            \n",
    "        return matrix\n",
    "                \n",
    "        \n",
    "    def setSnakeTrack(self, matrix, objectMM):\n",
    "        leftSnake = False\n",
    "        extendData = objectMM.extendedData\n",
    "        if extendData > 10:\n",
    "            leftSnake = True\n",
    "            extendData -= 16\n",
    "            \n",
    "        snakeBlock = self.snakes[extendData - 1]\n",
    "        assert snakeBlock.nodeCount > 0\n",
    "        for i in range ( -objectMM.objectWidth // 2 + 1 if objectMM.objectWidth % 2 == 0 else 0, (objectMM.objectWidth // 2) + 1):\n",
    "            self.setCellMatrix(matrix, objectMM, SnakeBlockTrack.layer, objectMM.yPosition, objectMM.xPosition + i, (i == 0))\n",
    "        \n",
    "        xCurrentTrack = objectMM.xPosition + (objectMM.objectWidth // 2 if not leftSnake else -(objectMM.objectWidth // 2))\n",
    "        if leftSnake:\n",
    "            if objectMM.objectWidth % 2 == 0:\n",
    "                xCurrentTrack += 1\n",
    "        yCurrentTrack = objectMM.yPosition\n",
    "        \n",
    "        firstNode = snakeBlock.snakeNodes[0]\n",
    "\n",
    "        if firstNode.direction == 1 or firstNode.direction == 5 or firstNode.direction == 7 or firstNode.direction == 14:#LEFT\n",
    "            xCurrentTrack -= 1\n",
    "        elif firstNode.direction == 2 or firstNode.direction == 9 or firstNode.direction == 11 or firstNode.direction == 13:#RIGHT\n",
    "            xCurrentTrack += 1\n",
    "        elif firstNode.direction == 3 or firstNode.direction == 6 or firstNode.direction == 10 or firstNode.direction == 16:   #DOWN\n",
    "            yCurrentTrack -= 1\n",
    "        elif firstNode.direction == 4 or firstNode.direction == 8 or firstNode.direction == 12 or firstNode.direction == 15:#UP\n",
    "            yCurrentTrack += 1\n",
    "\n",
    "        \n",
    "        for node in snakeBlock.snakeNodes:\n",
    "            assert matrix[SnakeNode.layer][yCurrentTrack][xCurrentTrack] == 0, 'occupato: ' + str(matrix[SnakeNode.layer][yCurrentTrack][xCurrentTrack]) + ' id:' + str(snakeBlock.linkID) + \\\n",
    "            '\\nPosizione: ' + str(yCurrentTrack) + ' ' + str(xCurrentTrack)\n",
    "            matrix[SnakeNode.layer][yCurrentTrack][xCurrentTrack] = node.directionSnake\n",
    "            if node.direction == 1 or node.direction == 6 or node.direction == 8 or node.direction == 14:#LEFT\n",
    "                xCurrentTrack -= 1\n",
    "                continue\n",
    "            if node.direction == 2 or node.direction == 10 or node.direction == 12 or node.direction == 13:#RIGHT\n",
    "                xCurrentTrack += 1\n",
    "                continue\n",
    "            if node.direction == 3 or node.direction == 5 or node.direction == 9 or node.direction == 16:   #DOWN\n",
    "                yCurrentTrack -= 1\n",
    "                continue\n",
    "            if node.direction == 4 or node.direction == 7 or node.direction == 11 or node.direction == 15:#UP\n",
    "                yCurrentTrack += 1\n",
    "                continue\n",
    "    \n",
    "    \n",
    "    \n",
    "    def setRailTrack(self, matrix, rail):\n",
    "        assert matrix[Rail.layer][rail.yPosition][rail.xPosition] == 0\n",
    "        matrix[Rail.layer][rail.yPosition][rail.xPosition] = rail.railDirection\n",
    "    \n",
    "    def setCellMatrix(self, matrix, objectMM, layer, yPosition, xPosition, childSoundCell):\n",
    "        if yPosition >= 28:\n",
    "            print(str(objectMM.objectType) + ' ' + str(objectMM.objectWidth) + ' ' + str(objectMM.objectHeight)\\\n",
    "        + ' ' + str(objectMM.middleTileX) + ' ' + str(objectMM.middleTileY) + ' ' + str(objectMM.yOriginalPosition) + ' ' + str(objectMM.xOriginalPosition) + ' ' + str(objectMM.linkID) + ' ' + str(childSoundCell)\\\n",
    "        + ' ' + str(yPosition) + ' ' + str(xPosition) + ' Flags: ' + str(objectMM.objectFlags))\n",
    "        if matrix[layer][yPosition][xPosition] != 0 and (objectMM.objectType == 88 or objectMM.objectType == 87):\n",
    "            return\n",
    "        assert matrix[layer][yPosition][xPosition] == 0 or matrix[layer][yPosition][xPosition] == 7, 'occupato: ' + str(matrix[layer][yPosition][xPosition]) + ' ' + str(objectMM.objectType) + ' ' + str(objectMM.objectWidth) + ' ' + str(objectMM.objectHeight)\\\n",
    "        + ' ' + str(objectMM.middleTileX) + ' ' + str(objectMM.middleTileY) + ' ' + str(objectMM.yOriginalPosition) + ' ' + str(objectMM.xOriginalPosition) + ' ' + str(objectMM.linkID) + ' ' + str(childSoundCell)\\\n",
    "        + ' ' + str(yPosition) + ' ' + str(xPosition) + ' Flags: ' + str(objectMM.objectFlags)\n",
    "        matrix[layer][yPosition][xPosition] = objectMM.flagsType\n",
    "        if(childSoundCell):\n",
    "            if(objectMM.childObjectType != 65535):\n",
    "                assert matrix[15][yPosition][xPosition] == 0\n",
    "                matrix[15][yPosition][xPosition] = objectMM.childFlagsType\n",
    "            if(objectMM.soundEffect != 65535):\n",
    "                #assert matrix[layerSoundChild][yPosition][xPosition] == 0, str(matrix[layerSoundChild][yPosition][xPosition]) + 'Posizione: (' + str(yPosition) + ', ' + str(xPosition) + ')\\noggetto' + str(objectMM) + str(objectMM.soundEffect)\n",
    "                #Se due oggetti stanno sulla stessa cella e hanno un figlio, sta cosa esplode.\n",
    "                matrix[layerSoundChild][yPosition][xPosition] = objectMM.soundEffect\n",
    "    \n",
    "    def toBytes(self):\n",
    "        courseTheme = self.courseTheme.to_bytes(1, 'little')\n",
    "        autoScrollType = self.autoScrollType.to_bytes(1, 'little')\n",
    "        screenBoundaryFlags = self.screenBoundaryFlags.to_bytes(1, 'little')\n",
    "        levelHorientation = self.levelHorientation.to_bytes(1, 'little')\n",
    "        lavaWaterHeight = self.lavaWaterHeight.to_bytes(1, 'little')\n",
    "        lavaWaterMode = self.lavaWaterMode.to_bytes(1, 'little')\n",
    "        lavaWaterSpeed = self.lavaWaterSpeed.to_bytes(1, 'little')\n",
    "        minimunLavaWaterHeight = self.minimunLavaWaterHeight.to_bytes(1, 'little')\n",
    "        \n",
    "        rightBoundary = (self.rightBoundary * 16).to_bytes(4, 'little')\n",
    "        topBoundary = (self.topBoundary * 16).to_bytes(4, 'little')\n",
    "        leftBoundary = (self.leftBoundary * 16).to_bytes(4, 'little')\n",
    "        rightBoundary = (self.rightBoundary * 16).to_bytes(4, 'little')\n",
    "        bottomBoundary = self.bottomBoundary.to_bytes(4, 'little')\n",
    "        areaFlags = self.areaFlags.to_bytes(4, 'little')\n",
    "        objectCount = self.objectCount.to_bytes(4, 'little')\n",
    "        freeStandingSoundEffectCount = self.freeStandingSoundEffectCount.to_bytes(4, 'little')\n",
    "        snakeBlockCount = self.snakeBlockCount.to_bytes(4, 'little')\n",
    "        clearPipeCount = self.clearPipeCount.to_bytes(4, 'little')\n",
    "        piranhaCreeperCount = self.piranhaCreeperCount.to_bytes(4, 'little')\n",
    "        expandingBlockCount = self.expandingBlockCount.to_bytes(4, 'little')\n",
    "        trackBlockCount = self.trackBlockCount.to_bytes(4, 'little')\n",
    "        alwaysZero = self.alwaysZero.to_bytes(4, 'little')\n",
    "        tileCount = self.tileCount.to_bytes(4, 'little')\n",
    "        railCount = self.railCount.to_bytes(4, 'little')\n",
    "        icicleCount = self.icicleCount.to_bytes(4, 'little')\n",
    "        returnBytes = courseTheme + autoScrollType + screenBoundaryFlags + levelHorientation + lavaWaterHeight + lavaWaterMode + lavaWaterSpeed + minimunLavaWaterHeight  \\\n",
    "               + rightBoundary + topBoundary + leftBoundary + bottomBoundary + areaFlags + objectCount + freeStandingSoundEffectCount + snakeBlockCount + clearPipeCount \\\n",
    "               + piranhaCreeperCount + expandingBlockCount + trackBlockCount + alwaysZero + tileCount + railCount + icicleCount\n",
    "        objectsBytes = fromListToBytes(self.objects, 83200)\n",
    "        soundEffectsBytes = fromListToBytes(self.soundEffects, 1200)\n",
    "        snakesBytes = fromListToBytes(self.snakes, 4820)\n",
    "        clearPipeBytes = fromListToBytes(self.clearPipes, 58400)\n",
    "        creeperBytes = fromListToBytes(self.creepers, 840)\n",
    "        expandingBlockBytes = fromListToBytes(self.expandingBlocks, 440)\n",
    "        trackBlockBytes = fromListToBytes(self.trackBlocks, 440)\n",
    "        tilesBytes = fromListToBytes(self.tiles, 16000)\n",
    "        railBytes = fromListToBytes(self.rails, 18000)\n",
    "        iCicleBytes = fromListToBytes(self.icicles, 1200)\n",
    "        return returnBytes +  objectsBytes + soundEffectsBytes + snakesBytes + clearPipeBytes + creeperBytes + expandingBlockBytes + trackBlockBytes + tilesBytes + railBytes + iCicleBytes\n",
    "        "
   ]
  },
  {
   "cell_type": "code",
   "execution_count": 81,
   "metadata": {},
   "outputs": [],
   "source": [
    "class Header(ObjectBytes):\n",
    "    def fromBytes(self, headerBytes):\n",
    "        self.startY = headerBytes[0]\n",
    "        self.endY = headerBytes[1]\n",
    "        self.goalXx100 = int.from_bytes(headerBytes[2:4],\"little\", signed = False)\n",
    "        self.timeLimit = int.from_bytes(headerBytes[4:6],\"little\", signed = False)\n",
    "        self.targetAmountClearCondition = int.from_bytes(headerBytes[6:8],\"little\", signed = False)\n",
    "        self.year = int.from_bytes(headerBytes[8:10],\"little\", signed = False)\n",
    "        self.month = headerBytes[10]\n",
    "        self.day = headerBytes[11]\n",
    "        self.hour = headerBytes[12]\n",
    "        self.minute = headerBytes[13]\n",
    "        self.customAutoscrollSpeed = headerBytes[14]\n",
    "        self.clearConditionType = headerBytes[15]\n",
    "        self.clearConditionObject = int.from_bytes(headerBytes[16:20],\"little\", signed = False)\n",
    "        self.gameVersion = int.from_bytes(headerBytes[20:24],\"little\", signed = False)\n",
    "        self.levelFlags = int.from_bytes(headerBytes[24:28],\"little\", signed = False)\n",
    "        self.clearCheckTries = int.from_bytes(headerBytes[28:32],\"little\", signed = False)\n",
    "        self.clearCheckTime = int.from_bytes(headerBytes[32:36],\"little\", signed = False)\n",
    "        self.creationID = int.from_bytes(headerBytes[36:40],\"little\", signed = False)\n",
    "        self.uploadID = headerBytes[40:48]\n",
    "        self.gameVersionCheck = headerBytes[48:52]\n",
    "        self.padding = headerBytes[52:240]\n",
    "        self.unknow2 = headerBytes[240]\n",
    "        self.gameStyle = headerBytes[241:244]\n",
    "        self.courseName = headerBytes[244:310]#wchar16\n",
    "        self.courseDescription = headerBytes[310:512]\n",
    "        \n",
    "    def toBytes(self):\n",
    "        startY = self.startY.to_bytes(1, 'little')\n",
    "        endY = self.endY.to_bytes(1, 'little')\n",
    "        goalXx100 = self.goalXx100.to_bytes(2, 'little')\n",
    "        timeLimit = self.timeLimit.to_bytes(2, 'little')\n",
    "        targetAmountClearCondition = self.targetAmountClearCondition.to_bytes(2, 'little')\n",
    "        year = self.year.to_bytes(2, 'little')\n",
    "        month = self.month.to_bytes(1, 'little')\n",
    "        day = self.day.to_bytes(1, 'little')\n",
    "        hour = self.hour.to_bytes(1, 'little')\n",
    "        minute = self.minute.to_bytes(1, 'little')   \n",
    "        customAutoscrollSpeed = self.customAutoscrollSpeed.to_bytes(1, 'little') \n",
    "        clearConditionType = self.clearConditionType.to_bytes(1, 'little') \n",
    "        clearConditionObject = self.clearConditionObject.to_bytes(4, 'little') \n",
    "        gameVersion = self.gameVersion.to_bytes(4, 'little')\n",
    "        levelFlags = self.levelFlags.to_bytes(4, 'little')\n",
    "        clearCheckTries = self.clearCheckTries.to_bytes(4, 'little')\n",
    "        clearCheckTime = self.clearCheckTime.to_bytes(4, 'little')\n",
    "        creationID = self.creationID.to_bytes(4, 'little')\n",
    "        unknow2 = self.unknow2.to_bytes(1, 'little')\n",
    "        \n",
    "        return startY + endY + goalXx100 + timeLimit + targetAmountClearCondition + year + month + day + hour + minute + customAutoscrollSpeed + clearConditionType \\\n",
    "               + clearConditionObject + gameVersion + levelFlags + clearCheckTries + clearCheckTime + creationID + self.uploadID \\\n",
    "               + self.gameVersionCheck + self.padding + unknow2 + self.gameStyle + self.courseName + self.courseDescription"
   ]
  },
  {
   "cell_type": "code",
   "execution_count": 30,
   "metadata": {},
   "outputs": [],
   "source": [
    "class MarioMaker2File(ObjectBytes):\n",
    "    def fromBytes(self, fileBytes):\n",
    "        self.gameVersion = fileBytes[:4]\n",
    "        self.gameVersion2 = fileBytes[4:6]\n",
    "        self.padding = fileBytes[6:8]\n",
    "        self.CRC32 = fileBytes[8:12]\n",
    "        self.SCDL = fileBytes[12:16]\n",
    "        self.header = Header()\n",
    "        self.header.fromBytes(fileBytes[16:528])\n",
    "        self.mainLevelArea = LevelArea()\n",
    "        self.mainLevelArea.fromBytes(fileBytes[528:188656], True, self.header.startY, self.header.endY)\n",
    "        self.subLevelArea = LevelArea()\n",
    "        self.subLevelArea.fromBytes(fileBytes[188656:376784], False)\n",
    "        self.cryptoCfg = fileBytes[376784:]#non ne sono sicuro\n",
    "        \n",
    "    def toBytes(self):\n",
    "        return self.gameVersion + self.gameVersion2 + self.padding + self.CRC32 + self.SCDL + addZeros(self.header.toBytes(), 512) + addZeros(self.mainLevelArea.toBytes(), 188128) + addZeros(self.subLevelArea.toBytes(), 188128) + self.cryptoCfg"
   ]
  },
  {
   "cell_type": "code",
   "execution_count": 31,
   "metadata": {},
   "outputs": [],
   "source": [
    "levelFolder = Path(\"levels/\")\n",
    "levelsDownloaded = [f for f in listdir(levelFolder) if isfile(join(levelFolder, f))]\n",
    "decryptLevelFilteredFolder = Path(\"levels/filtered/\")\n",
    "levelsDecrypted = [f for f in listdir(decryptLevelFilteredFolder) if isfile(join(decryptLevelFilteredFolder, f))]"
   ]
  },
  {
   "cell_type": "code",
   "execution_count": 32,
   "metadata": {},
   "outputs": [],
   "source": [
    "\n",
    "levelsFiltered = []"
   ]
  },
  {
   "cell_type": "code",
   "execution_count": 33,
   "metadata": {},
   "outputs": [],
   "source": [
    "levelsFilteredFile = Path(\"levelsFiltered.txt\")\n",
    "if levelsFilteredFile.is_file():\n",
    "    with open(levelsFilteredFile, \"r\") as f:\n",
    "        levelsFiltered = f.read().splitlines()"
   ]
  },
  {
   "cell_type": "code",
   "execution_count": 34,
   "metadata": {},
   "outputs": [],
   "source": [
    "levelsToLoad = levelsDecrypted[:] if levelsDecrypted else levelsFiltered[:] if levelsFiltered else levelsDownloaded[:]"
   ]
  },
  {
   "cell_type": "code",
   "execution_count": 82,
   "metadata": {},
   "outputs": [
    {
     "name": "stderr",
     "output_type": "stream",
     "text": [
      "100%|████████████████████████████████████████████████████████████████████████████| 13972/13972 [03:30<00:00, 66.51it/s]\n"
     ]
    }
   ],
   "source": [
    "marioMakerLevels = []\n",
    "levelsFiltered = []\n",
    "levelsSet = set()\n",
    "for levelName in tqdm(levelsToLoad):\n",
    "    if not levelsDecrypted:\n",
    "        filePath = join(levelFolder, levelName)\n",
    "        if levelName[-4:] == '.zip':\n",
    "            archive = zipfile.ZipFile(filePath, 'r')\n",
    "            leveldata = archive.read('course_data_000.bcd')\n",
    "            archive.close()\n",
    "            with open('tools/tmp/course_data_000.bcd', 'wb') as f:\n",
    "                f.write(leveldata)\n",
    "        else:\n",
    "            archive = tarfile.open(filePath, 'r')\n",
    "            archive.extract('course_data_000.bcd', path=\"tools/tmp/\")\n",
    "            archive.close()\n",
    "        !.\\tools\\smm2dec.exe -h .\\tools\\tmp\\course_data_000.bcd .\\tools\\tmp\\course_data_dec.bcd >nul 2>&1\n",
    "        with open('tools/tmp/course_data_dec.bcd', 'rb') as f:\n",
    "            leveldata = f.read()\n",
    "    else:\n",
    "        filePath = join(decryptLevelFilteredFolder ,levelName)\n",
    "        with open(filePath, 'rb') as f:\n",
    "            leveldata = f.read()\n",
    "    level = MarioMaker2File()\n",
    "    level.fromBytes(leveldata)\n",
    "    if level.header.gameStyle.decode(\"utf-8\") == '3W\\x00':\n",
    "        continue\n",
    "    if level.header.creationID in levelsSet:\n",
    "        os.remove(filePath)\n",
    "        continue\n",
    "    levelsSet.add(level.header.creationID)\n",
    "    marioMakerLevels.append(level)\n",
    "    levelsFiltered.append(levelName)\n",
    "    if not levelsDecrypted:\n",
    "        with open(join(decryptLevelFilteredFolder, levelName[:-4] + '.bcd'), 'wb') as f:\n",
    "            f.write(leveldata)"
   ]
  },
  {
   "cell_type": "code",
   "execution_count": null,
   "metadata": {},
   "outputs": [],
   "source": [
    "with open(\"levelsFiltered.txt\", \"w\") as outfile:\n",
    "    outfile.write(\"\\n\".join(levelsFiltered))"
   ]
  },
  {
   "cell_type": "code",
   "execution_count": null,
   "metadata": {},
   "outputs": [],
   "source": [
    "for l in marioMakerLevels:\n",
    "    levelsSet.add(l.header.creationID)"
   ]
  },
  {
   "cell_type": "code",
   "execution_count": null,
   "metadata": {},
   "outputs": [],
   "source": [
    "len(levelsSet)"
   ]
  },
  {
   "cell_type": "code",
   "execution_count": null,
   "metadata": {},
   "outputs": [],
   "source": []
  },
  {
   "cell_type": "code",
   "execution_count": null,
   "metadata": {},
   "outputs": [],
   "source": [
    "for lmm in marioMakerLevels:\n",
    "    for o in lmm.mainLevelArea.objects:\n",
    "        if  (o.yPosition == 0) and not o.middleTileY:\n",
    "            print(o)\n",
    "            print(o.middleTileY)\n",
    "            print(o.middleTileX)\n",
    "            print(lmm.header.courseName.decode(\"utf-16\"))"
   ]
  },
  {
   "cell_type": "code",
   "execution_count": null,
   "metadata": {},
   "outputs": [],
   "source": [
    "archive = zipfile.ZipFile(join(levelFolder, 'flying_ghosthouse__70.zip'), 'r')\n",
    "leveldata = archive.read('course_data_000.bcd')\n",
    "archive.close()\n",
    "with open('tools/tmp/course_data_000.bcd', 'wb') as f:\n",
    "    f.write(leveldata)"
   ]
  },
  {
   "cell_type": "code",
   "execution_count": null,
   "metadata": {},
   "outputs": [],
   "source": [
    "len(leveldata)"
   ]
  },
  {
   "cell_type": "code",
   "execution_count": null,
   "metadata": {},
   "outputs": [],
   "source": [
    "!.\\tools\\smm2dec.exe -h .\\tools\\tmp\\course_data_000.bcd .\\tools\\tmp\\course_data_dec.bcd"
   ]
  },
  {
   "cell_type": "code",
   "execution_count": null,
   "metadata": {},
   "outputs": [],
   "source": [
    "with open('tools/tmp/course_data_dec.bcd', 'rb') as f:\n",
    "    leveldata = f.read()"
   ]
  },
  {
   "cell_type": "code",
   "execution_count": null,
   "metadata": {},
   "outputs": [],
   "source": [
    "testM = MarioMaker2File()\n",
    "testM.fromBytes(leveldata)\n",
    "len(testM.toBytes())"
   ]
  },
  {
   "cell_type": "code",
   "execution_count": null,
   "metadata": {
    "scrolled": false
   },
   "outputs": [],
   "source": [
    "for t in testM.mainLevelArea.tiles:\n",
    "    if t.backgroundObjectID != 0:\n",
    "        print(t.backgroundObjectID)"
   ]
  },
  {
   "cell_type": "code",
   "execution_count": null,
   "metadata": {},
   "outputs": [],
   "source": [
    "checkSameBytes(leveldata, testM.toBytes())"
   ]
  },
  {
   "cell_type": "code",
   "execution_count": null,
   "metadata": {},
   "outputs": [],
   "source": [
    "testM.mainLevelArea.expandingBlockCount"
   ]
  },
  {
   "cell_type": "code",
   "execution_count": null,
   "metadata": {},
   "outputs": [],
   "source": [
    "testM.header.gameStyle.decode(\"utf-8\")"
   ]
  },
  {
   "cell_type": "code",
   "execution_count": null,
   "metadata": {},
   "outputs": [],
   "source": [
    "testM.header.courseName.decode(\"utf-16\")[:9]"
   ]
  },
  {
   "cell_type": "code",
   "execution_count": null,
   "metadata": {},
   "outputs": [],
   "source": [
    "testM.header.courseName.decode(\"utf-16\").find('\\x00')"
   ]
  },
  {
   "cell_type": "code",
   "execution_count": null,
   "metadata": {},
   "outputs": [],
   "source": [
    "a = testM.toBytes()\n",
    "print(len(a))\n",
    "for idx, b in enumerate(leveldata):\n",
    "    if a[idx] != b:\n",
    "        print(idx)\n",
    "        break"
   ]
  },
  {
   "cell_type": "code",
   "execution_count": null,
   "metadata": {},
   "outputs": [],
   "source": [
    "CryptoCfg"
   ]
  },
  {
   "cell_type": "code",
   "execution_count": null,
   "metadata": {},
   "outputs": [],
   "source": [
    "courseName.decode(\"utf-16\")"
   ]
  },
  {
   "cell_type": "code",
   "execution_count": null,
   "metadata": {},
   "outputs": [],
   "source": [
    "courseDescription.decode(\"utf-16\")"
   ]
  },
  {
   "cell_type": "code",
   "execution_count": null,
   "metadata": {},
   "outputs": [],
   "source": [
    "gameStyle.decode(\"utf-8\")"
   ]
  },
  {
   "cell_type": "code",
   "execution_count": null,
   "metadata": {},
   "outputs": [],
   "source": [
    "'3W\\x00'.rstrip('\\x00')"
   ]
  },
  {
   "cell_type": "code",
   "execution_count": null,
   "metadata": {},
   "outputs": [],
   "source": [
    "testM.header.gameStyle.decode(\"utf-8\") == '3W\\x00'"
   ]
  },
  {
   "cell_type": "code",
   "execution_count": null,
   "metadata": {},
   "outputs": [],
   "source": [
    "for o in testM.mainLevelArea.objects:\n",
    "    #print(o.objectType)\n",
    "    if o.objectType == 26:\n",
    "        print('ok')"
   ]
  },
  {
   "cell_type": "code",
   "execution_count": null,
   "metadata": {},
   "outputs": [],
   "source": [
    "sampling = random.choices(levelsDownloaded, k=100)"
   ]
  },
  {
   "cell_type": "code",
   "execution_count": 45,
   "metadata": {},
   "outputs": [
    {
     "name": "stderr",
     "output_type": "stream",
     "text": [
      "  0%|                                                                                        | 0/31502 [00:00<?, ?it/s]\n"
     ]
    },
    {
     "ename": "TypeError",
     "evalue": "MarioMaker2File() takes no arguments",
     "output_type": "error",
     "traceback": [
      "\u001b[1;31m---------------------------------------------------------------------------\u001b[0m",
      "\u001b[1;31mTypeError\u001b[0m                                 Traceback (most recent call last)",
      "\u001b[1;32m<ipython-input-45-87f97bdf9b4e>\u001b[0m in \u001b[0;36m<module>\u001b[1;34m\u001b[0m\n\u001b[0;32m     14\u001b[0m     \u001b[1;32mwith\u001b[0m \u001b[0mopen\u001b[0m\u001b[1;33m(\u001b[0m\u001b[1;34m'tools/tmp/course_data_dec.bcd'\u001b[0m\u001b[1;33m,\u001b[0m \u001b[1;34m'rb'\u001b[0m\u001b[1;33m)\u001b[0m \u001b[1;32mas\u001b[0m \u001b[0mf\u001b[0m\u001b[1;33m:\u001b[0m\u001b[1;33m\u001b[0m\u001b[1;33m\u001b[0m\u001b[0m\n\u001b[0;32m     15\u001b[0m         \u001b[0mleveldata\u001b[0m \u001b[1;33m=\u001b[0m \u001b[0mf\u001b[0m\u001b[1;33m.\u001b[0m\u001b[0mread\u001b[0m\u001b[1;33m(\u001b[0m\u001b[1;33m)\u001b[0m\u001b[1;33m\u001b[0m\u001b[1;33m\u001b[0m\u001b[0m\n\u001b[1;32m---> 16\u001b[1;33m     \u001b[0mtestM\u001b[0m \u001b[1;33m=\u001b[0m \u001b[0mMarioMaker2File\u001b[0m\u001b[1;33m(\u001b[0m\u001b[0mleveldata\u001b[0m\u001b[1;33m)\u001b[0m\u001b[1;33m\u001b[0m\u001b[1;33m\u001b[0m\u001b[0m\n\u001b[0m\u001b[0;32m     17\u001b[0m     \u001b[1;32mif\u001b[0m \u001b[0mtestM\u001b[0m\u001b[1;33m.\u001b[0m\u001b[0mheader\u001b[0m\u001b[1;33m.\u001b[0m\u001b[0mgameStyle\u001b[0m\u001b[1;33m.\u001b[0m\u001b[0mdecode\u001b[0m\u001b[1;33m(\u001b[0m\u001b[1;34m\"utf-8\"\u001b[0m\u001b[1;33m)\u001b[0m \u001b[1;33m==\u001b[0m \u001b[1;34m'3W\\x00'\u001b[0m\u001b[1;33m:\u001b[0m\u001b[1;33m\u001b[0m\u001b[1;33m\u001b[0m\u001b[0m\n\u001b[0;32m     18\u001b[0m         \u001b[1;32mcontinue\u001b[0m\u001b[1;33m\u001b[0m\u001b[1;33m\u001b[0m\u001b[0m\n",
      "\u001b[1;31mTypeError\u001b[0m: MarioMaker2File() takes no arguments"
     ]
    }
   ],
   "source": [
    "levelsError = 0\n",
    "for levelName in tqdm(levelsDownloaded):\n",
    "    if levelName[-4:] == '.zip':\n",
    "        archive = zipfile.ZipFile(join(levelFolder, levelName), 'r')\n",
    "        leveldata = archive.read('course_data_000.bcd')\n",
    "        archive.close()\n",
    "        with open('tools/tmp/course_data_000.bcd', 'wb') as f:\n",
    "            f.write(leveldata)\n",
    "    else:\n",
    "        archive = tarfile.open(join(levelFolder, levelName), 'r')\n",
    "        archive.extract('course_data_000.bcd', path=\"tools/tmp/\")\n",
    "        archive.close()\n",
    "    !.\\tools\\smm2dec.exe -h .\\tools\\tmp\\course_data_000.bcd .\\tools\\tmp\\course_data_dec.bcd >nul 2>&1\n",
    "    with open('tools/tmp/course_data_dec.bcd', 'rb') as f:\n",
    "        leveldata = f.read()\n",
    "    testM = MarioMaker2File()\n",
    "    \n",
    "    if testM.header.gameStyle.decode(\"utf-8\") == '3W\\x00':\n",
    "        continue\n",
    "    a = testM.toBytes()\n",
    "    for idx, b in enumerate(leveldata):\n",
    "        if a[idx] != b:\n",
    "            levelsError += 1\n",
    "            print(testM.header.gameStyle.decode(\"utf-8\"))\n",
    "            print(testM.header.courseName.decode(\"utf-16\"))\n",
    "            print(levelName)\n",
    "            print(idx)\n",
    "            print('--------********')\n",
    "            print(a[idx])\n",
    "            print(b)\n",
    "            break\n"
   ]
  },
  {
   "cell_type": "code",
   "execution_count": null,
   "metadata": {},
   "outputs": [],
   "source": [
    "levelsError"
   ]
  },
  {
   "cell_type": "code",
   "execution_count": 177,
   "metadata": {},
   "outputs": [
    {
     "data": {
      "text/plain": [
       "tensor([[           0,            0,            0,            0,            0,\n",
       "                    0,            0,            0,            0,            0,\n",
       "                    0,            0,            0,            0,            0,\n",
       "                    0,            0,            0,            0,            0,\n",
       "                    0,            0,            0,            0,            0,\n",
       "                    0,            0,            0,            0,            0,\n",
       "                    0,            0,            0,            0,            0,\n",
       "                    0,            0,            0,            0,            0,\n",
       "                    0,            0,            0,            0,            0,\n",
       "                    0,            0,            0,            0,            0,\n",
       "                    0,            0,            0,            0,            0,\n",
       "                    0,            0,            0,            0,            0,\n",
       "          ...,            0,            0,            0,            0,\n",
       "                    0,            0,            0,            0,            0,\n",
       "                    0,            0,            0,            0,            0,\n",
       "                    0,            0,            0,            0,            0,\n",
       "                    0,            0,            0,            0,            0,\n",
       "                    0,            0,            0,            0,            0,\n",
       "                    0,            0,            0,            0,            0,\n",
       "                    0,            0,            0,            0,            0,\n",
       "                    0,            0,            0,            0,            0,\n",
       "                    0,            0,            0,            0,            0,\n",
       "                    0,            0,            0,            0,            0,\n",
       "                    0,            0,            0,            0,            0,\n",
       "                    0],\n",
       "        [           0,            0,            0,            0,            0,\n",
       "                    0,            0,            7,            7,            7,\n",
       "                    7,            7,            7,            7,            7,\n",
       "                    7,            7,            7,            7,            7,\n",
       "                    7,            7,            7,            7,            7,\n",
       "                    7,            7,            7,            7,            7,\n",
       "                    7,            7,            7,            7,            7,\n",
       "                    7,            7,            7,            7,            7,\n",
       "                    7,            7,            7,            7,            7,\n",
       "                    7,            7,            7,            7,            7,\n",
       "                    7,            7,            7,            7,            7,\n",
       "                    7,            7,            7,            7,            7,\n",
       "          ...,            0,            0,            0,            0,\n",
       "                    0,            0,            0,            0,            0,\n",
       "                    0,            0,            0,            0,            0,\n",
       "                    0,            0,            0,            0,            0,\n",
       "                    0,            0,            0,            0,            0,\n",
       "                    0,            0,            0,            0,            0,\n",
       "                    0,            0,            0,            0,            0,\n",
       "                    0,            0,            0,            0,            0,\n",
       "                    0,            0,            0,            0,            0,\n",
       "                    0,            0,            0,            0,            0,\n",
       "                    0,            0,            0,            0,            0,\n",
       "                    0,            0,            0,            0,            0,\n",
       "                    0],\n",
       "        [           0,            0,            0,            0,            0,\n",
       "                    0,            0,            0,            0,            0,\n",
       "                    0,            0,            0,            0,            0,\n",
       "                    0,            0,            0,            0,            7,\n",
       "                    0,            0,            0,            0,            0,\n",
       "                    0,  38755369152,  38755369152,            0,            0,\n",
       "                    0,            0,            0,            0,  38755631168,\n",
       "          38755631168,  38755893312,  38755893312,  38756155456,  38756155456,\n",
       "                    0,            0,            0,            0,            0,\n",
       "                    7,            0,            0,            0,            0,\n",
       "                    7,            0,            0,            7,            0,\n",
       "                    7,            0,            7,            0,            0,\n",
       "          ...,            0,            0,            0,            0,\n",
       "                    0,            0,            0,            0,            0,\n",
       "                    0,            0,            0,            0,            0,\n",
       "                    0,            0,            0,            0,            0,\n",
       "                    0,            0,            0,            0,            0,\n",
       "                    0,            0,            0,            0,            0,\n",
       "                    0,            0,            0,            0,            0,\n",
       "                    0,            0,            0,            0,            0,\n",
       "                    0,            0,            0,            0,            0,\n",
       "                    0,            0,            0,            0,            0,\n",
       "                    0,            0,            0,            0,            0,\n",
       "                    0,            0,            0,            0,            0,\n",
       "                    0],\n",
       "        [           0,            0,            0,            0,            0,\n",
       "                    0,            0,            0,            0,            0,\n",
       "                    0,            0,            0,            0,            0,\n",
       "                    0,            0,            0,            0,            0,\n",
       "                    0,            0,            0,            0,            0,\n",
       "                    0,  38755369152,  38755369152,            0,            0,\n",
       "                    0,            0,            0,            0,  38755631168,\n",
       "          38755631168,  38755893312,  38755893312,  38756155456,  38756155456,\n",
       "                    0,            0,            0,            0,            0,\n",
       "                    0,            0,            0,            0,            0,\n",
       "                    0,            0,            0,            0,            0,\n",
       "                    0,            0,            7,            0,            0,\n",
       "          ...,            0,            0,            0,            0,\n",
       "                    0,            0,            0,            0,            0,\n",
       "                    0,            0,            0,            0,            0,\n",
       "                    0,            0,            0,            0,            0,\n",
       "                    0,            0,            0,            0,            0,\n",
       "                    0,            0,            0,            0,            0,\n",
       "                    0,            0,            0,            0,            0,\n",
       "                    0,            0,            0,            0,            0,\n",
       "                    0,            0,            0,            0,            0,\n",
       "                    0,            0,            0,            0,            0,\n",
       "                    0,            0,            0,            0,            0,\n",
       "                    0,            0,            0,            0,            0,\n",
       "                    0],\n",
       "        [           0,            0,            0,            0,            0,\n",
       "                    0,            0,            0,            0,            0,\n",
       "                    0,            0,            0,            0,            0,\n",
       "                    0,            0,            0,            0,            0,\n",
       "                    0,            0,  38755368960,  38755368960,  38755368960,\n",
       "          38755368960,            0,            0,  38755369120,  38755369120,\n",
       "          38755369120,  38755369120,            0,            0,            0,\n",
       "                    0,            0,            0,            0,            0,\n",
       "                    0,            0, 545460846602, 545460846594, 545460846594,\n",
       "         545460846603,            0,            0,            0,            0,\n",
       "         373762818112, 373762818112, 373762818112,            0,            0,\n",
       "                    0,            0,            0,            0,            0,\n",
       "          ...,            0,            0,            0,            0,\n",
       "                    0,            0,            0,            0,            0,\n",
       "                    0,            0,            0,            0,            0,\n",
       "                    0,            0,            0,            0,            0,\n",
       "                    0,            0,            0,            0,            0,\n",
       "                    0,            0,            0,            0,            0,\n",
       "                    0,            0,            0,            0,            0,\n",
       "                    0,            0,            0,            0,            0,\n",
       "                    0,            0,            0,            0,            0,\n",
       "                    0,            0,            0,            0,            0,\n",
       "                    0,            0,            0,            0,            0,\n",
       "                    0,            0,            0,            0,            0,\n",
       "                    0],\n",
       "        [           0,            0,            0,            0,            0,\n",
       "                    0,            0,            0,            0,            0,\n",
       "                    0,            0,            0,            0,            0,\n",
       "         378059882560, 378059882560,            0,            0,            0,\n",
       "                    0,            0,  38755368960,  38755368960,  38755368960,\n",
       "          38755368960,            0,            0,  38755369120,  38755369120,\n",
       "          38755369120,  38755369120,            0,            0,            0,\n",
       "                    0,            0,            0,            0,            0,\n",
       "                    0,            0, 545460846595,            0,            0,\n",
       "         545460846604, 545460846594, 545460846603,            0,            0,\n",
       "                    0, 373762818112, 373762818112, 373762818112,            0,\n",
       "                    0,            0,            0,            0,            0,\n",
       "          ...,            0,            0,            0,            0,\n",
       "                    0,            0,            0,            0,            0,\n",
       "                    0,            0,            0,            0,            0,\n",
       "                    0,            0,            0,            0,            0,\n",
       "                    0,            0,            0,            0,            0,\n",
       "                    0,            0,            0,            0,            0,\n",
       "                    0,            0,            0,            0,            0,\n",
       "                    0,            0,            0,            0,            0,\n",
       "                    0,            0,            0,            0,            0,\n",
       "                    0,            0,            0,            0,            0,\n",
       "                    0,            0,            0,            0,            0,\n",
       "                    0,            0,            0,            0,            0,\n",
       "                    0],\n",
       "        [           0,            0,            0,            0,            0,\n",
       "                    0,            0,            0,            0,            0,\n",
       "                    0,            0,            0,            0,            0,\n",
       "                    0, 378059882560, 378059882560,            0,            0,\n",
       "                    0,            0,            0,            0,            0,\n",
       "                    0,  38755369184,  38755369184,            0,            0,\n",
       "                    0,            0,            0,            0,            0,\n",
       "                    0,            0, 545460846602, 545460846594, 545460846594,\n",
       "         545460846594, 545460846594, 545460846601,            0,            0,\n",
       "                    0,            0, 545460846596,            0,            0,\n",
       "                    0, 545460846608,            0,            0,            0,\n",
       "                    0,            0,            0,            0,            0,\n",
       "          ...,            0,            0,            0,            0,\n",
       "                    0,            0,            0,            0,            0,\n",
       "                    0,            0,            0,            0,            0,\n",
       "                    0,            0,            0,            0,            0,\n",
       "                    0,            0,            0,            0,            0,\n",
       "                    0,            0,            0,            0,            0,\n",
       "                    0,            0,            0,            0,            0,\n",
       "                    0,            0,            0,            0,            0,\n",
       "                    0,            0,            0,            0,            0,\n",
       "                    0,            0,            0,            0,            0,\n",
       "                    0,            0,            0,            0,            0,\n",
       "                    0,            0,            0,            0,            0,\n",
       "                    0],\n",
       "        [           0,            0,            0,            0,            0,\n",
       "                    0,            0,            0,            0,            0,\n",
       "                    0,            0,            0,            0,            0,\n",
       "                    0,            0,            0,            0,            0,\n",
       "                    0,            0,            0,            0,            0,\n",
       "                    0,  38755369184,  38755369184,            0,            0,\n",
       "                    0,            0,            0,            0,            0,\n",
       "                    0,            0, 545460846595, 360877916224, 360877916224,\n",
       "         360877916224, 360877916224, 360877916224, 360877916224, 545460846594,\n",
       "         545460846603,            0, 545460846596,            0,            0,\n",
       "                    0, 545460846595,            0,            0,            0,\n",
       "                    0,            0,            0,            0,            0,\n",
       "          ...,            0,            0,            0,            0,\n",
       "                    0,            0,            0,            0,            0,\n",
       "                    0,            0,            0,            0,            0,\n",
       "                    0,            0,            0,            0,            0,\n",
       "                    0,            0,            0,            0,            0,\n",
       "                    0,            0,            0,            0,            0,\n",
       "                    0,            0,            0,            0,            0,\n",
       "                    0,            0,            0,            0,            0,\n",
       "                    0,            0,            0,            0,            0,\n",
       "                    0,            0,            0,            0,            0,\n",
       "                    0,            0,            0,            0,            0,\n",
       "                    0,            0,            0,            0,            0,\n",
       "                    0],\n",
       "        [           0,            0,            0,            0,            0,\n",
       "                    0,            0,            0,            0,            0,\n",
       "                    0,            0,            0,            0,            0,\n",
       "                    0,            0,            0,            0,            0,\n",
       "                    0,            0,            0, 378058833984, 378058833984,\n",
       "                    0,  38755369184,  38755369184,            0,            0,\n",
       "                    0,            0,            0,            0,            0,\n",
       "                    0,            0, 545460846595, 545460846599, 545460846593,\n",
       "         545460846598,            0,            0,            0,            0,\n",
       "         545460846596,            0, 545460846596,            0,            0,\n",
       "                    0, 545460846595,            0,            0,            0,\n",
       "                    0,            0,            0,            0,            0,\n",
       "          ...,            0,            0,            0,            0,\n",
       "                    0,            0,            0,            0,            0,\n",
       "                    0,            0,            0,            0,            0,\n",
       "                    0,            0,            0,            0,            0,\n",
       "                    0,            0,            0,            0,            0,\n",
       "                    0,            0,            0,            0,            0,\n",
       "                    0,            0,            0,            0,            0,\n",
       "                    0,            0,            0,            0,            0,\n",
       "                    0,            0,            0,            0,            0,\n",
       "                    0,            0,            0,            0,            0,\n",
       "                    0,            0,            0,            0,            0,\n",
       "                    0,            0,            0,            0,            0,\n",
       "                    0],\n",
       "        [           0,            0,            0,            0,            0,\n",
       "                    0,            0,            0,            0,            0,\n",
       "                    0,            0,            0,            0,            0,\n",
       "                    0,            0,            0,            0,            0,\n",
       "                    0,            0, 378058833984, 378058833984,            0,\n",
       "                    0,  38755369184,  38755369184, 545460846599, 545460846593,\n",
       "                    0,            0, 360877916224, 360877916224, 360877916224,\n",
       "                    0,            0, 545460846595, 545460846596, 545460846608,\n",
       "         545460846595,            0,            0,            0, 545460846599,\n",
       "         545460846600,            0, 545460846596,            0,            0,\n",
       "                    0, 545460846597, 545460846593, 545460846598,            0,\n",
       "                    0,            0,            0,            0,            0,\n",
       "          ...,            0,            0,            0,            0,\n",
       "                    0,            0,            0,            0,            0,\n",
       "                    0,            0,            0,            0,            0,\n",
       "                    0,            0,            0,            0,            0,\n",
       "                    0,            0,            0,            0,            0,\n",
       "                    0,            0,            0,            0,            0,\n",
       "                    0,            0,            0,            0,            0,\n",
       "                    0,            0,            0,            0,            0,\n",
       "                    0,            0,            0,            0,            0,\n",
       "                    0,            0,            0,            0,            0,\n",
       "                    0,            0,            0,            0,            0,\n",
       "                    0,            0,            0,            0,            0,\n",
       "                    0],\n",
       "        [           0,            0,            0,            0,            0,\n",
       "                    0,            0,            0,            0,            0,\n",
       "                    0,            0,            0,            0,            0,\n",
       "                    0,            0,            0,            0,            0,\n",
       "                    0, 378058833984, 378058833984,            0,            0,\n",
       "                    0,            0,            0, 545460846596,            0,\n",
       "                    0,            0,            0,            0,            0,\n",
       "                    0,            0, 545460846597, 545460846600, 545460846595,\n",
       "         545460846597, 545460846593, 545460846593, 545460846593, 545460846600,\n",
       "         545460846599, 545460846598, 545460846596,            0,            0,\n",
       "                    0,            0,            0, 545460846595,            0,\n",
       "                    0,            0,            0,            0,            0,\n",
       "          ...,            0,            0,            0,            0,\n",
       "                    0,            0,            0,            0,            0,\n",
       "                    0,            0,            0,            0,            0,\n",
       "                    0,            0,            0,            0,            0,\n",
       "                    0,            0,            0,            0,            0,\n",
       "                    0,            0,            0,            0,            0,\n",
       "                    0,            0,            0,            0,            0,\n",
       "                    0,            0,            0,            0,            0,\n",
       "                    0,            0,            0,            0,            0,\n",
       "                    0,            0,            0,            0,            0,\n",
       "                    0,            0,            0,            0,            0,\n",
       "                    0,            0,            0,            0,            0,\n",
       "                    0],\n",
       "        [           0,            0,            0,            0,            0,\n",
       "                    0,            0,            0,            0,            0,\n",
       "                    0,            0, 378058833984, 378058833984,            0,\n",
       "                    0,            0,            0,            0,            0,\n",
       "         378058833984, 378058833984,            0,            0,            0,\n",
       "                    0,            0,            0, 545460846596,            0,\n",
       "                    0,            0,            0,            0,            0,\n",
       "                    0,            0,            0,            0, 545460846597,\n",
       "         545460846593, 545460846593, 545460846593, 545460846593, 545460846593,\n",
       "         545460846600, 545460846597, 545460846600,            0,            0,\n",
       "                    0,            0,            0, 545460846595,            0,\n",
       "                    0,            0,            0,            0,            0,\n",
       "          ...,            0,            0,            0,            0,\n",
       "                    0,            0,            0,            0,            0,\n",
       "                    0,            0,            0,            0,            0,\n",
       "                    0,            0,            0,            0,            0,\n",
       "                    0,            0,            0,            0,            0,\n",
       "                    0,            0,            0,            0,            0,\n",
       "                    0,            0,            0,            0,            0,\n",
       "                    0,            0,            0,            0,            0,\n",
       "                    0,            0,            0,            0,            0,\n",
       "                    0,            0,            0,            0,            0,\n",
       "                    0,            0,            0,            0,            0,\n",
       "                    0,            0,            0,            0,            0,\n",
       "                    0],\n",
       "        [           0,            0,            0,            0,            0,\n",
       "                    0,            0,            0,            0,            0,\n",
       "                    0, 378058833984, 378058833984,            0,            0,\n",
       "                    0,            0,            0,            0, 378058833984,\n",
       "         378058833984,            0,            0,            0,            0,\n",
       "                    0,            0,            0, 545460846607,            0,\n",
       "                    0,            0,            0,            0,            0,\n",
       "                    0,            0,            0,            0,            0,\n",
       "                    0,            0,            0,            0,            0,\n",
       "                    0,            0,            0,            0,            0,\n",
       "         373765963840, 373765963840, 373765963840, 545460846595,            0,\n",
       "                    0,            0,            0,            0,            0,\n",
       "          ...,            0,            0,            0,            0,\n",
       "                    0,            0,            0,            0,            0,\n",
       "                    0,            0,            0,            0,            0,\n",
       "                    0,            0,            0,            0,            0,\n",
       "                    0,            0,            0,            0,            0,\n",
       "                    0,            0,            0,            0,            0,\n",
       "                    0,            0,            0,            0,            0,\n",
       "                    0,            0,            0,            0,            0,\n",
       "                    0,            0,            0,            0,            0,\n",
       "                    0,            0,            0,            0,            0,\n",
       "                    0,            0,            0,            0,            0,\n",
       "                    0,            0,            0,            0,            0,\n",
       "                    0],\n",
       "        [           0,            0,            0,            0,            0,\n",
       "                    0,            0,            0,            0,            0,\n",
       "                    0,            0,            0,            0,            0,\n",
       "                    0,            0,            0,            0,            0,\n",
       "                    0,            0,            0,            0,            0,\n",
       "                    0,            0,            0,            0,            0,\n",
       "                    0,            0,            0,            0,            0,\n",
       "                    0,            0,            0,            0,            0,\n",
       "                    0,            0,            0,            0,            0,\n",
       "                    0,            0,            0,            0, 373765963840,\n",
       "         373765963840, 373765963840,            0, 545460846595,            0,\n",
       "          25870467136,  25870467136,  25870467136,  25870467136,  25870467136,\n",
       "          ...,            0,            0,            0,            0,\n",
       "                    0,            0,            0,            0,            0,\n",
       "                    0,            0,            0,            0,            0,\n",
       "                    0,            0,            0,            0,            0,\n",
       "                    0,            0,            0,            0,            0,\n",
       "                    0,            0,            0,            0,            0,\n",
       "                    0,            0,            0,            0,            0,\n",
       "                    0,            0,            0,            0,            0,\n",
       "                    0,            0,            0,            0,            0,\n",
       "                    0,            0,            0,            0,            0,\n",
       "                    0,            0,            0,            0,            0,\n",
       "                    0,            0,            0,            0,            0,\n",
       "                    0],\n",
       "        [           0,            0,            0,            0,            0,\n",
       "                    0,            0, 378057785408, 378057785408,            0,\n",
       "                    0,            0,            0,            0,            0,\n",
       "         378060931136, 378060931136,            0,            0,            0,\n",
       "                    0,            0,            0,            0,            0,\n",
       "                    0,            0,            0,            0,            0,\n",
       "                    0,            0,            0,            0,            0,\n",
       "                    0,            0,            0,            0,            0,\n",
       "                    0,            0,            0,            0,            0,\n",
       "                    0,            0,            0,            0,            0,\n",
       "                    0,            0,            0, 545460846595,            0,\n",
       "          25870467136,  25870467136,  25870467136,  25870467136,  25870467136,\n",
       "          ...,            0,            0,            0,            0,\n",
       "                    0,            0,            0,            0,            0,\n",
       "                    0,            0,            0,            0,            0,\n",
       "                    0,            0,            0,            0,            0,\n",
       "                    0,            0,            0,            0,            0,\n",
       "                    0,            0,            0,            0,            0,\n",
       "                    0,            0,            0,            0,            0,\n",
       "                    0,            0,            0,            0,            0,\n",
       "                    0,            0,            0,            0,            0,\n",
       "                    0,            0,            0,            0,            0,\n",
       "                    0,            0,            0,            0,            0,\n",
       "                    0,            0,            0,            0,            0,\n",
       "                    0],\n",
       "        [           0,            0,            0,            0,            0,\n",
       "                    0,            0,            0, 378057785408, 378057785408,\n",
       "                    0,            0,            0,            0, 378060931136,\n",
       "         378060931136,            0,            0,            0,            0,\n",
       "                    0,            0,            0,            0,            0,\n",
       "                    0,            0,  34460401728,            0,            0,\n",
       "                    0,            0,            0,            0,            0,\n",
       "                    0,            0,            0,            0,            0,\n",
       "                    0,            0,            0,            0,            0,\n",
       "                    0,            0,            0,            0,            0,\n",
       "                    0,            0,            0, 545460846595,            0,\n",
       "          25870467136,  25870467136,  25870467136,  25870467136,  25870467136,\n",
       "          ...,            0,            0,            0,            0,\n",
       "                    0,            0,            0,            0,            0,\n",
       "                    0,            0,            0,            0,            0,\n",
       "                    0,            0,            0,            0,            0,\n",
       "                    0,            0,            0,            0,            0,\n",
       "                    0,            0,            0,            0,            0,\n",
       "                    0,            0,            0,            0,            0,\n",
       "                    0,            0,            0,            0,            0,\n",
       "                    0,            0,            0,            0,            0,\n",
       "                    0,            0,            0,            0,            0,\n",
       "                    0,            0,            0,            0,            0,\n",
       "                    0,            0,            0,            0,            0,\n",
       "                    0],\n",
       "        [           0,            0,            0,            0,            0,\n",
       "                    0,            0,            0,            0,            0,\n",
       "                    0,            0,            0,            0,            0,\n",
       "                    0,            0,            0,            0,            0,\n",
       "                    0,            0,            0,            0,            0,\n",
       "                    0,            0,  34594619456,            0,            0,\n",
       "                    0,            0,            0,            0,            0,\n",
       "                    0, 545460846608,            0,            0,            0,\n",
       "                    0,            0,            0,            0,            0,\n",
       "                    0,            0,            0,            0,            0,\n",
       "                    0,            0,            0, 545460846595,            0,\n",
       "          25870467136,  25870467136,  25870467136,            0,            0,\n",
       "          ...,            0,            0,            0,            0,\n",
       "                    0,            0,            0,            0,            0,\n",
       "                    0,            0,            0,            0,            0,\n",
       "                    0,            0,            0,            0,            0,\n",
       "                    0,            0,            0,            0,            0,\n",
       "                    0,            0,            0,            0,            0,\n",
       "                    0,            0,            0,            0,            0,\n",
       "                    0,            0,            0,            0,            0,\n",
       "                    0,            0,            0,            0,            0,\n",
       "                    0,            0,            0,            0,            0,\n",
       "                    0,            0,            0,            0,            0,\n",
       "                    0,            0,            0,            0,            0,\n",
       "                    0],\n",
       "        [           0,            0,            0,            0,            0,\n",
       "                    0,            0,            0,            0,            0,\n",
       "                    0,            0,            0,            0,            0,\n",
       "                    0,            0,            0,            0,            0,\n",
       "                    0,            0,            0,            0,            0,\n",
       "                    0,            0,            0,            0,            0,\n",
       "                    0,            0,            0,            0,            0,\n",
       "                    0, 545460846595,            0,            0,            0,\n",
       "                    0,            0,            0,            0,            0,\n",
       "                    0,            0,            0,            0,            0,\n",
       "                    0,            0,            0, 545460846595,            0,\n",
       "          25870467136,  25870467136,            0,            0,            0,\n",
       "          ...,            0,            0,            0,            0,\n",
       "                    0,            0,            0,            0,            0,\n",
       "                    0,            0,            0,            0,            0,\n",
       "                    0,            0,            0,            0,            0,\n",
       "                    0,            0,            0,            0,            0,\n",
       "                    0,            0,            0,            0,            0,\n",
       "                    0,            0,            0,            0,            0,\n",
       "                    0,            0,            0,            0,            0,\n",
       "                    0,            0,            0,            0,            0,\n",
       "                    0,            0,            0,            0,            0,\n",
       "                    0,            0,            0,            0,            0,\n",
       "                    0,            0,            0,            0,            0,\n",
       "                    0],\n",
       "        [           0,            0,            0,            0,            0,\n",
       "                    0,            0,            0,            0,            0,\n",
       "                    0,            0,            0,            0,            0,\n",
       "                    0,            0,            0,            0,            0,\n",
       "                    0,            0,            0,            0,            0,\n",
       "                    0,            0,            0,            0,            0,\n",
       "                    0,            0,            0,            0,            0,\n",
       "                    0, 545460846595,            0,            0,            0,\n",
       "                    0,            0,            0,            0,            0,\n",
       "                    0,            0,            0, 360877916224, 360877916224,\n",
       "         360877916224, 360877916224,            0, 545460846595,            0,\n",
       "          25870467136,  25870467136,  25870467136,  25870467136,  25870467136,\n",
       "          ...,            0,            0,            0,            0,\n",
       "                    0,            0,            0,            0,            0,\n",
       "                    0,            0,            0,            0,            0,\n",
       "                    0,            0,            0,            0,            0,\n",
       "                    0,            0,            0,            0,            0,\n",
       "                    0,            0,            0,            0,            0,\n",
       "                    0,            0,            0,            0,            0,\n",
       "                    0,            0,            0,            0,            0,\n",
       "                    0,            0,            0,            0,            0,\n",
       "                    0,            0,            0,            0,            0,\n",
       "                    0,            0,            0,            0,            0,\n",
       "                    0,            0,            0,            0,            0,\n",
       "                    0],\n",
       "        [           0,            0,            0,            0,            0,\n",
       "                    0,            0,            0,            0,            0,\n",
       "                    0,            0,            0,            0,            0,\n",
       "                    0,            0,            0,            0,            0,\n",
       "                    0,            0,            0,            0,            0,\n",
       "                    0,            0,            0,            0,            0,\n",
       "                    0,            0,            0,            0,            0,\n",
       "                    0, 545460846595,            0,            0,            0,\n",
       "                    0,            0,            0,            0,            0,\n",
       "                    0,            0,            0, 545460846596,            0,\n",
       "                    0,            0,            0, 545460846595,            0,\n",
       "          25870467136,  25870467136,  25870467136,  25870467136,  25870467136,\n",
       "          ...,            0,            0,            0,            0,\n",
       "                    0,            0,            0,            0,            0,\n",
       "                    0,            0,            0,            0,            0,\n",
       "                    0,            0,            0,            0,            0,\n",
       "                    0,            0,            0,            0,            0,\n",
       "                    0,            0,            0,            0,            0,\n",
       "                    0,            0,            0,            0,            0,\n",
       "                    0,            0,            0,            0,            0,\n",
       "                    0,            0,            0,            0,            0,\n",
       "                    0,            0,            0,            0,            0,\n",
       "                    0,            0,            0,            0,            0,\n",
       "                    0,            0,            0,            0,            0,\n",
       "                    0],\n",
       "        [           0,            0,            0,            0,            0,\n",
       "                    0,            0,            0,            0,            0,\n",
       "                    0,            0,            0,            0,            0,\n",
       "                    0,            0,            0,            0,            0,\n",
       "                    0,            0,            0,            0,            0,\n",
       "                    0,            0,            0,            0,            0,\n",
       "                    0,            0,            0,            0,            0,\n",
       "                    0, 545460846595,            0,            0,            0,\n",
       "                    0,            0,            0,            0,            0,\n",
       "                    0,            0,            0, 545460846596,            0,\n",
       "                    0,            0,            0, 545460846595,            0,\n",
       "                    0,            0,            0,            0,            0,\n",
       "          ...,            0,            0,            0,            0,\n",
       "                    0,            0,            0,            0,            0,\n",
       "                    0,            0,            0,            0,            0,\n",
       "                    0,            0,            0,            0,            0,\n",
       "                    0,            0,            0,            0,            0,\n",
       "                    0,            0,            0,            0,            0,\n",
       "                    0,            0,            0,            0,            0,\n",
       "                    0,            0,            0,            0,            0,\n",
       "                    0,            0,            0,            0,            0,\n",
       "                    0,            0,            0,            0,            0,\n",
       "                    0,            0,            0,            0,            0,\n",
       "                    0,            0,            0,            0,            0,\n",
       "                    0],\n",
       "        [           0,            0,            0,            0,            0,\n",
       "                    0,            0,            0,            0,            0,\n",
       "                    0,            0,            0,            0,            0,\n",
       "                    0,            0,            0,            0,            0,\n",
       "                    0,            0,            0,            0,            0,\n",
       "                    0,            0,            0,            0,            0,\n",
       "                    0,            0,            0,            0,            0,\n",
       "                    0, 545460846595,            0,            0,            0,\n",
       "                    0,            0,            0,            0,            0,\n",
       "                    0,            0,            0, 545460846596,            0,\n",
       "         545460846602, 545460846594, 545460846594, 545460846601,            0,\n",
       "                    0,            0,            0,            0,            0,\n",
       "          ...,            0,            0,            0,            0,\n",
       "                    0,            0,            0,            0,            0,\n",
       "                    0,            0,            0,            0,            0,\n",
       "                    0,            0,            0,            0,            0,\n",
       "                    0,            0,            0,            0,            0,\n",
       "                    0,            0,            0,            0,            0,\n",
       "                    0,            0,            0,            0,            0,\n",
       "                    0,            0,            0,            0,            0,\n",
       "                    0,            0,            0,            0,            0,\n",
       "                    0,            0,            0,            0,            0,\n",
       "                    0,            0,            0,            0,            0,\n",
       "                    0,            0,            0,            0,            0,\n",
       "                    0],\n",
       "        [           0,            0,            0,            0,            0,\n",
       "                    0,            0,            0,            0,            0,\n",
       "                    0,            0,            0,            0,            0,\n",
       "                    0,            0,            0,            0,            0,\n",
       "                    0,            0,            0,            0,            0,\n",
       "                    0,            0,            0,            0,            0,\n",
       "                    0,            0,            0,            0,            0,\n",
       "                    0, 545460846597, 545460846593, 545460846593, 545460846593,\n",
       "         545460846598,            0,            0,            0,            0,\n",
       "                    0,            0,            0, 545460846607,            0,\n",
       "         545460846597, 545460846593, 360877916224, 360877916224, 360877916224,\n",
       "         360877916224, 360877916224, 360877916224, 360877916224, 360877916224,\n",
       "          ...,            0,            0,            0,            0,\n",
       "                    0,            0,            0,            0,            0,\n",
       "                    0,            0,            0,            0,            0,\n",
       "                    0,            0,            0,            0,            0,\n",
       "                    0,            0,            0,            0,            0,\n",
       "                    0,            0,            0,            0,            0,\n",
       "                    0,            0,            0,            0,            0,\n",
       "                    0,            0,            0,            0,            0,\n",
       "                    0,            0,            0,            0,            0,\n",
       "                    0,            0,            0,            0,            0,\n",
       "                    0,            0,            0,            0,            0,\n",
       "                    0,            0,            0,            0,            0,\n",
       "                    0],\n",
       "        [           0,            0,            0,            0,            0,\n",
       "                    0,            0,            0,            0,            0,\n",
       "                    0,            0,            0,            0,            0,\n",
       "                    0,            0,            0,            0,            0,\n",
       "                    0,            0,            0,            0,            0,\n",
       "                    0,            0,            0,            0,            0,\n",
       "                    0,            0,            0,            0,            0,\n",
       "                    0,            0,            0,            0,            0,\n",
       "         545460846595,            0,            0,            0,            0,\n",
       "                    0,            0,            0,            0,            0,\n",
       "                    0,            0,            0,            0,            0,\n",
       "                    0,            0,            0,            0,            0,\n",
       "          ...,            0,            0,            0,            0,\n",
       "                    0,            0,            0,            0,            0,\n",
       "                    0,            0,            0,            0,            0,\n",
       "                    0,            0,            0,            0,            0,\n",
       "                    0,            0,            0,            0,            0,\n",
       "                    0,            0,            0,            0,            0,\n",
       "                    0,            0,            0,            0,            0,\n",
       "                    0,            0,            0,            0,            0,\n",
       "                    0,            0,            0,            0,            0,\n",
       "                    0,            0,            0,            0,            0,\n",
       "                    0,            0,            0,            0,            0,\n",
       "                    0,            0,            0,            0,            0,\n",
       "                    0],\n",
       "        [           0,            0,            0,            0,            0,\n",
       "                    0,            0,            0,            0,            0,\n",
       "                    0,            0,            0,            0,            0,\n",
       "                    0,            0,            0,            0,            0,\n",
       "                    0,            0,            0,            0,            0,\n",
       "                    0,            0,            0,            0,            0,\n",
       "                    0,            0,            0,            0,            0,\n",
       "                    0,            0,            0,            0,            0,\n",
       "         360877916224, 360877916224, 360877916224, 360877916224,            0,\n",
       "                    0,            0,            0,            0,            0,\n",
       "                    0,            0,            0,            0,            0,\n",
       "                    0,            0,            0,            0,            0,\n",
       "          ...,            0,            0,            0,            0,\n",
       "                    0,            0,            0,            0,            0,\n",
       "                    0,            0,            0,            0,            0,\n",
       "                    0,            0,            0,            0,            0,\n",
       "                    0,            0,            0,            0,            0,\n",
       "                    0,            0,            0,            0,            0,\n",
       "                    0,            0,            0,            0,            0,\n",
       "                    0,            0,            0,            0,            0,\n",
       "                    0,            0,            0,            0,            0,\n",
       "                    0,            0,            0,            0,            0,\n",
       "                    0,            0,            0,            0,            0,\n",
       "                    0,            0,            0,            0,            0,\n",
       "                    0],\n",
       "        [           0,            0,            0,            0,            0,\n",
       "                    0,            0,            0,            0,            0,\n",
       "                    0,            0,            0,            0,            0,\n",
       "                    0,            0,            0,            0,            0,\n",
       "                    0,            0,            0,            0,            0,\n",
       "                    0,            0,            0,            0,            0,\n",
       "                    0,            0,            0,            0,            0,\n",
       "                    0,            0,            0,            0,            0,\n",
       "                    0,            0,            0,            0,            0,\n",
       "                    0,            0,            0,            0,            0,\n",
       "                    0,            0,            0,            0,            0,\n",
       "                    0,            0,            0,            0,            0,\n",
       "          ...,            0,            0,            0,            0,\n",
       "                    0,            0,            0,            0,            0,\n",
       "                    0,            0,            0,            0,            0,\n",
       "                    0,            0,            0,            0,            0,\n",
       "                    0,            0,            0,            0,            0,\n",
       "                    0,            0,            0,            0,            0,\n",
       "                    0,            0,            0,            0,            0,\n",
       "                    0,            0,            0,            0,            0,\n",
       "                    0,            0,            0,            0,            0,\n",
       "                    0,            0,            0,            0,            0,\n",
       "                    0,            0,            0,            0,            0,\n",
       "                    0,            0,            0,            0,            0,\n",
       "                    0],\n",
       "        [           0,            0,            0,            0,            0,\n",
       "                    0,            0,            0,            0,            0,\n",
       "                    0,            0,            0,            0,            0,\n",
       "                    0,            0,            0,            0,            0,\n",
       "                    0,            0,            0,            0,            0,\n",
       "                    0,            0,            0,            0,            0,\n",
       "                    0,            0,            0,            0,            0,\n",
       "                    0,            0,            0,            0,            0,\n",
       "                    0,            0,            0,            0,            0,\n",
       "                    0,            0,            0,            0,            0,\n",
       "                    0,            0,            0,            0,            0,\n",
       "                    0,            0,            0,            0,            0,\n",
       "          ...,            0,            0,            0,            0,\n",
       "                    0,            0,            0,            0,            0,\n",
       "                    0,            0,            0,            0,            0,\n",
       "                    0,            0,            0,            0,            0,\n",
       "                    0,            0,            0,            0,            0,\n",
       "                    0,            0,            0,            0,            0,\n",
       "                    0,            0,            0,            0,            0,\n",
       "                    0,            0,            0,            0,            0,\n",
       "                    0,            0,            0,            0,            0,\n",
       "                    0,            0,            0,            0,            0,\n",
       "                    0,            0,            0,            0,            0,\n",
       "                    0,            0,            0,            0,            0,\n",
       "                    0]])"
      ]
     },
     "execution_count": 177,
     "metadata": {},
     "output_type": "execute_result"
    }
   ],
   "source": [
    "testM = MarioMaker2File()\n",
    "testM.fromBytes(leveldata)\n",
    "asd = testM.mainLevelArea.toPytorchMatrix()[1]\n",
    "torch.set_printoptions(edgeitems=60)\n",
    "asd"
   ]
  },
  {
   "cell_type": "code",
   "execution_count": 178,
   "metadata": {},
   "outputs": [
    {
     "data": {
      "text/plain": [
       "<matplotlib.image.AxesImage at 0x2088177d898>"
      ]
     },
     "execution_count": 178,
     "metadata": {},
     "output_type": "execute_result"
    },
    {
     "data": {
      "image/png": "[encoded data removed]",
      "text/plain": [
       "<Figure size 432x288 with 1 Axes>"
      ]
     },
     "metadata": {
      "needs_background": "light"
     },
     "output_type": "display_data"
    }
   ],
   "source": [
    "plt.imshow(torch.flip(asd, [-2]), cmap='gray', vmin=0, vmax=1)"
   ]
  },
  {
   "cell_type": "code",
   "execution_count": 179,
   "metadata": {
    "scrolled": true
   },
   "outputs": [
    {
     "data": {
      "text/plain": [
       "<matplotlib.image.AxesImage at 0x208818a51d0>"
      ]
     },
     "execution_count": 179,
     "metadata": {},
     "output_type": "execute_result"
    },
    {
     "data": {
      "image/png": "[encoded data removed]",
      "text/plain": [
       "<Figure size 432x288 with 1 Axes>"
      ]
     },
     "metadata": {
      "needs_background": "light"
     },
     "output_type": "display_data"
    }
   ],
   "source": [
    "plt.imshow(torch.flip(asd[:,20:40], [-2]), cmap='gray', vmin=0, vmax=1)"
   ]
  },
  {
   "cell_type": "code",
   "execution_count": 183,
   "metadata": {},
   "outputs": [
    {
     "name": "stderr",
     "output_type": "stream",
     "text": [
      " 94%|█████████████████████████████████████████████████████████████████████████████▏    | 16/17 [00:00<00:00, 27.80it/s]"
     ]
    },
    {
     "name": "stdout",
     "output_type": "stream",
     "text": [
      "bene dai\n"
     ]
    },
    {
     "name": "stderr",
     "output_type": "stream",
     "text": [
      "\n"
     ]
    },
    {
     "ename": "AssertionError",
     "evalue": "occupato: tensor(180489289924) 62 2 2 True True 2560 20960 5 True 15 130",
     "output_type": "error",
     "traceback": [
      "\u001b[1;31m---------------------------------------------------------------------------\u001b[0m",
      "\u001b[1;31mAssertionError\u001b[0m                            Traceback (most recent call last)",
      "\u001b[1;32m<ipython-input-183-b15489e6661d>\u001b[0m in \u001b[0;36m<module>\u001b[1;34m\u001b[0m\n\u001b[0;32m      1\u001b[0m \u001b[1;32mfor\u001b[0m \u001b[0mlevelMM\u001b[0m \u001b[1;32min\u001b[0m \u001b[0mtqdm\u001b[0m\u001b[1;33m(\u001b[0m\u001b[0mmarioMakerLevels\u001b[0m\u001b[1;33m)\u001b[0m\u001b[1;33m:\u001b[0m\u001b[1;33m\u001b[0m\u001b[1;33m\u001b[0m\u001b[0m\n\u001b[1;32m----> 2\u001b[1;33m     \u001b[0mlevelMM\u001b[0m\u001b[1;33m.\u001b[0m\u001b[0mmainLevelArea\u001b[0m\u001b[1;33m.\u001b[0m\u001b[0mtoPytorchMatrix\u001b[0m\u001b[1;33m(\u001b[0m\u001b[1;33m)\u001b[0m\u001b[1;33m\u001b[0m\u001b[1;33m\u001b[0m\u001b[0m\n\u001b[0m",
      "\u001b[1;32m<ipython-input-162-8f93fd47afd0>\u001b[0m in \u001b[0;36mtoPytorchMatrix\u001b[1;34m(self)\u001b[0m\n\u001b[0;32m    212\u001b[0m                 \u001b[1;32mfor\u001b[0m \u001b[0mi\u001b[0m \u001b[1;32min\u001b[0m \u001b[0mrange\u001b[0m \u001b[1;33m(\u001b[0m\u001b[1;36m0\u001b[0m\u001b[1;33m,\u001b[0m\u001b[0mwidth\u001b[0m\u001b[1;33m)\u001b[0m\u001b[1;33m:\u001b[0m\u001b[1;33m\u001b[0m\u001b[1;33m\u001b[0m\u001b[0m\n\u001b[0;32m    213\u001b[0m                     \u001b[1;32mfor\u001b[0m \u001b[0mj\u001b[0m \u001b[1;32min\u001b[0m \u001b[0mrange\u001b[0m \u001b[1;33m(\u001b[0m\u001b[1;36m0\u001b[0m\u001b[1;33m,\u001b[0m\u001b[0mheight\u001b[0m\u001b[1;33m)\u001b[0m\u001b[1;33m:\u001b[0m\u001b[1;33m\u001b[0m\u001b[1;33m\u001b[0m\u001b[0m\n\u001b[1;32m--> 214\u001b[1;33m                         \u001b[0mself\u001b[0m\u001b[1;33m.\u001b[0m\u001b[0msetCellMatrix\u001b[0m\u001b[1;33m(\u001b[0m\u001b[0mmatrix\u001b[0m\u001b[1;33m,\u001b[0m \u001b[0mobjectMM\u001b[0m\u001b[1;33m,\u001b[0m \u001b[0mlayer\u001b[0m\u001b[1;33m,\u001b[0m \u001b[0mobjectMM\u001b[0m\u001b[1;33m.\u001b[0m\u001b[0myPosition\u001b[0m \u001b[1;33m+\u001b[0m \u001b[1;33m(\u001b[0m\u001b[0mj\u001b[0m \u001b[1;33m*\u001b[0m \u001b[0mversoY\u001b[0m\u001b[1;33m)\u001b[0m\u001b[1;33m,\u001b[0m \u001b[0mobjectMM\u001b[0m\u001b[1;33m.\u001b[0m\u001b[0mxPosition\u001b[0m \u001b[1;33m+\u001b[0m \u001b[1;33m(\u001b[0m\u001b[0mi\u001b[0m \u001b[1;33m*\u001b[0m \u001b[0mversoX\u001b[0m\u001b[1;33m)\u001b[0m\u001b[1;33m,\u001b[0m \u001b[1;33m(\u001b[0m\u001b[0mi\u001b[0m \u001b[1;33m==\u001b[0m \u001b[1;36m0\u001b[0m \u001b[1;32mand\u001b[0m \u001b[0mj\u001b[0m \u001b[1;33m==\u001b[0m \u001b[1;36m0\u001b[0m\u001b[1;33m)\u001b[0m\u001b[1;33m)\u001b[0m\u001b[1;33m\u001b[0m\u001b[1;33m\u001b[0m\u001b[0m\n\u001b[0m\u001b[0;32m    215\u001b[0m                 \u001b[1;32mcontinue\u001b[0m\u001b[1;33m\u001b[0m\u001b[1;33m\u001b[0m\u001b[0m\n\u001b[0;32m    216\u001b[0m \u001b[1;33m\u001b[0m\u001b[0m\n",
      "\u001b[1;32m<ipython-input-162-8f93fd47afd0>\u001b[0m in \u001b[0;36msetCellMatrix\u001b[1;34m(self, matrix, objectMM, layer, yPosition, xPosition, childSoundCell)\u001b[0m\n\u001b[0;32m    309\u001b[0m         \u001b[1;32massert\u001b[0m \u001b[0mmatrix\u001b[0m\u001b[1;33m[\u001b[0m\u001b[0mlayer\u001b[0m\u001b[1;33m]\u001b[0m\u001b[1;33m[\u001b[0m\u001b[0myPosition\u001b[0m\u001b[1;33m]\u001b[0m\u001b[1;33m[\u001b[0m\u001b[0mxPosition\u001b[0m\u001b[1;33m]\u001b[0m \u001b[1;33m==\u001b[0m \u001b[1;36m0\u001b[0m \u001b[1;32mor\u001b[0m \u001b[0mmatrix\u001b[0m\u001b[1;33m[\u001b[0m\u001b[0mlayer\u001b[0m\u001b[1;33m]\u001b[0m\u001b[1;33m[\u001b[0m\u001b[0myPosition\u001b[0m\u001b[1;33m]\u001b[0m\u001b[1;33m[\u001b[0m\u001b[0mxPosition\u001b[0m\u001b[1;33m]\u001b[0m \u001b[1;33m==\u001b[0m \u001b[1;36m7\u001b[0m\u001b[1;33m,\u001b[0m \u001b[1;34m'occupato: '\u001b[0m \u001b[1;33m+\u001b[0m \u001b[0mstr\u001b[0m\u001b[1;33m(\u001b[0m\u001b[0mmatrix\u001b[0m\u001b[1;33m[\u001b[0m\u001b[0mlayer\u001b[0m\u001b[1;33m]\u001b[0m\u001b[1;33m[\u001b[0m\u001b[0myPosition\u001b[0m\u001b[1;33m]\u001b[0m\u001b[1;33m[\u001b[0m\u001b[0mxPosition\u001b[0m\u001b[1;33m]\u001b[0m\u001b[1;33m)\u001b[0m \u001b[1;33m+\u001b[0m \u001b[1;34m' '\u001b[0m \u001b[1;33m+\u001b[0m \u001b[0mstr\u001b[0m\u001b[1;33m(\u001b[0m\u001b[0mobjectMM\u001b[0m\u001b[1;33m.\u001b[0m\u001b[0mobjectType\u001b[0m\u001b[1;33m)\u001b[0m \u001b[1;33m+\u001b[0m \u001b[1;34m' '\u001b[0m \u001b[1;33m+\u001b[0m \u001b[0mstr\u001b[0m\u001b[1;33m(\u001b[0m\u001b[0mobjectMM\u001b[0m\u001b[1;33m.\u001b[0m\u001b[0mobjectWidth\u001b[0m\u001b[1;33m)\u001b[0m \u001b[1;33m+\u001b[0m \u001b[1;34m' '\u001b[0m \u001b[1;33m+\u001b[0m \u001b[0mstr\u001b[0m\u001b[1;33m(\u001b[0m\u001b[0mobjectMM\u001b[0m\u001b[1;33m.\u001b[0m\u001b[0mobjectHeight\u001b[0m\u001b[1;33m)\u001b[0m\u001b[0;31m\\\u001b[0m\u001b[1;33m\u001b[0m\u001b[1;33m\u001b[0m\u001b[0m\n\u001b[0;32m    310\u001b[0m         \u001b[1;33m+\u001b[0m \u001b[1;34m' '\u001b[0m \u001b[1;33m+\u001b[0m \u001b[0mstr\u001b[0m\u001b[1;33m(\u001b[0m\u001b[0mobjectMM\u001b[0m\u001b[1;33m.\u001b[0m\u001b[0mmiddleTileX\u001b[0m\u001b[1;33m)\u001b[0m \u001b[1;33m+\u001b[0m \u001b[1;34m' '\u001b[0m \u001b[1;33m+\u001b[0m \u001b[0mstr\u001b[0m\u001b[1;33m(\u001b[0m\u001b[0mobjectMM\u001b[0m\u001b[1;33m.\u001b[0m\u001b[0mmiddleTileY\u001b[0m\u001b[1;33m)\u001b[0m \u001b[1;33m+\u001b[0m \u001b[1;34m' '\u001b[0m \u001b[1;33m+\u001b[0m \u001b[0mstr\u001b[0m\u001b[1;33m(\u001b[0m\u001b[0mobjectMM\u001b[0m\u001b[1;33m.\u001b[0m\u001b[0myOriginalPosition\u001b[0m\u001b[1;33m)\u001b[0m \u001b[1;33m+\u001b[0m \u001b[1;34m' '\u001b[0m \u001b[1;33m+\u001b[0m \u001b[0mstr\u001b[0m\u001b[1;33m(\u001b[0m\u001b[0mobjectMM\u001b[0m\u001b[1;33m.\u001b[0m\u001b[0mxOriginalPosition\u001b[0m\u001b[1;33m)\u001b[0m \u001b[1;33m+\u001b[0m \u001b[1;34m' '\u001b[0m \u001b[1;33m+\u001b[0m \u001b[0mstr\u001b[0m\u001b[1;33m(\u001b[0m\u001b[0mobjectMM\u001b[0m\u001b[1;33m.\u001b[0m\u001b[0mlinkID\u001b[0m\u001b[1;33m)\u001b[0m \u001b[1;33m+\u001b[0m \u001b[1;34m' '\u001b[0m \u001b[1;33m+\u001b[0m \u001b[0mstr\u001b[0m\u001b[1;33m(\u001b[0m\u001b[0mchildSoundCell\u001b[0m\u001b[1;33m)\u001b[0m\u001b[0;31m\\\u001b[0m\u001b[1;33m\u001b[0m\u001b[1;33m\u001b[0m\u001b[0m\n\u001b[1;32m--> 311\u001b[1;33m         \u001b[1;33m+\u001b[0m \u001b[1;34m' '\u001b[0m \u001b[1;33m+\u001b[0m \u001b[0mstr\u001b[0m\u001b[1;33m(\u001b[0m\u001b[0myPosition\u001b[0m\u001b[1;33m)\u001b[0m \u001b[1;33m+\u001b[0m \u001b[1;34m' '\u001b[0m \u001b[1;33m+\u001b[0m \u001b[0mstr\u001b[0m\u001b[1;33m(\u001b[0m\u001b[0mxPosition\u001b[0m\u001b[1;33m)\u001b[0m\u001b[1;33m\u001b[0m\u001b[1;33m\u001b[0m\u001b[0m\n\u001b[0m\u001b[0;32m    312\u001b[0m         \u001b[0mmatrix\u001b[0m\u001b[1;33m[\u001b[0m\u001b[0mlayer\u001b[0m\u001b[1;33m]\u001b[0m\u001b[1;33m[\u001b[0m\u001b[0myPosition\u001b[0m\u001b[1;33m]\u001b[0m\u001b[1;33m[\u001b[0m\u001b[0mxPosition\u001b[0m\u001b[1;33m]\u001b[0m \u001b[1;33m=\u001b[0m \u001b[0mobjectMM\u001b[0m\u001b[1;33m.\u001b[0m\u001b[0mflagsType\u001b[0m\u001b[1;33m\u001b[0m\u001b[1;33m\u001b[0m\u001b[0m\n\u001b[0;32m    313\u001b[0m         \u001b[1;32mif\u001b[0m\u001b[1;33m(\u001b[0m\u001b[0mchildSoundCell\u001b[0m\u001b[1;33m)\u001b[0m\u001b[1;33m:\u001b[0m\u001b[1;33m\u001b[0m\u001b[1;33m\u001b[0m\u001b[0m\n",
      "\u001b[1;31mAssertionError\u001b[0m: occupato: tensor(180489289924) 62 2 2 True True 2560 20960 5 True 15 130"
     ]
    }
   ],
   "source": [
    "for levelMM in tqdm(marioMakerLevels):\n",
    "    levelMM.mainLevelArea.toPytorchMatrix()"
   ]
  },
  {
   "cell_type": "code",
   "execution_count": null,
   "metadata": {},
   "outputs": [],
   "source": []
  },
  {
   "cell_type": "code",
   "execution_count": 180,
   "metadata": {},
   "outputs": [
    {
     "name": "stderr",
     "output_type": "stream",
     "text": [
      "  0%|                                                                                | 4/13971 [00:00<10:22, 22.45it/s]"
     ]
    },
    {
     "name": "stdout",
     "output_type": "stream",
     "text": [
      "\u0000\u0000\u0000\u0000\u0000\u0000\u0000\u0000\u0000\u0000\u0000\u0000\u0000\u0000\u0000\u0000\u0000\u0000\u0000\u0000\u0000\u0000\u0000\u0000\u0000\u0000\u0000\u0000\u0000\u0000\u0000\u0000\u0000\n",
      ".bcd\n",
      ".\u0000\u0000\u0000\u0000\u0000\u0000\u0000\u0000\u0000\u0000\u0000\u0000\u0000\u0000\u0000\u0000\u0000\u0000\u0000\u0000\u0000\u0000\u0000\u0000\u0000\u0000\u0000\u0000\u0000\u0000\u0000\u0000\n",
      "._12720.bcd\n",
      "0-1 Strawberry Marshmallow\u0000\u0000\u0000\u0000\u0000\u0000\u0000\n",
      "0-1_strawberry_marshmallow_13844.bcd\n",
      "0-2 The Wind Rises\u0000\u0000\u0000\u0000\u0000\u0000\u0000\u0000\u0000\u0000\u0000\u0000\u0000\u0000\u0000\n",
      "0-2_the_wind_rises_15637.bcd\n"
     ]
    },
    {
     "name": "stderr",
     "output_type": "stream",
     "text": [
      "\r",
      "  0%|                                                                                | 8/13971 [00:00<09:39, 24.07it/s]"
     ]
    },
    {
     "name": "stdout",
     "output_type": "stream",
     "text": [
      "000\u0000\u0000\u0000\u0000\u0000\u0000\u0000\u0000\u0000\u0000\u0000\u0000\u0000\u0000\u0000\u0000\u0000\u0000\u0000\u0000\u0000\u0000\u0000\u0000\u0000\u0000\u0000\u0000\u0000\u0000\n",
      "000_3523.bcd\n",
      "001\u0000\u0000\u0000\u0000\u0000\u0000\u0000\u0000\u0000\u0000\u0000\u0000\u0000\u0000\u0000\u0000\u0000\u0000\u0000\u0000\u0000\u0000\u0000\u0000\u0000\u0000\u0000\u0000\u0000\u0000\n",
      "001_2447.bcd\n",
      "001\u0000\u0000\u0000\u0000\u0000\u0000\u0000\u0000\u0000\u0000\u0000\u0000\u0000\u0000\u0000\u0000\u0000\u0000\u0000\u0000\u0000\u0000\u0000\u0000\u0000\u0000\u0000\u0000\u0000\u0000\n",
      "001_4583.bcd\n",
      "007 - Bond, Mario Bond ♪\u0000\u0000\u0000\u0000\u0000\u0000\u0000\u0000\u0000\n",
      "007_-_bond_mario_bond__2958.bcd\n",
      "00\u0000\u0000\u0000\u0000\u0000\u0000\u0000\u0000\u0000\u0000\u0000\u0000\u0000\u0000\u0000\u0000\u0000\u0000\u0000\u0000\u0000\u0000\u0000\u0000\u0000\u0000\u0000\u0000\u0000\u0000\u0000\n",
      "00_12889.bcd\n",
      "00\u0000\u0000\u0000\u0000\u0000\u0000\u0000\u0000\u0000\u0000\u0000\u0000\u0000\u0000\u0000\u0000\u0000\u0000\u0000\u0000\u0000\u0000\u0000\u0000\u0000\u0000\u0000\u0000\u0000\u0000\u0000\n",
      "00_4633.bcd\n",
      "01castle\u0000\u0000\u0000\u0000\u0000\u0000\u0000\u0000\u0000\u0000\u0000\u0000\u0000\u0000\u0000\u0000\u0000\u0000\u0000\u0000\u0000\u0000\u0000\u0000\u0000\n",
      "01castle_4415.bcd\n"
     ]
    },
    {
     "name": "stderr",
     "output_type": "stream",
     "text": [
      "  0%|                                                                               | 15/13971 [00:00<08:56, 26.01it/s]"
     ]
    },
    {
     "name": "stdout",
     "output_type": "stream",
     "text": [
      "01flyinghouse\u0000\u0000\u0000\u0000\u0000\u0000\u0000\u0000\u0000\u0000\u0000\u0000\u0000\u0000\u0000\u0000\u0000\u0000\u0000\u0000\n",
      "01flyinghouse_4452.bcd\n",
      "01Forest\u0000\u0000\u0000\u0000\u0000\u0000\u0000\u0000\u0000\u0000\u0000\u0000\u0000\u0000\u0000\u0000\u0000\u0000\u0000\u0000\u0000\u0000\u0000\u0000\u0000\n",
      "01forest_4431.bcd\n",
      "01ghost\u0000\u0000\u0000\u0000\u0000\u0000\u0000\u0000\u0000\u0000\u0000\u0000\u0000\u0000\u0000\u0000\u0000\u0000\u0000\u0000\u0000\u0000\u0000\u0000\u0000\u0000\n",
      "01ghost_4139.bcd\n",
      "01\u0000\u0000\u0000\u0000\u0000\u0000\u0000\u0000\u0000\u0000\u0000\u0000\u0000\u0000\u0000\u0000\u0000\u0000\u0000\u0000\u0000\u0000\u0000\u0000\u0000\u0000\u0000\u0000\u0000\u0000\u0000\n",
      "01_12890.bcd\n",
      "01\u0000\u0000\u0000\u0000\u0000\u0000\u0000\u0000\u0000\u0000\u0000\u0000\u0000\u0000\u0000\u0000\u0000\u0000\u0000\u0000\u0000\u0000\u0000\u0000\u0000\u0000\u0000\u0000\u0000\u0000\u0000\n",
      "01_721.bcd\n",
      "01 Bordel dans le desert\u0000\u0000\u0000\u0000\u0000\u0000\u0000\u0000\u0000\n",
      "01_bordel_dans_le_desert_4453.bcd\n"
     ]
    },
    {
     "name": "stderr",
     "output_type": "stream",
     "text": [
      "\r",
      "  0%|                                                                               | 18/13971 [00:00<10:46, 21.58it/s]"
     ]
    },
    {
     "name": "stdout",
     "output_type": "stream",
     "text": [
      "03: Kleiner Abenteuer-Dschungel\u0000\u0000\n",
      "03_kleiner_abenteuer-dschungel_878.bcd\n",
      "05:00 AM\u0000\u0000\u0000\u0000\u0000\u0000\u0000\u0000\u0000\u0000\u0000\u0000\u0000\u0000\u0000\u0000\u0000\u0000\u0000\u0000\u0000\u0000\u0000\u0000\u0000\n",
      "05_00_am_12100.bcd\n",
      "099\u0000\u0000\u0000\u0000\u0000\u0000\u0000\u0000\u0000\u0000\u0000\u0000\u0000\u0000\u0000\u0000\u0000\u0000\u0000\u0000\u0000\u0000\u0000\u0000\u0000\u0000\u0000\u0000\u0000\u0000\n",
      "099_13632.bcd\n",
      "0_0\u0000\u0000\u0000\u0000\u0000\u0000\u0000\u0000\u0000\u0000\u0000\u0000\u0000\u0000d\u0000\u0000\u0000\u0000\u0000\u0000\u0000\u0000\u0000\u0000\u0000\u0000\u0000\u0000\u0000"
     ]
    },
    {
     "name": "stderr",
     "output_type": "stream",
     "text": [
      "  0%|▏                                                                              | 25/13971 [00:00<09:06, 25.53it/s]"
     ]
    },
    {
     "name": "stdout",
     "output_type": "stream",
     "text": [
      "\n",
      "0_0d_12647.bcd\n",
      "0\u0000\u0000\u0000\u0000\u0000\u0000\u0000\u0000\u0000\u0000\u0000\u0000\u0000\u0000\u0000\u0000\u0000\u0000\u0000\u0000\u0000\u0000\u0000\u0000\u0000\u0000\u0000\u0000\u0000\u0000\u0000\u0000\n",
      "0_2849.bcd\n",
      "0 Degrees Shellsius #TS #ST\u0000\u0000\u0000\u0000\u0000\u0000\n",
      "0_degrees_shellsius_ts_st_11763.bcd\n",
      "1-1.exe has encountered an error\u0000\n",
      "1-1.exe_has_encountered_an_error_737.bcd\n",
      "1-1but it autoscrolls vertically\u0000\n",
      "1-1but_it_autoscrolls_vertically_10902.bcd\n",
      "1-1 1-2\u0000\u0000\u0000\u0000\u0000\u0000\u0000\u0000\u0000\u0000\u0000\u0000\u0000\u0000\u0000\u0000\u0000\u0000\u0000\u0000\u0000\u0000\u0000\u0000\u0000\u0000\n",
      "1-1_1-2_511.bcd\n",
      "1-1\u0000\u0000\u0000\u0000\u0000\u0000\u0000\u0000\u0000\u0000\u0000\u0000\u0000\u0000\u0000\u0000\u0000\u0000\u0000\u0000\u0000\u0000\u0000\u0000\u0000\u0000\u0000\u0000\u0000\u0000"
     ]
    },
    {
     "name": "stderr",
     "output_type": "stream",
     "text": [
      "\r",
      "  0%|▏                                                                              | 28/13971 [00:01<10:46, 21.58it/s]"
     ]
    },
    {
     "name": "stdout",
     "output_type": "stream",
     "text": [
      "\n",
      "1-1_12888.bcd\n",
      "1-1\u0000\u0000\u0000\u0000\u0000\u0000\u0000\u0000\u0000\u0000\u0000\u0000\u0000\u0000\u0000\u0000\u0000\u0000\u0000\u0000\u0000\u0000\u0000\u0000\u0000\u0000\u0000\u0000\u0000\u0000\n",
      "1-1_178.bcd\n",
      "1-1\u0000\u0000\u0000\u0000\u0000\u0000\u0000\u0000\u0000\u0000\u0000\u0000\u0000\u0000\u0000\u0000\u0000\u0000\u0000\u0000\u0000\u0000\u0000\u0000\u0000\u0000\u0000\u0000\u0000\u0000\n",
      "1-1_2545.bcd\n",
      "1-1\u0000\u0000\u0000\u0000\u0000\u0000\u0000\u0000\u0000\u0000\u0000\u0000\u0000\u0000\u0000\u0000\u0000\u0000\u0000\u0000\u0000\u0000\u0000\u0000\u0000\u0000\u0000\u0000\u0000\u0000\n",
      "1-1_5129.bcd\n"
     ]
    },
    {
     "name": "stderr",
     "output_type": "stream",
     "text": [
      "\r",
      "  0%|▏                                                                              | 32/13971 [00:01<10:05, 23.01it/s]"
     ]
    },
    {
     "name": "stdout",
     "output_type": "stream",
     "text": [
      "1-1\u0000\u0000\u0000\u0000\u0000\u0000\u0000\u0000\u0000\u0000\u0000\u0000\u0000\u0000\u0000\u0000\u0000\u0000\u0000\u0000\u0000\u0000\u0000\u0000\u0000\u0000\u0000\u0000\u0000\u0000\n",
      "1-1_6168.bcd\n",
      "1-1 Appel Wood Valley\u0000\u0000\u0000\u0000\u0000\u0000\u0000\u0000\u0000\u0000\u0000\u0000\n",
      "1-1_appel_wood_valley_2963.bcd\n",
      "1-1 but ...?\u0000\u0000\u0000\u0000\u0000ist\u0000\u0000\u0000\u0000\u0000\u0000\u0000\u0000\u0000\u0000\u0000\u0000\u0000\n",
      "1-1_but_..._ist_2697.bcd\n",
      "1-1 but in a nintedo switch\u0000\u0000\u0000\u0000\u0000\u0000\n",
      "1-1_but_in_a_nintedo_switch_12223.bcd\n",
      "1-1 but its on and off\u0000\u0000\u0000\u0000\u0000\u0000\u0000\u0000\u0000\u0000\u0000\n",
      "1-1_but_its_on_and_off_12337.bcd\n"
     ]
    },
    {
     "name": "stderr",
     "output_type": "stream",
     "text": [
      "\r",
      "  0%|▏                                                                              | 35/13971 [00:01<10:16, 22.60it/s]"
     ]
    },
    {
     "name": "stdout",
     "output_type": "stream",
     "text": [
      "1-1 But It's Played By A Goomba\u0000\u0000\n",
      "1-1_but_it_s_played_by_a_goomba_10551.bcd\n",
      "1-1, but it's shaky\u0000\u0000\u0000\u0000\u0000\u0000\u0000\u0000\u0000\u0000\u0000\u0000\u0000\u0000\n",
      "1-1_but_it_s_shaky_13985.bcd\n"
     ]
    },
    {
     "name": "stderr",
     "output_type": "stream",
     "text": [
      "\r",
      "  0%|▏                                                                              | 38/13971 [00:01<13:36, 17.07it/s]"
     ]
    },
    {
     "name": "stdout",
     "output_type": "stream",
     "text": [
      "1-1 but Mother Nature is MAD!\u0000\u0000\u0000\u0000\n",
      "1-1_but_mother_nature_is_mad__2720.bcd\n",
      "1-1 but this joke is dead :( \u0000\u0000\u0000\u0000\n",
      "1-1_but_this_joke_is_dead__8179.bcd\n"
     ]
    },
    {
     "name": "stderr",
     "output_type": "stream",
     "text": [
      "\r",
      "  0%|▏                                                                              | 40/13971 [00:01<18:26, 12.59it/s]"
     ]
    },
    {
     "name": "stdout",
     "output_type": "stream",
     "text": [
      "1-1 but with an extra twist\u0000\u0000\u0000\u0000\u0000\u0000\n",
      "1-1_but_with_an_extra_twist_4023.bcd\n",
      "1-1 but with a twist\u0000\u0000\u0000\u0000\u0000\u0000\u0000\u0000\u0000\u0000\u0000\u0000\u0000\n",
      "1-1_but_with_a_twist_2394.bcd\n",
      "1-1 Deluxe (NES REMASTER)\u0000!!\u0000\u0000\u0000\u0000\u0000\n",
      "1-1_deluxe_nes_remaster__11875.bcd\n"
     ]
    },
    {
     "name": "stderr",
     "output_type": "stream",
     "text": [
      "  0%|▎                                                                              | 45/13971 [00:02<18:04, 12.84it/s]"
     ]
    },
    {
     "name": "stdout",
     "output_type": "stream",
     "text": [
      "1-1 Flipped On Its Side!\u00000s)\u0000nt!\u0000\n",
      "1-1_flipped_on_its_side_0s_nt__4041.bcd\n",
      "1-1 Freewheelin\u0000\u0000mb's Blues\u0000e\u0000\u0000\u0000\u0000\n",
      "1-1_freewheelinmb_s_bluese_15011.bcd\n",
      "1-1 Glitch Wall\u0000\u0000-1 Remake\u0000\u0000\u0000\u0000\u0000\u0000\u0000\n",
      "1-1_glitch_wall-1_remake_4421.bcd\n",
      "1-1  goomba hills  (5 starcoins)\u0000\n",
      "1-1_goomba_hills_5_starcoins__13736.bcd\n",
      "1-1 Grassy Goomba Grounds\u0000ds\u0000\u0000\u0000\u0000\u0000\n",
      "1-1_grassy_goomba_groundsds_13483.bcd\n"
     ]
    },
    {
     "name": "stderr",
     "output_type": "stream",
     "text": [
      "  0%|▎                                                                              | 49/13971 [00:02<15:05, 15.37it/s]"
     ]
    },
    {
     "name": "stdout",
     "output_type": "stream",
     "text": [
      "1-1を壊さないで！！　Lakitu Breaks 1-1\u0000\u0000\u0000\u0000\n",
      "1-1_lakitu_breaks_1-1_11651.bcd\n",
      "1-1 Leaving Home\u0000\u0000\u0000\u0000\u0000\u0000\u0000\u0000\u0000\u0000\u0000\u0000\u0000\u0000\u0000\u0000\u0000\n",
      "1-1_leaving_home_2863.bcd\n",
      "1-1 Mario 3\u0000\u0000\u0000\u0000\u0000\u0000\u0000\u0000\u0000\u0000\u0000\u0000\u0000\u0000\u0000\u0000\u0000\u0000\u0000\u0000\u0000\u0000\n",
      "1-1_mario_3_12722.bcd\n",
      "1-1 Mario Bros.: A New Journey\u0000\u0000\u0000\n",
      "1-1_mario_bros._a_new_journey_14350.bcd\n",
      "1-1: Muncher Mines\u0000\u0000\u0000\u0000\u0000\u0000\u0000\u0000\u0000\u0000\u0000\u0000\u0000\u0000\u0000"
     ]
    },
    {
     "name": "stderr",
     "output_type": "stream",
     "text": [
      "  0%|▎                                                                              | 54/13971 [00:02<13:33, 17.10it/s]"
     ]
    },
    {
     "name": "stdout",
     "output_type": "stream",
     "text": [
      "\n",
      "1-1_muncher_mines_5058.bcd\n",
      "1-1: Mushroom Fields Forever\u0000\u0000\u0000\u0000\u0000\n",
      "1-1_mushroom_fields_forever_14403.bcd\n",
      "1-1: Mystical Mushrooms.\u0000\u0000\u0000\u0000\u0000\u0000\u0000\u0000\u0000\n",
      "1-1_mystical_mushrooms._12384.bcd\n",
      "1-1 New Super Mario Bros 2\u0000\u0000\u0000\u0000\u0000\u0000\u0000\n",
      "1-1_new_super_mario_bros_2_13492.bcd\n"
     ]
    },
    {
     "name": "stderr",
     "output_type": "stream",
     "text": [
      "\r",
      "  0%|▎                                                                              | 57/13971 [00:02<12:22, 18.74it/s]"
     ]
    },
    {
     "name": "stdout",
     "output_type": "stream",
     "text": [
      "1-1 Offical Nintendo Autoscroll\u0000\u0000\n",
      "1-1_offical_nintendo_autoscroll_5340.bcd\n",
      "1-1 On/Off Hill\u0000\u0000ction\u0000\u0000\u0000\u0000\u0000\u0000\u0000\u0000\u0000\u0000\u0000\n",
      "1-1_on_off_hillction_1085.bcd\n",
      "1-1 Platform Plains\u0000\u0000\u0000\u0000\u0000\u0000\u0000\u0000\u0000\u0000\u0000\u0000\u0000\u0000\n",
      "1-1_platform_plains_13414.bcd\n",
      "1-1 Remastered\u0000\u0000\u0000\u0000\u0000\u0000\u0000\u0000\u0000\u0000\u0000\u0000\u0000\u0000\u0000\u0000\u0000\u0000\u0000\n",
      "1-1_remastered_10783.bcd\n",
      "1-1 Remix\u0000\u0000\u0000\u0000\u0000\u0000\u0000\u0000\u0000\u0000\u0000\u0000\u0000\u0000\u0000\u0000\u0000\u0000\u0000\u0000\u0000\u0000\u0000\u0000"
     ]
    },
    {
     "name": "stderr",
     "output_type": "stream",
     "text": [
      "\r",
      "  0%|▎                                                                              | 60/13971 [00:03<11:53, 19.51it/s]"
     ]
    },
    {
     "name": "stdout",
     "output_type": "stream",
     "text": [
      "\n",
      "1-1_remix_557.bcd\n",
      "1-1 (SMB 3) Christmas Special\u0000\u0000\u0000\u0000\n",
      "1-1_smb_3_christmas_special_7120.bcd\n",
      "1-1 SMB\u0000\u0000\u0000\u0000\u0000\u0000\u0000\u0000\u0000\u0000\u0000\u0000\u0000\u0000\u0000\u0000\u0000\u0000\u0000\u0000\u0000\u0000\u0000\u0000\u0000\u0000\n",
      "1-1_smb_451.bcd\n",
      "1-1: Spinjump Valley\u0000\u0000\u0000\u0000\u0000\u0000\u0000\u0000\u0000\u0000\u0000\u0000\u0000\n",
      "1-1_spinjump_valley_4380.bcd\n"
     ]
    },
    {
     "name": "stderr",
     "output_type": "stream",
     "text": [
      "  0%|▎                                                                              | 65/13971 [00:03<15:38, 14.82it/s]"
     ]
    },
    {
     "name": "stdout",
     "output_type": "stream",
     "text": [
      "1-1 Super Mario Bros. 2\u0000\u0000\u0000\u0000\u0000\u0000\u0000\u0000\u0000\u0000\n",
      "1-1_super_mario_bros._2_12781.bcd\n",
      "1-1 the crazy woods\u0000e wege\u0000\u0000\u0000\u0000\u0000\u0000\u0000\n",
      "1-1_the_crazy_woodse_wege_1316.bcd\n"
     ]
    },
    {
     "name": "stderr",
     "output_type": "stream",
     "text": [
      "\r",
      "  0%|▍                                                                              | 68/13971 [00:03<14:44, 15.71it/s]"
     ]
    },
    {
     "name": "stdout",
     "output_type": "stream",
     "text": [
      "1-1 without the ground\u0000\u0000\u0000\u0000\u0000\u0000\u0000\u0000\u0000\u0000\u0000\n",
      "1-1_without_the_ground_6808.bcd\n",
      "1-1 Without Touching the Ground\u0000\u0000\n",
      "1-1_without_touching_the_ground_2164.bcd\n",
      "1-1?\u0000\u0000\u0000\u0000\u0000\u0000\u0000\u0000\u0000\u0000\u0000\u0000\u0000\u0000\u0000\u0000\u0000\u0000\u0000\u0000\u0000\u0000\u0000\u0000\u0000\u0000\u0000\u0000\u0000\n",
      "1-1__1164.bcd\n",
      "1-2.exe has encountered an ěřŕôŕ\u0000\n",
      "1-2.exe_has_encountered_an__876.bcd\n",
      "1-2 ノコノコレジデンス -Troopa Town-\u0000\u0000\u0000\u0000\u0000\u0000"
     ]
    },
    {
     "name": "stderr",
     "output_type": "stream",
     "text": [
      "\r",
      "  1%|▍                                                                              | 70/13971 [00:03<14:02, 16.50it/s]"
     ]
    },
    {
     "name": "stdout",
     "output_type": "stream",
     "text": [
      "\n",
      "1-2_-troopa_town-_10277.bcd\n",
      "1-2\u0000\u0000\u0000\u0000\u0000\u0000\u0000\u0000\u0000\u0000\u0000\u0000\u0000\u0000\u0000\u0000\u0000\u0000\u0000\u0000\u0000\u0000\u0000\u0000\u0000\u0000\u0000\u0000\u0000\u0000\n",
      "1-2_10813.bcd\n",
      "1-2\u0000\u0000\u0000\u0000\u0000\u0000\u0000\u0000\u0000\u0000\u0000\u0000\u0000\u0000\u0000\u0000\u0000\u0000\u0000\u0000\u0000\u0000\u0000\u0000\u0000\u0000\u0000\u0000\u0000\u0000\n",
      "1-2_1961.bcd\n",
      "1-2 \"3 pièces dans 3 pièces\"\u0000\u0000\u0000\u0000\u0000\n",
      "1-2_3_pi_ces_dans_3_pi_ces__1393.bcd\n"
     ]
    },
    {
     "name": "stderr",
     "output_type": "stream",
     "text": [
      "  1%|▍                                                                              | 76/13971 [00:04<15:20, 15.09it/s]"
     ]
    },
    {
     "name": "stdout",
     "output_type": "stream",
     "text": [
      "1-2\u0000\u0000\u0000\u0000\u0000\u0000\u0000\u0000\u0000\u0000\u0000\u0000\u0000\u0000\u0000\u0000\u0000\u0000\u0000\u0000\u0000\u0000\u0000\u0000\u0000\u0000\u0000\u0000\u0000\u0000\n",
      "1-2_5130.bcd\n",
      "1-2 but without ground\u0000\u0000\u0000\u0000\u0000\u0000\u0000\u0000\u0000\u0000\u0000\n",
      "1-2_but_without_ground_8587.bcd\n",
      "1-2 Deluxe (NES REMASTER)\u0000Level)\u0000\n",
      "1-2_deluxe_nes_remaster_level__9001.bcd\n"
     ]
    },
    {
     "name": "stderr",
     "output_type": "stream",
     "text": [
      "\r",
      "  1%|▍                                                                              | 78/13971 [00:04<15:30, 14.94it/s]"
     ]
    },
    {
     "name": "stdout",
     "output_type": "stream",
     "text": [
      "1-2 Easy Ocean\u0000\u0000\u0000u\u0000\u0000\u0000\u0000\u0000\u0000\u0000\u0000\u0000\u0000\u0000\u0000\u0000\u0000\u0000\n",
      "1-2_easy_oceanu_11055.bcd\n",
      "1-2 Highwater\u0000\u0000\u0000\u0000mb's Blues\u0000e\u0000\u0000\u0000\u0000\n",
      "1-2_highwatermb_s_bluese_15010.bcd\n",
      "1-2: King Boboboomboom's Cavern\u0000\u0000\n",
      "1-2_king_boboboomboom_s_cavern_5059.bcd\n"
     ]
    },
    {
     "name": "stderr",
     "output_type": "stream",
     "text": [
      "\r",
      "  1%|▍                                                                              | 80/13971 [00:04<16:39, 13.90it/s]"
     ]
    },
    {
     "name": "stdout",
     "output_type": "stream",
     "text": [
      "1-2 Love never dies #Bakedpotato\u0000\n",
      "1-2_love_never_dies_bakedpotato_14743.bcd\n",
      "1-2 Mushroom Sky\u0000\u0000\u0000\u0000\u0000\u0000\u0000\u0000\u0000\u0000\u0000\u0000\u0000\u0000\u0000\u0000\u0000\n",
      "1-2_mushroom_sky_14371.bcd\n",
      "1-2: Pesky Pipelines.\u0000\u0000\u0000\u0000\u0000\u0000\u0000\u0000\u0000\u0000\u0000\u0000\n",
      "1-2_pesky_pipelines._12340.bcd\n"
     ]
    },
    {
     "name": "stderr",
     "output_type": "stream",
     "text": [
      "\r",
      "  1%|▍                                                                              | 82/13971 [00:04<27:49,  8.32it/s]"
     ]
    },
    {
     "name": "stdout",
     "output_type": "stream",
     "text": [
      "1-2 Piranha Pipe Grotto\u0000\u0000\u0000\u0000\u0000\u0000\u0000\u0000\u0000\u0000\n",
      "1-2_piranha_pipe_grotto_2950.bcd\n",
      "1-2 Slippery Slope Slide [30s]\u0000]\u0000\n",
      "1-2_slippery_slope_slide_30s__14465.bcd\n"
     ]
    },
    {
     "name": "stderr",
     "output_type": "stream",
     "text": [
      "  1%|▌                                                                              | 89/13971 [00:05<22:03, 10.49it/s]"
     ]
    },
    {
     "name": "stdout",
     "output_type": "stream",
     "text": [
      "1-2 SMB\u0000\u0000\u0000\u0000\u0000\u0000\u0000\u0000\u0000\u0000\u0000\u0000\u0000\u0000\u0000\u0000\u0000\u0000\u0000\u0000\u0000\u0000\u0000\u0000\u0000\u0000\n",
      "1-2_smb_452.bcd\n",
      "1-2 Taking It Back\u0000\u0000\u0000\u0000\u0000\u0000\u0000\u0000\u0000\u0000\u0000\u0000\u0000\u0000\u0000\n",
      "1-2_taking_it_back_4496.bcd\n",
      "1-2 The 76 Strip\u0000\u0000\u0000w Zealand\u0000\u0000\u0000\u0000\u0000\n",
      "1-2_the_76_stripw_zealand_15248.bcd\n",
      "1-2: The Long and Winding Roots\u0000\u0000\n",
      "1-2_the_long_and_winding_roots_14415.bcd\n",
      "1-3 カラフル空中庭園 -Shiny Sky Garden-\u0000\u0000\n",
      "1-3_-shiny_sky_garden-_10387.bcd\n",
      "1-3\u0000\u0000\u0000\u0000\u0000\u0000\u0000\u0000\u0000\u0000\u0000\u0000\u0000\u0000\u0000\u0000\u0000\u0000\u0000\u0000\u0000\u0000\u0000\u0000\u0000\u0000\u0000\u0000\u0000\u0000\n",
      "1-3_5131.bcd\n",
      "1-3: Across the Caps\u0000\u0000\u0000\u0000\u0000\u0000\u0000\u0000\u0000\u0000\u0000\u0000\u0000\n",
      "1-3_across_the_caps_14386.bcd\n",
      "1-3 Deluxe (NES REMASTER)\u0000Level)\u0000\n",
      "1-3_deluxe_nes_remaster_level__11869.bcd\n"
     ]
    },
    {
     "name": "stderr",
     "output_type": "stream",
     "text": [
      "\r",
      "  1%|▌                                                                              | 92/13971 [00:05<21:25, 10.79it/s]"
     ]
    },
    {
     "name": "stdout",
     "output_type": "stream",
     "text": [
      "1-3 Flight School\u0000\u0000\u0000\u0000\u0000\u0000\u0000\u0000\u0000\u0000\u0000\u0000\u0000\u0000\u0000\u0000\n",
      "1-3_flight_school_4497.bcd\n",
      "1-3 Kirstie's Serene Swim\u0000m\u0000!\u0000!\u0000\u0000\n",
      "1-3_kirstie_s_serene_swimm__2584.bcd\n",
      "1-3: Lord Kiavik's Demise\u0000l\u0000ern\u0000\u0000\n",
      "1-3_lord_kiavik_s_demiselern_5060.bcd\n"
     ]
    },
    {
     "name": "stderr",
     "output_type": "stream",
     "text": [
      "\r",
      "  1%|▌                                                                              | 95/13971 [00:05<20:55, 11.05it/s]"
     ]
    },
    {
     "name": "stdout",
     "output_type": "stream",
     "text": [
      "1-3 Mushroom Heights\u0000\u0000s\u0000\u0000\u0000\u0000\u0000\u0000\u0000\u0000\u0000\u0000\n",
      "1-3_mushroom_heightss_13521.bcd\n",
      "1-3 mushroom tower until the sky\u0000\n",
      "1-3_mushroom_tower_until_the_sky_13797.bcd\n"
     ]
    },
    {
     "name": "stderr",
     "output_type": "stream",
     "text": [
      "  1%|▌                                                                              | 99/13971 [00:06<21:10, 10.92it/s]"
     ]
    },
    {
     "name": "stdout",
     "output_type": "stream",
     "text": [
      "1-3 Piranha Plains\u0000\u0000\u0000\u0000\u0000\u0000\u0000\u0000\u0000\u0000\u0000\u0000\u0000\u0000\u0000\n",
      "1-3_piranha_plains_13765.bcd\n",
      "1-3 Roll on John\u0000mb's Blues\u0000e\u0000\u0000\u0000\u0000\n",
      "1-3_roll_on_johnmb_s_bluese_15009.bcd\n",
      "1-3 Sky Ruins\u0000\u0000\u0000\u0000\u0000\u0000\u0000\u0000\u0000\u0000\u0000\u0000\u0000\u0000\u0000\u0000\u0000\u0000\u0000\u0000\n",
      "1-3_sky_ruins_14326.bcd\n",
      "1-3 SMB\u0000\u0000\u0000\u0000\u0000\u0000\u0000\u0000\u0000\u0000\u0000\u0000\u0000\u0000\u0000\u0000\u0000\u0000\u0000\u0000\u0000\u0000\u0000\u0000\u0000\u0000"
     ]
    },
    {
     "name": "stderr",
     "output_type": "stream",
     "text": [
      "\r",
      "  1%|▌                                                                             | 101/13971 [00:06<18:25, 12.54it/s]"
     ]
    },
    {
     "name": "stdout",
     "output_type": "stream",
     "text": [
      "\n",
      "1-3_smb_453.bcd\n",
      "1-3 Snowshroom Summit\u0000\u0000\u0000\u0000\u0000\u0000\u0000\u0000\u0000\u0000\u0000\u0000\n",
      "1-3_snowshroom_summit_3304.bcd\n"
     ]
    },
    {
     "name": "stderr",
     "output_type": "stream",
     "text": [
      "\r",
      "  1%|▌                                                                             | 103/13971 [00:06<25:59,  8.90it/s]"
     ]
    },
    {
     "name": "stdout",
     "output_type": "stream",
     "text": [
      "1-3 Spikeball Tower\u0000\u0000\u0000\u0000\u0000\u0000\u0000\u0000\u0000\u0000\u0000\u0000\u0000\u0000\n",
      "1-3_spikeball_tower_13394.bcd\n",
      "1-3: Stiletto Skys.\u0000rs\u0000\u0000\u0000\u0000\u0000\u0000\u0000\u0000\u0000\u0000\u0000\n",
      "1-3_stiletto_skys.rs_12354.bcd\n",
      "1-3 Submerged Obsidian\u0000\u0000\u0000\u0000\u0000\u0000\u0000\u0000\u0000\u0000\u0000"
     ]
    },
    {
     "name": "stderr",
     "output_type": "stream",
     "text": [
      "\r",
      "  1%|▌                                                                             | 105/13971 [00:06<22:58, 10.06it/s]"
     ]
    },
    {
     "name": "stdout",
     "output_type": "stream",
     "text": [
      "\n",
      "1-3_submerged_obsidian_13741.bcd\n",
      "1-4 ブンブントンネル -Boom Boom Tunnel-\u0000\u0000\n",
      "1-4_-boom_boom_tunnel-_10318.bcd\n"
     ]
    },
    {
     "name": "stderr",
     "output_type": "stream",
     "text": [
      "\r",
      "  1%|▌                                                                             | 107/13971 [00:07<23:30,  9.83it/s]"
     ]
    },
    {
     "name": "stdout",
     "output_type": "stream",
     "text": [
      "1-4 - The Floor is Goombas\u0000)\u0000..!\u0000\n",
      "1-4_-_the_floor_is_goombas_..__7419.bcd\n",
      "1-4\u0000\u0000\u0000\u0000\u0000\u0000\u0000\u0000\u0000\u0000\u0000\u0000\u0000\u0000\u0000\u0000\u0000\u0000\u0000\u0000\u0000\u0000\u0000\u0000\u0000\u0000\u0000\u0000\u0000\u0000\n",
      "1-4_5132.bcd\n",
      "1-4 Bodacious Boot Dash [20s]\u0000\u0000\u0000\u0000\n",
      "1-4_bodacious_boot_dash_20s__14449.bcd\n"
     ]
    },
    {
     "name": "stderr",
     "output_type": "stream",
     "text": [
      "  1%|▌                                                                             | 111/13971 [00:07<21:05, 10.96it/s]"
     ]
    },
    {
     "name": "stdout",
     "output_type": "stream",
     "text": [
      "1-4: Boom Boom's Seesaw Shrooms\u0000\u0000\n",
      "1-4_boom_boom_s_seesaw_shrooms_5037.bcd\n",
      "1-4 Deep Breathe\u0000\u0000\u0000\u0000\u0000\u0000\u0000\u0000\u0000\u0000\u0000\u0000\u0000\u0000\u0000\u0000\u0000\n",
      "1-4_deep_breathe_4498.bcd\n",
      "1-4 Fiery Fortress\u0000\u0000\u0000\u0000\u0000\u0000\u0000\u0000\u0000\u0000\u0000\u0000\u0000\u0000\u0000\n",
      "1-4_fiery_fortress_11106.bcd\n",
      "1-4: Sizzle and Swing\u0000 Climb\u0000\u0000\u0000\u0000\u0000\n",
      "1-4_sizzle_and_swing_climb_13013.bcd\n"
     ]
    },
    {
     "name": "stderr",
     "output_type": "stream",
     "text": [
      "\r",
      "  1%|▋                                                                             | 113/13971 [00:07<19:51, 11.63it/s]"
     ]
    },
    {
     "name": "stdout",
     "output_type": "stream",
     "text": [
      "1-4 Sky Platforms\u0000ms in the sky\u0000\u0000\n",
      "1-4_sky_platformsms_in_the_sky_14372.bcd\n",
      "1-4: Underground Fungi Fortress.\u0000\n",
      "1-4_underground_fungi_fortress._12385.bcd\n"
     ]
    },
    {
     "name": "stderr",
     "output_type": "stream",
     "text": [
      "\r",
      "  1%|▋                                                                             | 115/13971 [00:08<30:57,  7.46it/s]"
     ]
    },
    {
     "name": "stdout",
     "output_type": "stream",
     "text": [
      "1-5: Basidiomycota Bastion.\u0000\u0000\u0000\u0000\u0000\u0000\n",
      "1-5_basidiomycota_bastion._12376.bcd\n"
     ]
    },
    {
     "name": "stderr",
     "output_type": "stream",
     "text": [
      "\r",
      "  1%|▋                                                                             | 116/13971 [00:08<36:05,  6.40it/s]"
     ]
    },
    {
     "name": "stdout",
     "output_type": "stream",
     "text": [
      "1-5 Clown Amusement Park\u0000\u0000\u0000\u0000\u0000\u0000\u0000\u0000\u0000\n",
      "1-5_clown_amusement_park_14791.bcd\n",
      "1-5 Larry's Skewering Castle\u0000\u0000\u0000\u0000\u0000\n",
      "1-5_larry_s_skewering_castle_13400.bcd\n"
     ]
    },
    {
     "name": "stderr",
     "output_type": "stream",
     "text": [
      "  1%|▋                                                                             | 120/13971 [00:08<27:38,  8.35it/s]"
     ]
    },
    {
     "name": "stdout",
     "output_type": "stream",
     "text": [
      "1-5 Sky Castle\u0000\u0000\u0000astle\u0000\u0000\u0000\u0000\u0000\u0000\u0000\u0000\u0000\u0000\u0000\n",
      "1-5_sky_castleastle_14325.bcd\n",
      "1-6: Mushroom Meltdown\u0000\u0000\u0000\u0000\u0000\u0000\u0000\u0000\u0000\u0000\u0000\n",
      "1-6_mushroom_meltdown_12355.bcd\n",
      "1-6　おどる わかめの うみのなか　Seaweed Swim\u0000\u0000\n",
      "1-6_seaweed_swim_7497.bcd\n"
     ]
    },
    {
     "name": "stderr",
     "output_type": "stream",
     "text": [
      "  1%|▋                                                                             | 125/13971 [00:08<19:44, 11.69it/s]"
     ]
    },
    {
     "name": "stdout",
     "output_type": "stream",
     "text": [
      "1-7 Bunte Dimensionen\u0000\u0000\u0000\u0000\u0000\u0000\u0000\u0000\u0000\u0000\u0000\u0000\n",
      "1-7_bunte_dimensionen_2982.bcd\n",
      "1-7　おなかがすいた おはながさいた　Foodie Field\u0000\n",
      "1-7_foodie_field_8221.bcd\n",
      "1-7 Yoshi Fun\u0000\u0000\u0000\u0000\u0000\u0000\u0000\u0000\u0000\u0000\u0000\u0000\u0000\u0000\u0000\u0000\u0000\u0000\u0000\u0000\n",
      "1-7_yoshi_fun_4501.bcd\n",
      "1-8 Bring it back 2\u0000\u0000\u0000\u0000\u0000\u0000\u0000\u0000\u0000\u0000\u0000\u0000\u0000\u0000\n",
      "1-8_bring_it_back_2_4502.bcd\n",
      "1-9 Ship Has Flight\u0000\u0000\u0000\u0000\u0000\u0000\u0000\u0000\u0000\u0000\u0000\u0000\u0000\u0000\n",
      "1-9_ship_has_flight_4503.bcd\n",
      "1-A: Submerged Shiitake\u0000\u0000\u0000\u0000\u0000\u0000\u0000\u0000\u0000\u0000\n",
      "1-a_submerged_shiitake_12352.bcd\n"
     ]
    },
    {
     "name": "stderr",
     "output_type": "stream",
     "text": [
      "  1%|▋                                                                             | 129/13971 [00:09<27:50,  8.29it/s]"
     ]
    },
    {
     "name": "stdout",
     "output_type": "stream",
     "text": [
      "1-B: Glomeromycota Airship\u0000\u0000\u0000\u0000\u0000\u0000\u0000\n",
      "1-b_glomeromycota_airship_12371.bcd\n",
      "1-S: VENDETTA!\u0000\u0000\u0000s Demise\u0000l\u0000ern\u0000\u0000\n",
      "1-s_vendetta_s_demiselern_5061.bcd\n",
      "1-ups galore\u0000\u0000\u0000\u0000\u0000\u0000\u0000\u0000\u0000\u0000\u0000\u0000\u0000\u0000\u0000\u0000\u0000\u0000\u0000\u0000\u0000\n",
      "1-ups_galore_5653.bcd\n",
      "1-城　ほうだいリフト のりほうだい　Blaster Boats\u0000\n",
      "1-_blaster_boats_8307.bcd\n"
     ]
    },
    {
     "name": "stderr",
     "output_type": "stream",
     "text": [
      "\r",
      "  1%|▋                                                                             | 131/13971 [00:09<24:15,  9.51it/s]"
     ]
    },
    {
     "name": "stdout",
     "output_type": "stream",
     "text": [
      "1000 Ways to Die![Koopa Edition]\u0000\n",
      "1000_ways_to_die_koopa_edition__4176.bcd\n",
      "1000人紹介企画　かまぼこ隊完成記念※説明要チェック\u0000」\u0000\u0000\u0000\u0000\n",
      "1000__12111.bcd\n"
     ]
    },
    {
     "name": "stderr",
     "output_type": "stream",
     "text": [
      "  1%|▊                                                                             | 135/13971 [00:10<22:08, 10.41it/s]"
     ]
    },
    {
     "name": "stdout",
     "output_type": "stream",
     "text": [
      "100 Coin Challenge: Winter\u0000Winds\u0000\n",
      "100_coin_challenge_winterwinds_279.bcd\n",
      "100 Year Flood\u0000\u0000\u0000her\u0000\u0000\u0000\u0000\u0000\u0000\u0000\u0000\u0000\u0000\u0000\u0000\u0000\n",
      "100_year_floodher_10894.bcd\n",
      "\u0000\u0000\u0000\u0000\u0000\u0000\u0000\u0000\u0000\u0000\u0000\u0000\u0000\u0000\u0000\u0000\u0000\u0000\u0000\u0000\u0000\u0000\u0000\u0000\u0000\u0000\u0000\u0000\u0000\u0000\u0000\u0000\u0000\n",
      "1026759769.bcd\n",
      "\u0000\u0000\u0000\u0000\u0000\u0000\u0000\u0000\u0000\u0000\u0000\u0000\u0000\u0000\u0000\u0000\u0000\u0000\u0000\u0000\u0000\u0000\u0000\u0000\u0000\u0000\u0000\u0000\u0000\u0000\u0000\u0000\u0000\n",
      "1046974344.bcd\n",
      "\u0000\u0000\u0000\u0000\u0000\u0000\u0000\u0000\u0000\u0000\u0000\u0000\u0000\u0000\u0000\u0000\u0000\u0000\u0000\u0000\u0000\u0000\u0000\u0000\u0000\u0000\u0000\u0000\u0000\u0000\u0000\u0000\u0000\n",
      "1048912984.bcd\n",
      "10kSpecial♪Ultimate FNAF Medley♪\u0000\n",
      "10kspecial_ultimate_fnaf_medley__11609.bcd\n"
     ]
    },
    {
     "name": "stderr",
     "output_type": "stream",
     "text": [
      "  1%|▊                                                                             | 143/13971 [00:10<16:30, 13.96it/s]"
     ]
    },
    {
     "name": "stdout",
     "output_type": "stream",
     "text": [
      "10k Expert Endless Special (20s)\u0000\n",
      "10k_expert_endless_special_20s__12559.bcd\n",
      "10o\u0000\u0000\u0000\u0000\u0000\u0000\u0000\u0000\u0000\u0000\u0000\u0000\u0000\u0000\u0000\u0000\u0000\u0000\u0000\u0000\u0000\u0000\u0000\u0000\u0000\u0000\u0000\u0000\u0000\u0000\n",
      "10o_2433.bcd\n",
      "10sec2\u0000\u0000\u0000\u0000\u0000\u0000\u0000\u0000\u0000\u0000\u0000\u0000\u0000\u0000\u0000\u0000\u0000\u0000\u0000\u0000\u0000\u0000\u0000\u0000\u0000\u0000\u0000\n",
      "10sec2_607.bcd\n",
      "10sec challenge ～銀河氷～\u0000\u0000\u0000\u0000\u0000\u0000\u0000\u0000\u0000\u0000\u0000\u0000\n",
      "10sec_challenge__6485.bcd\n",
      "10sec Fugitive remake\u0000\u0000\u0000\u0000\u0000\u0000\u0000\u0000\u0000\u0000\u0000\u0000\n",
      "10sec_fugitive_remake_194.bcd\n",
      "10秒マリオ　音符抜け\u0000\u0000\u0000\u0000\u0000　る。\u0000クッパを倒そう！\u0000el1\u0000\n",
      "10_el1_2315.bcd\n",
      "10秒間に畳み掛けるダッシュ半自動！！　　Keep Y+→\u0000+→\u0000\n",
      "10_keep_y__8222.bcd\n",
      "10 Seconds Cloud Run\u0000\u0000\u0000\u0000\u0000\u0000\u0000\u0000\u0000\u0000\u0000\u0000\u0000"
     ]
    },
    {
     "name": "stderr",
     "output_type": "stream",
     "text": [
      "  1%|▊                                                                             | 151/13971 [00:10<11:49, 19.49it/s]"
     ]
    },
    {
     "name": "stdout",
     "output_type": "stream",
     "text": [
      "\n",
      "10_seconds_cloud_run_3055.bcd\n",
      "10 Seconds: Fiery Fist of Fury\u0000\u0000\u0000\n",
      "10_seconds_fiery_fist_of_fury_10432.bcd\n",
      "10 seconds Speed Run ～Z Castle～\u0000\u0000\n",
      "10_seconds_speed_run_z_castle__8404.bcd\n",
      "10 Seconds: Super Star Speedrun\u0000\u0000\n",
      "10_seconds_super_star_speedrun_10422.bcd\n",
      "10 Second Shell Jump Challenge\u0000 \u0000\n",
      "10_second_shell_jump_challenge_15523.bcd\n"
     ]
    },
    {
     "name": "stderr",
     "output_type": "stream",
     "text": [
      "\r",
      "  1%|▊                                                                             | 155/13971 [00:10<10:25, 22.07it/s]"
     ]
    },
    {
     "name": "stdout",
     "output_type": "stream",
     "text": [
      "10 second speedrun\u0000\u0000\u0000\u0000\u0000\u0000\u0000\u0000\u0000\u0000\u0000\u0000\u0000\u0000\u0000\n",
      "10_second_speedrun_15347.bcd\n",
      "10 Second Speedrun!\u0000\u0000\u0000\u0000\u0000\u0000\u0000\u0000\u0000\u0000\u0000\u0000\u0000\u0000\n",
      "10_second_speedrun__2244.bcd\n",
      "10コインを出すだけの簡単なお仕事。\u0000\u0000\u0000\u0000\u0000\u0000\u0000\u0000\u0000\u0000\u0000\u0000\u0000\u0000\u0000\n",
      "10__1501.bcd\n",
      "10秒！\u0000\u0000\u0000\u0000\u0000\u0000\u0000\u0000\u0000\u0000\u0000\u0000\u0000\u0000\u0000\u0000\u0000\u0000\u0000\u0000\u0000\u0000\u0000\u0000\u0000\u0000\u0000\u0000\u0000\n",
      "10__6495.bcd\n",
      "11-4\u0000\u0000\u0000\u0000\u0000\u0000\u0000\u0000\u0000\u0000\u0000\u0000\u0000\u0000\u0000\u0000\u0000\u0000\u0000\u0000\u0000\u0000\u0000\u0000\u0000\u0000\u0000\u0000\u0000\n",
      "11-4_10731.bcd\n"
     ]
    },
    {
     "name": "stderr",
     "output_type": "stream",
     "text": [
      "\r",
      "  1%|▉                                                                             | 158/13971 [00:11<10:27, 22.01it/s]"
     ]
    },
    {
     "name": "stdout",
     "output_type": "stream",
     "text": [
      "1111\u0000\u0000\u0000\u0000\u0000\u0000\u0000\u0000\u0000\u0000\u0000\u0000\u0000\u0000\u0000\u0000\u0000\u0000\u0000\u0000\u0000\u0000\u0000\u0000\u0000\u0000\u0000\u0000\u0000\n",
      "1111_3505.bcd\n",
      "1111\u0000\u0000\u0000\u0000\u0000\u0000\u0000\u0000\u0000\u0000\u0000\u0000\u0000\u0000\u0000\u0000\u0000\u0000\u0000\u0000\u0000\u0000\u0000\u0000\u0000\u0000\u0000\u0000\u0000\n",
      "1111_468.bcd\n",
      "11\u0000\u0000\u0000\u0000\u0000\u0000\u0000\u0000\u0000\u0000\u0000\u0000\u0000\u0000\u0000\u0000\u0000\u0000\u0000\u0000\u0000\u0000\u0000\u0000\u0000\u0000\u0000\u0000\u0000\u0000\u0000\n",
      "11_11019.bcd\n",
      "11\u0000\u0000\u0000\u0000\u0000\u0000\u0000\u0000\u0000\u0000\u0000\u0000\u0000\u0000\u0000\u0000\u0000\u0000\u0000\u0000\u0000\u0000\u0000\u0000\u0000\u0000\u0000\u0000\u0000\u0000\u0000\n",
      "11_12148.bcd\n",
      "11\u0000\u0000\u0000\u0000\u0000\u0000\u0000\u0000\u0000\u0000\u0000\u0000\u0000\u0000\u0000\u0000\u0000\u0000\u0000\u0000\u0000\u0000\u0000\u0000\u0000\u0000\u0000\u0000\u0000\u0000\u0000\n",
      "11_13626.bcd\n",
      "11\u0000\u0000\u0000\u0000\u0000\u0000\u0000\u0000\u0000\u0000\u0000\u0000\u0000\u0000\u0000\u0000\u0000\u0000\u0000\u0000\u0000\u0000\u0000\u0000\u0000\u0000\u0000\u0000\u0000\u0000\u0000\n",
      "11_7475.bcd\n",
      "120秒スピードラン　攻略せよ！暗黒のスピラン魔城\u0000！\u0000\u0000\u0000\u0000\u0000\u0000\n",
      "120__8650.bcd\n"
     ]
    },
    {
     "name": "stderr",
     "output_type": "stream",
     "text": [
      "\r",
      "  1%|▉                                                                             | 163/13971 [00:11<10:35, 21.73it/s]"
     ]
    },
    {
     "name": "stdout",
     "output_type": "stream",
     "text": [
      "1234\u0000\u0000\u0000\u0000\u0000\u0000\u0000\u0000\u0000\u0000\u0000\u0000\u0000\u0000\u0000\u0000\u0000\u0000\u0000\u0000\u0000\u0000\u0000\u0000\u0000\u0000\u0000\u0000\u0000\n",
      "1234_5646.bcd\n",
      "1234ㄱㄷㄹㅎㅅㄱ\u0000\u0000\u0000\u0000\u0000\u0000\u0000d\u0000\u0000\u0000\u0000\u0000\u0000\u0000\u0000\u0000\u0000\u0000\u0000\u0000\u0000\u0000\n",
      "1234_d_12654.bcd\n",
      "123\u0000\u0000\u0000\u0000\u0000\u0000\u0000\u0000\u0000\u0000\u0000\u0000\u0000\u0000\u0000\u0000\u0000\u0000\u0000\u0000\u0000\u0000\u0000\u0000\u0000\u0000\u0000\u0000\u0000\u0000\n",
      "123_12828.bcd\n",
      "123\u0000\u0000\u0000\u0000\u0000\u0000\u0000\u0000\u0000\u0000\u0000\u0000\u0000\u0000\u0000\u0000\u0000\u0000\u0000\u0000\u0000\u0000\u0000\u0000\u0000\u0000\u0000\u0000\u0000\u0000\n",
      "123_3175.bcd\n",
      "123\u0000\u0000\u0000\u0000\u0000\u0000\u0000\u0000\u0000\u0000\u0000\u0000\u0000\u0000\u0000\u0000\u0000\u0000\u0000\u0000\u0000\u0000\u0000\u0000\u0000\u0000\u0000\u0000\u0000\u0000\n",
      "123_4643.bcd\n",
      "123ㄷㅈㅂㅁㄴ\u0000\u0000\u0000\u0000\u0000\u0000\u0000\u0000\u0000d\u0000\u0000\u0000\u0000\u0000\u0000\u0000\u0000\u0000\u0000\u0000\u0000\u0000\u0000\u0000\n",
      "123_d_12664.bcd\n",
      "123\u0000\u0000\u0000\u0000\u0000\u0000\u0000\u0000\u0000\u0000\u0000\u0000\u0000㄀ㄹㅇ\u0000\u0000\u0000\u0000\u0000\u0000\u0000\u0000\u0000\u0000\u0000\u0000\u0000\u0000\n",
      "123__12662.bcd\n"
     ]
    },
    {
     "name": "stderr",
     "output_type": "stream",
     "text": [
      "  1%|▉                                                                             | 173/13971 [00:11<10:04, 22.81it/s]"
     ]
    },
    {
     "name": "stdout",
     "output_type": "stream",
     "text": [
      "12aaa\u0000\u0000\u0000\u0000\u0000\u0000\u0000\u0000\u0000\u0000\u0000\u0000\u0000\u0000\u0000\u0000\u0000\u0000\u0000\u0000\u0000\u0000\u0000\u0000\u0000\u0000\u0000\u0000\n",
      "12aaa_3843.bcd\n",
      "12\u0000\u0000\u0000\u0000\u0000\u0000\u0000\u0000\u0000\u0000\u0000\u0000\u0000\u0000\u0000nowy Slide\u0000lide\u0000\n",
      "12nowy_slidelide_12642.bcd\n",
      "12\u0000\u0000\u0000\u0000\u0000\u0000\u0000\u0000\u0000\u0000\u0000\u0000\u0000\u0000\u0000\u0000\u0000\u0000\u0000\u0000\u0000\u0000\u0000\u0000\u0000\u0000\u0000\u0000\u0000\u0000\u0000\n",
      "12_4569.bcd\n",
      "12 petar\u0000\u0000\u0000\u0000\u0000\u0000\u0000\u0000\u0000\u0000\u0000\u0000\u0000\u0000\u0000\u0000\u0000\u0000\u0000\u0000\u0000\u0000\u0000\u0000\u0000\n",
      "12_petar_6209.bcd\n",
      "12월이건데가\u0000\u0000\u0000\u0000\u0000\u0000\u0000\u0000\u0000윀나가의나가 \u0000\u0000\u0000\u0000\u0000\u0000\u0000\u0000\u0000\u0000\n",
      "12__12640.bcd\n",
      "\u0000\u0000\u0000\u0000\u0000\u0000\u0000\u0000\u0000\u0000\u0000\u0000\u0000\u0000\u0000\u0000\u0000\u0000\u0000\u0000\u0000\u0000\u0000\u0000\u0000\u0000\u0000\u0000\u0000\u0000\u0000\u0000\u0000\n",
      "1339926839.bcd\n",
      "13θθθポイント記念爽快コース[Refreshcourse]\u0000\u0000\n",
      "13_refreshcourse__7498.bcd\n"
     ]
    },
    {
     "name": "stderr",
     "output_type": "stream",
     "text": [
      "\r",
      "  1%|▉                                                                             | 178/13971 [00:11<08:26, 27.25it/s]"
     ]
    },
    {
     "name": "stdout",
     "output_type": "stream",
     "text": [
      "\u0000\u0000\u0000\u0000\u0000\u0000\u0000\u0000\u0000\u0000\u0000\u0000\u0000\u0000\u0000\u0000\u0000\u0000\u0000\u0000\u0000\u0000\u0000\u0000\u0000\u0000\u0000\u0000\u0000\u0000\u0000\u0000\u0000\n",
      "1419776409.bcd\n",
      "\u0000\u0000\u0000\u0000\u0000\u0000\u0000\u0000\u0000\u0000\u0000\u0000\u0000\u0000\u0000\u0000\u0000\u0000\u0000\u0000\u0000\u0000\u0000\u0000\u0000\u0000\u0000\u0000\u0000\u0000\u0000\u0000\u0000\n",
      "1446024433.bcd\n",
      "\u0000\u0000\u0000\u0000\u0000\u0000\u0000\u0000\u0000\u0000\u0000\u0000\u0000\u0000\u0000\u0000\u0000\u0000\u0000\u0000\u0000\u0000\u0000\u0000\u0000\u0000\u0000\u0000\u0000\u0000\u0000\u0000\u0000\n",
      "151792073.bcd\n",
      "15 POW Challenges\u0000\u0000\u0000\u0000\u0000\u0000\u0000\u0000\u0000\u0000\u0000\u0000\u0000\u0000\u0000\u0000\n",
      "15_pow_challenges_2734.bcd\n",
      "\u0000\u0000\u0000\u0000\u0000\u0000\u0000\u0000\u0000\u0000\u0000\u0000\u0000\u0000\u0000\u0000\u0000\u0000\u0000\u0000\u0000\u0000\u0000\u0000\u0000\u0000\u0000\u0000\u0000\u0000\u0000\u0000\u0000\n",
      "1670982820.bcd\n",
      "\u0000\u0000\u0000\u0000\u0000\u0000\u0000\u0000\u0000\u0000\u0000\u0000\u0000\u0000\u0000\u0000\u0000\u0000\u0000\u0000\u0000\u0000\u0000\u0000\u0000\u0000\u0000\u0000\u0000\u0000\u0000\u0000\u0000\n",
      "168892518.bcd\n",
      "\u0000\u0000\u0000\u0000\u0000\u0000\u0000\u0000\u0000\u0000\u0000\u0000\u0000\u0000\u0000\u0000\u0000\u0000\u0000\u0000\u0000\u0000\u0000\u0000\u0000\u0000\u0000\u0000\u0000\u0000\u0000\u0000\u0000\n",
      "1770627167.bcd\n",
      "\u0000\u0000\u0000\u0000\u0000\u0000\u0000\u0000\u0000\u0000\u0000\u0000\u0000\u0000\u0000\u0000\u0000\u0000\u0000\u0000\u0000\u0000\u0000\u0000\u0000\u0000\u0000\u0000\u0000\u0000\u0000\u0000\u0000\n",
      "1841839243.bcd\n",
      "\u0000\u0000\u0000\u0000\u0000\u0000\u0000\u0000\u0000\u0000\u0000\u0000\u0000\u0000\u0000\u0000\u0000\u0000\u0000\u0000\u0000\u0000\u0000\u0000\u0000\u0000\u0000\u0000\u0000\u0000\u0000\u0000\u0000\n",
      "1869112192.bcd\n",
      "18\u0000\u0000\u0000\u0000\u0000\u0000\u0000\u0000\u0000\u0000\u0000\u0000\u0000\u0000\u0000\u0000\u0000\u0000\u0000\u0000\u0000\u0000\u0000\u0000\u0000\u0000\u0000\u0000\u0000\u0000\u0000\n",
      "18_1226.bcd\n",
      "\u0000\u0000\u0000\u0000\u0000\u0000\u0000\u0000\u0000\u0000\u0000\u0000\u0000\u0000\u0000\u0000\u0000\u0000\u0000\u0000\u0000\u0000\u0000\u0000\u0000\u0000\u0000\u0000\u0000\u0000\u0000\u0000\u0000\n",
      "1905429383.bcd\n",
      "\u0000\u0000\u0000\u0000\u0000\u0000\u0000\u0000\u0000\u0000\u0000\u0000\u0000\u0000\u0000\u0000\u0000\u0000\u0000\u0000\u0000\u0000\u0000\u0000\u0000\u0000\u0000\u0000\u0000\u0000\u0000\u0000\u0000\n",
      "1968084012.bcd\n",
      "1999\u0000\u0000\u0000\u0000\u0000\u0000\u0000\u0000\u0000\u0000\u0000\u0000\u0000\u0000\u0000\u0000\u0000\u0000\u0000\u0000\u0000\u0000\u0000\u0000\u0000\u0000\u0000\u0000\u0000\n",
      "1999_10477.bcd\n"
     ]
    },
    {
     "name": "stderr",
     "output_type": "stream",
     "text": [
      "  1%|█                                                                             | 194/13971 [00:12<07:13, 31.78it/s]"
     ]
    },
    {
     "name": "stdout",
     "output_type": "stream",
     "text": [
      "1\u0000\u0000\u0000\u0000\u0000\u0000\u0000\u0000\u0000\u0000\u0000\u0000\u0000\u0000\u0000\u0000d\u0000\u0000\u0000\u0000\u0000\u0000\u0000\u0000\u0000\u0000\u0000\u0000\u0000\u0000\u0000\n",
      "1d_12663.bcd\n",
      "1\u0000\u0000\u0000\u0000\u0000\u0000\u0000\u0000\u0000\u0000\u0000\u0000\u0000\u0000\u0000\u0000d\u0000\u0000\u0000\u0000\u0000\u0000\u0000\u0000\u0000\u0000\u0000\u0000\u0000\u0000\u0000\n",
      "1d_12665.bcd\n",
      "1er Tour de Bowser.Jr\u0000\u0000\u0000\u0000\u0000\u0000\u0000\u0000\u0000\u0000\u0000\u0000\n",
      "1er_tour_de_bowser.jr_512.bcd\n",
      "1min.MARIO\u0000\u0000\u0000\u0000\u0000\u0000\u0000\u0000\u0000\u0000\u0000\u0000\u0000\u0000\u0000\u0000\u0000\u0000\u0000\u0000\u0000\u0000\u0000\n",
      "1min.mario_2494.bcd\n",
      "1st level\u0000\u0000\u0000\u0000\u0000\u0000\u0000\u0000\u0000\u0000\u0000\u0000\u0000\u0000\u0000\u0000\u0000\u0000\u0000\u0000\u0000\u0000\u0000\u0000\n",
      "1st_level_4399.bcd\n",
      "1Suntouch Sanctuary\u0000\u0000\u0000\u0000\u0000\u0000\u0000\u0000\u0000\u0000\u0000\u0000\u0000\u0000\n",
      "1suntouch_sanctuary_1188.bcd\n",
      "1 - 1\u0000\u0000\u0000\u0000\u0000\u0000\u0000\u0000\u0000\u0000\u0000\u0000\u0000\u0000\u0000\u0000\u0000\u0000\u0000\u0000\u0000\u0000\u0000\u0000\u0000\u0000\u0000\u0000\n",
      "1_-_1_13452.bcd\n",
      "1\u0000\u0000\u0000\u0000\u0000\u0000\u0000\u0000\u0000\u0000\u0000\u0000\u0000\u0000\u0000\u0000\u0000\u0000\u0000\u0000\u0000\u0000\u0000\u0000\u0000\u0000\u0000\u0000\u0000\u0000\u0000\u0000\n",
      "1_1129.bcd\n",
      "1\u0000\u0000\u0000\u0000\u0000\u0000\u0000\u0000\u0000\u0000\u0000\u0000\u0000\u0000\u0000\u0000\u0000\u0000\u0000\u0000\u0000\u0000\u0000\u0000\u0000\u0000\u0000\u0000\u0000\u0000\u0000\u0000\n",
      "1_1183.bcd\n",
      "1\u0000\u0000\u0000\u0000\u0000\u0000\u0000\u0000\u0000\u0000\u0000\u0000\u0000\u0000\u0000\u0000\u0000\u0000\u0000\u0000\u0000\u0000\u0000\u0000\u0000\u0000\u0000\u0000\u0000\u0000\u0000\u0000\n",
      "1_1229.bcd\n",
      "1\u0000\u0000\u0000\u0000\u0000\u0000\u0000\u0000\u0000\u0000\u0000\u0000\u0000\u0000\u0000\u0000\u0000\u0000\u0000\u0000\u0000\u0000\u0000\u0000\u0000\u0000\u0000\u0000\u0000\u0000\u0000\u0000\n",
      "1_12652.bcd\n",
      "1\u0000\u0000\u0000\u0000\u0000\u0000\u0000\u0000\u0000\u0000\u0000\u0000\u0000\u0000\u0000\u0000\u0000\u0000\u0000\u0000\u0000\u0000\u0000\u0000\u0000\u0000\u0000\u0000\u0000\u0000\u0000\u0000\n",
      "1_12846.bcd\n",
      "1\u0000\u0000\u0000\u0000\u0000\u0000\u0000\u0000\u0000\u0000\u0000\u0000\u0000\u0000\u0000\u0000\u0000\u0000\u0000\u0000\u0000\u0000\u0000\u0000\u0000\u0000\u0000\u0000\u0000\u0000\u0000\u0000\n",
      "1_14672.bcd\n"
     ]
    },
    {
     "name": "stderr",
     "output_type": "stream",
     "text": [
      "  2%|█▏                                                                            | 213/13971 [00:12<05:58, 38.40it/s]"
     ]
    },
    {
     "name": "stdout",
     "output_type": "stream",
     "text": [
      "1\u0000\u0000\u0000\u0000\u0000\u0000\u0000\u0000\u0000\u0000\u0000\u0000\u0000\u0000\u0000\u0000\u0000\u0000\u0000\u0000\u0000\u0000\u0000\u0000\u0000\u0000\u0000\u0000\u0000\u0000\u0000\u0000\n",
      "1_1806.bcd\n",
      "1\u0000\u0000\u0000\u0000\u0000\u0000\u0000\u0000\u0000\u0000\u0000\u0000\u0000\u0000\u0000\u0000\u0000\u0000\u0000\u0000\u0000\u0000\u0000\u0000\u0000\u0000\u0000\u0000\u0000\u0000\u0000\u0000\n",
      "1_1807.bcd\n",
      "1画面ステージ / 1screen stage ～ZELDA～\u0000\u0000\n",
      "1_1screen_stage_zelda__6595.bcd\n",
      "1～1　～波打つコース～\u0000\u0000\u0000\u0000\u0000\u0000\u0000\u0000\u0000\u0000\u0000\u0000\u0000\u0000\u0000\u0000\u0000\u0000\u0000\u0000\u0000\n",
      "1_1__3252.bcd\n",
      "1\u0000\u0000\u0000\u0000\u0000\u0000\u0000\u0000\u0000\u0000\u0000\u0000\u0000\u0000\u0000\u0000\u0000\u0000\u0000\u0000\u0000\u0000\u0000\u0000\u0000\u0000\u0000\u0000\u0000\u0000\u0000\u0000\n",
      "1_2060.bcd\n",
      "1!22\u0000\u0000\u0000\u0000\u0000\u0000\u0000\u0000\u0000\u0000\u0000\u0000\u0000\u0000\u0000\u0000\u0000\u0000\u0000\u0000\u0000\u0000\u0000\u0000\u0000\u0000\u0000\u0000\u0000\n",
      "1_22_10867.bcd\n",
      "1\u0000\u0000\u0000\u0000\u0000\u0000\u0000\u0000\u0000\u0000\u0000\u0000\u0000\u0000\u0000\u0000\u0000\u0000\u0000\u0000\u0000\u0000\u0000\u0000\u0000\u0000\u0000\u0000\u0000\u0000\u0000\u0000\n",
      "1_2413.bcd\n",
      "1\u0000\u0000\u0000\u0000\u0000\u0000\u0000\u0000\u0000\u0000\u0000\u0000\u0000\u0000\u0000\u0000\u0000\u0000\u0000\u0000\u0000\u0000\u0000\u0000\u0000\u0000\u0000\u0000\u0000\u0000\u0000\u0000\n",
      "1_2450.bcd\n",
      "1\u0000\u0000\u0000\u0000\u0000\u0000\u0000\u0000\u0000\u0000\u0000\u0000\u0000\u0000\u0000\u0000\u0000\u0000\u0000\u0000\u0000\u0000\u0000\u0000\u0000\u0000\u0000\u0000\u0000\u0000\u0000\u0000\n",
      "1_2814.bcd\n",
      "1秒に泣く30秒スピラン\u0000\u0000\u0000\u0000\u0000\u0000\u0000\u0000\u0000\u0000\u0000\u0000\u0000\u0000\u0000\u0000\u0000\u0000\u0000\u0000\u0000\n",
      "1_30__158.bcd\n",
      "1\u0000\u0000\u0000\u0000\u0000\u0000\u0000\u0000\u0000\u0000\u0000\u0000\u0000\u0000\u0000\u0000\u0000\u0000\u0000\u0000\u0000\u0000\u0000\u0000\u0000\u0000\u0000\u0000\u0000\u0000\u0000\u0000\n",
      "1_3165.bcd\n",
      "1\u0000\u0000\u0000\u0000\u0000\u0000\u0000\u0000\u0000\u0000\u0000\u0000\u0000\u0000\u0000\u0000\u0000\u0000\u0000\u0000\u0000\u0000\u0000\u0000\u0000\u0000\u0000\u0000\u0000\u0000\u0000\u0000\n",
      "1_3504.bcd\n",
      "1\u0000\u0000\u0000\u0000\u0000\u0000\u0000\u0000\u0000\u0000\u0000\u0000\u0000\u0000\u0000\u0000\u0000\u0000\u0000\u0000\u0000\u0000\u0000\u0000\u0000\u0000\u0000\u0000\u0000\u0000\u0000\u0000\n",
      "1_3521.bcd\n",
      "1\u0000\u0000\u0000\u0000\u0000\u0000\u0000\u0000\u0000\u0000\u0000\u0000\u0000\u0000\u0000\u0000\u0000\u0000\u0000\u0000\u0000\u0000\u0000\u0000\u0000\u0000\u0000\u0000\u0000\u0000\u0000\u0000\n",
      "1_4439.bcd\n",
      "1\u0000\u0000\u0000\u0000\u0000\u0000\u0000\u0000\u0000\u0000\u0000\u0000\u0000\u0000\u0000\u0000\u0000\u0000\u0000\u0000\u0000\u0000\u0000\u0000\u0000\u0000\u0000\u0000\u0000\u0000\u0000\u0000\n",
      "1_4456.bcd\n",
      "1\u0000\u0000\u0000\u0000\u0000\u0000\u0000\u0000\u0000\u0000\u0000\u0000\u0000\u0000\u0000\u0000\u0000\u0000\u0000\u0000\u0000\u0000\u0000\u0000\u0000\u0000\u0000\u0000\u0000\u0000\u0000\u0000\n",
      "1_4548.bcd\n",
      "1\u0000\u0000\u0000\u0000\u0000\u0000\u0000\u0000\u0000\u0000\u0000\u0000\u0000\u0000\u0000\u0000\u0000\u0000\u0000\u0000\u0000\u0000\u0000\u0000\u0000\u0000\u0000\u0000\u0000\u0000\u0000\u0000"
     ]
    },
    {
     "name": "stderr",
     "output_type": "stream",
     "text": [
      "\r",
      "  2%|█▎                                                                            | 226/13971 [00:12<04:53, 46.90it/s]"
     ]
    },
    {
     "name": "stdout",
     "output_type": "stream",
     "text": [
      "\n",
      "1_4551.bcd\n",
      "1\u0000\u0000\u0000\u0000\u0000\u0000\u0000\u0000\u0000\u0000\u0000\u0000\u0000\u0000\u0000\u0000\u0000\u0000\u0000\u0000\u0000\u0000\u0000\u0000\u0000\u0000\u0000\u0000\u0000\u0000\u0000\u0000\n",
      "1_6643.bcd\n",
      "1\u0000\u0000\u0000\u0000\u0000\u0000\u0000\u0000\u0000\u0000\u0000\u0000\u0000\u0000\u0000\u0000\u0000\u0000\u0000\u0000\u0000\u0000\u0000\u0000\u0000\u0000\u0000\u0000\u0000\u0000\u0000\u0000\n",
      "1_6645.bcd\n",
      "1\u0000\u0000\u0000\u0000\u0000\u0000\u0000\u0000\u0000\u0000\u0000\u0000\u0000\u0000\u0000\u0000\u0000\u0000\u0000\u0000\u0000\u0000\u0000\u0000\u0000\u0000\u0000\u0000\u0000\u0000\u0000\u0000\n",
      "1_730.bcd\n",
      "1\u0000\u0000\u0000\u0000\u0000\u0000\u0000\u0000\u0000\u0000\u0000\u0000\u0000\u0000\u0000\u0000\u0000\u0000\u0000\u0000\u0000\u0000\u0000\u0000\u0000\u0000\u0000\u0000\u0000\u0000\u0000\u0000\n",
      "1_8988.bcd\n",
      "1=ªççlllswweerrfdffxccdswedfffff\u0000\n",
      "1_lllswweerrfdffxccdswedfffff_6685.bcd\n",
      "1 Ounce Floaty Boi Bounce\u0000ce\u0000\u0000\u0000\u0000\u0000\n",
      "1_ounce_floaty_boi_bouncece_15457.bcd\n",
      "1画面マリオPART13\u0000\u0000\u0000\u0000\u0000\u0000\u0000\u0000\u0000\u0000\u0000\u0000\u0000\u0000\u0000\u0000\u0000\u0000\u0000\u0000\u0000\n",
      "1_part13_11317.bcd\n",
      "1画面Puzzle III\u0000\u0000\u0000\u0000\u0000\u0000\u0000\u0000\u0000\u0000\u0000\u0000\u0000\u0000\u0000\u0000\u0000\u0000\u0000\u0000\n",
      "1_puzzle_iii_13647.bcd\n",
      "1画面Puzzle II\u0000\u0000\u0000\u0000\u0000\u0000\u0000\u0000\u0000\u0000\u0000\u0000\u0000\u0000\u0000\u0000\u0000\u0000\u0000\u0000\u0000\n",
      "1_puzzle_ii_13650.bcd\n",
      "1画面Puzzle II rev. 2.0\u0000\u0000\u0000\u0000\u0000\u0000\u0000\u0000\u0000\u0000\u0000\u0000\n",
      "1_puzzle_ii_rev._2.0_13649.bcd\n",
      "1画面Puzzle I\u0000\u0000\u0000\u0000\u0000\u0000\u0000\u0000\u0000\u0000\u0000\u0000\u0000\u0000\u0000\u0000\u0000\u0000\u0000\u0000\u0000\u0000\n",
      "1_puzzle_i_13651.bcd\n",
      "1画面Puzzle VI  $Don't Look Back$\u0000\u0000\n",
      "1_puzzle_vi_don_t_look_back__13646.bcd\n",
      "1 ROOM PUZZLE: Gemini\u0000s it?\u0000g\u0000\u0000\u0000\u0000\n",
      "1_room_puzzle_geminis_it_g_6185.bcd\n"
     ]
    },
    {
     "name": "stderr",
     "output_type": "stream",
     "text": [
      "  2%|█▎                                                                            | 239/13971 [00:12<04:38, 49.36it/s]"
     ]
    },
    {
     "name": "stdout",
     "output_type": "stream",
     "text": [
      "1 Screen: Fire and Ice\u0000\u0000\u0000\u0000\u0000\u0000\u0000\u0000\u0000\u0000\u0000\n",
      "1_screen_fire_and_ice_7390.bcd\n",
      "1 Screen Puzzle\u0000\u0000\u0000\u0000\u0000\u0000\u0000\u0000\u0000\u0000\u0000\u0000\u0000\u0000\u0000\u0000\u0000\u0000\n",
      "1_screen_puzzle_10996.bcd\n",
      "1 screen puzzle\u0000\u0000\u0000\u0000\u0000\u0000\u0000\u0000\u0000\u0000\u0000\u0000\u0000\u0000\u0000\u0000\u0000\u0000\n",
      "1_screen_puzzle_1380.bcd\n",
      "1 SCREEN PUZZLE: Coin Bombing\u0000\u0000\u0000\u0000\n",
      "1_screen_puzzle_coin_bombing_6184.bcd\n",
      "1 SCREEN PUZZLE: MoleVenture\u0000\u0000\u0000\u0000\u0000\n",
      "1_screen_puzzle_moleventure_6201.bcd\n",
      "1 Screen Puzzle: Muncher Guards\u0000\u0000\n",
      "1_screen_puzzle_muncher_guards_10655.bcd\n",
      "1 Screen Puzzle: Reutilize\u0000s\u0000ds\u0000\u0000\n",
      "1_screen_puzzle_reutilizesds_11506.bcd\n",
      "1 Screen Puzzle: Sky Tower\u0000Shell\u0000\n",
      "1_screen_puzzle_sky_towershell_9166.bcd\n",
      "1 Screen Puzzle: Slide Over\u0000\u0000\u0000\u0000\u0000\u0000\n",
      "1_screen_puzzle_slide_over_12570.bcd\n",
      "1 Screen Puzzle: SMB2 Mario\u0000\u0000\u0000\u0000\u0000\u0000\n",
      "1_screen_puzzle_smb2_mario_13396.bcd\n",
      "1 SCREEN PUZZLE: Spring Required\u0000"
     ]
    },
    {
     "name": "stderr",
     "output_type": "stream",
     "text": [
      "  2%|█▍                                                                            | 252/13971 [00:13<04:06, 55.56it/s]"
     ]
    },
    {
     "name": "stdout",
     "output_type": "stream",
     "text": [
      "\n",
      "1_screen_puzzle_spring_required_6181.bcd\n",
      "1 SCREEN PUZZLE: Thwomp Day\u0000\u0000\u0000\u0000\u0000\u0000\n",
      "1_screen_puzzle_thwomp_day_307.bcd\n",
      "1 Screen Puzzle: Triple Keys\u0000ds\u0000\u0000\n",
      "1_screen_puzzle_triple_keysds_10978.bcd\n",
      "1 Screen: The Floor is Hot Lava\u0000\u0000\n",
      "1_screen_the_floor_is_hot_lava_7356.bcd\n",
      "1 Screen: Water Snake\u0000\u0000\u0000\u0000\u0000\u0000\u0000\u0000\u0000\u0000\u0000\u0000\n",
      "1_screen_water_snake_7354.bcd\n",
      "1 up\u0000\u0000\u0000\u0000\u0000\u0000\u0000\u0000\u0000\u0000\u0000\u0000\u0000\u0000\u0000\u0000\u0000\u0000\u0000\u0000\u0000\u0000\u0000\u0000\u0000\u0000\u0000\u0000\u0000\n",
      "1_up_439.bcd\n",
      "1発ドア\u0000\u0000\u0000\u0000\u0000\u0000\u0000\u0000\u0000\u0000\u0000\u0000\u0000\u0000\u0000\u0000\u0000\u0000\u0000\u0000\u0000\u0000\u0000\u0000\u0000\u0000\u0000\u0000\u0000\n",
      "1__10752.bcd\n",
      "1画面謎解き\u0000\u0000\u0000\u0000\u0000\u0000\u0000\u0000\u0000\u0000\u0000\u0000\u0000\u0000\u0000\u0000\u0000\u0000\u0000\u0000\u0000\u0000\u0000\u0000\u0000\u0000\u0000\n",
      "1__11284.bcd\n",
      "1画面耐久ステージ！\u0000\u0000\u0000\u0000\u0000\u0000\u0000\u0000\u0000\u0000\u0000\u0000\u0000\u0000\u0000\u0000\u0000\u0000\u0000\u0000\u0000\u0000\u0000\n",
      "1__1524.bcd\n",
      "2-1: Dzuttsun\u0000\u0000\u0000\u00008ngcheckkkk\u0000\u0000\u0000\u0000\u0000\n",
      "2-1_dzuttsun8ngcheckkkk_5062.bcd\n",
      "2-1 Little Drummer Boy\u0000lues\u0000e\u0000\u0000\u0000\u0000\n",
      "2-1_little_drummer_boyluese_15008.bcd\n",
      "2-1: Otherworldly Overworld.\u0000\u0000\u0000\u0000\u0000\n",
      "2-1_otherworldly_overworld._12380.bcd\n",
      "2-1　ノコノコの しゅうらく　Redshell Resort\u0000\u0000\n",
      "2-1_redshell_resort_8501.bcd\n"
     ]
    },
    {
     "name": "stderr",
     "output_type": "stream",
     "text": [
      "\r",
      "  2%|█▍                                                                            | 259/13971 [00:13<09:03, 25.24it/s]"
     ]
    },
    {
     "name": "stdout",
     "output_type": "stream",
     "text": [
      "2-1: The Fool on the Hill\u0000\u0000\u0000\u0000\u0000\u0000\u0000\u0000\n",
      "2-1_the_fool_on_the_hill_14416.bcd\n",
      "2-1 Wiggler Forest\u0000\u0000\u0000\u0000\u0000\u0000\u0000\u0000\u0000\u0000\u0000\u0000\u0000\u0000\u0000\n",
      "2-1_wiggler_forest_14378.bcd\n",
      "2-2 Cheep-Cheep Sea\u0000\u0000\u0000\u0000\u0000\u0000\u0000\u0000\u0000\u0000\u0000\u0000\u0000\u0000\n",
      "2-2_cheep-cheep_sea_14329.bcd\n",
      "2-2 プクプクの オアシス/Cheep Cheep Oasis\u0000\n",
      "2-2_cheep_cheep_oasis_2091.bcd\n",
      "2-2 Donut Lift Caves\u0000\u0000\u0000\u0000\u0000\u0000\u0000\u0000\u0000\u0000\u0000\u0000\u0000\n",
      "2-2_donut_lift_caves_13510.bcd\n"
     ]
    },
    {
     "name": "stderr",
     "output_type": "stream",
     "text": [
      "\r",
      "  2%|█▍                                                                            | 264/13971 [00:14<11:19, 20.16it/s]"
     ]
    },
    {
     "name": "stdout",
     "output_type": "stream",
     "text": [
      "2-2 Frostybottom Hills\u0000\u0000\u0000\u0000\u0000\u0000\u0000\u0000\u0000\u0000\u0000\n",
      "2-2_frostybottom_hills_3005.bcd\n",
      "2-2 Into the desert cave\u0000sh  20s\u0000\n",
      "2-2_into_the_desert_cavesh_20s_7853.bcd\n",
      "2-2: Let It Breeze\u0000Long\u0000s\u0000\u0000\u0000\u0000\u0000\u0000\u0000\u0000\n",
      "2-2_let_it_breezelongs_14385.bcd\n",
      "2-2 Outlaw Run\u0000\u0000\u0000\u0000\u0000w Zealand\u0000\u0000\u0000\u0000\u0000\n",
      "2-2_outlaw_runw_zealand_15246.bcd\n",
      "2-2: Panic at the Platform-Tower\u0000\n",
      "2-2_panic_at_the_platform-tower_14294.bcd\n"
     ]
    },
    {
     "name": "stderr",
     "output_type": "stream",
     "text": [
      "\r",
      "  2%|█▍                                                                            | 268/13971 [00:14<13:20, 17.11it/s]"
     ]
    },
    {
     "name": "stdout",
     "output_type": "stream",
     "text": [
      "2-2 海へ山へ！そして空へ！/road to airship!\u0000\n",
      "2-2_road_to_airship__13813.bcd\n",
      "2-2 Spiny Spelunking\u0000\u0000\u0000\u0000\u0000\u0000\u0000\u0000\u0000\u0000\u0000\u0000\u0000\n",
      "2-2_spiny_spelunking_13488.bcd\n",
      "2-2: Tundra Turmoil.\u0000\u0000\u0000\u0000\u0000\u0000\u0000\u0000\u0000\u0000\u0000\u0000\u0000\n",
      "2-2_tundra_turmoil._12344.bcd\n"
     ]
    },
    {
     "name": "stderr",
     "output_type": "stream",
     "text": [
      "\r",
      "  2%|█▌                                                                            | 271/13971 [00:14<19:51, 11.50it/s]"
     ]
    },
    {
     "name": "stdout",
     "output_type": "stream",
     "text": [
      "2-2: Under The (Scary) Sea\u0000ones\u0000\u0000\n",
      "2-2_under_the_scary_seaones_5063.bcd\n",
      "2-2 Wild West Winds\u0000\u0000\u0000\u0000\u0000\u0000\u0000\u0000\u0000\u0000\u0000\u0000\u0000\u0000\n",
      "2-2_wild_west_winds_3007.bcd\n",
      "2-3 シーソー広場 -Seesaw Square-\u0000\u0000\u0000\u0000\u0000\u0000\u0000\n",
      "2-3_-seesaw_square-_11072.bcd\n"
     ]
    },
    {
     "name": "stderr",
     "output_type": "stream",
     "text": [
      "\r",
      "  2%|█▌                                                                            | 274/13971 [00:15<19:14, 11.86it/s]"
     ]
    },
    {
     "name": "stdout",
     "output_type": "stream",
     "text": [
      "2-3: Fishy Fleet.\u0000 cat person\"\u0000\u0000\u0000\n",
      "2-3_fishy_fleet._cat_person__12390.bcd\n",
      "2-3: Here Comes the Angry Sun\u0000\u0000\u0000\u0000\n",
      "2-3_here_comes_the_angry_sun_14418.bcd\n",
      "2-3 Masters Of War\u0000's Blues\u0000e\u0000\u0000\u0000\u0000\n",
      "2-3_masters_of_war_s_bluese_15006.bcd\n"
     ]
    },
    {
     "name": "stderr",
     "output_type": "stream",
     "text": [
      "\r",
      "  2%|█▌                                                                            | 276/13971 [00:15<17:16, 13.22it/s]"
     ]
    },
    {
     "name": "stdout",
     "output_type": "stream",
     "text": [
      "2-3 Mushroom Growth\u0000drun [20s]\u0000\u0000\u0000\n",
      "2-3_mushroom_growthdrun_20s__13419.bcd\n",
      "2-3 Paranormal Pipe Palace\u0000\u0000\u0000\u0000\u0000\u0000\u0000\n",
      "2-3_paranormal_pipe_palace_13408.bcd\n",
      "2-3 Poisonous Cave\u0000\u0000\u0000\u0000\u0000\u0000\u0000\u0000\u0000\u0000\u0000\u0000\u0000\u0000\u0000\n",
      "2-3_poisonous_cave_14327.bcd\n"
     ]
    },
    {
     "name": "stderr",
     "output_type": "stream",
     "text": [
      "  2%|█▌                                                                            | 280/13971 [00:15<18:30, 12.33it/s]"
     ]
    },
    {
     "name": "stdout",
     "output_type": "stream",
     "text": [
      "2-3 Remake\u0000\u0000\u0000\u0000\u0000\u0000\u0000rk of pain\u0000\u0000\u0000\u0000\u0000\u0000\n",
      "2-3_remakerk_of_pain_6554.bcd\n",
      "2-3: Rubble ruins\u0000\u0000\u0000\u0000\u0000\u0000\u0000\u0000\u0000\u0000\u0000\u0000\u0000\u0000\u0000\u0000\n",
      "2-3_rubble_ruins_13972.bcd\n",
      "2-3: Subglacial Stepping Stones\u0000\u0000\n",
      "2-3_subglacial_stepping_stones_3441.bcd\n"
     ]
    },
    {
     "name": "stderr",
     "output_type": "stream",
     "text": [
      "\r",
      "  2%|█▌                                                                            | 282/13971 [00:15<20:56, 10.90it/s]"
     ]
    },
    {
     "name": "stdout",
     "output_type": "stream",
     "text": [
      "2-3　ハナチャン だいこうしん　Wiggler Woods\u0000s\u0000\n",
      "2-3_wiggler_woodss_11367.bcd\n",
      "2-4 Big Cedar\u0000\u0000\u0000\u0000\u0000\u0000w Zealand\u0000\u0000\u0000\u0000\u0000\n",
      "2-4_big_cedarw_zealand_14451.bcd\n",
      "2-4: Dig a Pokey\u0000\u0000\u0000\u0000\u0000\u0000\u0000\u0000\u0000\u0000\u0000\u0000\u0000\u0000\u0000\u0000\u0000\n",
      "2-4_dig_a_pokey_14387.bcd\n",
      "2-4 Frostybottom Hills\u0000\u0000\u0000\u0000\u0000\u0000\u0000\u0000\u0000\u0000\u0000\n",
      "2-4_frostybottom_hills_2961.bcd\n"
     ]
    },
    {
     "name": "stderr",
     "output_type": "stream",
     "text": [
      "  2%|█▌                                                                            | 287/13971 [00:16<16:39, 13.69it/s]"
     ]
    },
    {
     "name": "stdout",
     "output_type": "stream",
     "text": [
      "2-4: Koopahari Keep\u0000\u0000\u0000\u0000\u0000\u0000\u0000\u0000\u0000\u0000\u0000\u0000\u0000\u0000\n",
      "2-4_koopahari_keep_5041.bcd\n",
      "2-4 Piranha Plant Forest\u0000\u0000\u0000\u0000\u0000\u0000\u0000\u0000\u0000\n",
      "2-4_piranha_plant_forest_14363.bcd\n",
      "2-4: Piranha Pyramid Peril.\u0000run!\u0000\n",
      "2-4_piranha_pyramid_peril.run__12357.bcd\n"
     ]
    },
    {
     "name": "stderr",
     "output_type": "stream",
     "text": [
      "\r",
      "  2%|█▌                                                                            | 289/13971 [00:16<30:10,  7.56it/s]"
     ]
    },
    {
     "name": "stdout",
     "output_type": "stream",
     "text": [
      "2-4 Roy's Spiky Seesaw Castle\u0000\u0000\u0000\u0000\n",
      "2-4_roy_s_spiky_seesaw_castle_13773.bcd\n",
      "2-4 Toxisches Terrain\u0000\u0000\u0000\u0000\u0000\u0000\u0000\u0000\u0000\u0000\u0000\u0000\n",
      "2-4_toxisches_terrain_2975.bcd\n",
      "2-4 Trembling Tall Tower\u0000\u0000\u0000\u0000\u0000\u0000\u0000\u0000\u0000\n",
      "2-4_trembling_tall_tower_2990.bcd\n"
     ]
    },
    {
     "name": "stderr",
     "output_type": "stream",
     "text": [
      "\r",
      "  2%|█▌                                                                            | 291/13971 [00:16<26:38,  8.56it/s]"
     ]
    },
    {
     "name": "stdout",
     "output_type": "stream",
     "text": [
      "2-5 Fire in the Hole\u0000Zealand\u0000\u0000\u0000\u0000\u0000\n",
      "2-5_fire_in_the_holezealand_15357.bcd\n",
      "2-5 Gumba-Gipfel\u0000\u0000\u0000\u0000\u0000\u0000\u0000\u0000\u0000\u0000\u0000\u0000\u0000\u0000\u0000\u0000\u0000\n",
      "2-5_gumba-gipfel_2997.bcd\n"
     ]
    },
    {
     "name": "stderr",
     "output_type": "stream",
     "text": [
      "\r",
      "  2%|█▋                                                                            | 293/13971 [00:17<25:12,  9.04it/s]"
     ]
    },
    {
     "name": "stdout",
     "output_type": "stream",
     "text": [
      "2-5: Molten Moonlight\u0000\u0000\u0000\u0000\u0000\u0000\u0000\u0000\u0000\u0000\u0000\u0000\n",
      "2-5_molten_moonlight_12383.bcd\n"
     ]
    },
    {
     "name": "stderr",
     "output_type": "stream",
     "text": [
      "\r",
      "  2%|█▋                                                                            | 295/13971 [00:17<34:53,  6.53it/s]"
     ]
    },
    {
     "name": "stdout",
     "output_type": "stream",
     "text": [
      "2-5 Poisonous Castle\u0000 Castle\u0000\u0000\u0000\u0000\u0000\n",
      "2-5_poisonous_castle_castle_14362.bcd\n",
      "2-6: Enter Boom Boom!\u0000\u0000\u0000\u0000\u0000\u0000\u0000\u0000\u0000\u0000\u0000\u0000\n",
      "2-6_enter_boom_boom__12368.bcd\n",
      "2-A: Shiny Spiny Skies.\u0000\u0000\u0000\u0000\u0000\u0000\u0000\u0000\u0000\u0000\n",
      "2-a_shiny_spiny_skies._12349.bcd\n"
     ]
    },
    {
     "name": "stderr",
     "output_type": "stream",
     "text": [
      "\r",
      "  2%|█▋                                                                            | 297/13971 [00:17<29:31,  7.72it/s]"
     ]
    },
    {
     "name": "stdout",
     "output_type": "stream",
     "text": [
      "2-B: Gloomy Goombrats.\u0000Remix\u0000\u0000\u0000\u0000\u0000\n",
      "2-b_gloomy_goombrats.remix_12381.bcd\n"
     ]
    },
    {
     "name": "stderr",
     "output_type": "stream",
     "text": [
      "\r",
      "  2%|█▋                                                                            | 299/13971 [00:18<40:54,  5.57it/s]"
     ]
    },
    {
     "name": "stdout",
     "output_type": "stream",
     "text": [
      "2-C Morton's Speed Rise Infest\u0000 \u0000\n",
      "2-c_morton_s_speed_rise_infest_15633.bcd\n",
      "2-S: The White Palace\u0000\u0000\u0000\u0000\u0000\u0000\u0000\u0000\u0000\u0000\u0000\u0000\n",
      "2-s_the_white_palace_5065.bcd\n"
     ]
    },
    {
     "name": "stderr",
     "output_type": "stream",
     "text": [
      "  2%|█▋                                                                            | 302/13971 [00:18<34:40,  6.57it/s]"
     ]
    },
    {
     "name": "stdout",
     "output_type": "stream",
     "text": [
      "20-second speedrun but it's not.\u0000\n",
      "20-second_speedrun_but_it_s_not._13318.bcd\n",
      "2001: A Space Odyssey\u0000\u0000\u0000\u0000\u0000\u0000\u0000\u0000\u0000\u0000\u0000\u0000\n",
      "2001_a_space_odyssey_5372.bcd\n",
      "2012\u0000\u0000\u0000\u0000\u0000\u0000\u0000\u0000\u0000\u0000\u0000\u0000\u0000\u0000\u0000\u0000\u0000\u0000\u0000\u0000\u0000\u0000\u0000\u0000\u0000\u0000\u0000\u0000\u0000\n",
      "2012_11242.bcd\n"
     ]
    },
    {
     "name": "stderr",
     "output_type": "stream",
     "text": [
      "  2%|█▋                                                                            | 306/13971 [00:18<26:44,  8.52it/s]"
     ]
    },
    {
     "name": "stdout",
     "output_type": "stream",
     "text": [
      "\u0000\u0000\u0000\u0000\u0000\u0000\u0000\u0000\u0000\u0000\u0000\u0000\u0000\u0000\u0000\u0000\u0000\u0000\u0000\u0000\u0000\u0000\u0000\u0000\u0000\u0000\u0000\u0000\u0000\u0000\u0000\u0000\u0000\n",
      "2063199109.bcd\n",
      "20seconds : Auto-Switch House \u0000c\u0000\n",
      "20seconds_auto-switch_house_c_2632.bcd\n",
      "20seconds : Boom castle 2\u0000\u0000\u0000\u0000\u0000\u0000\u0000\u0000\n",
      "20seconds_boom_castle_2_13221.bcd\n",
      "20seconds: Earthquake Jungle Run\u0000\n",
      "20seconds_earthquake_jungle_run_3629.bcd\n",
      "20seconds : Grinder Speedrun\u0000\u0000\u0000\u0000\u0000\n",
      "20seconds_grinder_speedrun_12481.bcd\n"
     ]
    },
    {
     "name": "stderr",
     "output_type": "stream",
     "text": [
      "\r",
      "  2%|█▋                                                                            | 308/13971 [00:19<25:51,  8.81it/s]"
     ]
    },
    {
     "name": "stdout",
     "output_type": "stream",
     "text": [
      "20seconds :On/Off switch house\u0000e\u0000\n",
      "20seconds_on_off_switch_housee_3685.bcd\n",
      "20seconds : Pipe party！！！\u0000ouse\u0000e\u0000\n",
      "20seconds_pipe_party_ousee_3704.bcd\n"
     ]
    },
    {
     "name": "stderr",
     "output_type": "stream",
     "text": [
      "  2%|█▋                                                                            | 311/13971 [00:19<35:31,  6.41it/s]"
     ]
    },
    {
     "name": "stdout",
     "output_type": "stream",
     "text": [
      "20seconds : Poison switcher\u0000\u0000\u0000\u0000\u0000\u0000\n",
      "20seconds_poison_switcher_4326.bcd\n",
      "20seconds : Simple on/off cave\u0000\u0000\u0000"
     ]
    },
    {
     "name": "stderr",
     "output_type": "stream",
     "text": [
      "\r",
      "  2%|█▋                                                                            | 312/13971 [00:19<32:35,  6.99it/s]"
     ]
    },
    {
     "name": "stdout",
     "output_type": "stream",
     "text": [
      "\n",
      "20seconds_simple_on_off_cave_6279.bcd\n",
      "20Seconds Speed Run Challenge☆\u0000\u0000\u0000\n",
      "20seconds_speed_run_challenge__12013.bcd\n",
      "20seconds : Spiny rain \u0000\u0000\u0000\u0000\u0000\u0000\u0000\u0000\u0000\u0000\n",
      "20seconds_spiny_rain_3974.bcd\n"
     ]
    },
    {
     "name": "stderr",
     "output_type": "stream",
     "text": [
      "  2%|█▊                                                                            | 316/13971 [00:20<24:57,  9.12it/s]"
     ]
    },
    {
     "name": "stdout",
     "output_type": "stream",
     "text": [
      "20seconds:Thwomp Desert2/ドッスン砂漠2\u0000\n",
      "20seconds_thwomp_desert2_2_6323.bcd\n",
      "20second : Grinder & Lift Panic\u0000\u0000\n",
      "20second_grinder_lift_panic_12525.bcd\n",
      "20second SPEED RUN!! #2\u0000\u0000\u0000\u0000\u0000\u0000\u0000\u0000\u0000\u0000\n",
      "20second_speed_run_2_11662.bcd\n"
     ]
    },
    {
     "name": "stderr",
     "output_type": "stream",
     "text": [
      "\r",
      "  2%|█▊                                                                            | 318/13971 [00:20<24:05,  9.45it/s]"
     ]
    },
    {
     "name": "stdout",
     "output_type": "stream",
     "text": [
      "20second SPEED RUN!! #3\u0000\u0000\u0000\u0000\u0000\u0000\u0000\u0000\u0000\u0000\n",
      "20second_speed_run_3_11985.bcd\n",
      "20second speed run\u0000\u0000\u0000\u0000\u0000\u0000\u0000\u0000\u0000\u0000\u0000\u0000\u0000\u0000\u0000\n",
      "20second_speed_run_7193.bcd\n",
      "20Second:　Swicth&Lift Speed Run！\u0000\n",
      "20second_swicth_lift_speed_run__9144.bcd\n"
     ]
    },
    {
     "name": "stderr",
     "output_type": "stream",
     "text": [
      "  2%|█▊                                                                            | 321/13971 [00:20<24:51,  9.15it/s]"
     ]
    },
    {
     "name": "stdout",
     "output_type": "stream",
     "text": [
      "20Second:switch run 2\u0000\u0000\u0000\u0000\u0000\u0000\u0000\u0000\u0000\u0000\u0000\u0000\n",
      "20second_switch_run_2_4215.bcd\n",
      "20Sec/ピーパックン スピードラン 2☆SPEED RUN★\u0000\n",
      "20sec_2_speed_run__14424.bcd\n"
     ]
    },
    {
     "name": "stderr",
     "output_type": "stream",
     "text": [
      "  2%|█▊                                                                            | 324/13971 [00:21<26:23,  8.62it/s]"
     ]
    },
    {
     "name": "stdout",
     "output_type": "stream",
     "text": [
      "20sec 3DJerome3D Grove speedrun\u0000\u0000\n",
      "20sec_3djerome3d_grove_speedrun_4321.bcd\n",
      "20sec BLG-X Chain Chomp speedrun\u0000\n",
      "20sec_blg-x_chain_chomp_speedrun_4294.bcd\n",
      "20sec Challenge SPPED RUN #1\u0000\u0000\u0000\u0000\u0000\n",
      "20sec_challenge_spped_run_1_12021.bcd\n",
      "20sec fire barrier 8 speedrun\u0000\u0000\u0000\u0000\n",
      "20sec_fire_barrier_8_speedrun_3956.bcd\n"
     ]
    },
    {
     "name": "stderr",
     "output_type": "stream",
     "text": [
      "  2%|█▊                                                                            | 329/13971 [00:21<23:27,  9.69it/s]"
     ]
    },
    {
     "name": "stdout",
     "output_type": "stream",
     "text": [
      "20sec fire barrier speedrun 2\u0000\u0000\u0000\u0000\n",
      "20sec_fire_barrier_speedrun_2_3632.bcd\n",
      "20sec fire barrier speedrun\u0000\u0000\u0000\u0000\u0000\u0000\n",
      "20sec_fire_barrier_speedrun_3631.bcd\n",
      "20sec Jooboo Ruins speedrun\u0000un\u0000\u0000\u0000\n",
      "20sec_jooboo_ruins_speedrunun_4260.bcd\n",
      "20sec Luigi John chase run\u0000\u0000n\u0000\u0000\u0000\u0000\n",
      "20sec_luigi_john_chase_runn_4228.bcd\n"
     ]
    },
    {
     "name": "stderr",
     "output_type": "stream",
     "text": [
      "\r",
      "  2%|█▊                                                                            | 331/13971 [00:21<28:28,  7.98it/s]"
     ]
    },
    {
     "name": "stdout",
     "output_type": "stream",
     "text": [
      "20sec Moist Pipeline Panic! \u000020s\u0000\n",
      "20sec_moist_pipeline_panic_20s_11732.bcd\n",
      "20sec Momoモモ Castle speedrun\u0000\u0000\u0000\u0000\u0000\n",
      "20sec_momo_castle_speedrun_4328.bcd\n"
     ]
    },
    {
     "name": "stderr",
     "output_type": "stream",
     "text": [
      "\r",
      "  2%|█▊                                                                            | 333/13971 [00:22<24:59,  9.09it/s]"
     ]
    },
    {
     "name": "stdout",
     "output_type": "stream",
     "text": [
      "20sec NoGeniusノ Snow speedrun\u0000\u0000\u0000\u0000\n",
      "20sec_nogenius_snow_speedrun_4229.bcd\n",
      "20sec peaceful forest speedrun\u0000\u0000\u0000\n",
      "20sec_peaceful_forest_speedrun_3931.bcd\n"
     ]
    },
    {
     "name": "stderr",
     "output_type": "stream",
     "text": [
      "\r",
      "  2%|█▊                                                                            | 335/13971 [00:22<28:18,  8.03it/s]"
     ]
    },
    {
     "name": "stdout",
     "output_type": "stream",
     "text": [
      "20sec ♪Pluto Snow speedrun\u0000\u0000\u0000\u0000\u0000\u0000\u0000\n",
      "20sec_pluto_snow_speedrun_4311.bcd\n",
      "20sec snow run 寒い土地は走るに限るのスピードラン\u0000\n",
      "20sec_snow_run__2960.bcd\n",
      "20sec speedrun for the fastest\u0000\u0000\u0000\n",
      "20sec_speedrun_for_the_fastest_3681.bcd\n",
      "20Sec/暗闇のトゲこんぼうスピードラン/Speed run\u0000\u0000"
     ]
    },
    {
     "name": "stderr",
     "output_type": "stream",
     "text": [
      "\r",
      "  2%|█▉                                                                            | 338/13971 [00:22<24:59,  9.09it/s]"
     ]
    },
    {
     "name": "stdout",
     "output_type": "stream",
     "text": [
      "\n",
      "20sec_speed_run_14171.bcd\n",
      "20sec speed run:新感覚!踏むスピードラン\u0000\u0000\u0000\u0000\u0000\n",
      "20sec_speed_run__11945.bcd\n"
     ]
    },
    {
     "name": "stderr",
     "output_type": "stream",
     "text": [
      "  2%|█▉                                                                            | 342/13971 [00:22<20:03, 11.32it/s]"
     ]
    },
    {
     "name": "stdout",
     "output_type": "stream",
     "text": [
      "20sec SR|Cindy Temple speedrun\u0000\u0000\u0000\n",
      "20sec_sr_cindy_temple_speedrun_4256.bcd\n",
      "20sec Wolf Castle platform run\u0000\u0000\u0000\n",
      "20sec_wolf_castle_platform_run_4254.bcd\n",
      "20sec スピードラン\u0000\u0000\u0000\u0000　ン　\u0000\u0000\u0000\u0000\u0000\u0000\u0000\u0000\u0000\u0000\u0000\u0000\u0000\u0000\n",
      "20sec__191.bcd\n",
      "20s POW castle exhilarating ver.\u0000\n",
      "20s_pow_castle_exhilarating_ver._4359.bcd\n",
      "20s:Sky On/Off Speedrun\u0000\u0000\u0000\u0000\u0000\u0000\u0000\u0000\u0000\u0000\n",
      "20s_sky_on_off_speedrun_11206.bcd\n"
     ]
    },
    {
     "name": "stderr",
     "output_type": "stream",
     "text": [
      "  2%|█▉                                                                            | 346/13971 [00:23<22:09, 10.25it/s]"
     ]
    },
    {
     "name": "stdout",
     "output_type": "stream",
     "text": [
      "20s speedrun: Lava hopping 3\u0000\u0000\u0000\u0000\u0000\n",
      "20s_speedrun_lava_hopping_3_10444.bcd\n",
      "20s speedrun　どくどく洞窟\\Poison cave\u0000\u0000\n",
      "20s_speedrun_poison_cave_11474.bcd\n",
      "20秒スピードラン / 毒沼で爽快にEnjoy！！\u0000\u0000\u0000\u0000\u0000\u0000\u0000\u0000\n",
      "20_enjoy__12012.bcd\n"
     ]
    },
    {
     "name": "stderr",
     "output_type": "stream",
     "text": [
      "\r",
      "  2%|█▉                                                                            | 348/13971 [00:23<24:18,  9.34it/s]"
     ]
    },
    {
     "name": "stdout",
     "output_type": "stream",
     "text": [
      "20 Secondes: Easy mode\u0000\u0000\u0000\u0000\u0000\u0000\u0000\u0000\u0000\u0000\u0000\n",
      "20_secondes_easy_mode_12205.bcd\n",
      "20 Seconds: Abominable Snowmen\u0000\u0000\u0000\n",
      "20_seconds_abominable_snowmen_7362.bcd\n",
      "20 Seconds: Aerial Armada\u0000\u0000\u0000\u0000\u0000\u0000\u0000\u0000\n",
      "20_seconds_aerial_armada_7352.bcd\n"
     ]
    },
    {
     "name": "stderr",
     "output_type": "stream",
     "text": [
      "\r",
      "  3%|█▉                                                                            | 350/13971 [00:23<23:10,  9.79it/s]"
     ]
    },
    {
     "name": "stdout",
     "output_type": "stream",
     "text": [
      "20 seconds: Arctic Tundra Dash\u0000\u0000\u0000\n",
      "20_seconds_arctic_tundra_dash_12944.bcd\n",
      "20 seconds: Auto Switch Heaven \u0000\u0000\n",
      "20_seconds_auto_switch_heaven_3045.bcd\n"
     ]
    },
    {
     "name": "stderr",
     "output_type": "stream",
     "text": [
      "  3%|█▉                                                                            | 353/13971 [00:24<33:42,  6.73it/s]"
     ]
    },
    {
     "name": "stdout",
     "output_type": "stream",
     "text": [
      "20 seconds: Beatles cave!\u0000\u0000\u0000\u0000\u0000\u0000\u0000\u0000\n",
      "20_seconds_beatles_cave__2675.bcd\n",
      "20 Seconds: Belly of the Beast\u0000\u0000\u0000\n",
      "20_seconds_belly_of_the_beast_8921.bcd\n"
     ]
    },
    {
     "name": "stderr",
     "output_type": "stream",
     "text": [
      "  3%|█▉                                                                            | 355/13971 [00:24<30:45,  7.38it/s]"
     ]
    },
    {
     "name": "stdout",
     "output_type": "stream",
     "text": [
      "20 Seconds: Blackout Blitz\u0000ades\u0000\u0000\n",
      "20_seconds_blackout_blitzades_2628.bcd\n",
      "20 Seconds: Bob-omb Blastoff\u0000\u0000\u0000\u0000\u0000\n",
      "20_seconds_bob-omb_blastoff_739.bcd\n"
     ]
    },
    {
     "name": "stderr",
     "output_type": "stream",
     "text": [
      "  3%|█▉                                                                            | 358/13971 [00:24<25:31,  8.89it/s]"
     ]
    },
    {
     "name": "stdout",
     "output_type": "stream",
     "text": [
      "20 seconds: Bob-omb Bonanza\u0000\u0000n\u0000\u0000\u0000\n",
      "20_seconds_bob-omb_bonanzan_6305.bcd\n",
      "20 seconds: Bowser on/off castle\u0000\n",
      "20_seconds_bowser_on_off_castle_3646.bcd\n",
      "20 Seconds: Buzzy Beetle Blaze\u0000\u0000\u0000\n",
      "20_seconds_buzzy_beetle_blaze_381.bcd\n",
      "20 seconds: Buzzy Castle\u0000\u0000\u0000\u0000\u0000\u0000\u0000\u0000\u0000\n",
      "20_seconds_buzzy_castle_3647.bcd\n"
     ]
    },
    {
     "name": "stderr",
     "output_type": "stream",
     "text": [
      "  3%|██                                                                            | 362/13971 [00:25<25:32,  8.88it/s]"
     ]
    },
    {
     "name": "stdout",
     "output_type": "stream",
     "text": [
      "20 Seconds: Cannonball Capers\u0000\u0000\u0000\u0000\n",
      "20_seconds_cannonball_capers_2611.bcd\n",
      "20 Seconds: Cannonball Panic\u0000\u0000\u0000\u0000\u0000\n",
      "20_seconds_cannonball_panic_4220.bcd\n",
      "20 Seconds: Cannonball Panic!\u0000\u0000\u0000\u0000\n",
      "20_seconds_cannonball_panic__4295.bcd\n"
     ]
    },
    {
     "name": "stderr",
     "output_type": "stream",
     "text": [
      "  3%|██                                                                            | 364/13971 [00:25<30:50,  7.35it/s]"
     ]
    },
    {
     "name": "stdout",
     "output_type": "stream",
     "text": [
      "20 Seconds: Cannon Catastrophe\u0000\u0000\u0000\n",
      "20_seconds_cannon_catastrophe_11938.bcd\n",
      "20 seconds: Celestial Koopa Jump\u0000\n",
      "20_seconds_celestial_koopa_jump_3392.bcd\n"
     ]
    },
    {
     "name": "stderr",
     "output_type": "stream",
     "text": [
      "  3%|██                                                                            | 366/13971 [00:26<40:33,  5.59it/s]"
     ]
    },
    {
     "name": "stdout",
     "output_type": "stream",
     "text": [
      "20 Seconds challenge 1-4\u0000\u0000\u0000\u0000\u0000\u0000\u0000\u0000\u0000\n",
      "20_seconds_challenge_1-4_2222.bcd\n",
      "20 seconds: Colorful Sky Rush\u0000h\u0000\u0000\n",
      "20_seconds_colorful_sky_rushh_12956.bcd\n"
     ]
    },
    {
     "name": "stderr",
     "output_type": "stream",
     "text": [
      "\r",
      "  3%|██                                                                            | 367/13971 [00:26<40:01,  5.66it/s]"
     ]
    },
    {
     "name": "stdout",
     "output_type": "stream",
     "text": [
      "20 Seconds: Countdown Crumble\u0000\u0000\u0000\u0000\n",
      "20_seconds_countdown_crumble_1407.bcd\n",
      "20 Seconds: Daunting Desert Dash\u0000\n",
      "20_seconds_daunting_desert_dash_778.bcd\n"
     ]
    },
    {
     "name": "stderr",
     "output_type": "stream",
     "text": [
      "\r",
      "  3%|██                                                                            | 369/13971 [00:26<35:32,  6.38it/s]"
     ]
    },
    {
     "name": "stdout",
     "output_type": "stream",
     "text": [
      "20 seconds: Deadly Desert\u0000\u0000\u0000\u0000\u0000\u0000\u0000\u0000\n",
      "20_seconds_deadly_desert_2681.bcd\n"
     ]
    },
    {
     "name": "stderr",
     "output_type": "stream",
     "text": [
      "\r",
      "  3%|██                                                                            | 370/13971 [00:26<46:10,  4.91it/s]"
     ]
    },
    {
     "name": "stdout",
     "output_type": "stream",
     "text": [
      "20 seconds: Desert Stiletto Rush\u0000\n",
      "20_seconds_desert_stiletto_rush_3729.bcd\n",
      "20 Seconds: Disturbance Dogs\u0000\u0000\u0000\u0000\u0000\n",
      "20_seconds_disturbance_dogs_3697.bcd\n"
     ]
    },
    {
     "name": "stderr",
     "output_type": "stream",
     "text": [
      "\r",
      "  3%|██                                                                            | 372/13971 [00:27<41:22,  5.48it/s]"
     ]
    },
    {
     "name": "stdout",
     "output_type": "stream",
     "text": [
      "20 Seconds: Electric Disco\u0000\u0000\u0000\u0000\u0000\u0000\u0000\n",
      "20_seconds_electric_disco_12004.bcd\n"
     ]
    },
    {
     "name": "stderr",
     "output_type": "stream",
     "text": [
      "  3%|██                                                                            | 374/13971 [00:27<42:14,  5.36it/s]"
     ]
    },
    {
     "name": "stdout",
     "output_type": "stream",
     "text": [
      "20 seconds: Elysian Cannon Blast\u0000\n",
      "20_seconds_elysian_cannon_blast_3668.bcd\n",
      "20 Seconds: Ethereal POW Garden\u0000\u0000\n",
      "20_seconds_ethereal_pow_garden_1631.bcd\n",
      "20 Seconds: Fearsome Fire Fort\u0000\u0000\u0000\n",
      "20_seconds_fearsome_fire_fort_1911.bcd\n"
     ]
    },
    {
     "name": "stderr",
     "output_type": "stream",
     "text": [
      "  3%|██                                                                            | 378/13971 [00:28<35:15,  6.43it/s]"
     ]
    },
    {
     "name": "stdout",
     "output_type": "stream",
     "text": [
      "20 seconds: Fire Run\u0000\u0000\u0000\u0000\u0000\u0000\u0000\u0000\u0000\u0000\u0000\u0000\u0000\n",
      "20_seconds_fire_run_2223.bcd\n",
      "20 Seconds: Flooded Forest\u0000\u0000\u0000\u0000\u0000\u0000\u0000\n",
      "20_seconds_flooded_forest_7350.bcd\n",
      "20 Seconds : Freezy Galaxy\u0000\u0000\u0000\u0000\u0000\u0000\u0000\n",
      "20_seconds_freezy_galaxy_3684.bcd\n"
     ]
    },
    {
     "name": "stderr",
     "output_type": "stream",
     "text": [
      "  3%|██▏                                                                           | 381/13971 [00:28<33:10,  6.83it/s]"
     ]
    },
    {
     "name": "stdout",
     "output_type": "stream",
     "text": [
      "20 seconds: Get Down\u0000\u0000\u0000\u0000\u0000\u0000\u0000\u0000\u0000\u0000\u0000\u0000\u0000\n",
      "20_seconds_get_down_2685.bcd\n",
      "20 Seconds: Ghost of a Chance\u0000\u0000\u0000\u0000\n",
      "20_seconds_ghost_of_a_chance_7402.bcd\n",
      "20 seconds: Goomba's Armada\u0000\u0000\u0000\u0000\u0000\u0000\n",
      "20_seconds_goomba_s_armada_3710.bcd\n"
     ]
    },
    {
     "name": "stderr",
     "output_type": "stream",
     "text": [
      "  3%|██▏                                                                           | 385/13971 [00:28<22:40,  9.98it/s]"
     ]
    },
    {
     "name": "stdout",
     "output_type": "stream",
     "text": [
      "20 Seconds Great Flow Speedrun\u0000\u0000\u0000\n",
      "20_seconds_great_flow_speedrun_2274.bcd\n",
      "20 Seconds: Highspeed Hill Climb\u0000\n",
      "20_seconds_highspeed_hill_climb_3345.bcd\n",
      "20 Seconds: High In The Clouds\u0000\u0000\u0000\n",
      "20_seconds_high_in_the_clouds_4304.bcd\n",
      "20 seconds: King Thwomp's Castle\u0000\n",
      "20_seconds_king_thwomp_s_castle_10886.bcd\n",
      "20 seconds: Link's Frosty Dash\u0000\u0000\u0000\n",
      "20_seconds_link_s_frosty_dash_7190.bcd\n"
     ]
    },
    {
     "name": "stderr",
     "output_type": "stream",
     "text": [
      "\r",
      "  3%|██▏                                                                           | 387/13971 [00:29<30:21,  7.46it/s]"
     ]
    },
    {
     "name": "stdout",
     "output_type": "stream",
     "text": [
      "20 seconds: ♪♪Little Star♪♪\u0000\u0000\u0000\u0000\u0000\u0000\n",
      "20_seconds_little_star__3604.bcd\n",
      "20 Seconds: Majestic Clouds\u0000\u0000\u0000\u0000\u0000\u0000\n",
      "20_seconds_majestic_clouds_13426.bcd\n"
     ]
    },
    {
     "name": "stderr",
     "output_type": "stream",
     "text": [
      "\r",
      "  3%|██▏                                                                           | 389/13971 [00:29<29:49,  7.59it/s]"
     ]
    },
    {
     "name": "stdout",
     "output_type": "stream",
     "text": [
      "20 Seconds: Mega Mario Smashdown\u0000\n",
      "20_seconds_mega_mario_smashdown_787.bcd\n",
      "20 seconds: Muncher Cave!\u0000\u0000\u0000\u0000\u0000\u0000\u0000\u0000\n",
      "20_seconds_muncher_cave__3371.bcd\n"
     ]
    },
    {
     "name": "stderr",
     "output_type": "stream",
     "text": [
      "  3%|██▏                                                                           | 392/13971 [00:29<28:20,  7.99it/s]"
     ]
    },
    {
     "name": "stdout",
     "output_type": "stream",
     "text": [
      "20 seconds: My brother Thwomp!\u0000\u0000\u0000\n",
      "20_seconds_my_brother_thwomp__2717.bcd\n",
      "20 seconds: Pipeline Lift Sprint\u0000\n",
      "20_seconds_pipeline_lift_sprint_8564.bcd\n"
     ]
    },
    {
     "name": "stderr",
     "output_type": "stream",
     "text": [
      "  3%|██▏                                                                           | 394/13971 [00:30<30:10,  7.50it/s]"
     ]
    },
    {
     "name": "stdout",
     "output_type": "stream",
     "text": [
      "20 seconds: Piranha Cave\u0000\u0000\u0000\u0000\u0000\u0000\u0000\u0000\u0000\n",
      "20_seconds_piranha_cave_2238.bcd\n",
      "20 Seconds: Platform Panic\u0000\u0000\u0000\u0000\u0000\u0000\u0000\n",
      "20_seconds_platform_panic_3394.bcd\n",
      "20 Seconds: Platform Pushthrough\u0000"
     ]
    },
    {
     "name": "stderr",
     "output_type": "stream",
     "text": [
      "\r",
      "  3%|██▏                                                                           | 396/13971 [00:30<27:05,  8.35it/s]"
     ]
    },
    {
     "name": "stdout",
     "output_type": "stream",
     "text": [
      "\n",
      "20_seconds_platform_pushthrough_733.bcd\n",
      "20 Seconds: POWer Mansion!\u0000\u0000\u0000\u0000\u0000\u0000\u0000\n",
      "20_seconds_power_mansion__3627.bcd\n"
     ]
    },
    {
     "name": "stderr",
     "output_type": "stream",
     "text": [
      "\r",
      "  3%|██▏                                                                           | 397/13971 [00:30<31:31,  7.17it/s]"
     ]
    },
    {
     "name": "stdout",
     "output_type": "stream",
     "text": [
      "20 Seconds: POW Block Blitz\u0000Y+→\u0000\u0000\n",
      "20_seconds_pow_block_blitzy__347.bcd\n",
      "20 seconds: POW Block Mansion\u0000\u0000\u0000\u0000\n",
      "20_seconds_pow_block_mansion_3300.bcd\n"
     ]
    },
    {
     "name": "stderr",
     "output_type": "stream",
     "text": [
      "\r",
      "  3%|██▏                                                                           | 399/13971 [00:30<30:23,  7.44it/s]"
     ]
    },
    {
     "name": "stdout",
     "output_type": "stream",
     "text": [
      "20 seconds: POW Block Mountain\u0000\u0000\u0000\n",
      "20_seconds_pow_block_mountain_2239.bcd\n"
     ]
    },
    {
     "name": "stderr",
     "output_type": "stream",
     "text": [
      "\r",
      "  3%|██▏                                                                           | 400/13971 [00:30<39:24,  5.74it/s]"
     ]
    },
    {
     "name": "stdout",
     "output_type": "stream",
     "text": [
      "20 Seconds: Pow Throw Overflow\u0000\u0000\u0000\n",
      "20_seconds_pow_throw_overflow_3374.bcd\n"
     ]
    },
    {
     "name": "stderr",
     "output_type": "stream",
     "text": [
      "  3%|██▏                                                                           | 402/13971 [00:31<41:18,  5.47it/s]"
     ]
    },
    {
     "name": "stdout",
     "output_type": "stream",
     "text": [
      "20 Seconds: Rainbow Run - Kotaku\u0000\n",
      "20_seconds_rainbow_run_-_kotaku_7372.bcd\n",
      "20 seconds: Sawblade-Castle\u0000\u0000\u0000\u0000\u0000\u0000\n",
      "20_seconds_sawblade-castle_12929.bcd\n"
     ]
    },
    {
     "name": "stderr",
     "output_type": "stream",
     "text": [
      "\r",
      "  3%|██▏                                                                           | 403/13971 [00:31<47:55,  4.72it/s]"
     ]
    },
    {
     "name": "stdout",
     "output_type": "stream",
     "text": [
      "20 seconds: ☆Sharp Sky☆\u0000\u0000\u0000\u0000\u0000\u0000\u0000\u0000\u0000\u0000\n",
      "20_seconds_sharp_sky__11098.bcd\n",
      "20 seconds: Sky Auto switch Run\u0000\u0000\n",
      "20_seconds_sky_auto_switch_run_3951.bcd\n"
     ]
    },
    {
     "name": "stderr",
     "output_type": "stream",
     "text": [
      "\r",
      "  3%|██▎                                                                           | 405/13971 [00:31<43:25,  5.21it/s]"
     ]
    },
    {
     "name": "stdout",
     "output_type": "stream",
     "text": [
      "20 Seconds: Slide To Victory\u0000\u0000\u0000\u0000\u0000\n",
      "20_seconds_slide_to_victory_1691.bcd\n",
      "20 seconds: Snowy Death\u0000\u0000\u0000\u0000\u0000\u0000\u0000\u0000\u0000\u0000\n",
      "20_seconds_snowy_death_2221.bcd\n"
     ]
    },
    {
     "name": "stderr",
     "output_type": "stream",
     "text": [
      "  3%|██▎                                                                           | 408/13971 [00:32<36:13,  6.24it/s]"
     ]
    },
    {
     "name": "stdout",
     "output_type": "stream",
     "text": [
      "20 Seconds : Snow Boll SpeedRun！\u0000\n",
      "20_seconds_snow_boll_speedrun__10440.bcd\n",
      "20 seconds: Snow Storm!\u0000\u0000\u0000\u0000\u0000\u0000\u0000\u0000\u0000\u0000\n",
      "20_seconds_snow_storm__3612.bcd\n"
     ]
    },
    {
     "name": "stderr",
     "output_type": "stream",
     "text": [
      "\r",
      "  3%|██▎                                                                           | 409/13971 [00:32<36:33,  6.18it/s]"
     ]
    },
    {
     "name": "stdout",
     "output_type": "stream",
     "text": [
      "20 Seconds: Speed of Sound\u0000\u0000\u0000\u0000\u0000\u0000\u0000\n",
      "20_seconds_speed_of_sound_3366.bcd\n"
     ]
    },
    {
     "name": "stderr",
     "output_type": "stream",
     "text": [
      "  3%|██▎                                                                           | 411/13971 [00:32<41:08,  5.49it/s]"
     ]
    },
    {
     "name": "stdout",
     "output_type": "stream",
     "text": [
      "20 seconds: Spiky Spiny Forest\u0000\u0000\u0000\n",
      "20_seconds_spiky_spiny_forest_2748.bcd\n",
      "20 seconds: Spinning Thwomps\u0000\u0000\u0000\u0000\u0000\n",
      "20_seconds_spinning_thwomps_2683.bcd\n"
     ]
    },
    {
     "name": "stderr",
     "output_type": "stream",
     "text": [
      "  3%|██▎                                                                           | 414/13971 [00:33<39:47,  5.68it/s]"
     ]
    },
    {
     "name": "stdout",
     "output_type": "stream",
     "text": [
      "20 Seconds: Super Flimsy Parkour\u0000\n",
      "20_seconds_super_flimsy_parkour_12571.bcd\n",
      "20 Seconds: Super MATRIX Bros\u0000\u0000\u0000\u0000\n",
      "20_seconds_super_matrix_bros_4266.bcd\n",
      "20 Seconds: Super Star Sprint\u0000\u0000\u0000\u0000\n",
      "20_seconds_super_star_sprint_3972.bcd\n"
     ]
    },
    {
     "name": "stderr",
     "output_type": "stream",
     "text": [
      "  3%|██▎                                                                           | 416/13971 [00:33<42:34,  5.31it/s]"
     ]
    },
    {
     "name": "stdout",
     "output_type": "stream",
     "text": [
      "20 Seconds: Swift Switcheroo\u0000\u0000\u0000\u0000\u0000\n",
      "20_seconds_swift_switcheroo_3638.bcd\n",
      "20 Seconds: Switch Block Blast\u0000n\u0000\n",
      "20_seconds_switch_block_blastn_325.bcd\n"
     ]
    },
    {
     "name": "stderr",
     "output_type": "stream",
     "text": [
      "\r",
      "  3%|██▎                                                                           | 418/13971 [00:33<35:21,  6.39it/s]"
     ]
    },
    {
     "name": "stdout",
     "output_type": "stream",
     "text": [
      "20 Seconds:switch run\u00000秒スピードラン\u0000\u0000\u0000\n",
      "20_seconds_switch_run0__3944.bcd\n",
      "20 Seconds: Switch Sky Station\u0000h\u0000\n",
      "20_seconds_switch_sky_stationh_783.bcd\n",
      "20 Seconds: Tee Hee Two\u0000\u0000\u0000\u0000\u0000\u0000\u0000\u0000\u0000\u0000"
     ]
    },
    {
     "name": "stderr",
     "output_type": "stream",
     "text": [
      "\r",
      "  3%|██▎                                                                           | 420/13971 [00:34<32:45,  6.90it/s]"
     ]
    },
    {
     "name": "stdout",
     "output_type": "stream",
     "text": [
      "\n",
      "20_seconds_tee_hee_two_2980.bcd\n",
      "20 seconds: Thwomp Castle Run!\u0000\u0000\u0000\n",
      "20_seconds_thwomp_castle_run__3634.bcd\n"
     ]
    },
    {
     "name": "stderr",
     "output_type": "stream",
     "text": [
      "\r",
      "  3%|██▎                                                                           | 421/13971 [00:34<35:24,  6.38it/s]"
     ]
    },
    {
     "name": "stdout",
     "output_type": "stream",
     "text": [
      "20 Seconds: Thwomp Temple Run\u0000\u0000h\u0000\n",
      "20_seconds_thwomp_temple_runh_1390.bcd\n",
      "20 seconds: Toxic Sewers Run!\u0000\u0000\u0000\u0000\n",
      "20_seconds_toxic_sewers_run__3636.bcd\n"
     ]
    },
    {
     "name": "stderr",
     "output_type": "stream",
     "text": [
      "  3%|██▎                                                                           | 424/13971 [00:34<29:37,  7.62it/s]"
     ]
    },
    {
     "name": "stdout",
     "output_type": "stream",
     "text": [
      "20 Seconds: !!To Hot For You!!\u0000\u0000\u0000\n",
      "20_seconds_to_hot_for_you__3672.bcd\n",
      "20 second: House of Switches\u0000\u0000\u0000\u0000\u0000\n",
      "20_second_house_of_switches_2228.bcd\n"
     ]
    },
    {
     "name": "stderr",
     "output_type": "stream",
     "text": [
      "  3%|██▍                                                                           | 426/13971 [00:34<31:47,  7.10it/s]"
     ]
    },
    {
     "name": "stdout",
     "output_type": "stream",
     "text": [
      "20 Second Icicle Speedrun\u0000\u0000\u0000\u0000\u0000\u0000\u0000\u0000\n",
      "20_second_icicle_speedrun_3448.bcd\n",
      "20 second mayhem part I \u0000\u0000\u0000\u0000\u0000\u0000\u0000\u0000\u0000\n",
      "20_second_mayhem_part_i_8383.bcd\n"
     ]
    },
    {
     "name": "stderr",
     "output_type": "stream",
     "text": [
      "  3%|██▍                                                                           | 430/13971 [00:35<24:56,  9.05it/s]"
     ]
    },
    {
     "name": "stdout",
     "output_type": "stream",
     "text": [
      "20 Second Puzzle Room (Icy Cave)\u0000\n",
      "20_second_puzzle_room_icy_cave__2708.bcd\n",
      "20 second run! (moderate)\u0000\u0000\u0000\u0000\u0000\u0000\u0000\u0000\n",
      "20_second_run_moderate__932.bcd\n",
      "20 Second Shell Jump Challenge\u0000\u0000\u0000\n",
      "20_second_shell_jump_challenge_15522.bcd\n",
      "20 Second Speed\u0000\u0000d\u0000\u0000\u0000\u0000\u0000\u0000\u0000\u0000\u0000\u0000\u0000\u0000\u0000\u0000\u0000\n",
      "20_second_speedd_726.bcd\n",
      "20 second speed run\u0000estar　Music\u0000\u0000\n",
      "20_second_speed_runestar_music_4967.bcd\n"
     ]
    },
    {
     "name": "stderr",
     "output_type": "stream",
     "text": [
      "  3%|██▍                                                                           | 434/13971 [00:35<20:04, 11.24it/s]"
     ]
    },
    {
     "name": "stdout",
     "output_type": "stream",
     "text": [
      "20 Second Switch Run\u0000\u0000\u0000\u0000\u0000\u0000\u0000\u0000\u0000\u0000\u0000\u0000\u0000\n",
      "20_second_switch_run_4002.bcd\n",
      "20 Second Switch Speedrun\u0000\u0000\u0000\u0000\u0000\u0000\u0000\u0000\n",
      "20_second_switch_speedrun_4343.bcd\n",
      "20 Second Variety Speedrun!\u0000\u0000\u0000\u0000\u0000\u0000\n",
      "20_second_variety_speedrun__2243.bcd\n",
      "20 SECS: An Icy, ON and OFF Run\u0000\u0000\n",
      "20_secs_an_icy_on_and_off_run_2282.bcd\n",
      "20 secs of Tunnel Vision? \u0000l?\u0000\u0000\u0000\u0000"
     ]
    },
    {
     "name": "stderr",
     "output_type": "stream",
     "text": [
      "\r",
      "  3%|██▍                                                                           | 437/13971 [00:35<17:09, 13.15it/s]"
     ]
    },
    {
     "name": "stdout",
     "output_type": "stream",
     "text": [
      "\n",
      "20_secs_of_tunnel_vision_l__8986.bcd\n",
      "20 secs: Red Koopa = Hold Jump\u0000\u0000\u0000\n",
      "20_secs_red_koopa_hold_jump_7150.bcd\n",
      "20 sec: Delightful Cannon Blast\u0000\u0000\n",
      "20_sec_delightful_cannon_blast_7625.bcd\n"
     ]
    },
    {
     "name": "stderr",
     "output_type": "stream",
     "text": [
      "\r",
      "  3%|██▍                                                                           | 439/13971 [00:35<23:33,  9.57it/s]"
     ]
    },
    {
     "name": "stdout",
     "output_type": "stream",
     "text": [
      "20 Sec Mario Dash - Boo's House\u0000\u0000\n",
      "20_sec_mario_dash_-_boo_s_house_3059.bcd\n"
     ]
    },
    {
     "name": "stderr",
     "output_type": "stream",
     "text": [
      "\r",
      "  3%|██▍                                                                           | 441/13971 [00:36<27:25,  8.22it/s]"
     ]
    },
    {
     "name": "stdout",
     "output_type": "stream",
     "text": [
      "20 Sec Mario Dash - Moon Rockets\u0000\n",
      "20_sec_mario_dash_-_moon_rockets_3346.bcd\n",
      "20 Sec on/off Desert Run \u0000\u0000\u0000\u0000\u0000\u0000\u0000\u0000\n",
      "20_sec_on_off_desert_run_1669.bcd\n",
      "20 Sec : ON/OFF & Lift SpeedRun！\u0000\n",
      "20_sec_on_off_lift_speedrun__11199.bcd\n"
     ]
    },
    {
     "name": "stderr",
     "output_type": "stream",
     "text": [
      "  3%|██▍                                                                           | 444/13971 [00:36<27:50,  8.10it/s]"
     ]
    },
    {
     "name": "stdout",
     "output_type": "stream",
     "text": [
      "20 sec run POW- & On/Off-Block\u0000\u0000\u0000\n",
      "20_sec_run_pow-_on_off-block_13618.bcd\n",
      "20 Sec: Speed Run Kill Chomp\u0000\u0000\u0000\u0000\u0000\n",
      "20_sec_speed_run_kill_chomp_4521.bcd\n",
      "20秒スピードラン！SPEEDRUN 20sec\u0000\u0000\u0000\u0000\u0000\u0000\u0000\u0000\u0000"
     ]
    },
    {
     "name": "stderr",
     "output_type": "stream",
     "text": [
      "\r",
      "  3%|██▍                                                                           | 446/13971 [00:36<26:11,  8.61it/s]"
     ]
    },
    {
     "name": "stdout",
     "output_type": "stream",
     "text": [
      "\n",
      "20_speedrun_20sec_4986.bcd\n",
      "20秒マリオ\u0000\u0000\u0000\u0000\u0000\u0000\u0000\u0000\u0000\u0000　の\u0000\u0000\u0000\u0000\u0000\u0000\u0000\u0000\u0000\u0000\u0000\u0000\u0000\u0000\u0000\n",
      "20__6551.bcd\n",
      "\u0000\u0000\u0000\u0000\u0000\u0000\u0000\u0000\u0000\u0000\u0000\u0000\u0000\u0000\u0000\u0000\u0000\u0000\u0000\u0000\u0000\u0000\u0000\u0000\u0000\u0000\u0000\u0000\u0000\u0000\u0000\u0000\u0000\n",
      "211975947.bcd\n",
      "\u0000\u0000\u0000\u0000\u0000\u0000\u0000\u0000\u0000\u0000\u0000\u0000\u0000\u0000\u0000\u0000\u0000\u0000\u0000\u0000\u0000\u0000\u0000\u0000\u0000\u0000\u0000\u0000\u0000\u0000\u0000\u0000\u0000\n",
      "2159168434.bcd\n",
      "\u0000\u0000\u0000\u0000\u0000\u0000\u0000\u0000\u0000\u0000\u0000\u0000\u0000\u0000\u0000\u0000\u0000\u0000\u0000\u0000\u0000\u0000\u0000\u0000\u0000\u0000\u0000\u0000\u0000\u0000\u0000\u0000\u0000\n",
      "2177569259.bcd\n",
      "\u0000\u0000\u0000\u0000\u0000\u0000\u0000\u0000\u0000\u0000\u0000\u0000\u0000\u0000\u0000\u0000\u0000\u0000\u0000\u0000\u0000\u0000\u0000\u0000\u0000\u0000\u0000\u0000\u0000\u0000\u0000\u0000\u0000\n",
      "2220054183.bcd\n",
      "2222wwweeeeeeeeeeeeeeeeee\u0000\u0000\u0000\u0000\u0000\u0000\u0000\u0000\n",
      "2222wwweeeeeeeeeeeeeeeeee_12136.bcd\n",
      "222\u0000\u0000\u0000\u0000\u0000\u0000\u0000\u0000\u0000\u0000\u0000\u0000\u0000\u0000\u0000\u0000\u0000\u0000\u0000\u0000\u0000\u0000\u0000\u0000\u0000\u0000\u0000\u0000\u0000\u0000\n",
      "222_2066.bcd\n",
      "222\u0000\u0000\u0000\u0000\u0000\u0000\u0000\u0000\u0000\u0000\u0000\u0000\u0000\u0000\u0000\u0000\u0000\u0000\u0000\u0000\u0000\u0000\u0000\u0000\u0000\u0000\u0000\u0000\u0000\u0000\n",
      "222_3163.bcd\n",
      "222       \u0000\u0000\u0000\u0000\u0000\u0000\u0000yo\u0000\u0000\u0000\u0000\u0000\u0000\u0000\u0000\u0000\u0000\u0000\u0000\u0000\u0000\n",
      "222_yo_6684.bcd\n",
      "\u0000\u0000\u0000\u0000\u0000\u0000\u0000\u0000\u0000\u0000\u0000\u0000\u0000\u0000\u0000\u0000\u0000\u0000\u0000\u0000\u0000\u0000\u0000\u0000\u0000\u0000\u0000\u0000\u0000\u0000\u0000\u0000\u0000\n",
      "225596230.bcd\n",
      "\u0000\u0000\u0000\u0000\u0000\u0000\u0000\u0000\u0000\u0000\u0000\u0000\u0000\u0000\u0000\u0000\u0000\u0000\u0000\u0000\u0000\u0000\u0000\u0000\u0000\u0000\u0000\u0000\u0000\u0000\u0000\u0000\u0000\n",
      "2256920871.bcd\n",
      "\u0000\u0000\u0000\u0000\u0000\u0000\u0000\u0000\u0000\u0000\u0000\u0000\u0000\u0000\u0000\u0000\u0000\u0000\u0000\u0000\u0000\u0000\u0000\u0000\u0000\u0000\u0000\u0000\u0000\u0000\u0000\u0000\u0000\n",
      "2257841957.bcd\n",
      "\u0000\u0000\u0000\u0000\u0000\u0000\u0000\u0000\u0000\u0000\u0000\u0000\u0000\u0000\u0000\u0000\u0000\u0000\u0000\u0000\u0000\u0000\u0000\u0000\u0000\u0000\u0000\u0000\u0000\u0000\u0000\u0000\u0000\n",
      "2258427207.bcd\n",
      "\u0000\u0000\u0000\u0000\u0000\u0000\u0000\u0000\u0000\u0000\u0000\u0000\u0000\u0000\u0000\u0000\u0000\u0000\u0000\u0000\u0000\u0000\u0000\u0000\u0000\u0000\u0000\u0000\u0000\u0000\u0000\u0000\u0000\n",
      "2282694719.bcd\n",
      "\u0000\u0000\u0000\u0000\u0000\u0000\u0000\u0000\u0000\u0000\u0000\u0000\u0000\u0000\u0000\u0000\u0000\u0000\u0000\u0000\u0000\u0000\u0000\u0000\u0000\u0000\u0000\u0000\u0000\u0000\u0000\u0000\u0000\n",
      "2283608302.bcd\n",
      "\u0000\u0000\u0000\u0000\u0000\u0000\u0000\u0000\u0000\u0000\u0000\u0000\u0000\u0000\u0000\u0000\u0000\u0000\u0000\u0000\u0000\u0000\u0000\u0000\u0000\u0000\u0000\u0000\u0000\u0000\u0000\u0000\u0000\n",
      "2307086209.bcd\n",
      "2323\u0000\u0000\u0000\u0000\u0000\u0000\u0000\u0000\u0000\u0000\u0000\u0000\u0000\u0000\u0000\u0000\u0000\u0000\u0000\u0000\u0000\u0000\u0000\u0000\u0000\u0000\u0000\u0000\u0000\n",
      "2323_12644.bcd\n",
      "\u0000\u0000\u0000\u0000\u0000\u0000\u0000\u0000\u0000\u0000\u0000\u0000\u0000\u0000\u0000\u0000\u0000\u0000\u0000\u0000\u0000\u0000\u0000\u0000\u0000\u0000\u0000\u0000\u0000\u0000\u0000\u0000\u0000\n",
      "2447036274.bcd\n",
      "\u0000\u0000\u0000\u0000\u0000\u0000\u0000\u0000\u0000\u0000\u0000\u0000\u0000\u0000\u0000\u0000\u0000\u0000\u0000\u0000\u0000\u0000\u0000\u0000\u0000\u0000\u0000\u0000\u0000\u0000\u0000\u0000\u0000\n",
      "2495851129.bcd\n"
     ]
    },
    {
     "name": "stderr",
     "output_type": "stream",
     "text": [
      "\r",
      "  3%|██▌                                                                           | 467/13971 [00:36<18:40, 12.05it/s]"
     ]
    },
    {
     "name": "stdout",
     "output_type": "stream",
     "text": [
      "\u0000\u0000\u0000\u0000\u0000\u0000\u0000\u0000\u0000\u0000\u0000\u0000\u0000\u0000\u0000\u0000\u0000\u0000\u0000\u0000\u0000\u0000\u0000\u0000\u0000\u0000\u0000\u0000\u0000\u0000\u0000\u0000\u0000\n",
      "2498568271.bcd\n",
      "24 Yeet Street (Candle Sets)\u0000)\u0000\u0000\u0000\n",
      "24_yeet_street_candle_sets__1566.bcd\n",
      "\u0000\u0000\u0000\u0000\u0000\u0000\u0000\u0000\u0000\u0000\u0000\u0000\u0000\u0000\u0000\u0000\u0000\u0000\u0000\u0000\u0000\u0000\u0000\u0000\u0000\u0000\u0000\u0000\u0000\u0000\u0000\u0000\u0000\n",
      "2555860737.bcd\n",
      "\u0000\u0000\u0000\u0000\u0000\u0000\u0000\u0000\u0000\u0000\u0000\u0000\u0000\u0000\u0000\u0000\u0000\u0000\u0000\u0000\u0000\u0000\u0000\u0000\u0000\u0000\u0000\u0000\u0000\u0000\u0000\u0000\u0000\n",
      "2590432691.bcd\n",
      "\u0000\u0000\u0000\u0000\u0000\u0000\u0000\u0000\u0000\u0000\u0000\u0000\u0000\u0000\u0000\u0000\u0000\u0000\u0000\u0000\u0000\u0000\u0000\u0000\u0000\u0000\u0000\u0000\u0000\u0000\u0000\u0000\u0000\n",
      "2632905899.bcd\n",
      "\u0000\u0000\u0000\u0000\u0000\u0000\u0000\u0000\u0000\u0000\u0000\u0000\u0000\u0000\u0000\u0000\u0000\u0000\u0000\u0000\u0000\u0000\u0000\u0000\u0000\u0000\u0000\u0000\u0000\u0000\u0000\u0000\u0000\n",
      "264992946.bcd\n",
      "\u0000\u0000\u0000\u0000\u0000\u0000\u0000\u0000\u0000\u0000\u0000\u0000\u0000\u0000\u0000\u0000\u0000\u0000\u0000\u0000\u0000\u0000\u0000\u0000\u0000\u0000\u0000\u0000\u0000\u0000\u0000\u0000\u0000\n",
      "2754396542.bcd\n",
      "\u0000\u0000\u0000\u0000\u0000\u0000\u0000\u0000\u0000\u0000\u0000\u0000\u0000\u0000\u0000\u0000\u0000\u0000\u0000\u0000\u0000\u0000\u0000\u0000\u0000\u0000\u0000\u0000\u0000\u0000\u0000\u0000\u0000\n",
      "278197583.bcd\n",
      "28-4\u0000\u0000\u0000\u0000\u0000\u0000\u0000\u0000\u0000\u0000\u0000\u0000\u0000\u0000\u0000\u0000\u0000\u0000\u0000\u0000\u0000\u0000\u0000\u0000\u0000\u0000\u0000\u0000\u0000\n",
      "28-4_10846.bcd\n",
      "\u0000\u0000\u0000\u0000\u0000\u0000\u0000\u0000\u0000\u0000\u0000\u0000\u0000\u0000\u0000\u0000\u0000\u0000\u0000\u0000\u0000\u0000\u0000\u0000\u0000\u0000\u0000\u0000\u0000\u0000\u0000\u0000\u0000\n",
      "2829675772.bcd\n",
      "\u0000\u0000\u0000\u0000\u0000\u0000\u0000\u0000\u0000\u0000\u0000\u0000\u0000\u0000\u0000\u0000\u0000\u0000\u0000\u0000\u0000\u0000\u0000\u0000\u0000\u0000\u0000\u0000\u0000\u0000\u0000\u0000\u0000\n",
      "2858866363.bcd\n",
      "28 Days Later\u0000\u0000\u0000\u0000\u0000\u0000\u0000\u0000\u0000\u0000\u0000\u0000\u0000\u0000\u0000\u0000\u0000\u0000\u0000\u0000\n",
      "28_days_later_5366.bcd\n",
      "\u0000\u0000\u0000\u0000\u0000\u0000\u0000\u0000\u0000\u0000\u0000\u0000\u0000\u0000\u0000\u0000\u0000\u0000\u0000\u0000\u0000\u0000\u0000\u0000\u0000\u0000\u0000\u0000\u0000\u0000\u0000\u0000\u0000\n",
      "2917051394.bcd\n",
      "\u0000\u0000\u0000\u0000\u0000\u0000\u0000\u0000\u0000\u0000\u0000\u0000\u0000\u0000\u0000\u0000\u0000\u0000\u0000\u0000\u0000\u0000\u0000\u0000\u0000\u0000\u0000\u0000\u0000\u0000\u0000\u0000\u0000\n",
      "2927977811.bcd\n",
      "\u0000\u0000\u0000\u0000\u0000\u0000\u0000\u0000\u0000\u0000\u0000\u0000\u0000\u0000\u0000\u0000\u0000\u0000\u0000\u0000\u0000\u0000\u0000\u0000\u0000\u0000\u0000\u0000\u0000\u0000\u0000\u0000\u0000\n",
      "2962917915.bcd\n",
      "2Osec Adrian117 Bullet Bill run\u0000\u0000\n",
      "2osec_adrian117_bullet_bill_run_4290.bcd\n"
     ]
    },
    {
     "name": "stderr",
     "output_type": "stream",
     "text": [
      "\r",
      "  3%|██▋                                                                           | 481/13971 [00:37<13:50, 16.24it/s]"
     ]
    },
    {
     "name": "stdout",
     "output_type": "stream",
     "text": [
      "2P coop / High danger at castle\u0000\u0000\n",
      "2p_coop_high_danger_at_castle_10264.bcd\n",
      "2p coop|Love won't tear us apart\u0000\n",
      "2p_coop_love_won_t_tear_us_apart_9236.bcd\n",
      "2SMB3♪Sky Theme♪KEEP RUNNING\u0000>+Y\u0000\n",
      "2smb3_sky_theme_keep_running_y_8984.bcd\n"
     ]
    },
    {
     "name": "stderr",
     "output_type": "stream",
     "text": [
      "\r",
      "  3%|██▋                                                                           | 488/13971 [00:37<15:06, 14.87it/s]"
     ]
    },
    {
     "name": "stdout",
     "output_type": "stream",
     "text": [
      "2\u0000\u0000\u0000\u0000\u0000\u0000\u0000\u0000\u0000\u0000\u0000\u0000\u0000\u0000\u0000\u0000\u0000\u0000\u0000\u0000\u0000\u0000\u0000\u0000\u0000\u0000\u0000\u0000\u0000\u0000\u0000\u0000\n",
      "2_1153.bcd\n",
      "2\u0000\u0000\u0000\u0000\u0000\u0000\u0000\u0000\u0000\u0000\u0000\u0000\u0000\u0000\u0000\u0000\u0000\u0000\u0000\u0000\u0000\u0000\u0000\u0000\u0000\u0000\u0000\u0000\u0000\u0000\u0000\u0000\n",
      "2_1455.bcd\n",
      "2\u0000\u0000\u0000\u0000\u0000\u0000\u0000\u0000\u0000\u0000\u0000\u0000\u0000\u0000\u0000\u0000\u0000\u0000\u0000\u0000\u0000\u0000\u0000\u0000\u0000\u0000\u0000\u0000\u0000\u0000\u0000\u0000\n",
      "2_3166.bcd\n",
      "2=4\u0000\u0000\u0000\u0000\u0000\u0000\u0000\u0000\u0000\u0000\u0000\u0000\u0000\u0000\u0000\u0000\u0000\u0000\u0000\u0000\u0000\u0000\u0000\u0000\u0000\u0000\u0000\u0000\u0000\u0000\n",
      "2_4_13209.bcd\n",
      "2\u0000\u0000\u0000\u0000\u0000\u0000\u0000\u0000\u0000\u0000\u0000\u0000\u0000\u0000\u0000\u0000\u0000\u0000\u0000\u0000\u0000\u0000\u0000\u0000\u0000\u0000\u0000\u0000\u0000\u0000\u0000\u0000\n",
      "2_5643.bcd\n",
      "2\u0000\u0000\u0000\u0000\u0000\u0000\u0000\u0000\u0000\u0000\u0000\u0000\u0000\u0000\u0000\u0000\u0000\u0000\u0000\u0000\u0000\u0000\u0000\u0000\u0000\u0000\u0000\u0000\u0000\u0000\u0000\u0000\n",
      "2_660.bcd\n",
      "2 Fast 2 Furious\u0000\u0000\u0000\u0000\u0000\u0000\u0000\u0000\u0000\u0000\u0000\u0000\u0000\u0000\u0000\u0000\u0000\n",
      "2_fast_2_furious_112.bcd\n",
      "2エリアダッシュ半自動マリオ Keep run(→+Y)\u0000\u0000\u0000\u0000\u0000\n",
      "2_keep_run_y__2097.bcd\n",
      "2エリア左ダッシュ半自動マリオ Keep run(←+Y)\u0000\u0000\u0000\u0000\n",
      "2_keep_run_y__3538.bcd\n",
      "2 Lies 1 Truth\u0000\u0000\u0000\u0000\u0000\u0000\u0000\u0000\u0000\u0000\u0000\u0000\u0000\u0000\u0000\u0000\u0000\u0000\u0000"
     ]
    },
    {
     "name": "stderr",
     "output_type": "stream",
     "text": [
      "\r",
      "  4%|██▊                                                                           | 494/13971 [00:38<14:55, 15.05it/s]"
     ]
    },
    {
     "name": "stdout",
     "output_type": "stream",
     "text": [
      "\n",
      "2_lies_1_truth_1210.bcd\n",
      "2 Screen Puzzle\u0000\u0000er Endeavor v2\u0000\u0000\n",
      "2_screen_puzzleer_endeavor_v2_10887.bcd\n",
      "2 THWOMP 2 FURIOUS\u0000\u0000\u0000\u0000\u0000\u0000\u0000\u0000\u0000\u0000\u0000\u0000\u0000\u0000\u0000\n",
      "2_thwomp_2_furious_3099.bcd\n"
     ]
    },
    {
     "name": "stderr",
     "output_type": "stream",
     "text": [
      "\r",
      "  4%|██▊                                                                           | 499/13971 [00:38<14:20, 15.66it/s]"
     ]
    },
    {
     "name": "stdout",
     "output_type": "stream",
     "text": [
      "2人の英雄　 TWO HEROES\u0000ES\u0000\u0000\u0000\u0000\u0000\u0000\u0000\u0000\u0000\u0000\u0000\u0000\u0000\n",
      "2_two_heroeses_5659.bcd\n",
      "2 Ways to Win\u0000\u0000\u0000\u0000\u0000\u0000\u0000\u0000\u0000\u0000\u0000\u0000\u0000\u0000\u0000\u0000\u0000\u0000\u0000\u0000\n",
      "2_ways_to_win_458.bcd\n",
      "2さいきよう\u0000\u0000\u0000\u0000\u0000\u0000\u0000\u0000\u0000\u0000\u0000\u0000\u0000\u0000\u0000\u0000\u0000\u0000\u0000\u0000\u0000\u0000\u0000\u0000\u0000\u0000\u0000\n",
      "2__12156.bcd\n",
      "3-1: Blue Bay Way\u0000\u0000\u0000\u0000\u0000\u0000\u0000\u0000\u0000\u0000\u0000\u0000\u0000\u0000\u0000\u0000\n",
      "3-1_blue_bay_way_14410.bcd\n",
      "3-1 Cave Lifts\u0000\u0000\u0000\u0000\u0000\u0000\u0000\u0000\u0000\u0000\u0000\u0000\u0000\u0000\u0000\u0000\u0000\u0000\u0000\n",
      "3-1_cave_lifts_14323.bcd\n"
     ]
    },
    {
     "name": "stderr",
     "output_type": "stream",
     "text": [
      "\r",
      "  4%|██▊                                                                           | 503/13971 [00:38<14:49, 15.14it/s]"
     ]
    },
    {
     "name": "stdout",
     "output_type": "stream",
     "text": [
      "3-1 Flockiger Federflug\u0000Schloss\u0000\u0000\n",
      "3-1_flockiger_federflugschloss_3004.bcd\n",
      "3-1: Happy Little Sky Castles\u0000\u0000\u0000\u0000\n",
      "3-1_happy_little_sky_castles_3382.bcd\n",
      "3-1 Slow Train Coming\u0000AndTell\u0000\u0000\u0000\u0000\n",
      "3-1_slow_train_comingandtell_15005.bcd\n",
      "3-1 The Dark lark\u0000\u0000\u0000\u0000\u0000\u0000\u0000\u0000\u0000\u0000\u0000\u0000\u0000\u0000\u0000\u0000\n",
      "3-1_the_dark_lark_749.bcd\n",
      "3-1 Welcome to Lawrence\u0000\u0000and\u0000\u0000\u0000\u0000\u0000"
     ]
    },
    {
     "name": "stderr",
     "output_type": "stream",
     "text": [
      "\r",
      "  4%|██▊                                                                           | 506/13971 [00:38<12:57, 17.32it/s]"
     ]
    },
    {
     "name": "stdout",
     "output_type": "stream",
     "text": [
      "\n",
      "3-1_welcome_to_lawrenceand_15352.bcd\n",
      "3-2 Carnivorous Cave\u0000\u0000\u0000\u0000\u0000\u0000\u0000\u0000\u0000\u0000\u0000\u0000\u0000\n",
      "3-2_carnivorous_cave_14340.bcd\n"
     ]
    },
    {
     "name": "stderr",
     "output_type": "stream",
     "text": [
      "\r",
      "  4%|██▊                                                                           | 509/13971 [00:39<16:57, 13.23it/s]"
     ]
    },
    {
     "name": "stdout",
     "output_type": "stream",
     "text": [
      "3-2 Free State\u0000\u0000\u0000 Palace\u0000and\u0000\u0000\u0000\u0000\u0000\n",
      "3-2_free_state_palaceand_15236.bcd\n",
      "3-2: Honey Pond\u0000\u0000 Gentle Cheeps\u0000\u0000\n",
      "3-2_honey_pond_gentle_cheeps_14383.bcd\n",
      "3-2 Katakomben der Käfer\u0000chloss\u0000\u0000\n",
      "3-2_katakomben_der_k_ferchloss_2901.bcd\n",
      "3-2 Starlight Cavern\u0000\u0000\u0000\u0000\u0000\u0000\u0000\u0000\u0000\u0000\u0000\u0000\u0000\n",
      "3-2_starlight_cavern_13729.bcd\n"
     ]
    },
    {
     "name": "stderr",
     "output_type": "stream",
     "text": [
      "\r",
      "  4%|██▊                                                                           | 512/13971 [00:39<25:52,  8.67it/s]"
     ]
    },
    {
     "name": "stdout",
     "output_type": "stream",
     "text": [
      "3-2: Taken By Vultures\u0000\u0000\u0000\u0000\u0000\u0000\u0000\u0000\u0000\u0000\u0000\n",
      "3-2_taken_by_vultures_3730.bcd\n",
      "3-2 White Dove\u0000\u0000\u0000mb's Blues\u0000e\u0000\u0000\u0000\u0000\n",
      "3-2_white_dovemb_s_bluese_15004.bcd\n",
      "3-31\u0000\u0000\u0000\u0000\u0000\u0000\u0000\u0000\u0000\u0000\u0000\u0000\u0000\u0000\u0000\u0000\u0000\u0000\u0000\u0000\u0000\u0000\u0000\u0000\u0000\u0000\u0000\u0000\u0000\n",
      "3-31_11569.bcd\n",
      "3-3 Celestial Clouds\u0000\u0000\u0000\u0000\u0000\u0000\u0000\u0000\u0000\u0000\u0000\u0000\u0000"
     ]
    },
    {
     "name": "stderr",
     "output_type": "stream",
     "text": [
      "\r",
      "  4%|██▉                                                                           | 515/13971 [00:39<21:19, 10.51it/s]"
     ]
    },
    {
     "name": "stdout",
     "output_type": "stream",
     "text": [
      "\n",
      "3-3_celestial_clouds_3284.bcd\n",
      "3-3 まっくらトゲトゲすいろ/Darkness Trench\u0000\u0000\n",
      "3-3_darkness_trench_3592.bcd\n",
      "3-3 Odds and Ends\u0000b's Blues\u0000e\u0000\u0000\u0000\u0000\n",
      "3-3_odds_and_endsb_s_bluese_15003.bcd\n",
      "3-3: Scroll Lock Sun Block\u0000\u0000\u0000\u0000\u0000\u0000\u0000\n",
      "3-3_scroll_lock_sun_block_3756.bcd\n"
     ]
    },
    {
     "name": "stderr",
     "output_type": "stream",
     "text": [
      "  4%|██▉                                                                           | 520/13971 [00:40<20:04, 11.17it/s]"
     ]
    },
    {
     "name": "stdout",
     "output_type": "stream",
     "text": [
      "3-3 The Docking Station\u0000\u0000\u0000\u0000\u0000\u0000\u0000\u0000\u0000\u0000\n",
      "3-3_the_docking_station_12116.bcd\n",
      "3-3 Underground Ghost House\u0000\u0000\u0000\u0000\u0000\u0000\n",
      "3-3_underground_ghost_house_14375.bcd\n"
     ]
    },
    {
     "name": "stderr",
     "output_type": "stream",
     "text": [
      "\r",
      "  4%|██▉                                                                           | 522/13971 [00:40<17:30, 12.80it/s]"
     ]
    },
    {
     "name": "stdout",
     "output_type": "stream",
     "text": [
      "3-3: You're Gonna Lose That Star\u0000\n",
      "3-3_you_re_gonna_lose_that_star_14394.bcd\n",
      "3-3　鉄球海道\u0000\u0000\u0000\u0000\u0000\u0000\u0000\u0000\u0000\u0000\u0000\u0000\u0000\u0000\u0000\u0000\u0000\u0000\u0000\u0000\u0000\u0000\u0000\u0000\u0000\n",
      "3-3__8310.bcd\n",
      "3-4 オーキードーキー号 -Over the Ocean-\u0000\u0000\u0000\n",
      "3-4_-over_the_ocean-_11976.bcd\n",
      "3-4 Big Blooper Sea\u0000Sea\u0000\u0000\u0000\u0000\u0000\u0000\u0000\u0000\u0000\u0000\n",
      "3-4_big_blooper_seasea_13685.bcd\n"
     ]
    },
    {
     "name": "stderr",
     "output_type": "stream",
     "text": [
      "  4%|██▉                                                                           | 528/13971 [00:40<13:39, 16.41it/s]"
     ]
    },
    {
     "name": "stdout",
     "output_type": "stream",
     "text": [
      "3-4 Cave Warp Zone\u0000\u0000\u0000\u0000\u0000\u0000\u0000\u0000\u0000\u0000\u0000\u0000\u0000\u0000\u0000\n",
      "3-4_cave_warp_zone_13960.bcd\n",
      "3-4: The Shallow Submarine\u0000\u0000\u0000\u0000\u0000\u0000\u0000\n",
      "3-4_the_shallow_submarine_5045.bcd\n",
      "3-4: Wendy's Waterlogged Wonder\u0000\u0000\n",
      "3-4_wendy_s_waterlogged_wonder_13472.bcd\n",
      "3-5 Underwater Castle\u0000\u0000\u0000\u0000\u0000\u0000\u0000\u0000\u0000\u0000\u0000\u0000\n",
      "3-5_underwater_castle_14345.bcd\n",
      "3-6\u0000\u0000\u0000\u0000\u0000\u0000\u0000\u0000\u0000\u0000\u0000\u0000\u0000\u0000lgmh.hk,h,\u0000\u0000\u0000\u0000\u0000\u0000\n",
      "3-6lgmh.hk_h__12258.bcd\n"
     ]
    },
    {
     "name": "stderr",
     "output_type": "stream",
     "text": [
      "\r",
      "  4%|██▉                                                                           | 530/13971 [00:40<17:47, 12.59it/s]"
     ]
    },
    {
     "name": "stdout",
     "output_type": "stream",
     "text": [
      "3-S: Petey's Pipeline Passage\u0000\u0000\u0000\u0000\n",
      "3-s_petey_s_pipeline_passage_5069.bcd\n",
      "3...2...1... Blast Off!!!\u0000#DGR\u0000\u0000\u0000\n",
      "3...2...1..._blast_off_dgr_6823.bcd\n",
      "3... 2.. 1... Chase!\u0000\u0000\u0000\u0000\u0000\u0000\u0000\u0000\u0000\u0000\u0000\u0000\u0000"
     ]
    },
    {
     "name": "stderr",
     "output_type": "stream",
     "text": [
      "\r",
      "  4%|██▉                                                                           | 532/13971 [00:41<19:27, 11.51it/s]"
     ]
    },
    {
     "name": "stdout",
     "output_type": "stream",
     "text": [
      "\n",
      "3..._2.._1..._chase__3703.bcd\n",
      "\u0000\u0000\u0000\u0000\u0000\u0000\u0000\u0000\u0000\u0000\u0000\u0000\u0000\u0000\u0000\u0000\u0000\u0000\u0000\u0000\u0000\u0000\u0000\u0000\u0000\u0000\u0000\u0000\u0000\u0000\u0000\u0000\u0000\n",
      "3081605063.bcd\n",
      "\u0000\u0000\u0000\u0000\u0000\u0000\u0000\u0000\u0000\u0000\u0000\u0000\u0000\u0000\u0000\u0000\u0000\u0000\u0000\u0000\u0000\u0000\u0000\u0000\u0000\u0000\u0000\u0000\u0000\u0000\u0000\u0000\u0000\n",
      "3091309453.bcd\n",
      "30seconds ON/OFF switch RUN.\u0000\u0000\u0000\u0000\u0000\n",
      "30seconds_on_off_switch_run._1556.bcd\n",
      "30seconds speedrun easy\u0000\u0000\u0000\u0000\u0000\u0000\u0000\u0000\u0000\u0000\n",
      "30seconds_speedrun_easy_124.bcd\n",
      "30sec:Snowball and Lift Speedrun\u0000\n",
      "30sec_snowball_and_lift_speedrun_11922.bcd\n"
     ]
    },
    {
     "name": "stderr",
     "output_type": "stream",
     "text": [
      "  4%|███                                                                           | 540/13971 [00:41<13:42, 16.33it/s]"
     ]
    },
    {
     "name": "stdout",
     "output_type": "stream",
     "text": [
      "30s Speed Glide #RYUSMM\u0000\u0000\u0000\u0000\u0000\u0000\u0000\u0000\u0000\u0000\n",
      "30s_speed_glide_ryusmm_13346.bcd\n",
      "30秒スピードラン:雪原　30sec\u0000\u0000\u0000\u0000\u0000\u0000\u0000\u0000\u0000\u0000\u0000\u0000\u0000\u0000\u0000\n",
      "30_30sec_7928.bcd\n",
      "30 Minutes or Less\u0000Easy Version)\u0000\n",
      "30_minutes_or_lesseasy_version__12298.bcd\n",
      "30 Seconds Collapsing Ice Cave 2\u0000\n",
      "30_seconds_collapsing_ice_cave_2_4267.bcd\n",
      "30 Seconds: Collapsing Ice Cave!\u0000\n",
      "30_seconds_collapsing_ice_cave__4233.bcd\n",
      "30 Seconds (Normal)\u0000\u0000\u0000\u0000\u0000\u0000\u0000\u0000\u0000\u0000\u0000\u0000\u0000\u0000\n",
      "30_seconds_normal__1877.bcd\n"
     ]
    },
    {
     "name": "stderr",
     "output_type": "stream",
     "text": [
      "\r",
      "  4%|███                                                                           | 543/13971 [00:41<22:54,  9.77it/s]"
     ]
    },
    {
     "name": "stdout",
     "output_type": "stream",
     "text": [
      "30 Seconds: Platform Panic 2    \u0000\n",
      "30_seconds_platform_panic_2_3666.bcd\n",
      "30 Seconds: Platform Panic\u0000\u0000\u0000\u0000\u0000\u0000\u0000\n",
      "30_seconds_platform_panic_3711.bcd\n"
     ]
    },
    {
     "name": "stderr",
     "output_type": "stream",
     "text": [
      "  4%|███                                                                           | 547/13971 [00:42<21:29, 10.41it/s]"
     ]
    },
    {
     "name": "stdout",
     "output_type": "stream",
     "text": [
      "30 Seconds: Run With The Shell\u0000\u0000\u0000\n",
      "30_seconds_run_with_the_shell_3875.bcd\n",
      "30秒スピードランだにょ～ん！！\u0000\u0000\u0000\u0000\u0000\u0000\u0000\u0000\u0000\u0000\u0000\u0000\u0000\u0000\u0000\u0000\u0000\n",
      "30__7349.bcd\n",
      "\u0000\u0000\u0000\u0000\u0000\u0000\u0000\u0000\u0000\u0000\u0000\u0000\u0000\u0000\u0000\u0000\u0000\u0000\u0000\u0000\u0000\u0000\u0000\u0000\u0000\u0000\u0000\u0000\u0000\u0000\u0000\u0000\u0000\n",
      "3207326817.bcd\n",
      "\u0000\u0000\u0000\u0000\u0000\u0000\u0000\u0000\u0000\u0000\u0000\u0000\u0000\u0000\u0000\u0000\u0000\u0000\u0000\u0000\u0000\u0000\u0000\u0000\u0000\u0000\u0000\u0000\u0000\u0000\u0000\u0000\u0000\n",
      "3254873506.bcd\n",
      "\u0000\u0000\u0000\u0000\u0000\u0000\u0000\u0000\u0000\u0000\u0000\u0000\u0000\u0000\u0000\u0000\u0000\u0000\u0000\u0000\u0000\u0000\u0000\u0000\u0000\u0000\u0000\u0000\u0000\u0000\u0000\u0000\u0000\n",
      "3342475126.bcd\n",
      "\u0000\u0000\u0000\u0000\u0000\u0000\u0000\u0000\u0000\u0000\u0000\u0000\u0000\u0000\u0000\u0000\u0000\u0000\u0000\u0000\u0000\u0000\u0000\u0000\u0000\u0000\u0000\u0000\u0000\u0000\u0000\u0000\u0000\n",
      "3388192462.bcd\n",
      "\u0000\u0000\u0000\u0000\u0000\u0000\u0000\u0000\u0000\u0000\u0000\u0000\u0000\u0000\u0000\u0000\u0000\u0000\u0000\u0000\u0000\u0000\u0000\u0000\u0000\u0000\u0000\u0000\u0000\u0000\u0000\u0000\u0000\n",
      "3397052829.bcd\n",
      "33\u0000\u0000\u0000\u0000\u0000\u0000\u0000\u0000\u0000\u0000\u0000\u0000\u0000\u0000\u0000\u0000\u0000\u0000\u0000\u0000\u0000\u0000\u0000\u0000\u0000\u0000\u0000\u0000\u0000\u0000\u0000\n",
      "33_1156.bcd\n",
      "\u0000\u0000\u0000\u0000\u0000\u0000\u0000\u0000\u0000\u0000\u0000\u0000\u0000\u0000\u0000\u0000\u0000\u0000\u0000\u0000\u0000\u0000\u0000\u0000\u0000\u0000\u0000\u0000\u0000\u0000\u0000\u0000\u0000\n",
      "3446821192.bcd\n",
      "\u0000\u0000\u0000\u0000\u0000\u0000\u0000\u0000\u0000\u0000\u0000\u0000\u0000\u0000\u0000\u0000\u0000\u0000\u0000\u0000\u0000\u0000\u0000\u0000\u0000\u0000\u0000\u0000\u0000\u0000\u0000\u0000\u0000\n",
      "3525973811.bcd\n",
      "\u0000\u0000\u0000\u0000\u0000\u0000\u0000\u0000\u0000\u0000\u0000\u0000\u0000\u0000\u0000\u0000\u0000\u0000\u0000\u0000\u0000\u0000\u0000\u0000\u0000\u0000\u0000\u0000\u0000\u0000\u0000\u0000\u0000\n",
      "357916012.bcd\n",
      "\u0000\u0000\u0000\u0000\u0000\u0000\u0000\u0000\u0000\u0000\u0000\u0000\u0000\u0000\u0000\u0000\u0000\u0000\u0000\u0000\u0000\u0000\u0000\u0000\u0000\u0000\u0000\u0000\u0000\u0000\u0000\u0000\u0000\n",
      "3622731693.bcd\n",
      "\u0000\u0000\u0000\u0000\u0000\u0000\u0000\u0000\u0000\u0000\u0000\u0000\u0000\u0000\u0000\u0000\u0000\u0000\u0000\u0000\u0000\u0000\u0000\u0000\u0000\u0000\u0000\u0000\u0000\u0000\u0000\u0000\u0000\n",
      "3646751399.bcd\n",
      "\u0000\u0000\u0000\u0000\u0000\u0000\u0000\u0000\u0000\u0000\u0000\u0000\u0000\u0000\u0000\u0000\u0000\u0000\u0000\u0000\u0000\u0000\u0000\u0000\u0000\u0000\u0000\u0000\u0000\u0000\u0000\u0000\u0000\n",
      "3815595138.bcd\n",
      "\u0000\u0000\u0000\u0000\u0000\u0000\u0000\u0000\u0000\u0000\u0000\u0000\u0000\u0000\u0000\u0000\u0000\u0000\u0000\u0000\u0000\u0000\u0000\u0000\u0000\u0000\u0000\u0000\u0000\u0000\u0000\u0000\u0000\n",
      "3819145478.bcd\n",
      "\u0000\u0000\u0000\u0000\u0000\u0000\u0000\u0000\u0000\u0000\u0000\u0000\u0000\u0000\u0000\u0000\u0000\u0000\u0000\u0000\u0000\u0000\u0000\u0000\u0000\u0000\u0000\u0000\u0000\u0000\u0000\u0000\u0000\n",
      "3820782242.bcd\n",
      "\u0000\u0000\u0000\u0000\u0000\u0000\u0000\u0000\u0000\u0000\u0000\u0000\u0000\u0000\u0000\u0000\u0000\u0000\u0000\u0000\u0000\u0000\u0000\u0000\u0000\u0000\u0000\u0000\u0000\u0000\u0000\u0000\u0000\n",
      "3829652849.bcd\n",
      "\u0000\u0000\u0000\u0000\u0000\u0000\u0000\u0000\u0000\u0000\u0000\u0000\u0000\u0000\u0000\u0000\u0000\u0000\u0000\u0000\u0000\u0000\u0000\u0000\u0000\u0000\u0000\u0000\u0000\u0000\u0000\u0000\u0000\n",
      "3830731390.bcd\n",
      "\u0000\u0000\u0000\u0000\u0000\u0000\u0000\u0000\u0000\u0000\u0000\u0000\u0000\u0000\u0000\u0000\u0000\u0000\u0000\u0000\u0000\u0000\u0000\u0000\u0000\u0000\u0000\u0000\u0000\u0000\u0000\u0000\u0000\n",
      "3956666638.bcd\n",
      "3G → 4G → 5G [POW] Run Run Run!!\u0000\n",
      "3g_4g_5g_pow_run_run_run__3063.bcd\n"
     ]
    },
    {
     "name": "stderr",
     "output_type": "stream",
     "text": [
      "\r",
      "  4%|███▏                                                                          | 565/13971 [00:42<15:40, 14.25it/s]"
     ]
    },
    {
     "name": "stdout",
     "output_type": "stream",
     "text": [
      "3x20 Speedrun\u0000\u0000\u0000\u0000 them all\u0000\u0000\u0000\u0000\u0000\u0000\u0000\n",
      "3x20_speedrun_them_all_13735.bcd\n",
      "3\u0000\u0000\u0000\u0000\u0000\u0000\u0000\u0000\u0000\u0000\u0000\u0000\u0000\u0000\u0000\u0000\u0000\u0000\u0000\u0000\u0000\u0000\u0000\u0000\u0000\u0000\u0000\u0000\u0000\u0000\u0000\u0000\n",
      "3_2795.bcd\n"
     ]
    },
    {
     "name": "stderr",
     "output_type": "stream",
     "text": [
      "\r",
      "  4%|███▏                                                                          | 570/13971 [00:42<15:20, 14.56it/s]"
     ]
    },
    {
     "name": "stdout",
     "output_type": "stream",
     "text": [
      "3 2 1... blast off!\u0000ap\u0000\u0000\u0000\u0000\u0000\u0000\u0000\u0000\u0000\u0000\u0000\n",
      "3_2_1..._blast_off_ap_13525.bcd\n",
      "3\u0000\u0000\u0000\u0000\u0000\u0000\u0000\u0000\u0000\u0000\u0000\u0000\u0000\u0000\u0000\u0000\u0000\u0000\u0000\u0000\u0000\u0000\u0000\u0000\u0000\u0000\u0000\u0000\u0000\u0000\u0000\u0000\n",
      "3_3167.bcd\n",
      "3択クイズ/3ChoiceQuiz\u0000m\u0000ngle\u0000\u0000\u0000\u0000\u0000\u0000\u0000\u0000\u0000\n",
      "3_3choicequizmngle_1300.bcd\n",
      "3段ジャンプスピラン / 3 Jump Speed Run.\u0000\u0000\u0000\n",
      "3_3_jump_speed_run._8662.bcd\n",
      "3 keys\u0000\u0000\u0000\u0000\u0000\u0000\u0000\u0000\u0000\u0000\u0000\u0000g \u0000\u0000\u0000\u0000\u0000\u0000\u0000\u0000\u0000\u0000\u0000\u0000\u0000"
     ]
    },
    {
     "name": "stderr",
     "output_type": "stream",
     "text": [
      "\r",
      "  4%|███▏                                                                          | 574/13971 [00:43<14:38, 15.25it/s]"
     ]
    },
    {
     "name": "stdout",
     "output_type": "stream",
     "text": [
      "\n",
      "3_keysg_6942.bcd\n",
      "3 player versus\u0000\u0000\u0000\u0000\u0000\u0000\u0000\u0000\u0000\u0000\u0000\u0000\u0000\u0000\u0000\u0000\u0000\u0000\n",
      "3_player_versus_10759.bcd\n",
      "3 skin sky speed run!!!　【20sec】\u0000\u0000\n",
      "3_skin_sky_speed_run_20sec__4960.bcd\n",
      "3日後…１マス針抜けの意外な突破方法を伝授しマッスルマッスル～w\u0000\n",
      "3_w_10714.bcd\n",
      "3段ジャンプが苦手な人コース\u0000\u0000\u0000\u0000\u0000\u0000\u0000\u0000\u0000\u0000\u0000\u0000\u0000\u0000\u0000\u0000\u0000\u0000\u0000\n",
      "3__12130.bcd\n",
      "3段ジャンプ→カベキック→ヒップドロップ\u0000\u0000\u0000\u0000\u0000\u0000\u0000\u0000\u0000\u0000\u0000\u0000\u0000\n",
      "3__1510.bcd\n",
      "4-1　巨大の国に迷い込んだマリオ　/　BIG ISLAND\u0000\u0000\u0000\n",
      "4-1_big_island_11429.bcd\n",
      "4-1 Bone-Dry Valley\u0000\u0000\u0000\u0000\u0000\u0000\u0000\u0000\u0000\u0000\u0000\u0000\u0000\u0000"
     ]
    },
    {
     "name": "stderr",
     "output_type": "stream",
     "text": [
      "\r",
      "  4%|███▏                                                                          | 580/13971 [00:43<12:29, 17.87it/s]"
     ]
    },
    {
     "name": "stdout",
     "output_type": "stream",
     "text": [
      "\n",
      "4-1_bone-dry_valley_3009.bcd\n",
      "4-1 Canned Heat\u0000\u0000 Square\u0000\u0000\u0000\u0000\u0000\u0000\u0000\u0000\u0000\n",
      "4-1_canned_heat_square_14874.bcd\n",
      "4-1 Mossy Mountains\u0000\u0000\u0000\u0000\u0000\u0000\u0000\u0000\u0000\u0000\u0000\u0000\u0000\u0000\n",
      "4-1_mossy_mountains_3225.bcd\n"
     ]
    },
    {
     "name": "stderr",
     "output_type": "stream",
     "text": [
      "\r",
      "  4%|███▎                                                                          | 583/13971 [00:43<13:59, 15.95it/s]"
     ]
    },
    {
     "name": "stdout",
     "output_type": "stream",
     "text": [
      "4-1 Pokey Desert\u0000\u0000\u0000\u0000\u0000\u0000\u0000\u0000\u0000\u0000\u0000\u0000\u0000\u0000\u0000\u0000\u0000\n",
      "4-1_pokey_desert_14346.bcd\n",
      "4-1: Polythene Peak\u0000\u0000\u0000\u0000\u0000\u0000\u0000\u0000\u0000\u0000\u0000\u0000\u0000\u0000\n",
      "4-1_polythene_peak_14391.bcd\n",
      "4-1: Skullcrusher Cove\u0000\u0000\u0000\u0000\u0000\u0000\u0000\u0000\u0000\u0000\u0000\n",
      "4-1_skullcrusher_cove_5070.bcd\n"
     ]
    },
    {
     "name": "stderr",
     "output_type": "stream",
     "text": [
      "\r",
      "  4%|███▎                                                                          | 586/13971 [00:43<16:34, 13.46it/s]"
     ]
    },
    {
     "name": "stdout",
     "output_type": "stream",
     "text": [
      "4-2: ... In Another Castle\u0000\u0000\u0000\u0000\u0000\u0000\u0000\n",
      "4-2_..._in_another_castle_5071.bcd\n",
      "4-2 Bone-Dry Valley\u0000\u0000\u0000\u0000\u0000\u0000\u0000\u0000\u0000\u0000\u0000\u0000\u0000\u0000\n",
      "4-2_bone-dry_valley_2966.bcd\n",
      "4-2 Desert Tomb\u0000\u0000\u0000\u0000\u0000\u0000\u0000\u0000\u0000\u0000\u0000\u0000\u0000\u0000\u0000\u0000\u0000\u0000\n",
      "4-2_desert_tomb_14356.bcd\n",
      "4-2 Mystic Mushrooms\u0000\u0000\u0000\u0000\u0000\u0000\u0000\u0000\u0000\u0000\u0000\u0000\u0000\n",
      "4-2_mystic_mushrooms_3549.bcd\n"
     ]
    },
    {
     "name": "stderr",
     "output_type": "stream",
     "text": [
      "\r",
      "  4%|███▎                                                                          | 589/13971 [00:43<14:14, 15.67it/s]"
     ]
    },
    {
     "name": "stdout",
     "output_type": "stream",
     "text": [
      "4-2: Rubber Soil\u0000\u0000\u0000\u0000\u0000\u0000\u0000\u0000\u0000\u0000\u0000\u0000\u0000\u0000\u0000\u0000\u0000\n",
      "4-2_rubber_soil_14398.bcd\n",
      "4-2 Woodland Lake\u0000\u0000el\u0000\u0000\u0000\u0000\u0000\u0000\u0000\u0000\u0000\u0000\u0000\u0000\n",
      "4-2_woodland_lakeel_13774.bcd\n",
      "4-2　ふたつの国を行ったり来たり\u0000\u0000\u0000\u0000\u0000\u0000\u0000\u0000\u0000\u0000\u0000\u0000\u0000\u0000\u0000\u0000\n",
      "4-2__11104.bcd\n",
      "4-3 Bone-Dry Valley\u0000\u0000\u0000\u0000\u0000\u0000\u0000\u0000\u0000\u0000\u0000\u0000\u0000\u0000\n",
      "4-3_bone-dry_valley_2972.bcd\n"
     ]
    },
    {
     "name": "stderr",
     "output_type": "stream",
     "text": [
      "  4%|███▎                                                                          | 594/13971 [00:44<16:24, 13.59it/s]"
     ]
    },
    {
     "name": "stdout",
     "output_type": "stream",
     "text": [
      "4-3: Buflen's Mad Lads\u0000\u0000\u0000\u0000\u0000\u0000\u0000\u0000\u0000\u0000\u0000\n",
      "4-3_buflen_s_mad_lads_5072.bcd\n",
      "4-3 Oasis City\u0000\u0000\u0000\u0000\u0000\u0000\u0000\u0000\u0000\u0000\u0000\u0000\u0000\u0000\u0000\u0000\u0000\u0000\u0000\n",
      "4-3_oasis_city_14334.bcd\n",
      "4-3: Rock-'n-Rolling Buzzies\u0000\u0000\u0000\u0000\u0000\n",
      "4-3_rock-_n-rolling_buzzies_14399.bcd\n",
      "4-4 Bone-Dry Valley\u0000\u0000\u0000\u0000\u0000\u0000\u0000\u0000\u0000\u0000\u0000\u0000\u0000\u0000\n",
      "4-4_bone-dry_valley_2979.bcd\n"
     ]
    },
    {
     "name": "stderr",
     "output_type": "stream",
     "text": [
      "\r",
      "  4%|███▎                                                                          | 596/13971 [00:44<20:51, 10.69it/s]"
     ]
    },
    {
     "name": "stdout",
     "output_type": "stream",
     "text": [
      "4-4 haunted castle\u0000\u0000\u0000\u0000\u0000\u0000\u0000\u0000\u0000\u0000\u0000\u0000\u0000\u0000\u0000\n",
      "4-4_haunted_castle_1308.bcd\n",
      "4-4: Iggy's Mystery Mansion\u0000\u0000\u0000\u0000\u0000\u0000"
     ]
    },
    {
     "name": "stderr",
     "output_type": "stream",
     "text": [
      "\r",
      "  4%|███▎                                                                          | 598/13971 [00:44<23:45,  9.38it/s]"
     ]
    },
    {
     "name": "stdout",
     "output_type": "stream",
     "text": [
      "\n",
      "4-4_iggy_s_mystery_mansion_14407.bcd\n",
      "4-4 Koopa Graveyard\u0000\u0000\u0000\u0000\u0000\u0000\u0000\u0000\u0000\u0000\u0000\u0000\u0000\u0000\n",
      "4-4_koopa_graveyard_14349.bcd\n",
      "4-4　パックン一族の生家/Piranha Plant Home\u0000\n",
      "4-4_piranha_plant_home_12547.bcd\n"
     ]
    },
    {
     "name": "stderr",
     "output_type": "stream",
     "text": [
      "  4%|███▍                                                                          | 605/13971 [00:45<20:09, 11.05it/s]"
     ]
    },
    {
     "name": "stdout",
     "output_type": "stream",
     "text": [
      "4-5 Desert Castle\u0000 Castle\u0000\u0000\u0000\u0000\u0000\u0000\u0000\u0000\n",
      "4-5_desert_castle_castle_14342.bcd\n",
      "\u0000\u0000\u0000\u0000\u0000\u0000\u0000\u0000\u0000\u0000\u0000\u0000\u0000\u0000\u0000\u0000\u0000\u0000\u0000\u0000\u0000\u0000\u0000\u0000\u0000\u0000\u0000\u0000\u0000\u0000\u0000\u0000\u0000\n",
      "4027683562.bcd\n",
      "\u0000\u0000\u0000\u0000\u0000\u0000\u0000\u0000\u0000\u0000\u0000\u0000\u0000\u0000\u0000\u0000\u0000\u0000\u0000\u0000\u0000\u0000\u0000\u0000\u0000\u0000\u0000\u0000\u0000\u0000\u0000\u0000\u0000\n",
      "4057997827.bcd\n",
      "\u0000\u0000\u0000\u0000\u0000\u0000\u0000\u0000\u0000\u0000\u0000\u0000\u0000\u0000\u0000\u0000\u0000\u0000\u0000\u0000\u0000\u0000\u0000\u0000\u0000\u0000\u0000\u0000\u0000\u0000\u0000\u0000\u0000\n",
      "4079403332.bcd\n",
      "40sec Pokemon Speed Run ポケモスピドラン\u0000\n",
      "40sec_pokemon_speed_run__3741.bcd\n",
      "40sec 　崩れる城を駆け抜けろ！\u0000\u0000\u0000\u0000\u0000\u0000\u0000\u0000\u0000\u0000\u0000\u0000\u0000\u0000\u0000\n",
      "40sec__6506.bcd\n"
     ]
    },
    {
     "name": "stderr",
     "output_type": "stream",
     "text": [
      "\r",
      "  4%|███▍                                                                          | 607/13971 [00:45<28:43,  7.76it/s]"
     ]
    },
    {
     "name": "stdout",
     "output_type": "stream",
     "text": [
      "40S  ジャングルの中を駆け抜けよう SPEED RUN\u0000\u0000\u0000\u0000\n",
      "40s_speed_run_4273.bcd\n",
      "40 seconds: Frogger lava rush!\u0000\u0000\u0000\n",
      "40_seconds_frogger_lava_rush__13672.bcd\n",
      "40 Seconds: Thwomp run\u0000\u0000\u0000\u0000\u0000\u0000\u0000\u0000\u0000\u0000\u0000\n",
      "40_seconds_thwomp_run_11981.bcd\n"
     ]
    },
    {
     "name": "stderr",
     "output_type": "stream",
     "text": [
      "  4%|███▍                                                                          | 611/13971 [00:46<23:09,  9.62it/s]"
     ]
    },
    {
     "name": "stdout",
     "output_type": "stream",
     "text": [
      "40 Second: Poisonmushroom run\u0000\u0000\u0000\u0000\n",
      "40_second_poisonmushroom_run_13068.bcd\n",
      "40 Second Speed Run\u0000\u0000\u0000\u0000\u0000\u0000\u0000\u0000\u0000\u0000\u0000\u0000\u0000\u0000\n",
      "40_second_speed_run_725.bcd\n",
      "40秒スピードラン　雪玉をポイっとな！！\u0000\u0000\u0000\u0000\u0000\u0000\u0000\u0000\u0000\u0000\u0000\u0000\u0000\n",
      "40__9213.bcd\n"
     ]
    },
    {
     "name": "stderr",
     "output_type": "stream",
     "text": [
      "\r",
      "  4%|███▍                                                                          | 613/13971 [00:46<25:31,  8.72it/s]"
     ]
    },
    {
     "name": "stdout",
     "output_type": "stream",
     "text": [
      "\u0000\u0000\u0000\u0000\u0000\u0000\u0000\u0000\u0000\u0000\u0000\u0000\u0000\u0000\u0000\u0000\u0000\u0000\u0000\u0000\u0000\u0000\u0000\u0000\u0000\u0000\u0000\u0000\u0000\u0000\u0000\u0000\u0000\n",
      "4104383830.bcd\n",
      "\u0000\u0000\u0000\u0000\u0000\u0000\u0000\u0000\u0000\u0000\u0000\u0000\u0000\u0000\u0000\u0000\u0000\u0000\u0000\u0000\u0000\u0000\u0000\u0000\u0000\u0000\u0000\u0000\u0000\u0000\u0000\u0000\u0000\n",
      "4133161973.bcd\n",
      "\u0000\u0000\u0000\u0000\u0000\u0000\u0000\u0000\u0000\u0000\u0000\u0000\u0000\u0000\u0000\u0000\u0000\u0000\u0000\u0000\u0000\u0000\u0000\u0000\u0000\u0000\u0000\u0000\u0000\u0000\u0000\u0000\u0000\n",
      "4156805599.bcd\n",
      "\u0000\u0000\u0000\u0000\u0000\u0000\u0000\u0000\u0000\u0000\u0000\u0000\u0000\u0000\u0000\u0000\u0000\u0000\u0000\u0000\u0000\u0000\u0000\u0000\u0000\u0000\u0000\u0000\u0000\u0000\u0000\u0000\u0000\n",
      "4159029297.bcd\n",
      "\u0000\u0000\u0000\u0000\u0000\u0000\u0000\u0000\u0000\u0000\u0000\u0000\u0000\u0000\u0000\u0000\u0000\u0000\u0000\u0000\u0000\u0000\u0000\u0000\u0000\u0000\u0000\u0000\u0000\u0000\u0000\u0000\u0000\n",
      "4236142070.bcd\n",
      "444\u0000\u0000\u0000\u0000\u0000\u0000\u0000\u0000\u0000\u0000\u0000\u0000\u0000\u0000\u0000\u0000\u0000\u0000\u0000\u0000\u0000\u0000\u0000\u0000\u0000\u0000\u0000\u0000\u0000\u0000\n",
      "444_3170.bcd\n",
      "4 - 2 Crystal Cliffs\u0000\u0000\u0000\u0000\u0000\u0000\u0000\u0000\u0000\u0000\u0000\u0000\u0000\n",
      "4_-_2_crystal_cliffs_5105.bcd\n"
     ]
    },
    {
     "name": "stderr",
     "output_type": "stream",
     "text": [
      "  4%|███▍                                                                          | 622/13971 [00:46<17:22, 12.81it/s]"
     ]
    },
    {
     "name": "stdout",
     "output_type": "stream",
     "text": [
      "4\u0000\u0000\u0000\u0000\u0000\u0000\u0000\u0000\u0000\u0000\u0000\u0000\u0000\u0000\u0000\u0000\u0000\u0000\u0000\u0000\u0000\u0000\u0000\u0000\u0000\u0000\u0000\u0000\u0000\u0000\u0000\u0000\n",
      "4_3168.bcd\n",
      "4 Challenges [Medium]\u0000\u0000\u0000\u0000\u0000\u0000\u0000\u0000\u0000\u0000\u0000\u0000\n",
      "4_challenges_medium__943.bcd\n",
      "4 little puzzles\u0000cters password\u0000\u0000\n",
      "4_little_puzzlescters_password_4440.bcd\n",
      "4 Player Battle\u0000\u0000\u0000\u0000\u0000\u0000\u0000\u0000\u0000\u0000\u0000\u0000\u0000\u0000\u0000\u0000\u0000\u0000\n",
      "4_player_battle_2105.bcd\n",
      "4 Player Mayhem!! Slippery Race\u0000\u0000\n",
      "4_player_mayhem_slippery_race_1760.bcd\n"
     ]
    },
    {
     "name": "stderr",
     "output_type": "stream",
     "text": [
      "  4%|███▌                                                                          | 627/13971 [00:47<14:08, 15.73it/s]"
     ]
    },
    {
     "name": "stdout",
     "output_type": "stream",
     "text": [
      "4 Player Versus #1 - Skyclimb\u0000\u0000\u0000\u0000\n",
      "4_player_versus_1_-_skyclimb_3227.bcd\n",
      "4種の武器でボムシューティング　WEAPON SHOOTING\u0000\u0000\n",
      "4_weapon_shooting_3552.bcd\n",
      "4人レースwith急降下/4Race with NoseDive\u0000\n",
      "4_with_4race_with_nosedive_2075.bcd\n",
      "4 you\u0000\u0000\u0000\u0000\u0000\u0000\u0000\u0000\u0000\u0000\u0000\u0000\u0000\u0000\u0000\u0000\u0000\u0000\u0000\u0000\u0000\u0000\u0000\u0000\u0000\u0000\u0000\u0000\n",
      "4_you_12680.bcd\n",
      "4人で対決！最後まで逆転可能な爽快レース！！\u0000\u0000\u0000\u0000\u0000\u0000\u0000\u0000\u0000\u0000\u0000"
     ]
    },
    {
     "name": "stderr",
     "output_type": "stream",
     "text": [
      "\r",
      "  5%|███▌                                                                          | 629/13971 [00:47<15:20, 14.50it/s]"
     ]
    },
    {
     "name": "stdout",
     "output_type": "stream",
     "text": [
      "\n",
      "4__1950.bcd\n",
      "5-1: 1-Screen Winter Wonders\u0000\u0000\u0000\u0000\u0000\n",
      "5-1_1-screen_winter_wonders_4014.bcd\n"
     ]
    },
    {
     "name": "stderr",
     "output_type": "stream",
     "text": [
      "\r",
      "  5%|███▌                                                                          | 631/13971 [00:47<20:06, 11.05it/s]"
     ]
    },
    {
     "name": "stdout",
     "output_type": "stream",
     "text": [
      "5-1 キラーキラー マウンテン/Bullets Heights\u0000\n",
      "5-1_bullets_heights_9024.bcd\n",
      "5-1 Diving Down Deep\u0000\u0000\u0000\u0000\u0000\u0000\u0000\u0000\u0000\u0000\u0000\u0000\u0000\n",
      "5-1_diving_down_deep_13511.bcd\n",
      "5-1 Snowy Plains\u0000\u0000\u0000\u0000\u0000\u0000\u0000\u0000\u0000\u0000\u0000\u0000\u0000\u0000\u0000\u0000\u0000\n",
      "5-1_snowy_plains_14343.bcd\n",
      "5-1: Sour Milk Sky\u0000\u0000\u0000\u0000\u0000\u0000\u0000\u0000\u0000\u0000\u0000\u0000\u0000\u0000\u0000"
     ]
    },
    {
     "name": "stderr",
     "output_type": "stream",
     "text": [
      "\r",
      "  5%|███▌                                                                          | 634/13971 [00:47<16:20, 13.60it/s]"
     ]
    },
    {
     "name": "stdout",
     "output_type": "stream",
     "text": [
      "\n",
      "5-1_sour_milk_sky_14390.bcd\n",
      "5-1: The Friendly Skies\u0000\u0000\u0000\u0000\u0000\u0000\u0000\u0000\u0000\u0000\n",
      "5-1_the_friendly_skies_6536.bcd\n",
      "5-2 Cloudy Top Heights\u0000\u0000\u0000\u0000\u0000\u0000\u0000\u0000\u0000\u0000\u0000\n",
      "5-2_cloudy_top_heights_2971.bcd\n"
     ]
    },
    {
     "name": "stderr",
     "output_type": "stream",
     "text": [
      "\r",
      "  5%|███▌                                                                          | 636/13971 [00:48<24:39,  9.01it/s]"
     ]
    },
    {
     "name": "stdout",
     "output_type": "stream",
     "text": [
      "5-2 Shocking Spinies\u0000\u0000\u0000\u0000\u0000\u0000\u0000\u0000\u0000\u0000\u0000\u0000\u0000\n",
      "5-2_shocking_spinies_13516.bcd\n",
      "5-2 Snowball Mountain \u0000\u0000\u0000\u0000\u0000\u0000\u0000\u0000\u0000\u0000\u0000\n",
      "5-2_snowball_mountain_14344.bcd\n"
     ]
    },
    {
     "name": "stderr",
     "output_type": "stream",
     "text": [
      "  5%|███▌                                                                          | 640/13971 [00:48<22:08, 10.03it/s]"
     ]
    },
    {
     "name": "stdout",
     "output_type": "stream",
     "text": [
      "5-2: The Legend of DekuScrub\u0000\u0000\u0000\u0000\u0000\n",
      "5-2_the_legend_of_dekuscrub_4305.bcd\n",
      "5-2: Winds Of Love\u0000louds\u0000\u0000\u0000\u0000\u0000\u0000\u0000\u0000\u0000\n",
      "5-2_winds_of_lovelouds_14402.bcd\n",
      "5-3 Cold Mushroom Sky\u0000bridge\u0000\u0000\u0000\u0000\u0000\n",
      "5-3_cold_mushroom_skybridge_14354.bcd\n",
      "5-3: Lord Gold's Throneroom\u0000\u0000\u0000\u0000\u0000\u0000"
     ]
    },
    {
     "name": "stderr",
     "output_type": "stream",
     "text": [
      "\r",
      "  5%|███▌                                                                          | 642/13971 [00:48<18:58, 11.71it/s]"
     ]
    },
    {
     "name": "stdout",
     "output_type": "stream",
     "text": [
      "\n",
      "5-3_lord_gold_s_throneroom_5268.bcd\n",
      "5-3: Ticket To Ride Beetles\u0000\u0000\u0000\u0000\u0000\u0000\n",
      "5-3_ticket_to_ride_beetles_14395.bcd\n",
      "5-4 Cloudy Top Heights\u0000\u0000\u0000\u0000\u0000\u0000\u0000\u0000\u0000\u0000\u0000\n",
      "5-4_cloudy_top_heights_2621.bcd\n"
     ]
    },
    {
     "name": "stderr",
     "output_type": "stream",
     "text": [
      "  5%|███▌                                                                          | 648/13971 [00:48<14:41, 15.12it/s]"
     ]
    },
    {
     "name": "stdout",
     "output_type": "stream",
     "text": [
      "5-4 Icy Caverns\u0000\u0000\u0000\u0000\u0000\u0000\u0000\u0000\u0000\u0000\u0000\u0000\u0000\u0000\u0000\u0000\u0000\u0000\n",
      "5-4_icy_caverns_14357.bcd\n",
      "5-4: Paperback Freighter\u0000\u0000\u0000\u0000\u0000\u0000\u0000\u0000\u0000\n",
      "5-4_paperback_freighter_5053.bcd\n",
      "5-4　青い空が大好きです　/　Roy's Airship\u0000\u0000\u0000\u0000\n",
      "5-4_roy_s_airship_13865.bcd\n",
      "5-5 Castle of Fire and Ice\u0000\u0000\u0000\u0000\u0000\u0000\u0000\n",
      "5-5_castle_of_fire_and_ice_14347.bcd\n",
      "5-S: Petey joins #TeamPrecision\u0000\u0000\n",
      "5-s_petey_joins_teamprecision_5267.bcd\n",
      "50秒スピードラン / 炎のON/OFFスイッチランナー\u0000ー\u0000\u0000\u0000\n",
      "50_on_off__11183.bcd\n"
     ]
    },
    {
     "name": "stderr",
     "output_type": "stream",
     "text": [
      "\r",
      "  5%|███▋                                                                          | 650/13971 [00:49<20:58, 10.58it/s]"
     ]
    },
    {
     "name": "stdout",
     "output_type": "stream",
     "text": [
      "50 Seconds of Hard Platforming 3\u0000\n",
      "50_seconds_of_hard_platforming_3_11476.bcd\n",
      "50 Second:  run 【hard】\u0000hard】\u0000\u0000\u0000\u0000\u0000\n",
      "50_second_run_hard_hard__11458.bcd\n"
     ]
    },
    {
     "name": "stderr",
     "output_type": "stream",
     "text": [
      "\r",
      "  5%|███▋                                                                          | 652/13971 [00:49<23:13,  9.56it/s]"
     ]
    },
    {
     "name": "stdout",
     "output_type": "stream",
     "text": [
      "50秒スピードラン　電光石火の如く走り抜け！！\u0000があるんだ\u0000\u0000\u0000\u0000\n",
      "50__10697.bcd\n"
     ]
    },
    {
     "name": "stderr",
     "output_type": "stream",
     "text": [
      "\r",
      "  5%|███▋                                                                          | 654/13971 [00:49<29:09,  7.61it/s]"
     ]
    },
    {
     "name": "stdout",
     "output_type": "stream",
     "text": [
      "50命不够用\u0000\u0000\u0000\u0000\u0000\u0000\u0000\u0000\u0000\u0000\u0000\u0000\u0000\u0000\u0000\u0000\u0000\u0000\u0000\u0000\u0000\u0000\u0000\u0000\u0000\u0000\u0000\n",
      "50__11014.bcd\n",
      "50秒スピラン！\u0000\u0000\u0000\u0000\u0000\u0000\u0000\u0000\u0000\u0000\u0000\u0000\u0000\u0000\u0000\u0000\u0000\u0000\u0000\u0000\u0000\u0000\u0000\u0000\u0000\n",
      "50__12122.bcd\n",
      "50秒スピードラン はしれはしれ！にげろにげろ！\u0000\u0000\u0000\u0000\u0000\u0000\u0000\u0000\u0000\n",
      "50__6510.bcd\n"
     ]
    },
    {
     "name": "stderr",
     "output_type": "stream",
     "text": [
      "  5%|███▋                                                                          | 660/13971 [00:50<29:12,  7.60it/s]"
     ]
    },
    {
     "name": "stdout",
     "output_type": "stream",
     "text": [
      "536体のテレサを回避する神回避全自動　　AUTO\u0000\u0000\u0000\u0000\u0000\u0000\u0000\u0000\n",
      "536_auto_9000.bcd\n",
      "5555\u0000\u0000\u0000\u0000\u0000\u0000\u0000\u0000\u0000\u0000\u0000\u0000\u0000\u0000\u0000\u0000\u0000\u0000\u0000\u0000\u0000\u0000\u0000\u0000\u0000\u0000\u0000\u0000\u0000\n",
      "5555_1108.bcd\n",
      "555\u0000\u0000\u0000\u0000\u0000\u0000\u0000\u0000\u0000\u0000\u0000\u0000\u0000\u0000\u0000\u0000\u0000\u0000\u0000\u0000\u0000\u0000\u0000\u0000\u0000\u0000\u0000\u0000\u0000\u0000\n",
      "555_3171.bcd\n",
      "跳ね馬！じゃじゃ馬！スーパーボール！\u0000\u0000\u0000\u0000\u0000\u0000\u0000\u0000\u0000\u0000\u0000\u0000\u0000\u0000\u0000\n",
      "5dc42437000a9b2200cead2a.bcd\n",
      "Super Mario Sunshine's Sand Bird\u0000\n",
      "5dc424370010b27700cead25.bcd\n",
      "UNDERGROUND WORLD　ー地下世界のアスレチックー\u0000\u0000"
     ]
    },
    {
     "name": "stderr",
     "output_type": "stream",
     "text": [
      "\r",
      "  5%|███▋                                                                          | 662/13971 [00:50<25:38,  8.65it/s]"
     ]
    },
    {
     "name": "stdout",
     "output_type": "stream",
     "text": [
      "\n",
      "5dc42437001ddc6700cead2e.bcd\n",
      "Multiplayer Versus!! / みんなでバトル！！\u0000\n",
      "5dc42437002708dd00cead26.bcd\n",
      "ぽいずんふれんず\u0000\u0000\u0000\u0000\u0000\u0000\u0000\u0000\u0000\u0000\u0000\u0000\u0000\u0000\u0000\u0000\u0000\u0000\u0000\u0000\u0000\u0000\u0000\u0000\u0000\n",
      "5dc42437002b78cf00cead24.bcd\n",
      "A Pipedream in Switchland\u0000\u0000\u0000\u0000\u0000\u0000\u0000\u0000\n",
      "5dc42437004e922000cead23.bcd\n",
      "Super Metroid X Super Mario\u0000\u0000\u0000\u0000\u0000\u0000\n",
      "5dc42437006e37f800cead2f.bcd\n"
     ]
    },
    {
     "name": "stderr",
     "output_type": "stream",
     "text": [
      "\r",
      "  5%|███▋                                                                          | 666/13971 [00:50<20:18, 10.92it/s]"
     ]
    },
    {
     "name": "stdout",
     "output_type": "stream",
     "text": [
      "Balls to the Walls\u0000\u0000\u0000\u0000\u0000\u0000\u0000\u0000\u0000\u0000\u0000\u0000\u0000\u0000\u0000\n",
      "5dc424370074a85b00cead2d.bcd\n",
      "Uno Mas: Big Mario's Secret\u0000\u0000\u0000\u0000\u0000\u0000\n",
      "5dc4243700d7e0df00cead2b.bcd\n",
      "Back to Gameboy\u0000\u0000\u0000ake block\u0000\u0000\u0000\u0000\u0000\u0000\n",
      "5dc4243700f2846a00cead2c.bcd\n"
     ]
    },
    {
     "name": "stderr",
     "output_type": "stream",
     "text": [
      "\r",
      "  5%|███▋                                                                          | 669/13971 [00:50<19:02, 11.64it/s]"
     ]
    },
    {
     "name": "stdout",
     "output_type": "stream",
     "text": [
      "Breakout\u0000\u0000\u0000\u0000\u0000\u0000\u0000\u0000\u0000 Jeep\u0000\u0000\u0000\u0000\u0000\u0000\u0000\u0000\u0000\u0000\u0000\n",
      "5dc42438000093f000cead33.bcd\n",
      "Friends are Rotten!\u0000\u0000\u0000\u0000\u0000\u0000\u0000\u0000\u0000\u0000\u0000\u0000\u0000\u0000\n",
      "5dc424380006dcf000cead3e.bcd\n",
      "AutoMAGIC\u0000\u0000\u0000\u0000\u0000\u0000\u0000\u0000\u0000\u0000\u0000\u0000\u0000\u0000\u0000\u0000\u0000\u0000\u0000\u0000\u0000\u0000\u0000\u0000\n",
      "5dc42438000d567b00cead3c.bcd\n"
     ]
    },
    {
     "name": "stderr",
     "output_type": "stream",
     "text": [
      "  5%|███▊                                                                          | 674/13971 [00:51<17:30, 12.65it/s]"
     ]
    },
    {
     "name": "stdout",
     "output_type": "stream",
     "text": [
      "Teamwork Castle\u0000\u0000\u0000\u0000\u0000\u0000\u0000\u0000\u0000\u0000\u0000\u0000\u0000\u0000\u0000\u0000\u0000\u0000\n",
      "5dc424380015d96200cead42.bcd\n",
      "table tennis\u0000\u0000\u0000\u0000\u0000\u0000\u0000\u0000\u0000\u0000\u0000\u0000\u0000\u0000\u0000\u0000\u0000\u0000\u0000\u0000\u0000\n",
      "5dc4243800186ebb00cead44.bcd\n",
      "Tick Tock Clock [SM64]\u0000\u0000\u0000\u0000\u0000\u0000\u0000\u0000\u0000\u0000\u0000\n",
      "5dc42438002015b100cead32.bcd\n",
      "Brother, Can You Spare A Coin?\u0000\u0000\u0000"
     ]
    },
    {
     "name": "stderr",
     "output_type": "stream",
     "text": [
      "\r",
      "  5%|███▊                                                                          | 677/13971 [00:51<15:05, 14.68it/s]"
     ]
    },
    {
     "name": "stdout",
     "output_type": "stream",
     "text": [
      "\n",
      "5dc4243800357a2900cead31.bcd\n",
      "Superballin'\u0000\u0000\u0000\u0000\u0000\u0000\u0000\u0000\u0000\u0000\u0000\u0000\u0000\u0000\u0000\u0000\u0000\u0000\u0000\u0000\u0000\n",
      "5dc424380043463d00cead46.bcd\n",
      "Puzzle Rooms 2\u0000\u0000\u0000\u0000\u0000\u0000\u0000\u0000\u0000\u0000\u0000\u0000\u0000\u0000\u0000\u0000\u0000\u0000\u0000\n",
      "5dc42438004e781e00cead3b.bcd\n",
      "The Mirror Puzzles; first part.\u0000\u0000\n",
      "5dc42438004fc51d00cead3d.bcd\n"
     ]
    },
    {
     "name": "stderr",
     "output_type": "stream",
     "text": [
      "  5%|███▊                                                                          | 681/13971 [00:51<18:05, 12.24it/s]"
     ]
    },
    {
     "name": "stdout",
     "output_type": "stream",
     "text": [
      "The Mirror Puzzles; part 2.\u0000\u0000\u0000\u0000\u0000\u0000\n",
      "5dc42438005e4e7a00cead40.bcd\n",
      "Table Tennis in SMM2!\u0000\u0000\u0000\u0000\u0000\u0000\u0000\u0000\u0000\u0000\u0000\u0000\n",
      "5dc424380072979e00cead36.bcd\n"
     ]
    },
    {
     "name": "stderr",
     "output_type": "stream",
     "text": [
      "\r",
      "  5%|███▊                                                                          | 684/13971 [00:51<15:52, 13.95it/s]"
     ]
    },
    {
     "name": "stdout",
     "output_type": "stream",
     "text": [
      "スイッチ仕掛けのお化け屋敷\u0000\u0000\u0000\u0000\u0000\u0000\u0000\u0000\u0000\u0000\u0000\u0000\u0000\u0000\u0000\u0000\u0000\u0000\u0000\u0000\n",
      "5dc42438008abd8700cead47.bcd\n",
      "信じてDASH JUMP!\u0000\u0000\u0000\u0000\u0000\u0000\u0000\u0000\u0000\u0000\u0000\u0000\u0000\u0000\u0000\u0000\u0000\u0000\u0000\u0000\n",
      "5dc42438009014da00cead41.bcd\n",
      "♪Country Roads♪ →Walk→\u0000\u0000\u0000\u0000\u0000\u0000\u0000\u0000\u0000\u0000\u0000\n",
      "5dc4243800a8bd4e00cead3a.bcd\n",
      "スーパーマリオボール　Super Mario Ball\u0000\u0000\u0000\u0000\u0000\u0000\n",
      "5dc4243800adb7f200cead38.bcd\n",
      "Stormy Mushroom Jungle\u0000\u0000\u0000\u0000\u0000\u0000\u0000\u0000\u0000\u0000\u0000\n",
      "5dc4243800b45a0500cead48.bcd\n"
     ]
    },
    {
     "name": "stderr",
     "output_type": "stream",
     "text": [
      "  5%|███▊                                                                          | 688/13971 [00:52<16:22, 13.52it/s]"
     ]
    },
    {
     "name": "stdout",
     "output_type": "stream",
     "text": [
      "★ The 4 Player Showdown ★\u0000\u0000\u0000\u0000\u0000\u0000\u0000\u0000\n",
      "5dc4243800ca818b00cead39.bcd\n",
      "♪シオカラ節　Calamari Inkantation♪　1/2\u0000\n",
      "5dc4243800d600fc00cead34.bcd\n",
      "New Game, New Ideas - Puzzle\u0000\u0000\u0000\u0000\u0000\n",
      "5dc4243800d86a4d00cead43.bcd\n"
     ]
    },
    {
     "name": "stderr",
     "output_type": "stream",
     "text": [
      "  5%|███▊                                                                          | 694/13971 [00:52<13:36, 16.26it/s]"
     ]
    },
    {
     "name": "stdout",
     "output_type": "stream",
     "text": [
      "marios shooting range\u0000\u0000\u0000\u0000\u0000\u0000\u0000\u0000\u0000\u0000\u0000\u0000\n",
      "5dc4243800f1922600cead3f.bcd\n",
      "Escape Room\u0000\u0000\u0000\u0000\u0000\u0000\u0000\u0000\u0000\u0000\u0000\u0000\u0000\u0000\u0000\u0000\u0000\u0000\u0000\u0000\u0000\u0000\n",
      "5dc4243800ff62b300cead35.bcd\n",
      "Pong\u0000\u0000\u0000\u0000\u0000\u0000\u0000\u0000\u0000\u0000\u0000\u0000\u0000\u0000\u0000\u0000\u0000\u0000\u0000\u0000\u0000\u0000\u0000\u0000\u0000\u0000\u0000\u0000\u0000\n",
      "5dc424390015ba3400cead56.bcd\n",
      "謎解き脱出ゲーム的な\u0000\u0000\u0000\u0000\u0000\u0000\u0000\u0000\u0000\u0000\u0000\u0000\u0000\u0000\u0000\u0000\u0000\u0000\u0000\u0000\u0000\u0000\u0000\n",
      "5dc424390024464700cead49.bcd\n",
      "スーパーボールつかい\u0000\u0000\u0000\u0000\u0000\u0000\u0000\u0000\u0000\u0000\u0000\u0000\u0000\u0000\u0000\u0000\u0000\u0000\u0000\u0000\u0000\u0000\u0000\n",
      "5dc4243900261d2400cead5c.bcd\n",
      "♪シオカラ節　Calamari Inkantation♪　2/2\u0000\n",
      "5dc42439003d087500cead4f.bcd\n",
      "Table Tennis\u0000\u0000\u0000\u0000\u0000\u0000\u0000\u0000\u0000\u0000\u0000\u0000\u0000\u0000\u0000\u0000\u0000\u0000\u0000\u0000\u0000\n",
      "5dc424390052491800cead51.bcd\n"
     ]
    },
    {
     "name": "stderr",
     "output_type": "stream",
     "text": [
      "\r",
      "  5%|███▉                                                                          | 696/13971 [00:52<16:45, 13.20it/s]"
     ]
    },
    {
     "name": "stdout",
     "output_type": "stream",
     "text": [
      "謎解きループコース　Mystery Loop Level\u0000\u0000\u0000\u0000\u0000\n",
      "5dc4243900579eb700cead5b.bcd\n"
     ]
    },
    {
     "name": "stderr",
     "output_type": "stream",
     "text": [
      "\r",
      "  5%|███▉                                                                          | 698/13971 [00:53<23:07,  9.57it/s]"
     ]
    },
    {
     "name": "stdout",
     "output_type": "stream",
     "text": [
      "♪Running in the 90's♪ Hold Y+Run\u0000\n",
      "5dc42439005bbc7500cead58.bcd\n",
      "Wet and Dry\u0000\u0000\u0000\u0000\u0000\u0000\u0000\u0000\u0000\u0000\u0000\u0000\u0000\u0000\u0000\u0000\u0000\u0000\u0000\u0000\u0000\u0000\n",
      "5dc424390061454100cead4b.bcd\n"
     ]
    },
    {
     "name": "stderr",
     "output_type": "stream",
     "text": [
      "  5%|███▉                                                                          | 703/13971 [00:53<19:24, 11.39it/s]"
     ]
    },
    {
     "name": "stdout",
     "output_type": "stream",
     "text": [
      "Puzzle Rooms 4\u0000\u0000\u0000\u0000\u0000\u0000\u0000\u0000\u0000\u0000\u0000\u0000\u0000\u0000\u0000\u0000\u0000\u0000\u0000\n",
      "5dc424390068892500cead50.bcd\n",
      "Icicle run \u0000\u0000\u0000\u0000\u0000\u0000\u0000\u0000\u0000\u0000\u0000\u0000\u0000\u0000\u0000\u0000\u0000\u0000\u0000\u0000\u0000\u0000\n",
      "5dc4243900761ef900cead4e.bcd\n",
      "SMB3 Tennis\u0000\u0000\u0000\u0000\u0000\u0000\u0000\u0000\u0000\u0000\u0000\u0000\u0000\u0000\u0000\u0000\u0000\u0000\u0000\u0000\u0000\u0000\n",
      "5dc42439008e9a3b00cead54.bcd\n",
      "PAC-MAN in SMM2\u0000\u0000er\u0000\u0000\u0000\u0000\u0000\u0000\u0000\u0000\u0000\u0000\u0000\u0000\u0000\u0000\n",
      "5dc424390090aea000cead57.bcd\n",
      "Minijuegos Mario land\u0000\u0000\u0000\u0000\u0000\u0000\u0000\u0000\u0000\u0000\u0000\u0000\n",
      "5dc4243900959f3e00cead4a.bcd\n"
     ]
    },
    {
     "name": "stderr",
     "output_type": "stream",
     "text": [
      "\r",
      "  5%|███▉                                                                          | 705/13971 [00:53<17:58, 12.31it/s]"
     ]
    },
    {
     "name": "stdout",
     "output_type": "stream",
     "text": [
      "てらして すすんで まっくらいせき\u0000\u0000\u0000\u0000\u0000\u0000\u0000\u0000\u0000\u0000\u0000\u0000\u0000\u0000\u0000\u0000\n",
      "5dc42439009842d800cead4c.bcd\n",
      "Desert Pong\u0000\u0000\u0000\u0000\u0000\u0000\u0000\u0000\u0000\u0000\u0000\u0000\u0000\u0000\u0000\u0000\u0000\u0000\u0000\u0000\u0000\u0000\n",
      "5dc424390099adb800cead4d.bcd\n",
      "雪の世界で、カロンコウラをシュート！\u0000\u0000\u0000\u0000\u0000\u0000\u0000\u0000\u0000\u0000\u0000\u0000\u0000\u0000\u0000\n",
      "5dc4243900ae92ac00cead53.bcd\n",
      "Super Smash Bros. Ultimate BGM\u0000\u0000\u0000\n",
      "5dc4243900b0385a00cead5a.bcd\n"
     ]
    },
    {
     "name": "stderr",
     "output_type": "stream",
     "text": [
      "  5%|███▉                                                                          | 710/13971 [00:53<15:19, 14.42it/s]"
     ]
    },
    {
     "name": "stdout",
     "output_type": "stream",
     "text": [
      "Slide64!\u0000\u0000\u0000\u0000\u0000\u0000\u0000\u0000\u0000\u0000\u0000\u0000\u0000\u0000\u0000\u0000\u0000\u0000\u0000\u0000\u0000\u0000\u0000\u0000\u0000\n",
      "5dc4243900c8f50400cead59.bcd\n",
      "Boom Boom's Evil Pinball Machine\u0000\n",
      "5dc4243900d9628b00cead55.bcd\n",
      "[Party Game]  Piranha Pinball\u0000\u0000\u0000\u0000\n",
      "5dc4243900e9dabf00cead52.bcd\n",
      "MARIO LAND EX 難易度★★☆☆☆\u0000\u0000\u0000\u0000\u0000\u0000\u0000\u0000\u0000\u0000\u0000\n",
      "5dc4243a0047dcb400cead5d.bcd\n",
      "Bowser's Inside Story\u0000aid\u0000\u0000\u0000\u0000\u0000\u0000\u0000\u0000\n",
      "5dc4243a005d79f900cead5e.bcd\n"
     ]
    },
    {
     "name": "stderr",
     "output_type": "stream",
     "text": [
      "\r",
      "  5%|███▉                                                                          | 713/13971 [00:54<17:10, 12.86it/s]"
     ]
    },
    {
     "name": "stdout",
     "output_type": "stream",
     "text": [
      "Spring Has Switched\u0000\u0000\u0000\u0000\u0000\u0000\u0000\u0000\u0000\u0000\u0000\u0000\u0000\u0000\n",
      "5dc4258b000ca3e700cead64.bcd\n",
      "Sensational Switches\u0000\u0000\u0000\u0000\u0000\u0000\u0000\u0000\u0000\u0000\u0000\u0000\u0000\n",
      "5dc4258b000d6ba600cead62.bcd\n"
     ]
    },
    {
     "name": "stderr",
     "output_type": "stream",
     "text": [
      "  5%|████                                                                          | 717/13971 [00:54<23:16,  9.49it/s]"
     ]
    },
    {
     "name": "stdout",
     "output_type": "stream",
     "text": [
      "カズ遊園地 ～Kazu Amusement Park～\u0000\u0000\u0000\u0000\u0000\u0000\n",
      "5dc4258b0055d21e00cead65.bcd\n",
      "Table Tennis in SMM2! [HARD]\u0000\u0000\u0000\u0000\u0000\n",
      "5dc4258b006741f500cead5f.bcd\n",
      "The 8 Ancient Cave Coins\u0000s\u0000\u0000\u0000\u0000\u0000\u0000\u0000\n",
      "5dc4258b006bc21d00cead66.bcd\n"
     ]
    },
    {
     "name": "stderr",
     "output_type": "stream",
     "text": [
      "\r",
      "  5%|████                                                                          | 719/13971 [00:55<24:48,  8.90it/s]"
     ]
    },
    {
     "name": "stdout",
     "output_type": "stream",
     "text": [
      "Call Of Koop'thulhu\u0000\u0000\u0000\u0000\u0000\u0000\u0000\u0000\u0000\u0000\u0000\u0000\u0000\u0000\n",
      "5dc4258b0098cd7700cead60.bcd\n",
      "The Simple Machine\u0000\u0000\u0000\u0000\u0000\u0000\u0000\u0000\u0000\u0000\u0000\u0000\u0000\u0000\u0000\n",
      "5dc4258b00c3a86b00cead63.bcd\n",
      "Chain Chonk Temple\u0000\u0000\u0000\u0000\u0000\u0000\u0000\u0000\u0000\u0000\u0000\u0000\u0000\u0000\u0000\n",
      "5dc4258b00c4a44100cead61.bcd\n"
     ]
    },
    {
     "name": "stderr",
     "output_type": "stream",
     "text": [
      "\r",
      "  5%|████                                                                          | 721/13971 [00:55<27:12,  8.12it/s]"
     ]
    },
    {
     "name": "stdout",
     "output_type": "stream",
     "text": [
      "The Deserted Thwomp Ruins\u0000tation\u0000\n",
      "5dc4258b00cfa2b500cead67.bcd\n",
      "Parallel Universe\u0000\u0000\u0000\u0000\u0000\u0000\u0000\u0000\u0000\u0000\u0000\u0000\u0000\u0000\u0000\u0000\n",
      "5dc4258c00007d1a00cead78.bcd\n"
     ]
    },
    {
     "name": "stderr",
     "output_type": "stream",
     "text": [
      "  5%|████                                                                          | 725/13971 [00:55<25:15,  8.74it/s]"
     ]
    },
    {
     "name": "stdout",
     "output_type": "stream",
     "text": [
      "The mirrors cave\u0000 espejos\u0000\u0000\u0000\u0000\u0000\u0000\u0000\u0000\n",
      "5dc4258c0000e30700cead6d.bcd\n",
      "AC 1-2 King Dedede's Rhythm Game\u0000\n",
      "5dc4258c0006178300cead76.bcd\n",
      "Cloudtop Climb\u0000\u0000\u0000\u0000\u0000\u0000\u0000\u0000\u0000\u0000\u0000\u0000\u0000\u0000\u0000\u0000\u0000\u0000\u0000\n",
      "5dc4258c00203b8500cead6b.bcd\n",
      "Frozen-Over Fantasy\u0000\u0000\u0000\u0000\u0000\u0000\u0000\u0000\u0000\u0000\u0000\u0000\u0000\u0000\n",
      "5dc4258c0022df7300cead69.bcd\n"
     ]
    },
    {
     "name": "stderr",
     "output_type": "stream",
     "text": [
      "  5%|████                                                                          | 728/13971 [00:56<31:37,  6.98it/s]"
     ]
    },
    {
     "name": "stdout",
     "output_type": "stream",
     "text": [
      "砂の遺跡にひそむ罠\u0000\u0000\u0000\u0000\u0000\u0000\u0000\u0000\u0000\u0000\u0000\u0000\u0000\u0000\u0000\u0000\u0000\u0000\u0000\u0000\u0000\u0000\u0000\u0000\n",
      "5dc4258c0032cf4000cead7c.bcd\n",
      "Dungeon Escape\u0000\u0000\u0000\u0000\u0000\u0000\u0000\u0000\u0000\u0000\u0000\u0000\u0000\u0000\u0000\u0000\u0000\u0000\u0000\n",
      "5dc4258c0035861f00cead70.bcd\n"
     ]
    },
    {
     "name": "stderr",
     "output_type": "stream",
     "text": [
      "  5%|████                                                                          | 731/13971 [00:56<45:01,  4.90it/s]"
     ]
    },
    {
     "name": "stdout",
     "output_type": "stream",
     "text": [
      "Basically A Level\u0000\u0000\u0000\u0000\u0000\u0000\u0000\u0000\u0000\u0000\u0000\u0000\u0000\u0000\u0000\u0000\n",
      "5dc4258c004217d900cead7e.bcd\n",
      "追いかけられて(Follow the coins)\u0000\u0000\u0000\u0000\u0000\u0000\u0000\u0000\n",
      "5dc4258c00591ef200cead72.bcd\n",
      "*~Snowy Swinging And Climbing~*\u0000\u0000\n",
      "5dc4258c0062dcf200cead7a.bcd\n"
     ]
    },
    {
     "name": "stderr",
     "output_type": "stream",
     "text": [
      "\r",
      "  5%|████                                                                          | 734/13971 [00:57<35:33,  6.21it/s]"
     ]
    },
    {
     "name": "stdout",
     "output_type": "stream",
     "text": [
      "Flash of Insight\u0000tion\u0000\u0000\u0000\u0000\u0000\u0000\u0000\u0000\u0000\u0000\u0000\u0000\n",
      "5dc4258c0064094900cead7f.bcd\n",
      "Abandoned Site\u0000\u0000\u0000\u0000\u0000\u0000\u0000\u0000\u0000\u0000\u0000\u0000\u0000\u0000\u0000\u0000\u0000\u0000\u0000\n",
      "5dc4258c006f07b000cead77.bcd\n",
      "Forest Goop\u0000\u0000\u0000\u0000\u0000\u0000ngle\u0000\u0000\u0000\u0000\u0000\u0000\u0000\u0000\u0000\u0000\u0000\u0000\n",
      "5dc4258c0078a2f700cead71.bcd\n"
     ]
    },
    {
     "name": "stderr",
     "output_type": "stream",
     "text": [
      "\r",
      "  5%|████                                                                          | 736/13971 [00:57<29:33,  7.46it/s]"
     ]
    },
    {
     "name": "stdout",
     "output_type": "stream",
     "text": [
      "Tanooki in the Sky World\u0000ken\u0000\u0000\u0000\u0000\u0000\n",
      "5dc4258c00949f8e00cead79.bcd\n",
      "Booting Up the Switch! (Easy)\u0000z)\u0000\n",
      "5dc4258c009513be00cead7d.bcd\n",
      "白熱！トゲメットレース【イージーver】\u0000\u0000\u0000\u0000\u0000\u0000\u0000\u0000\u0000\u0000\u0000\u0000\u0000"
     ]
    },
    {
     "name": "stderr",
     "output_type": "stream",
     "text": [
      "\r",
      "  5%|████                                                                          | 738/13971 [00:57<27:20,  8.07it/s]"
     ]
    },
    {
     "name": "stdout",
     "output_type": "stream",
     "text": [
      "\n",
      "5dc4258c00b2ae4300cead74.bcd\n",
      "Delfino Island\u0000\u0000\u0000 Kyol Ren\u0000\u0000\u0000\u0000\u0000\u0000\u0000\n",
      "5dc4258c00b493ba00cead7b.bcd\n"
     ]
    },
    {
     "name": "stderr",
     "output_type": "stream",
     "text": [
      "\r",
      "  5%|████▏                                                                         | 740/13971 [00:57<28:04,  7.86it/s]"
     ]
    },
    {
     "name": "stdout",
     "output_type": "stream",
     "text": [
      "BOTW - Concept\u0000\u0000\u0000\u0000\u0000\u0000\u0000\u0000\u0000\u0000\u0000\u0000\u0000\u0000\u0000\u0000\u0000\u0000\u0000\n",
      "5dc4258c00cd698900cead82.bcd\n",
      "Tilted Thrill\u0000\u0000\u0000\u0000\u0000\u0000\u0000\u0000\u0000\u0000\u0000\u0000\u0000\u0000\u0000\u0000\u0000\u0000\u0000\u0000\n",
      "5dc4258c00d1634700cead80.bcd\n"
     ]
    },
    {
     "name": "stderr",
     "output_type": "stream",
     "text": [
      "\r",
      "  5%|████▏                                                                         | 741/13971 [00:58<36:12,  6.09it/s]"
     ]
    },
    {
     "name": "stdout",
     "output_type": "stream",
     "text": [
      "Flying Battery Zone\u0000\u0000\u0000\u0000\u0000\u0000\u0000\u0000\u0000\u0000\u0000\u0000\u0000\u0000\n",
      "5dc4258c00def3a700cead75.bcd\n"
     ]
    },
    {
     "name": "stderr",
     "output_type": "stream",
     "text": [
      "  5%|████▏                                                                         | 744/13971 [00:58<38:46,  5.68it/s]"
     ]
    },
    {
     "name": "stdout",
     "output_type": "stream",
     "text": [
      "Frostbite Falls Open\u0000\u0000\u0000\u0000\u0000\u0000\u0000\u0000\u0000\u0000\u0000\u0000\u0000\n",
      "5dc4258c00eee26c00cead73.bcd\n",
      "Chocolate-Mountain-Expedition!\u0000\u0000\u0000\n",
      "5dc4258c00f0235900cead6a.bcd\n",
      "Icedom Tower\u0000\u0000\u0000\u0000\u0000\u0000\u0000\u0000\u0000\u0000\u0000\u0000\u0000\u0000\u0000\u0000\u0000\u0000\u0000\u0000\u0000\n",
      "5dc4258d000e367b00cead91.bcd\n"
     ]
    },
    {
     "name": "stderr",
     "output_type": "stream",
     "text": [
      "  5%|████▏                                                                         | 746/13971 [00:58<31:05,  7.09it/s]"
     ]
    },
    {
     "name": "stdout",
     "output_type": "stream",
     "text": [
      "Metroid World: A love story\u0000\u0000\u0000\u0000\u0000\u0000\n",
      "5dc4258d001a610600cead84.bcd\n",
      "Fetch-Quest Village\u0000as\u0000\u0000\u0000\u0000\u0000\u0000\u0000\u0000\u0000\u0000\u0000\n",
      "5dc4258d001d2c2800cead96.bcd\n",
      "Waibak 1-1: Backtrack Plains\u0000\u0000\u0000\u0000\u0000"
     ]
    },
    {
     "name": "stderr",
     "output_type": "stream",
     "text": [
      "  5%|████▏                                                                         | 750/13971 [00:58<21:40, 10.17it/s]"
     ]
    },
    {
     "name": "stdout",
     "output_type": "stream",
     "text": [
      "\n",
      "5dc4258d001d752300cead99.bcd\n",
      "かけあがれ！　朽ちた天空の塔\u0000\u0000\u0000\u0000\u0000\u0000\u0000\u0000\u0000\u0000\u0000\u0000\u0000\u0000\u0000\u0000\u0000\u0000\u0000\n",
      "5dc4258d002180f900cead8b.bcd\n",
      "Through the Bomber\u0000\u0000\u0000\u0000\u0000\u0000\u0000\u0000\u0000\u0000\u0000\u0000\u0000\u0000\u0000\n",
      "5dc4258d0024ea8300cead8e.bcd\n",
      "Shlooter!\u0000\u0000\u0000\u0000\u0000\u0000\u0000\u0000\u0000\u0000\u0000\u0000\u0000\u0000\u0000\u0000\u0000\u0000\u0000\u0000\u0000\u0000\u0000\u0000\n",
      "5dc4258d0025f99400cead8f.bcd\n",
      "S-Claw in Snowfield～雪国のブランコクレーン～\u0000\n",
      "5dc4258d0039f6f200cead8c.bcd\n"
     ]
    },
    {
     "name": "stderr",
     "output_type": "stream",
     "text": [
      "\r",
      "  5%|████▏                                                                         | 753/13971 [00:59<19:31, 11.28it/s]"
     ]
    },
    {
     "name": "stdout",
     "output_type": "stream",
     "text": [
      "Crimson Dream\u0000\u0000\u0000\u0000\u0000\u0000\u0000\u0000\u0000\u0000\u0000\u0000\u0000\u0000\u0000\u0000\u0000\u0000\u0000\u0000\n",
      "5dc4258d003f22e000cead90.bcd\n",
      "Carnivorous Caverns\u0000\u0000\u0000\u0000\u0000\u0000\u0000\u0000\u0000\u0000\u0000\u0000\u0000\u0000\n",
      "5dc4258d0047184300cead83.bcd\n"
     ]
    },
    {
     "name": "stderr",
     "output_type": "stream",
     "text": [
      "\r",
      "  5%|████▏                                                                         | 755/13971 [00:59<20:01, 11.00it/s]"
     ]
    },
    {
     "name": "stdout",
     "output_type": "stream",
     "text": [
      "おそらのゴキゲンはシーソーしだい　/  Gramble sky\u0000\u0000\n",
      "5dc4258d004a5dc900cead93.bcd\n",
      "Deep Wood\u0000\u0000\u0000\u0000\u0000\u0000\u0000\u0000nigans\u0000\u0000\u0000\u0000\u0000\u0000\u0000\u0000\u0000\u0000\n",
      "5dc4258d004a7e3b00cead9a.bcd\n"
     ]
    },
    {
     "name": "stderr",
     "output_type": "stream",
     "text": [
      "\r",
      "  5%|████▏                                                                         | 757/13971 [00:59<21:48, 10.10it/s]"
     ]
    },
    {
     "name": "stdout",
     "output_type": "stream",
     "text": [
      "Climate: Change!\u0000lds\u0000ns Factory\u0000\u0000\n",
      "5dc4258d00554a8200cead85.bcd\n",
      "A Swing and a Prayer\u0000\u0000\u0000\u0000\u0000\u0000\u0000\u0000\u0000\u0000\u0000\u0000\u0000\n",
      "5dc4258d006fd9b700cead97.bcd\n",
      "Thwomp Ruins\u0000\u0000\u0000\u0000\u0000ace\u0000\u0000\u0000\u0000\u0000\u0000\u0000\u0000\u0000\u0000\u0000\u0000\u0000\n",
      "5dc4258d00a8b0ff00cead8a.bcd\n"
     ]
    },
    {
     "name": "stderr",
     "output_type": "stream",
     "text": [
      "\r",
      "  5%|████▏                                                                         | 759/13971 [00:59<24:46,  8.89it/s]"
     ]
    },
    {
     "name": "stdout",
     "output_type": "stream",
     "text": [
      "Icy Cavern\u0000\u0000\u0000\u0000\u0000\u0000\u0000\u0000\u0000\u0000\u0000\u0000\u0000\u0000\u0000\u0000\u0000\u0000\u0000\u0000\u0000\u0000\u0000\n",
      "5dc4258d00bb2e1b00cead92.bcd\n",
      "[Normal] Going down, please\u0000ります\u0000\u0000\n",
      "5dc4258d00bb3a2200cead8d.bcd\n"
     ]
    },
    {
     "name": "stderr",
     "output_type": "stream",
     "text": [
      "  5%|████▎                                                                         | 762/13971 [01:00<29:28,  7.47it/s]"
     ]
    },
    {
     "name": "stdout",
     "output_type": "stream",
     "text": [
      "The Sinking Citadel Returns\u0000\u0000\u0000\u0000\u0000\u0000\n",
      "5dc4258d00c4e36c00cead86.bcd\n",
      "Metroid zero mission\u0000\u0000\u0000\u0000\u0000\u0000\u0000\u0000\u0000\u0000\u0000\u0000\u0000\n",
      "5dc4258d00ccea1000cead87.bcd\n"
     ]
    },
    {
     "name": "stderr",
     "output_type": "stream",
     "text": [
      "\r",
      "  5%|████▎                                                                         | 764/13971 [01:00<27:50,  7.91it/s]"
     ]
    },
    {
     "name": "stdout",
     "output_type": "stream",
     "text": [
      "Rainbow's Delight\u0000\u0000\u0000\u0000\u0000\u0000\u0000\u0000\u0000\u0000\u0000\u0000\u0000\u0000\u0000\u0000\n",
      "5dc4258d00d1a43600cead95.bcd\n",
      "Master the POW\u0000\u0000\u0000\u0000\u0000\u0000\u0000\u0000\u0000\u0000\u0000\u0000\u0000\u0000\u0000\u0000\u0000\u0000\u0000\n",
      "5dc4258d00e2cb5900cead94.bcd\n",
      "Koopa Madness\u0000\u0000\u0000\u0000\u0000\u0000\u0000\u0000\u0000\u0000\u0000\u0000\u0000\u0000\u0000\u0000\u0000\u0000\u0000\u0000"
     ]
    },
    {
     "name": "stderr",
     "output_type": "stream",
     "text": [
      "\r",
      "  5%|████▎                                                                         | 766/13971 [01:00<23:50,  9.23it/s]"
     ]
    },
    {
     "name": "stdout",
     "output_type": "stream",
     "text": [
      "\n",
      "5dc4258d00f56ced00cead88.bcd\n",
      "Nightmare Castle - LPMarkus 01\u0000\u0000\u0000\n",
      "5dc4258d00ff41d600cead98.bcd\n",
      "Canyon Climb\u0000\u0000\u0000\u0000\u0000\u0000\u0000\u0000\u0000\u0000\u0000\u0000\u0000\u0000\u0000\u0000\u0000\u0000\u0000\u0000\u0000\n",
      "5dc425c60043623f00ceada2.bcd\n"
     ]
    },
    {
     "name": "stderr",
     "output_type": "stream",
     "text": [
      "\r",
      "  5%|████▎                                                                         | 768/13971 [01:00<22:00, 10.00it/s]"
     ]
    },
    {
     "name": "stdout",
     "output_type": "stream",
     "text": [
      "Celestial Sprint Speedrun [20s]\u0000\u0000\n",
      "5dc425c6007154a100ceada1.bcd\n"
     ]
    },
    {
     "name": "stderr",
     "output_type": "stream",
     "text": [
      "\r",
      "  6%|████▎                                                                         | 770/13971 [01:01<24:21,  9.03it/s]"
     ]
    },
    {
     "name": "stdout",
     "output_type": "stream",
     "text": [
      "Pipe Dreams\u0000\u0000\u0000\u0000\u0000\u0000\u0000\u0000\u0000\u0000\u0000\u0000\u0000\u0000\u0000\u0000\u0000\u0000\u0000\u0000\u0000\u0000\n",
      "5dc425c6009de4d400cead9d.bcd\n",
      "Switch x  Switch / スイッチのとりで\u0000\u0000\u0000\u0000\u0000\u0000\n",
      "5dc425c600c2333700cead9e.bcd\n",
      "【Galoomba(クリボン)】Speedrun #3[20s]\u0000\n",
      "5dc425c600ee043700ceada0.bcd\n"
     ]
    },
    {
     "name": "stderr",
     "output_type": "stream",
     "text": [
      "\r",
      "  6%|████▎                                                                         | 772/13971 [01:01<21:42, 10.14it/s]"
     ]
    },
    {
     "name": "stdout",
     "output_type": "stream",
     "text": [
      "Minature 1\u0000\u0000\u0000\u0000\u0000\u0000\u0000\u0000\u0000\u0000\u0000\u0000\u0000\u0000\u0000\u0000\u0000\u0000\u0000\u0000\u0000\u0000\u0000\n",
      "5dc425c600ee351200cead9b.bcd\n",
      "【One Screen Puzzle】あらわれし 横ドッスン\u0000\u0000\u0000\n",
      "5dc425c70002aec300ceadbd.bcd\n",
      "Donut Drop Dungeon Deluxe\u0000\u0000\u0000\u0000\u0000\u0000\u0000\u0000\n",
      "5dc425c700038f0700ceada3.bcd\n"
     ]
    },
    {
     "name": "stderr",
     "output_type": "stream",
     "text": [
      "\r",
      "  6%|████▎                                                                         | 775/13971 [01:01<20:16, 10.85it/s]"
     ]
    },
    {
     "name": "stdout",
     "output_type": "stream",
     "text": [
      "Thwomp Terror - Run!\u0000\u0000\u0000\u0000\u0000\u0000\u0000\u0000\u0000\u0000\u0000\u0000\u0000\n",
      "5dc425c700064aeb00ceadb8.bcd\n",
      "Spectacular Switch Sprint (30s)\u0000\u0000\n",
      "5dc425c7000ac23500ceadb4.bcd\n"
     ]
    },
    {
     "name": "stderr",
     "output_type": "stream",
     "text": [
      "  6%|████▎                                                                         | 779/13971 [01:01<20:57, 10.49it/s]"
     ]
    },
    {
     "name": "stdout",
     "output_type": "stream",
     "text": [
      "Chomp Thwomp Ruins\u0000\u0000\u0000\u0000\u0000\u0000\u0000\u0000\u0000\u0000\u0000\u0000\u0000\u0000\u0000\n",
      "5dc425c700114cb000ceadc1.bcd\n",
      "ON/OFFスイッチマスター\u0000\u0000\u0000\u0000\u0000\u0000\u0000\u0000\u0000\u0000\u0000\u0000\u0000\u0000\u0000\u0000\u0000\u0000\u0000\n",
      "5dc425c7001e95b600ceadbf.bcd\n",
      "Space Mission!\u0000\u0000\u0000 problem\u0000\u0000\u0000\u0000\u0000\u0000\u0000\u0000\n",
      "5dc425c70038dfd400ceadaa.bcd\n",
      "Chin Onescreen-Puzzle 1\u0000\u0000\u0000\u0000\u0000\u0000\u0000\u0000\u0000\u0000\n",
      "5dc425c7004eac2100ceadc0.bcd\n",
      "ON/OFFブロックでGO!\u0000\u0000\u0000\u0000\u0000\u0000\u0000\u0000\u0000\u0000\u0000\u0000\u0000\u0000\u0000\u0000\u0000\u0000\u0000\n",
      "5dc425c700514bd500ceadbc.bcd\n"
     ]
    },
    {
     "name": "stderr",
     "output_type": "stream",
     "text": [
      "\r",
      "  6%|████▎                                                                         | 783/13971 [01:02<16:41, 13.16it/s]"
     ]
    },
    {
     "name": "stdout",
     "output_type": "stream",
     "text": [
      "Switching Speed (Hard)\u0000\u0000\u0000\u0000\u0000\u0000\u0000\u0000\u0000\u0000\u0000\n",
      "5dc425c700540de000ceadac.bcd\n",
      "Simple Switches\u0000\u0000\u0000\u0000\u0000\u0000\u0000\u0000\u0000\u0000\u0000\u0000\u0000\u0000\u0000\u0000\u0000\u0000\n",
      "5dc425c7005ec99100ceadaf.bcd\n",
      "Fast Switch Thinking!\u0000\u0000\u0000\u0000\u0000\u0000\u0000\u0000\u0000\u0000\u0000\u0000\n",
      "5dc425c70067c88a00ceadab.bcd\n"
     ]
    },
    {
     "name": "stderr",
     "output_type": "stream",
     "text": [
      "  6%|████▍                                                                         | 787/13971 [01:02<15:48, 13.89it/s]"
     ]
    },
    {
     "name": "stdout",
     "output_type": "stream",
     "text": [
      "初見殺しって最低\u0000\u0000\u0000\u0000\u0000\u0000\u0000\u0000\u0000\u0000\u0000\u0000\u0000\u0000\u0000\u0000\u0000\u0000\u0000\u0000\u0000\u0000\u0000\u0000\u0000\n",
      "5dc425c70070136500ceada5.bcd\n",
      "On/Off Speedrun - Sklar (Hard)\u0000\u0000\u0000\n",
      "5dc425c7007745e200ceadb3.bcd\n",
      "Side Thwomp Sprint Romp\u0000\u0000\u0000\u0000\u0000\u0000\u0000\u0000\u0000\u0000\n",
      "5dc425c70078ed3400ceadb6.bcd\n",
      "Ryan's First Level\u0000\u0000\u0000\u0000\u0000\u0000\u0000\u0000\u0000\u0000\u0000\u0000\u0000\u0000\u0000"
     ]
    },
    {
     "name": "stderr",
     "output_type": "stream",
     "text": [
      "\r",
      "  6%|████▍                                                                         | 789/13971 [01:02<15:47, 13.92it/s]"
     ]
    },
    {
     "name": "stdout",
     "output_type": "stream",
     "text": [
      "\n",
      "5dc425c7007dbdd000ceada7.bcd\n",
      "Twisty Thwomp Romp\u0000\u0000\u0000\u0000\u0000\u0000\u0000\u0000\u0000\u0000\u0000\u0000\u0000\u0000\u0000\n",
      "5dc425c7007df3fd00ceadae.bcd\n",
      "Mario Throws Up\u0000\u0000\u0000\u0000\u0000\u0000\u0000\u0000\u0000\u0000\u0000\u0000\u0000\u0000\u0000\u0000\u0000\u0000\n",
      "5dc425c7009ce7a700ceadb5.bcd\n"
     ]
    },
    {
     "name": "stderr",
     "output_type": "stream",
     "text": [
      "  6%|████▍                                                                         | 794/13971 [01:02<13:45, 15.95it/s]"
     ]
    },
    {
     "name": "stdout",
     "output_type": "stream",
     "text": [
      "【One Screen Puzzle】お助けブラックパックン\u0000\u0000\u0000\n",
      "5dc425c7009d86eb00ceadb2.bcd\n",
      "Beware the Forest's Poison\u0000\u0000\u0000\u0000\u0000\u0000\u0000\n",
      "5dc425c700a0067c00ceadbb.bcd\n",
      "ブロックパズル/Block Puzzle 詰め合わせ +α\u0000\u0000\u0000\u0000\n",
      "5dc425c700a0879d00ceadb0.bcd\n",
      "The Only Three Jump Ruins\u0000\u0000\u0000\u0000\u0000\u0000\u0000\u0000\n",
      "5dc425c700b2b9ec00ceadb7.bcd\n"
     ]
    },
    {
     "name": "stderr",
     "output_type": "stream",
     "text": [
      "\r",
      "  6%|████▍                                                                         | 796/13971 [01:02<16:41, 13.16it/s]"
     ]
    },
    {
     "name": "stdout",
     "output_type": "stream",
     "text": [
      "【Galoomba(クリボン)】Speedrun #1[20s]\u0000\n",
      "5dc425c700b66d7500ceadba.bcd\n",
      "Zelda OoT: Deku Tree\u0000\u0000Deku Tree\u0000\u0000\n",
      "5dc425c700bc70fe00ceada4.bcd\n"
     ]
    },
    {
     "name": "stderr",
     "output_type": "stream",
     "text": [
      "\r",
      "  6%|████▍                                                                         | 798/13971 [01:03<26:58,  8.14it/s]"
     ]
    },
    {
     "name": "stdout",
     "output_type": "stream",
     "text": [
      "Planta Island\u0000\u0000\u0000\u0000\u0000\u0000\u0000\u0000\u0000\u0000\u0000\u0000\u0000\u0000\u0000\u0000\u0000\u0000\u0000\u0000\n",
      "5dc425c700c44fd300ceadbe.bcd\n",
      "The Lost Factory\u0000ll\u0000\u0000\u0000\u0000\u0000\u0000\u0000\u0000\u0000\u0000\u0000\u0000\u0000\u0000\n",
      "5dc425c700c889ff00ceada9.bcd\n",
      "[SMM1]Defeat the Elite Eight/八鍵将\u0000\n",
      "5dc425c700d48d2c00ceadc2.bcd\n"
     ]
    },
    {
     "name": "stderr",
     "output_type": "stream",
     "text": [
      "\r",
      "  6%|████▍                                                                         | 800/13971 [01:03<22:14,  9.87it/s]"
     ]
    },
    {
     "name": "stdout",
     "output_type": "stream",
     "text": [
      "<= SELF-DESTRUCT: ACTIVATED =>\u0000\u0000\u0000\n",
      "5dc425c700d656f500ceada8.bcd\n",
      "Swaying Swamp Launchers\u0000\u0000\u0000\u0000\u0000\u0000\u0000\u0000\u0000\u0000"
     ]
    },
    {
     "name": "stderr",
     "output_type": "stream",
     "text": [
      "\r",
      "  6%|████▍                                                                         | 802/13971 [01:03<25:37,  8.57it/s]"
     ]
    },
    {
     "name": "stdout",
     "output_type": "stream",
     "text": [
      "\n",
      "5dc425c80006a0d600ceadce.bcd\n",
      "Switch-breeze Canyon\u0000\u0000\u0000\u0000\u0000\u0000\u0000\u0000\u0000\u0000\u0000\u0000\u0000\n",
      "5dc425c800249bf800ceadc5.bcd\n"
     ]
    },
    {
     "name": "stderr",
     "output_type": "stream",
     "text": [
      "\r",
      "  6%|████▍                                                                         | 804/13971 [01:04<26:04,  8.42it/s]"
     ]
    },
    {
     "name": "stdout",
     "output_type": "stream",
     "text": [
      "Day One Fun\u0000\u0000\u0000\u0000\u0000\u0000\u0000\u0000\u0000\u0000\u0000\u0000\u0000\u0000\u0000\u0000\u0000\u0000\u0000\u0000\u0000\u0000\n",
      "5dc425c80081a17900ceadcf.bcd\n",
      "The Eight Coins\u0000\u0000er?\u0000\u0000\u0000\u0000\u0000\u0000\u0000\u0000\u0000\u0000\u0000\u0000\u0000\n",
      "5dc425c800820f3e00ceadcd.bcd\n"
     ]
    },
    {
     "name": "stderr",
     "output_type": "stream",
     "text": [
      "\r",
      "  6%|████▍                                                                         | 806/13971 [01:04<25:37,  8.56it/s]"
     ]
    },
    {
     "name": "stdout",
     "output_type": "stream",
     "text": [
      "Escape from the forest Thwomps\u0000\u0000\u0000\n",
      "5dc425c80084280c00ceadc6.bcd\n",
      "よこからドッスンごっつん\u0000\u0000\u0000\u0000\u0000\u0000\u0000\u0000\u0000\u0000\u0000\u0000\u0000\u0000\u0000\u0000\u0000\u0000\u0000\u0000\u0000\n",
      "5dc425c8008f239b00ceadca.bcd\n",
      "Toadettes Winter Adventure\u0000\u0000\u0000\u0000\u0000\u0000\u0000\n",
      "5dc425c800af200f00ceadcb.bcd\n"
     ]
    },
    {
     "name": "stderr",
     "output_type": "stream",
     "text": [
      "  6%|████▌                                                                         | 810/13971 [01:04<24:05,  9.10it/s]"
     ]
    },
    {
     "name": "stdout",
     "output_type": "stream",
     "text": [
      "Eye in the Sky\u0000\u0000\u0000oreshore Forest\u0000\n",
      "5dc425c800c0078800ceadc7.bcd\n",
      "【Bob-omb(ボムへい)】Speedrun #1[20s]\u0000\u0000\n",
      "5dc425c800cfab6000ceadc8.bcd\n",
      "Level 1-1 rotated by 90°\u000090°\u0000\u0000\u0000\u0000\u0000\n",
      "5dc425c800dbaa8300ceadc9.bcd\n",
      "SPEEDY'S ICEY FUN RUN!\u0000\u0000\u0000\u0000\u0000\u0000\u0000\u0000\u0000\u0000\u0000\n",
      "5dc425c800e3775c00ceadd0.bcd\n"
     ]
    },
    {
     "name": "stderr",
     "output_type": "stream",
     "text": [
      "  6%|████▌                                                                         | 814/13971 [01:04<19:17, 11.37it/s]"
     ]
    },
    {
     "name": "stdout",
     "output_type": "stream",
     "text": [
      "Binacle\u0000\u0000\u0000\u0000\u0000\u0000\u0000\u0000\u0000\u0000ue\u0000\u0000\u0000\u0000\u0000\u0000\u0000\u0000\u0000\u0000\u0000\u0000\u0000\u0000\n",
      "5dc425c90050943400ceadd6.bcd\n",
      "ドアに入ってジャンプだ2 Jump from the door2\u0000\n",
      "5dc425c900563ade00ceadd2.bcd\n",
      "Wigglers Mechanized Tree Fort\u0000\u0000\u0000\u0000\n",
      "5dc425c90078a8c000ceadd1.bcd\n"
     ]
    },
    {
     "name": "stderr",
     "output_type": "stream",
     "text": [
      "\r",
      "  6%|████▌                                                                         | 816/13971 [01:05<23:22,  9.38it/s]"
     ]
    },
    {
     "name": "stdout",
     "output_type": "stream",
     "text": [
      "走れ！ちょい難50秒SUPEEDRUN!\u0000N!\u0000N!\u0000UN!\u0000\u0000\u0000\n",
      "5dc425c90080a2c300ceadd4.bcd\n",
      "Twisting Tunnel\u0000\u0000\u0000\u0000\u0000\u0000\u0000\u0000\u0000\u0000\u0000\u0000\u0000\u0000\u0000\u0000\u0000\u0000\n",
      "5dc425c9009ac7c500ceadd5.bcd\n"
     ]
    },
    {
     "name": "stderr",
     "output_type": "stream",
     "text": [
      "\r",
      "  6%|████▌                                                                         | 818/13971 [01:05<22:03,  9.94it/s]"
     ]
    },
    {
     "name": "stdout",
     "output_type": "stream",
     "text": [
      "The Infernal Machine\u0000\u0000\u0000\u0000\u0000\u0000\u0000\u0000\u0000\u0000\u0000\u0000\u0000\n",
      "5dc425c900e004b800ceadd3.bcd\n",
      "babby's first troll\u0000\u0000\u0000\u0000\u0000\u0000\u0000\u0000\u0000\u0000\u0000\u0000\u0000\u0000\n",
      "5dc425e40003801000ceade9.bcd\n",
      "Poison Surfing\u0000\u0000\u0000\u0000\u0000\u0000\u0000\u0000\u0000\u0000\u0000\u0000\u0000\u0000\u0000\u0000\u0000\u0000\u0000\n",
      "5dc425e4000b0fcc00ceade0.bcd\n",
      "Monochromatic Acrobatic\u0000and Bird\u0000\n",
      "5dc425e4002313a100ceade4.bcd\n"
     ]
    },
    {
     "name": "stderr",
     "output_type": "stream",
     "text": [
      "  6%|████▌                                                                         | 823/13971 [01:05<20:06, 10.90it/s]"
     ]
    },
    {
     "name": "stdout",
     "output_type": "stream",
     "text": [
      "Desert Crossing\u0000\u0000\u0000\u0000\u0000\u0000\u0000\u0000\u0000\u0000\u0000\u0000\u0000\u0000\u0000\u0000\u0000\u0000\n",
      "5dc425e400650c6300ceadeb.bcd\n",
      "Switch Block Skyway\u0000\u0000\u0000\u0000\u0000\u0000\u0000\u0000\u0000\u0000\u0000\u0000\u0000\u0000\n",
      "5dc425e40065ca3c00ceade8.bcd\n",
      "Floaty Platform Adventure\u0000\u0000\u0000\u0000\u0000\u0000\u0000\u0000\n",
      "5dc425e4006d030700ceadd7.bcd\n"
     ]
    },
    {
     "name": "stderr",
     "output_type": "stream",
     "text": [
      "\r",
      "  6%|████▌                                                                         | 825/13971 [01:06<20:43, 10.57it/s]"
     ]
    },
    {
     "name": "stdout",
     "output_type": "stream",
     "text": [
      "Snowy Windy Land\u0000\u0000\u0000\u0000\u0000\u0000\u0000\u0000\u0000\u0000\u0000\u0000\u0000\u0000\u0000\u0000\u0000\n",
      "5dc425e4007d7eb200ceade2.bcd\n",
      "Slippery Stalactite\u0000\u0000\u0000\u0000\u0000\u0000\u0000\u0000\u0000\u0000\u0000\u0000\u0000\u0000\n",
      "5dc425e400df583500ceadda.bcd\n"
     ]
    },
    {
     "name": "stderr",
     "output_type": "stream",
     "text": [
      "\r",
      "  6%|████▌                                                                         | 827/13971 [01:06<28:58,  7.56it/s]"
     ]
    },
    {
     "name": "stdout",
     "output_type": "stream",
     "text": [
      "Go fast [40]\u0000\u0000\u0000\u0000\u0000 Don't time out\u0000\n",
      "5dc425e400e0085400ceadd9.bcd\n",
      "Claustrophobia\u0000\u0000\u0000\u0000\u0000\u0000\u0000\u0000\u0000\u0000\u0000\u0000\u0000\u0000\u0000\u0000\u0000\u0000\u0000\n",
      "5dc425e400f5459000ceade7.bcd\n",
      "Indi Rio 2 - Desert Quest 1.0\u0000\u0000\u0000\u0000\n",
      "5dc425e50001556e00ceadf1.bcd\n"
     ]
    },
    {
     "name": "stderr",
     "output_type": "stream",
     "text": [
      "  6%|████▋                                                                         | 832/13971 [01:06<23:44,  9.22it/s]"
     ]
    },
    {
     "name": "stdout",
     "output_type": "stream",
     "text": [
      "Celeste - prologue & 1st chapter\u0000\n",
      "5dc425e5000537b300ceae01.bcd\n",
      "Welcome to AMM Community!\u0000\u0000\u0000\u0000\u0000\u0000\u0000\u0000\n",
      "5dc425e5001ce89a00ceae04.bcd\n",
      "Lost Forest Seclusion\u0000\u0000\u0000\u0000\u0000\u0000\u0000\u0000\u0000\u0000\u0000\u0000\n",
      "5dc425e500239d3400ceadfa.bcd\n",
      "5 hard(ish) keycoins\u0000\u0000\u0000\u0000\u0000\u0000\u0000\u0000\u0000\u0000\u0000\u0000\u0000\n",
      "5dc425e5002ec72f00ceadf2.bcd\n",
      "Reverse Climbing\u0000k\u0000\u0000\u0000\u0000\u0000\u0000\u0000\u0000\u0000\u0000\u0000\u0000\u0000\u0000\u0000\n",
      "5dc425e5002f759b00ceadf3.bcd\n",
      "The arrows don't lie\u0000\u0000\u0000\u0000\u0000\u0000\u0000\u0000\u0000\u0000\u0000\u0000\u0000\n",
      "5dc425e5003d9fd400ceadfc.bcd\n"
     ]
    },
    {
     "name": "stderr",
     "output_type": "stream",
     "text": [
      "  6%|████▋                                                                         | 837/13971 [01:07<17:25, 12.56it/s]"
     ]
    },
    {
     "name": "stdout",
     "output_type": "stream",
     "text": [
      "Escort the Payload: Desert Storm\u0000\n",
      "5dc425e500485ccc00ceadef.bcd\n",
      "Galoomba Grabbing\u0000\u0000\u0000\u0000\u0000\u0000\u0000\u0000\u0000\u0000\u0000\u0000\u0000\u0000\u0000\u0000\n",
      "5dc425e50052fecd00ceae05.bcd\n",
      "Run for it!\u0000\u0000\u0000\u0000\u0000\u0000\u0000\u0000\u0000\u0000\u0000\u0000\u0000\u0000\u0000\u0000\u0000\u0000\u0000\u0000\u0000\u0000\n",
      "5dc425e5005826a600ceadec.bcd\n",
      "レベル2 普通くらい\u0000\u0000\u0000\u0000\u0000\u0000\u0000\u0000\u0000\u0000\u0000\u0000\u0000\u0000\u0000\u0000\u0000\u0000\u0000\u0000\u0000\u0000\u0000\n",
      "5dc425e50058840b00ceadf0.bcd\n",
      "Rainbow Cloud Run \u000020 Sec]\u0000\u0000\u0000\u0000\u0000\u0000\u0000\n",
      "5dc425e5005d363400ceadf4.bcd\n"
     ]
    },
    {
     "name": "stderr",
     "output_type": "stream",
     "text": [
      "  6%|████▋                                                                         | 843/13971 [01:07<12:49, 17.06it/s]"
     ]
    },
    {
     "name": "stdout",
     "output_type": "stream",
     "text": [
      "Collapsing Cavern\u0000\u0000\u0000\u0000\u0000\u0000\u0000\u0000\u0000\u0000\u0000\u0000\u0000\u0000\u0000\u0000\n",
      "5dc425e5005f72cd00ceadf6.bcd\n",
      "Thwomp Racing\u0000\u0000\u0000\u0000ng Adventure\u0000\u0000\u0000\u0000\n",
      "5dc425e500629fa200ceadf7.bcd\n",
      "Actual Climbing\u0000\u0000k\u0000\u0000\u0000\u0000\u0000\u0000\u0000\u0000\u0000\u0000\u0000\u0000\u0000\u0000\u0000\n",
      "5dc425e50066358d00ceadee.bcd\n",
      "The Forgotten Skies\u0000\u0000\u0000\u0000\u0000\u0000\u0000\u0000\u0000\u0000\u0000\u0000\u0000\u0000\n",
      "5dc425e5006eac8e00ceae00.bcd\n",
      "Finals IV: Invitational 2019\u0000\u0000\u0000\u0000\u0000\n",
      "5dc425e50073c87600ceadf5.bcd\n"
     ]
    },
    {
     "name": "stderr",
     "output_type": "stream",
     "text": [
      "\r",
      "  6%|████▋                                                                         | 846/13971 [01:07<13:59, 15.64it/s]"
     ]
    },
    {
     "name": "stdout",
     "output_type": "stream",
     "text": [
      "Heavenly Feeling\u0000\u0000\u0000\u0000\u0000\u0000\u0000\u0000\u0000\u0000\u0000\u0000\u0000\u0000\u0000\u0000\u0000\n",
      "5dc425e50084e5d800ceaded.bcd\n",
      "Perilous Poisonous Speedrun 40s\u0000\u0000\n",
      "5dc425e5008bdcf600ceadff.bcd\n",
      "the switcheroo\u0000\u0000\u0000\u0000\u0000\u0000\u0000\u0000\u0000\u0000\u0000\u0000\u0000\u0000\u0000\u0000\u0000\u0000\u0000\n",
      "5dc425e5008e52cd00ceae09.bcd\n",
      "Crane Acrobatics\u0000\u0000\u0000\u0000\u0000\u0000\u0000\u0000\u0000\u0000\u0000\u0000\u0000\u0000\u0000\u0000\u0000\n",
      "5dc425e500910d7d00ceae02.bcd\n"
     ]
    },
    {
     "name": "stderr",
     "output_type": "stream",
     "text": [
      "  6%|████▊                                                                         | 851/13971 [01:07<14:07, 15.49it/s]"
     ]
    },
    {
     "name": "stdout",
     "output_type": "stream",
     "text": [
      "初めて作ってSPEED RUN\u0000\u0000\u0000\u0000\u0000\u0000\u0000\u0000\u0000\u0000\u0000\u0000\u0000\u0000\u0000\u0000\u0000\u0000\n",
      "5dc425e50093a73a00ceae03.bcd\n",
      "The floor is... Poison?!\u0000\u0000\u0000\u0000\u0000\u0000\u0000\u0000\u0000\n",
      "5dc425e50098154100ceadfe.bcd\n",
      "Keizo: Nothing Special\u0000\u0000\u0000\u0000\u0000\u0000\u0000\u0000\u0000\u0000\u0000\n",
      "5dc425e500a99f1400ceae06.bcd\n",
      "Finde deinen Weg im Wald\u0000\u0000\u0000\u0000\u0000\u0000\u0000\u0000\u0000\n",
      "5dc425e500f2c2ea00ceadf8.bcd\n"
     ]
    },
    {
     "name": "stderr",
     "output_type": "stream",
     "text": [
      "\r",
      "  6%|████▊                                                                         | 854/13971 [01:08<14:08, 15.45it/s]"
     ]
    },
    {
     "name": "stdout",
     "output_type": "stream",
     "text": [
      "Clear condition: Touch the goal\u0000\u0000\n",
      "5dc425e500f7825500ceae08.bcd\n",
      "Speedrun 20s\u0000\u0000\u0000\u0000\u0000\u0000\u0000\u0000\u0000\u0000\u0000\u0000\u0000\u0000\u0000\u0000\u0000\u0000\u0000\u0000\u0000\n",
      "5dc425e60021e88b00ceae0f.bcd\n",
      "Labyrinth of the Moletaurs\u0000\u0000\u0000\u0000\u0000\u0000\u0000\n",
      "5dc425e6006a265300ceae10.bcd\n"
     ]
    },
    {
     "name": "stderr",
     "output_type": "stream",
     "text": [
      "  6%|████▊                                                                         | 859/13971 [01:08<14:31, 15.05it/s]"
     ]
    },
    {
     "name": "stdout",
     "output_type": "stream",
     "text": [
      "My first SPEEDRUN\u0000\u0000\u0000\u0000\u0000\u0000\u0000\u0000\u0000\u0000\u0000\u0000\u0000\u0000\u0000\u0000\n",
      "5dc425e6007b4c1200ceae0a.bcd\n",
      "Skyway\u0000\u0000\u0000\u0000\u0000\u0000\u0000\u0000\u0000\u0000\u0000\u0000\u0000\u0000\u0000\u0000\u0000\u0000\u0000\u0000\u0000\u0000\u0000\u0000\u0000\u0000\u0000\n",
      "5dc425e6009fbc6300ceae12.bcd\n",
      "祝！発売！50seconds speed run\u0000\u0000\u0000\u0000\u0000\u0000\u0000\u0000\u0000\n",
      "5dc425e600b7dfc900ceae0b.bcd\n",
      "Corner Pocket\u0000\u0000\u0000\u0000ship Returns\u0000\u0000\u0000\u0000\n",
      "5dc4261f00001e6b00ceae17.bcd\n"
     ]
    },
    {
     "name": "stderr",
     "output_type": "stream",
     "text": [
      "\r",
      "  6%|████▊                                                                         | 861/13971 [01:08<15:52, 13.77it/s]"
     ]
    },
    {
     "name": "stdout",
     "output_type": "stream",
     "text": [
      "VS Race in the Sky\u0000\u0000\u0000\u0000\u0000\u0000\u0000\u0000\u0000\u0000\u0000\u0000\u0000\u0000\u0000\n",
      "5dc4261f000d5c3400ceae14.bcd\n",
      "Skydiving Dry Bones\u0000nes\u0000\u0000\u0000\u0000\u0000\u0000\u0000\u0000\u0000\u0000\n",
      "5dc4261f00140dfd00ceae25.bcd\n",
      "Mario Olympic Course #3\u0000\u0000\u0000\u0000\u0000\u0000\u0000\u0000\u0000\u0000\n",
      "5dc4261f0020fa9800ceae23.bcd\n"
     ]
    },
    {
     "name": "stderr",
     "output_type": "stream",
     "text": [
      "\r",
      "  6%|████▊                                                                         | 863/13971 [01:08<16:25, 13.30it/s]"
     ]
    },
    {
     "name": "stdout",
     "output_type": "stream",
     "text": [
      "[UN DE PLUS] Bounciness is jank\u0000\u0000\n",
      "5dc4261f00448b8a00ceae1b.bcd\n",
      "Only run! (Only press => + Y)\u0000\u0000\u0000\u0000\n",
      "5dc4261f0059a2f800ceae18.bcd\n"
     ]
    },
    {
     "name": "stderr",
     "output_type": "stream",
     "text": [
      "  6%|████▊                                                                         | 867/13971 [01:09<17:40, 12.36it/s]"
     ]
    },
    {
     "name": "stdout",
     "output_type": "stream",
     "text": [
      "Arcade Pinball\u0000\u0000\u0000\u0000\u0000\u0000\u0000\u0000\u0000\u0000\u0000\u0000\u0000\u0000\u0000\u0000\u0000\u0000\u0000\n",
      "5dc4261f0069ada800ceae1c.bcd\n",
      "~Superball Sniper~\u0000\u0000\u0000\u0000\u0000\u0000\u0000\u0000\u0000\u0000\u0000\u0000\u0000\u0000\u0000\n",
      "5dc4261f0079af0600ceae1d.bcd\n",
      "Breakout! (Arcade Game)\u0000\u0000\u0000\u0000\u0000\u0000\u0000\u0000\u0000\u0000\n",
      "5dc4261f008c1e8a00ceae24.bcd\n",
      "Trickshot Temple\u0000\u0000\u0000\u0000\u0000\u0000\u0000\u0000\u0000\u0000\u0000\u0000\u0000\u0000\u0000\u0000\u0000\n",
      "5dc4261f009b18db00ceae22.bcd\n"
     ]
    },
    {
     "name": "stderr",
     "output_type": "stream",
     "text": [
      "  6%|████▊                                                                         | 872/13971 [01:10<27:43,  7.87it/s]"
     ]
    },
    {
     "name": "stdout",
     "output_type": "stream",
     "text": [
      "Relaxing Mini Puzzle\u0000\u0000\u0000\u0000\u0000\u0000\u0000\u0000\u0000\u0000\u0000\u0000\u0000\n",
      "5dc4261f00a1039e00ceae1f.bcd\n",
      "Inside The Giant Tree\u0000\u0000\u0000\u0000\u0000\u0000\u0000\u0000\u0000\u0000\u0000\u0000\n",
      "5dc4261f00aa7a5600ceae1a.bcd\n",
      "Lost Airship Mission\u0000t\u0000nd Tower\u0000\u0000\n",
      "5dc4261f00ba735400ceae15.bcd\n",
      "[SMMW] W1 Buzzy Basin 1\u0000\u0000\u0000\u0000\u0000\u0000\u0000\u0000\u0000\u0000\n",
      "5dc4261f00c6743300ceae1e.bcd\n",
      "True Friendship\u0000\u0000\u0000\u0000\u0000\u0000\u0000\u0000\u0000\u0000\u0000\u0000\u0000\u0000\u0000\u0000\u0000\u0000\n",
      "5dc4261f00cc962600ceae16.bcd\n"
     ]
    },
    {
     "name": "stderr",
     "output_type": "stream",
     "text": [
      "\r",
      "  6%|████▉                                                                         | 874/13971 [01:10<31:33,  6.92it/s]"
     ]
    },
    {
     "name": "stdout",
     "output_type": "stream",
     "text": [
      "Sandy Claws\u0000\u0000\u0000\u0000\u0000\u0000\u0000\u0000\u0000\u0000\u0000\u0000\u0000\u0000\u0000\u0000\u0000\u0000\u0000\u0000\u0000\u0000\n",
      "5dc4261f00d6b51f00ceae21.bcd\n",
      "Lucky Hit 2: Electric Boogaloo  \u0000\n",
      "5dc4262000091ffe00ceae27.bcd\n"
     ]
    },
    {
     "name": "stderr",
     "output_type": "stream",
     "text": [
      "  6%|████▉                                                                         | 880/13971 [01:10<23:37,  9.23it/s]"
     ]
    },
    {
     "name": "stdout",
     "output_type": "stream",
     "text": [
      "ON/OFF #2\u0000\u0000\u0000\u0000\u0000\u0000\u0000\u0000\u0000\u0000\u0000\u0000\u0000\u0000\u0000\u0000\u0000\u0000\u0000\u0000\u0000\u0000\u0000\u0000\n",
      "5dc426200009d35300ceae3a.bcd\n",
      "エンダ式全自動化ステージPart2\u0000\u0000\u0000\u0000\u0000\u0000\u0000\u0000\u0000\u0000\u0000\u0000\u0000\u0000\u0000\u0000\n",
      "5dc4262000120efe00ceae28.bcd\n",
      "サルベージ！深海に眠る沈没船\u0000\u0000一庭園\u0000\u0000\u0000\u0000\u0000\u0000\u0000\u0000\u0000\u0000\u0000\u0000\u0000\u0000\n",
      "5dc4262000264fd700ceae2d.bcd\n",
      "Climbing the Desert Ruins (VS)\u0000\u0000\u0000\n",
      "5dc426200040946000ceae33.bcd\n",
      "We Are Number 1 but read desc.\u0000\u0000\u0000\n",
      "5dc42620007d97f700ceae26.bcd\n",
      "Tricky tricky castle ;)\u0000\u0000\u0000\u0000\u0000\u0000\u0000\u0000\u0000\u0000\n",
      "5dc426200082ff4500ceae29.bcd\n"
     ]
    },
    {
     "name": "stderr",
     "output_type": "stream",
     "text": [
      "\r",
      "  6%|████▉                                                                         | 882/13971 [01:10<21:27, 10.17it/s]"
     ]
    },
    {
     "name": "stdout",
     "output_type": "stream",
     "text": [
      "Bouncing Superballs\u0000\u0000\u0000\u0000\u0000\u0000\u0000\u0000\u0000\u0000\u0000\u0000\u0000\u0000\n",
      "5dc426200085f70a00ceae34.bcd\n",
      "The big airship\u0000\u0000irship!\u0000\u0000\u0000\u0000\u0000\u0000\u0000\u0000\u0000\n",
      "5dc4262000930ba900ceae2e.bcd\n"
     ]
    },
    {
     "name": "stderr",
     "output_type": "stream",
     "text": [
      "  6%|████▉                                                                         | 886/13971 [01:11<19:37, 11.11it/s]"
     ]
    },
    {
     "name": "stdout",
     "output_type": "stream",
     "text": [
      "Dry Dry Desert\u0000\u0000\u0000\u0000\u0000\u0000\u0000\u0000\u0000\u0000\u0000\u0000\u0000\u0000\u0000\u0000\u0000\u0000\u0000\n",
      "5dc4262000969c5f00ceae36.bcd\n",
      "X = 9 RETURNS!!!\u0000\u0000\u0000\u0000\u0000\u0000\u0000\u0000\u0000\u0000\u0000\u0000\u0000\u0000\u0000\u0000\u0000\n",
      "5dc4262000ac7ddd00ceae38.bcd\n",
      "Uno Mas: Quantum Uncertainty\u0000\u0000\u0000\u0000\u0000\n",
      "5dc4262000b3c9f100ceae32.bcd\n",
      "Corner Pocket 2: Bounce Boogaloo\u0000\n",
      "5dc4262000c27c6700ceae35.bcd\n"
     ]
    },
    {
     "name": "stderr",
     "output_type": "stream",
     "text": [
      "\r",
      "  6%|████▉                                                                         | 888/13971 [01:11<17:55, 12.16it/s]"
     ]
    },
    {
     "name": "stdout",
     "output_type": "stream",
     "text": [
      "Superball Flower Puzzles\u0000\u0000\u0000\u0000\u0000\u0000\u0000\u0000\u0000\n",
      "5dc4262000c73a4100ceae37.bcd\n",
      "King Wiggler's Forest Stronghold\u0000\n",
      "5dc4262000cc3f0b00ceae39.bcd\n"
     ]
    },
    {
     "name": "stderr",
     "output_type": "stream",
     "text": [
      "\r",
      "  6%|████▉                                                                         | 890/13971 [01:11<19:29, 11.19it/s]"
     ]
    },
    {
     "name": "stdout",
     "output_type": "stream",
     "text": [
      "Koopa et Trampoline (auto)\u0000\u0000\u0000\u0000\u0000\u0000\u0000\n",
      "5dc4262000d2077a00ceae2f.bcd\n",
      "Legend of Zelda 2 - Palace 1\u0000\u0000\u0000\u0000\u0000\n",
      "5dc4262000d9d9cf00ceae2a.bcd\n"
     ]
    },
    {
     "name": "stderr",
     "output_type": "stream",
     "text": [
      "  6%|████▉                                                                         | 894/13971 [01:12<22:22,  9.74it/s]"
     ]
    },
    {
     "name": "stdout",
     "output_type": "stream",
     "text": [
      "The Only Way Is Up!\u0000 Red Coins!\u0000\u0000\n",
      "5dc4262000fbd14000ceae2b.bcd\n",
      "Room Replicas\u0000\u0000\u0000\u0000\u0000\u0000\u0000\u0000\u0000\u0000\u0000\u0000\u0000\u0000\u0000\u0000\u0000\u0000\u0000\u0000\n",
      "5dc426210001d18400ceae49.bcd\n",
      "◆◇GameBoy Mario◇◆\u0000\u0000\u0000\u0000\u0000\u0000\u0000\u0000\u0000\u0000\u0000\u0000\u0000\u0000\u0000\u0000\n",
      "5dc4262100048ac100ceae3f.bcd\n"
     ]
    },
    {
     "name": "stderr",
     "output_type": "stream",
     "text": [
      "\r",
      "  6%|█████                                                                         | 896/13971 [01:12<22:04,  9.87it/s]"
     ]
    },
    {
     "name": "stdout",
     "output_type": "stream",
     "text": [
      "ColdClimb to Bowser Jr.'s Castle\u0000\n",
      "5dc42621000596b500ceae46.bcd\n",
      "Downwards Dash\u0000\u0000\u00001\u0000\u0000\u0000\u0000\u0000\u0000\u0000\u0000\u0000\u0000\u0000\u0000\u0000\u0000\u0000\n",
      "5dc42621000b0f4300ceae4c.bcd\n",
      "(1-1)～(1-4)再現ステージ\u0000\u0000\u0000\u0000\u0000\u0000\u0000\u0000\u0000\u0000\u0000\u0000\u0000\u0000\u0000\u0000\n",
      "5dc42621001d810400ceae43.bcd\n"
     ]
    },
    {
     "name": "stderr",
     "output_type": "stream",
     "text": [
      "  6%|█████                                                                         | 900/13971 [01:12<17:41, 12.31it/s]"
     ]
    },
    {
     "name": "stdout",
     "output_type": "stream",
     "text": [
      "Boom Boom's Basement Brawl\u0000wer\u0000\u0000\u0000\n",
      "5dc42621003d2f8400ceae42.bcd\n",
      "Leaky Pipes Land\u0000\u0000\u0000\u0000\u0000\u0000\u0000\u0000\u0000\u0000\u0000\u0000\u0000\u0000\u0000\u0000\u0000\n",
      "5dc42621005110ac00ceae45.bcd\n",
      "The Temple of Mechanis\u0000\u0000\u0000\u0000\u0000\u0000\u0000\u0000\u0000\u0000\u0000\n",
      "5dc4262100515b8c00ceae41.bcd\n"
     ]
    },
    {
     "name": "stderr",
     "output_type": "stream",
     "text": [
      "\r",
      "  6%|█████                                                                         | 902/13971 [01:12<16:46, 12.99it/s]"
     ]
    },
    {
     "name": "stdout",
     "output_type": "stream",
     "text": [
      "[4-Player] Clumsy Cloud Climb!\u0000\u0000\u0000\n",
      "5dc426210078ba6000ceae40.bcd\n",
      "Town of Thievery\u0000\u0000\u0000\u0000\u0000\u0000\u0000\u0000\u0000\u0000\u0000\u0000\u0000\u0000\u0000\u0000\u0000\n",
      "5dc42621008b375500ceae3c.bcd\n",
      "スイッチレース\u0000\u0000\u0000\u0000\u0000\u0000\u0000\u0000\u0000\u0000\u0000\u0000\u0000\u0000\u0000\u0000\u0000\u0000\u0000\u0000\u0000\u0000\u0000\u0000\u0000\u0000"
     ]
    },
    {
     "name": "stderr",
     "output_type": "stream",
     "text": [
      "  6%|█████                                                                         | 906/13971 [01:13<16:56, 12.85it/s]"
     ]
    },
    {
     "name": "stdout",
     "output_type": "stream",
     "text": [
      "\n",
      "5dc4262100984e7400ceae44.bcd\n",
      "narly!\u0000\u0000\u0000\u0000\u0000\u0000\u0000\u0000\u0000\u0000\u0000own\u0000\u0000\u0000\u0000\u0000\u0000\u0000\u0000\u0000\u0000\u0000\u0000\u0000\n",
      "5dc4262100af642800ceae48.bcd\n",
      "To the moon!\u0000\u0000\u0000\u0000\u0000\u0000\u0000\u0000\u0000\u0000\u0000\u0000\u0000\u0000\u0000\u0000\u0000\u0000\u0000\u0000\u0000\n",
      "5dc4262100cbd83000ceae4a.bcd\n",
      "全自動1-1 / Automatic 1-1\u0000\u0000\u0000\u0000\u0000\u0000\u0000\u0000\u0000\u0000\u0000\n",
      "5dc4262100cbe7f900ceae3b.bcd\n"
     ]
    },
    {
     "name": "stderr",
     "output_type": "stream",
     "text": [
      "\r",
      "  6%|█████                                                                         | 908/13971 [01:13<18:10, 11.98it/s]"
     ]
    },
    {
     "name": "stdout",
     "output_type": "stream",
     "text": [
      "Cool, Cool Mountain [3-in-1]\u0000\u0000\u0000\u0000\u0000\n",
      "5dc4262100ce432200ceae3e.bcd\n",
      "Ghosthouse #4678 - ΠΕΓΡ ΣΕ  \u0000\u0000\u0000\u0000\u0000\n",
      "5dc4262100f5c8ef00ceae4d.bcd\n"
     ]
    },
    {
     "name": "stderr",
     "output_type": "stream",
     "text": [
      "\r",
      "  7%|█████                                                                         | 910/13971 [01:13<23:08,  9.41it/s]"
     ]
    },
    {
     "name": "stdout",
     "output_type": "stream",
     "text": [
      "The Mirror Puzzles; number 3\u0000\u0000\u0000\u0000\u0000\n",
      "5dc4262100fe165600ceae47.bcd\n",
      "Galactic Gravity Gauntlet\u0000\u0000\u0000\u0000\u0000\u0000\u0000\u0000\n",
      "5dc4262200405f9000ceae4e.bcd\n"
     ]
    },
    {
     "name": "stderr",
     "output_type": "stream",
     "text": [
      "\r",
      "  7%|█████                                                                         | 912/13971 [01:13<25:34,  8.51it/s]"
     ]
    },
    {
     "name": "stdout",
     "output_type": "stream",
     "text": [
      "Golden Snow\u0000\u0000\u0000\u0000\u0000\u0000\u0000\u0000\u0000\u0000\u0000\u0000\u0000\u0000\u0000\u0000\u0000\u0000\u0000\u0000\u0000\u0000\n",
      "5dc426380000a14d00ceae5d.bcd\n",
      "Forgotten Jungle Ruins\u0000\u0000\u0000\u0000\u0000\u0000\u0000\u0000\u0000\u0000\u0000\n",
      "5dc42638000ee44100ceae5c.bcd\n",
      "[SMMW] W1 Buzzy Bunker\u0000\u0000\u0000\u0000\u0000\u0000\u0000\u0000\u0000\u0000\u0000\n",
      "5dc42638001bc73100ceae51.bcd\n"
     ]
    },
    {
     "name": "stderr",
     "output_type": "stream",
     "text": [
      "\r",
      "  7%|█████                                                                         | 914/13971 [01:13<22:00,  9.88it/s]"
     ]
    },
    {
     "name": "stdout",
     "output_type": "stream",
     "text": [
      "WarioWare Smooth Moves \u0000\u0000\u0000\u0000\u0000\u0000\u0000\u0000\u0000\u0000\n",
      "5dc4263800232d3100ceae57.bcd\n"
     ]
    },
    {
     "name": "stderr",
     "output_type": "stream",
     "text": [
      "\r",
      "  7%|█████                                                                         | 916/13971 [01:14<27:14,  7.99it/s]"
     ]
    },
    {
     "name": "stdout",
     "output_type": "stream",
     "text": [
      "Icicle Pressure Plates :0\u0000\u0000\u0000\u0000\u0000\u0000\u0000\u0000\n",
      "5dc4263800271bb200ceae59.bcd\n",
      "Whack-a-mole\u0000\u0000\u0000\u0000\u0000\u0000\u0000\u0000\u0000\u0000\u0000\u0000\u0000\u0000\u0000\u0000\u0000\u0000\u0000\u0000\u0000\n",
      "5dc426380043dfc800ceae5b.bcd\n",
      "World 9-4\u0000\u0000\u0000\u0000\u0000\u0000\u0000\u0000\u0000\u0000\u0000\u0000\u0000\u0000\u0000\u0000\u0000\u0000\u0000\u0000\u0000\u0000\u0000\u0000\n",
      "5dc426380063f0f300ceae53.bcd\n"
     ]
    },
    {
     "name": "stderr",
     "output_type": "stream",
     "text": [
      "\r",
      "  7%|█████▏                                                                        | 919/13971 [01:14<22:41,  9.58it/s]"
     ]
    },
    {
     "name": "stdout",
     "output_type": "stream",
     "text": [
      "遠隔操作の達人 Remote control master\u0000\u0000\u0000\u0000\n",
      "5dc426380071c88a00ceae5a.bcd\n",
      "Super Metroid Bros\u0000\u0000\u0000\u0000\u0000\u0000\u0000\u0000\u0000\u0000\u0000\u0000\u0000\u0000\u0000\n",
      "5dc42638007c91d100ceae52.bcd\n",
      "Ascent to Beetle Mountain\u0000\u0000\u0000\u0000\u0000\u0000\u0000\u0000\n",
      "5dc42638008b3a4600ceae56.bcd\n",
      "Desert Trek\u0000\u0000\u0000\u0000\u0000\u0000\u0000\u0000\u0000\u0000\u0000\u0000\u0000\u0000\u0000\u0000\u0000\u0000\u0000\u0000\u0000\u0000\n",
      "5dc4263800cf315b00ceae54.bcd\n"
     ]
    },
    {
     "name": "stderr",
     "output_type": "stream",
     "text": [
      "  7%|█████▏                                                                        | 926/13971 [01:14<17:57, 12.10it/s]"
     ]
    },
    {
     "name": "stdout",
     "output_type": "stream",
     "text": [
      "New One-Screen Puzzle#1/　1画面パズル\u0000\u0000\n",
      "5dc4263800d2c60200ceae4f.bcd\n",
      "HamaWR 1-3\u0000\u0000\u0000\u0000\u0000\u0000\u0000\u0000\u0000\u0000\u0000\u0000\u0000\u0000\u0000\u0000\u0000\u0000\u0000\u0000\u0000\u0000\u0000\n",
      "5dc4263800da4a7600ceae5f.bcd\n",
      "That Goomba Had A Family\u0000\u0000\u0000\u0000\u0000\u0000\u0000\u0000\u0000\n",
      "5dc426390005cb9f00ceae6b.bcd\n",
      "World 2-3-2-4\u0000\u0000\u0000\u0000\u0000\u0000\u0000\u0000\u0000\u0000\u0000\u0000\u0000\u0000\u0000\u0000\u0000\u0000\u0000\u0000\n",
      "5dc426390018f90e00ceae72.bcd\n",
      "Searchlight Shenanigans\u0000\u0000\u0000\u0000\u0000\u0000\u0000\u0000\u0000\u0000\n",
      "5dc4263900340f4300ceae64.bcd\n",
      "[SMMW] W2 Torte Hills 1\u0000\u0000\u0000\u0000\u0000\u0000\u0000\u0000\u0000\u0000\n",
      "5dc426390063502d00ceae63.bcd\n"
     ]
    },
    {
     "name": "stderr",
     "output_type": "stream",
     "text": [
      "\r",
      "  7%|█████▏                                                                        | 928/13971 [01:15<20:32, 10.58it/s]"
     ]
    },
    {
     "name": "stdout",
     "output_type": "stream",
     "text": [
      "Super Castlevania Bros\u0000\u0000\u0000\u0000\u0000\u0000\u0000\u0000\u0000\u0000\u0000\n",
      "5dc42639006ab2af00ceae62.bcd\n",
      "困ったときの矢印頼み / Follow the Arrow\u0000y\u0000\u0000\n",
      "5dc42639007f10e800ceae65.bcd\n"
     ]
    },
    {
     "name": "stderr",
     "output_type": "stream",
     "text": [
      "  7%|█████▏                                                                        | 932/13971 [01:15<20:51, 10.42it/s]"
     ]
    },
    {
     "name": "stdout",
     "output_type": "stream",
     "text": [
      "たとえ みちが みえずとも　Invisible Skyway\u0000\u0000\u0000\n",
      "5dc4263900972bfa00ceae6e.bcd\n",
      "Zelda OoT: Dodongo's Cavern\u0000BU\u0000\u0000\u0000\n",
      "5dc4263900a6f97100ceae66.bcd\n",
      "The Flooding Of The Lush Jungle\u0000\u0000\n",
      "5dc4263900ab008700ceae68.bcd\n"
     ]
    },
    {
     "name": "stderr",
     "output_type": "stream",
     "text": [
      "\r",
      "  7%|█████▏                                                                        | 934/13971 [01:15<25:37,  8.48it/s]"
     ]
    },
    {
     "name": "stdout",
     "output_type": "stream",
     "text": [
      "Escape Wiggler's Woods!\u0000\u0000\u0000\u0000\u0000\u0000\u0000\u0000\u0000\u0000\n",
      "5dc4263900afa76e00ceae6c.bcd\n",
      "Secrets of the Frozen Spire \u0000\u0000\u0000\u0000\u0000\n",
      "5dc4263900b33cba00ceae73.bcd\n"
     ]
    },
    {
     "name": "stderr",
     "output_type": "stream",
     "text": [
      "  7%|█████▏                                                                        | 936/13971 [01:16<26:26,  8.22it/s]"
     ]
    },
    {
     "name": "stdout",
     "output_type": "stream",
     "text": [
      "*DKC3 Ripsaw Rage - ハラハラのこぎり\u0000\u0000\u0000\u0000\u0000\n",
      "5dc4263900b9a3c100ceae70.bcd\n",
      "Trained Spooks\u0000\u0000\u0000-1\u0000\u0000\u0000\u0000\u0000\u0000\u0000\u0000\u0000\u0000\u0000\u0000\u0000\u0000\n",
      "5dc4263900bae3b400ceae6a.bcd\n",
      "Flooded Pipeworks\u0000\u0000\u0000\u0000\u0000\u0000\u0000\u0000\u0000\u0000\u0000\u0000\u0000\u0000\u0000\u0000"
     ]
    },
    {
     "name": "stderr",
     "output_type": "stream",
     "text": [
      "\r",
      "  7%|█████▏                                                                        | 938/13971 [01:16<22:28,  9.66it/s]"
     ]
    },
    {
     "name": "stdout",
     "output_type": "stream",
     "text": [
      "\n",
      "5dc4263900c43fa400ceae6d.bcd\n",
      "Metroid World: Legend of Samus\u0000\u0000\u0000\n",
      "5dc4263900c5e84000ceae67.bcd\n",
      "Bob-omb house of boom\u0000\u0000\u0000\u0000\u0000\u0000\u0000\u0000\u0000\u0000\u0000\u0000"
     ]
    },
    {
     "name": "stderr",
     "output_type": "stream",
     "text": [
      "\r",
      "  7%|█████▏                                                                        | 940/13971 [01:16<21:40, 10.02it/s]"
     ]
    },
    {
     "name": "stdout",
     "output_type": "stream",
     "text": [
      "\n",
      "5dc4263900c8117600ceae61.bcd\n",
      "Peak Performance\u0000bell\u0000\u0000\u0000\u0000\u0000\u0000\u0000\u0000\u0000\u0000\u0000\u0000\n",
      "5dc4263900ca52ba00ceae6f.bcd\n",
      "Super Metroid Bros.\u0000\u0000\u0000\u0000\u0000\u0000\u0000\u0000\u0000\u0000\u0000\u0000\u0000\u0000\n",
      "5dc4263900da6a5500ceae60.bcd\n"
     ]
    },
    {
     "name": "stderr",
     "output_type": "stream",
     "text": [
      "\r",
      "  7%|█████▎                                                                        | 942/13971 [01:16<21:02, 10.32it/s]"
     ]
    },
    {
     "name": "stdout",
     "output_type": "stream",
     "text": [
      "Two-State Temple \u0000\u0000\u0000\u0000\u0000\u0000\u0000\u0000\u0000\u0000\u0000\u0000\u0000\u0000\u0000\u0000\n",
      "5dc4263a000495a900ceae87.bcd\n",
      "City of Pipes: Pink Coins \u0000\u0000\u0000\u0000\u0000\u0000\u0000\n",
      "5dc4263a003c6fc800ceae77.bcd\n"
     ]
    },
    {
     "name": "stderr",
     "output_type": "stream",
     "text": [
      "  7%|█████▎                                                                        | 946/13971 [01:16<19:08, 11.34it/s]"
     ]
    },
    {
     "name": "stdout",
     "output_type": "stream",
     "text": [
      "Nature Scratch\u0000\u0000\u0000g\u0000\u0000\u0000\u0000\u0000\u0000\u0000\u0000\u0000\u0000\u0000\u0000\u0000\u0000\u0000\n",
      "5dc4263a00454b7d00ceae81.bcd\n",
      "Detective Mario\u0000\u0000 Evil Mole Lair\u0000\n",
      "5dc4263a004bd1e400ceae82.bcd\n",
      "Kid Icarus (Underworld)\u0000CPY\u0000\u0000\u0000\u0000\u0000\u0000\n",
      "5dc4263a004e0ecb00ceae79.bcd\n",
      "Shadow Temple\u0000\u0000\u0000\u0000t\u0000\u0000\u0000\u0000\u0000\u0000\u0000\u0000\u0000\u0000\u0000\u0000\u0000\u0000\u0000"
     ]
    },
    {
     "name": "stderr",
     "output_type": "stream",
     "text": [
      "\r",
      "  7%|█████▎                                                                        | 948/13971 [01:17<17:27, 12.43it/s]"
     ]
    },
    {
     "name": "stdout",
     "output_type": "stream",
     "text": [
      "\n",
      "5dc4263a006dd12b00ceae78.bcd\n",
      "ServerCrash\u0000\u0000\u0000\u0000\u0000\u0000\u0000\u0000\u0000\u0000\u0000\u0000\u0000\u0000\u0000\u0000\u0000\u0000\u0000\u0000\u0000\u0000\n",
      "5dc4263a0079962000ceae88.bcd\n",
      "Olimar's Pikmin Adventure\u0000\u0000\u0000\u0000\u0000\u0000\u0000\u0000\n",
      "5dc4263a00828e9c00ceae7b.bcd\n"
     ]
    },
    {
     "name": "stderr",
     "output_type": "stream",
     "text": [
      "\r",
      "  7%|█████▎                                                                        | 950/13971 [01:17<17:26, 12.45it/s]"
     ]
    },
    {
     "name": "stdout",
     "output_type": "stream",
     "text": [
      "Dangerous Desert Temple\u0000\u0000\u0000\u0000\u0000\u0000\u0000\u0000\u0000\u0000\n",
      "5dc4263a009e354a00ceae80.bcd\n"
     ]
    },
    {
     "name": "stderr",
     "output_type": "stream",
     "text": [
      "\r",
      "  7%|█████▎                                                                        | 952/13971 [01:17<22:43,  9.55it/s]"
     ]
    },
    {
     "name": "stdout",
     "output_type": "stream",
     "text": [
      "Storm-bound Shipment\u0000\u0000\u0000\u0000\u0000\u0000\u0000\u0000\u0000\u0000\u0000\u0000\u0000\n",
      "5dc4263a009f79b000ceae7f.bcd\n",
      "The Mystery of Luster Lake\u0000e \u0000\u0000\u0000\u0000\n",
      "5dc4263a00a1169800ceae76.bcd\n",
      "Kaizo Clawllege: Swing of Things\u0000\n",
      "5dc4263a00ac0da300ceae85.bcd\n"
     ]
    },
    {
     "name": "stderr",
     "output_type": "stream",
     "text": [
      "\r",
      "  7%|█████▎                                                                        | 954/13971 [01:17<21:55,  9.89it/s]"
     ]
    },
    {
     "name": "stdout",
     "output_type": "stream",
     "text": [
      "Glacial Glide\u0000\u0000\u0000\u0000\u0000\u0000\u0000\u0000\u0000\u0000\u0000\u0000\u0000\u0000\u0000\u0000\u0000\u0000\u0000\u0000\n",
      "5dc4263a00b4f73c00ceae7d.bcd\n",
      "Your very own running coach\u0000\u0000\u0000\u0000\u0000\u0000\n",
      "5dc4263a00b6ad3f00ceae74.bcd\n"
     ]
    },
    {
     "name": "stderr",
     "output_type": "stream",
     "text": [
      "\r",
      "  7%|█████▎                                                                        | 956/13971 [01:17<22:13,  9.76it/s]"
     ]
    },
    {
     "name": "stdout",
     "output_type": "stream",
     "text": [
      "Travel in a frozen cavern\u0000\u0000\u0000\u0000\u0000\u0000\u0000\u0000\n",
      "5dc4263a00bc3d0f00ceae7c.bcd\n",
      "[Super Mario Generations] 1-4\u0000\u0000\u0000\u0000\n",
      "5dc4263a00db2b9a00ceae75.bcd\n"
     ]
    },
    {
     "name": "stderr",
     "output_type": "stream",
     "text": [
      "\r",
      "  7%|█████▎                                                                        | 958/13971 [01:18<23:22,  9.28it/s]"
     ]
    },
    {
     "name": "stdout",
     "output_type": "stream",
     "text": [
      "Ascending the Mountain\u0000\u0000\u0000\u0000\u0000\u0000\u0000\u0000\u0000\u0000\u0000\n",
      "5dc4263a00f0d5ce00ceae7e.bcd\n"
     ]
    },
    {
     "name": "stderr",
     "output_type": "stream",
     "text": [
      "  7%|█████▎                                                                        | 960/13971 [01:18<32:57,  6.58it/s]"
     ]
    },
    {
     "name": "stdout",
     "output_type": "stream",
     "text": [
      "Night of the Frigid Dead\u0000\u0000\u0000\u0000\u0000\u0000\u0000\u0000\u0000\n",
      "5dc4263b001b077400ceae89.bcd\n",
      "The Tower of the Angry Sun\u0000\u0000\u0000\u0000\u0000\u0000\u0000\n",
      "5dc4263b00cfb17c00ceae8a.bcd\n"
     ]
    },
    {
     "name": "stderr",
     "output_type": "stream",
     "text": [
      "\r",
      "  7%|█████▎                                                                        | 962/13971 [01:18<29:38,  7.31it/s]"
     ]
    },
    {
     "name": "stdout",
     "output_type": "stream",
     "text": [
      "World 6 - 1 | Monty Mountain\u0000 \u0000\u0000\u0000\n",
      "5dc42654000c57e000ceae9a.bcd\n",
      "Simple Unreversed Speedrun [20s]\u0000\n",
      "5dc426540016c34700ceae94.bcd\n"
     ]
    },
    {
     "name": "stderr",
     "output_type": "stream",
     "text": [
      "\r",
      "  7%|█████▍                                                                        | 964/13971 [01:19<27:03,  8.01it/s]"
     ]
    },
    {
     "name": "stdout",
     "output_type": "stream",
     "text": [
      "Battle Roulette 2: The Revenge\u0000\u0000\u0000\n",
      "5dc426540039260800ceae8c.bcd\n",
      "Pearly Gate Blitz\u0000\u0000\u0000\u0000\u0000\u0000\u0000\u0000\u0000\u0000\u0000\u0000\u0000\u0000\u0000\u0000\n",
      "5dc426540041e4bb00ceae96.bcd\n"
     ]
    },
    {
     "name": "stderr",
     "output_type": "stream",
     "text": [
      "  7%|█████▍                                                                        | 967/13971 [01:19<24:43,  8.76it/s]"
     ]
    },
    {
     "name": "stdout",
     "output_type": "stream",
     "text": [
      "Purgatory in 8-2\u0000\u0000\u0000\u0000\u0000\u0000\u0000\u0000\u0000\u0000\u0000\u0000\u0000\u0000\u0000\u0000\u0000\n",
      "5dc42654005d15da00ceae8e.bcd\n",
      "◆ Serene Swing Mansion ◆\u0000◆\u0000\u0000\u0000\u0000\u0000\u0000\u0000\n",
      "5dc42654006f7cf500ceae97.bcd\n",
      "【Galoomba(クリボン)】Speedrun #4[20s]\u0000\n",
      "5dc426540070cb7400ceae8f.bcd\n"
     ]
    },
    {
     "name": "stderr",
     "output_type": "stream",
     "text": [
      "\r",
      "  7%|█████▍                                                                        | 970/13971 [01:19<22:21,  9.69it/s]"
     ]
    },
    {
     "name": "stdout",
     "output_type": "stream",
     "text": [
      "WELL... DOWN - Vertical Survival\u0000\n",
      "5dc4265400b50cdf00ceae93.bcd\n",
      "♪Rhythm Challenge: Gourmet Race♪\u0000\n",
      "5dc4265400bee1b900ceae92.bcd\n",
      "Binding Coil of Bahamut: Turn 5\u0000\u0000\n",
      "5dc4265400f15cdd00ceae90.bcd\n"
     ]
    },
    {
     "name": "stderr",
     "output_type": "stream",
     "text": [
      "\r",
      "  7%|█████▍                                                                        | 972/13971 [01:19<19:37, 11.04it/s]"
     ]
    },
    {
     "name": "stdout",
     "output_type": "stream",
     "text": [
      "Frozen Tower\u0000\u0000\u0000\u0000\u0000\u0000\u0000\u0000\u0000\u0000\u0000\u0000\u0000\u0000\u0000\u0000\u0000\u0000\u0000\u0000\u0000\n",
      "5dc4265500025a4800ceaeac.bcd\n",
      "Celeste: Chapter 3\u0000\u0000\u0000\u0000\u0000\u0000\u0000\u0000\u0000\u0000\u0000\u0000\u0000\u0000\u0000\n",
      "5dc42655000b4dfe00ceaea9.bcd\n",
      "The Very Varying Tower\u0000\u0000\u0000\u0000\u0000\u0000\u0000\u0000\u0000\u0000\u0000\n",
      "5dc42655002d5b3200ceae9d.bcd\n"
     ]
    },
    {
     "name": "stderr",
     "output_type": "stream",
     "text": [
      "\r",
      "  7%|█████▍                                                                        | 974/13971 [01:20<28:37,  7.57it/s]"
     ]
    },
    {
     "name": "stdout",
     "output_type": "stream",
     "text": [
      "Madlad Mayhem\u0000\u0000\u0000\u0000\u0000\u0000\u0000\u0000\u0000\u0000\u0000\u0000\u0000\u0000\u0000\u0000\u0000\u0000\u0000\u0000\n",
      "5dc42655003576b800ceaea5.bcd\n"
     ]
    },
    {
     "name": "stderr",
     "output_type": "stream",
     "text": [
      "  7%|█████▍                                                                        | 977/13971 [01:20<32:34,  6.65it/s]"
     ]
    },
    {
     "name": "stdout",
     "output_type": "stream",
     "text": [
      "Alphabet Soup\u0000\u0000\u0000\u0000\u0000\u0000\u0000\u0000\u0000\u0000\u0000\u0000\u0000\u0000\u0000\u0000\u0000\u0000\u0000\u0000\n",
      "5dc4265500492f2100ceae9f.bcd\n",
      "THE STALKER\u0000\u0000\u0000\u0000\u0000\u0000\u0000\u0000\u0000\u0000\u0000\u0000\u0000\u0000\u0000\u0000\u0000\u0000\u0000\u0000\u0000\u0000\n",
      "5dc42655004e218700ceaea3.bcd\n",
      "Warioware 2: Electric Boogaloo\u0000\u0000\u0000"
     ]
    },
    {
     "name": "stderr",
     "output_type": "stream",
     "text": [
      "\r",
      "  7%|█████▍                                                                        | 978/13971 [01:20<32:31,  6.66it/s]"
     ]
    },
    {
     "name": "stdout",
     "output_type": "stream",
     "text": [
      "\n",
      "5dc426550056cd5800ceaea8.bcd\n",
      "The Desert Run [20Sec]\u0000\u0000\u0000\u0000\u0000\u0000\u0000\u0000\u0000\u0000\u0000\n",
      "5dc42655005c941f00ceaea2.bcd\n"
     ]
    },
    {
     "name": "stderr",
     "output_type": "stream",
     "text": [
      "  7%|█████▍                                                                        | 981/13971 [01:21<40:10,  5.39it/s]"
     ]
    },
    {
     "name": "stdout",
     "output_type": "stream",
     "text": [
      "Stickerbush Swing\u0000\u0000\u0000\u0000\u0000\u0000\u0000\u0000\u0000\u0000\u0000\u0000\u0000\u0000\u0000\u0000\n",
      "5dc42655007873f700ceaea4.bcd\n",
      "Ghost House Challenge\u0000\u0000\u0000\u0000\u0000\u0000\u0000\u0000\u0000\u0000\u0000\u0000\n",
      "5dc426550079b05b00ceaeab.bcd\n",
      "Banzai Bounce\u0000\u0000\u0000\u0000\u0000\u0000\u0000\u0000\u0000\u0000\u0000\u0000\u0000\u0000\u0000\u0000\u0000\u0000\u0000\u0000\n",
      "5dc42655007fe79b00ceae9b.bcd\n",
      "METROID's Return of Bowser Brain\u0000\n",
      "5dc42655009dd3a100ceaeae.bcd\n",
      "Ancient City of Krakenpolis\u0000\u0000\u0000\u0000\u0000\u0000\n",
      "5dc4265500a476aa00ceaea0.bcd\n"
     ]
    },
    {
     "name": "stderr",
     "output_type": "stream",
     "text": [
      "  7%|█████▌                                                                        | 986/13971 [01:21<28:31,  7.59it/s]"
     ]
    },
    {
     "name": "stdout",
     "output_type": "stream",
     "text": [
      "【One Screen Puzzle】いつでもドア\u0000用\u0000\u0000\u0000\u0000\u0000\u0000\n",
      "5dc4265500c14d1b00ceae9e.bcd\n",
      "【RE】パラシュート降下 Parachuting\u0000ster\u0000\u0000\u0000\u0000\n",
      "5dc4265500c5e57d00ceaead.bcd\n",
      "Steal the Sun's POW Block\u0000\u0000\u0000\u0000\u0000\u0000\u0000\u0000\n",
      "5dc4265500c6920300ceaea1.bcd\n"
     ]
    },
    {
     "name": "stderr",
     "output_type": "stream",
     "text": [
      "\r",
      "  7%|█████▌                                                                        | 988/13971 [01:21<23:12,  9.32it/s]"
     ]
    },
    {
     "name": "stdout",
     "output_type": "stream",
     "text": [
      "Lost 1-1\u0000\u0000\u0000\u0000\u0000\u0000\u0000\u0000\u0000Ruins\u0000\u0000\u0000\u0000\u0000\u0000\u0000\u0000\u0000\u0000\u0000\n",
      "5dc4265500d7675000ceae9c.bcd\n",
      "Camp Switchvine\u0000\u0000\u0000\u0000\u0000\u0000\u0000\u0000\u0000\u0000\u0000\u0000\u0000\u0000\u0000\u0000\u0000\u0000\n",
      "5dc4265500db3d8500ceaea6.bcd\n",
      "Blazing Bullets\u0000\u0000\u0000\u0000\u0000\u0000\u0000\u0000\u0000\u0000\u0000\u0000\u0000\u0000\u0000\u0000\u0000\u0000"
     ]
    },
    {
     "name": "stderr",
     "output_type": "stream",
     "text": [
      "  7%|█████▌                                                                        | 992/13971 [01:22<19:29, 11.10it/s]"
     ]
    },
    {
     "name": "stdout",
     "output_type": "stream",
     "text": [
      "\n",
      "5dc42656000c060400ceaec2.bcd\n",
      "Clawful\u0000\u0000\u0000\u0000\u0000\u0000\u0000\u0000\u0000\u0000\u0000\u0000\u0000\u0000\u0000\u0000\u0000\u0000\u0000\u0000\u0000\u0000\u0000\u0000\u0000\u0000\n",
      "5dc426560026d15300ceaeb6.bcd\n",
      "Skewer Stronghold\u0000\u0000\u0000\u0000\u0000\u0000\u0000\u0000\u0000\u0000\u0000\u0000\u0000\u0000\u0000\u0000\n",
      "5dc42656002aa72c00ceaebb.bcd\n",
      "On/Off Switching Craziness \u0000\u0000\u0000\u0000\u0000\u0000\n",
      "5dc426560039c3bf00ceaeb2.bcd\n"
     ]
    },
    {
     "name": "stderr",
     "output_type": "stream",
     "text": [
      "  7%|█████▌                                                                        | 997/13971 [01:23<30:50,  7.01it/s]"
     ]
    },
    {
     "name": "stdout",
     "output_type": "stream",
     "text": [
      "Upgrade Maze\u0000\u0000\u0000\u0000\u0000\u0000\u0000\u0000\u0000\u0000\u0000\u0000\u0000\u0000\u0000\u0000\u0000\u0000\u0000\u0000\u0000\n",
      "5dc42656003aa95e00ceaebe.bcd\n",
      "Minecraft's 2B2T (マインケラフト)\u0000\u0000\u0000\u0000\u0000\u0000\u0000\n",
      "5dc4265600751b2800ceaeb5.bcd\n",
      "Get off my seesaw !\u0000\u0000\u0000\u0000\u0000\u0000\u0000\u0000\u0000\u0000\u0000\u0000\u0000\u0000\n",
      "5dc4265600793b1800ceaeb1.bcd\n",
      "The Biggest Race of Yoshi's Life\u0000\n",
      "5dc42656007f2d6700ceaeb9.bcd\n",
      "Into the Piranha Plant Pyramid\u0000\u0000\u0000\n",
      "5dc426560098a4be00ceaeb7.bcd\n"
     ]
    },
    {
     "name": "stderr",
     "output_type": "stream",
     "text": [
      "\r",
      "  7%|█████▌                                                                        | 999/13971 [01:23<29:17,  7.38it/s]"
     ]
    },
    {
     "name": "stdout",
     "output_type": "stream",
     "text": [
      "Shell Launcher Fun!\u0000\u0000\u0000\u0000\u0000\u0000\u0000\u0000\u0000\u0000\u0000\u0000\u0000\u0000\n",
      "5dc426560099b9c700ceaeb0.bcd\n",
      "横向きドッスンが迫る地下\u0000\u0000\u0000\u0000　マリオ(やっつけ作成ver)\u0000\u0000\n",
      "5dc4265600a1f87000ceaebf.bcd\n",
      "The King of Swing is... Mario?\u0000\u0000\u0000\n",
      "5dc4265600a7f72e00ceaec1.bcd\n",
      "Mushroom Kingdom Battle Royale\u0000\u0000\u0000\n",
      "5dc4265600cd027300ceaec6.bcd\n"
     ]
    },
    {
     "name": "stderr",
     "output_type": "stream",
     "text": [
      "\r",
      "  7%|█████▌                                                                       | 1002/13971 [01:23<25:53,  8.35it/s]"
     ]
    },
    {
     "name": "stdout",
     "output_type": "stream",
     "text": [
      "Bowser's Drybone Desert\u0000\u0000\u0000\u0000\u0000\u0000\u0000\u0000\u0000\u0000\n",
      "5dc4265600cd40e400ceaec4.bcd\n"
     ]
    },
    {
     "name": "stderr",
     "output_type": "stream",
     "text": [
      "\r",
      "  7%|█████▌                                                                       | 1004/13971 [01:24<35:16,  6.13it/s]"
     ]
    },
    {
     "name": "stdout",
     "output_type": "stream",
     "text": [
      "Raptured Ruins\u0000\u0000\u0000\u0000\u0000\u0000\u0000\u0000\u0000\u0000\u0000\u0000\u0000\u0000\u0000\u0000\u0000\u0000\u0000\n",
      "5dc4265600e4797400ceaebd.bcd\n",
      "♪Megalovania Rythym Challenge♪\u0000\u0000\u0000\n",
      "5dc4265600f578fd00ceaec0.bcd\n",
      "It's River Time\u0000\u0000\u0000\u0000\u0000\u0000\u0000\u0000\u0000\u0000\u0000\u0000\u0000\u0000\u0000\u0000\u0000\u0000\n",
      "5dc4265600f7c44900ceaebc.bcd\n",
      "The Sound of Speed\u0000\u0000\u0000\u0000\u0000\u0000\u0000\u0000\u0000\u0000\u0000\u0000\u0000\u0000\u0000\n",
      "5dc4265600fe9bce00ceaec5.bcd\n"
     ]
    },
    {
     "name": "stderr",
     "output_type": "stream",
     "text": [
      "  7%|█████▌                                                                       | 1009/13971 [01:24<25:46,  8.38it/s]"
     ]
    },
    {
     "name": "stdout",
     "output_type": "stream",
     "text": [
      "Hopping Yoshi\u0000\u0000\u0000\u0000\u0000\u0000\u0000\u0000\u0000\u0000\u0000\u0000\u0000\u0000\u0000\u0000\u0000\u0000\u0000\u0000\n",
      "5dc42670001b858b00ceaed5.bcd\n",
      "Jungle Run  20 seconds speedrun\u0000\u0000\n",
      "5dc42670001e435300ceaec7.bcd\n",
      "▽ Save the Thwomps! ▽\u0000\u0000\u0000\u0000\u0000\u0000\u0000\u0000\u0000\u0000\u0000\u0000\n",
      "5dc42670002241f900ceaed2.bcd\n",
      "Thwomp-It Chomp-It Demolition Co\u0000\n",
      "5dc42670003262ac00ceaecd.bcd\n"
     ]
    },
    {
     "name": "stderr",
     "output_type": "stream",
     "text": [
      "  7%|█████▌                                                                       | 1014/13971 [01:24<25:33,  8.45it/s]"
     ]
    },
    {
     "name": "stdout",
     "output_type": "stream",
     "text": [
      "GLP.TV 05 - Lava is Coming\u0000mare\u0000\u0000\n",
      "5dc4267000533b1400ceaec8.bcd\n",
      "Starlight Shells\u0000\u0000\u0000\u0000\u0000\u0000\u0000\u0000\u0000\u0000\u0000\u0000\u0000\u0000\u0000\u0000\u0000\n",
      "5dc42670005a876700ceaed3.bcd\n",
      "Hot Sponge\u0000\u0000\u0000\u0000\u0000\u0000\u0000\u0000\u0000\u0000\u0000\u0000\u0000\u0000\u0000\u0000\u0000\u0000\u0000\u0000\u0000\u0000\u0000\n",
      "5dc42670005bc36200ceaed1.bcd\n",
      "Switch-Temple of Madness\u0000\u0000\u0000\u0000\u0000\u0000\u0000\u0000\u0000\n",
      "5dc42670005cd33a00ceaed0.bcd\n"
     ]
    },
    {
     "name": "stderr",
     "output_type": "stream",
     "text": [
      "\r",
      "  7%|█████▌                                                                       | 1016/13971 [01:25<22:37,  9.55it/s]"
     ]
    },
    {
     "name": "stdout",
     "output_type": "stream",
     "text": [
      "Off/On a desert trip\u0000\u0000\u0000\u0000\u0000\u0000\u0000\u0000\u0000\u0000\u0000\u0000\u0000\n",
      "5dc42670008e998900ceaecc.bcd\n",
      "Deserted Temple\u0000\u0000\u0000\u0000\u0000\u0000\u0000\u0000\u0000\u0000\u0000\u0000\u0000\u0000\u0000\u0000\u0000\u0000\n",
      "5dc426700096f12600ceaec9.bcd\n"
     ]
    },
    {
     "name": "stderr",
     "output_type": "stream",
     "text": [
      "\r",
      "  7%|█████▌                                                                       | 1018/13971 [01:25<23:15,  9.28it/s]"
     ]
    },
    {
     "name": "stdout",
     "output_type": "stream",
     "text": [
      "Jump'n'Switch\u0000\u0000\u0000\u0000\u0000\u0000\u0000\u0000\u0000\u0000\u0000\u0000\u0000\u0000\u0000\u0000\u0000\u0000\u0000\u0000\n",
      "5dc4267000b75fb200ceaeca.bcd\n",
      "Woof 1-6: Sees and Saws\u0000\u0000\u0000\u0000\u0000\u0000\u0000\u0000\u0000\u0000\n",
      "5dc4267000beab2200ceaed4.bcd\n",
      "It Came From Beneath the Stink\u0000\u0000\u0000\n",
      "5dc4267000c19c5d00ceaecb.bcd\n"
     ]
    },
    {
     "name": "stderr",
     "output_type": "stream",
     "text": [
      "  7%|█████▋                                                                       | 1022/13971 [01:25<21:02, 10.26it/s]"
     ]
    },
    {
     "name": "stdout",
     "output_type": "stream",
     "text": [
      "Kaizo Clawllege: Swing Theory\u0000\u0000\u0000\u0000\n",
      "5dc4267000c54a1a00ceaed7.bcd\n",
      "Bonzai Bridges\u0000\u0000\u0000\u0000\u0000\u0000\u0000\u0000\u0000\u0000\u0000\u0000\u0000\u0000\u0000\u0000\u0000\u0000\u0000\n",
      "5dc4267000e61b5c00ceaecf.bcd\n",
      "赤髪のともの笑い声\u0000\u0000\u0000\u0000\u0000\u0000\u0000\u0000\u0000\u0000\u0000\u0000\u0000\u0000\u0000\u0000\u0000\u0000\u0000\u0000\u0000\u0000\u0000\u0000\n",
      "5dc4267000ffa81000ceaed6.bcd\n",
      "Keizo Light: Cloud N\u0000\u0000\u0000\u0000\u0000\u0000\u0000\u0000\u0000\u0000\u0000\u0000\u0000"
     ]
    },
    {
     "name": "stderr",
     "output_type": "stream",
     "text": [
      "\r",
      "  7%|█████▋                                                                       | 1024/13971 [01:25<18:21, 11.76it/s]"
     ]
    },
    {
     "name": "stdout",
     "output_type": "stream",
     "text": [
      "\n",
      "5dc4267100055f7a00ceaeda.bcd\n",
      "No Smooth Brains Allowed \u0000\u0000\u0000\u0000\u0000\u0000\u0000\u0000\n",
      "5dc426710014194f00ceaeec.bcd\n",
      "ﾌｳﾝ坂田城\u0000\u0000\u0000\u0000\u0000\u0000\u0000\u0000\u0000\u0000\u0000\u0000\u0000\u0000\u0000\u0000\u0000\u0000\u0000\u0000\u0000\u0000\u0000\u0000\u0000\u0000\u0000\n",
      "5dc4267100578fe200ceaede.bcd\n",
      "Like a Rolling Stone\u0000\u0000\u0000\u0000\u0000\u0000\u0000\u0000\u0000\u0000\u0000\u0000\u0000\n",
      "5dc426710063173c00ceaeef.bcd\n"
     ]
    },
    {
     "name": "stderr",
     "output_type": "stream",
     "text": [
      "\r",
      "  7%|█████▋                                                                       | 1027/13971 [01:26<19:19, 11.16it/s]"
     ]
    },
    {
     "name": "stdout",
     "output_type": "stream",
     "text": [
      "Binary Bill\u0000\u0000\u0000\u0000\u0000\u0000ue\u0000\u0000\u0000\u0000\u0000\u0000\u0000\u0000\u0000\u0000\u0000\u0000\u0000\u0000\n",
      "5dc4267100645b4800ceaee3.bcd\n",
      "O-Zone: Sandhill Cranes\u0000\u0000\u0000\u0000\u0000\u0000\u0000\u0000\u0000\u0000\n",
      "5dc42671006b5c5e00ceaeea.bcd\n"
     ]
    },
    {
     "name": "stderr",
     "output_type": "stream",
     "text": [
      "\r",
      "  7%|█████▋                                                                       | 1029/13971 [01:26<21:27, 10.05it/s]"
     ]
    },
    {
     "name": "stdout",
     "output_type": "stream",
     "text": [
      "Road of Shell: A New Beginning \u0000\u0000\n",
      "5dc42671007e32f900ceaee8.bcd\n",
      "Garden in the Sky\u0000\u0000n of Plants\u0000\u0000\u0000\n",
      "5dc426710099ff5a00ceaee6.bcd\n"
     ]
    },
    {
     "name": "stderr",
     "output_type": "stream",
     "text": [
      "  7%|█████▋                                                                       | 1032/13971 [01:26<29:19,  7.36it/s]"
     ]
    },
    {
     "name": "stdout",
     "output_type": "stream",
     "text": [
      "Boom Boom's Hideout (HBD Alyn)\u0000\u0000\u0000\n",
      "5dc4267100a3bbe300ceaeeb.bcd\n",
      "Super BobbyBoy Lvl. 2\u0000\u0000\u0000\u0000\u0000\u0000\u0000\u0000\u0000\u0000\u0000\u0000\n",
      "5dc4267100b24bcc00ceaee9.bcd\n",
      "Toad's Airship Expedition\u0000V2\u0000\u0000\u0000\u0000\u0000\n",
      "5dc4267100b5e9b300ceaedb.bcd\n"
     ]
    },
    {
     "name": "stderr",
     "output_type": "stream",
     "text": [
      "  7%|█████▋                                                                       | 1037/13971 [01:27<23:32,  9.15it/s]"
     ]
    },
    {
     "name": "stdout",
     "output_type": "stream",
     "text": [
      "Poisonous Panic Party\u0000\u0000\u0000\u0000\u0000\u0000\u0000\u0000\u0000\u0000\u0000\u0000\n",
      "5dc4267100bd664800ceaedc.bcd\n",
      "On/Off Switch Speedrun [20s]\u0000nds\u0000\n",
      "5dc4267100cd112400ceaee5.bcd\n",
      "Five Nights At Freddy's\u0000 time?\u0000\u0000\u0000\n",
      "5dc4267100d0dd4a00ceaee0.bcd\n",
      "Woof 1-7: Dizzy Desert\u0000\u0000\u0000\u0000\u0000\u0000\u0000\u0000\u0000\u0000\u0000\n",
      "5dc4267100d6a57700ceaedf.bcd\n"
     ]
    },
    {
     "name": "stderr",
     "output_type": "stream",
     "text": [
      "\r",
      "  7%|█████▋                                                                       | 1039/13971 [01:27<20:52, 10.32it/s]"
     ]
    },
    {
     "name": "stdout",
     "output_type": "stream",
     "text": [
      "jumpmadness (kaizo)\u0000\u0000\u0000\u0000\u0000\u0000\u0000\u0000\u0000\u0000\u0000\u0000\u0000\u0000\n",
      "5dc4267100d7b11c00ceaee7.bcd\n",
      "Dry Atlantis\u0000\u0000\u0000\u0000\u0000lls\u0000t Thwomps\u0000\u0000\u0000\n",
      "5dc4267100dbef4a00ceaeed.bcd\n",
      "♪Cliffy Me Softly With His Song♪\u0000"
     ]
    },
    {
     "name": "stderr",
     "output_type": "stream",
     "text": [
      "\r",
      "  7%|█████▋                                                                       | 1041/13971 [01:27<23:59,  8.98it/s]"
     ]
    },
    {
     "name": "stdout",
     "output_type": "stream",
     "text": [
      "\n",
      "5dc4267100e562fc00ceaed9.bcd\n"
     ]
    },
    {
     "name": "stderr",
     "output_type": "stream",
     "text": [
      "\r",
      "  7%|█████▋                                                                       | 1043/13971 [01:27<23:17,  9.25it/s]"
     ]
    },
    {
     "name": "stdout",
     "output_type": "stream",
     "text": [
      "The icy grip of the claw\u0000\u0000\u0000\u0000\u0000\u0000\u0000\u0000\u0000\n",
      "5dc4267100e8b78300ceaee2.bcd\n",
      "Basics of Kaizo 2: Icy Ascend\u0000\u0000\u0000\u0000\n",
      "5dc42672000861f700ceaf00.bcd\n",
      "P-Switch Parkour DX\u0000\u0000\u0000\u0000\u0000\u0000\u0000\u0000\u0000\u0000\u0000\u0000\u0000\u0000\n",
      "5dc42672001bd93d00ceaef8.bcd\n"
     ]
    },
    {
     "name": "stderr",
     "output_type": "stream",
     "text": [
      "\r",
      "  7%|█████▊                                                                       | 1045/13971 [01:28<26:54,  8.00it/s]"
     ]
    },
    {
     "name": "stdout",
     "output_type": "stream",
     "text": [
      "Switch or POW Block Speedrun 40s\u0000\n",
      "5dc426720023e82900ceaefb.bcd\n",
      "Canonball Bog\u0000\u0000\u0000\u0000\u0000\u0000\u0000\u0000\u0000\u0000\u0000\u0000\u0000\u0000\u0000\u0000\u0000\u0000\u0000\u0000\n",
      "5dc426720035e33400ceaefd.bcd\n",
      "surprisingly slippery stalactite\u0000\n",
      "5dc426720041c96000ceaef0.bcd\n"
     ]
    },
    {
     "name": "stderr",
     "output_type": "stream",
     "text": [
      "\r",
      "  7%|█████▊                                                                       | 1047/13971 [01:28<29:40,  7.26it/s]"
     ]
    },
    {
     "name": "stdout",
     "output_type": "stream",
     "text": [
      "The Deep Poison Swamp Forrest\u0000\u0000\u0000\u0000\n",
      "5dc426720045f4be00ceaef6.bcd\n"
     ]
    },
    {
     "name": "stderr",
     "output_type": "stream",
     "text": [
      "\r",
      "  8%|█████▊                                                                       | 1048/13971 [01:28<37:31,  5.74it/s]"
     ]
    },
    {
     "name": "stdout",
     "output_type": "stream",
     "text": [
      " Stoneterror Forest\u0000\u0000\u0000\u0000\u0000\u0000\u0000\u0000\u0000\u0000\u0000\u0000\u0000\u0000\n",
      "5dc42672004e836700ceaf01.bcd\n",
      "The Emperor's Vanguard:Oni Shell\u0000\n",
      "5dc426720053c8ea00ceaef3.bcd\n"
     ]
    },
    {
     "name": "stderr",
     "output_type": "stream",
     "text": [
      "\r",
      "  8%|█████▊                                                                       | 1050/13971 [01:29<48:01,  4.48it/s]"
     ]
    },
    {
     "name": "stdout",
     "output_type": "stream",
     "text": [
      "WarioWare, Inc. \u0000 Course\u0000\u0000\u0000\u0000\u0000\u0000\u0000\u0000\u0000\n",
      "5dc4267200570c6400ceaefc.bcd\n",
      "Ice Land Hills\u0000\u0000\u0000\u0000\u0000\u0000\u0000\u0000\u0000\u0000\u0000\u0000\u0000\u0000\u0000\u0000\u0000\u0000\u0000\n",
      "5dc426720058f39c00ceaef2.bcd\n"
     ]
    },
    {
     "name": "stderr",
     "output_type": "stream",
     "text": [
      "  8%|█████▊                                                                       | 1053/13971 [01:29<39:14,  5.49it/s]"
     ]
    },
    {
     "name": "stdout",
     "output_type": "stream",
     "text": [
      "Winter Wonderland\u0000\u0000\u0000\u0000\u0000\u0000\u0000\u0000\u0000\u0000\u0000\u0000\u0000\u0000\u0000\u0000\n",
      "5dc42672006584e300ceaef9.bcd\n",
      "Dangerous Mountain Paths!\u0000ouse\u0000\u0000\u0000\n",
      "5dc426720067054200ceaef1.bcd\n"
     ]
    },
    {
     "name": "stderr",
     "output_type": "stream",
     "text": [
      "\r",
      "  8%|█████▊                                                                       | 1054/13971 [01:30<41:37,  5.17it/s]"
     ]
    },
    {
     "name": "stdout",
     "output_type": "stream",
     "text": [
      "GLP.TV 04 - Fair and eZ\u0000ghtmare\u0000\u0000\n",
      "5dc42672007c372100ceaef5.bcd\n",
      "Into the storm\u0000\u0000\u0000jon know .\u0000 out\u0000\n",
      "5dc42672008a7f2700ceaef7.bcd\n"
     ]
    },
    {
     "name": "stderr",
     "output_type": "stream",
     "text": [
      "\r",
      "  8%|█████▊                                                                       | 1056/13971 [01:30<36:03,  5.97it/s]"
     ]
    },
    {
     "name": "stdout",
     "output_type": "stream",
     "text": [
      "The Hills Have Eyes\u0000\u0000\u0000\u0000\u0000\u0000\u0000\u0000\u0000\u0000\u0000\u0000\u0000\u0000\n",
      "5dc4267200a1b2be00ceaefa.bcd\n"
     ]
    },
    {
     "name": "stderr",
     "output_type": "stream",
     "text": [
      "  8%|█████▊                                                                       | 1060/13971 [01:30<31:19,  6.87it/s]"
     ]
    },
    {
     "name": "stdout",
     "output_type": "stream",
     "text": [
      "Bill's Poisonous Forest\u0000\u0000\u0000\u0000\u0000\u0000\u0000\u0000\u0000\u0000\n",
      "5dc4267200c04c0a00ceaef4.bcd\n",
      "Speedy Cliffs\u0000\u0000\u0000\u0000\u0000\u0000\u0000\u0000\u0000\u0000\u0000\u0000\u0000\u0000\u0000\u0000\u0000\u0000\u0000\u0000\n",
      "5dc4267200ce397800ceaefe.bcd\n",
      "You snow nothing jon know .\u0000 out\u0000\n",
      "5dc4267200d32eb800ceaeff.bcd\n",
      "GLP.TV 03 - Your next Nightmare\u0000\u0000\n",
      "5dc426730010a2c000ceaf02.bcd\n",
      "Logical Solutions 「必ず最適解はどこかにある」\u0000\n",
      "5dc4268e009ecbfa00ceaf03.bcd\n"
     ]
    },
    {
     "name": "stderr",
     "output_type": "stream",
     "text": [
      "  8%|█████▊                                                                       | 1064/13971 [01:31<23:22,  9.20it/s]"
     ]
    },
    {
     "name": "stdout",
     "output_type": "stream",
     "text": [
      "Busy Bomb Buddies\u0000stic Road\u0000\u0000\u0000\u0000\u0000\u0000\n",
      "5dc4268e00e8a06700ceaf05.bcd\n",
      "The射撃ゲーム!  Shooting Gallery\u0000\u0000\u0000\u0000\u0000\u0000\n",
      "5dc4268e00ea9f8300ceaf04.bcd\n",
      "Automatic Mario 【Don't move!!】\u0000\u0000\u0000\n",
      "5dc4268f000723cb00ceaf16.bcd\n",
      "Search for the Sunken Castle\u0000e\u0000n\u0000\n",
      "5dc4268f0015d34f00ceaf19.bcd\n"
     ]
    },
    {
     "name": "stderr",
     "output_type": "stream",
     "text": [
      "\r",
      "  8%|█████▉                                                                       | 1066/13971 [01:31<28:32,  7.53it/s]"
     ]
    },
    {
     "name": "stdout",
     "output_type": "stream",
     "text": [
      "Create Your Own Robot Boss Fight\u0000\n",
      "5dc4268f001ba79900ceaf0f.bcd\n"
     ]
    },
    {
     "name": "stderr",
     "output_type": "stream",
     "text": [
      "\r",
      "  8%|█████▉                                                                       | 1068/13971 [01:31<32:51,  6.54it/s]"
     ]
    },
    {
     "name": "stdout",
     "output_type": "stream",
     "text": [
      "Images in the Mansion\u0000\u0000\u0000\u0000\u0000\u0000\u0000\u0000\u0000\u0000\u0000\u0000\n",
      "5dc4268f00481ee200ceaf18.bcd\n",
      "Stardust Crusaders\u0000ble\u0000\u0000\u0000\u0000\u0000\u0000\u0000\u0000\u0000\u0000\u0000\n",
      "5dc4268f004a8ee800ceaf0c.bcd\n",
      "Trickshot Tower\u0000\u0000\u0000\u0000\u0000\u0000\u0000\u0000\u0000\u0000\u0000\u0000\u0000\u0000\u0000\u0000\u0000\u0000\n",
      "5dc4268f0056ac5600ceaf14.bcd\n"
     ]
    },
    {
     "name": "stderr",
     "output_type": "stream",
     "text": [
      "  8%|█████▉                                                                       | 1071/13971 [01:32<35:47,  6.01it/s]"
     ]
    },
    {
     "name": "stdout",
     "output_type": "stream",
     "text": [
      "Mario Goes To Work\u0000nco Hills \u0000\u0000n\u0000\n",
      "5dc4268f00641ac800ceaf0d.bcd\n",
      "Wobbly Waves\u0000\u0000\u0000\u0000\u0000 Forest Depths\u0000\u0000\n",
      "5dc4268f00671d0100ceaf0b.bcd\n",
      "Target Practice!\u0000\u0000\u0000\u0000\u0000\u0000\u0000\u0000\u0000\u0000\u0000\u0000\u0000\u0000\u0000\u0000\u0000\n",
      "5dc4268f0071152c00ceaf12.bcd\n",
      "Race to the Bottom\u0000(Ťŕøļļ level)\u0000\n",
      "5dc4268f0071932700ceaf10.bcd\n"
     ]
    },
    {
     "name": "stderr",
     "output_type": "stream",
     "text": [
      "\r",
      "  8%|█████▉                                                                       | 1075/13971 [01:32<26:42,  8.05it/s]"
     ]
    },
    {
     "name": "stdout",
     "output_type": "stream",
     "text": [
      "あみだくじ風バトルコース Japanese\"AMIDAKUJI\"\u0000\n",
      "5dc4268f007de49b00ceaf09.bcd\n",
      "Duck Hunt Simulator\u0000\u0000\u0000\u0000\u0000\u0000\u0000\u0000\u0000\u0000\u0000\u0000\u0000\u0000\n",
      "5dc4268f00871baa00ceaf08.bcd\n",
      "Visit to Sarasaland\u0000\u0000\u0000\u0000\u0000\u0000\u0000\u0000\u0000\u0000\u0000\u0000\u0000\u0000"
     ]
    },
    {
     "name": "stderr",
     "output_type": "stream",
     "text": [
      "\r",
      "  8%|█████▉                                                                       | 1077/13971 [01:32<26:08,  8.22it/s]"
     ]
    },
    {
     "name": "stdout",
     "output_type": "stream",
     "text": [
      "\n",
      "5dc4268f0088d67000ceaf0e.bcd\n",
      "The Great Snow Race!!!\u0000\u0000\u0000\u0000\u0000\u0000\u0000\u0000\u0000\u0000\u0000\n",
      "5dc4268f00ab5a6a00ceaf0a.bcd\n"
     ]
    },
    {
     "name": "stderr",
     "output_type": "stream",
     "text": [
      "\r",
      "  8%|█████▉                                                                       | 1079/13971 [01:33<27:00,  7.95it/s]"
     ]
    },
    {
     "name": "stdout",
     "output_type": "stream",
     "text": [
      "mirror ghost house\u0000\u0000\u0000\u0000\u0000\u0000\u0000\u0000\u0000\u0000\u0000\u0000\u0000\u0000\u0000\n",
      "5dc4268f00c1fb5200ceaf17.bcd\n",
      "Beanstalk fairy-tale\u0000\u0000\u0000\u0000\u0000\u0000\u0000\u0000\u0000\u0000\u0000\u0000\u0000\n",
      "5dc4268f00ccbae300ceaf06.bcd\n"
     ]
    },
    {
     "name": "stderr",
     "output_type": "stream",
     "text": [
      "\r",
      "  8%|█████▉                                                                       | 1081/13971 [01:33<30:54,  6.95it/s]"
     ]
    },
    {
     "name": "stdout",
     "output_type": "stream",
     "text": [
      "荒野の花々 パワーアップせずにゴール\u0000\u0000\u0000\u0000\u0000\u0000\u0000\u0000\u0000\u0000\u0000\u0000\u0000\u0000\u0000\n",
      "5dc4268f00cd0ae500ceaf11.bcd\n",
      "Five Trials\u0000\u0000\u0000\u0000\u0000\u0000\u0000\u0000\u0000\u0000\u0000\u0000\u0000\u0000\u0000\u0000\u0000\u0000\u0000\u0000\u0000\u0000\n",
      "5dc4268f00e097a100ceaf15.bcd\n",
      "NewSuperMarioBrosDS 1-2 Remake\u0000\u0000\u0000\n",
      "5dc4268f00e1ffc300ceaf1a.bcd\n"
     ]
    },
    {
     "name": "stderr",
     "output_type": "stream",
     "text": [
      "\r",
      "  8%|█████▉                                                                       | 1083/13971 [01:33<25:18,  8.49it/s]"
     ]
    },
    {
     "name": "stdout",
     "output_type": "stream",
     "text": [
      "Bob-omb Factory\u0000\u0000\u0000\u0000\u0000\u0000\u0000\u0000\u0000\u0000\u0000\u0000\u0000\u0000\u0000\u0000\u0000\u0000\n",
      "5dc426900003db1800ceaf30.bcd\n"
     ]
    },
    {
     "name": "stderr",
     "output_type": "stream",
     "text": [
      "\r",
      "  8%|█████▉                                                                       | 1085/13971 [01:33<29:59,  7.16it/s]"
     ]
    },
    {
     "name": "stdout",
     "output_type": "stream",
     "text": [
      "The Great Plateau\u0000\u0000rns \u0000\u0000\u0000\u0000\u0000\u0000\u0000\u0000\u0000\u0000\n",
      "5dc42690000722aa00ceaf2c.bcd\n",
      "The Souls That Stare\u0000\u0000\u0000\u0000\u0000\u0000\u0000\u0000\u0000\u0000\u0000\u0000\u0000\n",
      "5dc426900007efa500ceaf2f.bcd\n",
      "天空のゲームセンター\u0000\u0000\u0000\u0000\u0000\u0000\u0000\u0000\u0000\u0000\u0000\u0000\u0000\u0000\u0000\u0000\u0000\u0000\u0000\u0000\u0000\u0000\u0000\n",
      "5dc42690000a531c00ceaf29.bcd\n"
     ]
    },
    {
     "name": "stderr",
     "output_type": "stream",
     "text": [
      "\r",
      "  8%|█████▉                                                                       | 1087/13971 [01:34<30:41,  6.99it/s]"
     ]
    },
    {
     "name": "stdout",
     "output_type": "stream",
     "text": [
      "The Grand Race Multiplayer\u0000\u0000\u0000\u0000\u0000\u0000\u0000\n",
      "5dc42690000c57dc00ceaf2d.bcd\n",
      "Monster's Mechanical Castle\u0000\u0000\u0000\u0000\u0000\u0000\n",
      "5dc426900014c56c00ceaf28.bcd\n"
     ]
    },
    {
     "name": "stderr",
     "output_type": "stream",
     "text": [
      "\r",
      "  8%|██████                                                                       | 1089/13971 [01:34<34:20,  6.25it/s]"
     ]
    },
    {
     "name": "stdout",
     "output_type": "stream",
     "text": [
      "A Whale of a Time\u0000\u0000\u0000\u0000\u0000\u0000\u0000\u0000\u0000\u0000\u0000\u0000\u0000\u0000\u0000\u0000\n",
      "5dc42690001f5a9d00ceaf27.bcd\n",
      "Boom Boom Pinball.\u0000\u0000\u0000\u0000\u0000\u0000\u0000\u0000\u0000\u0000\u0000\u0000\u0000\u0000\u0000\n",
      "5dc426900023381000ceaf1f.bcd\n",
      "Mario Sunshine: Bianco Hills \u0000\u0000n\u0000\n",
      "5dc426900031013e00ceaf31.bcd\n"
     ]
    },
    {
     "name": "stderr",
     "output_type": "stream",
     "text": [
      "\r",
      "  8%|██████                                                                       | 1092/13971 [01:34<28:57,  7.41it/s]"
     ]
    },
    {
     "name": "stdout",
     "output_type": "stream",
     "text": [
      "Multiplayer Versus - Sky\u0000\u0000\u0000\u0000\u0000\u0000\u0000\u0000\u0000\n",
      "5dc426900034bb9100ceaf33.bcd\n"
     ]
    },
    {
     "name": "stderr",
     "output_type": "stream",
     "text": [
      "  8%|██████                                                                       | 1094/13971 [01:35<31:37,  6.79it/s]"
     ]
    },
    {
     "name": "stdout",
     "output_type": "stream",
     "text": [
      "To the Sky and Beyond\u0000Swamp Land\u0000\n",
      "5dc426900034e03b00ceaf20.bcd\n",
      "Rosalina's Ice World\u0000\u0000\u0000\u0000\u0000\u0000\u0000\u0000\u0000\u0000\u0000\u0000\u0000\n",
      "5dc4269000419c0c00ceaf2e.bcd\n"
     ]
    },
    {
     "name": "stderr",
     "output_type": "stream",
     "text": [
      "  8%|██████                                                                       | 1096/13971 [01:35<30:19,  7.08it/s]"
     ]
    },
    {
     "name": "stdout",
     "output_type": "stream",
     "text": [
      "Calm and Tranquility\u0000MP!!]\u0000\u0000\u0000\u0000\u0000\u0000\u0000\n",
      "5dc42690004d0d8b00ceaf24.bcd\n",
      "スピン半自動　:　Keep ZR(ZL)/ZRまたはZLながおし\u0000\n",
      "5dc42690006c826e00ceaf23.bcd\n"
     ]
    },
    {
     "name": "stderr",
     "output_type": "stream",
     "text": [
      "  8%|██████                                                                       | 1098/13971 [01:35<32:35,  6.58it/s]"
     ]
    },
    {
     "name": "stdout",
     "output_type": "stream",
     "text": [
      "Tricky Trajectories\u0000\u0000\u0000\u0000\u0000\u0000\u0000\u0000\u0000\u0000\u0000\u0000\u0000\u0000\n",
      "5dc42690008fca1400ceaf1e.bcd\n",
      "Bouncy Beach\u0000\u0000\u0000\u0000\u0000\u0000\u0000\u0000\u0000\u0000\u0000\u0000\u0000\u0000\u0000\u0000\u0000\u0000\u0000\u0000\u0000\n",
      "5dc4269000aeb77900ceaf1c.bcd\n"
     ]
    },
    {
     "name": "stderr",
     "output_type": "stream",
     "text": [
      "  8%|██████                                                                       | 1100/13971 [01:36<37:34,  5.71it/s]"
     ]
    },
    {
     "name": "stdout",
     "output_type": "stream",
     "text": [
      "Rocket to the Ice Planet\u0000\u0000\u0000\u0000\u0000\u0000\u0000\u0000\u0000\n",
      "5dc4269000b5fd6f00ceaf22.bcd\n",
      "Super Mario Minigolf!\u0000\u0000\u0000\u0000\u0000\u0000\u0000\u0000\u0000\u0000\u0000\u0000\n",
      "5dc4269000c29aa700ceaf25.bcd\n"
     ]
    },
    {
     "name": "stderr",
     "output_type": "stream",
     "text": [
      "\r",
      "  8%|██████                                                                       | 1102/13971 [01:36<34:38,  6.19it/s]"
     ]
    },
    {
     "name": "stdout",
     "output_type": "stream",
     "text": [
      "Arid Wastelands 2-1 \u0000-1 \u0000\u0000\u0000\u0000\u0000\u0000\u0000\u0000\u0000\n",
      "5dc4269000cd9c5000ceaf26.bcd\n",
      "Inside Puzzle pyramid\u0000ing\u0000\u0000\u0000\u0000\u0000\u0000\u0000\u0000\n",
      "5dc4269000d75f9400ceaf2b.bcd\n"
     ]
    },
    {
     "name": "stderr",
     "output_type": "stream",
     "text": [
      "  8%|██████                                                                       | 1105/13971 [01:36<28:02,  7.65it/s]"
     ]
    },
    {
     "name": "stdout",
     "output_type": "stream",
     "text": [
      "Just Run and Don't Jump\u0000ends\u0000\u0000\u0000\u0000\u0000\n",
      "5dc4269000df893000ceaf32.bcd\n",
      "優しさに包まれたい\u0000\u0000\u0000\u0000\u0000\u0000\u0000\u0000\u0000\u0000\u0000\u0000\u0000\u0000\u0000\u0000\u0000\u0000\u0000\u0000\u0000\u0000\u0000\u0000\n",
      "5dc4269000ecdfc000ceaf1d.bcd\n",
      "Traveling Through Time and Tubes\u0000\n",
      "5dc426910003242800ceaf37.bcd\n"
     ]
    },
    {
     "name": "stderr",
     "output_type": "stream",
     "text": [
      "  8%|██████                                                                       | 1107/13971 [01:36<26:09,  8.20it/s]"
     ]
    },
    {
     "name": "stdout",
     "output_type": "stream",
     "text": [
      "The Trolley Problem [v1.0]\u0000,1.2]\u0000\n",
      "5dc426910009c57f00ceaf3a.bcd\n",
      "i really tried ;=;\u0000\u0000\u0000\u0000\u0000\u0000\u0000\u0000\u0000\u0000\u0000\u0000\u0000\u0000\u0000\n",
      "5dc426910022659200ceaf39.bcd\n",
      "Evening Trials of the Superball\u0000\u0000\n",
      "5dc42691002a19dd00ceaf3b.bcd\n",
      "天にそびえるからくりの搭　Gimmick Tower\u0000\u0000\u0000\u0000\u0000\u0000\u0000\n",
      "5dc426910037d35b00ceaf3c.bcd\n"
     ]
    },
    {
     "name": "stderr",
     "output_type": "stream",
     "text": [
      "\r",
      "  8%|██████                                                                       | 1110/13971 [01:37<21:23, 10.02it/s]"
     ]
    },
    {
     "name": "stdout",
     "output_type": "stream",
     "text": [
      "Super Ball Game - Medium\u0000or\u0000\u0000\u0000\u0000\u0000\u0000\n",
      "5dc42691004afbdf00ceaf34.bcd\n",
      "Jamming with the Jellyfish\u0000\u0000\u0000\u0000\u0000\u0000\u0000\n",
      "5dc42691005063a600ceaf36.bcd\n"
     ]
    },
    {
     "name": "stderr",
     "output_type": "stream",
     "text": [
      "\r",
      "  8%|██████▏                                                                      | 1112/13971 [01:37<22:45,  9.42it/s]"
     ]
    },
    {
     "name": "stdout",
     "output_type": "stream",
     "text": [
      "Textured Twister Terrain\u0000\u0000\u0000\u0000\u0000\u0000\u0000\u0000\u0000\n",
      "5dc42691005ed54900ceaf3e.bcd\n"
     ]
    },
    {
     "name": "stderr",
     "output_type": "stream",
     "text": [
      "\r",
      "  8%|██████▏                                                                      | 1114/13971 [01:37<30:43,  6.97it/s]"
     ]
    },
    {
     "name": "stdout",
     "output_type": "stream",
     "text": [
      "Pokemon RGB Trainers' Battle\u0000\u0000\u0000\u0000\u0000\n",
      "5dc4269100b293d700ceaf38.bcd\n",
      "The Key in the Basement\u0000 s]\u0000e\u0000in\u0000\n",
      "5dc426a200087ab100ceaf49.bcd\n",
      "隠しきれない　隠しブロック　open hidden block\u0000\u0000\n",
      "5dc426a20031850000ceaf47.bcd\n"
     ]
    },
    {
     "name": "stderr",
     "output_type": "stream",
     "text": [
      "\r",
      "  8%|██████▏                                                                      | 1116/13971 [01:37<25:47,  8.31it/s]"
     ]
    },
    {
     "name": "stdout",
     "output_type": "stream",
     "text": [
      "Speedrun Escape the Chain Chomps\u0000\n",
      "5dc426a2003e1b1d00ceaf40.bcd\n",
      "Koopa Shell Grand Prix\u0000\u0000\u0000\u0000\u0000\u0000\u0000\u0000\u0000\u0000\u0000\n",
      "5dc426a20052e82000ceaf46.bcd\n"
     ]
    },
    {
     "name": "stderr",
     "output_type": "stream",
     "text": [
      "  8%|██████▏                                                                      | 1119/13971 [01:38<32:44,  6.54it/s]"
     ]
    },
    {
     "name": "stdout",
     "output_type": "stream",
     "text": [
      "Castletop Canyon \u0000\u0000\u0000\u0000\u0000\u0000\u0000\u0000\u0000\u0000\u0000\u0000\u0000\u0000\u0000\u0000\n",
      "5dc426a20062cad200ceaf4a.bcd\n",
      "han solo kaizo\u0000\u0000\u0000\u0000\u0000\u0000\u0000\u0000\u0000\u0000\u0000\u0000\u0000\u0000\u0000\u0000\u0000\u0000\u0000\n",
      "5dc426a20068008200ceaf3f.bcd\n",
      "Beware of Dog\u0000\u0000\u0000\u0000m The Army-o\u0000\u0000n\u0000\n",
      "5dc426a20073b72e00ceaf42.bcd\n"
     ]
    },
    {
     "name": "stderr",
     "output_type": "stream",
     "text": [
      "  8%|██████▏                                                                      | 1122/13971 [01:38<26:12,  8.17it/s]"
     ]
    },
    {
     "name": "stdout",
     "output_type": "stream",
     "text": [
      "Galumba Slide Party [GLP]\u0000tmare\u0000\u0000\n",
      "5dc426a2008e12c100ceaf4b.bcd\n",
      "HMS Thwomp\u0000\u0000\u0000\u0000\u0000\u0000\u0000pelin\u0000\u0000\u0000\u0000\u0000\u0000\u0000\u0000\u0000\u0000\u0000\n",
      "5dc426a20096d7b500ceaf44.bcd\n"
     ]
    },
    {
     "name": "stderr",
     "output_type": "stream",
     "text": [
      "\r",
      "  8%|██████▏                                                                      | 1123/13971 [01:38<27:47,  7.70it/s]"
     ]
    },
    {
     "name": "stdout",
     "output_type": "stream",
     "text": [
      "Witch Night (Spooky Edition)\u0000\u0000\u0000\u0000\u0000\n",
      "5dc426a200acf2ca00ceaf43.bcd\n"
     ]
    },
    {
     "name": "stderr",
     "output_type": "stream",
     "text": [
      "  8%|██████▏                                                                      | 1125/13971 [01:39<36:57,  5.79it/s]"
     ]
    },
    {
     "name": "stdout",
     "output_type": "stream",
     "text": [
      "Suplex Tower\u0000\u0000\u0000\u0000\u0000\u0000\u0000\u0000\u0000\u0000\u0000\u0000\u0000\u0000\u0000\u0000\u0000\u0000\u0000\u0000\u0000\n",
      "5dc426a200d6da7500ceaf48.bcd\n"
     ]
    },
    {
     "name": "stderr",
     "output_type": "stream",
     "text": [
      "\r",
      "  8%|██████▏                                                                      | 1127/13971 [01:39<31:21,  6.83it/s]"
     ]
    },
    {
     "name": "stdout",
     "output_type": "stream",
     "text": [
      "Overgrown Factory\u0000zle\u0000the Future\u0000\n",
      "5dc426a3000731ec00ceaf4e.bcd\n",
      "Transient Pass\u0000\u0000\u0000\u0000the Dark?\u0000Sea\u0000\u0000\n",
      "5dc426a3000b141c00ceaf5e.bcd\n",
      "Super Metroid Mario\u0000\u0000\u0000\u0000\u0000\u0000\u0000\u0000\u0000\u0000\u0000\u0000\u0000\u0000"
     ]
    },
    {
     "name": "stderr",
     "output_type": "stream",
     "text": [
      "\r",
      "  8%|██████▏                                                                      | 1128/13971 [01:39<31:43,  6.75it/s]"
     ]
    },
    {
     "name": "stdout",
     "output_type": "stream",
     "text": [
      "\n",
      "5dc426a30014748600ceaf5b.bcd\n",
      "Trouble in the Deep Woods\u0000\u0000\u0000\u0000\u0000\u0000\u0000\u0000\n",
      "5dc426a30020f0e300ceaf59.bcd\n"
     ]
    },
    {
     "name": "stderr",
     "output_type": "stream",
     "text": [
      "\r",
      "  8%|██████▏                                                                      | 1129/13971 [01:39<34:21,  6.23it/s]"
     ]
    },
    {
     "name": "stdout",
     "output_type": "stream",
     "text": [
      "Peach's Paintbrush\u0000\u0000\u0000\u0000\u0000\u0000\u0000\u0000\u0000\u0000\u0000\u0000\u0000\u0000\u0000\n",
      "5dc426a30026df6f00ceaf54.bcd\n"
     ]
    },
    {
     "name": "stderr",
     "output_type": "stream",
     "text": [
      "  8%|██████▏                                                                      | 1131/13971 [01:40<37:11,  5.75it/s]"
     ]
    },
    {
     "name": "stdout",
     "output_type": "stream",
     "text": [
      "Claw Machine\u0000\u0000\u0000\u0000\u0000\u0000\u0000\u0000\u0000\u0000\u0000\u0000\u0000\u0000\u0000\u0000\u0000\u0000\u0000\u0000\u0000\n",
      "5dc426a30030cadc00ceaf51.bcd\n",
      "Super Mario Galaxy Adventure!\u0000\u0000\u0000\u0000\n",
      "5dc426a3003f98d100ceaf5c.bcd\n",
      "Mario the Gladiator\u0000\u0000\u0000\u0000\u0000\u0000\u0000\u0000\u0000\u0000\u0000\u0000\u0000\u0000\n",
      "5dc426a30042db6800ceaf55.bcd\n"
     ]
    },
    {
     "name": "stderr",
     "output_type": "stream",
     "text": [
      "  8%|██████▎                                                                      | 1135/13971 [01:40<30:47,  6.95it/s]"
     ]
    },
    {
     "name": "stdout",
     "output_type": "stream",
     "text": [
      "Traditional 1-2\u0000\u0000\u0000\u0000\u0000\u0000\u0000\u0000\u0000\u0000\u0000\u0000\u0000\u0000\u0000\u0000\u0000\u0000\n",
      "5dc426a3005f4b8300ceaf53.bcd\n",
      "Cumulus Castle Thwomp Romp\u0000\u0000\u0000\u0000\u0000\u0000\u0000\n",
      "5dc426a30083145900ceaf58.bcd\n"
     ]
    },
    {
     "name": "stderr",
     "output_type": "stream",
     "text": [
      "\r",
      "  8%|██████▎                                                                      | 1137/13971 [01:40<25:16,  8.46it/s]"
     ]
    },
    {
     "name": "stdout",
     "output_type": "stream",
     "text": [
      "Mario use Surfer\u0000 . . . ?\u0000\u0000\u0000\u0000\u0000\u0000\u0000\u0000\n",
      "5dc426a3008a238300ceaf5a.bcd\n",
      "Gusty Garden\u0000\u0000\u0000\u0000\u0000\u0000\u0000\u0000\u0000\u0000\u0000\u0000\u0000\u0000\u0000\u0000\u0000\u0000\u0000\u0000\u0000\n",
      "5dc426a30092920100ceaf57.bcd\n",
      "Down Into Icicle Caverns\u0000t now\u0000\u0000\u0000\n",
      "5dc426a30094c30b00ceaf4f.bcd\n",
      "▲Zelda: Kokiri Forest Twisters▼\u0000\u0000\n",
      "5dc426a300b78ab100ceaf4c.bcd\n"
     ]
    },
    {
     "name": "stderr",
     "output_type": "stream",
     "text": [
      "\r",
      "  8%|██████▎                                                                      | 1139/13971 [01:41<30:00,  7.13it/s]"
     ]
    },
    {
     "name": "stdout",
     "output_type": "stream",
     "text": [
      "ゴーストシップ・アドベンチャー\u0000\u0000\u0000\u0000\u0000\u0000\u0000\u0000\u0000\u0000\u0000\u0000\u0000\u0000\u0000\u0000\u0000\u0000\n",
      "5dc426a300dd11eb00ceaf50.bcd\n"
     ]
    },
    {
     "name": "stderr",
     "output_type": "stream",
     "text": [
      "  8%|██████▎                                                                      | 1142/13971 [01:41<29:29,  7.25it/s]"
     ]
    },
    {
     "name": "stdout",
     "output_type": "stream",
     "text": [
      "Invisible Block Lava Escape\u0000\u0000\u0000\u0000\u0000\u0000\n",
      "5dc426a300e12fff00ceaf5d.bcd\n",
      "The Great Goomba vs Koopa War\u0000\u0000\u0000\u0000\n",
      "5dc426a300eb908800ceaf56.bcd\n",
      "The Murky Swamp\u0000\u0000asy Mode]\u0000\u0000\u0000\u0000\u0000\u0000\u0000\n",
      "5dc426a4000313e600ceaf64.bcd\n",
      "Automatic\u0000\u0000\u0000\u0000\u0000\u0000\u0000\u0000\u0000\u0000\u0000\u0000\u0000\u0000\u0000\u0000\u0000\u0000\u0000\u0000\u0000\u0000\u0000\u0000"
     ]
    },
    {
     "name": "stderr",
     "output_type": "stream",
     "text": [
      "\r",
      "  8%|██████▎                                                                      | 1144/13971 [01:41<24:18,  8.80it/s]"
     ]
    },
    {
     "name": "stdout",
     "output_type": "stream",
     "text": [
      "\n",
      "5dc426a4000d88b200ceaf66.bcd\n",
      "Italiana Jones: Last Thwompade\u0000\u0000\u0000\n",
      "5dc426a40030a38600ceaf61.bcd\n"
     ]
    },
    {
     "name": "stderr",
     "output_type": "stream",
     "text": [
      "\r",
      "  8%|██████▎                                                                      | 1146/13971 [01:41<27:35,  7.74it/s]"
     ]
    },
    {
     "name": "stdout",
     "output_type": "stream",
     "text": [
      "Mario Returns From The Army-o\u0000\u0000n\u0000\n",
      "5dc426a40047bb7f00ceaf69.bcd\n",
      "The Forgotten Temple\u0000\u0000\u0000\u0000\u0000\u0000\u0000\u0000\u0000\u0000\u0000\u0000\u0000\n",
      "5dc426a40056485e00ceaf67.bcd\n",
      "SPINY SHELL PUZZLE\u0000\u0000\u0000\u0000\u0000\u0000\u0000\u0000\u0000\u0000\u0000\u0000\u0000\u0000\u0000\n",
      "5dc426a40070e9f800ceaf68.bcd\n"
     ]
    },
    {
     "name": "stderr",
     "output_type": "stream",
     "text": [
      "\r",
      "  8%|██████▎                                                                      | 1148/13971 [01:42<39:24,  5.42it/s]"
     ]
    },
    {
     "name": "stdout",
     "output_type": "stream",
     "text": [
      "Mount Embebebe\u0000\u0000\u0000\u0000\u0000\u0000\u0000\u0000\u0000\u0000\u0000\u0000\u0000\u0000\u0000\u0000\u0000\u0000\u0000\n",
      "5dc426a40072ec1400ceaf6d.bcd\n",
      "Zelda OoT: Jabu-Jabu's Belly\u0000BU\u0000\u0000\n",
      "5dc426a40082b6e600ceaf6b.bcd\n"
     ]
    },
    {
     "name": "stderr",
     "output_type": "stream",
     "text": [
      "  8%|██████▎                                                                      | 1152/13971 [01:43<35:05,  6.09it/s]"
     ]
    },
    {
     "name": "stdout",
     "output_type": "stream",
     "text": [
      "真実の鏡 ～Mirror project the truth～ \u0000\n",
      "5dc426a400a3547b00ceaf6c.bcd\n",
      "A World of Ice is Really Nice!\u0000\u0000\u0000\n",
      "5dc426a400ab8bdc00ceaf60.bcd\n"
     ]
    },
    {
     "name": "stderr",
     "output_type": "stream",
     "text": [
      "\r",
      "  8%|██████▎                                                                      | 1154/13971 [01:43<28:55,  7.39it/s]"
     ]
    },
    {
     "name": "stdout",
     "output_type": "stream",
     "text": [
      "The original 1-1, years later...\u0000\n",
      "5dc426a400bb408100ceaf62.bcd\n",
      "Do It Again! But Smaller...\u0000\u0000\u0000\u0000\u0000\u0000\n",
      "5dc426a400d52aa500ceaf63.bcd\n",
      "Snow Problem\u0000\u0000\u0000\u0000\u0000\u0000\u0000\u0000\u0000\u0000\u0000\u0000\u0000\u0000\u0000\u0000\u0000\u0000\u0000\u0000\u0000\n",
      "5dc426a5000fe6ee00ceaf72.bcd\n"
     ]
    },
    {
     "name": "stderr",
     "output_type": "stream",
     "text": [
      "  8%|██████▍                                                                      | 1158/13971 [01:43<21:48,  9.79it/s]"
     ]
    },
    {
     "name": "stdout",
     "output_type": "stream",
     "text": [
      "Super Mario Pocket Returns!\u0000\u0000\u0000\u0000\u0000\u0000\n",
      "5dc426a50036d7fe00ceaf6f.bcd\n",
      "Deep Dangerous Dive\u0000\u0000\u0000\u0000\u0000\u0000\u0000\u0000\u0000\u0000\u0000\u0000\u0000\u0000\n",
      "5dc426a5005032eb00ceaf79.bcd\n",
      "Descent Into 1-1...\u0000ller...\u0000\u0000\u0000\u0000\u0000\u0000\n",
      "5dc426a5005e263600ceaf70.bcd\n",
      "Whispering Bluffs\u0000mmers\u0000\u0000\u0000\u0000\u0000\u0000\u0000\u0000\u0000\u0000\n",
      "5dc426a500bd919200ceaf76.bcd\n"
     ]
    },
    {
     "name": "stderr",
     "output_type": "stream",
     "text": [
      "\r",
      "  8%|██████▍                                                                      | 1160/13971 [01:44<28:16,  7.55it/s]"
     ]
    },
    {
     "name": "stdout",
     "output_type": "stream",
     "text": [
      "Hug the Switch to Win \u0000actory\u0000\u0000\u0000\u0000\n",
      "5dc426a500c6c78800ceaf73.bcd\n",
      "Speed.run・ぷよぷよ!敵を踏み連鎖・PUYO!Chain\u0000\n",
      "5dc426a500cadb8500ceaf77.bcd\n",
      "Classic Conveyor Belts\u0000\u0000\u0000\u0000\u0000\u0000\u0000\u0000\u0000\u0000\u0000\n",
      "5dc426a500cd3fd400ceaf6e.bcd\n"
     ]
    },
    {
     "name": "stderr",
     "output_type": "stream",
     "text": [
      "  8%|██████▍                                                                      | 1164/13971 [01:44<22:46,  9.38it/s]"
     ]
    },
    {
     "name": "stdout",
     "output_type": "stream",
     "text": [
      "Jungle Claw - EASY\u0000 - EASY\u0000\u0000\u0000\u0000\u0000\u0000\u0000\n",
      "5dc426a500db7fb200ceaf71.bcd\n",
      "SMB W1 Full Marathon\u0000\u0000\u0000\u0000\u0000\u0000\u0000\u0000\u0000\u0000\u0000\u0000\u0000\n",
      "5dc426a500e9b1ae00ceaf78.bcd\n",
      "redcoin mansion\u0000\u0000\u0000\u0000\u0000\u0000\u0000\u0000\u0000\u0000\u0000\u0000\u0000\u0000\u0000\u0000\u0000\u0000\n",
      "5dc426b40001940300ceaf87.bcd\n"
     ]
    },
    {
     "name": "stderr",
     "output_type": "stream",
     "text": [
      "\r",
      "  8%|██████▍                                                                      | 1166/13971 [01:44<21:11, 10.07it/s]"
     ]
    },
    {
     "name": "stdout",
     "output_type": "stream",
     "text": [
      "Woof 2-2: Boa Blackout\u0000\u0000\u0000\u0000\u0000\u0000\u0000\u0000\u0000\u0000\u0000\n",
      "5dc426b40019e4c200ceaf8c.bcd\n",
      "▲Zelda's Switch Puzzle Dungeon▼\u0000\u0000\n",
      "5dc426b40029e72100ceaf8b.bcd\n"
     ]
    },
    {
     "name": "stderr",
     "output_type": "stream",
     "text": [
      "\r",
      "  8%|██████▍                                                                      | 1168/13971 [01:44<27:56,  7.64it/s]"
     ]
    },
    {
     "name": "stdout",
     "output_type": "stream",
     "text": [
      "The Great Escape - Run!\u0000 \u0000\u0000\u0000\u0000\u0000\u0000\u0000\u0000\n",
      "5dc426b4002a281600ceaf7d.bcd\n",
      "Hike up Frost Mountain\u0000\u0000\u0000\u0000\u0000\u0000\u0000\u0000\u0000\u0000\u0000\n",
      "5dc426b4004df73500ceaf88.bcd\n"
     ]
    },
    {
     "name": "stderr",
     "output_type": "stream",
     "text": [
      "\r",
      "  8%|██████▍                                                                      | 1170/13971 [01:45<24:09,  8.83it/s]"
     ]
    },
    {
     "name": "stdout",
     "output_type": "stream",
     "text": [
      "The Arby's Level\u0000\u0000\u0000\u0000\u0000\u0000\u0000\u0000\u0000\u0000\u0000\u0000\u0000\u0000\u0000\u0000\u0000\n",
      "5dc426b400502dad00ceaf85.bcd\n",
      "Hot Foot Lava Jump\u0000\u0000\u0000\u0000\u0000\u0000\u0000\u0000\u0000\u0000\u0000\u0000\u0000\u0000\u0000\n",
      "5dc426b4006a0e0500ceaf84.bcd\n",
      "Steredenn\u0000\u0000\u0000\u0000\u0000\u0000\u0000\u0000\u0000\u0000\u0000\u0000\u0000\u0000\u0000\u0000\u0000\u0000\u0000\u0000\u0000\u0000\u0000\u0000\n",
      "5dc426b4006abb9300ceaf7b.bcd\n",
      "Banzai Blitz Speedrun [20s]\u000040s]\u0000\n",
      "5dc426b400861bb800ceaf7f.bcd\n"
     ]
    },
    {
     "name": "stderr",
     "output_type": "stream",
     "text": [
      "\r",
      "  8%|██████▍                                                                      | 1173/13971 [01:45<21:04, 10.12it/s]"
     ]
    },
    {
     "name": "stdout",
     "output_type": "stream",
     "text": [
      "Crystal Spear Peak\u0000et Express!\u0000\u0000\u0000\n",
      "5dc426b40092ebf300ceaf8a.bcd\n"
     ]
    },
    {
     "name": "stderr",
     "output_type": "stream",
     "text": [
      "\r",
      "  8%|██████▍                                                                      | 1175/13971 [01:45<23:37,  9.03it/s]"
     ]
    },
    {
     "name": "stdout",
     "output_type": "stream",
     "text": [
      "Woof 2-3: Busy Belts\u0000\u0000\u0000\u0000\u0000\u0000\u0000\u0000\u0000\u0000\u0000\u0000\u0000\n",
      "5dc426b400ad0a3b00ceaf80.bcd\n",
      "今日もスピランでエンジョイ～#6 SpeedRun♪♪\u0000\u0000\u0000\u0000\u0000\u0000\n",
      "5dc426b400be530800ceaf83.bcd\n"
     ]
    },
    {
     "name": "stderr",
     "output_type": "stream",
     "text": [
      "\r",
      "  8%|██████▍                                                                      | 1177/13971 [01:45<25:29,  8.36it/s]"
     ]
    },
    {
     "name": "stdout",
     "output_type": "stream",
     "text": [
      "Dark Souls 1-2 - Undead Parish\u0000\u0000\u0000\n",
      "5dc426b400c3871e00ceaf86.bcd\n",
      "Malice At The Switch Palace\u0000\u0000\u0000\u0000\u0000\u0000\n",
      "5dc426b400c3c62000ceaf8d.bcd\n",
      "Splasher: A Bad Encounter\u00003\u0000rdeJ\u0000\n",
      "5dc426b400cbb32c00ceaf81.bcd\n"
     ]
    },
    {
     "name": "stderr",
     "output_type": "stream",
     "text": [
      "  8%|██████▌                                                                      | 1181/13971 [01:46<21:06, 10.10it/s]"
     ]
    },
    {
     "name": "stdout",
     "output_type": "stream",
     "text": [
      "Kaizo Skullege: Skeletons of Fun\u0000\n",
      "5dc426b400e5d94100ceaf7c.bcd\n",
      "Celeste - Prologue\u0000\u0000\u0000\u0000\u0000\u0000\u0000\u0000\u0000\u0000\u0000\u0000\u0000\u0000\u0000\n",
      "5dc426b500028ff200ceafa8.bcd\n",
      "Winter Wonderland Speedrun [20s]\u0000\n",
      "5dc426b50014669000ceaf98.bcd\n"
     ]
    },
    {
     "name": "stderr",
     "output_type": "stream",
     "text": [
      "\r",
      "  8%|██████▌                                                                      | 1183/13971 [01:46<21:13, 10.04it/s]"
     ]
    },
    {
     "name": "stdout",
     "output_type": "stream",
     "text": [
      "BOOM! You looking for this?\u0000\u0000\u0000\u0000\u0000\u0000\n",
      "5dc426b50019906700ceaf90.bcd\n",
      "Snowbound Land\u0000\u0000\u0000nd\u0000e\u0000\u0000\u0000\u0000\u0000\u0000\u0000\u0000\u0000\u0000\u0000\u0000\n",
      "5dc426b5002b27a500ceaf96.bcd\n",
      "Bowser mag es schwierig!\u0000\u0000\u0000\u0000\u0000\u0000\u0000\u0000\u0000\n",
      "5dc426b50056105a00ceaf99.bcd\n"
     ]
    },
    {
     "name": "stderr",
     "output_type": "stream",
     "text": [
      "  8%|██████▌                                                                      | 1187/13971 [01:46<18:59, 11.22it/s]"
     ]
    },
    {
     "name": "stdout",
     "output_type": "stream",
     "text": [
      "Abandoned Factory\u0000\u0000\u0000\u0000\u0000\u0000\u0000\u0000\u0000\u0000\u0000\u0000\u0000\u0000\u0000\u0000\n",
      "5dc426b50058e4c000ceaf8f.bcd\n",
      "[40 secs] Escape the Thwomps\u0000\u0000\u0000\u0000\u0000\n",
      "5dc426b5007064ca00ceaf9e.bcd\n",
      "Donut Chomps\u0000\u0000\u0000\u0000\u0000\u0000\u0000\u0000\u0000\u0000\u0000\u0000\u0000\u0000\u0000\u0000\u0000\u0000\u0000\u0000\u0000\n",
      "5dc426b5007e4f2800ceafa0.bcd\n",
      "Slides, Jumps & Grips (Run!)\u0000un)\u0000\n",
      "5dc426b5007fee2300ceaf9c.bcd\n"
     ]
    },
    {
     "name": "stderr",
     "output_type": "stream",
     "text": [
      "  9%|██████▌                                                                      | 1192/13971 [01:46<15:56, 13.36it/s]"
     ]
    },
    {
     "name": "stdout",
     "output_type": "stream",
     "text": [
      "AMM Kaizo Tricks (Basics)\u0000\u0000\u0000\u0000\u0000\u0000\u0000\u0000\n",
      "5dc426b500953cf000ceaf97.bcd\n",
      "Harpy Hideaway\u0000\u0000\u0000\u0000\u0000\u0000\u0000\u0000\u0000\u0000\u0000\u0000\u0000\u0000\u0000\u0000\u0000\u0000\u0000\n",
      "5dc426b500a8489300ceaf9f.bcd\n",
      "can you do it in the dark?\u0000mps\u0000\u0000\u0000\n",
      "5dc426b500a9454c00ceafa6.bcd\n",
      "[20s] Trust Coins, Ignore Arrows\u0000"
     ]
    },
    {
     "name": "stderr",
     "output_type": "stream",
     "text": [
      "\r",
      "  9%|██████▌                                                                      | 1194/13971 [01:47<15:55, 13.37it/s]"
     ]
    },
    {
     "name": "stdout",
     "output_type": "stream",
     "text": [
      "\n",
      "5dc426b500d5b8f900ceaf95.bcd\n",
      "Help him find her mother..\u0000\u0000\u0000\u0000\u0000\u0000\u0000\n",
      "5dc426b500e18d8700ceafa3.bcd\n",
      "Bounce with us!\u0000\u0000\u0000\u0000\u0000\u0000\u0000\u0000\u0000\u0000\u0000\u0000\u0000\u0000\u0000\u0000\u0000\u0000\n",
      "5dc426b500e5b89c00ceafa9.bcd\n",
      "SM64 - Peach's Castle (V6)\u0000\u0000\u0000\u0000\u0000\u0000\u0000\n",
      "5dc426b500e6d5d500ceaf9a.bcd\n"
     ]
    },
    {
     "name": "stderr",
     "output_type": "stream",
     "text": [
      "\r",
      "  9%|██████▌                                                                      | 1196/13971 [01:47<23:40,  8.99it/s]"
     ]
    },
    {
     "name": "stdout",
     "output_type": "stream",
     "text": [
      "Treetop Arcade\u0000\u0000\u0000\u0000\u0000\u0000\u0000\u0000\u0000\u0000\u0000\u0000\u0000\u0000\u0000\u0000\u0000\u0000\u0000\n",
      "5dc426b500f4443c00ceaf93.bcd\n",
      "Run Mario, Run!\u0000\u0000\u0000\u0000\u0000\u0000\u0000\u0000\u0000\u0000\u0000\u0000\u0000\u0000\u0000\u0000\u0000\u0000"
     ]
    },
    {
     "name": "stderr",
     "output_type": "stream",
     "text": [
      "\r",
      "  9%|██████▌                                                                      | 1198/13971 [01:47<24:25,  8.71it/s]"
     ]
    },
    {
     "name": "stdout",
     "output_type": "stream",
     "text": [
      "\n",
      "5dc426b60022062600ceafab.bcd\n",
      "Dr. Kooper's Twisted Curse\u0000\u0000\u0000\u0000\u0000\u0000\u0000\n",
      "5dc426b60034071000ceafb1.bcd\n",
      "Erma's Well of Horrors\u0000\u0000\u0000\u0000\u0000\u0000\u0000\u0000\u0000\u0000\u0000\n",
      "5dc426b60049a5b500ceafae.bcd\n"
     ]
    },
    {
     "name": "stderr",
     "output_type": "stream",
     "text": [
      "\r",
      "  9%|██████▌                                                                      | 1200/13971 [01:48<25:45,  8.26it/s]"
     ]
    },
    {
     "name": "stdout",
     "output_type": "stream",
     "text": [
      "Montygues and Koopulets\u0000oopulets\u0000\n",
      "5dc426b6007ae80f00ceafb0.bcd\n",
      "Mausoleum at Halicarnassus!\u0000\u0000\u0000\u0000\u0000\u0000\n",
      "5dc426b600901b8a00ceafb2.bcd\n"
     ]
    },
    {
     "name": "stderr",
     "output_type": "stream",
     "text": [
      "  9%|██████▋                                                                      | 1203/13971 [01:48<28:07,  7.57it/s]"
     ]
    },
    {
     "name": "stdout",
     "output_type": "stream",
     "text": [
      " Spot the difference\u0000\u0000\u0000\u0000\u0000\u0000\u0000\u0000\u0000\u0000\u0000\u0000\u0000\n",
      "5dc426b60091ab0a00ceafac.bcd\n",
      "Sternenfuchs\u0000\u0000\u0000\u0000\u0000\u0000\u0000\u0000\u0000\u0000\u0000\u0000\u0000\u0000\u0000\u0000\u0000\u0000\u0000\u0000\u0000\n",
      "5dc426b600a5ce0100ceafb4.bcd\n",
      "Icicle Race\u0000\u0000\u0000\u0000\u0000\u0000inished\u0000\u0000\u0000\u0000\u0000\u0000\u0000\u0000\u0000"
     ]
    },
    {
     "name": "stderr",
     "output_type": "stream",
     "text": [
      "\r",
      "  9%|██████▋                                                                      | 1205/13971 [01:48<23:17,  9.13it/s]"
     ]
    },
    {
     "name": "stdout",
     "output_type": "stream",
     "text": [
      "\n",
      "5dc426b600b309a600ceafb6.bcd\n",
      "Hanging Gardens of Babylon!\u0000\u0000\u0000\u0000\u0000\u0000\n",
      "5dc426b600cbb2e500ceafb3.bcd\n"
     ]
    },
    {
     "name": "stderr",
     "output_type": "stream",
     "text": [
      "\r",
      "  9%|██████▋                                                                      | 1207/13971 [01:48<26:37,  7.99it/s]"
     ]
    },
    {
     "name": "stdout",
     "output_type": "stream",
     "text": [
      "Dark Souls 1-1 - Firelink Shrine\u0000\n",
      "5dc426b600f36ff400ceafaf.bcd\n",
      "Rising from the poison\u0000\u0000\u0000\u0000\u0000\u0000\u0000\u0000\u0000\u0000\u0000\n",
      "5dc426c4000bad6e00ceafbb.bcd\n"
     ]
    },
    {
     "name": "stderr",
     "output_type": "stream",
     "text": [
      "  9%|██████▋                                                                      | 1209/13971 [01:49<30:09,  7.05it/s]"
     ]
    },
    {
     "name": "stdout",
     "output_type": "stream",
     "text": [
      "Dark Souls 1-5 - Sen's Fortress\u0000\u0000\n",
      "5dc426c4003606ef00ceafb9.bcd\n",
      "Hop King (Medium) \u0000\u0000\u0000\u0000\u0000\u0000\u0000\u0000\u0000\u0000\u0000\u0000\u0000\u0000\u0000\n",
      "5dc426c400dbe19e00ceafba.bcd\n",
      "stay calm PACO!\u0000\u0000uettes\u0000hwomps\u0000\u0000\u0000\n",
      "5dc426c50006c5b300ceafc1.bcd\n"
     ]
    },
    {
     "name": "stderr",
     "output_type": "stream",
     "text": [
      "  9%|██████▋                                                                      | 1214/13971 [01:49<21:30,  9.88it/s]"
     ]
    },
    {
     "name": "stdout",
     "output_type": "stream",
     "text": [
      "Woof 1-5: Cannonball Chaos\u0000\u0000\u0000\u0000\u0000\u0000\u0000\n",
      "5dc426c50008a26800ceafbe.bcd\n",
      "Rainbow Athletic\u0000c\u0000\u0000\u0000\u0000\u0000\u0000\u0000\u0000\u0000\u0000\u0000\u0000\u0000\u0000\u0000\n",
      "5dc426c5002389cc00ceafcd.bcd\n",
      "Dark Souls 1-4 - Blighttown\u0000\u0000\u0000\u0000\u0000\u0000\n",
      "5dc426c5002ba7da00ceafc5.bcd\n"
     ]
    },
    {
     "name": "stderr",
     "output_type": "stream",
     "text": [
      "\r",
      "  9%|██████▋                                                                      | 1216/13971 [01:49<20:57, 10.14it/s]"
     ]
    },
    {
     "name": "stdout",
     "output_type": "stream",
     "text": [
      "Thwomp Kingdom\u0000\u0000\u0000\u0000\u0000\u0000\u0000\u0000\u0000\u0000\u0000\u0000\u0000\u0000\u0000\u0000\u0000\u0000\u0000\n",
      "5dc426c50046592000ceafcc.bcd\n",
      "A level of ice and fire\u0000time out\u0000\n",
      "5dc426c5005de54000ceafca.bcd\n",
      "LUIGI HAS HAD ENOUGH v2\u0000\u0000\u0000\u0000\u0000\u0000\u0000\u0000\u0000\u0000\n",
      "5dc426c50061c63c00ceafc9.bcd\n"
     ]
    },
    {
     "name": "stderr",
     "output_type": "stream",
     "text": [
      "\r",
      "  9%|██████▋                                                                      | 1218/13971 [01:50<29:34,  7.19it/s]"
     ]
    },
    {
     "name": "stdout",
     "output_type": "stream",
     "text": [
      "Potatochan's Tower of Trolls\u0000\u0000\u0000\u0000\u0000\n",
      "5dc426c500779c1800ceafc0.bcd\n",
      "Trampolines Of Terrors\u0000\u0000\u0000\u0000\u0000\u0000\u0000\u0000\u0000\u0000\u0000\n",
      "5dc426c5009b6d3c00ceafbf.bcd\n",
      "Spinning Ascent #DGR\u0000\u0000\u0000\u0000\u0000\u0000\u0000\u0000\u0000\u0000\u0000\u0000\u0000"
     ]
    },
    {
     "name": "stderr",
     "output_type": "stream",
     "text": [
      "\r",
      "  9%|██████▋                                                                      | 1220/13971 [01:50<24:14,  8.77it/s]"
     ]
    },
    {
     "name": "stdout",
     "output_type": "stream",
     "text": [
      "\n",
      "5dc426c500b2ede500ceafc6.bcd\n",
      "Trolling Redemption\u0000ly\u0000\u0000\u0000\u0000\u0000\u0000\u0000\u0000\u0000\u0000\u0000\n",
      "5dc426c500e14b2a00ceafbc.bcd\n"
     ]
    },
    {
     "name": "stderr",
     "output_type": "stream",
     "text": [
      "  9%|██████▊                                                                      | 1225/13971 [01:50<19:52, 10.69it/s]"
     ]
    },
    {
     "name": "stdout",
     "output_type": "stream",
     "text": [
      "Wormania\u0000\u0000\u0000\u0000\u0000\u0000\u0000\u0000\u0000\u0000\u0000\u0000\u0000\u0000\u0000\u0000\u0000\u0000\u0000\u0000\u0000\u0000\u0000\u0000\u0000\n",
      "5dc426c500edafe100ceafc3.bcd\n",
      "Keizo: Snowy Shell\u0000\u0000\u0000\u0000\u0000\u0000\u0000\u0000\u0000\u0000\u0000\u0000\u0000\u0000\u0000\n",
      "5dc426c60015b73300ceafd7.bcd\n",
      "On or Off? [GLP]\u0000 Off\u0000\u0000\u0000\u0000\u0000\u0000\u0000\u0000\u0000\u0000\u0000\u0000\n",
      "5dc426c600183ee000ceafdf.bcd\n",
      "Deep in the Swamps\u0000\u0000\u0000\u0000\u0000\u0000\u0000\u0000\u0000\u0000\u0000\u0000\u0000\u0000\u0000\n",
      "5dc426c6001b8a5f00ceafd0.bcd\n"
     ]
    },
    {
     "name": "stderr",
     "output_type": "stream",
     "text": [
      "\r",
      "  9%|██████▊                                                                      | 1227/13971 [01:50<20:00, 10.62it/s]"
     ]
    },
    {
     "name": "stdout",
     "output_type": "stream",
     "text": [
      "Icicle Slides\u0000\u0000\u0000\u0000 Cordillera\u0000\u0000\u0000\u0000\u0000\n",
      "5dc426c6001f69bf00ceafd1.bcd\n",
      "Mildew Maws\u0000\u0000\u0000\u0000\u0000\u0000\u0000\u0000\u0000\u0000\u0000\u0000\u0000\u0000\u0000\u0000\u0000\u0000\u0000\u0000\u0000\u0000\n",
      "5dc426c600259f8700ceafdb.bcd\n",
      "The Frozen Backwards Only Cave\u0000\u0000\u0000\n",
      "5dc426c600289d3400ceafda.bcd\n"
     ]
    },
    {
     "name": "stderr",
     "output_type": "stream",
     "text": [
      "\r",
      "  9%|██████▊                                                                      | 1229/13971 [01:51<30:14,  7.02it/s]"
     ]
    },
    {
     "name": "stdout",
     "output_type": "stream",
     "text": [
      "Thwomping Grounds\u0000\u0000\u0000\u0000\u0000\u0000\u0000\u0000\u0000\u0000\u0000\u0000\u0000\u0000\u0000\u0000\n",
      "5dc426c60041aa5400ceafe2.bcd\n",
      "Collapsing Crania Cordillera\u0000\u0000\u0000\u0000\u0000\n",
      "5dc426c60079a58800ceafdd.bcd\n",
      "♪Cirno's Perfect Math Class♪\u0000\u0000\u0000\u0000\u0000\n",
      "5dc426c600a5002500ceafe1.bcd\n"
     ]
    },
    {
     "name": "stderr",
     "output_type": "stream",
     "text": [
      "  9%|██████▊                                                                      | 1232/13971 [01:51<31:31,  6.74it/s]"
     ]
    },
    {
     "name": "stdout",
     "output_type": "stream",
     "text": [
      "Koopa slaughter\u0000\u0000\u0000\u0000\u0000\u0000\u0000\u0000\u0000\u0000\u0000\u0000\u0000\u0000\u0000\u0000\u0000\u0000\n",
      "5dc426c600ad7fff00ceafd5.bcd\n",
      "Skyfall\u0000\u0000\u0000\u0000\u0000\u0000\u0000\u0000\u0000\u0000\u0000\u0000\u0000\u0000\u0000\u0000\u0000\u0000\u0000\u0000\u0000\u0000\u0000\u0000\u0000\u0000\n",
      "5dc426c600c3d2b500ceafd9.bcd\n",
      "Super Mario Bros. (Abridged)\u0000\u0000\u0000\u0000\u0000\n",
      "5dc426c600c8b62600ceafe4.bcd\n"
     ]
    },
    {
     "name": "stderr",
     "output_type": "stream",
     "text": [
      "  9%|██████▊                                                                      | 1236/13971 [01:52<23:08,  9.17it/s]"
     ]
    },
    {
     "name": "stdout",
     "output_type": "stream",
     "text": [
      "Dark Souls 1-3 - The Depths\u0000\u0000\u0000\u0000\u0000\u0000\n",
      "5dc426c600cf6d5200ceafcf.bcd\n",
      "Bowser's Crumbling Castle (Hard)\u0000\n",
      "5dc426c600d7483700ceafdc.bcd\n",
      "POEligroso!!\u0000\u0000\u0000\u0000\u0000\u0000\u0000\u0000\u0000\u0000\u0000\u0000\u0000\u0000\u0000\u0000\u0000\u0000\u0000\u0000\u0000\n",
      "5dc426c600d80ab400ceafd4.bcd\n",
      "Friede Freude Eierkuchen\u0000\u0000\u0000\u0000\u0000\u0000\u0000\u0000\u0000\n",
      "5dc426c600debde200ceafe3.bcd\n",
      "Chainsaw Cave \u0000\u0000\u0000\u0000\u0000\u0000\u0000\u0000\u0000\u0000\u0000\u0000\u0000\u0000\u0000\u0000\u0000\u0000\u0000\n",
      "5dc426c600fb959900ceafd8.bcd\n"
     ]
    },
    {
     "name": "stderr",
     "output_type": "stream",
     "text": [
      "\r",
      "  9%|██████▊                                                                      | 1239/13971 [01:52<21:53,  9.70it/s]"
     ]
    },
    {
     "name": "stdout",
     "output_type": "stream",
     "text": [
      "JungleRun2 (20 seconds speedrun)\u0000\n",
      "5dc426c700051d1e00ceafee.bcd\n",
      "Mellow Marsh\u0000\u0000\u0000\u0000\u0000de Well 3\u0000\u0000\u0000\u0000\u0000\u0000\u0000\n",
      "5dc426c7000f75c500ceafe5.bcd\n"
     ]
    },
    {
     "name": "stderr",
     "output_type": "stream",
     "text": [
      "  9%|██████▊                                                                      | 1244/13971 [01:53<24:46,  8.56it/s]"
     ]
    },
    {
     "name": "stdout",
     "output_type": "stream",
     "text": [
      "マスターオブギャラクシー\u0000\u0000\u0000\u0000　！ティキトング　バレル再現\u0000\u0000\u0000\n",
      "5dc426c70036f66500ceafef.bcd\n",
      "Woof 2-4: Platformality\u0000ure\u0000\u0000\u0000\u0000\u0000\u0000\n",
      "5dc426c700486e6700ceaff2.bcd\n",
      "Magikastle\u0000\u0000\u0000\u0000\u0000\u0000\u0000\u0000\u0000\u0000\u0000\u0000\u0000\u0000\u0000\u0000\u0000\u0000\u0000\u0000\u0000\u0000\u0000\n",
      "5dc426c700b83b1100ceafea.bcd\n"
     ]
    },
    {
     "name": "stderr",
     "output_type": "stream",
     "text": [
      "\r",
      "  9%|██████▊                                                                      | 1246/13971 [01:53<23:17,  9.10it/s]"
     ]
    },
    {
     "name": "stdout",
     "output_type": "stream",
     "text": [
      "Spin-Pow\u0000\u0000\u0000\u0000\u0000\u0000\u0000\u0000\u0000\u0000\u0000\u0000\u0000\u0000\u0000\u0000\u0000\u0000\u0000\u0000\u0000\u0000\u0000\u0000\u0000\n",
      "5dc426c700be412100ceaff0.bcd\n",
      "The Flames Of The Dark Mansion\u0000\u0000\u0000\n",
      "5dc426c700c592df00ceafeb.bcd\n",
      "Spin-Jump up the Skytree!\u0000\u0000\u0000\u0000\u0000\u0000\u0000\u0000\n",
      "5dc426c700e981c300ceafec.bcd\n",
      "♪DKC2: Stickerbush Symphony♪\u0000\u0000\u0000\u0000\u0000"
     ]
    },
    {
     "name": "stderr",
     "output_type": "stream",
     "text": [
      "\r",
      "  9%|██████▉                                                                      | 1248/13971 [01:53<25:32,  8.30it/s]"
     ]
    },
    {
     "name": "stdout",
     "output_type": "stream",
     "text": [
      "\n",
      "5dc426d5000ec56800ceaff5.bcd\n",
      "The Princesses' Secret Slide\u0000\u0000\u0000\u0000\u0000\n",
      "5dc426d5000f457600ceaff4.bcd\n"
     ]
    },
    {
     "name": "stderr",
     "output_type": "stream",
     "text": [
      "  9%|██████▉                                                                      | 1251/13971 [01:53<30:57,  6.85it/s]"
     ]
    },
    {
     "name": "stdout",
     "output_type": "stream",
     "text": [
      "狙撃王への道！！初級　4人でバトル\u0000\u0000\u0000\u0000\u0000\u0000\u0000\u0000\u0000\u0000\u0000\u0000\u0000\u0000\u0000\u0000\n",
      "5dc426d500338a8e00ceaff8.bcd\n",
      "♪Lost Woods♪ (Zelda OoT)\u0000\u0000\u0000\u0000\u0000\u0000\u0000\u0000\u0000\n",
      "5dc426d50064221a00ceaffd.bcd\n",
      "Boom-Boom Ruins\u0000\u0000aland\u0000ght Remix\u0000\n",
      "5dc426d500a8164100ceaff6.bcd\n",
      "Mario Party: Cloud Race\u0000\u0000\u0000\u0000\u0000\u0000\u0000\u0000\u0000\u0000"
     ]
    },
    {
     "name": "stderr",
     "output_type": "stream",
     "text": [
      "\r",
      "  9%|██████▉                                                                      | 1254/13971 [01:54<24:33,  8.63it/s]"
     ]
    },
    {
     "name": "stdout",
     "output_type": "stream",
     "text": [
      "\n",
      "5dc426d500c12d2500ceaffe.bcd\n",
      "♪♭Ultra Instinct Goku♪♭\u0000\u0000\u0000\u0000\u0000\u0000\u0000\u0000\u0000\u0000\n",
      "5dc426d500ce1b3600ceaff7.bcd\n",
      "Don't move!\u0000\u0000\u0000\u0000\u0000\u0000\u0000\u0000\u0000\u0000\u0000\u0000\u0000\u0000\u0000\u0000\u0000\u0000\u0000\u0000\u0000\u0000\n",
      "5dc426d500d3c3f200ceaffa.bcd\n",
      "Banjo-Kazooie: ♪Spiral Mountain♪\u0000\n",
      "5dc426d500ff777b00ceaffc.bcd\n"
     ]
    },
    {
     "name": "stderr",
     "output_type": "stream",
     "text": [
      "\r",
      "  9%|██████▉                                                                      | 1256/13971 [01:54<27:19,  7.75it/s]"
     ]
    },
    {
     "name": "stdout",
     "output_type": "stream",
     "text": [
      "▲Kamek`s Transformation Curse▼\u0000\u0000\u0000\n",
      "5dc426d6001b142500ceb003.bcd\n"
     ]
    },
    {
     "name": "stderr",
     "output_type": "stream",
     "text": [
      "\r",
      "  9%|██████▉                                                                      | 1258/13971 [01:54<29:03,  7.29it/s]"
     ]
    },
    {
     "name": "stdout",
     "output_type": "stream",
     "text": [
      "SMB Power-Up Training\u0000\u0000\u0000\u0000\u0000\u0000\u0000\u0000\u0000\u0000\u0000\u0000\n",
      "5dc426d600322c5200ceb000.bcd\n",
      "みんなでバトル用コース/Multiplayer Versus\u0000\u0000\u0000\n",
      "5dc426d60034411100ceb009.bcd\n",
      "The Airship Race\u0000\u0000\u0000\u0000\u0000\u0000\u0000\u0000\u0000\u0000\u0000\u0000\u0000\u0000\u0000\u0000\u0000\n",
      "5dc426d6004e46ae00ceb00c.bcd\n",
      "Bowser & Jr's Fortress Frenzy\u0000\u0000\u0000\u0000\n",
      "5dc426d60087f5d000ceb004.bcd\n"
     ]
    },
    {
     "name": "stderr",
     "output_type": "stream",
     "text": [
      "\r",
      "  9%|██████▉                                                                      | 1261/13971 [01:55<27:02,  7.84it/s]"
     ]
    },
    {
     "name": "stdout",
     "output_type": "stream",
     "text": [
      "Journey to Atlantis\u0000\u0000\u0000\u0000\u0000\u0000\u0000\u0000\u0000\u0000\u0000\u0000\u0000\u0000\n",
      "5dc426d6009d5cfe00ceb007.bcd\n"
     ]
    },
    {
     "name": "stderr",
     "output_type": "stream",
     "text": [
      "\r",
      "  9%|██████▉                                                                      | 1262/13971 [01:55<34:41,  6.11it/s]"
     ]
    },
    {
     "name": "stdout",
     "output_type": "stream",
     "text": [
      "スーパーボールフラワーを使って冒険へ\u0000\u0000\u0000\u0000\u0000\u0000\u0000\u0000\u0000\u0000\u0000\u0000\u0000\u0000\u0000\n",
      "5dc426d600a9437f00ceb00a.bcd\n"
     ]
    },
    {
     "name": "stderr",
     "output_type": "stream",
     "text": [
      "  9%|██████▉                                                                      | 1264/13971 [01:55<32:45,  6.46it/s]"
     ]
    },
    {
     "name": "stdout",
     "output_type": "stream",
     "text": [
      "くれない★ロックシューター/Red-Shell Shooter\u0000\u0000\n",
      "5dc426d600b06ad400ceb001.bcd\n",
      "五つのルートを一部屋に。　初代スキン\u0000\u0000\u0000\u0000\u0000\u0000\u0000\u0000\u0000\u0000\u0000\u0000\u0000\u0000\u0000\n",
      "5dc426d600bd39b400ceb00b.bcd\n",
      "♪ Pumped Up Kicks ♪\u0000\u0000\u0000\u0000\u0000\u0000\u0000\u0000\u0000\u0000\u0000\u0000\u0000\u0000\n",
      "5dc426d600c1fd1200ceb002.bcd\n",
      "♪♪Midna's lament ♪♪ \u0000\u0000\u0000\u0000\u0000\u0000\u0000\u0000\u0000\u0000\u0000\u0000\u0000"
     ]
    },
    {
     "name": "stderr",
     "output_type": "stream",
     "text": [
      "\r",
      "  9%|██████▉                                                                      | 1267/13971 [01:55<26:49,  7.89it/s]"
     ]
    },
    {
     "name": "stdout",
     "output_type": "stream",
     "text": [
      "\n",
      "5dc426d600e3309700ceb008.bcd\n",
      "A Tranquil Place\u0000e\u0000\u0000\u0000\u0000\u0000\u0000\u0000\u0000\u0000\u0000\u0000\u0000\u0000\u0000\u0000\n",
      "5dc426d7000c4b6700ceb020.bcd\n"
     ]
    },
    {
     "name": "stderr",
     "output_type": "stream",
     "text": [
      "\r",
      "  9%|██████▉                                                                      | 1269/13971 [01:56<27:57,  7.57it/s]"
     ]
    },
    {
     "name": "stdout",
     "output_type": "stream",
     "text": [
      "♪Zelda Wind Waker Medley♪(AUTO!)\u0000\n",
      "5dc426d70021688b00ceb00e.bcd\n",
      "√Keep running. (->+Y. )√\u0000\u0000\u0000\u0000\u0000\u0000\u0000\u0000\u0000\n",
      "5dc426d70035749000ceb01a.bcd\n"
     ]
    },
    {
     "name": "stderr",
     "output_type": "stream",
     "text": [
      "\r",
      "  9%|██████▉                                                                      | 1270/13971 [01:56<57:42,  3.67it/s]"
     ]
    },
    {
     "name": "stdout",
     "output_type": "stream",
     "text": [
      "「命に嫌われている。」 演奏してみた <歩き演奏>\u0000\u0000\u0000\u0000\u0000\u0000\u0000\u0000\n",
      "5dc426d700395d3f00ceb00f.bcd\n"
     ]
    },
    {
     "name": "stderr",
     "output_type": "stream",
     "text": [
      "  9%|███████                                                                      | 1272/13971 [01:57<52:39,  4.02it/s]"
     ]
    },
    {
     "name": "stdout",
     "output_type": "stream",
     "text": [
      "名探偵コナン メインテーマ / Detective Conan\u0000\u0000\n",
      "5dc426d7004bb47800ceb014.bcd\n",
      "⊂\\KEEP RUNNING/(→+Y)       !RUN!\u0000\n",
      "5dc426d70053d71b00ceb012.bcd\n"
     ]
    },
    {
     "name": "stderr",
     "output_type": "stream",
     "text": [
      "  9%|███████                                                                      | 1276/13971 [01:57<41:36,  5.08it/s]"
     ]
    },
    {
     "name": "stdout",
     "output_type": "stream",
     "text": [
      "Mario Looks For an Outhouse\u0000\u0000\u0000\u0000\u0000\u0000\n",
      "5dc426d7006200bc00ceb013.bcd\n",
      "The River Styx\u0000\u0000\u0000\u0000\u0000\u0000\u0000\u0000\u0000\u0000\u0000\u0000\u0000\u0000\u0000\u0000\u0000\u0000\u0000\n",
      "5dc426d70086983a00ceb01e.bcd\n",
      "Actual VS race!!!\u0000e's start\u0000ning\u0000\n",
      "5dc426d7008e5e5d00ceb01b.bcd\n",
      "Beginner Level\u0000\u0000\u0000\u0000\u0000\u0000\u0000\u0000\u0000\u0000\u0000\u0000\u0000\u0000\u0000\u0000\u0000\u0000\u0000\n",
      "5dc426d70097923400ceb016.bcd\n",
      "スベってジャンプ！/ Slide & Jump!\u0000\u0000\u0000\u0000\u0000\u0000\u0000\u0000\u0000\n",
      "5dc426d700a219e800ceb017.bcd\n"
     ]
    },
    {
     "name": "stderr",
     "output_type": "stream",
     "text": [
      "  9%|███████                                                                      | 1280/13971 [01:57<26:33,  7.96it/s]"
     ]
    },
    {
     "name": "stdout",
     "output_type": "stream",
     "text": [
      "テレサいっぱいのお化け屋敷　ダッシュ自動　KEEP →+Y\u0000+Y\u0000\n",
      "5dc426d700a5cb3000ceb00d.bcd\n",
      "Boom Boom's Tower of Platforms\u0000\u0000\u0000\n",
      "5dc426d700d12d7e00ceb01c.bcd\n",
      "【Auto】～毒沼の追跡者～(Don't move)\u0000Skin)\u0000\n",
      "5dc426d700db5c5300ceb01f.bcd\n",
      "MISSION：クッパ軍団のタワー建設を阻止せよ！\u0000\u0000\u0000\u0000\u0000\u0000\u0000\u0000\n",
      "5dc426d700f9b10200ceb01d.bcd\n"
     ]
    },
    {
     "name": "stderr",
     "output_type": "stream",
     "text": [
      "  9%|███████                                                                      | 1284/13971 [01:58<21:53,  9.66it/s]"
     ]
    },
    {
     "name": "stdout",
     "output_type": "stream",
     "text": [
      "Automatic Level (Don't move!)\u0000\u0000\u0000\u0000\n",
      "5dc426d700fa446d00ceb018.bcd\n",
      "Super Guitario Bros.\u0000test\u0000\u0000\u0000\u0000\u0000\u0000\u0000\u0000\n",
      "5dc426d8000c8cad00ceb027.bcd\n",
      "King Bowser's Spaceship Armada\u0000\u0000\u0000\n",
      "5dc426d80024c7d900ceb02c.bcd\n"
     ]
    },
    {
     "name": "stderr",
     "output_type": "stream",
     "text": [
      "\r",
      "  9%|███████                                                                      | 1286/13971 [01:58<21:11,  9.98it/s]"
     ]
    },
    {
     "name": "stdout",
     "output_type": "stream",
     "text": [
      "MarioWars2 DarthBowsersRevenge♪\u0000\u0000\n",
      "5dc426d8003d929500ceb02e.bcd\n",
      "Mountain Reflections\u0000ness v3\u0000in\u0000\u0000\n",
      "5dc426d80040369a00ceb022.bcd\n",
      "Super Mario Bros. 3 World 1\u0000\u0000\u0000\u0000\u0000\u0000\n",
      "5dc426d8004b759200ceb029.bcd\n"
     ]
    },
    {
     "name": "stderr",
     "output_type": "stream",
     "text": [
      "\r",
      "  9%|███████                                                                      | 1288/13971 [01:58<19:18, 10.95it/s]"
     ]
    },
    {
     "name": "stdout",
     "output_type": "stream",
     "text": [
      "Mini Switch Adventure\u0000\u0000\u0000\u0000\u0000\u0000\u0000\u0000\u0000\u0000\u0000\u0000\n",
      "5dc426d8005aa7d500ceb025.bcd\n",
      "夢の泉の物語/Kirby's Adventure\u0000\u0000\u0000\u0000\u0000\u0000\u0000\u0000\u0000\n",
      "5dc426d8007a8b6a00ceb023.bcd\n"
     ]
    },
    {
     "name": "stderr",
     "output_type": "stream",
     "text": [
      "\r",
      "  9%|███████                                                                      | 1290/13971 [01:59<31:24,  6.73it/s]"
     ]
    },
    {
     "name": "stdout",
     "output_type": "stream",
     "text": [
      "Storm the Flooded Castle\u0000\u0000\u0000\u0000\u0000\u0000\u0000\u0000\u0000\n",
      "5dc426d80090d14500ceb02a.bcd\n",
      "Fire.flower.or.YOSHI!・フラワーかヨッシー!\u0000\n",
      "5dc426d800b21d2f00ceb02d.bcd\n"
     ]
    },
    {
     "name": "stderr",
     "output_type": "stream",
     "text": [
      "  9%|███████▏                                                                     | 1293/13971 [01:59<32:42,  6.46it/s]"
     ]
    },
    {
     "name": "stdout",
     "output_type": "stream",
     "text": [
      "Boom Boom's Pipe Palace\u0000\u0000\u0000\u0000\u0000\u0000\u0000\u0000\u0000\u0000\n",
      "5dc426d800b7a0d500ceb026.bcd\n",
      "M1-1: MUSHROOM VALLEY\u0000\u0000\u0000\u0000\u0000\u0000\u0000\u0000\u0000\u0000\u0000\u0000\n",
      "5dc426d800c002ad00ceb024.bcd\n"
     ]
    },
    {
     "name": "stderr",
     "output_type": "stream",
     "text": [
      "\r",
      "  9%|███████▏                                                                     | 1294/13971 [01:59<30:11,  7.00it/s]"
     ]
    },
    {
     "name": "stdout",
     "output_type": "stream",
     "text": [
      "Wiggler Wharf\u0000\u0000\u0000\u0000\u0000\u0000\u0000\u0000\u0000\u0000\u0000\u0000\u0000\u0000\u0000\u0000\u0000\u0000\u0000\u0000\n",
      "5dc426d800d4096900ceb028.bcd\n",
      "Explode Bob-omb! / 폭탄병 터뜨리기!\u0000\u0000\u0000\u0000\u0000\n",
      "5dc426d800ef215c00ceb02b.bcd\n"
     ]
    },
    {
     "name": "stderr",
     "output_type": "stream",
     "text": [
      "\r",
      "  9%|███████▏                                                                     | 1296/13971 [01:59<27:55,  7.57it/s]"
     ]
    },
    {
     "name": "stdout",
     "output_type": "stream",
     "text": [
      "◎●Mario Land Superball Shooter●◎\u0000\n",
      "5dc426e40000739500ceb03b.bcd\n"
     ]
    },
    {
     "name": "stderr",
     "output_type": "stream",
     "text": [
      "\r",
      "  9%|███████▏                                                                     | 1297/13971 [02:00<36:51,  5.73it/s]"
     ]
    },
    {
     "name": "stdout",
     "output_type": "stream",
     "text": [
      "[Quiz] Look Picture, Choose Item\u0000\n",
      "5dc426e40018e02e00ceb033.bcd\n"
     ]
    },
    {
     "name": "stderr",
     "output_type": "stream",
     "text": [
      "\r",
      "  9%|███████▏                                                                     | 1298/13971 [02:00<46:01,  4.59it/s]"
     ]
    },
    {
     "name": "stdout",
     "output_type": "stream",
     "text": [
      "Shrinking Mario 縮むマリオ\u0000毒沼スピードラン\u0000s\u0000\n",
      "5dc426e4001d09d000ceb036.bcd\n"
     ]
    },
    {
     "name": "stderr",
     "output_type": "stream",
     "text": [
      "  9%|███████▏                                                                     | 1301/13971 [02:00<39:23,  5.36it/s]"
     ]
    },
    {
     "name": "stdout",
     "output_type": "stream",
     "text": [
      "Auto-Switch Castle\u0000\u0000\u0000\u0000\u0000\u0000\u0000\u0000\u0000\u0000\u0000\u0000\u0000\u0000\u0000\n",
      "5dc426e40021d4c700ceb030.bcd\n",
      "The Star-Bound Train\u0000\u0000\u0000\u0000\u0000\u0000\u0000\u0000\u0000\u0000\u0000\u0000\u0000\n",
      "5dc426e4002e367c00ceb03a.bcd\n",
      "◆ Ghost Mirror ◆ 1.1\u0000\u0000\u0000\u0000\u0000\u0000\u0000\u0000\u0000\u0000\u0000\u0000\u0000\n",
      "5dc426e40061f70700ceb034.bcd\n"
     ]
    },
    {
     "name": "stderr",
     "output_type": "stream",
     "text": [
      "  9%|███████▏                                                                     | 1303/13971 [02:01<36:19,  5.81it/s]"
     ]
    },
    {
     "name": "stdout",
     "output_type": "stream",
     "text": [
      "The Ice Mines!\u0000\u0000\u0000\u0000\u0000\u0000\u0000\u0000\u0000\u0000\u0000\u0000\u0000\u0000\u0000\u0000\u0000\u0000\u0000\n",
      "5dc426e40066570f00ceb035.bcd\n",
      "Shuttle Launch\u0000\u0000\u0000ch\u0000\u0000\u0000\u0000\u0000\u0000\u0000\u0000\u0000\u0000\u0000\u0000\u0000\u0000\n",
      "5dc426e400788b7e00ceb02f.bcd\n",
      "Liftoff!\u0000\u0000\u0000\u0000\u0000\u0000\u0000\u0000\u0000\u0000\u0000\u0000\u0000\u0000\u0000\u0000\u0000\u0000\u0000\u0000\u0000\u0000\u0000\u0000\u0000\n",
      "5dc426e4007fd08000ceb037.bcd\n"
     ]
    },
    {
     "name": "stderr",
     "output_type": "stream",
     "text": [
      "\r",
      "  9%|███████▏                                                                     | 1306/13971 [02:01<28:55,  7.30it/s]"
     ]
    },
    {
     "name": "stdout",
     "output_type": "stream",
     "text": [
      "El Templo de las 5 pruebas\u0000\u0000\u0000\u0000\u0000\u0000\u0000\n",
      "5dc426e40097c61000ceb039.bcd\n",
      "Area 51 Raid Simulation\u0000\u0000\u0000\u0000\u0000\u0000\u0000\u0000\u0000\u0000\n",
      "5dc426e400b7b38c00ceb031.bcd\n",
      "今日もスピランでエンジョイ～#8 SpeedRun♪♪\u0000\u0000\u0000\u0000\u0000\u0000\n",
      "5dc426e400d4c26d00ceb032.bcd\n"
     ]
    },
    {
     "name": "stderr",
     "output_type": "stream",
     "text": [
      "  9%|███████▏                                                                     | 1310/13971 [02:01<25:04,  8.42it/s]"
     ]
    },
    {
     "name": "stdout",
     "output_type": "stream",
     "text": [
      "テレサに追いかけられるSpeed run  Be chased\u0000\u0000\n",
      "5dc426e400f686ae00ceb038.bcd\n",
      "Bill Blaster Bridge バターブリッジと空の砲台\u0000\n",
      "5dc426e500025aab00ceb03c.bcd\n",
      "Bowser's Big Bean Burrito\u0000\u0000\u0000\u0000\u0000\u0000\u0000\u0000\n",
      "5dc426e50022f34300ceb045.bcd\n",
      "● Monty`s way home ●\u0000\u0000\u0000\u0000\u0000\u0000\u0000\u0000\u0000\u0000\u0000\u0000\u0000\n",
      "5dc426e50023948d00ceb044.bcd\n"
     ]
    },
    {
     "name": "stderr",
     "output_type": "stream",
     "text": [
      "  9%|███████▏                                                                     | 1315/13971 [02:02<24:36,  8.57it/s]"
     ]
    },
    {
     "name": "stdout",
     "output_type": "stream",
     "text": [
      "Journey Below\u0000\u0000\u0000\u0000\u0000\u0000\u0000\u0000\u0000\u0000\u0000\u0000\u0000\u0000\u0000\u0000\u0000\u0000\u0000\u0000\n",
      "5dc426e500546d9c00ceb041.bcd\n",
      "This Makes No Sense\u0000 Dark\u0000\u0000\u0000\u0000\u0000\u0000\u0000\u0000\n",
      "5dc426e50059b1db00ceb04a.bcd\n",
      "The cursed dessert ruins\u0000\u0000\u0000\u0000\u0000\u0000\u0000\u0000\u0000\n",
      "5dc426e5006cf11600ceb040.bcd\n",
      "Swamp speed run -30s-　毒沼スピードラン\u0000s\u0000\n",
      "5dc426e5006e595d00ceb04d.bcd\n"
     ]
    },
    {
     "name": "stderr",
     "output_type": "stream",
     "text": [
      "\r",
      "  9%|███████▎                                                                     | 1317/13971 [02:02<26:33,  7.94it/s]"
     ]
    },
    {
     "name": "stdout",
     "output_type": "stream",
     "text": [
      "Desert Decent\u0000\u0000\u0000\u0000pelunker\u0000\u0000\u0000\u0000\u0000\u0000\u0000\u0000\n",
      "5dc426e50073c18300ceb03e.bcd\n",
      "Divine Tree Climb\u0000\u0000\u0000\u0000\u0000\u0000\u0000\u0000\u0000\u0000\u0000\u0000\u0000\u0000\u0000\u0000\n",
      "5dc426e50078d34400ceb048.bcd\n"
     ]
    },
    {
     "name": "stderr",
     "output_type": "stream",
     "text": [
      "  9%|███████▎                                                                     | 1319/13971 [02:02<29:16,  7.20it/s]"
     ]
    },
    {
     "name": "stdout",
     "output_type": "stream",
     "text": [
      "【Re】裏切り者のコイン　Traitor coins\u0000\u0000\u0000\u0000\u0000\u0000\u0000\n",
      "5dc426e500798ba400ceb043.bcd\n",
      "▲Zelda: Gerudo Valley Seesawing▼\u0000\n",
      "5dc426e5009cf41100ceb042.bcd\n"
     ]
    },
    {
     "name": "stderr",
     "output_type": "stream",
     "text": [
      "\r",
      "  9%|███████▎                                                                     | 1320/13971 [02:03<36:11,  5.83it/s]"
     ]
    },
    {
     "name": "stdout",
     "output_type": "stream",
     "text": [
      "Goomba Fight Club\u0000\u0000\u0000\u0000\u0000\u0000\u0000\u0000\u0000\u0000\u0000\u0000\u0000\u0000\u0000\u0000\n",
      "5dc426e500a577fb00ceb03d.bcd\n"
     ]
    },
    {
     "name": "stderr",
     "output_type": "stream",
     "text": [
      "  9%|███████▎                                                                     | 1323/13971 [02:03<33:52,  6.22it/s]"
     ]
    },
    {
     "name": "stdout",
     "output_type": "stream",
     "text": [
      "One Screen Challenge Part 3\u0000\u0000\u0000\u0000\u0000\u0000\n",
      "5dc426e500a764bf00ceb03f.bcd\n",
      "Auto-Switch 2: Sky High\u0000\u0000\u0000\u0000\u0000\u0000\u0000\u0000\u0000\u0000\n",
      "5dc426e500f3f53900ceb04b.bcd\n",
      "Temple of the Jungle Mushroom\u0000\u0000\u0000\u0000\n",
      "5dc426e500f4b94600ceb046.bcd\n"
     ]
    },
    {
     "name": "stderr",
     "output_type": "stream",
     "text": [
      "\r",
      "  9%|███████▎                                                                     | 1324/13971 [02:03<41:21,  5.10it/s]"
     ]
    },
    {
     "name": "stdout",
     "output_type": "stream",
     "text": [
      "Gadgets & Gizmos Aplenty\u0000tory\u0000\u0000\u0000\u0000\n",
      "5dc426e600030c1c00ceb059.bcd\n"
     ]
    },
    {
     "name": "stderr",
     "output_type": "stream",
     "text": [
      "  9%|███████▎                                                                     | 1327/13971 [02:04<33:37,  6.27it/s]"
     ]
    },
    {
     "name": "stdout",
     "output_type": "stream",
     "text": [
      "ふみふみ アスレチック　Stomping Athletic\u0000\u0000\u0000\u0000\n",
      "5dc426e60004b43f00ceb056.bcd\n",
      "Goal-too-Close Abandoned Mine\u0000?\u0000\u0000\n",
      "5dc426e600061d2f00ceb05a.bcd\n",
      "Turn-Based Combat\u0000\u0000nco Hills \u0000\u0000n\u0000\n",
      "5dc426e6000694f200ceb05b.bcd\n"
     ]
    },
    {
     "name": "stderr",
     "output_type": "stream",
     "text": [
      " 10%|███████▎                                                                     | 1329/13971 [02:04<30:48,  6.84it/s]"
     ]
    },
    {
     "name": "stdout",
     "output_type": "stream",
     "text": [
      "Cave below the Sky\u0000\u0000\u0000\u0000\u0000\u0000\u0000\u0000\u0000\u0000\u0000\u0000\u0000\u0000\u0000\n",
      "5dc426e60017dfdd00ceb05f.bcd\n",
      "The Crane Game\u0000\u0000\u0000ent\u0000Test ♪ \u0000\u0000\u0000\u0000\u0000\n",
      "5dc426e60029c8dc00ceb058.bcd\n"
     ]
    },
    {
     "name": "stderr",
     "output_type": "stream",
     "text": [
      " 10%|███████▎                                                                     | 1331/13971 [02:04<26:12,  8.04it/s]"
     ]
    },
    {
     "name": "stdout",
     "output_type": "stream",
     "text": [
      "うろうろ砲台スイッチ / Blaster Bustle\u0000ers\u0000\u0000\n",
      "5dc426e6003be53b00ceb04f.bcd\n",
      "Mario's Bank Robbery\u0000 get Yoshi-\u0000\n",
      "5dc426e60054e51f00ceb05d.bcd\n"
     ]
    },
    {
     "name": "stderr",
     "output_type": "stream",
     "text": [
      " 10%|███████▎                                                                     | 1334/13971 [02:04<26:14,  8.03it/s]"
     ]
    },
    {
     "name": "stdout",
     "output_type": "stream",
     "text": [
      "Castle in the Clouds!\u0000\u0000\u0000\u0000\u0000\u0000\u0000\u0000\u0000\u0000\u0000\u0000\n",
      "5dc426e60055bf9900ceb054.bcd\n",
      "マりオめ--力ー ² でほんきでホラーㄷースをつくっtぇみた。\u0000\u0000\n",
      "5dc426e6006526d800ceb051.bcd\n",
      "The final Speedrun! (20's)\u0000\u0000\u0000\u0000\u0000\u0000\u0000\n",
      "5dc426e60065b2cb00ceb060.bcd\n"
     ]
    },
    {
     "name": "stderr",
     "output_type": "stream",
     "text": [
      " 10%|███████▎                                                                     | 1336/13971 [02:05<30:31,  6.90it/s]"
     ]
    },
    {
     "name": "stdout",
     "output_type": "stream",
     "text": [
      "Port of Call\u0000\u0000\u0000\u0000\u0000t of Call\u0000\u0000\u0000\u0000\u0000\u0000\u0000\n",
      "5dc426e6006da07700ceb055.bcd\n",
      "Mushroom Kingdom Safari Tour\u0000\u0000\u0000\u0000\u0000\n",
      "5dc426e60088518300ceb05e.bcd\n"
     ]
    },
    {
     "name": "stderr",
     "output_type": "stream",
     "text": [
      " 10%|███████▎                                                                     | 1338/13971 [02:05<32:04,  6.56it/s]"
     ]
    },
    {
     "name": "stdout",
     "output_type": "stream",
     "text": [
      "のぼれ！ヒエヒエ洞窟　Icicle Cave\u0000 Sky Land\u0000\n",
      "5dc426e60088cbce00ceb05c.bcd\n",
      "Super Samus Bros.\u0000ns\u0000\u0000\u0000\u0000\u0000\u0000\u0000\u0000\u0000\u0000\u0000\u0000\u0000\n",
      "5dc426e600a8dbca00ceb062.bcd\n",
      "パックン部隊のドカン飛行船　Pipe Airship\u0000\u0000\u0000\u0000\u0000\u0000\u0000\n",
      "5dc426e600c280b600ceb057.bcd\n"
     ]
    },
    {
     "name": "stderr",
     "output_type": "stream",
     "text": [
      "\r",
      " 10%|███████▍                                                                     | 1341/13971 [02:05<27:41,  7.60it/s]"
     ]
    },
    {
     "name": "stdout",
     "output_type": "stream",
     "text": [
      "Let's see them aliens!\u0000\u0000\u0000\u0000\u0000\u0000\u0000\u0000\u0000\u0000\u0000\n",
      "5dc426e600dbe54c00ceb04e.bcd\n",
      "Twomp's Rock Mountain\u0000astle\u0000r 2\u0000\u0000\n",
      "5dc426e600e091d900ceb053.bcd\n"
     ]
    },
    {
     "name": "stderr",
     "output_type": "stream",
     "text": [
      " 10%|███████▍                                                                     | 1343/13971 [02:06<27:13,  7.73it/s]"
     ]
    },
    {
     "name": "stdout",
     "output_type": "stream",
     "text": [
      "Power Outage!\u0000\u0000\u0000\u0000\u0000\u0000\u0000\u0000\u0000\u0000\u0000\u0000\u0000\u0000\u0000\u0000\u0000\u0000\u0000\u0000\n",
      "5dc426e600ee558300ceb050.bcd\n",
      "Thalassophobia\u0000\u0000\u0000\u0000\u0000\u0000\u0000\u0000\u0000\u0000\u0000\u0000\u0000\u0000\u0000\u0000\u0000\u0000\u0000\n",
      "5dc426e7006e02f300ceb06a.bcd\n",
      "Desert ruins\u0000\u0000\u0000\u0000\u0000\u0000\u0000\u0000\u0000\u0000\u0000\u0000\u0000\u0000\u0000\u0000\u0000\u0000\u0000\u0000\u0000\n",
      "5dc426e7007fae9200ceb064.bcd\n",
      "Golden Temple\u0000\u0000\u0000\u0000\u0000\u0000\u0000\u0000\u0000\u0000\u0000\u0000\u0000\u0000\u0000\u0000\u0000\u0000\u0000\u0000\n",
      "5dc426e700b406c700ceb068.bcd\n"
     ]
    },
    {
     "name": "stderr",
     "output_type": "stream",
     "text": [
      "\r",
      " 10%|███████▍                                                                     | 1346/13971 [02:06<25:46,  8.16it/s]"
     ]
    },
    {
     "name": "stdout",
     "output_type": "stream",
     "text": [
      "Pyramid Trials (Comments On)\u0000\u0000\u0000\u0000\u0000\n",
      "5dc426e700e5263100ceb063.bcd\n"
     ]
    },
    {
     "name": "stderr",
     "output_type": "stream",
     "text": [
      " 10%|███████▍                                                                     | 1348/13971 [02:06<33:24,  6.30it/s]"
     ]
    },
    {
     "name": "stdout",
     "output_type": "stream",
     "text": [
      "Follow the money trail. (20s)\u0000\u0000\u0000\u0000\n",
      "5dc426e700e56e4c00ceb069.bcd\n",
      "Florestinha da Tranquilidade\u0000\u0000\u0000\u0000\u0000\n",
      "5dc426f200096d7a00ceb06c.bcd\n",
      "An00bis Versuchung\u0000\u0000\u0000\u0000\u0000\u0000\u0000\u0000\u0000\u0000\u0000\u0000\u0000\u0000\u0000\n",
      "5dc426f200b9d5b200ceb06e.bcd\n",
      "Power Up Puzzle\u0000\u0000\u0000\u0000\u0000\u0000\u0000\u0000\u0000\u0000\u0000\u0000\u0000\u0000\u0000\u0000\u0000\u0000\n",
      "5dc426f200e67aa000ceb06f.bcd\n"
     ]
    },
    {
     "name": "stderr",
     "output_type": "stream",
     "text": [
      " 10%|███████▍                                                                     | 1354/13971 [02:07<21:01, 10.00it/s]"
     ]
    },
    {
     "name": "stdout",
     "output_type": "stream",
     "text": [
      "【One Screen Puzzle】2つのコウラ\u0000\u0000\u0000\u0000\u0000\u0000\u0000\u0000\n",
      "5dc426f200f05a2d00ceb06b.bcd\n",
      "Riddle of the Hanging Egg Chair\u0000\u0000\n",
      "5dc426f3000803b400ceb071.bcd\n",
      "Haunted Speedrun (20s)\u0000(30s)\u0000\u0000\u0000\u0000\u0000\n",
      "5dc426f30026ff1d00ceb070.bcd\n",
      "Snowy Swingathon\u0000\u0000\u0000\u0000\u0000\u0000\u0000\u0000\u0000\u0000\u0000\u0000\u0000\u0000\u0000\u0000\u0000\n",
      "5dc426f3002c463900ceb07e.bcd\n",
      "Koopa Shell Grand Prix 2\u0000\u0000\u0000\u0000\u0000\u0000\u0000\u0000\u0000\n",
      "5dc426f3002ce65000ceb075.bcd\n"
     ]
    },
    {
     "name": "stderr",
     "output_type": "stream",
     "text": [
      "\r",
      " 10%|███████▍                                                                     | 1356/13971 [02:07<19:36, 10.72it/s]"
     ]
    },
    {
     "name": "stdout",
     "output_type": "stream",
     "text": [
      "Oni Shell's SuperSonic Vengeance\u0000\n",
      "5dc426f3002d9a2f00ceb07f.bcd\n",
      "Misty Oaks\u0000\u0000\u0000\u0000\u0000\u0000\u0000\u0000\u0000\u0000\u0000\u0000\u0000\u0000\u0000\u0000\u0000\u0000\u0000\u0000\u0000\u0000\u0000\n",
      "5dc426f3003969cb00ceb072.bcd\n"
     ]
    },
    {
     "name": "stderr",
     "output_type": "stream",
     "text": [
      "\r",
      " 10%|███████▍                                                                     | 1358/13971 [02:07<29:28,  7.13it/s]"
     ]
    },
    {
     "name": "stdout",
     "output_type": "stream",
     "text": [
      "Swinging claws & Slides\u0000fter edi\u0000\n",
      "5dc426f300477fcc00ceb07d.bcd\n"
     ]
    },
    {
     "name": "stderr",
     "output_type": "stream",
     "text": [
      "\r",
      " 10%|███████▍                                                                     | 1360/13971 [02:08<28:38,  7.34it/s]"
     ]
    },
    {
     "name": "stdout",
     "output_type": "stream",
     "text": [
      "Sliding Into Heaven [GLP]\u0000\u0000\u0000\u0000\u0000\u0000\u0000\u0000\n",
      "5dc426f3007c2c5200ceb076.bcd\n",
      "Speedrun in the mountains! [20s]\u0000\n",
      "5dc426f300a88d5500ceb080.bcd\n",
      "種も仕掛けも・・・あります\u0000\u0000\u0000\u0000\u0000\u0000\u0000\u0000\u0000\u0000\u0000\u0000\u0000\u0000\u0000\u0000\u0000\u0000\u0000\u0000\n",
      "5dc426f300b4745700ceb074.bcd\n",
      "Rising Magma In The Sunken Tower\u0000\n",
      "5dc426f300dbcc5800ceb077.bcd\n"
     ]
    },
    {
     "name": "stderr",
     "output_type": "stream",
     "text": [
      "\r",
      " 10%|███████▌                                                                     | 1363/13971 [02:08<23:00,  9.13it/s]"
     ]
    },
    {
     "name": "stdout",
     "output_type": "stream",
     "text": [
      "Music Mansion [♪Turkish March♪]\u0000\u0000\n",
      "5dc426f400113c0300ceb083.bcd\n"
     ]
    },
    {
     "name": "stderr",
     "output_type": "stream",
     "text": [
      "\r",
      " 10%|███████▌                                                                     | 1365/13971 [02:08<25:53,  8.12it/s]"
     ]
    },
    {
     "name": "stdout",
     "output_type": "stream",
     "text": [
      "Chill in the sky\u0000 delete it \u0000om\u0000\u0000\n",
      "5dc426f400131f1700ceb089.bcd\n",
      "Night Forest Speedrun (20sec)\u0000\u0000\u0000\u0000\n",
      "5dc426f40020219800ceb08a.bcd\n",
      "Chaotic Speedrun (20s)\u0000\u0000\u0000\u0000\u0000\u0000\u0000\u0000\u0000\u0000\u0000\n",
      "5dc426f40022dbd200ceb087.bcd\n"
     ]
    },
    {
     "name": "stderr",
     "output_type": "stream",
     "text": [
      "\r",
      " 10%|███████▌                                                                     | 1367/13971 [02:08<23:34,  8.91it/s]"
     ]
    },
    {
     "name": "stdout",
     "output_type": "stream",
     "text": [
      "仕掛けだらけのお化け屋敷！スピードラン 【SPEED RUN】\u0000\u0000\n",
      "5dc426f4003a26fb00ceb092.bcd\n",
      "Climb the clouds!\u0000pt!\u0000\u0000\u0000\u0000\u0000\u0000\u0000\u0000\u0000\u0000\u0000\u0000\n"
     ]
    },
    {
     "name": "stderr",
     "output_type": "stream",
     "text": [
      "\r",
      " 10%|███████▌                                                                     | 1369/13971 [02:08<22:44,  9.24it/s]"
     ]
    },
    {
     "name": "stdout",
     "output_type": "stream",
     "text": [
      "5dc426f4004f96ed00ceb088.bcd\n",
      "CasualAv: Rainbow Falls 20s\u0000\u0000\u0000\u0000\u0000\u0000\n",
      "5dc426f400595d8d00ceb08b.bcd\n"
     ]
    },
    {
     "name": "stderr",
     "output_type": "stream",
     "text": [
      "\r",
      " 10%|███████▌                                                                     | 1371/13971 [02:09<27:48,  7.55it/s]"
     ]
    },
    {
     "name": "stdout",
     "output_type": "stream",
     "text": [
      "The Arctic Chambers\u0000\u0000\u0000\u0000\u0000\u0000\u0000\u0000\u0000\u0000\u0000\u0000\u0000\u0000\n",
      "5dc426f40060b86d00ceb08f.bcd\n",
      "Chocolate Mountain Rush (20s)\u0000\u0000\u0000\u0000\n",
      "5dc426f400667b9c00ceb08d.bcd\n"
     ]
    },
    {
     "name": "stderr",
     "output_type": "stream",
     "text": [
      " 10%|███████▌                                                                     | 1375/13971 [02:09<24:33,  8.55it/s]"
     ]
    },
    {
     "name": "stdout",
     "output_type": "stream",
     "text": [
      "CasualAv: 1-1 Post-Apocalypse\u0000\u0000\u0000\u0000\n",
      "5dc426f40079a60700ceb090.bcd\n",
      "DKC 3 Tribute: Ripsaw Rage\u0000\u0000\u0000\u0000\u0000\u0000\u0000\n",
      "5dc426f4007c69fb00ceb085.bcd\n",
      "Super BobbyBoy Lvl 3\u0000\u0000\u0000\u0000\u0000\u0000\u0000\u0000\u0000\u0000\u0000\u0000\u0000\n",
      "5dc426f40087a0f000ceb095.bcd\n",
      "Rising Rapids\u0000\u0000\u0000\u0000hts\u0000 [30s]\u0000\u0000\u0000\u0000\u0000\u0000\n",
      "5dc426f400a1023500ceb08e.bcd\n",
      "Dark Souls 1-9 - New Londo Ruins\u0000\n",
      "5dc426f400abfb3000ceb094.bcd\n"
     ]
    },
    {
     "name": "stderr",
     "output_type": "stream",
     "text": [
      " 10%|███████▌                                                                     | 1380/13971 [02:09<19:06, 10.98it/s]"
     ]
    },
    {
     "name": "stdout",
     "output_type": "stream",
     "text": [
      "Forest Speedrun (20s)\u0000\u0000\u0000\u0000\u0000\u0000\u0000\u0000\u0000\u0000\u0000\u0000\n",
      "5dc426f400b1215100ceb082.bcd\n",
      "【One Screen Puzzle】お助けクリボー\u0000\u0000\u0000\u0000\u0000\u0000\u0000\n",
      "5dc426f400d9ac1700ceb086.bcd\n",
      "Speedrun: Fun Dash Desert! [20s]\u0000\n",
      "5dc426f400dae35900ceb084.bcd\n"
     ]
    },
    {
     "name": "stderr",
     "output_type": "stream",
     "text": [
      "\r",
      " 10%|███████▌                                                                     | 1383/13971 [02:10<16:10, 12.98it/s]"
     ]
    },
    {
     "name": "stdout",
     "output_type": "stream",
     "text": [
      "ERROR: FILE CORRUPTED\u0000\u0000\u0000\u0000\u0000\u0000\u0000\u0000\u0000\u0000\u0000\u0000\n",
      "5dc426f50005190f00ceb09f.bcd\n",
      "Fresh, Never Frozen\u0000\u0000\u0000\u0000\u0000\u0000\u0000\u0000\u0000\u0000\u0000\u0000\u0000\u0000\n",
      "5dc426f5000f083700ceb0a3.bcd\n",
      "Super Mario Galaxy 3 - LPMarkus4\u0000\n",
      "5dc426f500291cc600ceb09b.bcd\n",
      "WarioWare: Inc\u0000\u0000\u0000\u0000\u0000\u0000\u0000\u0000\u0000\u0000\u0000\u0000\u0000\u0000\u0000\u0000\u0000\u0000\u0000\n",
      "5dc426f5004c946c00ceb0a0.bcd\n"
     ]
    },
    {
     "name": "stderr",
     "output_type": "stream",
     "text": [
      "\r",
      " 10%|███████▋                                                                     | 1385/13971 [02:10<15:09, 13.84it/s]"
     ]
    },
    {
     "name": "stdout",
     "output_type": "stream",
     "text": [
      "Head down and feet up\u0000\u0000\u0000\u0000\u0000\u0000\u0000\u0000\u0000\u0000\u0000\u0000\n",
      "5dc426f5005284be00ceb09a.bcd\n",
      "Claw Kaizo Speedrun - Sklar \u0000\u0000\u0000\u0000\u0000\n",
      "5dc426f500695ad200ceb096.bcd\n",
      "Green Shell Forest\u0000\u0000\u0000\u0000\u0000\u0000\u0000\u0000\u0000\u0000\u0000\u0000\u0000\u0000\u0000\n",
      "5dc426f5006ec3bb00ceb099.bcd\n"
     ]
    },
    {
     "name": "stderr",
     "output_type": "stream",
     "text": [
      "\r",
      " 10%|███████▋                                                                     | 1387/13971 [02:10<24:01,  8.73it/s]"
     ]
    },
    {
     "name": "stdout",
     "output_type": "stream",
     "text": [
      "Metempsychosis\u0000\u0000\u0000\u0000\u0000\u0000\u0000\u0000\u0000\u0000\u0000\u0000\u0000\u0000\u0000\u0000\u0000\u0000\u0000\n",
      "5dc426f50087472a00ceb097.bcd\n",
      "Munch 'N' Wings\u0000\u0000\u0000\u0000\u0000\u0000\u0000\u0000\u0000\u0000\u0000\u0000\u0000\u0000\u0000\u0000\u0000\u0000\n",
      "5dc426f500b9df2b00ceb09e.bcd\n",
      "Super Mario Bros. 3's Lost Level\u0000\n",
      "5dc426f500de7b5100ceb09c.bcd\n"
     ]
    },
    {
     "name": "stderr",
     "output_type": "stream",
     "text": [
      "\r",
      " 10%|███████▋                                                                     | 1390/13971 [02:10<21:42,  9.66it/s]"
     ]
    },
    {
     "name": "stdout",
     "output_type": "stream",
     "text": [
      "It Follows: Redux\u0000\u0000\u0000\u0000\u0000\u0000\u0000\u0000\u0000\u0000\u0000\u0000\u0000\u0000\u0000\u0000\n",
      "5dc426f500deaaa900ceb09d.bcd\n",
      "振り向き禁止区域　-Don't Turn Left Area-\u0000\u0000\n",
      "5dc426f600cc509b00ceb0a6.bcd\n"
     ]
    },
    {
     "name": "stderr",
     "output_type": "stream",
     "text": [
      " 10%|███████▋                                                                     | 1394/13971 [02:11<24:56,  8.41it/s]"
     ]
    },
    {
     "name": "stdout",
     "output_type": "stream",
     "text": [
      "Gummiberry Pi\u0000\u0000\u0000\u0000\u0000\u0000\u0000\u0000\u0000\u0000\u0000\u0000\u0000\u0000\u0000\u0000\u0000\u0000\u0000\u0000\n",
      "5dc4270100261b8b00ceb0bc.bcd\n",
      "Monty's Mine Cart\u0000\u0000\u0000\u0000\u0000\u0000\u0000\u0000\u0000\u0000\u0000\u0000\u0000\u0000\u0000\u0000\n",
      "5dc427010049bd3900ceb0b2.bcd\n"
     ]
    },
    {
     "name": "stderr",
     "output_type": "stream",
     "text": [
      "\r",
      " 10%|███████▋                                                                     | 1397/13971 [02:11<21:06,  9.93it/s]"
     ]
    },
    {
     "name": "stdout",
     "output_type": "stream",
     "text": [
      "Fire Flower Rocket Tower\u0000\u0000\u0000\u0000\u0000\u0000\u0000\u0000\u0000\n",
      "5dc42701005c91e000ceb0ae.bcd\n",
      "The Ryuturn to Glory\u0000\u0000\u0000\u0000\u0000\u0000\u0000\u0000\u0000\u0000\u0000\u0000\u0000\n",
      "5dc427010060078e00ceb0aa.bcd\n",
      "POW POWer [20 seconds]\u0000\u0000\u0000\u0000\u0000\u0000\u0000\u0000\u0000\u0000\u0000\n",
      "5dc42701006cb85a00ceb0b8.bcd\n",
      "Mount Yoshiditch\u0000\u0000\u0000\u0000\u0000\u0000\u0000\u0000\u0000\u0000\u0000\u0000\u0000\u0000\u0000\u0000\u0000\n",
      "5dc42701008653d600ceb0bb.bcd\n",
      "Dark Souls 1-10 - Lost Izalith\u0000\u0000\u0000\n",
      "5dc427010088a6bc00ceb0af.bcd\n"
     ]
    },
    {
     "name": "stderr",
     "output_type": "stream",
     "text": [
      "\r",
      " 10%|███████▋                                                                     | 1399/13971 [02:11<23:41,  8.85it/s]"
     ]
    },
    {
     "name": "stdout",
     "output_type": "stream",
     "text": [
      "Close Calls (On-Off Speedrun) \u0000\u0000\u0000\n",
      "5dc427010091549f00ceb0a8.bcd\n",
      "Ignacio El Tortugas\u0000\u0000\u0000\u0000\u0000\u0000\u0000\u0000\u0000\u0000\u0000\u0000\u0000\u0000\n",
      "5dc427010092fbc100ceb0ac.bcd\n"
     ]
    },
    {
     "name": "stderr",
     "output_type": "stream",
     "text": [
      "\r",
      " 10%|███████▋                                                                     | 1401/13971 [02:12<23:07,  9.06it/s]"
     ]
    },
    {
     "name": "stdout",
     "output_type": "stream",
     "text": [
      "Shifty Sands Speedrun\u0000\u0000\u0000\u0000\u0000\u0000\u0000\u0000\u0000\u0000\u0000\u0000\n",
      "5dc4270100a0cfae00ceb0be.bcd\n",
      "The Forrest\u0000\u0000\u0000\u0000\u0000\u0000\u0000\u0000\u0000\u0000\u0000\u0000\u0000\u0000\u0000\u0000\u0000\u0000\u0000\u0000\u0000\u0000\n",
      "5dc4270100a12aa100ceb0b0.bcd\n"
     ]
    },
    {
     "name": "stderr",
     "output_type": "stream",
     "text": [
      " 10%|███████▋                                                                     | 1405/13971 [02:12<22:43,  9.21it/s]"
     ]
    },
    {
     "name": "stdout",
     "output_type": "stream",
     "text": [
      "Single Screen Challenge 19\u0000\u0000\u0000\u0000\u0000\u0000\u0000\n",
      "5dc4270100a537d600ceb0a7.bcd\n",
      "   Mario kicking goals [20sec]\u0000\u0000\u0000\n",
      "5dc4270100b2b2f500ceb0a9.bcd\n",
      "Mario Ascends to Fight God\u0000\u0000\u0000\u0000\u0000\u0000\u0000"
     ]
    },
    {
     "name": "stderr",
     "output_type": "stream",
     "text": [
      "\r",
      " 10%|███████▊                                                                     | 1407/13971 [02:12<22:09,  9.45it/s]"
     ]
    },
    {
     "name": "stdout",
     "output_type": "stream",
     "text": [
      "\n",
      "5dc4270100d7209800ceb0b7.bcd\n",
      "Moon River\u0000\u0000\u0000\u0000\u0000\u0000\u0000\u0000\u0000\u0000\u0000\u0000\u0000\u0000\u0000\u0000\u0000\u0000\u0000\u0000\u0000\u0000\u0000\n",
      "5dc4270100efd80c00ceb0b5.bcd\n",
      "DEAD\u0000\u0000\u0000\u0000\u0000\u0000\u0000\u0000\u0000\u0000\u0000\u0000\u0000\u0000\u0000\u0000\u0000\u0000\u0000\u0000\u0000\u0000\u0000\u0000\u0000\u0000\u0000\u0000\u0000"
     ]
    },
    {
     "name": "stderr",
     "output_type": "stream",
     "text": [
      "\r",
      " 10%|███████▊                                                                     | 1409/13971 [02:12<20:11, 10.37it/s]"
     ]
    },
    {
     "name": "stdout",
     "output_type": "stream",
     "text": [
      "\n",
      "5dc4270100f0fcb600ceb0b9.bcd\n",
      "Sophie's Haunted Tower\u0000\u0000\u0000\u0000\u0000\u0000\u0000\u0000\u0000\u0000\u0000\n",
      "5dc427020005118c00ceb0d5.bcd\n",
      "Jakey's Wacky Wall Jumps\u0000 Work!\u0000\u0000\n",
      "5dc42702001ef0c700ceb0c7.bcd\n",
      "Castelinho Embiolado\u0000\u0000\u0000\u0000\u0000\u0000\u0000\u0000\u0000\u0000\u0000\u0000\u0000\n",
      "5dc427020025e5c200ceb0cc.bcd\n",
      "The Muncher's Mountain Funpark\u0000\u0000\u0000\n",
      "5dc427020043e7c500ceb0c4.bcd\n"
     ]
    },
    {
     "name": "stderr",
     "output_type": "stream",
     "text": [
      " 10%|███████▊                                                                     | 1414/13971 [02:13<18:18, 11.43it/s]"
     ]
    },
    {
     "name": "stdout",
     "output_type": "stream",
     "text": [
      "とうきょうのそら/Tokyo Sky\u0000\u0000\u0000\u0000\u0000\u0000\u0000\u0000\u0000\u0000\u0000\u0000\u0000\u0000\u0000\n",
      "5dc4270200578b2400ceb0c6.bcd\n",
      "The Whisper (Destiny 2)\u0000ation)\u0000n\u0000\n",
      "5dc42702005eab3600ceb0cf.bcd\n",
      "Barbarious Slides\u0000\u0000\u0000\u0000\u0000\u0000\u0000\u0000\u0000\u0000\u0000\u0000\u0000\u0000\u0000\u0000\n",
      "5dc427020069f1d500ceb0c2.bcd\n",
      "Cool Cool Cavern\u0000\u0000Jungel moin\u0000\u0000\u0000\u0000\n",
      "5dc42702006b234f00ceb0cd.bcd\n"
     ]
    },
    {
     "name": "stderr",
     "output_type": "stream",
     "text": [
      "\r",
      " 10%|███████▊                                                                     | 1416/13971 [02:13<18:45, 11.16it/s]"
     ]
    },
    {
     "name": "stdout",
     "output_type": "stream",
     "text": [
      "P-Switch Partners\u0000\u0000\u0000\u0000\u0000\u0000\u0000\u0000\u0000\u0000\u0000\u0000\u0000\u0000\u0000\u0000\n",
      "5dc427020072f97d00ceb0d6.bcd\n",
      "Spiky Snow Dash [20S]\u0000\u0000\u0000\u0000\u0000\u0000\u0000\u0000\u0000\u0000\u0000\u0000\n",
      "5dc427020075f93200ceb0cb.bcd\n"
     ]
    },
    {
     "name": "stderr",
     "output_type": "stream",
     "text": [
      "\r",
      " 10%|███████▊                                                                     | 1418/13971 [02:13<20:45, 10.08it/s]"
     ]
    },
    {
     "name": "stdout",
     "output_type": "stream",
     "text": [
      "Frosty Frozen Parkour\u0000\u0000\u0000\u0000\u0000\u0000\u0000\u0000\u0000\u0000\u0000\u0000\n",
      "5dc42702007a220a00ceb0c5.bcd\n"
     ]
    },
    {
     "name": "stderr",
     "output_type": "stream",
     "text": [
      "\r",
      " 10%|███████▊                                                                     | 1420/13971 [02:14<26:33,  7.88it/s]"
     ]
    },
    {
     "name": "stdout",
     "output_type": "stream",
     "text": [
      "Ghost House Chase (Dark!)\u0000\u0000\u0000\u0000\u0000\u0000\u0000\u0000\n",
      "5dc42702008348ea00ceb0d2.bcd\n",
      "Power Through The Cold 「40s」\u0000\u0000\u0000\u0000\u0000\n",
      "5dc4270200871d6f00ceb0c9.bcd\n"
     ]
    },
    {
     "name": "stderr",
     "output_type": "stream",
     "text": [
      " 10%|███████▊                                                                     | 1422/13971 [02:14<28:21,  7.38it/s]"
     ]
    },
    {
     "name": "stdout",
     "output_type": "stream",
     "text": [
      "Dark Souls 1-6 - Anor Londo\u0000\u0000\u0000\u0000\u0000\u0000\n",
      "5dc42702008bbd2800ceb0ce.bcd\n",
      "Ewoks in the Woods\u0000astique\u0000\u0000\u0000\u0000\u0000\u0000\u0000\n",
      "5dc427020098159100ceb0c3.bcd\n"
     ]
    },
    {
     "name": "stderr",
     "output_type": "stream",
     "text": [
      "\r",
      " 10%|███████▊                                                                     | 1423/13971 [02:14<26:26,  7.91it/s]"
     ]
    },
    {
     "name": "stdout",
     "output_type": "stream",
     "text": [
      "Clawswing Caverns\u0000(test version)\u0000\n",
      "5dc4270200a8ed9c00ceb0d7.bcd\n"
     ]
    },
    {
     "name": "stderr",
     "output_type": "stream",
     "text": [
      " 10%|███████▊                                                                     | 1426/13971 [02:15<32:57,  6.34it/s]"
     ]
    },
    {
     "name": "stdout",
     "output_type": "stream",
     "text": [
      "Banzai Bouncing\u0000\u0000\u0000\u0000\u0000\u0000\u0000\u0000\u0000\u0000\u0000\u0000\u0000\u0000\u0000\u0000\u0000\u0000\n",
      "5dc4270200be5af800ceb0d3.bcd\n",
      "Juju's Kaizo Maker 1-1\u0000\u0000\u0000\u0000\u0000\u0000\u0000\u0000\u0000\u0000\u0000\n",
      "5dc4270200e7121100ceb0d0.bcd\n",
      "Coin Kick Canyon\u0000v2\u0000\u0000\u0000\u0000\u0000\u0000\u0000\u0000\u0000\u0000\u0000\u0000\u0000\u0000\n",
      "5dc4270300249e4600ceb0df.bcd\n",
      "Brick Blocks Die Twice [Puzzle]\u0000\u0000\n",
      "5dc427030055a28f00ceb0e1.bcd\n"
     ]
    },
    {
     "name": "stderr",
     "output_type": "stream",
     "text": [
      "\r",
      " 10%|███████▊                                                                     | 1428/13971 [02:15<32:02,  6.52it/s]"
     ]
    },
    {
     "name": "stdout",
     "output_type": "stream",
     "text": [
      "城を駆け抜け、迫る毒沼から逃げ回れ！40sec　SPEEDRUN\u0000\n",
      "5dc427030075dc7300ceb0e0.bcd\n"
     ]
    },
    {
     "name": "stderr",
     "output_type": "stream",
     "text": [
      " 10%|███████▉                                                                     | 1433/13971 [02:15<29:24,  7.11it/s]"
     ]
    },
    {
     "name": "stdout",
     "output_type": "stream",
     "text": [
      "The Files of Dr. Yeet: Trial 25\u0000\u0000\n",
      "5dc427030079852e00ceb0da.bcd\n",
      "Spinys in the Sky\u0000\u0000\u0000\u0000\u0000\u0000\u0000\u0000\u0000\u0000\u0000\u0000\u0000\u0000\u0000\u0000\n",
      "5dc4270300ce417b00ceb0de.bcd\n",
      "Run to the top!\u0000\u0000\u0000\u0000\u0000\u0000\u0000\u0000\u0000\u0000\u0000\u0000\u0000\u0000\u0000\u0000\u0000\u0000\n",
      "5dc4270300cfd0a300ceb0dc.bcd\n",
      "Undertale Sans Fight \u0000\u0000\u0000\u0000\u0000\u0000\u0000\u0000\u0000\u0000\u0000\u0000\n",
      "5dc42704001f5a0b00ceb0e2.bcd\n",
      "bowsers train\u0000\u0000\u0000\u0000\u0000\u0000\u0000\u0000\u0000\u0000\u0000\u0000\u0000\u0000\u0000\u0000\u0000\u0000\u0000\u0000\n",
      "5dc4270f0053ccd500ceb0e7.bcd\n",
      "→★ Spot The Difference ☆←\u0000\u0000\u0000\u0000\u0000\u0000\u0000\u0000\n",
      "5dc4270f005f514f00ceb0e4.bcd\n"
     ]
    },
    {
     "name": "stderr",
     "output_type": "stream",
     "text": [
      "\r",
      " 10%|███████▉                                                                     | 1436/13971 [02:15<25:24,  8.22it/s]"
     ]
    },
    {
     "name": "stdout",
     "output_type": "stream",
     "text": [
      "マリオゲームセンターネオ　Mario Arcade NEO\u0000\u0000\u0000\u0000\n",
      "5dc4270f00893e7000ceb0e8.bcd\n",
      "RADWIMPS / 前前前世　keep run (走り演奏)\u0000\u0000\n",
      "5dc4270f00a258db00ceb0e5.bcd\n"
     ]
    },
    {
     "name": "stderr",
     "output_type": "stream",
     "text": [
      "\r",
      " 10%|███████▉                                                                     | 1438/13971 [02:16<23:57,  8.72it/s]"
     ]
    },
    {
     "name": "stdout",
     "output_type": "stream",
     "text": [
      "SMB1 2-2 Remake\u0000\u0000\u0000\u0000\u0000\u0000\u0000\u0000\u0000\u0000\u0000\u0000\u0000\u0000\u0000\u0000\u0000\u0000\n",
      "5dc4270f00b8d6c800ceb0e6.bcd\n",
      "★★★ SMM2 Super Star Run! ★★★\u0000\u0000\u0000\u0000\u0000\n",
      "5dc42710001b865200ceb0ea.bcd\n"
     ]
    },
    {
     "name": "stderr",
     "output_type": "stream",
     "text": [
      "\r",
      " 10%|███████▉                                                                     | 1440/13971 [02:16<35:27,  5.89it/s]"
     ]
    },
    {
     "name": "stdout",
     "output_type": "stream",
     "text": [
      "Mario vs The Evil Dead\u0000\u0000\u0000\u0000\u0000\u0000\u0000\u0000\u0000\u0000\u0000\n",
      "5dc427100028cf1e00ceb0fc.bcd\n",
      "砲台\u0000\u0000\u0000\u0000\u0000\u0000\u0000\u0000\u0000\u0000\u0000\u0000\u0000\u0000\u0000\u0000\u0000\u0000\u0000\u0000\u0000\u0000\u0000\u0000\u0000\u0000\u0000\u0000\u0000\u0000\u0000\n",
      "5dc427100031fb4900ceb0fb.bcd\n"
     ]
    },
    {
     "name": "stderr",
     "output_type": "stream",
     "text": [
      " 10%|███████▉                                                                     | 1442/13971 [02:17<33:19,  6.27it/s]"
     ]
    },
    {
     "name": "stdout",
     "output_type": "stream",
     "text": [
      "ストレス発散ランド！　DE-STRESS LAND !\u0000\u0000\u0000\u0000\u0000\u0000\n",
      "5dc427100045ff0800ceb0e9.bcd\n",
      "● Fantasy Game ●\u0000\u0000\u0000\u0000\u0000\u0000\u0000\u0000\u0000\u0000\u0000\u0000\u0000\u0000\u0000\u0000\u0000\n",
      "5dc42710004da79600ceb0f9.bcd\n"
     ]
    },
    {
     "name": "stderr",
     "output_type": "stream",
     "text": [
      "\r",
      " 10%|███████▉                                                                     | 1443/13971 [02:17<37:11,  5.62it/s]"
     ]
    },
    {
     "name": "stdout",
     "output_type": "stream",
     "text": [
      "Cannon Creek\u0000\u0000\u0000\u0000\u0000\u0000\u0000\u0000\u0000\u0000\u0000\u0000\u0000\u0000\u0000\u0000\u0000\u0000\u0000\u0000\u0000\n",
      "5dc42710004efccf00ceb0f0.bcd\n"
     ]
    },
    {
     "name": "stderr",
     "output_type": "stream",
     "text": [
      " 10%|███████▉                                                                     | 1445/13971 [02:18<54:02,  3.86it/s]"
     ]
    },
    {
     "name": "stdout",
     "output_type": "stream",
     "text": [
      "Space Travel—geometry3简单的几何学3宇宙\u0000\u0000\n",
      "5dc4271000599e1100ceb0ee.bcd\n",
      "Goomba Invaders\u0000\u0000mand\u0000\u0000\u0000\u0000\u0000\u0000\u0000\u0000\u0000\u0000\u0000\u0000\n",
      "5dc42710007f6b2000ceb0f1.bcd\n",
      "SMB1 2-3 Remake\u0000\u0000\u0000\u0000\u0000\u0000\u0000\u0000\u0000\u0000\u0000\u0000\u0000\u0000\u0000\u0000\u0000\u0000\n",
      "5dc42710008e139a00ceb0f6.bcd\n",
      "Mario goes to McDonald's\u0000\u0000\u0000\u0000\u0000\u0000\u0000\u0000\u0000\n",
      "5dc427100098080900ceb0f8.bcd\n"
     ]
    },
    {
     "name": "stderr",
     "output_type": "stream",
     "text": [
      " 10%|███████▉                                                                     | 1449/13971 [02:18<37:32,  5.56it/s]"
     ]
    },
    {
     "name": "stdout",
     "output_type": "stream",
     "text": [
      "Sandy Dunes of Secrets 1.0\u0000\u0000\u0000\u0000\u0000\u0000\u0000\n",
      "5dc4271000ab902100ceb0fa.bcd\n",
      "超爽快!ダッシュ全自動! Just run 【Hold Y+→】\u0000\n",
      "5dc4271000e5394000ceb0eb.bcd\n"
     ]
    },
    {
     "name": "stderr",
     "output_type": "stream",
     "text": [
      " 10%|███████▉                                                                     | 1451/13971 [02:18<39:03,  5.34it/s]"
     ]
    },
    {
     "name": "stdout",
     "output_type": "stream",
     "text": [
      "「パプリカ♪」最後まで演奏できるかな?\u0000\u0000\u0000\u0000\u0000\u0000\u0000\u0000\u0000\u0000\u0000\u0000\u0000\u0000\n",
      "5dc4271000f5090700ceb0ec.bcd\n",
      "Pirate Ship Plunder\u0000\u0000\u0000\u0000\u0000\u0000\u0000\u0000\u0000\u0000\u0000\u0000\u0000\u0000\n",
      "5dc4271000fa2a5e00ceb0ed.bcd\n",
      "The Descent\u0000\u0000\u0000\u0000\u0000\u0000\u0000\u0000\u0000\u0000\u0000\u0000\u0000\u0000\u0000\u0000\u0000\u0000\u0000\u0000\u0000\u0000\n",
      "5dc427110007020700ceb10f.bcd\n"
     ]
    },
    {
     "name": "stderr",
     "output_type": "stream",
     "text": [
      " 10%|████████                                                                     | 1455/13971 [02:18<25:10,  8.28it/s]"
     ]
    },
    {
     "name": "stdout",
     "output_type": "stream",
     "text": [
      "Arcade #6 Breakout\u0000\u0000\u0000\u0000\u0000\u0000\u0000\u0000\u0000\u0000\u0000\u0000\u0000\u0000\u0000\n",
      "5dc42711000ad71900ceb100.bcd\n",
      "Phantom Dive\u0000\u0000\u0000\u0000\u0000\u0000\u0000\u0000\u0000\u0000\u0000\u0000\u0000\u0000\u0000\u0000\u0000\u0000\u0000\u0000\u0000\n",
      "5dc427110014222900ceb0fd.bcd\n",
      "米津玄師 / Lemon - 演奏してみた <歩き演奏>\u0000\u0000\u0000\u0000\u0000\n",
      "5dc427110020219400ceb10c.bcd\n",
      "神一重50　　全自動(AUTO)\u0000O)\u0000\u0000\u0000\u0000\u0000\u0000\u0000\u0000\u0000\u0000\u0000\u0000\u0000\u0000\n",
      "5dc4271100202ad800ceb104.bcd\n",
      "Queen-We Will Rock You  歩き演奏walk\u0000\n",
      "5dc42711002d20f700ceb10e.bcd\n"
     ]
    },
    {
     "name": "stderr",
     "output_type": "stream",
     "text": [
      " 10%|████████                                                                     | 1460/13971 [02:19<18:59, 10.98it/s]"
     ]
    },
    {
     "name": "stdout",
     "output_type": "stream",
     "text": [
      "Splatoon2　♪Fly Octo Fly～Ebb&Flow\u0000\n",
      "5dc42711003a056a00ceb10a.bcd\n",
      "SMB1 3-3 Remake\u0000\u0000\u0000\u0000\u0000\u0000\u0000\u0000\u0000\u0000\u0000\u0000\u0000\u0000\u0000\u0000\u0000\u0000\n",
      "5dc42711003ac9bb00ceb101.bcd\n",
      "♪おジャ魔女カーニバル!!\u0000\u0000\u0000\u0000\u0000\u0000\u0000\u0000\u0000\u0000\u0000\u0000\u0000\u0000\u0000\u0000\u0000\u0000\u0000\u0000\n",
      "5dc427110046b26f00ceb105.bcd\n"
     ]
    },
    {
     "name": "stderr",
     "output_type": "stream",
     "text": [
      "\r",
      " 10%|████████                                                                     | 1462/13971 [02:19<17:58, 11.59it/s]"
     ]
    },
    {
     "name": "stdout",
     "output_type": "stream",
     "text": [
      "Desert Dash\u0000\u0000\u0000\u0000\u0000\u0000\u0000\u0000\u0000\u0000\u0000\u0000\u0000\u0000\u0000\u0000\u0000\u0000\u0000\u0000\u0000\u0000\n",
      "5dc42711006c431c00ceb103.bcd\n",
      "SMB1 1-2 Remake\u0000\u0000\u0000\u0000\u0000\u0000\u0000\u0000\u0000\u0000\u0000\u0000\u0000\u0000\u0000\u0000\u0000\u0000\n",
      "5dc427110071289100ceb0ff.bcd\n",
      "U.Nオーエンは彼女なのか？ / 演奏してみた <歩き演奏>\u0000\u0000\u0000\n",
      "5dc42711007ea80d00ceb112.bcd\n"
     ]
    },
    {
     "name": "stderr",
     "output_type": "stream",
     "text": [
      " 10%|████████                                                                     | 1466/13971 [02:19<18:19, 11.37it/s]"
     ]
    },
    {
     "name": "stdout",
     "output_type": "stream",
     "text": [
      "Multiplayer - Typical Meh Run\u0000\u0000\u0000\u0000\n",
      "5dc427110082fc0700ceb110.bcd\n",
      "Super Mario Odyssey - Bonneton\u0000\u0000\u0000\n",
      "5dc4271100878f2d00ceb10b.bcd\n"
     ]
    },
    {
     "name": "stderr",
     "output_type": "stream",
     "text": [
      "\r",
      " 11%|████████                                                                     | 1468/13971 [02:19<18:27, 11.29it/s]"
     ]
    },
    {
     "name": "stdout",
     "output_type": "stream",
     "text": [
      "スーパーボールマリオ/Superball Mario\u0000\u0000\u0000\u0000\u0000\u0000\u0000\n",
      "5dc42711008a7bb000ceb106.bcd\n",
      "Goombrat Barrens \u0000\u0000\u0000\u0000\u0000\u0000\u0000\u0000\u0000\u0000\u0000\u0000\u0000\u0000\u0000\u0000\n",
      "5dc42711008b6d9300ceb109.bcd\n"
     ]
    },
    {
     "name": "stderr",
     "output_type": "stream",
     "text": [
      "\r",
      " 11%|████████                                                                     | 1471/13971 [02:20<16:21, 12.74it/s]"
     ]
    },
    {
     "name": "stdout",
     "output_type": "stream",
     "text": [
      "[MUSIC]　星のカービィグルメレース(スロー)\u0000\u0000\u0000\u0000\u0000\u0000\u0000\u0000\n",
      "5dc427110098e12f00ceb10d.bcd\n",
      "SMB1 1-4 Remake\u0000\u0000\u0000\u0000\u0000\u0000\u0000\u0000\u0000\u0000\u0000\u0000\u0000\u0000\u0000\u0000\u0000\u0000\n",
      "5dc4271100e7634500ceb108.bcd\n",
      "METROID - VS RIDLEY\u0000\u0000\u0000\u0000\u0000\u0000\u0000\u0000\u0000\u0000\u0000\u0000\u0000\u0000\n",
      "5dc4271100ef183d00ceb102.bcd\n",
      "夜の海を泳ぐ　Swim in the night sea\u0000～\u0000\u0000\u0000\n",
      "5dc42712002614f000ceb115.bcd\n"
     ]
    },
    {
     "name": "stderr",
     "output_type": "stream",
     "text": [
      "\r",
      " 11%|████████                                                                     | 1473/13971 [02:20<18:27, 11.29it/s]"
     ]
    },
    {
     "name": "stdout",
     "output_type": "stream",
     "text": [
      "～命の灯火 Lifelight～　SmashBrosTheme♪\u0000\n",
      "5dc42712003a6cce00ceb119.bcd\n",
      "ヘンテコ面白ステージ！　strange fun stage !\u0000\u0000\n",
      "5dc42712003efd0700ceb118.bcd\n",
      "SMB1 1-1 Remake\u0000\u0000\u0000\u0000\u0000\u0000\u0000\u0000\u0000\u0000\u0000\u0000\u0000\u0000\u0000\u0000\u0000\u0000\n",
      "5dc42712004dbd4200ceb116.bcd\n",
      "あいみょん - マリーゴールド 演奏してみた\u0000\u0000\u0000\u0000\u0000\u0000\u0000\u0000\u0000\u0000\u0000\n",
      "5dc427120084f9ee00ceb114.bcd\n"
     ]
    },
    {
     "name": "stderr",
     "output_type": "stream",
     "text": [
      "\r",
      " 11%|████████▏                                                                    | 1476/13971 [02:20<15:17, 13.62it/s]"
     ]
    },
    {
     "name": "stdout",
     "output_type": "stream",
     "text": [
      "ƒ(KEEP RUNNING)ƒ          !RUN!\u0000\u0000\n",
      "5dc42712008fbf6a00ceb117.bcd\n"
     ]
    },
    {
     "name": "stderr",
     "output_type": "stream",
     "text": [
      "\r",
      " 11%|████████▏                                                                    | 1478/13971 [02:20<21:31,  9.68it/s]"
     ]
    },
    {
     "name": "stdout",
     "output_type": "stream",
     "text": [
      "crab rave :D\u0000\u0000\u0000\u0000\u0000\u0000\u0000\u0000\u0000\u0000\u0000\u0000\u0000\u0000\u0000\u0000\u0000\u0000\u0000\u0000\u0000\n",
      "5dc4271200a0cfa600ceb11e.bcd\n",
      "♪Finale(Climax ver.)♪\u0000\u0000\u0000\u0000\u0000\u0000\u0000\u0000\u0000\u0000\u0000\u0000\n",
      "5dc4271200ea00b000ceb11d.bcd\n",
      "Superball vs Bone Sharknado\u0000es\u0000s\u0000\n",
      "5dc4271200fc6d2d00ceb11c.bcd\n"
     ]
    },
    {
     "name": "stderr",
     "output_type": "stream",
     "text": [
      " 11%|████████▏                                                                    | 1482/13971 [02:21<28:41,  7.25it/s]"
     ]
    },
    {
     "name": "stdout",
     "output_type": "stream",
     "text": [
      "Rocky Wrench's Doom Ship on Ice\u0000\u0000\n",
      "5dc4274300a5690c00ceb11f.bcd\n",
      "Deep Cavern Dash (30s)\u0000\u0000\u0000\u0000\u0000\u0000\u0000\u0000\u0000\u0000\u0000\n",
      "5dc4274300bebe5000ceb121.bcd\n",
      "Gaze Upon My Cloudy Bois Please\u0000\u0000\n",
      "5dc427440022ae1300ceb122.bcd\n"
     ]
    },
    {
     "name": "stderr",
     "output_type": "stream",
     "text": [
      "\r",
      " 11%|████████▏                                                                    | 1484/13971 [02:21<28:03,  7.42it/s]"
     ]
    },
    {
     "name": "stdout",
     "output_type": "stream",
     "text": [
      "Bullet Bill Blast (20s)\u0000\u0000\u0000\u0000\u0000\u0000\u0000\u0000\u0000\u0000\n",
      "5dc427440032254f00ceb124.bcd\n",
      "マリオ消防隊出動！ / Fire Fighters\u0000\u0000\u0000\u0000\u0000\u0000\u0000\u0000\n",
      "5dc4274400327a0b00ceb12c.bcd\n"
     ]
    },
    {
     "name": "stderr",
     "output_type": "stream",
     "text": [
      "\r",
      " 11%|████████▏                                                                    | 1485/13971 [02:21<29:22,  7.08it/s]"
     ]
    },
    {
     "name": "stdout",
     "output_type": "stream",
     "text": [
      "★ Into the Galaxy ★ 銀河の中へ ★\u0000le\u0000\u0000\u0000\n",
      "5dc42744003d1a3500ceb12d.bcd\n"
     ]
    },
    {
     "name": "stderr",
     "output_type": "stream",
     "text": [
      " 11%|████████▏                                                                    | 1488/13971 [02:22<29:58,  6.94it/s]"
     ]
    },
    {
     "name": "stdout",
     "output_type": "stream",
     "text": [
      "Swinging one screen [puzzle 1]\u0000\u0000\u0000\n",
      "5dc42744003ed0d800ceb127.bcd\n",
      "夜の森でドキドキ！suspense Night forest！\u0000\u0000\n",
      "5dc42744004adbe100ceb129.bcd\n",
      "Sewage Showcase Showdown!\u0000nnet\u0000\u0000\u0000\n",
      "5dc4274400607fa000ceb130.bcd\n",
      "Breaking into Buzzy Headquarters\u0000"
     ]
    },
    {
     "name": "stderr",
     "output_type": "stream",
     "text": [
      "\r",
      " 11%|████████▏                                                                    | 1490/13971 [02:22<28:26,  7.31it/s]"
     ]
    },
    {
     "name": "stdout",
     "output_type": "stream",
     "text": [
      "\n",
      "5dc42744007cd5d700ceb12b.bcd\n",
      "Select Difficulty\u0000\u0000\u0000\u0000\u0000\u0000\u0000\u0000\u0000\u0000\u0000\u0000\u0000\u0000\u0000\u0000"
     ]
    },
    {
     "name": "stderr",
     "output_type": "stream",
     "text": [
      "\r",
      " 11%|████████▏                                                                    | 1492/13971 [02:22<24:18,  8.56it/s]"
     ]
    },
    {
     "name": "stdout",
     "output_type": "stream",
     "text": [
      "\n",
      "5dc4274400806d6300ceb12f.bcd\n",
      "■The Magic Brick Escapade■\u0000\u0000\u0000\u0000\u0000\u0000\u0000\n",
      "5dc4274400a4e55900ceb131.bcd\n",
      "Big Boo's Haunted Warehouse\u0000\u0000\u0000\u0000\u0000\u0000\n",
      "5dc4274400a5591b00ceb125.bcd\n"
     ]
    },
    {
     "name": "stderr",
     "output_type": "stream",
     "text": [
      "\r",
      " 11%|████████▏                                                                    | 1494/13971 [02:22<24:22,  8.53it/s]"
     ]
    },
    {
     "name": "stdout",
     "output_type": "stream",
     "text": [
      "POW Pacer (20s)\u0000\u0000\u0000\u0000\u0000\u0000\u0000\u0000\u0000\u0000\u0000\u0000\u0000\u0000\u0000\u0000\u0000\u0000\n",
      "5dc4274400afae0800ceb12e.bcd\n",
      "Tour Of The Islands\u0000\u0000\u0000\u0000\u0000\u0000\u0000\u0000\u0000\u0000\u0000\u0000\u0000\u0000\n",
      "5dc4274500235df900ceb140.bcd\n"
     ]
    },
    {
     "name": "stderr",
     "output_type": "stream",
     "text": [
      "\r",
      " 11%|████████▏                                                                    | 1496/13971 [02:23<23:28,  8.86it/s]"
     ]
    },
    {
     "name": "stdout",
     "output_type": "stream",
     "text": [
      "Can you Outfox a Tiny Box?\u0000\u0000\u0000\u0000\u0000\u0000\u0000\n",
      "5dc42745004573dc00ceb13a.bcd\n",
      "Reflection Reflexion\u0000\u0000\u0000\u0000\u0000\u0000\u0000\u0000\u0000\u0000\u0000\u0000\u0000\n",
      "5dc427450046465300ceb132.bcd\n",
      "[Zelda BotW] Vah Rudania Dungeon\u0000\n",
      "5dc42745004b44d000ceb135.bcd\n"
     ]
    },
    {
     "name": "stderr",
     "output_type": "stream",
     "text": [
      " 11%|████████▎                                                                    | 1499/13971 [02:23<24:31,  8.48it/s]"
     ]
    },
    {
     "name": "stdout",
     "output_type": "stream",
     "text": [
      "ちびでか アドベンチャー　Tiny-Huge Adventure\u0000\n",
      "5dc42745005e985200ceb13d.bcd\n",
      "Plumber Primary: Jump, man!\u0000eys\u0000\u0000\n",
      "5dc42745005fc3e000ceb13b.bcd\n",
      "Spiral Mountain (Banjo-Kazooie)\u0000\u0000\n",
      "5dc42745007606d600ceb13e.bcd\n"
     ]
    },
    {
     "name": "stderr",
     "output_type": "stream",
     "text": [
      " 11%|████████▎                                                                    | 1502/13971 [02:24<31:25,  6.61it/s]"
     ]
    },
    {
     "name": "stdout",
     "output_type": "stream",
     "text": [
      "Laniakea Hula\u0000\u0000\u0000\u0000\u0000\u0000\u0000\u0000\u0000\u0000\u0000\u0000\u0000\u0000\u0000\u0000\u0000\u0000\u0000\u0000\n",
      "5dc4274500a95e8200ceb147.bcd\n",
      "Skiing & surfing\u0000\u0000\u0000\u0000\u0000\u0000\u0000\u0000\u0000\u0000\u0000\u0000\u0000\u0000\u0000\u0000\u0000\n",
      "5dc4274500a98e3b00ceb137.bcd\n",
      "Fiery Fortress [20s]\u0000\u0000\u0000\u0000\u0000\u0000\u0000\u0000\u0000\u0000\u0000\u0000\u0000"
     ]
    },
    {
     "name": "stderr",
     "output_type": "stream",
     "text": [
      "\r",
      " 11%|████████▎                                                                    | 1504/13971 [02:24<27:47,  7.48it/s]"
     ]
    },
    {
     "name": "stdout",
     "output_type": "stream",
     "text": [
      "\n",
      "5dc4274500b3c6e600ceb143.bcd\n",
      "Timberwood Stroll\u0000\u0000e\u0000\u0000\u0000\u0000\u0000\u0000\u0000\u0000\u0000\u0000\u0000\u0000\u0000\n",
      "5dc4274500bdec4900ceb141.bcd\n"
     ]
    },
    {
     "name": "stderr",
     "output_type": "stream",
     "text": [
      " 11%|████████▎                                                                    | 1506/13971 [02:24<37:02,  5.61it/s]"
     ]
    },
    {
     "name": "stdout",
     "output_type": "stream",
     "text": [
      "Seesaw Rocket - 大根タワーのシーソーロケット\u0000\u0000\u0000\n",
      "5dc4274500bf45dd00ceb142.bcd\n",
      "Ghost Thwomp Swamp Romp (20s)\u0000\u0000\u0000\u0000\n",
      "5dc4274500c4a96900ceb13f.bcd\n"
     ]
    },
    {
     "name": "stderr",
     "output_type": "stream",
     "text": [
      " 11%|████████▎                                                                    | 1509/13971 [02:25<27:50,  7.46it/s]"
     ]
    },
    {
     "name": "stdout",
     "output_type": "stream",
     "text": [
      "SMB1 2-4 Remake\u0000\u0000\u0000\u0000\u0000\u0000\u0000\u0000\u0000\u0000\u0000\u0000\u0000\u0000\u0000\u0000\u0000\u0000\n",
      "5dc4274500cc0fd800ceb138.bcd\n",
      "Fish love BAH BAH sound\u0000\u0000\u0000\u0000\u0000\u0000\u0000\u0000\u0000\u0000\n",
      "5dc4274500d66a3d00ceb13c.bcd\n",
      "Metal Gear Solid 1 Part 1\u0000\u0000\u0000\u0000\u0000\u0000\u0000\u0000\n",
      "5dc4274500e2b59b00ceb139.bcd\n"
     ]
    },
    {
     "name": "stderr",
     "output_type": "stream",
     "text": [
      "\r",
      " 11%|████████▎                                                                    | 1510/13971 [02:25<42:45,  4.86it/s]"
     ]
    },
    {
     "name": "stdout",
     "output_type": "stream",
     "text": [
      "Megario Man: Boss Rush\u0000\u0000\u0000\u0000\u0000\u0000\u0000\u0000\u0000\u0000\u0000\n",
      "5dc4274500ec6fba00ceb146.bcd\n",
      "[Zelda BotW] Vah Naboris Dungeon\u0000\n",
      "5dc4274500ed3cb900ceb144.bcd\n"
     ]
    },
    {
     "name": "stderr",
     "output_type": "stream",
     "text": [
      "\r",
      " 11%|████████▎                                                                    | 1512/13971 [02:25<40:40,  5.10it/s]"
     ]
    },
    {
     "name": "stdout",
     "output_type": "stream",
     "text": [
      "Insane Forest Dash [20 Seconds]\u0000\u0000\n",
      "5dc4274500eeba5300ceb134.bcd\n"
     ]
    },
    {
     "name": "stderr",
     "output_type": "stream",
     "text": [
      "\r",
      " 11%|████████▎                                                                    | 1513/13971 [02:25<43:26,  4.78it/s]"
     ]
    },
    {
     "name": "stdout",
     "output_type": "stream",
     "text": [
      "Master Negotiator\u0000l Climb Pt.2\u0000\u0000\u0000\n",
      "5dc42746000a0d2200ceb149.bcd\n",
      "Fast Firebar Run [20s]\u0000\u0000\u0000\u0000\u0000\u0000\u0000\u0000\u0000\u0000\u0000\n",
      "5dc42746006f296000ceb153.bcd\n"
     ]
    },
    {
     "name": "stderr",
     "output_type": "stream",
     "text": [
      " 11%|████████▎                                                                    | 1516/13971 [02:26<33:26,  6.21it/s]"
     ]
    },
    {
     "name": "stdout",
     "output_type": "stream",
     "text": [
      "ON かOFF どっち？　Either on or off ？\u0000\u0000\n",
      "5dc427460074880800ceb156.bcd\n",
      "Bowser jr's moving castle\u0000\u0000\u0000\u0000\u0000\u0000\u0000\u0000\n",
      "5dc42746009262f800ceb14b.bcd\n"
     ]
    },
    {
     "name": "stderr",
     "output_type": "stream",
     "text": [
      "\r",
      " 11%|████████▎                                                                    | 1517/13971 [02:26<30:15,  6.86it/s]"
     ]
    },
    {
     "name": "stdout",
     "output_type": "stream",
     "text": [
      "Metal Gear Mario - [STEALTH]\u0000]\u0000\u0000\u0000\n",
      "5dc4274600aeb44f00ceb14f.bcd\n"
     ]
    },
    {
     "name": "stderr",
     "output_type": "stream",
     "text": [
      "\r",
      " 11%|████████▎                                                                    | 1518/13971 [02:26<47:47,  4.34it/s]"
     ]
    },
    {
     "name": "stdout",
     "output_type": "stream",
     "text": [
      "On a Platform Built For Two\u0000\u0000\u0000\u0000\u0000\u0000\n",
      "5dc4274600b5d3c200ceb152.bcd\n",
      "Altering Adventure\u0000\u0000\u0000\u0000\u0000\u0000\u0000\u0000\u0000\u0000\u0000\u0000\u0000\u0000\u0000\n",
      "5dc4274600b892c000ceb14e.bcd\n"
     ]
    },
    {
     "name": "stderr",
     "output_type": "stream",
     "text": [
      "\r",
      " 11%|████████▍                                                                    | 1520/13971 [02:27<41:36,  4.99it/s]"
     ]
    },
    {
     "name": "stdout",
     "output_type": "stream",
     "text": [
      "風車\u0000\u0000\u0000\u0000\u0000\u0000\u0000\u0000\u0000\u0000\u0000\u0000\u0000\u0000\u0000\u0000\u0000\u0000\u0000\u0000\u0000\u0000\u0000\u0000\u0000\u0000\u0000\u0000\u0000\u0000\u0000\n",
      "5dc4274600b9c7cd00ceb151.bcd\n",
      "Dr. Mario Maker\u0000\u0000ory\u0000\u0000\u0000\u0000\u0000\u0000\u0000\u0000\u0000\u0000\u0000\u0000\u0000\n",
      "5dc4274600bebd2f00ceb157.bcd\n"
     ]
    },
    {
     "name": "stderr",
     "output_type": "stream",
     "text": [
      "\r",
      " 11%|████████▍                                                                    | 1522/13971 [02:27<36:17,  5.72it/s]"
     ]
    },
    {
     "name": "stdout",
     "output_type": "stream",
     "text": [
      "▲Zelda: Lost Woods Stomping▼\u0000\u0000\u0000\u0000\u0000\n",
      "5dc4274600bf40db00ceb14d.bcd\n"
     ]
    },
    {
     "name": "stderr",
     "output_type": "stream",
     "text": [
      "\r",
      " 11%|████████▍                                                                    | 1523/13971 [02:27<41:32,  5.00it/s]"
     ]
    },
    {
     "name": "stdout",
     "output_type": "stream",
     "text": [
      "Burning Feet Syndrome\u0000\u0000\u0000\u0000\u0000\u0000\u0000\u0000\u0000\u0000\u0000\u0000\n",
      "5dc4274600de0fdc00ceb14c.bcd\n"
     ]
    },
    {
     "name": "stderr",
     "output_type": "stream",
     "text": [
      "\r",
      " 11%|████████▍                                                                    | 1524/13971 [02:27<42:05,  4.93it/s]"
     ]
    },
    {
     "name": "stdout",
     "output_type": "stream",
     "text": [
      "Meet your Doom in a Beetle Room!\u0000\n",
      "5dc4274600e0cf2800ceb155.bcd\n",
      "Super Metroid Bros. II \u0000\u0000\u0000\u0000\u0000\u0000\u0000\u0000\u0000\u0000\n",
      "5dc4274600e0df7500ceb154.bcd\n"
     ]
    },
    {
     "name": "stderr",
     "output_type": "stream",
     "text": [
      " 11%|████████▍                                                                    | 1527/13971 [02:28<32:35,  6.36it/s]"
     ]
    },
    {
     "name": "stdout",
     "output_type": "stream",
     "text": [
      "Catathwomp Canyon\u0000\u0000AVE\u0000\u0000\u0000\u0000\u0000\u0000\u0000\u0000\u0000\u0000\u0000\n",
      "5dc4274600fd4c8600ceb150.bcd\n",
      "Bumper Cars Tournament!! \u0000 \u0000\u0000\u0000\u0000\u0000\u0000\n",
      "5dc427470080a4c300ceb159.bcd\n"
     ]
    },
    {
     "name": "stderr",
     "output_type": "stream",
     "text": [
      "\r",
      " 11%|████████▍                                                                    | 1529/13971 [02:28<28:08,  7.37it/s]"
     ]
    },
    {
     "name": "stdout",
     "output_type": "stream",
     "text": [
      "Sandstorm Sprint [20s]\u0000\u0000\u0000\u0000\u0000\u0000\u0000\u0000\u0000\u0000\u0000\n",
      "5dc4274700efa4b300ceb15a.bcd\n",
      "Think Fast!\u0000\u0000\u0000\u0000\u0000\u0000\u0000\u0000\u0000\u0000\u0000\u0000\u0000\u0000\u0000\u0000\u0000\u0000\u0000\u0000\u0000\u0000\n",
      "5dc42754001a702500ceb15f.bcd\n"
     ]
    },
    {
     "name": "stderr",
     "output_type": "stream",
     "text": [
      " 11%|████████▍                                                                    | 1532/13971 [02:28<21:39,  9.57it/s]"
     ]
    },
    {
     "name": "stdout",
     "output_type": "stream",
     "text": [
      "Munchers in the Sky w POW Blocks\u0000\n",
      "5dc4275400a6acde00ceb15c.bcd\n",
      "SMB1 7-1 Remake\u0000\u0000\u0000\u0000\u0000\u0000\u0000\u0000\u0000\u0000\u0000\u0000\u0000\u0000\u0000\u0000\u0000\u0000\n",
      "5dc4275400d39b3500ceb15b.bcd\n",
      "Spooky Ghost Chase [20s]\u0000\u0000\u0000\u0000\u0000\u0000\u0000\u0000\u0000\n",
      "5dc4275400d4e34500ceb15e.bcd\n",
      "週末もスピランでENJOY♪ #21 Speed Run\u0000n\u0000\u0000\u0000\n",
      "5dc4275500122bef00ceb16b.bcd\n"
     ]
    },
    {
     "name": "stderr",
     "output_type": "stream",
     "text": [
      " 11%|████████▍                                                                    | 1536/13971 [02:28<18:03, 11.48it/s]"
     ]
    },
    {
     "name": "stdout",
     "output_type": "stream",
     "text": [
      "Thwomp Run\u0000\u0000\u0000\u0000\u0000\u0000\u0000ps\u0000\u0000\u0000\u0000\u0000\u0000\u0000\u0000\u0000\u0000\u0000\u0000\u0000\u0000\n",
      "5dc427550014ec3900ceb165.bcd\n",
      "Deceitful Flames! (10 Seconds)\u0000\u0000\u0000\n",
      "5dc42755001a6ddc00ceb16d.bcd\n",
      "ツインブランコに揺られて Twin Swing Athletic\u0000\n",
      "5dc42755001edf7800ceb166.bcd\n",
      "Chomp Thwomp Mines\u0000\u0000\u0000\u0000\u0000\u0000\u0000\u0000\u0000\u0000\u0000\u0000\u0000\u0000\u0000\n",
      "5dc42755004ab1a900ceb164.bcd\n"
     ]
    },
    {
     "name": "stderr",
     "output_type": "stream",
     "text": [
      "\r",
      " 11%|████████▍                                                                    | 1538/13971 [02:29<32:04,  6.46it/s]"
     ]
    },
    {
     "name": "stdout",
     "output_type": "stream",
     "text": [
      "The Wow POW 20 Seconds Speedrun\u0000\u0000\n",
      "5dc427550058c78700ceb161.bcd\n"
     ]
    },
    {
     "name": "stderr",
     "output_type": "stream",
     "text": [
      "\r",
      " 11%|████████▍                                                                    | 1540/13971 [02:30<44:11,  4.69it/s]"
     ]
    },
    {
     "name": "stdout",
     "output_type": "stream",
     "text": [
      "Poisonous Pipeline\u0000ipeline\u0000\u0000\u0000\u0000\u0000\u0000\u0000\n",
      "5dc42755007afaea00ceb16f.bcd\n",
      "SPEEDRUN　1でお世話になった方々へ再会出来て嬉しいです。\u0000\n",
      "5dc42755008e8c8f00ceb175.bcd\n",
      "Speedrun #2 Switch Forest [20s]\u0000\u0000\n",
      "5dc427550099cbc200ceb172.bcd\n"
     ]
    },
    {
     "name": "stderr",
     "output_type": "stream",
     "text": [
      "\r",
      " 11%|████████▍                                                                    | 1542/13971 [02:30<39:34,  5.23it/s]"
     ]
    },
    {
     "name": "stdout",
     "output_type": "stream",
     "text": [
      "Don't trust the Arrows! [20s]\u0000\u0000\u0000\u0000\n",
      "5dc4275500a1094400ceb168.bcd\n"
     ]
    },
    {
     "name": "stderr",
     "output_type": "stream",
     "text": [
      "\r",
      " 11%|████████▌                                                                    | 1543/13971 [02:30<41:34,  4.98it/s]"
     ]
    },
    {
     "name": "stdout",
     "output_type": "stream",
     "text": [
      "Oni Shell Jr.: A Sequel of Decay\u0000\n",
      "5dc4275500a5561a00ceb169.bcd\n"
     ]
    },
    {
     "name": "stderr",
     "output_type": "stream",
     "text": [
      " 11%|████████▌                                                                    | 1545/13971 [02:31<43:21,  4.78it/s]"
     ]
    },
    {
     "name": "stdout",
     "output_type": "stream",
     "text": [
      "Dragon's Den (20s)\u0000Blitz (20s)\u0000\u0000\u0000\n",
      "5dc4275500b545d900ceb167.bcd\n",
      "スーパーマリオU SO\u0000\u0000\u0000\u0000\u0000　用)\u0000\u0000\u0000\u0000\u0000\u0000\u0000\u0000\u0000\u0000\u0000\u0000\u0000\u0000\n",
      "5dc4275500b913bc00ceb174.bcd\n"
     ]
    },
    {
     "name": "stderr",
     "output_type": "stream",
     "text": [
      " 11%|████████▌                                                                    | 1547/13971 [02:31<36:01,  5.75it/s]"
     ]
    },
    {
     "name": "stdout",
     "output_type": "stream",
     "text": [
      "Desert Dash [20s]\u0000\u0000\u0000\u0000\u0000\u0000\u0000\u0000\u0000\u0000\u0000\u0000\u0000\u0000\u0000\u0000\n",
      "5dc4275500bb26d100ceb171.bcd\n",
      "Frosty Long Jumps [20 Sec]\u0000\u0000\u0000\u0000\u0000\u0000\u0000\n",
      "5dc4275500d582f000ceb163.bcd\n"
     ]
    },
    {
     "name": "stderr",
     "output_type": "stream",
     "text": [
      " 11%|████████▌                                                                    | 1550/13971 [02:31<28:31,  7.26it/s]"
     ]
    },
    {
     "name": "stdout",
     "output_type": "stream",
     "text": [
      "King Boo's Lighthouse\u0000\u0000\u0000\u0000\u0000\u0000\u0000\u0000\u0000\u0000\u0000\u0000\n",
      "5dc4275500d80c9300ceb16c.bcd\n",
      "♪POWをたくさん使ったちょいムズのすぴーどらん♪中間有♪\u0000\u0000\u0000\u0000\n",
      "5dc4275600303ce800ceb184.bcd\n",
      "Mole Money Mole Problems\u0000bu\u0000\u0000\u0000\u0000\u0000\u0000\n",
      "5dc42756003526e000ceb183.bcd\n"
     ]
    },
    {
     "name": "stderr",
     "output_type": "stream",
     "text": [
      "\r",
      " 11%|████████▌                                                                    | 1552/13971 [02:31<24:39,  8.39it/s]"
     ]
    },
    {
     "name": "stdout",
     "output_type": "stream",
     "text": [
      "P-Switch Jump ya Grump\u0000\u0000\u0000\u0000\u0000\u0000\u0000\u0000\u0000\u0000\u0000\n",
      "5dc427560070de2600ceb187.bcd\n",
      "Snow & Slides LITE\u0000after edit\u0000\u0000\u0000\u0000\n",
      "5dc427560082a2fa00ceb17b.bcd\n"
     ]
    },
    {
     "name": "stderr",
     "output_type": "stream",
     "text": [
      "\r",
      " 11%|████████▌                                                                    | 1553/13971 [02:31<25:27,  8.13it/s]"
     ]
    },
    {
     "name": "stdout",
     "output_type": "stream",
     "text": [
      "W 1-1 But The Floor is Missing\u0000r\u0000\n",
      "5dc4275600842efa00ceb177.bcd\n",
      "There's a Plant in my Claw!\u0000\u0000\u0000\u0000\u0000\u0000\n",
      "5dc42756008814d900ceb17c.bcd\n",
      "Spiny Snowfall (20s)\u0000\u0000\u0000\u0000\u0000\u0000\u0000\u0000\u0000\u0000\u0000\u0000\u0000\n",
      "5dc42756009d310900ceb182.bcd\n",
      "Shooting Star\u0000\u0000\u0000\u0000\u0000\u0000\u0000\u0000\u0000\u0000\u0000\u0000\u0000\u0000\u0000\u0000\u0000\u0000\u0000\u0000\n",
      "5dc4275600b2a70800ceb181.bcd\n"
     ]
    },
    {
     "name": "stderr",
     "output_type": "stream",
     "text": [
      " 11%|████████▌                                                                    | 1559/13971 [02:32<19:01, 10.88it/s]"
     ]
    },
    {
     "name": "stdout",
     "output_type": "stream",
     "text": [
      "Defy 'N' Gravity\u0000own\u0000ground\u0000\u0000\u0000\u0000\u0000\u0000\n",
      "5dc4275600c11e0e00ceb17a.bcd\n",
      "The Impossible Speedrun\u0000\u0000\u0000\u0000\u0000\u0000\u0000\u0000\u0000\u0000\n",
      "5dc4275600c49e9800ceb17f.bcd\n",
      "判断力を鍛えましょう/Decision-MakingSkills\u0000\n",
      "5dc4275600c54e3100ceb179.bcd\n"
     ]
    },
    {
     "name": "stderr",
     "output_type": "stream",
     "text": [
      "\r",
      " 11%|████████▌                                                                    | 1561/13971 [02:32<20:27, 10.11it/s]"
     ]
    },
    {
     "name": "stdout",
     "output_type": "stream",
     "text": [
      "SSS: Grade 1\u0000\u0000\u0000\u0000\u0000\u0000\u0000\u0000\u0000\u0000\u0000\u0000\u0000\u0000\u0000\u0000\u0000\u0000\u0000\u0000\u0000\n",
      "5dc4275600c98c7a00ceb176.bcd\n",
      "Sandy Walljump Challenge\u0000\u0000\u0000\u0000\u0000\u0000\u0000\u0000\u0000\n",
      "5dc4275600ec414100ceb180.bcd\n"
     ]
    },
    {
     "name": "stderr",
     "output_type": "stream",
     "text": [
      "\r",
      " 11%|████████▌                                                                    | 1563/13971 [02:32<24:26,  8.46it/s]"
     ]
    },
    {
     "name": "stdout",
     "output_type": "stream",
     "text": [
      "Superball Land\u0000\u0000\u0000\u0000\u0000\u0000\u0000\u0000\u0000\u0000\u0000\u0000\u0000\u0000\u0000\u0000\u0000\u0000\u0000\n",
      "5dc427570007350d00ceb189.bcd\n",
      "Insane Asylum - Chapter 1\u0000\u0000\u0000\u0000\u0000\u0000\u0000\u0000\n",
      "5dc42757000db01200ceb18a.bcd\n",
      "Heavy Birthday !!!\u0000de Challenge]\u0000\n",
      "5dc42757001e441000ceb192.bcd\n"
     ]
    },
    {
     "name": "stderr",
     "output_type": "stream",
     "text": [
      "\r",
      " 11%|████████▋                                                                    | 1565/13971 [02:33<22:09,  9.33it/s]"
     ]
    },
    {
     "name": "stdout",
     "output_type": "stream",
     "text": [
      "Learn2NSMBU: Ground Pounds\u0000\u0000\u0000\u0000\u0000\u0000\u0000\n",
      "5dc42757002437eb00ceb195.bcd\n"
     ]
    },
    {
     "name": "stderr",
     "output_type": "stream",
     "text": [
      "\r",
      " 11%|████████▋                                                                    | 1567/13971 [02:33<24:58,  8.28it/s]"
     ]
    },
    {
     "name": "stdout",
     "output_type": "stream",
     "text": [
      "Blocked\u0000\u0000\u0000\u0000\u0000\u0000\u0000\u0000\u0000\u0000\u0000\u0000\u0000\u0000\u0000\u0000\u0000\u0000\u0000\u0000\u0000\u0000\u0000\u0000\u0000\u0000\n",
      "5dc4275700527e7600ceb193.bcd\n",
      "パトロールであります！\u0000\u0000\u0000\u0000\u0000\u0000\u0000\u0000\u0000\u0000\u0000\u0000\u0000\u0000\u0000\u0000\u0000\u0000\u0000\u0000\u0000\u0000\n",
      "5dc4275700b51e1800ceb191.bcd\n",
      "Chomp Stomp\u0000\u0000\u0000\u0000\u0000\u0000t Away\u0000\u0000\u0000\u0000\u0000\u0000\u0000\u0000\u0000\u0000\n",
      "5dc4275700c8c8d500ceb18b.bcd\n"
     ]
    },
    {
     "name": "stderr",
     "output_type": "stream",
     "text": [
      " 11%|████████▋                                                                    | 1571/13971 [02:33<18:32, 11.14it/s]"
     ]
    },
    {
     "name": "stdout",
     "output_type": "stream",
     "text": [
      "A perilous sliding \u0000\u0000\u0000\u0000\u0000\u0000\u0000\u0000\u0000\u0000\u0000\u0000\u0000\u0000\n",
      "5dc4275700dcea8a00ceb190.bcd\n",
      "Switching Speed 3\u0000\u0000\u0000\u0000\u0000\u0000\u0000\u0000\u0000\u0000\u0000\u0000\u0000\u0000\u0000\u0000\n",
      "5dc4275700eec97900ceb194.bcd\n",
      "Decision Dungeon\u0000\u0000\u0000\u0000\u0000\u0000\u0000\u0000\u0000\u0000\u0000\u0000\u0000\u0000\u0000\u0000\u0000\n",
      "5dc427580018e14d00ceb196.bcd\n",
      "Catch 22 Puzzle\u0000\u0000\u0000\u0000\u0000\u0000\u0000\u0000\u0000\u0000\u0000\u0000\u0000\u0000\u0000\u0000\u0000\u0000"
     ]
    },
    {
     "name": "stderr",
     "output_type": "stream",
     "text": [
      "\r",
      " 11%|████████▋                                                                    | 1573/13971 [02:33<18:24, 11.22it/s]"
     ]
    },
    {
     "name": "stdout",
     "output_type": "stream",
     "text": [
      "\n",
      "5dc42762001e9bc100ceb198.bcd\n",
      "Thwomp Tomb  \u0000\u0000\u0000\u0000\u0000\u0000\u0000\u0000\u0000\u0000\u0000\u0000\u0000\u0000\u0000\u0000\u0000\u0000\u0000\u0000\n",
      "5dc42762003a2b6900ceb19d.bcd\n",
      "Koopa the Quicks Mechanical Cave\u0000\n",
      "5dc4276200473af500ceb19c.bcd\n"
     ]
    },
    {
     "name": "stderr",
     "output_type": "stream",
     "text": [
      " 11%|████████▋                                                                    | 1578/13971 [02:34<16:39, 12.40it/s]"
     ]
    },
    {
     "name": "stdout",
     "output_type": "stream",
     "text": [
      "Lava, Run!\u0000\u0000\u0000\u0000\u0000\u0000\u0000\u0000\u0000\u0000\u0000\u0000\u0000\u0000\u0000\u0000\u0000\u0000\u0000\u0000\u0000\u0000\u0000\n",
      "5dc427620063511500ceb199.bcd\n",
      "Ever's puzzle 4 Twister power!\u0000\u0000\u0000\n",
      "5dc4276200702ae100ceb197.bcd\n",
      "Splatoon: Tower Control v1.1\u0000\u0000\u0000\u0000\u0000\n",
      "5dc4276200c57eeb00ceb19b.bcd\n",
      "Scorching Hot Pipes [20]\u0000\u0000\u0000\u0000\u0000\u0000\u0000\u0000\u0000\n",
      "5dc427630008912c00ceb1aa.bcd\n",
      "On-Off Onslaught [20s]\u0000\u0000\u0000\u0000\u0000\u0000\u0000\u0000\u0000\u0000\u0000\n",
      "5dc427630009988f00ceb1b2.bcd\n"
     ]
    },
    {
     "name": "stderr",
     "output_type": "stream",
     "text": [
      "\r",
      " 11%|████████▋                                                                    | 1580/13971 [02:34<25:14,  8.18it/s]"
     ]
    },
    {
     "name": "stdout",
     "output_type": "stream",
     "text": [
      "Plant Land\u0000\u0000\u0000\u0000\u0000\u0000\u0000\u0000\u0000\u0000\u0000\u0000\u0000\u0000\u0000\u0000\u0000\u0000\u0000\u0000\u0000\u0000\u0000\n",
      "5dc4276300126a9500ceb1a5.bcd\n",
      "A Little Koopaling Fling Thing\u0000\u0000\u0000\n",
      "5dc427630021b10800ceb1a9.bcd\n"
     ]
    },
    {
     "name": "stderr",
     "output_type": "stream",
     "text": [
      "\r",
      " 11%|████████▋                                                                    | 1582/13971 [02:34<24:31,  8.42it/s]"
     ]
    },
    {
     "name": "stdout",
     "output_type": "stream",
     "text": [
      "Dusty Dunes #CWC\u0000a\u0000 Well 3\u0000\u0000\u0000\u0000\u0000\u0000\u0000\n",
      "5dc427630048534500ceb1a1.bcd\n",
      "Huebi 40\u0000\u0000\u0000\u0000\u0000\u0000\u0000\u0000\u0000 delete it \u0000om\u0000\u0000\n",
      "5dc42763004a13f000ceb1a8.bcd\n"
     ]
    },
    {
     "name": "stderr",
     "output_type": "stream",
     "text": [
      " 11%|████████▋                                                                    | 1586/13971 [02:35<25:53,  7.97it/s]"
     ]
    },
    {
     "name": "stdout",
     "output_type": "stream",
     "text": [
      "The Legend of Easy Setups\u0000\u0000\u0000\u0000\u0000\u0000\u0000\u0000\n",
      "5dc42763004f74a100ceb1b3.bcd\n",
      "Doki Doki Literature Club!\u0000\u0000\u0000\u0000\u0000\u0000\u0000\n",
      "5dc427630069df0400ceb1ae.bcd\n",
      "[20s] Swift Sand Land\u0000\u0000\u0000\u0000\u0000\u0000\u0000\u0000\u0000\u0000\u0000\u0000\n",
      "5dc427630077d24300ceb1ab.bcd\n",
      "Spiny pulled down\u0000\u0000\u0000\u0000\u0000\u0000\u0000\u0000\u0000\u0000\u0000\u0000\u0000\u0000\u0000\u0000\n",
      "5dc4276300785e0000ceb1a0.bcd\n"
     ]
    },
    {
     "name": "stderr",
     "output_type": "stream",
     "text": [
      " 11%|████████▊                                                                    | 1589/13971 [02:35<28:24,  7.27it/s]"
     ]
    },
    {
     "name": "stdout",
     "output_type": "stream",
     "text": [
      "extreme race\u0000\u0000\u0000\u0000\u0000\u0000\u0000\u0000\u0000\u0000\u0000\u0000\u0000\u0000\u0000\u0000\u0000\u0000\u0000\u0000\u0000\n",
      "5dc427630081c29500ceb1b0.bcd\n",
      "Upthrow Cavern\u0000\u0000\u0000\u0000\u0000\u0000\u0000\u0000\u0000\u0000\u0000\u0000\u0000\u0000\u0000\u0000\u0000\u0000\u0000\n",
      "5dc427630096ca2c00ceb1a4.bcd\n",
      "Galaxy Express 999\u0000\u0000\u0000\u0000\u0000\u0000\u0000\u0000\u0000\u0000\u0000\u0000\u0000\u0000\u0000"
     ]
    },
    {
     "name": "stderr",
     "output_type": "stream",
     "text": [
      "\r",
      " 11%|████████▊                                                                    | 1591/13971 [02:36<27:31,  7.50it/s]"
     ]
    },
    {
     "name": "stdout",
     "output_type": "stream",
     "text": [
      "\n",
      "5dc4276300ab882800ceb1af.bcd\n",
      "Lethal Lava Lifts\u0000\u0000\u0000\u0000\u0000\u0000\u0000\u0000\u0000\u0000\u0000\u0000\u0000\u0000\u0000\u0000\n",
      "5dc4276300b5b77e00ceb1b5.bcd\n"
     ]
    },
    {
     "name": "stderr",
     "output_type": "stream",
     "text": [
      "\r",
      " 11%|████████▊                                                                    | 1592/13971 [02:36<28:48,  7.16it/s]"
     ]
    },
    {
     "name": "stdout",
     "output_type": "stream",
     "text": [
      "PEGO NO PULO \u0000\u0000\u0000\u0000\u0000\u0000\u0000\u0000\u0000\u0000\u0000\u0000\u0000\u0000\u0000\u0000\u0000\u0000\u0000\u0000\n",
      "5dc427640001561200ceb1c7.bcd\n",
      "Duncan zijn BlindeDarm is terug!\u0000\n",
      "5dc427640020ce7200ceb1c1.bcd\n",
      "Undertale Genocide: Sans Battle!\u0000\n",
      "5dc427640061156b00ceb1c8.bcd\n"
     ]
    },
    {
     "name": "stderr",
     "output_type": "stream",
     "text": [
      "\r",
      " 11%|████████▊                                                                    | 1595/13971 [02:36<24:55,  8.27it/s]"
     ]
    },
    {
     "name": "stdout",
     "output_type": "stream",
     "text": [
      "Cloudscape Clamber\u0000 Well 3\u0000\u0000\u0000\u0000\u0000\u0000\u0000\n",
      "5dc42764006a937200ceb1be.bcd\n"
     ]
    },
    {
     "name": "stderr",
     "output_type": "stream",
     "text": [
      " 11%|████████▊                                                                    | 1597/13971 [02:36<31:02,  6.65it/s]"
     ]
    },
    {
     "name": "stdout",
     "output_type": "stream",
     "text": [
      "Mario Kicking Goals v2 [20sec]\u0000\u0000\u0000\n",
      "5dc427640082bc8800ceb1b8.bcd\n",
      "Springy Speedrun [30s]\u0000\u0000\u0000\u0000\u0000\u0000\u0000\u0000\u0000\u0000\u0000\n",
      "5dc4276400871b9500ceb1b6.bcd\n"
     ]
    },
    {
     "name": "stderr",
     "output_type": "stream",
     "text": [
      "\r",
      " 11%|████████▊                                                                    | 1599/13971 [02:37<24:48,  8.31it/s]"
     ]
    },
    {
     "name": "stdout",
     "output_type": "stream",
     "text": [
      "Yugehitbucks Desert\u0000\u0000\u0000\u0000\u0000\u0000\u0000\u0000\u0000\u0000\u0000\u0000\u0000\u0000\n",
      "5dc4276400a396b200ceb1b9.bcd\n",
      "Buncha Boom Booms\u0000n Crew\u0000ing\u0000\u0000\u0000\u0000\u0000\n",
      "5dc4276400b7aa1e00ceb1bc.bcd\n",
      "Kaizo Coollege: Breaking the Ice\u0000\n",
      "5dc4276400d7967f00ceb1b7.bcd\n"
     ]
    },
    {
     "name": "stderr",
     "output_type": "stream",
     "text": [
      " 11%|████████▊                                                                    | 1603/13971 [02:37<19:20, 10.65it/s]"
     ]
    },
    {
     "name": "stdout",
     "output_type": "stream",
     "text": [
      "Walking The Pet Rock\u0000\u0000\u0000\u0000\u0000\u0000\u0000\u0000\u0000\u0000\u0000\u0000\u0000\n",
      "5dc4276400e4b49600ceb1bf.bcd\n",
      "Fish Bone Canyon\u0000c\u0000\u0000\u0000\u0000\u0000\u0000\u0000\u0000\u0000\u0000\u0000\u0000\u0000\u0000\u0000\n",
      "5dc4276400f5ba6400ceb1bb.bcd\n",
      "The Boys Will Scream\u0000e\u0000\u0000\u0000\u0000\u0000\u0000\u0000\u0000\u0000\u0000\u0000\n",
      "5dc4276400fa63c100ceb1c4.bcd\n",
      "Sky High Spikey Spin Jumps [20s]\u0000\n",
      "5dc4276400ffa68400ceb1c5.bcd\n"
     ]
    },
    {
     "name": "stderr",
     "output_type": "stream",
     "text": [
      "\r",
      " 11%|████████▊                                                                    | 1606/13971 [02:37<18:18, 11.26it/s]"
     ]
    },
    {
     "name": "stdout",
     "output_type": "stream",
     "text": [
      "Donut Thwomp Castle\u0000\u0000\u0000\u0000\u0000\u0000\u0000\u0000\u0000\u0000\u0000\u0000\u0000\u0000\n",
      "5dc42765000cf5ef00ceb1cf.bcd\n",
      "Roots to Branches\u0000\u0000\u0000\u0000\u0000\u0000\u0000\u0000\u0000\u0000\u0000\u0000\u0000\u0000\u0000\u0000\n",
      "5dc427650015acb600ceb1cd.bcd\n"
     ]
    },
    {
     "name": "stderr",
     "output_type": "stream",
     "text": [
      " 12%|████████▊                                                                    | 1610/13971 [02:37<16:47, 12.27it/s]"
     ]
    },
    {
     "name": "stdout",
     "output_type": "stream",
     "text": [
      "パタパタいっぱい\u0000\u0000\u0000\u0000\u0000\u0000\u0000\u0000\u0000\u0000\u0000\u0000\u0000\u0000\u0000\u0000\u0000\u0000\u0000\u0000\u0000\u0000\u0000\u0000\u0000\n",
      "5dc427650016de3200ceb1d1.bcd\n",
      "Gliding chain chomp\u0000\u0000\u0000\u0000\u0000\u0000\u0000\u0000\u0000\u0000\u0000\u0000\u0000\u0000\n",
      "5dc427650046148f00ceb1c9.bcd\n",
      "Baby Kaizo 2 - Mountain Madness\u0000\u0000\n",
      "5dc4276500560f6400ceb1ce.bcd\n",
      "CircleToonsHD's Gauntlet of Pain\u0000\n",
      "5dc42765005a40ba00ceb1cc.bcd\n",
      "Smashing Pumpkins\u0000\u0000\u0000\u0000\u0000\u0000\u0000\u0000\u0000\u0000\u0000\u0000\u0000\u0000\u0000\u0000\n",
      "5dc42765005a8b6800ceb1cb.bcd\n"
     ]
    },
    {
     "name": "stderr",
     "output_type": "stream",
     "text": [
      " 12%|████████▉                                                                    | 1614/13971 [02:38<18:19, 11.24it/s]"
     ]
    },
    {
     "name": "stdout",
     "output_type": "stream",
     "text": [
      "Twice Twice, Baby\u0000\u0000\u0000\u0000\u0000\u0000\u0000\u0000\u0000\u0000\u0000\u0000\u0000\u0000\u0000\u0000\n",
      "5dc427650096229300ceb1d2.bcd\n",
      "ハナちゃん連れてって！！\u0000\u0000\u0000\u0000\u0000\u0000\u0000\u0000\u0000\u0000\u0000\u0000\u0000\u0000\u0000\u0000\u0000\u0000\u0000\u0000\u0000\n",
      "5dc4276500a0763100ceb1d0.bcd\n",
      "Bowser's Minion Sewer\u0000ers\u0000\u0000\u0000\u0000\u0000\u0000\u0000\u0000\n",
      "5dc4276500aaa9dd00ceb1ca.bcd\n",
      "☆青花瓷♪(Blue and white porcelain)\u0000\u0000\n",
      "5dc4277400051b8500ceb1dd.bcd\n"
     ]
    },
    {
     "name": "stderr",
     "output_type": "stream",
     "text": [
      "\r",
      " 12%|████████▉                                                                    | 1616/13971 [02:38<19:52, 10.36it/s]"
     ]
    },
    {
     "name": "stdout",
     "output_type": "stream",
     "text": [
      "Treetop Troubles\u0000\u0000\u0000\u0000\u0000\u0000\u0000\u0000\u0000\u0000\u0000\u0000\u0000\u0000\u0000\u0000\u0000\n",
      "5dc42774000741d000ceb1d8.bcd\n",
      "◆ Automatic level (Don't move) ◆\u0000"
     ]
    },
    {
     "name": "stderr",
     "output_type": "stream",
     "text": [
      "\r",
      " 12%|████████▉                                                                    | 1618/13971 [02:38<21:49,  9.43it/s]"
     ]
    },
    {
     "name": "stdout",
     "output_type": "stream",
     "text": [
      "\n",
      "5dc427740012aa3600ceb1de.bcd\n",
      "メットサーフィン　<扉以外全自動　↑auto>\u0000\u0000\u0000\u0000\u0000\u0000\u0000\u0000\u0000\u0000\n",
      "5dc42774004b6ebc00ceb1d9.bcd\n",
      "神一重52   　 全自動 (Auto)\u0000\u0000ンタの  顔見たい！\u0000\n",
      "5dc427740099885700ceb1dc.bcd\n",
      "☆东京不太热♪(Not Too Hot in Tokyo)\u0000\u0000\u0000\u0000\n",
      "5dc4277400b8046800ceb1d4.bcd\n"
     ]
    },
    {
     "name": "stderr",
     "output_type": "stream",
     "text": [
      "\r",
      " 12%|████████▉                                                                    | 1621/13971 [02:38<18:41, 11.01it/s]"
     ]
    },
    {
     "name": "stdout",
     "output_type": "stream",
     "text": [
      "Ice and Fire [GAME OF THRONES]■♪\u0000\n",
      "5dc4277400baaec200ceb1d6.bcd\n"
     ]
    },
    {
     "name": "stderr",
     "output_type": "stream",
     "text": [
      "\r",
      " 12%|████████▉                                                                    | 1623/13971 [02:39<24:44,  8.32it/s]"
     ]
    },
    {
     "name": "stdout",
     "output_type": "stream",
     "text": [
      "Tutankoopa's Treasure\u0000ess Down)\u0000\u0000\n",
      "5dc4277400de689000ceb1d3.bcd\n",
      "Sliding and Jumping in the Sky\u00002\u0000\n",
      "5dc4277400ea331100ceb1db.bcd\n"
     ]
    },
    {
     "name": "stderr",
     "output_type": "stream",
     "text": [
      "\r",
      " 12%|████████▉                                                                    | 1625/13971 [02:39<22:19,  9.22it/s]"
     ]
    },
    {
     "name": "stdout",
     "output_type": "stream",
     "text": [
      "A Level for your Mom\u0000eyond!!\u0000\u0000\u0000\u0000\u0000\n",
      "5dc4277400ede0ea00ceb1da.bcd\n",
      "♪ Undertale - Bonetrousle ♪\u0000\u0000\u0000\u0000\u0000\u0000\n",
      "5dc4277400f5dd5300ceb1d7.bcd\n"
     ]
    },
    {
     "name": "stderr",
     "output_type": "stream",
     "text": [
      "\r",
      " 12%|████████▉                                                                    | 1627/13971 [02:39<29:28,  6.98it/s]"
     ]
    },
    {
     "name": "stdout",
     "output_type": "stream",
     "text": [
      "●Rosalina's Comet Observatory●♪♪\u0000\n",
      "5dc4277400f5debd00ceb1df.bcd\n",
      "Goombrat Invaders \u0000st! \u0000\u0000\u0000\u0000\u0000\u0000\u0000\u0000\u0000\u0000\n",
      "5dc427750007293000ceb1e3.bcd\n",
      "Marinara Marathon\u0000\u0000\u0000\u0000\u0000\u0000\u0000\u0000\u0000\u0000\u0000\u0000\u0000\u0000\u0000\u0000\n",
      "5dc4277500078ad000ceb1e1.bcd\n"
     ]
    },
    {
     "name": "stderr",
     "output_type": "stream",
     "text": [
      " 12%|████████▉                                                                    | 1630/13971 [02:40<28:23,  7.24it/s]"
     ]
    },
    {
     "name": "stdout",
     "output_type": "stream",
     "text": [
      "花の仕掛けは2度咲く Fire PZL blooms twice\u0000\n",
      "5dc427750036db4500ceb1e5.bcd\n",
      "SSS: Kindergarten\u0000\u0000\u0000\u0000\u0000\u0000\u0000\u0000\u0000\u0000\u0000\u0000\u0000\u0000\u0000\u0000\n",
      "5dc427750056941700ceb1eb.bcd\n",
      "発進！マリオタンク/Deploy the Mario Tank!\u0000\n",
      "5dc4277500a5d84000ceb1ec.bcd\n"
     ]
    },
    {
     "name": "stderr",
     "output_type": "stream",
     "text": [
      "\r",
      " 12%|████████▉                                                                    | 1632/13971 [02:40<25:31,  8.06it/s]"
     ]
    },
    {
     "name": "stdout",
     "output_type": "stream",
     "text": [
      "Galoomball Sky Olympics\u0000\u0000\u0000\u0000\u0000\u0000\u0000\u0000\u0000\u0000\n",
      "5dc4277500a8306400ceb1e6.bcd\n"
     ]
    },
    {
     "name": "stderr",
     "output_type": "stream",
     "text": [
      "\r",
      " 12%|█████████                                                                    | 1633/13971 [02:41<50:11,  4.10it/s]"
     ]
    },
    {
     "name": "stdout",
     "output_type": "stream",
     "text": [
      "W2-5 Muncher-Forest\u0000wer\u0000\u0000\u0000\u0000\u0000\u0000\u0000\u0000\u0000\u0000\n",
      "5dc4277500bbc1b500ceb1e9.bcd\n",
      "マリオがゴールしてるときに流れてる曲【ドアからでたら動かないで】\u0000\n",
      "5dc4277500c8b87000ceb1e7.bcd\n"
     ]
    },
    {
     "name": "stderr",
     "output_type": "stream",
     "text": [
      "\r",
      " 12%|█████████                                                                    | 1635/13971 [02:41<44:17,  4.64it/s]"
     ]
    },
    {
     "name": "stdout",
     "output_type": "stream",
     "text": [
      "µ◇KEEP RUNNING◆µ         !RUN!¬\u0000\u0000\n",
      "5dc4277500eba0b000ceb1e0.bcd\n"
     ]
    },
    {
     "name": "stderr",
     "output_type": "stream",
     "text": [
      " 12%|█████████                                                                    | 1638/13971 [02:41<43:31,  4.72it/s]"
     ]
    },
    {
     "name": "stdout",
     "output_type": "stream",
     "text": [
      "東方紅魔郷　U.N.オーエンは彼女なのか？　曲だけ\u0000\u0000\u0000\u0000\u0000\u0000\u0000\u0000\n",
      "5dc4277500f5c6b500ceb1e8.bcd\n",
      "Duel of the Fates [STAR WARS] ♪\u0000\u0000\n",
      "5dc4277500fd19b800ceb1e2.bcd\n",
      "auto\u0000\u0000\u0000\u0000\u0000\u0000\u0000\u0000\u0000\u0000\u0000\u0000\u0000\u0000\u0000\u0000\u0000\u0000\u0000\u0000\u0000\u0000\u0000\u0000\u0000\u0000\u0000\u0000\u0000\n",
      "5dc427760011d99200ceb1f7.bcd\n"
     ]
    },
    {
     "name": "stderr",
     "output_type": "stream",
     "text": [
      "\r",
      " 12%|█████████                                                                    | 1640/13971 [02:41<34:57,  5.88it/s]"
     ]
    },
    {
     "name": "stdout",
     "output_type": "stream",
     "text": [
      "Glacial Peak\u0000\u0000\u0000\u0000\u0000w\u0000\u0000\u0000\u0000\u0000\u0000\u0000\u0000\u0000\u0000\u0000\u0000\u0000\u0000\u0000\n",
      "5dc427760019a2a500ceb1f3.bcd\n",
      "Kokiri Forest\u0000\u0000\u0000\u0000eak #FLCL\u0000\u0000\u0000\u0000\u0000\u0000\u0000\n",
      "5dc427760030c0d300ceb1f9.bcd\n"
     ]
    },
    {
     "name": "stderr",
     "output_type": "stream",
     "text": [
      " 12%|█████████                                                                    | 1642/13971 [02:42<32:22,  6.35it/s]"
     ]
    },
    {
     "name": "stdout",
     "output_type": "stream",
     "text": [
      "♪Turkish March♪\u0000\u0000\u0000\u0000\u0000\u0000\u0000\u0000\u0000\u0000\u0000\u0000\u0000\u0000\u0000\u0000\u0000\u0000\n",
      "5dc42776003a6bb900ceb1fa.bcd\n",
      "The Comment Section\u0000\u0000\u0000\u0000\u0000\u0000\u0000\u0000\u0000\u0000\u0000\u0000\u0000\u0000\n",
      "5dc4277600521f2100ceb1f8.bcd\n"
     ]
    },
    {
     "name": "stderr",
     "output_type": "stream",
     "text": [
      " 12%|█████████                                                                    | 1645/13971 [02:42<30:06,  6.82it/s]"
     ]
    },
    {
     "name": "stdout",
     "output_type": "stream",
     "text": [
      "マリオの惑星探査計画/Planetary Exploration\u0000\n",
      "5dc42776007d4b2300ceb1f5.bcd\n",
      "ただ君に晴れ　/ ヨルシカ　超爽快に演奏してみた。　Run_\u0000\u0000\u0000\n",
      "5dc42776009d80eb00ceb1ed.bcd\n",
      "♪ボーカロイド曲メドレー！ [VOCALOID medley]\u0000\u0000"
     ]
    },
    {
     "name": "stderr",
     "output_type": "stream",
     "text": [
      "\r",
      " 12%|█████████                                                                    | 1646/13971 [02:42<31:11,  6.59it/s]"
     ]
    },
    {
     "name": "stdout",
     "output_type": "stream",
     "text": [
      "\n",
      "5dc4277600a10e3f00ceb1f2.bcd\n",
      "Splatoon2　♪Endolphin Surge\u0000\u0000\u0000\u0000\u0000\u0000\u0000\n",
      "5dc4277600dd9ca200ceb1ee.bcd\n",
      "Poisoned Pond\u0000\u0000\u0000\u0000\u0000\u0000\u0000\u0000\u0000\u0000\u0000\u0000\u0000\u0000\u0000\u0000\u0000\u0000\u0000\u0000\n",
      "5dc427770009f7b700ceb20c.bcd\n"
     ]
    },
    {
     "name": "stderr",
     "output_type": "stream",
     "text": [
      " 12%|█████████                                                                    | 1650/13971 [02:43<26:27,  7.76it/s]"
     ]
    },
    {
     "name": "stdout",
     "output_type": "stream",
     "text": [
      "SSX Mario\u0000\u0000\u0000\u0000\u0000\u0000\u0000\u0000\u0000\u0000\u0000\u0000\u0000\u0000\u0000\u0000\u0000\u0000\u0000\u0000\u0000\u0000\u0000\u0000\n",
      "5dc42777002a1e6a00ceb1fd.bcd\n",
      "Tanooki Baseball\u0000\u0000\u0000\u0000\u0000\u0000\u0000\u0000\u0000\u0000\u0000\u0000\u0000\u0000\u0000\u0000\u0000\n",
      "5dc42777002ff17b00ceb200.bcd\n",
      "☆雪之梦♪(Snowdreams)снежный сон 雪の夢\u0000\n",
      "5dc427770037360f00ceb1fb.bcd\n"
     ]
    },
    {
     "name": "stderr",
     "output_type": "stream",
     "text": [
      "\r",
      " 12%|█████████                                                                    | 1652/13971 [02:43<22:29,  9.13it/s]"
     ]
    },
    {
     "name": "stdout",
     "output_type": "stream",
     "text": [
      "Auto-Switch Desert Speedrun ★\u0000\u0000\u0000\u0000\n",
      "5dc42777004e29fc00ceb208.bcd\n",
      "Pokemon Trainer Battle [MUSIC]\u0000\u0000\u0000\n",
      "5dc427770065c6a600ceb203.bcd\n",
      "mario drowns in a tsunami \u0000\u0000\u0000\u0000\u0000\u0000\u0000\n",
      "5dc4277700704fb700ceb20b.bcd\n",
      "【ダッシュ半自動/Hold →+Y】 †雪原の行く末†\u0000\u0000\u0000\u0000\u0000\u0000\n",
      "5dc427770074db6600ceb205.bcd\n"
     ]
    },
    {
     "name": "stderr",
     "output_type": "stream",
     "text": [
      " 12%|█████████▏                                                                   | 1657/13971 [02:43<18:06, 11.34it/s]"
     ]
    },
    {
     "name": "stdout",
     "output_type": "stream",
     "text": [
      "I know who you play as\u0000Ice-cream\u0000\n",
      "5dc4277700884c8a00ceb209.bcd\n",
      "♪Kokiri Forest♪\u0000\u0000\u0000\u0000\u0000\u0000\u0000\u0000\u0000\u0000\u0000\u0000\u0000\u0000\u0000\u0000\u0000\u0000\n",
      "5dc4277700a3ba2f00ceb1ff.bcd\n",
      "Uno Más: Correctional Facility.\u0000\u0000\n",
      "5dc4277700a7164f00ceb206.bcd\n"
     ]
    },
    {
     "name": "stderr",
     "output_type": "stream",
     "text": [
      "\r",
      " 12%|█████████▏                                                                   | 1659/13971 [02:44<20:55,  9.81it/s]"
     ]
    },
    {
     "name": "stdout",
     "output_type": "stream",
     "text": [
      "<music>ONEPIECE【Super Powers:V6】\u0000\n",
      "5dc4277700ce1eb400ceb20a.bcd\n",
      "Mario's Power-Up Factory\u0000\u0000\u0000\u0000\u0000\u0000\u0000\u0000\u0000\n",
      "5dc4277700eb15e700ceb201.bcd\n"
     ]
    },
    {
     "name": "stderr",
     "output_type": "stream",
     "text": [
      "\r",
      " 12%|█████████▏                                                                   | 1661/13971 [02:44<23:25,  8.76it/s]"
     ]
    },
    {
     "name": "stdout",
     "output_type": "stream",
     "text": [
      "♪M&L PARTNERS IN TIME FINALE♪\u0000\u0000\u0000\u0000\n",
      "5dc4277700ff968e00ceb202.bcd\n",
      "The enigma of the yellow zone\u0000\u0000\u0000\u0000\n",
      "5dc427780063d5d100ceb20d.bcd\n",
      "♪ Midna's Lament Extended ♪\u0000\u0000\u0000\u0000\u0000\u0000"
     ]
    },
    {
     "name": "stderr",
     "output_type": "stream",
     "text": [
      "\r",
      " 12%|█████████▏                                                                   | 1663/13971 [02:44<22:18,  9.20it/s]"
     ]
    },
    {
     "name": "stdout",
     "output_type": "stream",
     "text": [
      "\n",
      "5dc4277800834a1f00ceb20e.bcd\n",
      "My3-2/突撃！チョロプー船艦/Monty Mole Ship\u0000\n",
      "5dc4278e000992da00ceb21a.bcd\n",
      "[Quiz] Look Picture, Pick Item 2\u0000\n",
      "5dc4278e006e57ef00ceb219.bcd\n"
     ]
    },
    {
     "name": "stderr",
     "output_type": "stream",
     "text": [
      "\r",
      " 12%|█████████▏                                                                   | 1665/13971 [02:45<30:32,  6.71it/s]"
     ]
    },
    {
     "name": "stdout",
     "output_type": "stream",
     "text": [
      "The Great Deku Tree\u0000\u0000\u0000\u0000\u0000\u0000\u0000\u0000\u0000\u0000\u0000\u0000\u0000\u0000\n",
      "5dc4278e0073069100ceb210.bcd\n"
     ]
    },
    {
     "name": "stderr",
     "output_type": "stream",
     "text": [
      " 12%|█████████▏                                                                   | 1667/13971 [02:45<40:49,  5.02it/s]"
     ]
    },
    {
     "name": "stdout",
     "output_type": "stream",
     "text": [
      "スピン半自動/Keep SPIN (ZR or ZL)\u0000\u0000\u0000\u0000\u0000\u0000\n",
      "5dc4278e00b2c40e00ceb217.bcd\n",
      "Hop-On/Hop-Off Take-Off!\u0000\u0000\u0000\u0000\u0000\u0000\u0000\u0000\u0000\n",
      "5dc4278e00f4ca8c00ceb213.bcd\n"
     ]
    },
    {
     "name": "stderr",
     "output_type": "stream",
     "text": [
      "\r",
      " 12%|█████████▏                                                                   | 1669/13971 [02:45<32:56,  6.22it/s]"
     ]
    },
    {
     "name": "stdout",
     "output_type": "stream",
     "text": [
      "King Crimson\u0000\u0000\u0000\u0000\u0000\u0000\u0000\u0000\u0000\u0000\u0000\u0000\u0000\u0000\u0000\u0000\u0000\u0000\u0000\u0000\u0000\n",
      "5dc4278e00ff014d00ceb20f.bcd\n",
      "[Quiz] Who is Hiding?\u0000\u0000\u0000\u0000\u0000\u0000\u0000\u0000\u0000\u0000\u0000\u0000\n",
      "5dc4278f00185fcc00ceb21b.bcd\n"
     ]
    },
    {
     "name": "stderr",
     "output_type": "stream",
     "text": [
      "\r",
      " 12%|█████████▏                                                                   | 1670/13971 [02:45<40:21,  5.08it/s]"
     ]
    },
    {
     "name": "stdout",
     "output_type": "stream",
     "text": [
      "Upon The Mole Express\u0000\u0000\u0000\u0000\u0000\u0000\u0000\u0000\u0000\u0000\u0000\u0000\n",
      "5dc4278f001a837700ceb22a.bcd\n"
     ]
    },
    {
     "name": "stderr",
     "output_type": "stream",
     "text": [
      " 12%|█████████▏                                                                   | 1673/13971 [02:46<33:36,  6.10it/s]"
     ]
    },
    {
     "name": "stdout",
     "output_type": "stream",
     "text": [
      "W1-3 Athletic course ahead\u0000\u0000\u0000\u0000\u0000\u0000\u0000\n",
      "5dc4278f00626b3e00ceb226.bcd\n",
      "Mario kart : dry desert \u0000r\u0000\u0000\u0000\u0000\u0000\u0000\u0000\n",
      "5dc4278f00a6ea7a00ceb228.bcd\n",
      "動体視力テスト♪　Dynamic visual acuity♪\u0000\u0000\n",
      "5dc4278f00ad1c2e00ceb227.bcd\n"
     ]
    },
    {
     "name": "stderr",
     "output_type": "stream",
     "text": [
      "\r",
      " 12%|█████████▏                                                                   | 1674/13971 [02:46<30:35,  6.70it/s]"
     ]
    },
    {
     "name": "stdout",
     "output_type": "stream",
     "text": [
      "A Moral Dilemma\u0000\u0000up\u0000\u0000\u0000\u0000\u0000\u0000\u0000\u0000\u0000\u0000\u0000\u0000\u0000\u0000\n",
      "5dc4278f00b3e0fb00ceb223.bcd\n",
      "GAME OVER\u0000\u0000\u0000\u0000\u0000\u0000\u0000\u0000\u0000\u0000\u0000\u0000\u0000\u0000\u0000\u0000\u0000\u0000\u0000\u0000\u0000\u0000\u0000\u0000\n",
      "5dc4278f00fda73f00ceb224.bcd\n"
     ]
    },
    {
     "name": "stderr",
     "output_type": "stream",
     "text": [
      " 12%|█████████▏                                                                   | 1677/13971 [02:46<29:33,  6.93it/s]"
     ]
    },
    {
     "name": "stdout",
     "output_type": "stream",
     "text": [
      "Winners Don't Look Left\u0000\u0000\u0000\u0000\u0000\u0000\u0000\u0000\u0000\u0000\n",
      "5dc4278f00fe901700ceb21f.bcd\n",
      "Super Star Speedrun (20s)\u0000\u0000\u0000\u0000\u0000\u0000\u0000\u0000\n",
      "5dc42790000f597400ceb23b.bcd\n"
     ]
    },
    {
     "name": "stderr",
     "output_type": "stream",
     "text": [
      " 12%|█████████▎                                                                   | 1679/13971 [02:47<31:17,  6.55it/s]"
     ]
    },
    {
     "name": "stdout",
     "output_type": "stream",
     "text": [
      "6-4 Koopa Keep Galaxy\u0000\u0000\u0000\u0000\u0000\u0000\u0000\u0000\u0000\u0000\u0000\u0000\n",
      "5dc427900019d86a00ceb230.bcd\n",
      "QUIZ - Remember the Sounds!\u0000\u0000\u0000\u0000\u0000\u0000"
     ]
    },
    {
     "name": "stderr",
     "output_type": "stream",
     "text": [
      "\r",
      " 12%|█████████▎                                                                   | 1680/13971 [02:47<33:31,  6.11it/s]"
     ]
    },
    {
     "name": "stdout",
     "output_type": "stream",
     "text": [
      "\n",
      "5dc427900048050300ceb235.bcd\n",
      "★«Evolution of NES Games»★\u0000\u0000\u0000\u0000\u0000\u0000\u0000\n",
      "5dc42790005318f900ceb232.bcd\n"
     ]
    },
    {
     "name": "stderr",
     "output_type": "stream",
     "text": [
      " 12%|█████████▎                                                                   | 1682/13971 [02:47<34:09,  6.00it/s]"
     ]
    },
    {
     "name": "stdout",
     "output_type": "stream",
     "text": [
      "Custom made for your character\u0000\u0000\u0000\n",
      "5dc42790005e9edc00ceb22e.bcd\n",
      "Take Boom Boom to the Dentist\u0000\u0000\u0000\u0000\n",
      "5dc4279000652dc200ceb23a.bcd\n"
     ]
    },
    {
     "name": "stderr",
     "output_type": "stream",
     "text": [
      "\r",
      " 12%|█████████▎                                                                   | 1683/13971 [02:47<33:33,  6.10it/s]"
     ]
    },
    {
     "name": "stdout",
     "output_type": "stream",
     "text": [
      "Arctic Ascent\u0000\u0000\u0000\u0000\u0000\u0000\u0000\u0000\u0000\u0000\u0000\u0000\u0000\u0000\u0000\u0000\u0000\u0000\u0000\u0000\n",
      "5dc42790006f2cd800ceb236.bcd\n",
      "QUIZ - Choose Helmet!\u0000ht Helmet?\u0000\n",
      "5dc4279000d7d54e00ceb22c.bcd\n"
     ]
    },
    {
     "name": "stderr",
     "output_type": "stream",
     "text": [
      " 12%|█████████▎                                                                   | 1686/13971 [02:48<29:37,  6.91it/s]"
     ]
    },
    {
     "name": "stdout",
     "output_type": "stream",
     "text": [
      "Star Wars : A New Hope CommentOn\u0000\n",
      "5dc4279000d95a9000ceb231.bcd\n",
      "スーパーマリオメイキング/SUPER MARIO MAKing\u0000\u0000\n",
      "5dc4279000dc0cce00ceb22f.bcd\n",
      "Spectacular Sky Sprint [20 Sec]\u0000\u0000\n",
      "5dc4279000e6eb2500ceb22d.bcd\n"
     ]
    },
    {
     "name": "stderr",
     "output_type": "stream",
     "text": [
      " 12%|█████████▎                                                                   | 1689/13971 [02:48<28:56,  7.07it/s]"
     ]
    },
    {
     "name": "stdout",
     "output_type": "stream",
     "text": [
      "Speedrun: Rainbow Rush! [20s]\u0000\u0000\u0000\u0000\n",
      "5dc4279100172caa00ceb247.bcd\n",
      "Auto-switch underground ※Reverse\u0000\n",
      "5dc427910060243200ceb246.bcd\n",
      "Trials of the Air Temple\u0000\u0000\u0000\u0000\u0000\u0000\u0000\u0000\u0000\n",
      "5dc427910074ca4d00ceb23e.bcd\n"
     ]
    },
    {
     "name": "stderr",
     "output_type": "stream",
     "text": [
      " 12%|█████████▎                                                                   | 1692/13971 [02:49<30:40,  6.67it/s]"
     ]
    },
    {
     "name": "stdout",
     "output_type": "stream",
     "text": [
      "Rainbow Rush Galaxy\u0000\u0000\u0000\u0000\u0000\u0000\u0000\u0000\u0000\u0000\u0000\u0000\u0000\u0000\n",
      "5dc4279100866ec100ceb23c.bcd\n",
      "ヘイホーカジノで大もうけ \\ Shy Guy's CASINO\u0000\u0000\n",
      "5dc4279100b3339700ceb248.bcd\n"
     ]
    },
    {
     "name": "stderr",
     "output_type": "stream",
     "text": [
      "\r",
      " 12%|█████████▎                                                                   | 1693/13971 [02:49<31:03,  6.59it/s]"
     ]
    },
    {
     "name": "stdout",
     "output_type": "stream",
     "text": [
      "Goombas Working Overtime\u0000\u0000\u0000\u0000\u0000\u0000\u0000\u0000\u0000\n",
      "5dc4279100e1749800ceb241.bcd\n",
      "Showstopper\u0000\u0000\u0000\u0000\u0000\u0000rypt diffr3m\u0000\u0000\u0000\u0000\n",
      "5dc4279100fa587c00ceb242.bcd\n"
     ]
    },
    {
     "name": "stderr",
     "output_type": "stream",
     "text": [
      "\r",
      " 12%|█████████▎                                                                   | 1695/13971 [02:49<31:42,  6.45it/s]"
     ]
    },
    {
     "name": "stdout",
     "output_type": "stream",
     "text": [
      "ヨッシーアイランド　アスレチック\u0000\u0000\u0000\u0000\u0000\u0000\u0000\u0000\u0000\u0000\u0000\u0000\u0000\u0000\u0000\u0000\u0000\n",
      "5dc4279200abe80a00ceb249.bcd\n"
     ]
    },
    {
     "name": "stderr",
     "output_type": "stream",
     "text": [
      " 12%|█████████▎                                                                   | 1698/13971 [02:50<30:54,  6.62it/s]"
     ]
    },
    {
     "name": "stdout",
     "output_type": "stream",
     "text": [
      "Speed run to be chased!!\u0000omp!!\u0000\u0000\u0000\n",
      "5dc4279200d4f8f300ceb24a.bcd\n",
      "Welcome to the Mechanical Jungle\u0000\n",
      "5dc427ad0005f8ba00ceb24f.bcd\n",
      "The cursed waters\u0000aters\u0000\u0000\u0000\u0000\u0000\u0000\u0000\u0000\u0000\u0000\n",
      "5dc427ad00099bff00ceb25d.bcd\n"
     ]
    },
    {
     "name": "stderr",
     "output_type": "stream",
     "text": [
      "\r",
      " 12%|█████████▎                                                                   | 1699/13971 [02:50<31:07,  6.57it/s]"
     ]
    },
    {
     "name": "stdout",
     "output_type": "stream",
     "text": [
      "Small Brain Trolls\u0000bu\u0000\u0000\u0000\u0000\u0000\u0000\u0000\u0000\u0000\u0000\u0000\u0000\n",
      "5dc427ad0029d16d00ceb258.bcd\n",
      "More Hardcore Jumps\u0000D\u0000n\u00002/2)\u0000\u0000\u0000\u0000\u0000\n",
      "5dc427ad002cf6e700ceb24e.bcd\n",
      "Boom Boom's Desert Fortress\u0000v2\u0000\u0000\u0000\n",
      "5dc427ad004f871000ceb25f.bcd\n"
     ]
    },
    {
     "name": "stderr",
     "output_type": "stream",
     "text": [
      "\r",
      " 12%|█████████▍                                                                   | 1702/13971 [02:50<28:38,  7.14it/s]"
     ]
    },
    {
     "name": "stdout",
     "output_type": "stream",
     "text": [
      "Bowser in the Dark World (N64)\u0000\u0000\u0000\n",
      "5dc427ad0055b73a00ceb25b.bcd\n",
      "Beware, Plants are evolving\u0000\u0000\u0000\u0000\u0000\u0000\n",
      "5dc427ad0071ccec00ceb250.bcd\n"
     ]
    },
    {
     "name": "stderr",
     "output_type": "stream",
     "text": [
      " 12%|█████████▍                                                                   | 1705/13971 [02:50<26:51,  7.61it/s]"
     ]
    },
    {
     "name": "stdout",
     "output_type": "stream",
     "text": [
      "なつやすみもスピランでEnjoy♪ #3 Speed Run\u0000\u0000\u0000\n",
      "5dc427ad007d109600ceb251.bcd\n",
      "The Vel 1-1\u0000\u0000\u0000\u0000\u0000\u0000\u0000\u0000\u0000\u0000\u0000\u0000\u0000\u0000\u0000\u0000\u0000\u0000\u0000\u0000\u0000\u0000\n",
      "5dc427ad0085434c00ceb254.bcd\n",
      "Bullet Bill Speedrun! [20s]\u0000]\u0000\u0000\u0000\u0000\n",
      "5dc427ad008d11ac00ceb257.bcd\n"
     ]
    },
    {
     "name": "stderr",
     "output_type": "stream",
     "text": [
      " 12%|█████████▍                                                                   | 1709/13971 [02:51<22:29,  9.09it/s]"
     ]
    },
    {
     "name": "stdout",
     "output_type": "stream",
     "text": [
      "for the tubes : )\u0000\u0000\u0000\u0000\u0000\u0000\u0000\u0000\u0000\u0000\u0000\u0000\u0000\u0000\u0000\u0000\n",
      "5dc427ad00a9875b00ceb24b.bcd\n",
      "Dry desert run [20s speedrun]\u0000\u0000\u0000\u0000\n",
      "5dc427ad00afb77100ceb256.bcd\n",
      "Hardcore Jumps\u0000\u0000\u0000! :D\u0000n\u00002/2)\u0000\u0000\u0000\u0000\u0000\n",
      "5dc427ad00caf09100ceb259.bcd\n",
      "Spin Jump Speedrun (20 sec)\u0000\u0000\u0000\u0000\u0000\u0000\n",
      "5dc427ad00d0545e00ceb252.bcd\n",
      "W2-4 Blue Cheese Castle\u0000\u0000\u0000\u0000\u0000\u0000\u0000\u0000\u0000\u0000\n",
      "5dc427ad00d479c500ceb25e.bcd\n"
     ]
    },
    {
     "name": "stderr",
     "output_type": "stream",
     "text": [
      "\r",
      " 12%|█████████▍                                                                   | 1712/13971 [02:51<20:28,  9.98it/s]"
     ]
    },
    {
     "name": "stdout",
     "output_type": "stream",
     "text": [
      "Monster run 20 seconds\u0000\u0000\u0000\u0000\u0000\u0000\u0000\u0000\u0000\u0000\u0000\n",
      "5dc427ad00d65eb400ceb255.bcd\n",
      "Mario Jungle Adventure (1-4)\u0000\u0000\u0000\u0000\u0000\n",
      "5dc427ad00f8a34900ceb24d.bcd\n"
     ]
    },
    {
     "name": "stderr",
     "output_type": "stream",
     "text": [
      " 12%|█████████▍                                                                   | 1716/13971 [02:51<22:20,  9.14it/s]"
     ]
    },
    {
     "name": "stdout",
     "output_type": "stream",
     "text": [
      "Danger: Dry Land\u0000\u0000\u0000\u0000\u0000\u0000\u0000\u0000\u0000\u0000\u0000\u0000\u0000\u0000\u0000\u0000\u0000\n",
      "5dc427ae0008eaaf00ceb262.bcd\n",
      "Bullet Bill Forest\u0000\u0000\u0000\u0000\u0000\u0000\u0000\u0000\u0000\u0000\u0000\u0000\u0000\u0000\u0000\n",
      "5dc427ae002476c000ceb26d.bcd\n",
      "Run! Run! Run with Thwomp!\u0000\u0000 SMG\u0000\n",
      "5dc427ae002ccdc600ceb263.bcd\n"
     ]
    },
    {
     "name": "stderr",
     "output_type": "stream",
     "text": [
      " 12%|█████████▍                                                                   | 1718/13971 [02:52<31:39,  6.45it/s]"
     ]
    },
    {
     "name": "stdout",
     "output_type": "stream",
     "text": [
      "◆ Choose the way ◆\u0000\u0000\u0000\u0000\u0000\u0000\u0000\u0000\u0000\u0000\u0000\u0000\u0000\u0000\u0000\n",
      "5dc427ae004d139400ceb26e.bcd\n"
     ]
    },
    {
     "name": "stderr",
     "output_type": "stream",
     "text": [
      "\r",
      " 12%|█████████▍                                                                   | 1719/13971 [02:52<31:28,  6.49it/s]"
     ]
    },
    {
     "name": "stdout",
     "output_type": "stream",
     "text": [
      "6-3 Koopa Keep Galaxy\u0000\u0000\u0000\u0000\u0000\u0000\u0000\u0000\u0000\u0000\u0000\u0000\n",
      "5dc427ae00562af800ceb266.bcd\n",
      "Hot Money (Bonus Stage)\u0000\u0000\u0000\u0000\u0000\u0000\u0000\u0000\u0000\u0000\n",
      "5dc427ae0062636900ceb269.bcd\n"
     ]
    },
    {
     "name": "stderr",
     "output_type": "stream",
     "text": [
      " 12%|█████████▍                                                                   | 1722/13971 [02:52<27:02,  7.55it/s]"
     ]
    },
    {
     "name": "stdout",
     "output_type": "stream",
     "text": [
      "アンガールズ田中の挑戦状【有吉ぃぃeeeee！オリジナル】\u0000\u0000\u0000\u0000\n",
      "5dc427ae0067427200ceb265.bcd\n",
      "POW used frequently [20s] スピードラン\u0000\n",
      "5dc427ae0081d2db00ceb26c.bcd\n",
      "Learn2NSMBU: Twirls & Wall Jumps\u0000\n",
      "5dc427ae00865f9900ceb271.bcd\n"
     ]
    },
    {
     "name": "stderr",
     "output_type": "stream",
     "text": [
      "\r",
      " 12%|█████████▍                                                                   | 1723/13971 [02:52<25:07,  8.13it/s]"
     ]
    },
    {
     "name": "stdout",
     "output_type": "stream",
     "text": [
      "Mario Bros. vs The Pit of Misery\u0000\n",
      "5dc427ae008ff9ba00ceb264.bcd\n",
      "Vavavoom, the pow goes boom!\u0000dec\u0000\n",
      "5dc427ae00db78d200ceb270.bcd\n"
     ]
    },
    {
     "name": "stderr",
     "output_type": "stream",
     "text": [
      " 12%|█████████▌                                                                   | 1726/13971 [02:53<24:39,  8.28it/s]"
     ]
    },
    {
     "name": "stdout",
     "output_type": "stream",
     "text": [
      "SkyHigh\u0000\u0000\u0000\u0000\u0000\u0000\u0000\u0000\u0000\u0000\u0000\u0000\u0000\u0000\u0000\u0000\u0000\u0000\u0000\u0000\u0000\u0000\u0000\u0000\u0000\u0000\n",
      "5dc427ae00e9aedf00ceb26f.bcd\n",
      "Just One Ground Pound\u0000\u0000\u0000\u0000\u0000\u0000\u0000\u0000\u0000\u0000\u0000\u0000\n",
      "5dc427ae00f02a8000ceb26b.bcd\n",
      "△▼SPEEDRUN 20 sec.▲▽    難Medium難\u0000\n",
      "5dc427af0072b90100ceb27a.bcd\n"
     ]
    },
    {
     "name": "stderr",
     "output_type": "stream",
     "text": [
      "\r",
      " 12%|█████████▌                                                                   | 1728/13971 [02:53<23:33,  8.66it/s]"
     ]
    },
    {
     "name": "stdout",
     "output_type": "stream",
     "text": [
      "Explosive Temper\u0000\u0000\u0000\u0000\u0000\u0000\u0000\u0000\u0000\u0000\u0000\u0000\u0000\u0000\u0000\u0000\u0000\n",
      "5dc427af007c30c400ceb277.bcd\n",
      "Super Metroid [SNES]\u0000\u0000\u0000\u0000\u0000\u0000\u0000\u0000\u0000\u0000\u0000\u0000\u0000\n",
      "5dc427af008d8f0600ceb272.bcd\n"
     ]
    },
    {
     "name": "stderr",
     "output_type": "stream",
     "text": [
      "\r",
      " 12%|█████████▌                                                                   | 1730/13971 [02:53<24:40,  8.27it/s]"
     ]
    },
    {
     "name": "stdout",
     "output_type": "stream",
     "text": [
      "Desertic Sprint Speedrun [20s]\u0000\u0000\u0000\n",
      "5dc427af00901be600ceb27e.bcd\n"
     ]
    },
    {
     "name": "stderr",
     "output_type": "stream",
     "text": [
      "\r",
      " 12%|█████████▌                                                                   | 1731/13971 [02:54<30:59,  6.58it/s]"
     ]
    },
    {
     "name": "stdout",
     "output_type": "stream",
     "text": [
      "UNDERTALE - Spear of Justice\u0000\u0000\u0000\u0000\u0000\n",
      "5dc427af00be81be00ceb27c.bcd\n",
      "Dr. Mario Maker 2\u0000ry\u0000\u0000\u0000\u0000\u0000\u0000\u0000\u0000\u0000\u0000\u0000\u0000\u0000\n",
      "5dc427af00d86d6f00ceb278.bcd\n"
     ]
    },
    {
     "name": "stderr",
     "output_type": "stream",
     "text": [
      " 12%|█████████▌                                                                   | 1734/13971 [02:54<31:16,  6.52it/s]"
     ]
    },
    {
     "name": "stdout",
     "output_type": "stream",
     "text": [
      "Ninja fortress / 天井隠れの術\u0000\u0000\u0000\u0000\u0000\u0000\u0000\u0000\u0000\u0000\n",
      "5dc427af00dd6fde00ceb27b.bcd\n",
      "Mario Escapes His Subconscious\u0000\u0000\u0000\n",
      "5dc427b0000d23c400ceb282.bcd\n"
     ]
    },
    {
     "name": "stderr",
     "output_type": "stream",
     "text": [
      " 12%|█████████▌                                                                   | 1736/13971 [02:54<29:51,  6.83it/s]"
     ]
    },
    {
     "name": "stdout",
     "output_type": "stream",
     "text": [
      "Run forrest Run!\u0000\u0000\u0000\u0000\u0000\u0000\u0000\u0000\u0000\u0000\u0000\u0000\u0000\u0000\u0000\u0000\u0000\n",
      "5dc427b00015857500ceb284.bcd\n",
      "Yoshi's Way Home: Finale\u0000 7\u0000ase\u0000\u0000\n",
      "5dc427b0009b858800ceb286.bcd\n"
     ]
    },
    {
     "name": "stderr",
     "output_type": "stream",
     "text": [
      "\r",
      " 12%|█████████▌                                                                   | 1737/13971 [02:55<38:50,  5.25it/s]"
     ]
    },
    {
     "name": "stdout",
     "output_type": "stream",
     "text": [
      "The Man Who Scrolled The World\u0000\u0000\u0000\n",
      "5dc427b000b23d1f00ceb283.bcd\n"
     ]
    },
    {
     "name": "stderr",
     "output_type": "stream",
     "text": [
      " 12%|█████████▌                                                                   | 1739/13971 [02:55<44:24,  4.59it/s]"
     ]
    },
    {
     "name": "stdout",
     "output_type": "stream",
     "text": [
      "死を招くブロック　Dangeros Block\u0000\u0000\u0000\u0000\u0000\u0000\u0000\u0000\u0000\u0000\n",
      "5dc427b000c221ac00ceb281.bcd\n",
      "KA-POW Speedrun! (20s)\u0000\u0000\u0000\u0000\u0000\u0000\u0000\u0000\u0000\u0000\u0000\n",
      "5dc427b000d4ac3600ceb285.bcd\n"
     ]
    },
    {
     "name": "stderr",
     "output_type": "stream",
     "text": [
      " 12%|█████████▌                                                                   | 1742/13971 [02:55<33:14,  6.13it/s]"
     ]
    },
    {
     "name": "stdout",
     "output_type": "stream",
     "text": [
      "Bowser's New Security System\u0000\u0000\u0000\u0000\u0000\n",
      "5dc427b000fbfbf000ceb27f.bcd\n",
      "Boo's Mysterious House\u000030s]\u0000\u0000\u0000\u0000\u0000\u0000\n",
      "5dc42858006e584700ceb288.bcd\n",
      "Dracarys\u0000\u0000\u0000\u0000\u0000\u0000\u0000\u0000\u0000 \u0000elete it \u0000om\u0000\u0000\n",
      "5dc428580074c86a00ceb289.bcd\n"
     ]
    },
    {
     "name": "stderr",
     "output_type": "stream",
     "text": [
      "\r",
      " 12%|█████████▌                                                                   | 1743/13971 [02:56<32:00,  6.37it/s]"
     ]
    },
    {
     "name": "stdout",
     "output_type": "stream",
     "text": [
      "Arctic Hollow\u0000\u0000\u0000\u0000\u0000\u0000\u0000\u0000\u0000\u0000\u0000\u0000\u0000\u0000\u0000\u0000\u0000\u0000\u0000\u0000\n",
      "5dc428580079120700ceb287.bcd\n"
     ]
    },
    {
     "name": "stderr",
     "output_type": "stream",
     "text": [
      " 12%|█████████▌                                                                   | 1746/13971 [02:56<30:34,  6.66it/s]"
     ]
    },
    {
     "name": "stdout",
     "output_type": "stream",
     "text": [
      "Superball Speedrun (30 secs)\u0000\u0000\u0000\u0000\u0000\n",
      "5dc42858008262b100ceb28a.bcd\n",
      "Once Upon A Time in SpinyWood\u0000n\u0000\u0000\n",
      "5dc428590021626200ceb293.bcd\n",
      "Piranhas 'N' Poison\u0000\u0000\u0000\u0000\u0000\u0000\u0000\u0000\u0000\u0000\u0000\u0000\u0000\u0000\n",
      "5dc42859004c366700ceb291.bcd\n"
     ]
    },
    {
     "name": "stderr",
     "output_type": "stream",
     "text": [
      "\r",
      " 13%|█████████▋                                                                   | 1748/13971 [02:56<28:11,  7.23it/s]"
     ]
    },
    {
     "name": "stdout",
     "output_type": "stream",
     "text": [
      "The Speedrun Before Time (20s)\u0000\u0000\u0000\n",
      "5dc42859004d96c400ceb297.bcd\n",
      "If you die you die\u0000\u0000\u0000\u0000\u0000\u0000\u0000\u0000\u0000\u0000\u0000\u0000\u0000\u0000\u0000\n",
      "5dc42859004daf0100ceb29a.bcd\n",
      "Munchers in the Sky Part III\u0000\u0000\u0000\u0000\u0000\n",
      "5dc428590063031900ceb296.bcd\n",
      "FF7 - One Winged Angel ♪♪♪\u0000\u0000\u0000\u0000\u0000\u0000\u0000\n",
      "5dc4285900769ed800ceb28c.bcd\n"
     ]
    },
    {
     "name": "stderr",
     "output_type": "stream",
     "text": [
      " 13%|█████████▋                                                                   | 1752/13971 [02:57<27:29,  7.41it/s]"
     ]
    },
    {
     "name": "stdout",
     "output_type": "stream",
     "text": [
      "Olympus\u0000\u0000\u0000\u0000\u0000\u0000\u0000\u0000\u0000\u0000\u0000\u0000\u0000\u0000\u0000\u0000\u0000\u0000\u0000\u0000\u0000\u0000\u0000\u0000\u0000\u0000\n",
      "5dc42859008c9e1100ceb294.bcd\n",
      "Funny Bunny & the Runny Honey\u0000\u0000\u0000\u0000\n",
      "5dc42859009a63e900ceb292.bcd\n"
     ]
    },
    {
     "name": "stderr",
     "output_type": "stream",
     "text": [
      "\r",
      " 13%|█████████▋                                                                   | 1754/13971 [02:57<25:17,  8.05it/s]"
     ]
    },
    {
     "name": "stdout",
     "output_type": "stream",
     "text": [
      "Cave escape\u0000\u0000\u0000\u0000\u0000\u0000unt \u0000\u0000\u0000\u0000\u0000\u0000\u0000\u0000\u0000\u0000\u0000\u0000\n",
      "5dc42859009bb44500ceb29f.bcd\n",
      "The Legend of Easy Setups II\u0000\u0000\u0000\u0000\u0000\n",
      "5dc4285900ad11e800ceb299.bcd\n"
     ]
    },
    {
     "name": "stderr",
     "output_type": "stream",
     "text": [
      " 13%|█████████▋                                                                   | 1756/13971 [02:57<24:45,  8.22it/s]"
     ]
    },
    {
     "name": "stdout",
     "output_type": "stream",
     "text": [
      "Dusky Rush\u0000\u0000\u0000\u0000\u0000\u0000\u0000\u0000\u0000\u0000\u0000\u0000\u0000\u0000\u0000\u0000\u0000\u0000\u0000\u0000\u0000\u0000\u0000\n",
      "5dc4285900b4287e00ceb29e.bcd\n",
      "SuperMario Goes To Prison!\u0000\u0000\u0000\u0000\u0000\u0000\u0000\n",
      "5dc4285900c63ce600ceb29d.bcd\n"
     ]
    },
    {
     "name": "stderr",
     "output_type": "stream",
     "text": [
      " 13%|█████████▋                                                                   | 1759/13971 [02:57<20:05, 10.13it/s]"
     ]
    },
    {
     "name": "stdout",
     "output_type": "stream",
     "text": [
      "Captain Scarlet\u0000\u0000\u0000\u0000\u0000\u0000\u0000\u0000\u0000\u0000\u0000\u0000\u0000\u0000\u0000\u0000\u0000\u0000\n",
      "5dc4285900d3594900ceb295.bcd\n",
      "Sky Trouble\u0000\u0000\u0000\u0000\u0000\u0000\u0000\u0000 Crew\u0000ing\u0000\u0000\u0000\u0000\u0000\n",
      "5dc4285900db051500ceb29c.bcd\n",
      "Reaction Speed Rush！ 【 1 】\u0000テスト \u0000\u0000\n",
      "5dc4285900db51a900ceb298.bcd\n",
      "Munchers in the Sky: Swan Song\u0000\u0000\u0000\n",
      "5dc4285a00291a5900ceb2ab.bcd\n"
     ]
    },
    {
     "name": "stderr",
     "output_type": "stream",
     "text": [
      "\r",
      " 13%|█████████▋                                                                   | 1761/13971 [02:57<18:33, 10.97it/s]"
     ]
    },
    {
     "name": "stdout",
     "output_type": "stream",
     "text": [
      "Thwompstump Tower\u0000\u0000\u0000\u0000\u0000\u0000\u0000\u0000\u0000\u0000\u0000\u0000\u0000\u0000\u0000\u0000\n",
      "5dc4285a002bc56300ceb2a0.bcd\n",
      "One Piece - Thousand Sunny\u0000\u0000\u0000\u0000\u0000\u0000\u0000\n",
      "5dc4285a005676aa00ceb2a9.bcd\n"
     ]
    },
    {
     "name": "stderr",
     "output_type": "stream",
     "text": [
      " 13%|█████████▋                                                                   | 1765/13971 [02:58<18:56, 10.74it/s]"
     ]
    },
    {
     "name": "stdout",
     "output_type": "stream",
     "text": [
      "BIO ～时间之鬼～ 甜蜜的苦难 Sweet Suffering\u0000\n",
      "5dc4285a006369fc00ceb2a4.bcd\n",
      "SPEEDRUN　暑いので熱中症にはご用心^^(remake)\u0000\u0000\n",
      "5dc4285a007bf72f00ceb2a8.bcd\n",
      "This Is The Only Level\u0000\u0000\u0000\u0000\u0000\u0000\u0000\u0000\u0000\u0000\u0000\n",
      "5dc4285a0096ebc200ceb2a3.bcd\n"
     ]
    },
    {
     "name": "stderr",
     "output_type": "stream",
     "text": [
      "\r",
      " 13%|█████████▋                                                                   | 1767/13971 [02:58<19:58, 10.19it/s]"
     ]
    },
    {
     "name": "stdout",
     "output_type": "stream",
     "text": [
      "Red and Blue Sprint [20s]\u0000\u0000\u0000\u0000\u0000\u0000\u0000\u0000\n",
      "5dc4285a00c085cb00ceb2a2.bcd\n",
      "精密的中国工艺\u0000\u0000\u0000\u0000\u0000\u0000\u0000\u0000\u0000\u0000\u0000\u0000\u0000\u0000\u0000\u0000\u0000\u0000\u0000\u0000\u0000\u0000\u0000\u0000\u0000\u0000\n",
      "5dc4285a00df593200ceb2aa.bcd\n",
      "Spooky Ghost Sandwich\u0000\u0000\u0000\u0000\u0000\u0000\u0000\u0000\u0000\u0000\u0000\u0000\n",
      "5dc4285a00effce200ceb2a1.bcd\n"
     ]
    },
    {
     "name": "stderr",
     "output_type": "stream",
     "text": [
      " 13%|█████████▊                                                                   | 1771/13971 [02:59<20:55,  9.72it/s]"
     ]
    },
    {
     "name": "stdout",
     "output_type": "stream",
     "text": [
      "マリオの家\u0000\u0000\u0000\u0000\u0000\u0000\u0000\u0000\u0000\u0000\u0000\u0000\u0000\u0000\u0000\u0000\u0000\u0000\u0000\u0000\u0000\u0000\u0000\u0000\u0000\u0000\u0000\u0000\n",
      "5dc4285a00f4bd2400ceb2a6.bcd\n",
      "El Mundo Oscuro - NintenDúo\u0000\u0000\u0000\u0000\u0000\u0000\n",
      "5dc4285a00facaa100ceb2a5.bcd\n",
      "Big Mario Speedrun (20 sec)\u0000\u0000\u0000\u0000\u0000\u0000\n",
      "5dc4285a00fdda9400ceb2a7.bcd\n"
     ]
    },
    {
     "name": "stderr",
     "output_type": "stream",
     "text": [
      "\r",
      " 13%|█████████▊                                                                   | 1773/13971 [02:59<22:07,  9.19it/s]"
     ]
    },
    {
     "name": "stdout",
     "output_type": "stream",
     "text": [
      "City of Wigglers\u0000\u0000\u0000\u0000\u0000\u0000\u0000\u0000\u0000\u0000\u0000\u0000\u0000\u0000\u0000\u0000\u0000\n",
      "5dc4285b00084ddc00ceb2b3.bcd\n",
      "Sky Trouble 2: Sky Harder\u0000ng\u0000\u0000\u0000\u0000\u0000\n",
      "5dc4285b002c301700ceb2ad.bcd\n",
      "Marveloso Splendido!\u0000ullies\u0000\u0000\u0000\u0000\u0000\u0000\n",
      "5dc4285b00307e8400ceb2b4.bcd\n",
      "천국의 계단\u0000\u0000\u0000\u0000\u0000\u0000\u0000\u0000\u0000\u0000\u0000\u0000\u0000\u0000\u0000\u0000\u0000\u0000\u0000\u0000\u0000\u0000\u0000\u0000\u0000\u0000\u0000"
     ]
    },
    {
     "name": "stderr",
     "output_type": "stream",
     "text": [
      "\r",
      " 13%|█████████▊                                                                   | 1777/13971 [02:59<17:54, 11.35it/s]"
     ]
    },
    {
     "name": "stdout",
     "output_type": "stream",
     "text": [
      "\n",
      "5dc4285b004af58700ceb2b1.bcd\n",
      "Habitación del Tiempo (Training)\u0000\n",
      "5dc4285b00615a5f00ceb2b5.bcd\n",
      "Adventure Course - †he Old One\u0000e\u0000\n",
      "5dc4285b0096a72600ceb2ae.bcd\n"
     ]
    },
    {
     "name": "stderr",
     "output_type": "stream",
     "text": [
      "\r",
      " 13%|█████████▊                                                                   | 1779/13971 [02:59<23:55,  8.50it/s]"
     ]
    },
    {
     "name": "stdout",
     "output_type": "stream",
     "text": [
      "Tetris Tower\u0000\u0000\u0000\u0000\u0000\u0000\u0000\u0000\u0000\u0000\u0000\u0000\u0000\u0000\u0000\u0000\u0000\u0000\u0000\u0000\u0000\n",
      "5dc4285b00aeddd200ceb2b0.bcd\n",
      "Crash Course Castle\u0000\u0000\u0000\u0000\u0000\u0000\u0000\u0000\u0000\u0000\u0000\u0000\u0000\u0000\n",
      "5dc4285b00b742ab00ceb2b2.bcd\n",
      "Voyage au centre de la Terre\u0000\u0000\u0000\u0000\u0000\n",
      "5dc4285b00c7440b00ceb2b8.bcd\n"
     ]
    },
    {
     "name": "stderr",
     "output_type": "stream",
     "text": [
      " 13%|█████████▊                                                                   | 1783/13971 [03:00<22:38,  8.97it/s]"
     ]
    },
    {
     "name": "stdout",
     "output_type": "stream",
     "text": [
      "my eyes fill with sand\u0000\u0000\u0000\u0000\u0000\u0000\u0000\u0000\u0000\u0000\u0000\n",
      "5dc4285b00cf499900ceb2b9.bcd\n",
      "The Bounce of the New Sun\u0000\u0000\u0000\u0000\u0000\u0000\u0000\u0000\n",
      "5dc4285b00e9f74f00ceb2b6.bcd\n",
      "Pipelines at Night\u0000\u0000\u0000\u0000\u0000\u0000\u0000\u0000\u0000\u0000\u0000\u0000\u0000\u0000\u0000\n",
      "5dc4285b00f2a55700ceb2af.bcd\n",
      "CantBeatThis Land\u0000\u0000\u0000\u0000\u0000\u0000\u0000\u0000\u0000\u0000\u0000\u0000\u0000\u0000\u0000\u0000"
     ]
    },
    {
     "name": "stderr",
     "output_type": "stream",
     "text": [
      "\r",
      " 13%|█████████▊                                                                   | 1785/13971 [03:00<19:50, 10.23it/s]"
     ]
    },
    {
     "name": "stdout",
     "output_type": "stream",
     "text": [
      "\n",
      "5dc4285c0017f99100ceb2c2.bcd\n",
      "Spikes & Slides\u0000\u0000\u0000pt!\u0000\u0000\u0000\u0000\u0000\u0000\u0000\u0000\u0000\u0000\u0000\u0000\n",
      "5dc4285c00a865b000ceb2bc.bcd\n",
      "Jump high in the Sky\u0000\u0000\u0000\u0000\u0000\u0000\u0000\u0000\u0000\u0000\u0000\u0000\u0000"
     ]
    },
    {
     "name": "stderr",
     "output_type": "stream",
     "text": [
      "\r",
      " 13%|█████████▊                                                                   | 1787/13971 [03:00<21:10,  9.59it/s]"
     ]
    },
    {
     "name": "stdout",
     "output_type": "stream",
     "text": [
      "\n",
      "5dc4285c00c1691c00ceb2c0.bcd\n",
      "Larl's AphanTROLLsia (Rev 9)\u0000\u0000\u0000\u0000\u0000\n",
      "5dc4285c00d1278600ceb2bf.bcd\n"
     ]
    },
    {
     "name": "stderr",
     "output_type": "stream",
     "text": [
      "\r",
      " 13%|█████████▊                                                                   | 1789/13971 [03:01<24:19,  8.34it/s]"
     ]
    },
    {
     "name": "stdout",
     "output_type": "stream",
     "text": [
      "すとぷり/パレットダンス - 演奏してみた <歩き演奏>\u0000\u0000\u0000\u0000\u0000\n",
      "5dc4287b001452ed00ceb2c3.bcd\n",
      "爽快！ヨッシーコースター！ -Yoshi Coaster!-\u0000\u0000\u0000\n",
      "5dc4287b0022bc1500ceb2c7.bcd\n",
      "El Dorado - The City of Gold\u0000\u0000\u0000\u0000\u0000\n",
      "5dc4287b0039f74600ceb2c5.bcd\n"
     ]
    },
    {
     "name": "stderr",
     "output_type": "stream",
     "text": [
      " 13%|█████████▉                                                                   | 1792/13971 [03:01<25:17,  8.03it/s]"
     ]
    },
    {
     "name": "stdout",
     "output_type": "stream",
     "text": [
      "[リクエスト]♪Bonetrousle/UNDERTALE \u0000\u0000\u0000\n",
      "5dc4287b00438e1600ceb2c8.bcd\n",
      "Revenge - CaptainSparklez \u0000\u0000\u0000\u0000\u0000\u0000\u0000\n",
      "5dc4287b004b854300ceb2cb.bcd\n"
     ]
    },
    {
     "name": "stderr",
     "output_type": "stream",
     "text": [
      "\r",
      " 13%|█████████▉                                                                   | 1794/13971 [03:01<23:07,  8.78it/s]"
     ]
    },
    {
     "name": "stdout",
     "output_type": "stream",
     "text": [
      "走ると爽快さが増すコース！Run→exhilarating！\u0000\u0000\u0000\n",
      "5dc4287b004ce0a300ceb2c6.bcd\n",
      "Super Guitario Bros. 2\u0000\u0000\u0000\u0000\u0000\u0000\u0000\u0000\u0000\u0000\u0000\n",
      "5dc4287b006c737100ceb2ca.bcd\n"
     ]
    },
    {
     "name": "stderr",
     "output_type": "stream",
     "text": [
      " 13%|█████████▉                                                                   | 1798/13971 [03:01<21:45,  9.33it/s]"
     ]
    },
    {
     "name": "stdout",
     "output_type": "stream",
     "text": [
      "Ordinary Oasis\u0000\u0000\u0000\u0000\u0000\u0000\u0000\u0000\u0000\u0000\u0000\u0000\u0000\u0000\u0000\u0000\u0000\u0000\u0000\n",
      "5dc4287b008ef0cb00ceb2c9.bcd\n",
      "みんなで対決\u0000\u0000\u0000\u0000\u0000\u0000\u0000\u0000\u0000\u0000\u0000\u0000\u0000\u0000\u0000\u0000\u0000\u0000\u0000\u0000\u0000\u0000\u0000\u0000\u0000\u0000\u0000\n",
      "5dc4287b00becd7100ceb2cd.bcd\n",
      "すとぷり/おかえりらぶっ！- 演奏してみた <歩き演奏>\u0000\u0000\u0000\u0000\u0000\n",
      "5dc4287c0026a33b00ceb2cf.bcd\n",
      "♪Super Mario RPG: Forest Theme♪\u0000\u0000\n",
      "5dc4287c003dead400ceb2d1.bcd\n"
     ]
    },
    {
     "name": "stderr",
     "output_type": "stream",
     "text": [
      " 13%|█████████▉                                                                   | 1802/13971 [03:02<21:33,  9.41it/s]"
     ]
    },
    {
     "name": "stdout",
     "output_type": "stream",
     "text": [
      "全自動マリオ full automatic: クッパjrとともに\u0000\n",
      "5dc4287c00443bde00ceb2da.bcd\n",
      "Dual Maze\u0000\u0000\u0000\u0000\u0000\u0000\u0000\u0000r\u0000\u0000\u0000\u0000\u0000\u0000\u0000\u0000\u0000\u0000\u0000\u0000\u0000\u0000\u0000\n",
      "5dc4287c005ac25c00ceb2d0.bcd\n",
      "Beautiful Day in the Rainbowhood\u0000\n",
      "5dc4287c006a99cd00ceb2db.bcd\n",
      "MARIOIЯAM\u0000\u0000\u0000\u0000\u0000\u0000\u0000\u0000\u0000\u0000\u0000\u0000\u0000\u0000\u0000\u0000\u0000\u0000\u0000\u0000\u0000\u0000\u0000\u0000"
     ]
    },
    {
     "name": "stderr",
     "output_type": "stream",
     "text": [
      "\r",
      " 13%|█████████▉                                                                   | 1804/13971 [03:02<19:55, 10.18it/s]"
     ]
    },
    {
     "name": "stdout",
     "output_type": "stream",
     "text": [
      "\n",
      "5dc4287c006df48500ceb2d3.bcd\n",
      "■ Stone Age ■ \u0000\u0000\u0000\u0000\u0000\u0000\u0000\u0000\u0000\u0000\u0000\u0000\u0000\u0000\u0000\u0000\u0000\u0000\u0000\n",
      "5dc4287c00719c8f00ceb2d7.bcd\n",
      "♪Camila Cabello-Havana♪  ♪Music♪\u0000\n",
      "5dc4287c00855c1c00ceb2d8.bcd\n"
     ]
    },
    {
     "name": "stderr",
     "output_type": "stream",
     "text": [
      "\r",
      " 13%|█████████▉                                                                   | 1806/13971 [03:02<17:35, 11.52it/s]"
     ]
    },
    {
     "name": "stdout",
     "output_type": "stream",
     "text": [
      "昔懐かしのスーパーボールマリオ\u0000\u0000\u0000\u0000\u0000\u0000\u0000\u0000\u0000\u0000\u0000\u0000\u0000\u0000\u0000\u0000\u0000\u0000\n",
      "5dc4287c00a2bee400ceb2ce.bcd\n",
      "再利用の館　REUSE HOUSE\u0000e\u0000\u0000\u0000\u0000\u0000\u0000\u0000\u0000\u0000\u0000\u0000\u0000\u0000\u0000\n",
      "5dc4287c00cd953600ceb2d4.bcd\n",
      "[リクエスト] ♪Megalovania/UNDERTALE \u0000\u0000\n",
      "5dc4287c00d167b800ceb2d5.bcd\n"
     ]
    },
    {
     "name": "stderr",
     "output_type": "stream",
     "text": [
      "\r",
      " 13%|█████████▉                                                                   | 1808/13971 [03:02<20:59,  9.66it/s]"
     ]
    },
    {
     "name": "stdout",
     "output_type": "stream",
     "text": [
      "星のカービィ　♪グリーングリーンズ　　【RUN】\u0000\u0000\u0000\u0000\u0000\u0000\u0000\u0000\u0000\n",
      "5dc4287c00de3a0500ceb2d2.bcd\n",
      "<music>ONEPIECE最新曲【OVER THE TOP】\u0000\n",
      "5dc4287d0002d3ae00ceb2e5.bcd\n"
     ]
    },
    {
     "name": "stderr",
     "output_type": "stream",
     "text": [
      " 13%|█████████▉                                                                   | 1812/13971 [03:03<20:59,  9.65it/s]"
     ]
    },
    {
     "name": "stdout",
     "output_type": "stream",
     "text": [
      "monty mole's adventure\u0000\u0000\u0000\u0000\u0000\u0000\u0000\u0000\u0000\u0000\u0000\n",
      "5dc4287d0008451a00ceb2dc.bcd\n",
      "スベッってジャンプ3!　Slide & Jump3!\u0000\u0000\u0000\u0000\u0000\u0000\u0000\n",
      "5dc4287d002d19b700ceb2e0.bcd\n",
      "Look.closely.at.the.DS・DS画面を見比べて\u0000\n",
      "5dc4287d006aeab400ceb2e3.bcd\n"
     ]
    },
    {
     "name": "stderr",
     "output_type": "stream",
     "text": [
      "\r",
      " 13%|█████████▉                                                                   | 1814/13971 [03:03<28:37,  7.08it/s]"
     ]
    },
    {
     "name": "stdout",
     "output_type": "stream",
     "text": [
      "[Auto] Martial Sparkle Castle\u0000\u0000\u0000\u0000\n",
      "5dc4287d006fabc400ceb2e6.bcd\n",
      "サンディーの迷路のおうち / 3D Maze House\u0000\u0000\u0000\u0000\u0000\n",
      "5dc4287d008146d300ceb2e4.bcd\n"
     ]
    },
    {
     "name": "stderr",
     "output_type": "stream",
     "text": [
      " 13%|██████████                                                                   | 1816/13971 [03:04<31:06,  6.51it/s]"
     ]
    },
    {
     "name": "stdout",
     "output_type": "stream",
     "text": [
      "IA/六兆年と一夜物語　keep run (走り演奏)\u0000\u0000\u0000\u0000\u0000\u0000\n",
      "5dc4287d0090ed1c00ceb2df.bcd\n",
      "Super Sonic Green Hill Zone \u0000\u0000\u0000\u0000\u0000\n",
      "5dc4287d009d2ac500ceb2e9.bcd\n"
     ]
    },
    {
     "name": "stderr",
     "output_type": "stream",
     "text": [
      "\r",
      " 13%|██████████                                                                   | 1817/13971 [03:04<35:27,  5.71it/s]"
     ]
    },
    {
     "name": "stdout",
     "output_type": "stream",
     "text": [
      "ドラゴンたちの住む城/The Castle of Dragons\u0000\n",
      "5dc4287d00c3674200ceb2e2.bcd\n"
     ]
    },
    {
     "name": "stderr",
     "output_type": "stream",
     "text": [
      " 13%|██████████                                                                   | 1820/13971 [03:04<32:35,  6.22it/s]"
     ]
    },
    {
     "name": "stdout",
     "output_type": "stream",
     "text": [
      "障害物競走\u0000\u0000\u0000\u0000\u0000\u0000\u0000\u0000\u0000\u0000\u0000\u0000\u0000\u0000\u0000\u0000\u0000\u0000\u0000\u0000\u0000\u0000\u0000\u0000\u0000\u0000\u0000\u0000\n",
      "5dc4287d00ce1f3400ceb2e1.bcd\n",
      "ころん / 敗北ヒーロー 演奏してみた <歩き演奏>\u0000\u0000\u0000\u0000\u0000\u0000\u0000\n",
      "5dc4287d00f63f5700ceb2ea.bcd\n",
      "♪Star Wars・Cantina Theme♪\u0000♪\u0000\u0000\u0000\u0000\u0000\u0000\n",
      "5dc4287e00329ee400ceb2f5.bcd\n"
     ]
    },
    {
     "name": "stderr",
     "output_type": "stream",
     "text": [
      " 13%|██████████                                                                   | 1823/13971 [03:05<31:08,  6.50it/s]"
     ]
    },
    {
     "name": "stdout",
     "output_type": "stream",
     "text": [
      "Spongebob (Comments on plz)\u0000\u0000\u0000\u0000\u0000\u0000\n",
      "5dc4287e003406bd00ceb2ef.bcd\n",
      "Automatic 全自動 【9】\u0000\u0000\u0000\u0000\u0000\u0000\u0000\u0000\u0000\u0000\u0000\u0000\u0000\u0000\u0000\u0000\n",
      "5dc4287e0055a3ce00ceb2f3.bcd\n",
      "♪Don't Stop Me Now♪\u0000\u0000\u0000\u0000\u0000\u0000\u0000\u0000\u0000\u0000\u0000\u0000\u0000\u0000\n",
      "5dc4287e0064487d00ceb2f4.bcd\n"
     ]
    },
    {
     "name": "stderr",
     "output_type": "stream",
     "text": [
      "\r",
      " 13%|██████████                                                                   | 1825/13971 [03:05<31:49,  6.36it/s]"
     ]
    },
    {
     "name": "stdout",
     "output_type": "stream",
     "text": [
      "W1-4 - Mushroom Valley Mayhem\u0000\u0000\u0000\u0000\n",
      "5dc4287e00a6522600ceb2f2.bcd\n",
      "♪Smash Bros. Ultimate・Lifelight♪\u0000\n",
      "5dc4287e00ba286000ceb2eb.bcd\n"
     ]
    },
    {
     "name": "stderr",
     "output_type": "stream",
     "text": [
      "\r",
      " 13%|██████████                                                                   | 1826/13971 [03:05<31:23,  6.45it/s]"
     ]
    },
    {
     "name": "stdout",
     "output_type": "stream",
     "text": [
      "テトリス99のテーマ　♪TETRIS 99  BGM\u0000\u0000\u0000\u0000\u0000\u0000\u0000\n",
      "5dc4287e00c7418b00ceb2f6.bcd\n"
     ]
    },
    {
     "name": "stderr",
     "output_type": "stream",
     "text": [
      " 13%|██████████                                                                   | 1828/13971 [03:06<35:44,  5.66it/s]"
     ]
    },
    {
     "name": "stdout",
     "output_type": "stream",
     "text": [
      "♪Zelda BOTW: Kass' Theme♪\u0000\u0000rsus)\u0000\n",
      "5dc4287e00d0187600ceb2f1.bcd\n",
      "五等分の花嫁OP-五等分の気持ち 歩き演奏 BGM Anime\u0000\u0000"
     ]
    },
    {
     "name": "stderr",
     "output_type": "stream",
     "text": [
      "\r",
      " 13%|██████████                                                                   | 1829/13971 [03:06<32:25,  6.24it/s]"
     ]
    },
    {
     "name": "stdout",
     "output_type": "stream",
     "text": [
      "\n",
      "5dc4287e00d10ebe00ceb2ee.bcd\n",
      "Temple Tantrum 2 Lite\u0000)\u0000)\u0000\u0000\u0000\u0000\u0000\u0000\u0000\u0000\n",
      "5dc4287f0028f0c800ceb2fc.bcd\n"
     ]
    },
    {
     "name": "stderr",
     "output_type": "stream",
     "text": [
      " 13%|██████████                                                                   | 1833/13971 [03:06<28:28,  7.11it/s]"
     ]
    },
    {
     "name": "stdout",
     "output_type": "stream",
     "text": [
      "Supreme Submarine\u0000\u0000D Remix v1\u0000\u0000\u0000\u0000\n",
      "5dc4287f004a3ae300ceb2f9.bcd\n",
      "♪Game of Thrones - Main Theme♪\u0000\u0000\u0000\n",
      "5dc4287f00dd979600ceb2fb.bcd\n",
      "Goal : 0% Win rate\u0000\u0000\u0000\u0000\u0000\u0000\u0000\u0000\u0000\u0000\u0000\u0000\u0000\u0000\u0000\n",
      "5dc4287f00e727ac00ceb2fd.bcd\n",
      "Splashdown!\u0000\u0000\u0000\u0000\u0000\u0000\u0000\u0000\u0000\u0000\u0000\u0000\u0000\u0000\u0000\u0000\u0000\u0000\u0000\u0000\u0000\u0000\n",
      "5dc4289000079a5a00ceb304.bcd\n",
      "Give Me a Cannon Ball v3\u0000\u0000\u0000\u0000\u0000\u0000\u0000\u0000\u0000"
     ]
    },
    {
     "name": "stderr",
     "output_type": "stream",
     "text": [
      "\r",
      " 13%|██████████                                                                   | 1835/13971 [03:06<28:00,  7.22it/s]"
     ]
    },
    {
     "name": "stdout",
     "output_type": "stream",
     "text": [
      "\n",
      "5dc42890002ef24a00ceb303.bcd\n",
      "Race - You VS. Yoshi!\u0000\u0000\u0000\u0000\u0000\u0000\u0000\u0000\u0000\u0000\u0000\u0000\n",
      "5dc42890005a453200ceb301.bcd\n",
      "Temple of Boom (Boom)\u0000(2)\u0000\u0000\u0000\u0000\u0000\u0000\u0000\u0000\n",
      "5dc4289000a9b91d00ceb300.bcd\n"
     ]
    },
    {
     "name": "stderr",
     "output_type": "stream",
     "text": [
      "\r",
      " 13%|██████████                                                                   | 1837/13971 [03:07<32:30,  6.22it/s]"
     ]
    },
    {
     "name": "stdout",
     "output_type": "stream",
     "text": [
      "Mystic Mansion of Machinations \u0000\u0000\n",
      "5dc4289000f9cf6c00ceb302.bcd\n"
     ]
    },
    {
     "name": "stderr",
     "output_type": "stream",
     "text": [
      "\r",
      " 13%|██████████▏                                                                  | 1838/13971 [03:07<36:57,  5.47it/s]"
     ]
    },
    {
     "name": "stdout",
     "output_type": "stream",
     "text": [
      "W4-Airship - Cannonball Calamity\u0000\n",
      "5dc428910022da8b00ceb314.bcd\n",
      "The Great Wiggler Migration\u0000\u0000\u0000\u0000\u0000\u0000\n",
      "5dc42891003dcd6800ceb318.bcd\n"
     ]
    },
    {
     "name": "stderr",
     "output_type": "stream",
     "text": [
      " 13%|██████████▏                                                                  | 1841/13971 [03:07<30:50,  6.55it/s]"
     ]
    },
    {
     "name": "stdout",
     "output_type": "stream",
     "text": [
      "Cara's Cavern\u0000\u0000\u0000\u0000\u0000\u0000\u0000\u0000\u0000\u0000\u0000\u0000\u0000\u0000\u0000\u0000\u0000\u0000\u0000\u0000\n",
      "5dc42891004682c200ceb30e.bcd\n",
      "<Grass land> 1-1 New beginnings\u0000\u0000\n",
      "5dc42891005c3a6200ceb306.bcd\n",
      "A Small and Big Adventure\u0000\u0000\u0000\u0000\u0000\u0000\u0000\u0000\n",
      "5dc428910065f77f00ceb312.bcd\n"
     ]
    },
    {
     "name": "stderr",
     "output_type": "stream",
     "text": [
      " 13%|██████████▏                                                                  | 1844/13971 [03:08<25:51,  7.82it/s]"
     ]
    },
    {
     "name": "stdout",
     "output_type": "stream",
     "text": [
      "Switcheroo Twisteroo\u0000\u0000\u0000\u0000\u0000\u0000\u0000\u0000\u0000\u0000\u0000\u0000\u0000\n",
      "5dc4289100796ba400ceb30f.bcd\n",
      "Spot the Differences\u0000ress Down)\u0000\u0000\n",
      "5dc42891008821ee00ceb30a.bcd\n"
     ]
    },
    {
     "name": "stderr",
     "output_type": "stream",
     "text": [
      " 13%|██████████▏                                                                  | 1847/13971 [03:08<23:53,  8.46it/s]"
     ]
    },
    {
     "name": "stdout",
     "output_type": "stream",
     "text": [
      "Drainpipe Drift\u0000\u0000\u0000\u0000\u0000\u0000\u0000\u0000\u0000\u0000\u0000\u0000\u0000\u0000\u0000\u0000\u0000\u0000\n",
      "5dc428910089438600ceb310.bcd\n",
      "Dead Dead Docks\u0000\u0000rd \u0000\u0000\u0000\u0000\u0000\u0000\u0000\u0000\u0000\u0000\u0000\u0000\u0000\n",
      "5dc428910091ca6400ceb30d.bcd\n",
      "Bumper Cars Tournament 2!!  \u0000\u0000\u0000\u0000\u0000\n",
      "5dc4289100a902a600ceb30c.bcd\n"
     ]
    },
    {
     "name": "stderr",
     "output_type": "stream",
     "text": [
      " 13%|██████████▏                                                                  | 1850/13971 [03:08<23:11,  8.71it/s]"
     ]
    },
    {
     "name": "stdout",
     "output_type": "stream",
     "text": [
      "Auto-switch castle 20 seconds\u0000\u0000\u0000\u0000\n",
      "5dc4289100a9bc0b00ceb305.bcd\n",
      "WHAT'S IN THE BOX?!\u0000\u0000\u0000\u0000\u0000\u0000\u0000\u0000\u0000\u0000\u0000\u0000\u0000\u0000\n",
      "5dc4289100abc30d00ceb317.bcd\n",
      "Forbidden Forest (20s)\u0000\u0000\u0000\u0000\u0000\u0000\u0000\u0000\u0000\u0000\u0000\n",
      "5dc4289100cce65900ceb315.bcd\n",
      "Temple of the Sun\u0000on\u0000\u0000\u0000\u0000\u0000\u0000\u0000\u0000\u0000\u0000\u0000\u0000\u0000\n",
      "5dc4289100cd378800ceb313.bcd\n"
     ]
    },
    {
     "name": "stderr",
     "output_type": "stream",
     "text": [
      " 13%|██████████▏                                                                  | 1853/13971 [03:09<28:37,  7.06it/s]"
     ]
    },
    {
     "name": "stdout",
     "output_type": "stream",
     "text": [
      "The Abduction of Mama Spiny\u0000\u0000\u0000\u0000\u0000\u0000\n",
      "5dc4289100e9db5a00ceb316.bcd\n",
      "POISON PLAYGROUND\u0000son Playground\u0000\n",
      "5dc4289100fcfe1900ceb311.bcd\n"
     ]
    },
    {
     "name": "stderr",
     "output_type": "stream",
     "text": [
      "\r",
      " 13%|██████████▏                                                                  | 1854/13971 [03:09<32:49,  6.15it/s]"
     ]
    },
    {
     "name": "stdout",
     "output_type": "stream",
     "text": [
      "《バトル》　進むアカネちゃんに花束を　《BATTLE》\u0000\u0000\u0000\u0000\u0000\u0000\n",
      "5dc4289200274d6900ceb323.bcd\n",
      "The Cluttered Chaos-Calculator 2\u0000\n",
      "5dc4289200432f1b00ceb325.bcd\n"
     ]
    },
    {
     "name": "stderr",
     "output_type": "stream",
     "text": [
      "\r",
      " 13%|██████████▏                                                                  | 1856/13971 [03:09<33:32,  6.02it/s]"
     ]
    },
    {
     "name": "stdout",
     "output_type": "stream",
     "text": [
      "The Very Angry Speedrun\u0000\u0000\u0000\u0000\u0000\u0000\u0000\u0000\u0000\u0000\n",
      "5dc4289200458ae800ceb31c.bcd\n"
     ]
    },
    {
     "name": "stderr",
     "output_type": "stream",
     "text": [
      "\r",
      " 13%|██████████▏                                                                  | 1857/13971 [03:10<42:14,  4.78it/s]"
     ]
    },
    {
     "name": "stdout",
     "output_type": "stream",
     "text": [
      "Evil Gumba Slide Party [GLP]\u0000\u0000\u0000\u0000\u0000\n",
      "5dc42892006b5eca00ceb328.bcd\n",
      "Koopa Rangers, Assemble!\u0000\u0000\u0000\u0000\u0000\u0000\u0000\u0000\u0000\n",
      "5dc4289200749b2500ceb31a.bcd\n"
     ]
    },
    {
     "name": "stderr",
     "output_type": "stream",
     "text": [
      " 13%|██████████▎                                                                  | 1861/13971 [03:10<31:37,  6.38it/s]"
     ]
    },
    {
     "name": "stdout",
     "output_type": "stream",
     "text": [
      "Bowser's Moving Castle\u0000\u0000\u0000\u0000\u0000\u0000\u0000\u0000\u0000\u0000\u0000\n",
      "5dc42892007eee1a00ceb31f.bcd\n",
      "Donkey Kong (Arcade)\u0000sec.)\u0000\u0000\u0000\u0000\u0000\u0000\u0000\n",
      "5dc4289200815ae000ceb320.bcd\n"
     ]
    },
    {
     "name": "stderr",
     "output_type": "stream",
     "text": [
      "\r",
      " 13%|██████████▎                                                                  | 1862/13971 [03:11<57:23,  3.52it/s]"
     ]
    },
    {
     "name": "stdout",
     "output_type": "stream",
     "text": [
      "Goombrat Armada\u0000\u0000\u0000\u0000\u0000\u0000\u0000\u0000\u0000\u0000\u0000\u0000\u0000\u0000\u0000\u0000\u0000\u0000\n",
      "5dc428920082f8b600ceb321.bcd\n",
      "コインハンターマリオX　Coin Hunter Mario\"X\"\u0000\n",
      "5dc4289200b2549200ceb319.bcd\n"
     ]
    },
    {
     "name": "stderr",
     "output_type": "stream",
     "text": [
      "\r",
      " 13%|██████████▎                                                                  | 1863/13971 [03:11<46:17,  4.36it/s]"
     ]
    },
    {
     "name": "stdout",
     "output_type": "stream",
     "text": [
      "スベッってジャンプ2!  Slide & Jump 2!\u0000\u0000\u0000\u0000\u0000\n",
      "5dc4289200bf342d00ceb329.bcd\n",
      "Watery Forest Escape\u0000\u0000\u0000\u0000\u0000\u0000\u0000\u0000\u0000\u0000\u0000\u0000\u0000\n",
      "5dc4289200c6205500ceb327.bcd\n"
     ]
    },
    {
     "name": "stderr",
     "output_type": "stream",
     "text": [
      " 13%|██████████▎                                                                  | 1866/13971 [03:11<33:35,  6.01it/s]"
     ]
    },
    {
     "name": "stdout",
     "output_type": "stream",
     "text": [
      "Quiz song ♪ in friends [easy]\u0000\u0000\u0000\u0000\n",
      "5dc4289200d7186900ceb322.bcd\n",
      "●Mario Land Superball Shooter 2●\u0000\n",
      "5dc428930003425500ceb32a.bcd\n"
     ]
    },
    {
     "name": "stderr",
     "output_type": "stream",
     "text": [
      "\r",
      " 13%|██████████▎                                                                  | 1867/13971 [03:11<39:15,  5.14it/s]"
     ]
    },
    {
     "name": "stdout",
     "output_type": "stream",
     "text": [
      "Mega Action Robot: M.A.R.I.O.\u0000O!\u0000\n",
      "5dc42893001da30000ceb32d.bcd\n"
     ]
    },
    {
     "name": "stderr",
     "output_type": "stream",
     "text": [
      " 13%|██████████▎                                                                  | 1869/13971 [03:12<37:53,  5.32it/s]"
     ]
    },
    {
     "name": "stdout",
     "output_type": "stream",
     "text": [
      "Guide the Jumping Bob-ombs vol.4\u0000\n",
      "5dc4289300542b0400ceb335.bcd\n",
      "Odyssey: Steam Garden スチームガーデン\u0000\u0000\u0000\n",
      "5dc4289300597cef00ceb32c.bcd\n"
     ]
    },
    {
     "name": "stderr",
     "output_type": "stream",
     "text": [
      "\r",
      " 13%|██████████▎                                                                  | 1870/13971 [03:12<40:48,  4.94it/s]"
     ]
    },
    {
     "name": "stdout",
     "output_type": "stream",
     "text": [
      "Heels Of Justice™\u0000\u0000\u0000\u0000\u0000\u0000\u0000\u0000\u0000\u0000\u0000\u0000\u0000\u0000\u0000\u0000\n",
      "5dc4289300905aa300ceb337.bcd\n"
     ]
    },
    {
     "name": "stderr",
     "output_type": "stream",
     "text": [
      "\r",
      " 13%|██████████▎                                                                  | 1871/13971 [03:12<47:52,  4.21it/s]"
     ]
    },
    {
     "name": "stdout",
     "output_type": "stream",
     "text": [
      "The underground Speedrun! (20's)\u0000\n",
      "5dc42893009a59f700ceb336.bcd\n"
     ]
    },
    {
     "name": "stderr",
     "output_type": "stream",
     "text": [
      " 13%|██████████▎                                                                  | 1874/13971 [03:13<37:19,  5.40it/s]"
     ]
    },
    {
     "name": "stdout",
     "output_type": "stream",
     "text": [
      "ドッスンに負けるな！ Don't lose to Thwomp!\u0000\n",
      "5dc42893009c1a4f00ceb32b.bcd\n",
      "※心臓の弱い方はプレイを避けてください\u0000omp eleva\u0000or\u0000\n",
      "5dc42893009dab1f00ceb333.bcd\n",
      "Bashin Banzai Bill Bonanza Blitz\u0000\n",
      "5dc4289300eaa20200ceb32e.bcd\n",
      "CCL: Stage Select\u0000Copy\u0000ents on)\u0000\u0000"
     ]
    },
    {
     "name": "stderr",
     "output_type": "stream",
     "text": [
      "\r",
      " 13%|██████████▎                                                                  | 1876/13971 [03:13<32:23,  6.22it/s]"
     ]
    },
    {
     "name": "stdout",
     "output_type": "stream",
     "text": [
      "\n",
      "5dc4289300f90c1100ceb33a.bcd\n",
      "uehdt?\u0000\u0000\u0000\u0000\u0000\u0000\u0000\u0000\u0000\u0000\u0000ceforcertaininc\u0000\n",
      "5dc4289300f942a600ceb32f.bcd\n",
      "何の音？音当てゲーム♪　Sound guessing game♪\u0000\n",
      "5dc4289300fa9c6800ceb332.bcd\n"
     ]
    },
    {
     "name": "stderr",
     "output_type": "stream",
     "text": [
      "\r",
      " 13%|██████████▎                                                                  | 1878/13971 [03:13<26:36,  7.58it/s]"
     ]
    },
    {
     "name": "stdout",
     "output_type": "stream",
     "text": [
      "Walk In The Woods [20s speedrun]\u0000\n",
      "5dc428bb000be84200ceb346.bcd\n",
      "House of OoB\u0000\u0000\u0000\u0000\u0000\u0000\u0000\u0000\u0000\u0000\u0000\u0000\u0000\u0000\u0000\u0000\u0000\u0000\u0000\u0000\u0000\n",
      "5dc428bb001e704b00ceb342.bcd\n"
     ]
    },
    {
     "name": "stderr",
     "output_type": "stream",
     "text": [
      " 13%|██████████▎                                                                  | 1882/13971 [03:13<24:30,  8.22it/s]"
     ]
    },
    {
     "name": "stdout",
     "output_type": "stream",
     "text": [
      "Le speedrun 20 secondes de Kim !\u0000\n",
      "5dc428bb003937bc00ceb33c.bcd\n",
      "The On/Off Castle\u0000\u0000\u0000\u0000\u0000\u0000\u0000\u0000\u0000\u0000\u0000\u0000\u0000\u0000\u0000\u0000\n",
      "5dc428bb007b4c9c00ceb347.bcd\n",
      "One of those 20 second speedruns\u0000\n",
      "5dc428bb009f95a300ceb344.bcd\n",
      "SMB1 8-2 Remake\u0000\u0000\u0000\u0000\u0000\u0000\u0000\u0000\u0000\u0000\u0000\u0000\u0000\u0000\u0000\u0000\u0000\u0000\n",
      "5dc428bb00af57e200ceb348.bcd\n"
     ]
    },
    {
     "name": "stderr",
     "output_type": "stream",
     "text": [
      " 13%|██████████▍                                                                  | 1885/13971 [03:14<26:00,  7.74it/s]"
     ]
    },
    {
     "name": "stdout",
     "output_type": "stream",
     "text": [
      "Treasure of the Northern Dragon\u0000\u0000\n",
      "5dc428bb00be3cee00ceb34b.bcd\n",
      "Adrenaline rush [30s]\u0000\u0000\u0000\u0000\u0000\u0000\u0000\u0000\u0000\u0000\u0000\u0000\n",
      "5dc428bb00c0f0ca00ceb33f.bcd\n"
     ]
    },
    {
     "name": "stderr",
     "output_type": "stream",
     "text": [
      " 14%|██████████▍                                                                  | 1887/13971 [03:14<26:55,  7.48it/s]"
     ]
    },
    {
     "name": "stdout",
     "output_type": "stream",
     "text": [
      "Mario & the P-Switch of Doom\u0000\u0000\u0000\u0000\u0000\n",
      "5dc428bb00d10a6d00ceb349.bcd\n",
      "Dual Maze Speedrun [20s]\u0000\u0000\u0000\u0000\u0000\u0000\u0000\u0000\u0000\n",
      "5dc428bb00e1de0f00ceb33b.bcd\n",
      "一POW通行2\u0000\u0000\u0000\u0000\u0000\u0000\u0000\u0000\u0000\u0000\u0000\u0000\u0000\u0000\u0000\u0000\u0000\u0000\u0000\u0000\u0000\u0000\u0000\u0000\u0000\u0000\n",
      "5dc428bb00ed77cb00ceb345.bcd\n",
      "Wiggler Wranglin'\u0000\u0000\u0000\u0000\u0000\u0000\u0000\u0000\u0000\u0000\u0000\u0000\u0000\u0000\u0000\u0000\n",
      "5dc428bc0023600400ceb34e.bcd\n"
     ]
    },
    {
     "name": "stderr",
     "output_type": "stream",
     "text": [
      "\r",
      " 14%|██████████▍                                                                  | 1891/13971 [03:14<20:59,  9.59it/s]"
     ]
    },
    {
     "name": "stdout",
     "output_type": "stream",
     "text": [
      "Piranha Wasteland\u0000eland\u0000c\u0000\u0000\u0000\u0000\u0000\u0000\u0000\u0000\n",
      "5dc428bc002ed8ce00ceb360.bcd\n",
      "Frozen Euphoria!\u0000\u0000\u0000\u0000\u0000\u0000\u0000\u0000\u0000\u0000\u0000\u0000\u0000\u0000\u0000\u0000\u0000\n",
      "5dc428bc004bf0b200ceb35b.bcd\n"
     ]
    },
    {
     "name": "stderr",
     "output_type": "stream",
     "text": [
      " 14%|██████████▍                                                                  | 1895/13971 [03:15<18:10, 11.08it/s]"
     ]
    },
    {
     "name": "stdout",
     "output_type": "stream",
     "text": [
      "Back and Forth [30s]\u0000\u0000\u0000\u0000\u0000\u0000\u0000\u0000\u0000\u0000\u0000\u0000\u0000\n",
      "5dc428bc0055175100ceb364.bcd\n",
      "Serve 'N' Soup\u0000\u0000\u0000\u0000\u0000\u0000\u0000\u0000\u0000\u0000\u0000\u0000\u0000\u0000\u0000\u0000\u0000\u0000\u0000\n",
      "5dc428bc005903c300ceb350.bcd\n",
      "Mega Mario Speedrun 20 Seconds\u0000\u0000\u0000\n",
      "5dc428bc0069e40800ceb365.bcd\n",
      "Trial by Fire\u0000\u0000\u0000\u0000\u0000\u0000\u0000\u0000\u0000\u0000\u0000\u0000\u0000\u0000\u0000\u0000\u0000\u0000\u0000\u0000"
     ]
    },
    {
     "name": "stderr",
     "output_type": "stream",
     "text": [
      "\r",
      " 14%|██████████▍                                                                  | 1897/13971 [03:15<17:24, 11.56it/s]"
     ]
    },
    {
     "name": "stdout",
     "output_type": "stream",
     "text": [
      "\n",
      "5dc428bc006c1f3700ceb34c.bcd\n",
      "Run, Mario, Run! Part 1 [30s]\u0000\u0000\u0000\u0000\n",
      "5dc428bc00777b2500ceb355.bcd\n",
      "SPEED RUN 20second\u0000\u0000\u0000\u0000\u0000\u0000\u0000\u0000\u0000\u0000\u0000\u0000\u0000\u0000\u0000\n",
      "5dc428bc008794d800ceb34f.bcd\n"
     ]
    },
    {
     "name": "stderr",
     "output_type": "stream",
     "text": [
      "\r",
      " 14%|██████████▍                                                                  | 1899/13971 [03:15<21:01,  9.57it/s]"
     ]
    },
    {
     "name": "stdout",
     "output_type": "stream",
     "text": [
      "Trust me! \u0000\u0000\u0000\u0000\u0000\u0000\u0000\u0000\u0000\u0000\u0000\u0000\u0000\u0000\u0000\u0000\u0000\u0000\u0000\u0000\u0000\u0000\u0000\n",
      "5dc428bc008f454e00ceb34d.bcd\n",
      "Hidden Path Rush [20s]\u0000\u0000\u0000\u0000\u0000\u0000\u0000\u0000\u0000\u0000\u0000\n",
      "5dc428bc0095ab6c00ceb362.bcd\n"
     ]
    },
    {
     "name": "stderr",
     "output_type": "stream",
     "text": [
      " 14%|██████████▍                                                                  | 1904/13971 [03:15<16:58, 11.84it/s]"
     ]
    },
    {
     "name": "stdout",
     "output_type": "stream",
     "text": [
      "Rocky mountain underground\u0000\u0000\u0000\u0000\u0000\u0000\u0000\n",
      "5dc428bc00a1a36700ceb35c.bcd\n",
      "Ever's puzzle 11\u0000\u0000\u0000\u0000\u0000\u0000\u0000\u0000\u0000\u0000\u0000\u0000\u0000\u0000\u0000\u0000\u0000\n",
      "5dc428bc00a6d74b00ceb35e.bcd\n",
      "★カロンこうらを履きながらも走り続ける!?　SPEEDRUN★\u0000\u0000\n",
      "5dc428bc00c441a300ceb361.bcd\n",
      "アクアシティ\u0000\u0000\u0000\u0000\u0000\u0000\u0000\u0000\u0000\u0000\u0000\u0000\u0000\u0000\u0000\u0000\u0000\u0000\u0000\u0000\u0000\u0000\u0000\u0000\u0000\u0000\u0000\n",
      "5dc428bc00e3599d00ceb366.bcd\n",
      "Blues of the Woods (Hard)\u0000\u0000\u0000\u0000\u0000\u0000\u0000\u0000\n",
      "5dc428bd002827fe00ceb372.bcd\n"
     ]
    },
    {
     "name": "stderr",
     "output_type": "stream",
     "text": [
      "\r",
      " 14%|██████████▌                                                                  | 1906/13971 [03:16<19:16, 10.43it/s]"
     ]
    },
    {
     "name": "stdout",
     "output_type": "stream",
     "text": [
      "SMBU Castle Speedrun\u0000\u0000\u0000\u0000\u0000\u0000\u0000\u0000\u0000\u0000\u0000\u0000\u0000\n",
      "5dc428bd004732fe00ceb371.bcd\n",
      "Eistee mit extra Zitrone!\u0000\u0000\u0000\u0000\u0000\u0000\u0000\u0000\n",
      "5dc428bd0057310500ceb36d.bcd\n",
      "ほねほね沼 / Bone Bone Bog\u0000\u0000\u0000\u0000\u0000\u0000\u0000\u0000\u0000\u0000\u0000\u0000\n",
      "5dc428bd0073d23b00ceb367.bcd\n"
     ]
    },
    {
     "name": "stderr",
     "output_type": "stream",
     "text": [
      "\r",
      " 14%|██████████▌                                                                  | 1908/13971 [03:16<17:59, 11.17it/s]"
     ]
    },
    {
     "name": "stdout",
     "output_type": "stream",
     "text": [
      "The Shallows\u0000\u0000\u0000\u0000\u0000\u0000\u0000\u0000\u0000\u0000\u0000\u0000\u0000\u0000\u0000\u0000\u0000\u0000\u0000\u0000\u0000\n",
      "5dc428bd0074a53700ceb36e.bcd\n",
      "Stomping the swamp\u0000\u0000\u0000\u0000\u0000\u0000\u0000\u0000\u0000\u0000\u0000\u0000\u0000\u0000\u0000\n",
      "5dc428bd009fb73c00ceb370.bcd\n"
     ]
    },
    {
     "name": "stderr",
     "output_type": "stream",
     "text": [
      "\r",
      " 14%|██████████▌                                                                  | 1910/13971 [03:16<26:06,  7.70it/s]"
     ]
    },
    {
     "name": "stdout",
     "output_type": "stream",
     "text": [
      "A Sky Full Of Saws [30s]\u0000\u0000\u0000\u0000\u0000\u0000\u0000\u0000\u0000\n",
      "5dc428bd00e4938a00ceb373.bcd\n",
      "A Wiggle in the Dark\u0000\u0000\u0000\u0000\u0000\u0000\u0000\u0000\u0000\u0000\u0000\u0000\u0000\n",
      "5dc428bd00e4acc900ceb374.bcd\n"
     ]
    },
    {
     "name": "stderr",
     "output_type": "stream",
     "text": [
      "\r",
      " 14%|██████████▌                                                                  | 1912/13971 [03:16<28:23,  7.08it/s]"
     ]
    },
    {
     "name": "stdout",
     "output_type": "stream",
     "text": [
      "SkyHigh - 2\u0000\u0000\u0000\u0000\u0000\u0000\u0000\u0000\u0000\u0000\u0000\u0000\u0000\u0000\u0000\u0000\u0000\u0000\u0000\u0000\u0000\u0000\n",
      "5dc428bd00ec3eac00ceb36f.bcd\n",
      "Create your own speedrun! [40s]\u0000\u0000\n",
      "5dc428bd00f32b3800ceb368.bcd\n"
     ]
    },
    {
     "name": "stderr",
     "output_type": "stream",
     "text": [
      " 14%|██████████▌                                                                  | 1915/13971 [03:17<29:43,  6.76it/s]"
     ]
    },
    {
     "name": "stdout",
     "output_type": "stream",
     "text": [
      "◆ Go! Streamer Challenge 2 ◆\u0000gon\u0000\n",
      "5dc428be00e84a0300ceb376.bcd\n",
      "ノコノコ山脈　koopa mountain range\u0000\u0000\u0000\u0000\u0000\u0000\n",
      "5dc4293a0009f64100ceb37d.bcd\n",
      "The Description is Lying!!!\u0000\u0000\u0000\u0000\u0000\u0000\n",
      "5dc4293a001c3d8c00ceb37c.bcd\n"
     ]
    },
    {
     "name": "stderr",
     "output_type": "stream",
     "text": [
      " 14%|██████████▌                                                                  | 1920/13971 [03:17<21:25,  9.38it/s]"
     ]
    },
    {
     "name": "stdout",
     "output_type": "stream",
     "text": [
      "Cannon Canyon 2\u0000\u0000\u0000\u0000\u0000\u0000\u0000\u0000\u0000\u0000\u0000\u0000\u0000\u0000\u0000\u0000\u0000\u0000\n",
      "5dc4293a001ea40700ceb379.bcd\n",
      "Slow Climb\u0000\u0000\u0000\u0000\u0000\u0000\u0000\u0000\u0000\u0000\u0000\u0000\u0000\u0000\u0000\u0000\u0000\u0000\u0000\u0000\u0000\u0000\u0000\n",
      "5dc4293a00cd3bb100ceb37a.bcd\n",
      "Larl's Lava Lessons [Troll V2]\u0000\u0000\u0000\n",
      "5dc4293a00d15ea400ceb37e.bcd\n"
     ]
    },
    {
     "name": "stderr",
     "output_type": "stream",
     "text": [
      "\r",
      " 14%|██████████▌                                                                  | 1922/13971 [03:17<18:22, 10.93it/s]"
     ]
    },
    {
     "name": "stdout",
     "output_type": "stream",
     "text": [
      "Welcome to the space jam\u0000 [20]\u0000\u0000\u0000\n",
      "5dc4293a00f6229c00ceb378.bcd\n",
      "Summerhall\u0000\u0000\u0000\u0000\u0000\u0000\u0000\u0000\u0000\u0000\u0000\u0000\u0000\u0000\u0000\u0000\u0000\u0000\u0000\u0000\u0000\u0000\u0000\n",
      "5dc4293a00f86da500ceb377.bcd\n",
      "♪♪♪buh-buh-buuuhhh-buh-buh...♪♪♪\u0000\n",
      "5dc4293b001549e300ceb380.bcd\n",
      "Night of the Astral Stormrider\u0000\u0000\u0000\n",
      "5dc4293b0040740000ceb387.bcd\n"
     ]
    },
    {
     "name": "stderr",
     "output_type": "stream",
     "text": [
      " 14%|██████████▌                                                                  | 1926/13971 [03:18<24:17,  8.26it/s]"
     ]
    },
    {
     "name": "stdout",
     "output_type": "stream",
     "text": [
      "Spiketop Syrup Swamp\u0000pinyWood\u0000n\u0000\u0000\n",
      "5dc4293b00f44fbd00ceb37f.bcd\n",
      "It's raining mole\u0000\u0000\u0000\u0000\u0000\u0000\u0000\u0000\u0000\u0000\u0000\u0000\u0000\u0000\u0000\u0000\n",
      "5dc4293c000cd85000ceb38c.bcd\n",
      "Poisonous Rafting\u0000ng\u0000a Terre\u0000\u0000\u0000\u0000\u0000\n",
      "5dc4293c000f647300ceb393.bcd\n"
     ]
    },
    {
     "name": "stderr",
     "output_type": "stream",
     "text": [
      "\r",
      " 14%|██████████▋                                                                  | 1928/13971 [03:19<28:43,  6.99it/s]"
     ]
    },
    {
     "name": "stdout",
     "output_type": "stream",
     "text": [
      "The Legend of Mole Setups\u0000c]\u0000\u0000\u0000\u0000\u0000\n",
      "5dc4293c0027d0e000ceb38b.bcd\n",
      "Rururu Dungu Partu\u0000\u0000\u0000\u0000\u0000\u0000\u0000\u0000\u0000\u0000\u0000\u0000\u0000\u0000\u0000\n",
      "5dc4293c0032065700ceb38f.bcd\n",
      "春夏秋冬\u0000\u0000\u0000\u0000\u0000\u0000\u0000\u0000\u0000\u0000\u0000\u0000\u0000\u0000\u0000\u0000\u0000\u0000\u0000\u0000\u0000\u0000\u0000\u0000\u0000\u0000\u0000\u0000\u0000\n",
      "5dc4293c003b040800ceb389.bcd\n"
     ]
    },
    {
     "name": "stderr",
     "output_type": "stream",
     "text": [
      " 14%|██████████▋                                                                  | 1932/13971 [03:19<20:13,  9.92it/s]"
     ]
    },
    {
     "name": "stdout",
     "output_type": "stream",
     "text": [
      "Dartrix's Daring Dandelion Dance\u0000\n",
      "5dc4293c0046d11800ceb38a.bcd\n",
      "99% IMPOSIBLE #1 - ZetaSSJ\u0000\u0000\u0000\u0000\u0000\u0000\u0000\n",
      "5dc4293c004ac90c00ceb395.bcd\n",
      "CasualAv: Desert Dash! 20s\u0000\u0000\u0000\u0000\u0000\u0000\u0000\n",
      "5dc4293c0053816900ceb394.bcd\n"
     ]
    },
    {
     "name": "stderr",
     "output_type": "stream",
     "text": [
      "\r",
      " 14%|██████████▋                                                                  | 1934/13971 [03:19<21:06,  9.50it/s]"
     ]
    },
    {
     "name": "stdout",
     "output_type": "stream",
     "text": [
      "Can you switch it ? Special test\u0000\n",
      "5dc4293c0078725700ceb390.bcd\n",
      "Claws And Contraptions\u0000\u0000\u0000\u0000\u0000\u0000\u0000\u0000\u0000\u0000\u0000\n",
      "5dc4293d001d499e00ceb397.bcd\n",
      "RUGGED RIDGE (CUPHEAD)\u0000\u0000\u0000\u0000\u0000\u0000\u0000\u0000\u0000\u0000\u0000\n",
      "5dc4293d0041c3c800ceb3a0.bcd\n"
     ]
    },
    {
     "name": "stderr",
     "output_type": "stream",
     "text": [
      " 14%|██████████▋                                                                  | 1938/13971 [03:19<18:02, 11.12it/s]"
     ]
    },
    {
     "name": "stdout",
     "output_type": "stream",
     "text": [
      "The Midnight Factory\u0000\u0000\u0000\u0000\u0000\u0000\u0000\u0000\u0000\u0000\u0000\u0000\u0000\n",
      "5dc4293d008ffb8c00ceb39c.bcd\n",
      "Bombsketball : Rookie League\u0000\u0000\u0000\u0000\u0000\n",
      "5dc4293d00d3d15600ceb399.bcd\n",
      "Run away and never return [20]\u0000\u0000\u0000\n",
      "5dc4293d00e3a1ff00ceb3a3.bcd\n",
      "UNDERTALE (Alternate Endings)\u0000\u0000\u0000\u0000\n",
      "5dc4293e0000cba500ceb3b1.bcd\n"
     ]
    },
    {
     "name": "stderr",
     "output_type": "stream",
     "text": [
      " 14%|██████████▋                                                                  | 1942/13971 [03:20<19:50, 10.10it/s]"
     ]
    },
    {
     "name": "stdout",
     "output_type": "stream",
     "text": [
      "Technodrome: Let's Kick Shell\u0000\u0000\u0000\u0000\n",
      "5dc4293e00102bd900ceb3af.bcd\n",
      "The 4 Trials Of The Cheetah\u0000\u0000\u0000\u0000\u0000\u0000\n",
      "5dc4293e0019338e00ceb3a7.bcd\n",
      "P-switch Sky!\u0000\u0000\u0000\u0000\u0000\u0000\u0000\u0000\u0000\u0000\u0000\u0000\u0000\u0000\u0000\u0000\u0000\u0000\u0000\u0000\n",
      "5dc4293e0020875700ceb3ac.bcd\n"
     ]
    },
    {
     "name": "stderr",
     "output_type": "stream",
     "text": [
      "\r",
      " 14%|██████████▋                                                                  | 1944/13971 [03:20<18:08, 11.05it/s]"
     ]
    },
    {
     "name": "stdout",
     "output_type": "stream",
     "text": [
      "Crazed Cannon Run\u0000\u0000\u0000\u0000\u0000\u0000\u0000\u0000\u0000\u0000\u0000\u0000\u0000\u0000\u0000\u0000\n",
      "5dc4293e002b70fb00ceb3b0.bcd\n",
      "I can't think of a pun v4\u0000\u0000\u0000\u0000\u0000\u0000\u0000\u0000\n",
      "5dc4293f00cde9b200ceb3b2.bcd\n",
      "任天堂スイッチのなか？！\u0000\u0000\u0000\u0000\u0000\u0000\u0000\u0000\u0000\u0000\u0000\u0000\u0000\u0000\u0000\u0000\u0000\u0000\u0000\u0000\u0000\n",
      "5dc429ac00b3192200ceb3b4.bcd\n"
     ]
    },
    {
     "name": "stderr",
     "output_type": "stream",
     "text": [
      " 14%|██████████▋                                                                  | 1948/13971 [03:21<25:34,  7.84it/s]"
     ]
    },
    {
     "name": "stdout",
     "output_type": "stream",
     "text": [
      "逆さま全自動　(Don'tMove)　1-4\u0000\u0000\u0000\u0000\u0000\u0000\u0000\u0000\u0000\u0000\u0000\n",
      "5dc429ac00cdea3900ceb3b5.bcd\n",
      "Queen: ♪We Will Rock You♪ (→+Y) \u0000\n",
      "5dc429ac00edeb0700ceb3b6.bcd\n",
      "♪~　Tribute 4 Pluto　~♪　AUTO_Music\u0000\n",
      "5dc429ad001cc1f000ceb3c1.bcd\n"
     ]
    },
    {
     "name": "stderr",
     "output_type": "stream",
     "text": [
      "\r",
      " 14%|██████████▋                                                                  | 1950/13971 [03:21<25:01,  8.01it/s]"
     ]
    },
    {
     "name": "stdout",
     "output_type": "stream",
     "text": [
      "WORLD 2-3　～マグルストーンの 地下いせき～\u0000\u0000\u0000\u0000\u0000\u0000\u0000\n",
      "5dc429ad0022c22000ceb3ba.bcd\n",
      "米津玄師 / Lemon フルを演奏してみた Part3\u0000\u0000\u0000\u0000\u0000\n",
      "5dc429ad0033b41000ceb3c3.bcd\n",
      "♪Eiffel 65 - Blue (Auto V.)♪\u0000♪\u0000\u0000\u0000\n",
      "5dc429ad003b3c1100ceb3bb.bcd\n"
     ]
    },
    {
     "name": "stderr",
     "output_type": "stream",
     "text": [
      " 14%|██████████▊                                                                  | 1953/13971 [03:21<25:56,  7.72it/s]"
     ]
    },
    {
     "name": "stdout",
     "output_type": "stream",
     "text": [
      "走っていくぞ！ダッシュ半自動！ KEEP RUN！　【Y+→】\u0000\u0000\n",
      "5dc429ad0047f4a700ceb3be.bcd\n",
      "雪原のダッシュ半自動♪　(Keep Running)\u0000)\u0000\u0000\u0000\u0000\u0000\n",
      "5dc429ad004d33c300ceb3b8.bcd\n",
      "♪Battle Against a Ture Hero\u0000TALE\u0000\n",
      "5dc429ad006579fd00ceb3c0.bcd\n"
     ]
    },
    {
     "name": "stderr",
     "output_type": "stream",
     "text": [
      "\r",
      " 14%|██████████▊                                                                  | 1955/13971 [03:22<26:56,  7.43it/s]"
     ]
    },
    {
     "name": "stdout",
     "output_type": "stream",
     "text": [
      "Jurassic World Exploration\u0000\u0000\u0000\u0000\u0000\u0000\u0000\n",
      "5dc429ad0069ea3d00ceb3c4.bcd\n"
     ]
    },
    {
     "name": "stderr",
     "output_type": "stream",
     "text": [
      "\r",
      " 14%|██████████▊                                                                  | 1956/13971 [03:22<33:42,  5.94it/s]"
     ]
    },
    {
     "name": "stdout",
     "output_type": "stream",
     "text": [
      "WOW, THIS IS SATISFYING!!!!!!!!!\u0000\n",
      "5dc429ad007f6ece00ceb3b7.bcd\n",
      "Easy and fun multiplayer course!\u0000\n",
      "5dc429ad00da18d700ceb3b9.bcd\n",
      "Mario goes to the Cinema\u0000\u0000\u0000\u0000\u0000\u0000\u0000\u0000\u0000\n",
      "5dc429ad00edaf9100ceb3c2.bcd\n"
     ]
    },
    {
     "name": "stderr",
     "output_type": "stream",
     "text": [
      " 14%|██████████▊                                                                  | 1960/13971 [03:22<29:45,  6.73it/s]"
     ]
    },
    {
     "name": "stdout",
     "output_type": "stream",
     "text": [
      "Magikoopa Mansion / 魔術師の舘\u0000\u0000\u0000\u0000\u0000\u0000\u0000\u0000\n",
      "5dc429ad00f63abb00ceb3bc.bcd\n",
      "♪VOCALOID　ドラマツルギー/Eve　【STOP】 \u0000\u0000\u0000\u0000\n",
      "5dc429ae0000b07000ceb3c9.bcd\n"
     ]
    },
    {
     "name": "stderr",
     "output_type": "stream",
     "text": [
      "\r",
      " 14%|██████████▌                                                                | 1961/13971 [03:23<1:05:18,  3.07it/s]"
     ]
    },
    {
     "name": "stdout",
     "output_type": "stream",
     "text": [
      "Aquatic Aquarium\u0000\u0000\u0000\u0000\u0000\u0000\u0000\u0000\u0000\u0000\u0000\u0000\u0000\u0000\u0000\u0000\u0000\n",
      "5dc429ae00139a5200ceb3c8.bcd\n",
      "<music> BOHEMIAN RHAPSODY【QUEEN】\u0000\n",
      "5dc429ae0031fce300ceb3cb.bcd\n"
     ]
    },
    {
     "name": "stderr",
     "output_type": "stream",
     "text": [
      "\r",
      " 14%|██████████▊                                                                  | 1963/13971 [03:23<54:39,  3.66it/s]"
     ]
    },
    {
     "name": "stdout",
     "output_type": "stream",
     "text": [
      "Sranger Things Theme (Run)\u0000\u0000\u0000\u0000\u0000\u0000\u0000\n",
      "5dc429ae003895da00ceb3c6.bcd\n",
      "Mario's Walk Through The Woods\u0000\u0000\u0000\n",
      "5dc429ae003902a400ceb3ca.bcd\n"
     ]
    },
    {
     "name": "stderr",
     "output_type": "stream",
     "text": [
      "\r",
      " 14%|██████████▊                                                                  | 1965/13971 [03:23<44:46,  4.47it/s]"
     ]
    },
    {
     "name": "stdout",
     "output_type": "stream",
     "text": [
      "Shovel Knight ♪: Treasure Knight\u0000\n",
      "5dc429ae0052699700ceb3d0.bcd\n"
     ]
    },
    {
     "name": "stderr",
     "output_type": "stream",
     "text": [
      "\r",
      " 14%|██████████▊                                                                  | 1966/13971 [03:24<48:16,  4.14it/s]"
     ]
    },
    {
     "name": "stdout",
     "output_type": "stream",
     "text": [
      "神一重56　　　全自動 (Auto)\u0000\u0000\u0000\u0000\u0000\u0000\u0000\u0000\u0000\u0000\u0000\u0000\u0000\u0000\u0000\n",
      "5dc429ae0053b92200ceb3ce.bcd\n",
      "謎の勢力「ヤダヤダONがいいでござる！」/ Desired ON\u0000\n",
      "5dc429ae00541c9300ceb3cd.bcd\n",
      "Dry Dry Dunes\u0000\u0000\u0000\u0000\u0000\u0000\u0000\u0000\u0000\u0000\u0000\u0000\u0000\u0000\u0000\u0000\u0000\u0000\u0000\u0000\n",
      "5dc429ae005efd3200ceb3d5.bcd\n"
     ]
    },
    {
     "name": "stderr",
     "output_type": "stream",
     "text": [
      " 14%|██████████▊                                                                  | 1971/13971 [03:24<31:02,  6.44it/s]"
     ]
    },
    {
     "name": "stdout",
     "output_type": "stream",
     "text": [
      "Boiler Bath\u0000\u0000\u0000\u0000\u0000\u0000\u0000\u0000\u0000\u0000\u0000\u0000\u0000\u0000\u0000\u0000\u0000\u0000\u0000\u0000\u0000\u0000\n",
      "5dc429ae00712dd600ceb3d4.bcd\n",
      "☆被爱情切割♪(cut in love)--July\u0000\u0000\u0000\u0000\u0000\u0000\u0000\n",
      "5dc429ae0077b1d100ceb3d2.bcd\n",
      "DEATH NOTE:L's Theme Remix[WALK]\u0000\n",
      "5dc429ae00f6675900ceb3c7.bcd\n"
     ]
    },
    {
     "name": "stderr",
     "output_type": "stream",
     "text": [
      "\r",
      " 14%|██████████▊                                                                  | 1973/13971 [03:24<25:15,  7.91it/s]"
     ]
    },
    {
     "name": "stdout",
     "output_type": "stream",
     "text": [
      "Zelda 1 Dungeon Theme - Music\u0000\u0000\u0000\u0000\n",
      "5dc429af001525e100ceb3de.bcd\n",
      "Controller Sabbatical\u0000\u0000\u0000\u0000\u0000\u0000\u0000\u0000\u0000\u0000\u0000\u0000\n",
      "5dc429af002b9fa800ceb3e0.bcd\n",
      "前前前世-RADWIMPS ダッシュ演奏 music\u0000\u0000\u0000\u0000\u0000\u0000\u0000\n",
      "5dc429af004f9bcc00ceb3e6.bcd\n"
     ]
    },
    {
     "name": "stderr",
     "output_type": "stream",
     "text": [
      " 14%|██████████▉                                                                  | 1977/13971 [03:25<22:29,  8.88it/s]"
     ]
    },
    {
     "name": "stdout",
     "output_type": "stream",
     "text": [
      "レッツゴー！宙を舞う全自動　AUTO\u0000\u0000\u0000\u0000\u0000\u0000\u0000\u0000\u0000\u0000\u0000\u0000\u0000\u0000\u0000\n",
      "5dc429af004fb72700ceb3db.bcd\n",
      "The House in the Forest\u0000\u0000\u0000\u0000\u0000\u0000\u0000\u0000\u0000\u0000\n",
      "5dc429af0081263600ceb3e7.bcd\n",
      "Queen:We Will Rock You♪(Walk)V.2\u0000\n",
      "5dc429af008d99e900ceb3d6.bcd\n"
     ]
    },
    {
     "name": "stderr",
     "output_type": "stream",
     "text": [
      "\r",
      " 14%|██████████▉                                                                  | 1979/13971 [03:25<23:45,  8.41it/s]"
     ]
    },
    {
     "name": "stdout",
     "output_type": "stream",
     "text": [
      "Auto Mario's Night Out\u0000 Night\u0000\u0000\u0000\u0000\n",
      "5dc429af009cd59200ceb3e3.bcd\n",
      "Prison Breakout with Goomba\u0000\u0000\u0000\u0000\u0000\u0000\n",
      "5dc429af00d022d300ceb3d7.bcd\n",
      "♪DUMMY!♪ (Undertale)\u0000\u0000\u0000\u0000\u0000\u0000\u0000\u0000\u0000\u0000\u0000\u0000\u0000\n",
      "5dc429af00e3b92e00ceb3e5.bcd\n"
     ]
    },
    {
     "name": "stderr",
     "output_type": "stream",
     "text": [
      "\r",
      " 14%|██████████▉                                                                  | 1981/13971 [03:25<28:12,  7.08it/s]"
     ]
    },
    {
     "name": "stdout",
     "output_type": "stream",
     "text": [
      "♪Harry Potter theme song♪ {Auto}\u0000\n",
      "5dc429af00ea0e0900ceb3df.bcd\n",
      "Free Fall\u0000\u0000\u0000\u0000\u0000\u0000\u0000\u0000\u0000\u0000\u0000\u0000\u0000\u0000\u0000\u0000\u0000\u0000\u0000\u0000\u0000\u0000\u0000\u0000\n",
      "5dc429b00001273800ceb3eb.bcd\n"
     ]
    },
    {
     "name": "stderr",
     "output_type": "stream",
     "text": [
      "\r",
      " 14%|██████████▉                                                                  | 1983/13971 [03:26<29:27,  6.78it/s]"
     ]
    },
    {
     "name": "stdout",
     "output_type": "stream",
     "text": [
      "The Mysterious Mansion\u0000\u0000\u0000\u0000\u0000\u0000\u0000\u0000\u0000\u0000\u0000\n",
      "5dc429b0002b1de000ceb3ea.bcd\n"
     ]
    },
    {
     "name": "stderr",
     "output_type": "stream",
     "text": [
      "\r",
      " 14%|██████████▉                                                                  | 1984/13971 [03:26<45:59,  4.34it/s]"
     ]
    },
    {
     "name": "stdout",
     "output_type": "stream",
     "text": [
      "Yin Yang 2: Mirror Universe\u0000\u0000\u0000\u0000\u0000\u0000\n",
      "5dc429b0006c403f00ceb3e9.bcd\n",
      "<music>　Pirates of the Caribbean\u0000\n",
      "5dc429b000728c6c00ceb3ee.bcd\n"
     ]
    },
    {
     "name": "stderr",
     "output_type": "stream",
     "text": [
      " 14%|██████████▉                                                                  | 1987/13971 [03:27<36:42,  5.44it/s]"
     ]
    },
    {
     "name": "stdout",
     "output_type": "stream",
     "text": [
      "ドラえもん 星野源 『映画ドラえもん のびたの宝島』 主題歌\u0000\u0000\u0000\n",
      "5dc429b000739dfd00ceb3ec.bcd\n",
      "マリーゴールド-あいみょん 演奏 music\u0000\u0000\u0000\u0000\u0000\u0000\u0000\u0000\u0000\u0000\u0000\n",
      "5dc429b000f4267f00ceb3ed.bcd\n"
     ]
    },
    {
     "name": "stderr",
     "output_type": "stream",
     "text": [
      " 14%|██████████▉                                                                  | 1990/13971 [03:27<40:55,  4.88it/s]"
     ]
    },
    {
     "name": "stdout",
     "output_type": "stream",
     "text": [
      "Spooky Mariovania!\u0000animals!\u0000\u0000\u0000\u0000\u0000\u0000\n",
      "5dc42a310000d75b00ceb3f2.bcd\n",
      "週末もスピランでENJOY♪ #22 Speed Run\u0000n\u0000\u0000\u0000\n",
      "5dc42a310025c41b00ceb3f3.bcd\n"
     ]
    },
    {
     "name": "stderr",
     "output_type": "stream",
     "text": [
      "\r",
      " 14%|██████████▉                                                                  | 1993/13971 [03:27<32:43,  6.10it/s]"
     ]
    },
    {
     "name": "stdout",
     "output_type": "stream",
     "text": [
      "The Human Cannon\u0000\u0000\u0000\u0000\u0000\u0000\u0000\u0000\u0000\u0000\u0000\u0000\u0000\u0000\u0000\u0000\u0000\n",
      "5dc42a3100a8285e00ceb3ef.bcd\n",
      "The friendly turtle!\u0000\u0000\u0000\u0000\u0000\u0000\u0000\u0000\u0000\u0000\u0000\u0000\u0000\n",
      "5dc42a3100fdc31300ceb3f0.bcd\n",
      "Frosty Ice Run [20 Sec]\u0000ds]\u0000\u0000t\u0000\u0000\u0000\n",
      "5dc42a32001e81cc00ceb3f6.bcd\n"
     ]
    },
    {
     "name": "stderr",
     "output_type": "stream",
     "text": [
      "\r",
      " 14%|██████████▉                                                                  | 1994/13971 [03:27<31:00,  6.44it/s]"
     ]
    },
    {
     "name": "stdout",
     "output_type": "stream",
     "text": [
      "★Mushroomander★ Airship Raid\u0000\u0000\u0000\u0000\u0000\n",
      "5dc42a320020dc7900ceb3fc.bcd\n",
      "Monty Mole's Jousting Tournament\u0000\n",
      "5dc42a320056e76800ceb3f9.bcd\n"
     ]
    },
    {
     "name": "stderr",
     "output_type": "stream",
     "text": [
      " 14%|███████████                                                                  | 1996/13971 [03:28<33:26,  5.97it/s]"
     ]
    },
    {
     "name": "stdout",
     "output_type": "stream",
     "text": [
      "登って登りまくれ！！！　[ Up and up!!! ]\u0000\u0000\u0000\u0000\u0000\n",
      "5dc42a320086607300ceb3f5.bcd\n",
      "ドッスンに負けるな2　Don't lose to Thwomp2\u0000\n",
      "5dc42a32008dc45a00ceb3ff.bcd\n"
     ]
    },
    {
     "name": "stderr",
     "output_type": "stream",
     "text": [
      "\r",
      " 14%|███████████                                                                  | 1998/13971 [03:28<28:10,  7.08it/s]"
     ]
    },
    {
     "name": "stdout",
     "output_type": "stream",
     "text": [
      "Decent into Madness\u0000\u0000\u0000\u0000\u0000\u0000\u0000\u0000\u0000\u0000\u0000\u0000\u0000\u0000\n",
      "5dc42a3200ac635d00ceb402.bcd\n",
      "Space Invaders　★　スペースイソベーダー\u0000ー\u0000st\u0000\n",
      "5dc42a3200b51e0e00ceb3fb.bcd\n",
      "The Emerald Run\u0000\u0000d Run\u0000\u0000\u0000\u0000\u0000\u0000\u0000\u0000\u0000\u0000\u0000\n",
      "5dc42a3200be7c6800ceb3fa.bcd\n",
      "Captain Toad: !!!DON'T JUMP!!!\u0000\u0000\u0000\n",
      "5dc42a3200d16b2f00ceb403.bcd\n"
     ]
    },
    {
     "name": "stderr",
     "output_type": "stream",
     "text": [
      "\r",
      " 14%|███████████                                                                  | 2001/13971 [03:28<23:17,  8.57it/s]"
     ]
    },
    {
     "name": "stdout",
     "output_type": "stream",
     "text": [
      "LoZ: Level 1 - Eagle Labyrinth\u0000\u0000\u0000\n",
      "5dc42a330065702200ceb40b.bcd\n",
      "The 2D Mario Olympic Games\u0000ion0\u0000\u0000\n",
      "5dc42a33008de10500ceb405.bcd\n"
     ]
    },
    {
     "name": "stderr",
     "output_type": "stream",
     "text": [
      "\r",
      " 14%|███████████                                                                  | 2003/13971 [03:29<30:48,  6.47it/s]"
     ]
    },
    {
     "name": "stdout",
     "output_type": "stream",
     "text": [
      "SPEEDRUN　Bones 'N' Billy\u0000\u0000\u0000\u0000\u0000\u0000\u0000\u0000\u0000\n",
      "5dc42a33009bd5db00ceb40d.bcd\n",
      "Trans Rights!!!!! (from fish!!)\u0000\u0000\n",
      "5dc42a3300a956c600ceb411.bcd\n",
      "トリプルシューティング/Triple Shooting\u0000\u0000\u0000\u0000\u0000\u0000\n",
      "5dc42a3300bf56a100ceb40f.bcd\n"
     ]
    },
    {
     "name": "stderr",
     "output_type": "stream",
     "text": [
      "\r",
      " 14%|███████████                                                                  | 2006/13971 [03:29<30:10,  6.61it/s]"
     ]
    },
    {
     "name": "stdout",
     "output_type": "stream",
     "text": [
      "Super Sonic Casino Night Zone\u0000\u0000\u0000\u0000\n",
      "5dc42a3300c3de2a00ceb40e.bcd\n"
     ]
    },
    {
     "name": "stderr",
     "output_type": "stream",
     "text": [
      " 14%|███████████                                                                  | 2008/13971 [03:30<39:40,  5.03it/s]"
     ]
    },
    {
     "name": "stdout",
     "output_type": "stream",
     "text": [
      "High In The Skys! [20s Speedrun]\u0000\n",
      "5dc42a3300c5588b00ceb406.bcd\n",
      "Hold【→+YB】押し続けると1ー1お手本プレイが見れます！\u0000\u0000\n",
      "5dc42a3300deec8a00ceb409.bcd\n"
     ]
    },
    {
     "name": "stderr",
     "output_type": "stream",
     "text": [
      "\r",
      " 14%|███████████                                                                  | 2010/13971 [03:30<35:52,  5.56it/s]"
     ]
    },
    {
     "name": "stdout",
     "output_type": "stream",
     "text": [
      "Blazing Breakthrough\u0000\u0000\u0000\u0000\u0000\u0000\u0000\u0000\u0000\u0000\u0000\u0000\u0000\n",
      "5dc42a34000e6d8900ceb420.bcd\n",
      "♪John Lennon - Imagine♪\u0000\u0000\u0000\u0000\u0000\u0000\u0000\u0000\u0000\u0000\n",
      "5dc42a34001880fd00ceb412.bcd\n"
     ]
    },
    {
     "name": "stderr",
     "output_type": "stream",
     "text": [
      " 14%|███████████                                                                  | 2012/13971 [03:30<39:54,  4.99it/s]"
     ]
    },
    {
     "name": "stdout",
     "output_type": "stream",
     "text": [
      "Auto Switch: Boom Boom's Castle!\u0000\n",
      "5dc42a34001b053200ceb418.bcd\n",
      "★ « SMW Boss Rush » ★\u0000\u0000\u0000\u0000\u0000\u0000\u0000\u0000\u0000\u0000\u0000\u0000\n",
      "5dc42a34001c4e3e00ceb41f.bcd\n",
      "Busting Bowser's Forest Fort!\u0000ss\u0000"
     ]
    },
    {
     "name": "stderr",
     "output_type": "stream",
     "text": [
      "\r",
      " 14%|███████████                                                                  | 2014/13971 [03:31<32:59,  6.04it/s]"
     ]
    },
    {
     "name": "stdout",
     "output_type": "stream",
     "text": [
      "\n",
      "5dc42a34002bee1600ceb41e.bcd\n",
      "Poisoned Sewers\u0000\u0000\u0000\u0000\u0000\u0000\u0000\u0000\u0000\u0000\u0000\u0000\u0000\u0000\u0000\u0000\u0000\u0000\n",
      "5dc42a340066589600ceb417.bcd\n"
     ]
    },
    {
     "name": "stderr",
     "output_type": "stream",
     "text": [
      " 14%|███████████                                                                  | 2014/13971 [03:31<20:53,  9.54it/s]\n"
     ]
    },
    {
     "ename": "AssertionError",
     "evalue": "occupato: tensor(244913803328) 57 2 2 False False 2000 17040 65535 False 13 107 Flags: 100683840",
     "output_type": "error",
     "traceback": [
      "\u001b[1;31m---------------------------------------------------------------------------\u001b[0m",
      "\u001b[1;31mAssertionError\u001b[0m                            Traceback (most recent call last)",
      "\u001b[1;32m<ipython-input-180-871a860ef3cc>\u001b[0m in \u001b[0;36m<module>\u001b[1;34m\u001b[0m\n\u001b[0;32m     48\u001b[0m     \u001b[0mprint\u001b[0m\u001b[1;33m(\u001b[0m\u001b[0mlevel\u001b[0m\u001b[1;33m.\u001b[0m\u001b[0mheader\u001b[0m\u001b[1;33m.\u001b[0m\u001b[0mcourseName\u001b[0m\u001b[1;33m.\u001b[0m\u001b[0mdecode\u001b[0m\u001b[1;33m(\u001b[0m\u001b[1;34m\"utf-16\"\u001b[0m\u001b[1;33m)\u001b[0m\u001b[1;33m)\u001b[0m\u001b[1;33m\u001b[0m\u001b[1;33m\u001b[0m\u001b[0m\n\u001b[0;32m     49\u001b[0m     \u001b[0mprint\u001b[0m\u001b[1;33m(\u001b[0m\u001b[0mlevelName\u001b[0m\u001b[1;33m)\u001b[0m\u001b[1;33m\u001b[0m\u001b[1;33m\u001b[0m\u001b[0m\n\u001b[1;32m---> 50\u001b[1;33m     \u001b[0mlevel\u001b[0m\u001b[1;33m.\u001b[0m\u001b[0mmainLevelArea\u001b[0m\u001b[1;33m.\u001b[0m\u001b[0mtoPytorchMatrix\u001b[0m\u001b[1;33m(\u001b[0m\u001b[1;33m)\u001b[0m\u001b[1;33m\u001b[0m\u001b[1;33m\u001b[0m\u001b[0m\n\u001b[0m",
      "\u001b[1;32m<ipython-input-176-19f88a5bf3ae>\u001b[0m in \u001b[0;36mtoPytorchMatrix\u001b[1;34m(self)\u001b[0m\n\u001b[0;32m    255\u001b[0m                 \u001b[1;32mfor\u001b[0m \u001b[0mi\u001b[0m \u001b[1;32min\u001b[0m \u001b[0mrange\u001b[0m \u001b[1;33m(\u001b[0m\u001b[1;36m0\u001b[0m\u001b[1;33m,\u001b[0m\u001b[0mwidth\u001b[0m\u001b[1;33m)\u001b[0m\u001b[1;33m:\u001b[0m\u001b[1;33m\u001b[0m\u001b[1;33m\u001b[0m\u001b[0m\n\u001b[0;32m    256\u001b[0m                     \u001b[1;32mfor\u001b[0m \u001b[0mj\u001b[0m \u001b[1;32min\u001b[0m \u001b[0mrange\u001b[0m \u001b[1;33m(\u001b[0m\u001b[1;36m0\u001b[0m\u001b[1;33m,\u001b[0m\u001b[0mheight\u001b[0m\u001b[1;33m)\u001b[0m\u001b[1;33m:\u001b[0m\u001b[1;33m\u001b[0m\u001b[1;33m\u001b[0m\u001b[0m\n\u001b[1;32m--> 257\u001b[1;33m                         \u001b[0mself\u001b[0m\u001b[1;33m.\u001b[0m\u001b[0msetCellMatrix\u001b[0m\u001b[1;33m(\u001b[0m\u001b[0mmatrix\u001b[0m\u001b[1;33m,\u001b[0m \u001b[0mobjectMM\u001b[0m\u001b[1;33m,\u001b[0m \u001b[0mlayer\u001b[0m\u001b[1;33m,\u001b[0m \u001b[0myPosition\u001b[0m \u001b[1;33m+\u001b[0m \u001b[1;33m(\u001b[0m\u001b[0mj\u001b[0m \u001b[1;33m*\u001b[0m \u001b[0mversoY\u001b[0m\u001b[1;33m)\u001b[0m\u001b[1;33m,\u001b[0m \u001b[0mxPosition\u001b[0m \u001b[1;33m+\u001b[0m \u001b[1;33m(\u001b[0m\u001b[0mi\u001b[0m \u001b[1;33m*\u001b[0m \u001b[0mversoX\u001b[0m\u001b[1;33m)\u001b[0m\u001b[1;33m,\u001b[0m \u001b[1;33m(\u001b[0m\u001b[0mi\u001b[0m \u001b[1;33m==\u001b[0m \u001b[1;36m0\u001b[0m \u001b[1;32mand\u001b[0m \u001b[0mj\u001b[0m \u001b[1;33m==\u001b[0m \u001b[1;36m0\u001b[0m\u001b[1;33m)\u001b[0m\u001b[1;33m)\u001b[0m\u001b[1;33m\u001b[0m\u001b[1;33m\u001b[0m\u001b[0m\n\u001b[0m\u001b[0;32m    258\u001b[0m                 \u001b[1;32mcontinue\u001b[0m\u001b[1;33m\u001b[0m\u001b[1;33m\u001b[0m\u001b[0m\n\u001b[0;32m    259\u001b[0m \u001b[1;33m\u001b[0m\u001b[0m\n",
      "\u001b[1;32m<ipython-input-176-19f88a5bf3ae>\u001b[0m in \u001b[0;36msetCellMatrix\u001b[1;34m(self, matrix, objectMM, layer, yPosition, xPosition, childSoundCell)\u001b[0m\n\u001b[0;32m    374\u001b[0m         \u001b[1;32massert\u001b[0m \u001b[0mmatrix\u001b[0m\u001b[1;33m[\u001b[0m\u001b[0mlayer\u001b[0m\u001b[1;33m]\u001b[0m\u001b[1;33m[\u001b[0m\u001b[0myPosition\u001b[0m\u001b[1;33m]\u001b[0m\u001b[1;33m[\u001b[0m\u001b[0mxPosition\u001b[0m\u001b[1;33m]\u001b[0m \u001b[1;33m==\u001b[0m \u001b[1;36m0\u001b[0m \u001b[1;32mor\u001b[0m \u001b[0mmatrix\u001b[0m\u001b[1;33m[\u001b[0m\u001b[0mlayer\u001b[0m\u001b[1;33m]\u001b[0m\u001b[1;33m[\u001b[0m\u001b[0myPosition\u001b[0m\u001b[1;33m]\u001b[0m\u001b[1;33m[\u001b[0m\u001b[0mxPosition\u001b[0m\u001b[1;33m]\u001b[0m \u001b[1;33m==\u001b[0m \u001b[1;36m7\u001b[0m\u001b[1;33m,\u001b[0m \u001b[1;34m'occupato: '\u001b[0m \u001b[1;33m+\u001b[0m \u001b[0mstr\u001b[0m\u001b[1;33m(\u001b[0m\u001b[0mmatrix\u001b[0m\u001b[1;33m[\u001b[0m\u001b[0mlayer\u001b[0m\u001b[1;33m]\u001b[0m\u001b[1;33m[\u001b[0m\u001b[0myPosition\u001b[0m\u001b[1;33m]\u001b[0m\u001b[1;33m[\u001b[0m\u001b[0mxPosition\u001b[0m\u001b[1;33m]\u001b[0m\u001b[1;33m)\u001b[0m \u001b[1;33m+\u001b[0m \u001b[1;34m' '\u001b[0m \u001b[1;33m+\u001b[0m \u001b[0mstr\u001b[0m\u001b[1;33m(\u001b[0m\u001b[0mobjectMM\u001b[0m\u001b[1;33m.\u001b[0m\u001b[0mobjectType\u001b[0m\u001b[1;33m)\u001b[0m \u001b[1;33m+\u001b[0m \u001b[1;34m' '\u001b[0m \u001b[1;33m+\u001b[0m \u001b[0mstr\u001b[0m\u001b[1;33m(\u001b[0m\u001b[0mobjectMM\u001b[0m\u001b[1;33m.\u001b[0m\u001b[0mobjectWidth\u001b[0m\u001b[1;33m)\u001b[0m \u001b[1;33m+\u001b[0m \u001b[1;34m' '\u001b[0m \u001b[1;33m+\u001b[0m \u001b[0mstr\u001b[0m\u001b[1;33m(\u001b[0m\u001b[0mobjectMM\u001b[0m\u001b[1;33m.\u001b[0m\u001b[0mobjectHeight\u001b[0m\u001b[1;33m)\u001b[0m\u001b[0;31m\\\u001b[0m\u001b[1;33m\u001b[0m\u001b[1;33m\u001b[0m\u001b[0m\n\u001b[0;32m    375\u001b[0m         \u001b[1;33m+\u001b[0m \u001b[1;34m' '\u001b[0m \u001b[1;33m+\u001b[0m \u001b[0mstr\u001b[0m\u001b[1;33m(\u001b[0m\u001b[0mobjectMM\u001b[0m\u001b[1;33m.\u001b[0m\u001b[0mmiddleTileX\u001b[0m\u001b[1;33m)\u001b[0m \u001b[1;33m+\u001b[0m \u001b[1;34m' '\u001b[0m \u001b[1;33m+\u001b[0m \u001b[0mstr\u001b[0m\u001b[1;33m(\u001b[0m\u001b[0mobjectMM\u001b[0m\u001b[1;33m.\u001b[0m\u001b[0mmiddleTileY\u001b[0m\u001b[1;33m)\u001b[0m \u001b[1;33m+\u001b[0m \u001b[1;34m' '\u001b[0m \u001b[1;33m+\u001b[0m \u001b[0mstr\u001b[0m\u001b[1;33m(\u001b[0m\u001b[0mobjectMM\u001b[0m\u001b[1;33m.\u001b[0m\u001b[0myOriginalPosition\u001b[0m\u001b[1;33m)\u001b[0m \u001b[1;33m+\u001b[0m \u001b[1;34m' '\u001b[0m \u001b[1;33m+\u001b[0m \u001b[0mstr\u001b[0m\u001b[1;33m(\u001b[0m\u001b[0mobjectMM\u001b[0m\u001b[1;33m.\u001b[0m\u001b[0mxOriginalPosition\u001b[0m\u001b[1;33m)\u001b[0m \u001b[1;33m+\u001b[0m \u001b[1;34m' '\u001b[0m \u001b[1;33m+\u001b[0m \u001b[0mstr\u001b[0m\u001b[1;33m(\u001b[0m\u001b[0mobjectMM\u001b[0m\u001b[1;33m.\u001b[0m\u001b[0mlinkID\u001b[0m\u001b[1;33m)\u001b[0m \u001b[1;33m+\u001b[0m \u001b[1;34m' '\u001b[0m \u001b[1;33m+\u001b[0m \u001b[0mstr\u001b[0m\u001b[1;33m(\u001b[0m\u001b[0mchildSoundCell\u001b[0m\u001b[1;33m)\u001b[0m\u001b[0;31m\\\u001b[0m\u001b[1;33m\u001b[0m\u001b[1;33m\u001b[0m\u001b[0m\n\u001b[1;32m--> 376\u001b[1;33m         \u001b[1;33m+\u001b[0m \u001b[1;34m' '\u001b[0m \u001b[1;33m+\u001b[0m \u001b[0mstr\u001b[0m\u001b[1;33m(\u001b[0m\u001b[0myPosition\u001b[0m\u001b[1;33m)\u001b[0m \u001b[1;33m+\u001b[0m \u001b[1;34m' '\u001b[0m \u001b[1;33m+\u001b[0m \u001b[0mstr\u001b[0m\u001b[1;33m(\u001b[0m\u001b[0mxPosition\u001b[0m\u001b[1;33m)\u001b[0m \u001b[1;33m+\u001b[0m \u001b[1;34m' Flags: '\u001b[0m \u001b[1;33m+\u001b[0m \u001b[0mstr\u001b[0m\u001b[1;33m(\u001b[0m\u001b[0mobjectMM\u001b[0m\u001b[1;33m.\u001b[0m\u001b[0mobjectFlags\u001b[0m\u001b[1;33m)\u001b[0m\u001b[1;33m\u001b[0m\u001b[1;33m\u001b[0m\u001b[0m\n\u001b[0m\u001b[0;32m    377\u001b[0m         \u001b[0mmatrix\u001b[0m\u001b[1;33m[\u001b[0m\u001b[0mlayer\u001b[0m\u001b[1;33m]\u001b[0m\u001b[1;33m[\u001b[0m\u001b[0myPosition\u001b[0m\u001b[1;33m]\u001b[0m\u001b[1;33m[\u001b[0m\u001b[0mxPosition\u001b[0m\u001b[1;33m]\u001b[0m \u001b[1;33m=\u001b[0m \u001b[0mobjectMM\u001b[0m\u001b[1;33m.\u001b[0m\u001b[0mflagsType\u001b[0m\u001b[1;33m\u001b[0m\u001b[1;33m\u001b[0m\u001b[0m\n\u001b[0;32m    378\u001b[0m         \u001b[1;32mif\u001b[0m\u001b[1;33m(\u001b[0m\u001b[0mchildSoundCell\u001b[0m\u001b[1;33m)\u001b[0m\u001b[1;33m:\u001b[0m\u001b[1;33m\u001b[0m\u001b[1;33m\u001b[0m\u001b[0m\n",
      "\u001b[1;31mAssertionError\u001b[0m: occupato: tensor(244913803328) 57 2 2 False False 2000 17040 65535 False 13 107 Flags: 100683840"
     ]
    }
   ],
   "source": [
    "marioMakerLevels = []\n",
    "levelsFiltered = []\n",
    "levelsSet = set()\n",
    "for levelName in tqdm(levelsToLoad[:]):\n",
    "    if not levelsDecrypted:\n",
    "        filePath = join(levelFolder, levelName)\n",
    "        if levelName[-4:] == '.zip':\n",
    "            archive = zipfile.ZipFile(filePath, 'r')\n",
    "            leveldata = archive.read('course_data_000.bcd')\n",
    "            archive.close()\n",
    "            with open('tools/tmp/course_data_000.bcd', 'wb') as f:\n",
    "                f.write(leveldata)\n",
    "        else:\n",
    "            archive = tarfile.open(filePath, 'r')\n",
    "            archive.extract('course_data_000.bcd', path=\"tools/tmp/\")\n",
    "            archive.close()\n",
    "        !.\\tools\\smm2dec.exe -h .\\tools\\tmp\\course_data_000.bcd .\\tools\\tmp\\course_data_dec.bcd >nul 2>&1\n",
    "        with open('tools/tmp/course_data_dec.bcd', 'rb') as f:\n",
    "            leveldata = f.read()\n",
    "    else:\n",
    "        filePath = join(decryptLevelFilteredFolder ,levelName)\n",
    "        with open(filePath, 'rb') as f:\n",
    "            leveldata = f.read()\n",
    "    level = MarioMaker2File()\n",
    "    level.fromBytes(leveldata)\n",
    "    if level.header.gameStyle.decode(\"utf-8\") == '3W\\x00':\n",
    "        continue\n",
    "    if level.header.creationID in levelsSet:\n",
    "        os.remove(filePath)\n",
    "        continue\n",
    "    levelsSet.add(level.header.creationID)\n",
    "    marioMakerLevels.append(level)\n",
    "#     tSet = set()\n",
    "#     oSet = set()\n",
    "#     for terrain in level.mainLevelArea.tiles:\n",
    "#         tSet.add((terrain.xPosition, terrain.yPosition))\n",
    "#         #print(str(terrain))\n",
    "#         oSet.add((objectMM.xPosition, objectMM.yPosition))\n",
    "        \n",
    "#         if (objectMM.xPosition, objectMM.yPosition) in tSet and objectMM.layer == 1:\n",
    "#             print(objectMM)\n",
    "        \n",
    "        \n",
    "    \n",
    "#     print(tSet.intersection(oSet))\n",
    "    \n",
    "    \n",
    "    print(level.header.courseName.decode(\"utf-16\"))\n",
    "    print(levelName)\n",
    "    level.mainLevelArea.toPytorchMatrix()"
   ]
  },
  {
   "cell_type": "code",
   "execution_count": 181,
   "metadata": {},
   "outputs": [],
   "source": [
    "#blocco tagliola"
   ]
  },
  {
   "cell_type": "code",
   "execution_count": 169,
   "metadata": {},
   "outputs": [
    {
     "name": "stdout",
     "output_type": "stream",
     "text": [
      "100663360\n"
     ]
    },
    {
     "data": {
      "text/plain": [
       "91"
      ]
     },
     "execution_count": 169,
     "metadata": {},
     "output_type": "execute_result"
    }
   ],
   "source": [
    "a = 378060931136\n",
    "\n",
    "asd = (390942687296).to_bytes(6, byteorder='little')\n",
    "print(int.from_bytes(asd[:4],\"little\", signed = False))\n",
    "int.from_bytes(asd[4:],\"little\", signed = False)\n"
   ]
  },
  {
   "cell_type": "code",
   "execution_count": 37,
   "metadata": {},
   "outputs": [],
   "source": [
    "testFolder = Path(\"testLevel/\")"
   ]
  },
  {
   "cell_type": "code",
   "execution_count": 170,
   "metadata": {},
   "outputs": [
    {
     "data": {
      "text/plain": [
       "376832"
      ]
     },
     "execution_count": 170,
     "metadata": {},
     "output_type": "execute_result"
    }
   ],
   "source": [
    "with open(join(testFolder, 'course_data_003dec.bcd'), 'rb') as f:\n",
    "#with open(join(testFolder, '007dec.bcd'), 'rb') as f:\n",
    "    leveldata = f.read()\n",
    "len(leveldata)"
   ]
  },
  {
   "cell_type": "code",
   "execution_count": 171,
   "metadata": {
    "scrolled": true
   },
   "outputs": [],
   "source": [
    "testM = MarioMaker2File()\n",
    "testM.fromBytes(leveldata)"
   ]
  },
  {
   "cell_type": "code",
   "execution_count": 172,
   "metadata": {},
   "outputs": [
    {
     "name": "stdout",
     "output_type": "stream",
     "text": [
      "Tipo:9\n",
      "Posizione:(26,2)\n",
      "Dimensioni:(2,2)non ha figlio\n",
      "flags: 100663488 posizione originale:4240 400\n",
      "b'\\xc0\\x00\\x00\\x06'\n",
      "192\n",
      "0\n",
      "0\n",
      "6\n",
      "Tipo:9\n",
      "Posizione:(27,9)\n",
      "Dimensioni:(2,4)non ha figlio\n",
      "flags: 100663520 posizione originale:4400 1520\n",
      "b'\\xe0\\x00\\x00\\x06'\n",
      "224\n",
      "0\n",
      "0\n",
      "6\n",
      "Tipo:9\n",
      "Posizione:(31,4)\n",
      "Dimensioni:(2,4)non ha figlio\n",
      "flags: 100663456 posizione originale:5040 720\n",
      "b'\\xa0\\x00\\x00\\x06'\n",
      "160\n",
      "0\n",
      "0\n",
      "6\n",
      "Tipo:9\n",
      "Posizione:(22,5)\n",
      "Dimensioni:(2,4)non ha figlio\n",
      "flags: 100663296 posizione originale:3600 880\n",
      "b'\\x00\\x00\\x00\\x06'\n",
      "0\n",
      "0\n",
      "0\n",
      "6\n",
      "Tipo:9\n",
      "Posizione:(34,2)\n",
      "Dimensioni:(2,2)non ha figlio\n",
      "flags: 100925504 posizione originale:5520 400\n",
      "b'@\\x00\\x04\\x06'\n",
      "64\n",
      "0\n",
      "4\n",
      "6\n",
      "Tipo:9\n",
      "Posizione:(38,2)\n",
      "Dimensioni:(2,2)non ha figlio\n",
      "flags: 101449792 posizione originale:6160 400\n",
      "b'@\\x00\\x0c\\x06'\n",
      "64\n",
      "0\n",
      "12\n",
      "6\n",
      "Tipo:9\n",
      "Posizione:(36,2)\n",
      "Dimensioni:(2,2)non ha figlio\n",
      "flags: 101187648 posizione originale:5840 400\n",
      "b'@\\x00\\x08\\x06'\n",
      "64\n",
      "0\n",
      "8\n",
      "6\n",
      "Tipo:88\n",
      "Posizione:(7,14)\n",
      "Dimensioni:(3,2)non ha figlio\n",
      "flags: 100663360 posizione originale:1200 2320\n",
      "b'@\\x00\\x00\\x06'\n",
      "64\n",
      "0\n",
      "0\n",
      "6\n",
      "Tipo:88\n",
      "Posizione:(15,5)\n",
      "Dimensioni:(3,2)non ha figlio\n",
      "flags: 102760512 posizione originale:2480 880\n",
      "b'@\\x00 \\x06'\n",
      "64\n",
      "0\n",
      "32\n",
      "6\n",
      "Tipo:88\n",
      "Posizione:(11,11)\n",
      "Dimensioni:(3,2)non ha figlio\n",
      "flags: 101711936 posizione originale:1840 1840\n",
      "b'@\\x00\\x10\\x06'\n",
      "64\n",
      "0\n",
      "16\n",
      "6\n",
      "Tipo:88\n",
      "Posizione:(19,8)\n",
      "Dimensioni:(6,5)non ha figlio\n",
      "flags: 101711936 posizione originale:3120 1360\n",
      "b'@\\x00\\x10\\x06'\n",
      "64\n",
      "0\n",
      "16\n",
      "6\n",
      "Tipo:88\n",
      "Posizione:(14,14)\n",
      "Dimensioni:(3,2)non ha figlio\n",
      "flags: 103809088 posizione originale:2320 2320\n",
      "b'@\\x000\\x06'\n",
      "64\n",
      "0\n",
      "48\n",
      "6\n",
      "Tipo:87\n",
      "Posizione:(50,4)\n",
      "Dimensioni:(4,2)non ha figlio\n",
      "flags: 100663360 posizione originale:8080 720\n",
      "b'@\\x00\\x00\\x06'\n",
      "64\n",
      "0\n",
      "0\n",
      "6\n",
      "Tipo:87\n",
      "Posizione:(66,11)\n",
      "Dimensioni:(6,3)non ha figlio\n",
      "flags: 101711936 posizione originale:10640 1840\n",
      "b'@\\x00\\x10\\x06'\n",
      "64\n",
      "0\n",
      "16\n",
      "6\n",
      "Tipo:87\n",
      "Posizione:(49,12)\n",
      "Dimensioni:(4,2)non ha figlio\n",
      "flags: 103809088 posizione originale:7920 2000\n",
      "b'@\\x000\\x06'\n",
      "64\n",
      "0\n",
      "48\n",
      "6\n",
      "Tipo:87\n",
      "Posizione:(65,2)\n",
      "Dimensioni:(6,3)non ha figlio\n",
      "flags: 101711936 posizione originale:10480 400\n",
      "b'@\\x00\\x10\\x06'\n",
      "64\n",
      "0\n",
      "16\n",
      "6\n",
      "Tipo:12\n",
      "Posizione:(7,5)\n",
      "Dimensioni:(2,2)non ha figlio\n",
      "flags: 100663384 posizione originale:1280 880\n",
      "b'X\\x00\\x00\\x06'\n",
      "88\n",
      "0\n",
      "0\n",
      "6\n",
      "Tipo:12\n",
      "Posizione:(9,5)\n",
      "Dimensioni:(2,2)non ha figlio\n",
      "flags: 100663384 posizione originale:1600 880\n",
      "b'X\\x00\\x00\\x06'\n",
      "88\n",
      "0\n",
      "0\n",
      "6\n",
      "Tipo:12\n",
      "Posizione:(11,5)\n",
      "Dimensioni:(2,2)non ha figlio\n",
      "flags: 100667480 posizione originale:1920 880\n",
      "b'X\\x10\\x00\\x06'\n",
      "88\n",
      "16\n",
      "0\n",
      "6\n",
      "Tipo:0\n",
      "Posizione:(7,2)\n",
      "Dimensioni:(1,1)non ha figlio\n",
      "flags: 100663360 posizione originale:1200 400\n",
      "b'@\\x00\\x00\\x06'\n",
      "64\n",
      "0\n",
      "0\n",
      "6\n",
      "Tipo:0\n",
      "Posizione:(9,2)\n",
      "Dimensioni:(1,1)non ha figlio\n",
      "flags: 100663360 posizione originale:1520 400\n",
      "b'@\\x00\\x00\\x06'\n",
      "64\n",
      "0\n",
      "0\n",
      "6\n",
      "Tipo:0\n",
      "Posizione:(11,2)\n",
      "Dimensioni:(1,1)non ha figlio\n",
      "flags: 100663360 posizione originale:1840 400\n",
      "b'@\\x00\\x00\\x06'\n",
      "64\n",
      "0\n",
      "0\n",
      "6\n",
      "Tipo:0\n",
      "Posizione:(7,8)\n",
      "Dimensioni:(1,1)non ha figlio\n",
      "flags: 100663360 posizione originale:1200 1360\n",
      "b'@\\x00\\x00\\x06'\n",
      "64\n",
      "0\n",
      "0\n",
      "6\n",
      "Tipo:0\n",
      "Posizione:(9,8)\n",
      "Dimensioni:(1,1)non ha figlio\n",
      "flags: 100663360 posizione originale:1520 1360\n",
      "b'@\\x00\\x00\\x06'\n",
      "64\n",
      "0\n",
      "0\n",
      "6\n",
      "Tipo:0\n",
      "Posizione:(11,7)\n",
      "Dimensioni:(1,1)non ha figlio\n",
      "flags: 100667456 posizione originale:1920 1200\n",
      "b'@\\x10\\x00\\x06'\n",
      "64\n",
      "16\n",
      "0\n",
      "6\n",
      "Tipo:84\n",
      "Posizione:(49,18)\n",
      "Dimensioni:(4,1)non ha figlio\n",
      "flags: 100663360 posizione originale:8000 2960\n",
      "b'@\\x00\\x00\\x06'\n",
      "64\n",
      "0\n",
      "0\n",
      "6\n",
      "Tipo:0\n",
      "Posizione:(44,2)\n",
      "Dimensioni:(1,1)non ha figlio\n",
      "flags: 100663360 posizione originale:7120 400\n",
      "b'@\\x00\\x00\\x06'\n",
      "64\n",
      "0\n",
      "0\n",
      "6\n",
      "Tipo:14\n",
      "Posizione:(53,4)\n",
      "Dimensioni:(5,4)non ha figlio\n",
      "flags: 100663360 posizione originale:8560 720\n",
      "b'@\\x00\\x00\\x06'\n",
      "64\n",
      "0\n",
      "0\n",
      "6\n",
      "Tipo:14\n",
      "Posizione:(55,8)\n",
      "Dimensioni:(4,3)non ha figlio\n",
      "flags: 100663360 posizione originale:8880 1360\n",
      "b'@\\x00\\x00\\x06'\n",
      "64\n",
      "0\n",
      "0\n",
      "6\n",
      "Tipo:16\n",
      "Posizione:(7,2)\n",
      "Dimensioni:(9,9)non ha figlio\n",
      "flags: 100663360 posizione originale:1200 400\n",
      "b'@\\x00\\x00\\x06'\n",
      "64\n",
      "0\n",
      "0\n",
      "6\n",
      "Tipo:14\n",
      "Posizione:(9,11)\n",
      "Dimensioni:(4,3)non ha figlio\n",
      "flags: 100663360 posizione originale:1520 1840\n",
      "b'@\\x00\\x00\\x06'\n",
      "64\n",
      "0\n",
      "0\n",
      "6\n",
      "Tipo:6\n",
      "Posizione:(55,13)\n",
      "Dimensioni:(1,1)non ha figlio\n",
      "flags: 100663360 posizione originale:8880 2160\n",
      "b'@\\x00\\x00\\x06'\n",
      "64\n",
      "0\n",
      "0\n",
      "6\n",
      "Tipo:6\n",
      "Posizione:(55,14)\n",
      "Dimensioni:(1,1)non ha figlio\n",
      "flags: 100663360 posizione originale:8880 2320\n",
      "b'@\\x00\\x00\\x06'\n",
      "64\n",
      "0\n",
      "0\n",
      "6\n",
      "Tipo:6\n",
      "Posizione:(55,15)\n",
      "Dimensioni:(1,1)non ha figlio\n",
      "flags: 100663360 posizione originale:8880 2480\n",
      "b'@\\x00\\x00\\x06'\n",
      "64\n",
      "0\n",
      "0\n",
      "6\n",
      "Tipo:6\n",
      "Posizione:(55,16)\n",
      "Dimensioni:(1,1)non ha figlio\n",
      "flags: 100663360 posizione originale:8880 2640\n",
      "b'@\\x00\\x00\\x06'\n",
      "64\n",
      "0\n",
      "0\n",
      "6\n",
      "Tipo:6\n",
      "Posizione:(55,17)\n",
      "Dimensioni:(1,1)non ha figlio\n",
      "flags: 100663360 posizione originale:8880 2800\n",
      "b'@\\x00\\x00\\x06'\n",
      "64\n",
      "0\n",
      "0\n",
      "6\n",
      "Tipo:6\n",
      "Posizione:(55,18)\n",
      "Dimensioni:(1,1)non ha figlio\n",
      "flags: 100663360 posizione originale:8880 2960\n",
      "b'@\\x00\\x00\\x06'\n",
      "64\n",
      "0\n",
      "0\n",
      "6\n",
      "Tipo:6\n",
      "Posizione:(55,19)\n",
      "Dimensioni:(1,1)non ha figlio\n",
      "flags: 100663360 posizione originale:8880 3120\n",
      "b'@\\x00\\x00\\x06'\n",
      "64\n",
      "0\n",
      "0\n",
      "6\n",
      "Tipo:6\n",
      "Posizione:(56,19)\n",
      "Dimensioni:(1,1)non ha figlio\n",
      "flags: 100663360 posizione originale:9040 3120\n",
      "b'@\\x00\\x00\\x06'\n",
      "64\n",
      "0\n",
      "0\n",
      "6\n",
      "Tipo:6\n",
      "Posizione:(57,19)\n",
      "Dimensioni:(1,1)non ha figlio\n",
      "flags: 100663360 posizione originale:9200 3120\n",
      "b'@\\x00\\x00\\x06'\n",
      "64\n",
      "0\n",
      "0\n",
      "6\n",
      "Tipo:6\n",
      "Posizione:(58,19)\n",
      "Dimensioni:(1,1)non ha figlio\n",
      "flags: 100663360 posizione originale:9360 3120\n",
      "b'@\\x00\\x00\\x06'\n",
      "64\n",
      "0\n",
      "0\n",
      "6\n",
      "Tipo:6\n",
      "Posizione:(59,19)\n",
      "Dimensioni:(1,1)non ha figlio\n",
      "flags: 100663360 posizione originale:9520 3120\n",
      "b'@\\x00\\x00\\x06'\n",
      "64\n",
      "0\n",
      "0\n",
      "6\n",
      "Tipo:6\n",
      "Posizione:(60,19)\n",
      "Dimensioni:(1,1)non ha figlio\n",
      "flags: 100663360 posizione originale:9680 3120\n",
      "b'@\\x00\\x00\\x06'\n",
      "64\n",
      "0\n",
      "0\n",
      "6\n",
      "Tipo:6\n",
      "Posizione:(61,19)\n",
      "Dimensioni:(1,1)non ha figlio\n",
      "flags: 100663360 posizione originale:9840 3120\n",
      "b'@\\x00\\x00\\x06'\n",
      "64\n",
      "0\n",
      "0\n",
      "6\n",
      "Tipo:6\n",
      "Posizione:(62,19)\n",
      "Dimensioni:(1,1)non ha figlio\n",
      "flags: 100663360 posizione originale:10000 3120\n",
      "b'@\\x00\\x00\\x06'\n",
      "64\n",
      "0\n",
      "0\n",
      "6\n",
      "Tipo:6\n",
      "Posizione:(63,19)\n",
      "Dimensioni:(1,1)non ha figlio\n",
      "flags: 100663360 posizione originale:10160 3120\n",
      "b'@\\x00\\x00\\x06'\n",
      "64\n",
      "0\n",
      "0\n",
      "6\n",
      "Tipo:6\n",
      "Posizione:(64,19)\n",
      "Dimensioni:(1,1)non ha figlio\n",
      "flags: 100663360 posizione originale:10320 3120\n",
      "b'@\\x00\\x00\\x06'\n",
      "64\n",
      "0\n",
      "0\n",
      "6\n",
      "Tipo:6\n",
      "Posizione:(64,18)\n",
      "Dimensioni:(1,1)non ha figlio\n",
      "flags: 100663360 posizione originale:10320 2960\n",
      "b'@\\x00\\x00\\x06'\n",
      "64\n",
      "0\n",
      "0\n",
      "6\n",
      "Tipo:6\n",
      "Posizione:(64,17)\n",
      "Dimensioni:(1,1)non ha figlio\n",
      "flags: 100663360 posizione originale:10320 2800\n",
      "b'@\\x00\\x00\\x06'\n",
      "64\n",
      "0\n",
      "0\n",
      "6\n",
      "Tipo:6\n",
      "Posizione:(64,16)\n",
      "Dimensioni:(1,1)non ha figlio\n",
      "flags: 100663360 posizione originale:10320 2640\n",
      "b'@\\x00\\x00\\x06'\n",
      "64\n",
      "0\n",
      "0\n",
      "6\n",
      "Tipo:6\n",
      "Posizione:(64,15)\n",
      "Dimensioni:(1,1)non ha figlio\n",
      "flags: 100663360 posizione originale:10320 2480\n",
      "b'@\\x00\\x00\\x06'\n",
      "64\n",
      "0\n",
      "0\n",
      "6\n",
      "Tipo:6\n",
      "Posizione:(64,14)\n",
      "Dimensioni:(1,1)non ha figlio\n",
      "flags: 100663360 posizione originale:10320 2320\n",
      "b'@\\x00\\x00\\x06'\n",
      "64\n",
      "0\n",
      "0\n",
      "6\n",
      "Tipo:6\n",
      "Posizione:(64,13)\n",
      "Dimensioni:(1,1)non ha figlio\n",
      "flags: 100663360 posizione originale:10320 2160\n",
      "b'@\\x00\\x00\\x06'\n",
      "64\n",
      "0\n",
      "0\n",
      "6\n",
      "Tipo:6\n",
      "Posizione:(63,13)\n",
      "Dimensioni:(1,1)non ha figlio\n",
      "flags: 100663360 posizione originale:10160 2160\n",
      "b'@\\x00\\x00\\x06'\n",
      "64\n",
      "0\n",
      "0\n",
      "6\n",
      "Tipo:6\n",
      "Posizione:(62,13)\n",
      "Dimensioni:(1,1)non ha figlio\n",
      "flags: 100663360 posizione originale:10000 2160\n",
      "b'@\\x00\\x00\\x06'\n",
      "64\n",
      "0\n",
      "0\n",
      "6\n",
      "Tipo:6\n",
      "Posizione:(61,13)\n",
      "Dimensioni:(1,1)non ha figlio\n",
      "flags: 100663360 posizione originale:9840 2160\n",
      "b'@\\x00\\x00\\x06'\n",
      "64\n",
      "0\n",
      "0\n",
      "6\n",
      "Tipo:6\n",
      "Posizione:(60,13)\n",
      "Dimensioni:(1,1)non ha figlio\n",
      "flags: 100663360 posizione originale:9680 2160\n",
      "b'@\\x00\\x00\\x06'\n",
      "64\n",
      "0\n",
      "0\n",
      "6\n",
      "Tipo:6\n",
      "Posizione:(59,13)\n",
      "Dimensioni:(1,1)non ha figlio\n",
      "flags: 100663360 posizione originale:9520 2160\n",
      "b'@\\x00\\x00\\x06'\n",
      "64\n",
      "0\n",
      "0\n",
      "6\n",
      "Tipo:6\n",
      "Posizione:(58,13)\n",
      "Dimensioni:(1,1)non ha figlio\n",
      "flags: 100663360 posizione originale:9360 2160\n",
      "b'@\\x00\\x00\\x06'\n",
      "64\n",
      "0\n",
      "0\n",
      "6\n",
      "Tipo:6\n",
      "Posizione:(57,13)\n",
      "Dimensioni:(1,1)non ha figlio\n",
      "flags: 100663360 posizione originale:9200 2160\n",
      "b'@\\x00\\x00\\x06'\n",
      "64\n",
      "0\n",
      "0\n",
      "6\n",
      "Tipo:6\n",
      "Posizione:(56,13)\n",
      "Dimensioni:(1,1)non ha figlio\n",
      "flags: 100663360 posizione originale:9040 2160\n",
      "b'@\\x00\\x00\\x06'\n",
      "64\n",
      "0\n",
      "0\n",
      "6\n",
      "Tipo:6\n",
      "Posizione:(56,14)\n",
      "Dimensioni:(1,1)non ha figlio\n",
      "flags: 100663360 posizione originale:9040 2320\n",
      "b'@\\x00\\x00\\x06'\n",
      "64\n",
      "0\n",
      "0\n",
      "6\n",
      "Tipo:6\n",
      "Posizione:(56,15)\n",
      "Dimensioni:(1,1)non ha figlio\n",
      "flags: 100663360 posizione originale:9040 2480\n",
      "b'@\\x00\\x00\\x06'\n",
      "64\n",
      "0\n",
      "0\n",
      "6\n",
      "Tipo:6\n",
      "Posizione:(56,17)\n",
      "Dimensioni:(1,1)non ha figlio\n",
      "flags: 100663360 posizione originale:9040 2800\n",
      "b'@\\x00\\x00\\x06'\n",
      "64\n",
      "0\n",
      "0\n",
      "6\n",
      "Tipo:6\n",
      "Posizione:(56,16)\n",
      "Dimensioni:(1,1)non ha figlio\n",
      "flags: 100663360 posizione originale:9040 2640\n",
      "b'@\\x00\\x00\\x06'\n",
      "64\n",
      "0\n",
      "0\n",
      "6\n",
      "Tipo:6\n",
      "Posizione:(56,18)\n",
      "Dimensioni:(1,1)non ha figlio\n",
      "flags: 100663360 posizione originale:9040 2960\n",
      "b'@\\x00\\x00\\x06'\n",
      "64\n",
      "0\n",
      "0\n",
      "6\n",
      "Tipo:6\n",
      "Posizione:(57,18)\n",
      "Dimensioni:(1,1)non ha figlio\n",
      "flags: 100663360 posizione originale:9200 2960\n",
      "b'@\\x00\\x00\\x06'\n",
      "64\n",
      "0\n",
      "0\n",
      "6\n",
      "Tipo:6\n",
      "Posizione:(58,18)\n",
      "Dimensioni:(1,1)non ha figlio\n",
      "flags: 100663360 posizione originale:9360 2960\n",
      "b'@\\x00\\x00\\x06'\n",
      "64\n",
      "0\n",
      "0\n",
      "6\n",
      "Tipo:6\n",
      "Posizione:(59,18)\n",
      "Dimensioni:(1,1)non ha figlio\n",
      "flags: 100663360 posizione originale:9520 2960\n",
      "b'@\\x00\\x00\\x06'\n",
      "64\n",
      "0\n",
      "0\n",
      "6\n",
      "Tipo:6\n",
      "Posizione:(60,18)\n",
      "Dimensioni:(1,1)non ha figlio\n",
      "flags: 100663360 posizione originale:9680 2960\n",
      "b'@\\x00\\x00\\x06'\n",
      "64\n",
      "0\n",
      "0\n",
      "6\n",
      "Tipo:6\n",
      "Posizione:(61,18)\n",
      "Dimensioni:(1,1)non ha figlio\n",
      "flags: 100663360 posizione originale:9840 2960\n",
      "b'@\\x00\\x00\\x06'\n",
      "64\n",
      "0\n",
      "0\n",
      "6\n",
      "Tipo:6\n",
      "Posizione:(62,18)\n",
      "Dimensioni:(1,1)non ha figlio\n",
      "flags: 100663360 posizione originale:10000 2960\n",
      "b'@\\x00\\x00\\x06'\n",
      "64\n",
      "0\n",
      "0\n",
      "6\n",
      "Tipo:6\n",
      "Posizione:(63,18)\n",
      "Dimensioni:(1,1)non ha figlio\n",
      "flags: 100663360 posizione originale:10160 2960\n",
      "b'@\\x00\\x00\\x06'\n",
      "64\n",
      "0\n",
      "0\n",
      "6\n",
      "Tipo:6\n",
      "Posizione:(63,17)\n",
      "Dimensioni:(1,1)non ha figlio\n",
      "flags: 100663360 posizione originale:10160 2800\n",
      "b'@\\x00\\x00\\x06'\n",
      "64\n",
      "0\n",
      "0\n",
      "6\n",
      "Tipo:6\n",
      "Posizione:(63,16)\n",
      "Dimensioni:(1,1)non ha figlio\n",
      "flags: 100663360 posizione originale:10160 2640\n",
      "b'@\\x00\\x00\\x06'\n",
      "64\n",
      "0\n",
      "0\n",
      "6\n",
      "Tipo:6\n",
      "Posizione:(63,15)\n",
      "Dimensioni:(1,1)non ha figlio\n",
      "flags: 100663360 posizione originale:10160 2480\n",
      "b'@\\x00\\x00\\x06'\n",
      "64\n",
      "0\n",
      "0\n",
      "6\n",
      "Tipo:6\n",
      "Posizione:(62,14)\n",
      "Dimensioni:(1,1)non ha figlio\n",
      "flags: 100663360 posizione originale:10000 2320\n",
      "b'@\\x00\\x00\\x06'\n",
      "64\n",
      "0\n",
      "0\n",
      "6\n",
      "Tipo:6\n",
      "Posizione:(63,14)\n",
      "Dimensioni:(1,1)non ha figlio\n",
      "flags: 100663360 posizione originale:10160 2320\n",
      "b'@\\x00\\x00\\x06'\n",
      "64\n",
      "0\n",
      "0\n",
      "6\n",
      "Tipo:6\n",
      "Posizione:(61,14)\n",
      "Dimensioni:(1,1)non ha figlio\n",
      "flags: 100663360 posizione originale:9840 2320\n",
      "b'@\\x00\\x00\\x06'\n",
      "64\n",
      "0\n",
      "0\n",
      "6\n",
      "Tipo:6\n",
      "Posizione:(60,14)\n",
      "Dimensioni:(1,1)non ha figlio\n",
      "flags: 100663360 posizione originale:9680 2320\n",
      "b'@\\x00\\x00\\x06'\n",
      "64\n",
      "0\n",
      "0\n",
      "6\n",
      "Tipo:6\n",
      "Posizione:(59,14)\n",
      "Dimensioni:(1,1)non ha figlio\n",
      "flags: 100663360 posizione originale:9520 2320\n",
      "b'@\\x00\\x00\\x06'\n",
      "64\n",
      "0\n",
      "0\n",
      "6\n",
      "Tipo:6\n",
      "Posizione:(58,14)\n",
      "Dimensioni:(1,1)non ha figlio\n",
      "flags: 100663360 posizione originale:9360 2320\n",
      "b'@\\x00\\x00\\x06'\n",
      "64\n",
      "0\n",
      "0\n",
      "6\n",
      "Tipo:6\n",
      "Posizione:(57,14)\n",
      "Dimensioni:(1,1)non ha figlio\n",
      "flags: 100663360 posizione originale:9200 2320\n",
      "b'@\\x00\\x00\\x06'\n",
      "64\n",
      "0\n",
      "0\n",
      "6\n",
      "Tipo:6\n",
      "Posizione:(57,15)\n",
      "Dimensioni:(1,1)non ha figlio\n",
      "flags: 100663360 posizione originale:9200 2480\n",
      "b'@\\x00\\x00\\x06'\n",
      "64\n",
      "0\n",
      "0\n",
      "6\n",
      "Tipo:6\n",
      "Posizione:(57,16)\n",
      "Dimensioni:(1,1)non ha figlio\n",
      "flags: 100663360 posizione originale:9200 2640\n",
      "b'@\\x00\\x00\\x06'\n",
      "64\n",
      "0\n",
      "0\n",
      "6\n",
      "Tipo:6\n",
      "Posizione:(58,15)\n",
      "Dimensioni:(1,1)non ha figlio\n",
      "flags: 100663360 posizione originale:9360 2480\n",
      "b'@\\x00\\x00\\x06'\n",
      "64\n",
      "0\n",
      "0\n",
      "6\n",
      "Tipo:6\n",
      "Posizione:(59,15)\n",
      "Dimensioni:(1,1)non ha figlio\n",
      "flags: 100663360 posizione originale:9520 2480\n",
      "b'@\\x00\\x00\\x06'\n",
      "64\n",
      "0\n",
      "0\n",
      "6\n",
      "Tipo:6\n",
      "Posizione:(61,17)\n",
      "Dimensioni:(1,1)non ha figlio\n",
      "flags: 100663360 posizione originale:9840 2800\n",
      "b'@\\x00\\x00\\x06'\n",
      "64\n",
      "0\n",
      "0\n",
      "6\n",
      "Tipo:6\n",
      "Posizione:(60,17)\n",
      "Dimensioni:(1,1)non ha figlio\n",
      "flags: 100663360 posizione originale:9680 2800\n",
      "b'@\\x00\\x00\\x06'\n",
      "64\n",
      "0\n",
      "0\n",
      "6\n",
      "Tipo:6\n",
      "Posizione:(62,17)\n",
      "Dimensioni:(1,1)non ha figlio\n",
      "flags: 100663360 posizione originale:10000 2800\n",
      "b'@\\x00\\x00\\x06'\n",
      "64\n",
      "0\n",
      "0\n",
      "6\n",
      "Tipo:6\n",
      "Posizione:(62,16)\n",
      "Dimensioni:(1,1)non ha figlio\n",
      "flags: 100663360 posizione originale:10000 2640\n",
      "b'@\\x00\\x00\\x06'\n",
      "64\n",
      "0\n",
      "0\n",
      "6\n",
      "Tipo:87\n",
      "Posizione:(66,19)\n",
      "Dimensioni:(4,2)non ha figlio\n",
      "flags: 101711936 posizione originale:10640 3120\n",
      "b'@\\x00\\x10\\x06'\n",
      "64\n",
      "0\n",
      "16\n",
      "6\n",
      "Tipo:6\n",
      "Posizione:(66,10)\n",
      "Dimensioni:(1,1)non ha figlio\n",
      "flags: 100663360 posizione originale:10640 1680\n",
      "b'@\\x00\\x00\\x06'\n",
      "64\n",
      "0\n",
      "0\n",
      "6\n",
      "Tipo:42\n",
      "Posizione:(26,11)\n",
      "Dimensioni:(2,3)non ha figlio\n",
      "flags: 100663488 posizione originale:4320 1840\n",
      "b'\\xc0\\x00\\x00\\x06'\n",
      "192\n",
      "0\n",
      "0\n",
      "6\n",
      "Tipo:98\n",
      "Posizione:(26,12)\n",
      "Dimensioni:(1,1)non ha figlio\n",
      "flags: 100663872 posizione originale:4320 2080\n",
      "b'@\\x02\\x00\\x06'\n",
      "64\n",
      "2\n",
      "0\n",
      "6\n",
      "Tipo:34\n",
      "Posizione:(26,5)\n",
      "Dimensioni:(1,1)non ha figlio\n",
      "flags: 100663393 posizione originale:4320 960\n",
      "b'a\\x00\\x00\\x06'\n",
      "97\n",
      "0\n",
      "0\n",
      "6\n",
      "Tipo:34\n",
      "Posizione:(27,4)\n",
      "Dimensioni:(1,1)non ha figlio\n",
      "flags: 100663329 posizione originale:4480 800\n",
      "b'!\\x00\\x00\\x06'\n",
      "33\n",
      "0\n",
      "0\n",
      "6\n",
      "Tipo:20\n",
      "Posizione:(26,3)\n",
      "Dimensioni:(1,1)non ha figlio\n",
      "flags: 100663361 posizione originale:4320 640\n",
      "b'A\\x00\\x00\\x06'\n",
      "65\n",
      "0\n",
      "0\n",
      "6\n",
      "Tipo:13\n",
      "Posizione:(61,2)\n",
      "Dimensioni:(1,8)non ha figlio\n",
      "flags: 100663360 posizione originale:9840 400\n",
      "b'@\\x00\\x00\\x06'\n",
      "64\n",
      "0\n",
      "0\n",
      "6\n",
      "Tipo:25\n",
      "Posizione:(66,7)\n",
      "Dimensioni:(1,1)non ha figlio\n",
      "flags: 100663360 posizione originale:10640 1200\n",
      "b'@\\x00\\x00\\x06'\n",
      "64\n",
      "0\n",
      "0\n",
      "6\n",
      "Tipo:25\n",
      "Posizione:(63,7)\n",
      "Dimensioni:(1,1)non ha figlio\n",
      "flags: 103810112 posizione originale:10160 1200\n",
      "b'@\\x040\\x06'\n",
      "64\n",
      "4\n",
      "48\n",
      "6\n",
      "Tipo:25\n",
      "Posizione:(69,9)\n",
      "Dimensioni:(1,1)non ha figlio\n",
      "flags: 100663364 posizione originale:11120 1520\n",
      "b'D\\x00\\x00\\x06'\n",
      "68\n",
      "0\n",
      "0\n",
      "6\n",
      "Tipo:25\n",
      "Posizione:(70,9)\n",
      "Dimensioni:(1,1)non ha figlio\n",
      "flags: 100663362 posizione originale:11280 1520\n",
      "b'B\\x00\\x00\\x06'\n",
      "66\n",
      "0\n",
      "0\n",
      "6\n",
      "Tipo:25\n",
      "Posizione:(72,3)\n",
      "Dimensioni:(2,2)non ha figlio\n",
      "flags: 100679744 posizione originale:11680 560\n",
      "b'@@\\x00\\x06'\n",
      "64\n",
      "64\n",
      "0\n",
      "6\n",
      "Tipo:25\n",
      "Posizione:(69,14)\n",
      "Dimensioni:(1,1)non ha figlio\n",
      "flags: 100696128 posizione originale:11120 2320\n",
      "b'@\\x80\\x00\\x06'\n",
      "64\n",
      "128\n",
      "0\n",
      "6\n",
      "Tipo:15\n",
      "Posizione:(54,9)\n",
      "Dimensioni:(2,2)non ha figlio\n",
      "flags: 100680772 posizione originale:8720 1520\n",
      "b'DD\\x00\\x06'\n",
      "68\n",
      "68\n",
      "0\n",
      "6\n",
      "Tipo:15\n",
      "Posizione:(66,5)\n",
      "Dimensioni:(1,1)non ha figlio\n",
      "flags: 100663364 posizione originale:10640 880\n",
      "b'D\\x00\\x00\\x06'\n",
      "68\n",
      "0\n",
      "0\n",
      "6\n",
      "Tipo:0\n",
      "Posizione:(60,11)\n",
      "Dimensioni:(1,1)non ha figlio\n",
      "flags: 100664384 posizione originale:9680 1840\n",
      "b'@\\x04\\x00\\x06'\n",
      "64\n",
      "4\n",
      "0\n",
      "6\n",
      "Tipo:11\n",
      "Posizione:(13,25)\n",
      "Dimensioni:(4,1)non ha figlio\n",
      "flags: 100663360 posizione originale:2240 4080\n",
      "b'@\\x00\\x00\\x06'\n",
      "64\n",
      "0\n",
      "0\n",
      "6\n",
      "Tipo:11\n",
      "Posizione:(10,22)\n",
      "Dimensioni:(4,1)non ha figlio\n",
      "flags: 101712976 posizione originale:1680 3600\n",
      "b'P\\x04\\x10\\x06'\n",
      "80\n",
      "4\n",
      "16\n",
      "6\n",
      "Tipo:11\n",
      "Posizione:(12,20)\n",
      "Dimensioni:(4,1)non ha figlio\n",
      "flags: 100664384 posizione originale:2000 3280\n",
      "b'@\\x04\\x00\\x06'\n",
      "64\n",
      "4\n",
      "0\n",
      "6\n",
      "Tipo:32\n",
      "Posizione:(40,14)\n",
      "Dimensioni:(4,4)non ha figlio\n",
      "flags: 104857664 posizione originale:6560 2320\n",
      "b'@\\x00@\\x06'\n",
      "64\n",
      "0\n",
      "64\n",
      "6\n",
      "Tipo:0\n",
      "Posizione:(37,13)\n",
      "Dimensioni:(1,1)non ha figlio\n",
      "flags: 100663360 posizione originale:6000 2160\n",
      "b'@\\x00\\x00\\x06'\n",
      "64\n",
      "0\n",
      "0\n",
      "6\n",
      "Tipo:0\n",
      "Posizione:(38,13)\n",
      "Dimensioni:(1,1)non ha figlio\n",
      "flags: 100663360 posizione originale:6160 2160\n",
      "b'@\\x00\\x00\\x06'\n",
      "64\n",
      "0\n",
      "0\n",
      "6\n",
      "Tipo:0\n",
      "Posizione:(39,13)\n",
      "Dimensioni:(1,1)non ha figlio\n",
      "flags: 100663360 posizione originale:6320 2160\n",
      "b'@\\x00\\x00\\x06'\n",
      "64\n",
      "0\n",
      "0\n",
      "6\n",
      "Tipo:0\n",
      "Posizione:(42,13)\n",
      "Dimensioni:(1,1)non ha figlio\n",
      "flags: 100663360 posizione originale:6800 2160\n",
      "b'@\\x00\\x00\\x06'\n",
      "64\n",
      "0\n",
      "0\n",
      "6\n",
      "Tipo:0\n",
      "Posizione:(43,13)\n",
      "Dimensioni:(1,1)non ha figlio\n",
      "flags: 100663360 posizione originale:6960 2160\n",
      "b'@\\x00\\x00\\x06'\n",
      "64\n",
      "0\n",
      "0\n",
      "6\n",
      "Tipo:0\n",
      "Posizione:(44,13)\n",
      "Dimensioni:(1,1)non ha figlio\n",
      "flags: 100667456 posizione originale:7120 2160\n",
      "b'@\\x10\\x00\\x06'\n",
      "64\n",
      "16\n",
      "0\n",
      "6\n",
      "Tipo:0\n",
      "Posizione:(44,14)\n",
      "Dimensioni:(1,1)non ha figlio\n",
      "flags: 100667456 posizione originale:7120 2320\n",
      "b'@\\x10\\x00\\x06'\n",
      "64\n",
      "16\n",
      "0\n",
      "6\n",
      "Tipo:0\n",
      "Posizione:(44,15)\n",
      "Dimensioni:(1,1)non ha figlio\n",
      "flags: 100667456 posizione originale:7120 2480\n",
      "b'@\\x10\\x00\\x06'\n",
      "64\n",
      "16\n",
      "0\n",
      "6\n",
      "Tipo:0\n",
      "Posizione:(44,16)\n",
      "Dimensioni:(1,1)non ha figlio\n",
      "flags: 100667456 posizione originale:7120 2640\n",
      "b'@\\x10\\x00\\x06'\n",
      "64\n",
      "16\n",
      "0\n",
      "6\n",
      "Tipo:0\n",
      "Posizione:(44,17)\n",
      "Dimensioni:(1,1)non ha figlio\n",
      "flags: 100667456 posizione originale:7120 2800\n",
      "b'@\\x10\\x00\\x06'\n",
      "64\n",
      "16\n",
      "0\n",
      "6\n",
      "Tipo:0\n",
      "Posizione:(44,19)\n",
      "Dimensioni:(1,1)non ha figlio\n",
      "flags: 100667456 posizione originale:7120 3120\n",
      "b'@\\x10\\x00\\x06'\n",
      "64\n",
      "16\n",
      "0\n",
      "6\n",
      "Tipo:0\n",
      "Posizione:(44,18)\n",
      "Dimensioni:(1,1)non ha figlio\n",
      "flags: 100667456 posizione originale:7120 2960\n",
      "b'@\\x10\\x00\\x06'\n",
      "64\n",
      "16\n",
      "0\n",
      "6\n",
      "Tipo:0\n",
      "Posizione:(44,20)\n",
      "Dimensioni:(1,1)non ha figlio\n",
      "flags: 100667456 posizione originale:7120 3280\n",
      "b'@\\x10\\x00\\x06'\n",
      "64\n",
      "16\n",
      "0\n",
      "6\n",
      "Tipo:0\n",
      "Posizione:(43,20)\n",
      "Dimensioni:(1,1)non ha figlio\n",
      "flags: 100663360 posizione originale:6960 3280\n",
      "b'@\\x00\\x00\\x06'\n",
      "64\n",
      "0\n",
      "0\n",
      "6\n",
      "Tipo:0\n",
      "Posizione:(42,20)\n",
      "Dimensioni:(1,1)non ha figlio\n",
      "flags: 100663360 posizione originale:6800 3280\n",
      "b'@\\x00\\x00\\x06'\n",
      "64\n",
      "0\n",
      "0\n",
      "6\n",
      "Tipo:0\n",
      "Posizione:(41,20)\n",
      "Dimensioni:(1,1)non ha figlio\n",
      "flags: 100663360 posizione originale:6640 3280\n",
      "b'@\\x00\\x00\\x06'\n",
      "64\n",
      "0\n",
      "0\n",
      "6\n",
      "Tipo:0\n",
      "Posizione:(40,20)\n",
      "Dimensioni:(1,1)non ha figlio\n",
      "flags: 100663360 posizione originale:6480 3280\n",
      "b'@\\x00\\x00\\x06'\n",
      "64\n",
      "0\n",
      "0\n",
      "6\n",
      "Tipo:0\n",
      "Posizione:(39,20)\n",
      "Dimensioni:(1,1)non ha figlio\n",
      "flags: 100663360 posizione originale:6320 3280\n",
      "b'@\\x00\\x00\\x06'\n",
      "64\n",
      "0\n",
      "0\n",
      "6\n",
      "Tipo:0\n",
      "Posizione:(38,20)\n",
      "Dimensioni:(1,1)non ha figlio\n",
      "flags: 100663360 posizione originale:6160 3280\n",
      "b'@\\x00\\x00\\x06'\n",
      "64\n",
      "0\n",
      "0\n",
      "6\n",
      "Tipo:0\n",
      "Posizione:(37,20)\n",
      "Dimensioni:(1,1)non ha figlio\n",
      "flags: 100667456 posizione originale:6000 3280\n",
      "b'@\\x10\\x00\\x06'\n",
      "64\n",
      "16\n",
      "0\n",
      "6\n",
      "Tipo:0\n",
      "Posizione:(37,19)\n",
      "Dimensioni:(1,1)non ha figlio\n",
      "flags: 100667456 posizione originale:6000 3120\n",
      "b'@\\x10\\x00\\x06'\n",
      "64\n",
      "16\n",
      "0\n",
      "6\n",
      "Tipo:0\n",
      "Posizione:(37,18)\n",
      "Dimensioni:(1,1)non ha figlio\n",
      "flags: 100667456 posizione originale:6000 2960\n",
      "b'@\\x10\\x00\\x06'\n",
      "64\n",
      "16\n",
      "0\n",
      "6\n",
      "Tipo:0\n",
      "Posizione:(39,4)\n",
      "Dimensioni:(1,1)non ha figlio\n",
      "flags: 100663360 posizione originale:6320 720\n",
      "b'@\\x00\\x00\\x06'\n",
      "64\n",
      "0\n",
      "0\n",
      "6\n",
      "Tipo:15\n",
      "Posizione:(59,20)\n",
      "Dimensioni:(1,1)non ha figlio\n",
      "flags: 100663360 posizione originale:9520 3280\n",
      "b'@\\x00\\x00\\x06'\n",
      "64\n",
      "0\n",
      "0\n",
      "6\n",
      "Tipo:0\n",
      "Posizione:(62,20)\n",
      "Dimensioni:(1,1)non ha figlio\n",
      "flags: 100663360 posizione originale:10000 3280\n",
      "b'@\\x00\\x00\\x06'\n",
      "64\n",
      "0\n",
      "0\n",
      "6\n",
      "Tipo:32\n",
      "Posizione:(60,23)\n",
      "Dimensioni:(4,4)non ha figlio\n",
      "flags: 100663360 posizione originale:9760 3760\n",
      "b'@\\x00\\x00\\x06'\n",
      "64\n",
      "0\n",
      "0\n",
      "6\n",
      "Tipo:84\n",
      "Posizione:(32,9)\n",
      "Dimensioni:(5,1)non ha figlio\n",
      "flags: 100663360 posizione originale:5200 1520\n",
      "b'@\\x00\\x00\\x06'\n",
      "64\n",
      "0\n",
      "0\n",
      "6\n",
      "Tipo:24\n",
      "Posizione:(32,7)\n",
      "Dimensioni:(1,1)non ha figlio\n",
      "flags: 104857664 posizione originale:5200 1200\n",
      "b'@\\x00@\\x06'\n",
      "64\n",
      "0\n",
      "64\n",
      "6\n",
      "Tipo:105\n",
      "Posizione:(32,17)\n",
      "Dimensioni:(3,4)non ha figlio\n",
      "flags: 100663488 posizione originale:5200 2800\n",
      "b'\\xc0\\x00\\x00\\x06'\n",
      "192\n",
      "0\n",
      "0\n",
      "6\n",
      "Tipo:1\n",
      "Posizione:(26,24)\n",
      "Dimensioni:(1,1)non ha figlio\n",
      "flags: 100663360 posizione originale:4240 3920\n",
      "b'@\\x00\\x00\\x06'\n",
      "64\n",
      "0\n",
      "0\n",
      "6\n",
      "Tipo:31\n",
      "Posizione:(17,19)\n",
      "Dimensioni:(2,4)non ha figlio\n",
      "flags: 100679872 posizione originale:2880 3120\n",
      "b'\\xc0@\\x00\\x06'\n",
      "192\n",
      "64\n",
      "0\n",
      "6\n",
      "Tipo:46\n",
      "Posizione:(17,20)\n",
      "Dimensioni:(2,2)non ha figlio\n",
      "flags: 100876352 posizione originale:2880 3280\n",
      "b'@@\\x03\\x06'\n",
      "64\n",
      "64\n",
      "3\n",
      "6\n",
      "Tipo:31\n",
      "Posizione:(21,19)\n",
      "Dimensioni:(2,3)non ha figlio\n",
      "flags: 100679872 posizione originale:3520 3120\n",
      "b'\\xc0@\\x00\\x06'\n",
      "192\n",
      "64\n",
      "0\n",
      "6\n",
      "Tipo:41\n",
      "Posizione:(21,20)\n",
      "Dimensioni:(2,2)non ha figlio\n",
      "flags: 100876352 posizione originale:3520 3280\n",
      "b'@@\\x03\\x06'\n",
      "64\n",
      "64\n",
      "3\n",
      "6\n",
      "Tipo:103\n",
      "Posizione:(17,12)\n",
      "Dimensioni:(1,1)non ha figlio\n",
      "flags: 100663360 posizione originale:2800 2000\n",
      "b'@\\x00\\x00\\x06'\n",
      "64\n",
      "0\n",
      "0\n",
      "6\n",
      "Tipo:105\n",
      "Posizione:(79,9)\n",
      "Dimensioni:(3,4)non ha figlio\n",
      "flags: 101712960 posizione originale:12720 1520\n",
      "b'@\\x04\\x10\\x06'\n",
      "64\n",
      "4\n",
      "16\n",
      "6\n",
      "Tipo:105\n",
      "Posizione:(79,7)\n",
      "Dimensioni:(3,4)non ha figlio\n",
      "flags: 100663360 posizione originale:12720 1200\n",
      "b'@\\x00\\x00\\x06'\n",
      "64\n",
      "0\n",
      "0\n",
      "6\n",
      "Tipo:105\n",
      "Posizione:(27,17)\n",
      "Dimensioni:(3,4)non ha figlio\n",
      "flags: 100663488 posizione originale:4400 2800\n",
      "b'\\xc0\\x00\\x00\\x06'\n",
      "192\n",
      "0\n",
      "0\n",
      "6\n",
      "Tipo:8\n",
      "Posizione:(27,16)\n",
      "Dimensioni:(1,1)non ha figlio\n",
      "flags: 234881088 posizione originale:4400 2660\n",
      "b'@\\x00\\x00\\x0e'\n",
      "64\n",
      "0\n",
      "0\n",
      "14\n",
      "Tipo:8\n",
      "Posizione:(27,15)\n",
      "Dimensioni:(1,1)non ha figlio\n",
      "flags: 100663360 posizione originale:4400 2480\n",
      "b'@\\x00\\x00\\x06'\n",
      "64\n",
      "0\n",
      "0\n",
      "6\n",
      "Tipo:11\n",
      "Posizione:(23,16)\n",
      "Dimensioni:(7,1)non ha figlio\n",
      "flags: 100663380 posizione originale:3760 2640\n",
      "b'T\\x00\\x00\\x06'\n",
      "84\n",
      "0\n",
      "0\n",
      "6\n",
      "Tipo:11\n",
      "Posizione:(17,16)\n",
      "Dimensioni:(4,1)non ha figlio\n",
      "flags: 100663364 posizione originale:2880 2640\n",
      "b'D\\x00\\x00\\x06'\n",
      "68\n",
      "0\n",
      "0\n",
      "6\n",
      "Tipo:0\n",
      "Posizione:(16,13)\n",
      "Dimensioni:(1,1)non ha figlio\n",
      "flags: 100663360 posizione originale:2640 2160\n",
      "b'@\\x00\\x00\\x06'\n",
      "64\n",
      "0\n",
      "0\n",
      "6\n",
      "Tipo:0\n",
      "Posizione:(20,13)\n",
      "Dimensioni:(1,1)non ha figlio\n",
      "flags: 100663360 posizione originale:3280 2160\n",
      "b'@\\x00\\x00\\x06'\n",
      "64\n",
      "0\n",
      "0\n",
      "6\n",
      "Tipo:11\n",
      "Posizione:(17,17)\n",
      "Dimensioni:(3,1)non ha figlio\n",
      "flags: 100663364 posizione originale:2800 2800\n",
      "b'D\\x00\\x00\\x06'\n",
      "68\n",
      "0\n",
      "0\n",
      "6\n",
      "Tipo:84\n",
      "Posizione:(41,24)\n",
      "Dimensioni:(4,1)non ha figlio\n",
      "flags: 100663360 posizione originale:6720 3920\n",
      "b'@\\x00\\x00\\x06'\n",
      "64\n",
      "0\n",
      "0\n",
      "6\n",
      "Tipo:84\n",
      "Posizione:(55,22)\n",
      "Dimensioni:(8,1)non ha figlio\n",
      "flags: 100663360 posizione originale:8960 3600\n",
      "b'@\\x00\\x00\\x06'\n",
      "64\n",
      "0\n",
      "0\n",
      "6\n",
      "Tipo:0\n",
      "Posizione:(55,23)\n",
      "Dimensioni:(1,1)non ha figlio\n",
      "flags: 100663360 posizione originale:8880 3760\n",
      "b'@\\x00\\x00\\x06'\n",
      "64\n",
      "0\n",
      "0\n",
      "6\n",
      "Tipo:0\n",
      "Posizione:(49,17)\n",
      "Dimensioni:(1,1)non ha figlio\n",
      "flags: 100663360 posizione originale:7920 2800\n",
      "b'@\\x00\\x00\\x06'\n",
      "64\n",
      "0\n",
      "0\n",
      "6\n",
      "Tipo:0\n",
      "Posizione:(41,23)\n",
      "Dimensioni:(1,1)non ha figlio\n",
      "flags: 100663360 posizione originale:6640 3760\n",
      "b'@\\x00\\x00\\x06'\n",
      "64\n",
      "0\n",
      "0\n",
      "6\n",
      "Tipo:84\n",
      "Posizione:(40,7)\n",
      "Dimensioni:(6,1)non ha figlio\n",
      "flags: 100663360 posizione originale:6560 1200\n",
      "b'@\\x00\\x00\\x06'\n",
      "64\n",
      "0\n",
      "0\n",
      "6\n",
      "Tipo:77\n",
      "Posizione:(32,15)\n",
      "Dimensioni:(4,4)non ha figlio\n",
      "flags: 234897472 posizione originale:5200 2520\n",
      "b'@@\\x00\\x0e'\n",
      "64\n",
      "64\n",
      "0\n",
      "14\n",
      "Tipo:91\n",
      "Posizione:(27,14)\n",
      "Dimensioni:(5,1)non ha figlio\n",
      "flags: 100663360 posizione originale:4400 2320\n",
      "b'@\\x00\\x00\\x06'\n",
      "64\n",
      "0\n",
      "0\n",
      "6\n",
      "Tipo:91\n",
      "Posizione:(22,14)\n",
      "Dimensioni:(5,1)non ha figlio\n",
      "flags: 100663360 posizione originale:3600 2320\n",
      "b'@\\x00\\x00\\x06'\n",
      "64\n",
      "0\n",
      "0\n",
      "6\n",
      "Tipo:0\n",
      "Posizione:(22,13)\n",
      "Dimensioni:(1,1)non ha figlio\n",
      "flags: 100663360 posizione originale:3600 2160\n",
      "b'@\\x00\\x00\\x06'\n",
      "64\n",
      "0\n",
      "0\n",
      "6\n",
      "Tipo:0\n",
      "Posizione:(27,21)\n",
      "Dimensioni:(1,1)non ha figlio\n",
      "flags: 100663360 posizione originale:4400 3440\n",
      "b'@\\x00\\x00\\x06'\n",
      "64\n",
      "0\n",
      "0\n",
      "6\n"
     ]
    }
   ],
   "source": [
    "for o in testM.mainLevelArea.objects:\n",
    "    print(o)\n",
    "    print(o.objectFlags.to_bytes(4, 'little'))\n",
    "    print(o.objectFlags.to_bytes(4, 'little')[0])\n",
    "    print(o.objectFlags.to_bytes(4, 'little')[1])\n",
    "    print(o.objectFlags.to_bytes(4, 'little')[2])\n",
    "    print(o.objectFlags.to_bytes(4, 'little')[3])"
   ]
  },
  {
   "cell_type": "code",
   "execution_count": 88,
   "metadata": {
    "scrolled": true
   },
   "outputs": [
    {
     "name": "stdout",
     "output_type": "stream",
     "text": [
      "57\n"
     ]
    }
   ],
   "source": [
    "for t in testM.mainLevelArea.tiles:\n",
    "    if t.yPosition == 3:\n",
    "        print(t.xPosition)"
   ]
  },
  {
   "cell_type": "code",
   "execution_count": 121,
   "metadata": {
    "scrolled": false
   },
   "outputs": [
    {
     "name": "stdout",
     "output_type": "stream",
     "text": [
      "Tipo:105\n",
      "Posizione:(32,17)\n",
      "Dimensioni:(3,4)non ha figlio\n",
      "flags: 100663488 posizione originale:5200 2800\n",
      "0\n",
      "25\n",
      "0\n",
      "Tipo:105\n",
      "Posizione:(79,9)\n",
      "Dimensioni:(3,4)non ha figlio\n",
      "flags: 101712960 posizione originale:12720 1520\n",
      "0\n",
      "29\n",
      "16\n",
      "Tipo:105\n",
      "Posizione:(79,7)\n",
      "Dimensioni:(3,4)non ha figlio\n",
      "flags: 100663360 posizione originale:12720 1200\n",
      "0\n",
      "43\n",
      "0\n",
      "Tipo:105\n",
      "Posizione:(27,17)\n",
      "Dimensioni:(3,4)non ha figlio\n",
      "flags: 100663488 posizione originale:4400 2800\n",
      "0\n",
      "44\n",
      "0\n"
     ]
    }
   ],
   "source": [
    "for o in testM.mainLevelArea.objects:\n",
    "    if o.objectType == 105:\n",
    "        print(o)\n",
    "        print(o.extendedData)\n",
    "        print(o.linkID)\n",
    "        print(o.objectFlags.to_bytes(4, 'little')[2])"
   ]
  },
  {
   "cell_type": "code",
   "execution_count": null,
   "metadata": {},
   "outputs": [],
   "source": []
  },
  {
   "cell_type": "code",
   "execution_count": 222,
   "metadata": {},
   "outputs": [
    {
     "name": "stdout",
     "output_type": "stream",
     "text": [
      "Tipo:90\n",
      "Posizione:(188,4)\n",
      "Dimensioni:(2,2)Ha figlio di tipo:20\n",
      "flags: 100663360 posizione originale:30240 720\n",
      "65535\n",
      "b'@\\x00\\x00\\x06'\n",
      "64\n",
      "0\n",
      "0\n",
      "6\n"
     ]
    }
   ],
   "source": [
    "for o in level.mainLevelArea.objects:\n",
    "    if o.objectType == 90:\n",
    "        print(o)\n",
    "        print(o.linkID)\n",
    "        print(o.objectFlags.to_bytes(4, 'little'))\n",
    "        print(o.objectFlags.to_bytes(4, 'little')[0])\n",
    "        print(o.objectFlags.to_bytes(4, 'little')[1])\n",
    "        print(o.objectFlags.to_bytes(4, 'little')[2])\n",
    "        print(o.objectFlags.to_bytes(4, 'little')[3])"
   ]
  },
  {
   "cell_type": "code",
   "execution_count": 74,
   "metadata": {},
   "outputs": [
    {
     "name": "stdout",
     "output_type": "stream",
     "text": [
      "Tipo:84\n",
      "Posizione:(50,18)\n",
      "Dimensioni:(5,1)non ha figlio\n",
      "flags: 100663360 posizione originale:8080 2960\n",
      "65535\n",
      "19\n",
      "b'@\\x00\\x00\\x06'\n",
      "64\n",
      "0\n",
      "0\n",
      "6\n",
      "Tipo:84\n",
      "Posizione:(43,7)\n",
      "Dimensioni:(6,1)non ha figlio\n",
      "flags: 100663360 posizione originale:7040 1200\n",
      "65535\n",
      "5\n",
      "b'@\\x00\\x00\\x06'\n",
      "64\n",
      "0\n",
      "0\n",
      "6\n",
      "Tipo:84\n",
      "Posizione:(32,9)\n",
      "Dimensioni:(5,1)non ha figlio\n",
      "flags: 100663360 posizione originale:5200 1520\n",
      "65535\n",
      "17\n",
      "b'@\\x00\\x00\\x06'\n",
      "64\n",
      "0\n",
      "0\n",
      "6\n",
      "Tipo:84\n",
      "Posizione:(41,24)\n",
      "Dimensioni:(4,1)non ha figlio\n",
      "flags: 100663360 posizione originale:6720 3920\n",
      "65535\n",
      "18\n",
      "b'@\\x00\\x00\\x06'\n",
      "64\n",
      "0\n",
      "0\n",
      "6\n"
     ]
    }
   ],
   "source": [
    "for o in testM.mainLevelArea.objects:\n",
    "    if o.objectType == 84:\n",
    "        print(o)\n",
    "        print(o.linkID)\n",
    "        print(o.extendedData)\n",
    "        print(o.objectFlags.to_bytes(4, 'little'))\n",
    "        print(o.objectFlags.to_bytes(4, 'little')[0])\n",
    "        print(o.objectFlags.to_bytes(4, 'little')[1])\n",
    "        print(o.objectFlags.to_bytes(4, 'little')[2])\n",
    "        print(o.objectFlags.to_bytes(4, 'little')[3])"
   ]
  },
  {
   "cell_type": "code",
   "execution_count": 44,
   "metadata": {},
   "outputs": [
    {
     "name": "stdout",
     "output_type": "stream",
     "text": [
      "0\n"
     ]
    },
    {
     "data": {
      "text/plain": [
       "0"
      ]
     },
     "execution_count": 44,
     "metadata": {},
     "output_type": "execute_result"
    }
   ],
   "source": [
    "asd = 100663296       \n",
    "a = asd.to_bytes(4, 'little')\n",
    "print(a[0])\n",
    "val = ((a[0]<<1) >> 6) & 3\n",
    "val<<5"
   ]
  },
  {
   "cell_type": "code",
   "execution_count": 83,
   "metadata": {},
   "outputs": [
    {
     "data": {
      "text/plain": [
       "0"
      ]
     },
     "execution_count": 83,
     "metadata": {},
     "output_type": "execute_result"
    }
   ],
   "source": [
    "32&6"
   ]
  },
  {
   "cell_type": "code",
   "execution_count": 78,
   "metadata": {},
   "outputs": [
    {
     "data": {
      "text/plain": [
       "True"
      ]
     },
     "execution_count": 78,
     "metadata": {},
     "output_type": "execute_result"
    }
   ],
   "source": [
    "x = 3\n",
    "#Check if the 1st bit is set:\n",
    "x&1 != 0\n",
    "#Returns True\n",
    "\n",
    "#Check if the 2nd bit is set:\n",
    "x&2 != 0\n",
    "#Returns True\n",
    "\n",
    "#Check if the 3rd bit is set:\n",
    "x&4 != 0\n",
    "#Returns False"
   ]
  },
  {
   "cell_type": "code",
   "execution_count": 86,
   "metadata": {},
   "outputs": [
    {
     "data": {
      "text/plain": [
       "32"
      ]
     },
     "execution_count": 86,
     "metadata": {},
     "output_type": "execute_result"
    }
   ],
   "source": [
    "48&32"
   ]
  },
  {
   "cell_type": "code",
   "execution_count": 207,
   "metadata": {},
   "outputs": [],
   "source": [
    "x = 101712960      "
   ]
  },
  {
   "cell_type": "code",
   "execution_count": 155,
   "metadata": {},
   "outputs": [
    {
     "data": {
      "text/plain": [
       "True"
      ]
     },
     "execution_count": 155,
     "metadata": {},
     "output_type": "execute_result"
    }
   ],
   "source": [
    "x.to_bytes(4, 'little')[1] & 4 != 0"
   ]
  },
  {
   "cell_type": "code",
   "execution_count": 114,
   "metadata": {},
   "outputs": [
    {
     "name": "stdout",
     "output_type": "stream",
     "text": [
      "70\n",
      "68\n",
      "0\n",
      "6\n"
     ]
    }
   ],
   "source": [
    "print(x.to_bytes(4, 'little')[0])\n",
    "print(x.to_bytes(4, 'little')[1])\n",
    "print(x.to_bytes(4, 'little')[2])\n",
    "print(x.to_bytes(4, 'little')[3])"
   ]
  },
  {
   "cell_type": "code",
   "execution_count": 208,
   "metadata": {},
   "outputs": [
    {
     "data": {
      "text/plain": [
       "True"
      ]
     },
     "execution_count": 208,
     "metadata": {},
     "output_type": "execute_result"
    }
   ],
   "source": [
    "x.to_bytes(4, 'little')[1] & 4 != 0"
   ]
  },
  {
   "cell_type": "code",
   "execution_count": null,
   "metadata": {},
   "outputs": [],
   "source": []
  }
 ],
 "metadata": {
  "kernelspec": {
   "display_name": "Python 3",
   "language": "python",
   "name": "python3"
  },
  "language_info": {
   "codemirror_mode": {
    "name": "ipython",
    "version": 3
   },
   "file_extension": ".py",
   "mimetype": "text/x-python",
   "name": "python",
   "nbconvert_exporter": "python",
   "pygments_lexer": "ipython3",
   "version": "3.7.3"
  }
 },
 "nbformat": 4,
 "nbformat_minor": 2
}
