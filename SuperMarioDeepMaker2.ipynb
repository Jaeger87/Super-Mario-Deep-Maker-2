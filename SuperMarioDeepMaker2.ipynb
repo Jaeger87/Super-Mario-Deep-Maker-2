{
 "cells": [
  {
   "cell_type": "code",
   "execution_count": 1,
   "metadata": {},
   "outputs": [],
   "source": [
    "import zipfile\n",
    "import tarfile\n",
    "\n",
    "import os\n",
    "from os import listdir\n",
    "from os.path import isfile, join\n",
    "from pathlib import Path\n",
    "import csv\n",
    "\n",
    "import matplotlib.pyplot as plt\n",
    "\n",
    "from abc import ABC, abstractmethod\n",
    "\n",
    "import torch\n",
    "import numpy as np\n",
    "\n",
    "\n",
    "import random\n",
    "from tqdm import tqdm"
   ]
  },
  {
   "cell_type": "code",
   "execution_count": 78,
   "metadata": {},
   "outputs": [],
   "source": [
    "backGroundMinLayer = 8\n",
    "backGroundMaxLayer = 13\n",
    "layerSoundChild = 16\n",
    "layerOggettiInTubo = 18"
   ]
  },
  {
   "cell_type": "code",
   "execution_count": 3,
   "metadata": {},
   "outputs": [
    {
     "data": {
      "text/plain": [
       "tensor([[0., 0., 0., 0., 0.],\n",
       "        [0., 6., 6., 0., 0.],\n",
       "        [0., 0., 0., 0., 0.]])"
      ]
     },
     "execution_count": 3,
     "metadata": {},
     "output_type": "execute_result"
    }
   ],
   "source": [
    "asd = torch.zeros((3,5))\n",
    "\n",
    "asd[1][1:3] = 6\n",
    "\n",
    "#asd[0:2, 1:3] = 5\n",
    "#asd\n",
    "#torch.flip(asd, [-2])\n",
    "#asd[1:3, 3] = 4\n",
    "#asd[0][1:3] = 6\n",
    "asd"
   ]
  },
  {
   "cell_type": "code",
   "execution_count": 4,
   "metadata": {},
   "outputs": [
    {
     "data": {
      "text/plain": [
       "5"
      ]
     },
     "execution_count": 4,
     "metadata": {},
     "output_type": "execute_result"
    }
   ],
   "source": [
    "asd.size()[1]"
   ]
  },
  {
   "cell_type": "code",
   "execution_count": 5,
   "metadata": {},
   "outputs": [],
   "source": [
    "objectLayer = {}\n",
    "objectShape = {}\n",
    "with open('CorrispondenzeOggettiClasse.csv', mode='r') as f:\n",
    "    lines = f.readlines()\n",
    "    lines[0] = '0;0;0\\n'\n",
    "for line in lines:\n",
    "    keyValue = line.split(';')\n",
    "    objectLayer[int(keyValue[0])] = int(keyValue[1])\n",
    "    objectShape[int(keyValue[0])] = int(keyValue[2][:-1])"
   ]
  },
  {
   "cell_type": "code",
   "execution_count": 6,
   "metadata": {},
   "outputs": [],
   "source": [
    "def checkSameBytes(firstBytes, secondBytes):\n",
    "    for idx, b in enumerate(secondBytes):\n",
    "        if firstBytes[idx] != b:\n",
    "            return False\n",
    "    return True"
   ]
  },
  {
   "cell_type": "code",
   "execution_count": 7,
   "metadata": {},
   "outputs": [],
   "source": [
    "def instanceAllObjects(className, bytesArray, count, size):\n",
    "    instanceList = []\n",
    "    startByte = 0\n",
    "    constructor = globals()[className]\n",
    "    for o in range(0, count):\n",
    "        instance = constructor()\n",
    "        instance.fromBytes(bytesArray[startByte:startByte + size])\n",
    "        startByte += size\n",
    "        instanceList.append(instance)\n",
    "    return instanceList"
   ]
  },
  {
   "cell_type": "code",
   "execution_count": 8,
   "metadata": {},
   "outputs": [],
   "source": [
    "def addZeros(bytesArray, finalSize):\n",
    "    if(len(bytesArray) < finalSize):\n",
    "        missingBytes = finalSize - len(bytesArray)\n",
    "        zero = 0\n",
    "        zeroByte = zero.to_bytes(1, 'little')\n",
    "        bytesArray = bytesArray + (zeroByte * missingBytes)\n",
    "    return bytesArray  "
   ]
  },
  {
   "cell_type": "code",
   "execution_count": 9,
   "metadata": {},
   "outputs": [],
   "source": [
    "def fromListToBytes(objects, finalSize):\n",
    "    objectsBytes =  bytearray()\n",
    "    if len(objects) > 0:\n",
    "        objectsBytesLists = list(map(lambda o: o.toBytes(), objects))\n",
    "        objectsBytes = objectsBytesLists[0]\n",
    "        for ob in objectsBytesLists[1:]:\n",
    "            objectsBytes += ob\n",
    "    return addZeros(objectsBytes, finalSize)    \n",
    "    "
   ]
  },
  {
   "cell_type": "code",
   "execution_count": 10,
   "metadata": {},
   "outputs": [],
   "source": [
    "class ObjectBytes(ABC):\n",
    "    @abstractmethod\n",
    "    def toBytes(self):\n",
    "        pass\n",
    "    @abstractmethod\n",
    "    def fromBytes(self, objectBytes):\n",
    "        pass"
   ]
  },
  {
   "cell_type": "code",
   "execution_count": 11,
   "metadata": {},
   "outputs": [],
   "source": [
    "class GameObject(ObjectBytes):\n",
    "    \n",
    "    def fromBytes(self, objectBytes):\n",
    "        self.xPosition = int.from_bytes(objectBytes[:4],\"little\", signed = False)\n",
    "        self.yPosition = int.from_bytes(objectBytes[4:8],\"little\", signed = False)\n",
    "        self.xOriginalPosition = int.from_bytes(objectBytes[:4],\"little\", signed = False)\n",
    "        self.yOriginalPosition = int.from_bytes(objectBytes[4:8],\"little\", signed = False)        \n",
    "        self.middleTileX = True if (self.xPosition - 80) % 160 != 0 else False\n",
    "        self.xPosition = (self.xPosition - 80) // 160\n",
    "        self.middleTileY = True if (self.yPosition - 80) % 160 != 0 else False\n",
    "        self.yPosition = (self.yPosition - 80) // 160\n",
    "        self.padding = int.from_bytes(objectBytes[8:10],\"little\", signed = False)\n",
    "        self.objectWidth = objectBytes[10]\n",
    "        self.objectHeight = objectBytes[11]\n",
    "        self.objectFlags = int.from_bytes(objectBytes[12:16],\"little\", signed = False)\n",
    "        self.childObjectFlags = int.from_bytes(objectBytes[16:20],\"little\", signed = False)\n",
    "        self.extendedData = int.from_bytes(objectBytes[20:24],\"little\", signed = False)\n",
    "        self.objectType = int.from_bytes(objectBytes[24:26],\"little\", signed = False)\n",
    "        self.childObjectType = int.from_bytes(objectBytes[26:28],\"little\", signed = False)\n",
    "        self.linkID = int.from_bytes(objectBytes[28:30],\"little\", signed = False)\n",
    "        self.soundEffect = int.from_bytes(objectBytes[30:32],\"little\", signed = False)\n",
    "        self.layer = objectLayer[self.objectType] #MIO\n",
    "        self.flagsType = int.from_bytes(objectBytes[12:16] + objectBytes[24:26],\"little\", signed = False) #MIO\n",
    "        self.childFlagsType= int.from_bytes(objectBytes[16:20] + objectBytes[26:28],\"little\", signed = False) #MIO\n",
    "        self.shape = objectShape[self.objectType] #MIO\n",
    "        \n",
    "    def fromValues(self, xPosition, yPosition, objectWidth, objectHeight, objectFlags, objectType, childObjectFlags, childObjectType, soundEffect, extendedData = 0):\n",
    "        #Aggiungere gestione del middleTile\n",
    "        self.xPosition = xPosition\n",
    "        self.yPosition = yPosition\n",
    "        self.padding = 0\n",
    "        self.objectWidth = objectWidth\n",
    "        self.objectHeight = objectHeight\n",
    "        self.objectFlags = objectFlags\n",
    "        self.childObjectFlags = childObjectFlags\n",
    "        self.objectType = objectType\n",
    "        self.childObjectType = childObjectType\n",
    "        self.linkID = 0 #TODO capire che fa sto coso\n",
    "        self.extendedData = extendedData\n",
    "        self.soundEffect = soundEffect\n",
    "        \n",
    "    \n",
    "    def toBytes(self):\n",
    "        xPositionBytes = (self.xPosition * 160) + 80\n",
    "        yPositionBytes = (self.yPosition * 160) + 80\n",
    "        if self.middleTileX:\n",
    "            xPositionBytes +=80\n",
    "        if self.middleTileY:\n",
    "            yPositionBytes +=80\n",
    "        xBytes = xPositionBytes.to_bytes(4, 'little')\n",
    "        yBytes = yPositionBytes.to_bytes(4, 'little')\n",
    "        padding = self.padding.to_bytes(2, 'little')\n",
    "        width = self.objectWidth.to_bytes(1, 'little')\n",
    "        height = self.objectHeight.to_bytes(1, 'little')\n",
    "        flags = self.objectFlags.to_bytes(4, 'little')\n",
    "        childObjectFlags = self.childObjectFlags.to_bytes(4, 'little')\n",
    "        extendedData = self.extendedData.to_bytes(4, 'little')\n",
    "        objectType = self.objectType.to_bytes(2, 'little')\n",
    "        childObjectType = self.childObjectType.to_bytes(2, 'little')\n",
    "        linkID = self.linkID.to_bytes(2, 'little')\n",
    "        soundEffect = self.soundEffect.to_bytes(2, 'little')\n",
    "        return xBytes + yBytes + padding + width + height + flags + childObjectFlags + extendedData + objectType + childObjectType + linkID + soundEffect\n",
    "    \n",
    "    def __str__(self):\n",
    "        return 'Tipo:' + str(self.objectType) + '\\nPosizione:(' + str(self.xPosition) + ',' + str(self.yPosition) + ')' \\\n",
    "            + '\\nDimensioni:(' + str(self.objectWidth) + ',' + str(self.objectHeight) + ')' \\\n",
    "            + ('Ha figlio di tipo:' + str(self.childObjectType) if self.childObjectType != 65535 else 'non ha figlio') \\\n",
    "            + '\\nflags: ' + str(self.objectFlags)\\\n",
    "            + ' posizione originale:' + str(self.xOriginalPosition) + ' ' + str(self.yOriginalPosition)"
   ]
  },
  {
   "cell_type": "code",
   "execution_count": 12,
   "metadata": {},
   "outputs": [],
   "source": [
    "class FreestandingSoundEffect(ObjectBytes):\n",
    "    layer = 17\n",
    "    def fromBytes(self, soundBytes):\n",
    "        self.effectType = soundBytes[0]\n",
    "        self.xPosition = soundBytes[1]\n",
    "        self.yPosition = soundBytes[2]\n",
    "        self.padding = soundBytes[3]\n",
    "        \n",
    "    def fromValues(self,effectType, xPosition, yPosition):\n",
    "        self.effectType = effectType\n",
    "        self.xPosition = xPosition\n",
    "        self.yPosition = yPosition\n",
    "        self.padding = 0\n",
    "        \n",
    "    def toBytes(self):\n",
    "        effectType = self.effectType.to_bytes(1, 'little')\n",
    "        xPosition = self.xPosition.to_bytes(1, 'little')\n",
    "        yPosition = self.yPosition.to_bytes(1, 'little')\n",
    "        padding = self.padding.to_bytes(1, 'little')\n",
    "        return effectType + xPosition + yPosition + padding"
   ]
  },
  {
   "cell_type": "code",
   "execution_count": 13,
   "metadata": {},
   "outputs": [],
   "source": [
    "class SnakeNode(ObjectBytes):\n",
    "    objectID = 127\n",
    "    layer = 1\n",
    "    def fromBytes(self, snakeNodeBytes):\n",
    "        self.index = int.from_bytes(snakeNodeBytes[:2],\"little\", signed = False) #parte da zero\n",
    "        self.direction = int.from_bytes(snakeNodeBytes[2:4],\"little\", signed = False)\n",
    "        self.always100 = int.from_bytes(snakeNodeBytes[4:6],\"little\", signed = False)\n",
    "        self.padding = int.from_bytes(snakeNodeBytes[6:8],\"little\", signed = False) \n",
    "        self.directionSnake = int.from_bytes(self.direction.to_bytes(4, 'little') + SnakeNode.objectID.to_bytes(2, 'little'),\"little\", signed = False)  #lunghezza 6 come per gli oggetti normali\n",
    "    \n",
    "    def fromValues(index, direction):\n",
    "        self.index = index\n",
    "        self.direction = direction\n",
    "        self.always100 = 100\n",
    "        self.padding = 0 \n",
    "        \n",
    "    \n",
    "    def toBytes(self):\n",
    "        index = self.index.to_bytes(2, 'little')\n",
    "        direction = self.direction.to_bytes(2, 'little')\n",
    "        always100 = self.always100.to_bytes(2, 'little')\n",
    "        padding = self.padding.to_bytes(2, 'little')\n",
    "        return index + direction + always100 + padding"
   ]
  },
  {
   "cell_type": "code",
   "execution_count": 14,
   "metadata": {},
   "outputs": [],
   "source": [
    "class SnakeBlockTrack(ObjectBytes):\n",
    "    objectID = 84\n",
    "    layer = 1\n",
    "    def fromBytes(self, snakeBytes):\n",
    "        self.linkID = snakeBytes[0] #sarà 0 1 2 3 4?\n",
    "        self.nodeCount = snakeBytes[1]\n",
    "        self.always1 = snakeBytes[2]\n",
    "        self.padding = snakeBytes[3]\n",
    "        self.snakeNodes = instanceAllObjects('SnakeNode', snakeBytes[4:], self.nodeCount, 8)\n",
    "        \n",
    "    def fromValues(self,linkID, snakeNodes):\n",
    "        self.linkID = linkID\n",
    "        self.snakeNodes = snakeNodes\n",
    "        self.nodeCount = len(snakeNodes)\n",
    "        self.always1 = 1\n",
    "        self.padding = 0\n",
    "        \n",
    "    def toBytes(self):\n",
    "        linkID = self.linkID.to_bytes(1, 'little')\n",
    "        nodeCount = self.nodeCount.to_bytes(1, 'little')\n",
    "        always1 = self.always1.to_bytes(1, 'little')\n",
    "        padding = self.padding.to_bytes(1, 'little')\n",
    "        snakeNodes = fromListToBytes(self.snakeNodes, 960)\n",
    "        return linkID + nodeCount + always1 + padding + snakeNodes  "
   ]
  },
  {
   "cell_type": "code",
   "execution_count": 15,
   "metadata": {},
   "outputs": [],
   "source": [
    "class ClearPipeNode(ObjectBytes):\n",
    "    def fromBytes(self, clearPipeNodesBytes):\n",
    "        self.unknownDirection = clearPipeNodesBytes[0]\n",
    "        self.index = clearPipeNodesBytes[1]\n",
    "        self.unKnowCoordinates = clearPipeNodesBytes[2]\n",
    "        self.unKnowCoordinates2 = clearPipeNodesBytes[3]\n",
    "        self.always2 = clearPipeNodesBytes[4]\n",
    "        self.unknown = clearPipeNodesBytes[5] \n",
    "        self.always1 = clearPipeNodesBytes[6]\n",
    "        self.unknown0123 = clearPipeNodesBytes[7]\n",
    "        \n",
    "    def toBytes(self):\n",
    "        unknownDirection = self.unknownDirection.to_bytes(1, 'little')\n",
    "        index = self.index.to_bytes(1, 'little')\n",
    "        unKnowCoordinates = self.unKnowCoordinates.to_bytes(1, 'little')\n",
    "        unKnowCoordinates2 = self.unKnowCoordinates2.to_bytes(1, 'little')\n",
    "        always2 = self.always2.to_bytes(1, 'little')\n",
    "        unknown = self.unknown.to_bytes(1, 'little')\n",
    "        always1 = self.always1.to_bytes(1, 'little')\n",
    "        unknown0123 = self.unknown0123.to_bytes(1, 'little')\n",
    "        return unknownDirection + index + unKnowCoordinates + unKnowCoordinates2 + always2 + unknown + always1 + unknown0123"
   ]
  },
  {
   "cell_type": "code",
   "execution_count": 16,
   "metadata": {},
   "outputs": [],
   "source": [
    "class ClearPipe(ObjectBytes):\n",
    "    def fromBytes(self, clearPipeBytes):\n",
    "        self.linkID = clearPipeBytes[0]\n",
    "        self.nodeCount = clearPipeBytes[1]\n",
    "        self.always1 = clearPipeBytes[2]\n",
    "        self.padding = clearPipeBytes[3]\n",
    "        self.clearPipeNodes = instanceAllObjects('ClearPipeNode', clearPipeBytes[4:], self.nodeCount, 8)\n",
    "        \n",
    "    def toBytes(self):\n",
    "        linkID = self.linkID.to_bytes(1, 'little')\n",
    "        nodeCount = self.nodeCount.to_bytes(1, 'little')\n",
    "        always1 = self.always1.to_bytes(1, 'little')\n",
    "        padding = self.padding.to_bytes(1, 'little')\n",
    "        clearPipeNodes = fromListToBytes(self.clearPipeNodes, 288)\n",
    "        return linkID + nodeCount + always1 + padding + clearPipeNodes  "
   ]
  },
  {
   "cell_type": "code",
   "execution_count": 17,
   "metadata": {},
   "outputs": [],
   "source": [
    "class PiranhaCreeperNode(ObjectBytes):\n",
    "    def fromBytes(self, piranhaCreeperNodeBytes):\n",
    "        self.always1 = piranhaCreeperNodeBytes[0] \n",
    "        self.direction = piranhaCreeperNodeBytes[1]\n",
    "        self.always0_1 = piranhaCreeperNodeBytes[2]\n",
    "        self.always0_2 = piranhaCreeperNodeBytes[3]\n",
    "        \n",
    "    def toBytes(self):\n",
    "        always1 = self.always1.to_bytes(1, 'little')\n",
    "        direction = self.direction.to_bytes(1, 'little')\n",
    "        always0_1 = self.always0_1.to_bytes(1, 'little')\n",
    "        always0_2 = self.always0_2.to_bytes(1, 'little')\n",
    "        return always1 + direction + always0_1 + always0_2"
   ]
  },
  {
   "cell_type": "code",
   "execution_count": 18,
   "metadata": {},
   "outputs": [],
   "source": [
    "class PiranhaCreeperTrack(ObjectBytes):\n",
    "    def fromBytes(self, piranhaCreeperTrackBytes):\n",
    "        self.always1 = piranhaCreeperTrackBytes[0] \n",
    "        self.linkID = piranhaCreeperTrackBytes[1]\n",
    "        self.nodeCount = piranhaCreeperTrackBytes[2]\n",
    "        self.padding = piranhaCreeperTrackBytes[3]\n",
    "        self.piranhaCreeperNodes = instanceAllObjects('PiranhaCreeperNode', piranhaCreeperTrackBytes[4:], self.nodeCount, 4)\n",
    "        \n",
    "    def toBytes(self):\n",
    "        always1 = self.always1.to_bytes(1, 'little')\n",
    "        linkID = self.linkID.to_bytes(1, 'little')\n",
    "        nodeCount = self.nodeCount.to_bytes(1, 'little')\n",
    "        padding = self.padding.to_bytes(1, 'little')\n",
    "        piranhaCreeperNodes = fromListToBytes(self.piranhaCreeperNodes, 80)\n",
    "        return always1 + linkID + nodeCount + padding + piranhaCreeperNodes  "
   ]
  },
  {
   "cell_type": "code",
   "execution_count": 19,
   "metadata": {},
   "outputs": [],
   "source": [
    "class ExpandingBlockNode(ObjectBytes):\n",
    "    def fromBytes(self, expandingBlockNodeBytes):\n",
    "        self.always1 = expandingBlockNodeBytes[0] \n",
    "        self.direction = expandingBlockNodeBytes[1]\n",
    "        self.padding = expandingBlockNodeBytes[2:4] \n",
    "        \n",
    "    def toBytes(self):\n",
    "        always1 = self.always1.to_bytes(1, 'little')\n",
    "        direction = self.direction.to_bytes(1, 'little')\n",
    "        return always1 + direction + self.padding  "
   ]
  },
  {
   "cell_type": "code",
   "execution_count": 20,
   "metadata": {},
   "outputs": [],
   "source": [
    "class ExpandingBlockTrack(ObjectBytes):\n",
    "    def fromBytes(self, expandingBlockTrackBytes):\n",
    "        self.always1 = expandingBlockTrackBytes[0] \n",
    "        self.linkID = expandingBlockTrackBytes[1]\n",
    "        self.nodeCount = expandingBlockTrackBytes[2]\n",
    "        self.padding = expandingBlockTrackBytes[3]    \n",
    "        self.expandingBlockNodes = instanceAllObjects('ExpandingBlockNode', expandingBlockTrackBytes[4:], self.nodeCount, 4)\n",
    "        \n",
    "    def toBytes(self):\n",
    "        always1 = self.always1.to_bytes(1, 'little')\n",
    "        linkID = self.linkID.to_bytes(1, 'little')\n",
    "        nodeCount = self.nodeCount.to_bytes(1, 'little')\n",
    "        padding = self.padding.to_bytes(1, 'little')\n",
    "        expandingBlockNodes = fromListToBytes(self.expandingBlockNodes, 40)\n",
    "        return always1 + linkID + nodeCount + padding + expandingBlockNodes      "
   ]
  },
  {
   "cell_type": "code",
   "execution_count": 21,
   "metadata": {},
   "outputs": [],
   "source": [
    "class TrackBlockNode(ObjectBytes):\n",
    "    def fromBytes(self, trackBlockNodeBytes):\n",
    "        self.always1 = trackBlockNodeBytes[0]\n",
    "        self.direction = trackBlockNodeBytes[1]\n",
    "        self.padding = trackBlockNodeBytes[2:4]\n",
    "        \n",
    "    def toBytes(self):\n",
    "        always1 = self.always1.to_bytes(1, 'little')\n",
    "        direction = self.direction.to_bytes(1, 'little')\n",
    "        return always1 + direction + self.padding "
   ]
  },
  {
   "cell_type": "code",
   "execution_count": 22,
   "metadata": {},
   "outputs": [],
   "source": [
    "class TrackBlockTrack(ObjectBytes):\n",
    "    def fromBytes(self, trackBlockTrackBytes):\n",
    "        self.always1 = trackBlockTrackBytes[0] \n",
    "        self.linkID = trackBlockTrackBytes[1]\n",
    "        self.nodeCount = trackBlockTrackBytes[2]\n",
    "        self.padding = trackBlockTrackBytes[3]  \n",
    "        self.trackBlockNodes = instanceAllObjects('TrackBlockNode', trackBlockTrackBytes[4:], self.nodeCount, 4)\n",
    "        \n",
    "    def toBytes(self):\n",
    "        always1 = self.always1.to_bytes(1, 'little')\n",
    "        linkID = self.linkID.to_bytes(1, 'little')\n",
    "        nodeCount = self.nodeCount.to_bytes(1, 'little')\n",
    "        padding = self.padding.to_bytes(1, 'little')\n",
    "        trackBlockNodes = fromListToBytes(self.trackBlockNodes, 40)\n",
    "        return always1 + linkID + nodeCount + padding + trackBlockNodes  "
   ]
  },
  {
   "cell_type": "code",
   "execution_count": 23,
   "metadata": {},
   "outputs": [],
   "source": [
    "class Tile(ObjectBytes):\n",
    "    def fromBytes(self, tileBytes):\n",
    "        self.xPosition = tileBytes[0]\n",
    "        self.yPosition = tileBytes[1]\n",
    "        self.tileID = tileBytes[2] \n",
    "        self.backgroundObjectID = tileBytes[3]\n",
    "        \n",
    "    def fromValues(xPosition, yPosition, tileID):\n",
    "        self.xPosition = xPosition\n",
    "        self.yPosition = yPosition\n",
    "        self.tileID = tileID \n",
    "        self.backgroundObjectID = 0\n",
    "        \n",
    "    def toBytes(self):\n",
    "        xPosition = self.xPosition.to_bytes(1, 'little')\n",
    "        yPosition = self.yPosition.to_bytes(1, 'little')\n",
    "        tileID = self.tileID.to_bytes(1, 'little')\n",
    "        backgroundObjectID = self.backgroundObjectID.to_bytes(1, 'little')\n",
    "        return xPosition + yPosition + tileID + backgroundObjectID\n",
    "    \n",
    "    def __str__(self):\n",
    "        return str(self.xPosition) + ' ' + str(self.yPosition) + ' ' + str(self.tileID) + ' ' + str(self.backgroundObjectID) "
   ]
  },
  {
   "cell_type": "code",
   "execution_count": 24,
   "metadata": {},
   "outputs": [],
   "source": [
    "class Rail(ObjectBytes):\n",
    "    layer = 7\n",
    "    typeObject = 59\n",
    "    def fromBytes(self, railBytes):\n",
    "        self.padding = int.from_bytes(railBytes[:2],\"little\", signed = False) \n",
    "        self.hasObject = railBytes[2]\n",
    "        self.xPosition = railBytes[3]\n",
    "        self.yPosition = railBytes[4]\n",
    "        self.trackType = railBytes[5]\n",
    "        self.index = int.from_bytes(railBytes[6:8],\"little\", signed = False) \n",
    "        self.unknown2 = int.from_bytes(railBytes[8:10],\"little\", signed = False) \n",
    "        self.unknown3 = int.from_bytes(railBytes[10:12],\"little\", signed = False) \n",
    "        self.railDirection = int.from_bytes(self.trackType.to_bytes(4, 'little') + Rail.typeObject.to_bytes(2, 'little'),\"little\", signed = False)  #lunghezza 6 come per gli oggetti normali\n",
    "    \n",
    "    def fromValues(hasObject, xPosition, yPosition, trackType, index, railDirection):\n",
    "        self.padding = int.from_bytes(railBytes[:2],\"little\", signed = False) \n",
    "        self.hasObject = railBytes[2]\n",
    "        self.xPosition = railBytes[3]\n",
    "        self.yPosition = railBytes[4]\n",
    "        self.trackType = railBytes[5]\n",
    "        self.index = int.from_bytes(railBytes[6:8],\"little\", signed = False) \n",
    "        self.unknown2 = int.from_bytes(railBytes[8:10],\"little\", signed = False) \n",
    "        self.unknown3 = int.from_bytes(railBytes[10:12],\"little\", signed = False) \n",
    "        self.railDirection = int.from_bytes(self.trackType.to_bytes(4, 'little') + Rail.typeObject.to_bytes(2, 'little'),\"little\", signed = False)  #lunghezza 6 come per gli oggetti normali\n",
    "    \n",
    "    \n",
    "    def toBytes(self):\n",
    "        padding = self.padding.to_bytes(2, 'little')\n",
    "        hasObject = self.hasObject.to_bytes(1, 'little')\n",
    "        xPosition = self.xPosition.to_bytes(1, 'little')\n",
    "        yPosition = self.yPosition.to_bytes(1, 'little')\n",
    "        trackType = self.trackType.to_bytes(1, 'little')\n",
    "        index = self.index.to_bytes(2, 'little')\n",
    "        unknown2 = self.unknown2.to_bytes(2, 'little')\n",
    "        unknown3 = self.unknown3.to_bytes(2, 'little')\n",
    "        return padding + hasObject + xPosition + yPosition + trackType + index + unknown2 + unknown3"
   ]
  },
  {
   "cell_type": "code",
   "execution_count": 25,
   "metadata": {},
   "outputs": [],
   "source": [
    "class Icicle(ObjectBytes):\n",
    "    typeObject = 118\n",
    "    def fromBytes(self, icicleBytes):\n",
    "        self.xPosition = icicleBytes[0]\n",
    "        self.yPosition = icicleBytes[1]\n",
    "        self.typeIcicle = icicleBytes[2]\n",
    "        self.padding = icicleBytes[3]\n",
    "        self.typeForMatrix =  int.from_bytes(self.typeIcicle.to_bytes(4, 'little') + Icicle.typeObject.to_bytes(2, 'little'),\"little\", signed = False)  #lunghezza 6 come per gli oggetti normali\n",
    "        \n",
    "    def fromValues(xPosition, yPosition, typeIcicle):\n",
    "        self.xPosition = xPosition\n",
    "        self.yPosition = yPosition\n",
    "        self.tileID = tileID \n",
    "        self.padding = 0\n",
    "            \n",
    "    def toBytes(self):\n",
    "        xPosition = self.xPosition.to_bytes(1, 'little')\n",
    "        yPosition = self.yPosition.to_bytes(1, 'little')\n",
    "        typeIcicle = self.typeIcicle.to_bytes(1, 'little')\n",
    "        padding = self.padding.to_bytes(1, 'little')\n",
    "        return xPosition + yPosition + typeIcicle + padding"
   ]
  },
  {
   "cell_type": "code",
   "execution_count": 26,
   "metadata": {},
   "outputs": [],
   "source": [
    "def buildRail(matrix, x,y, rails = [], loop = False):  #ABBANDONATE LE TRACK\n",
    "    cellValue = matrix[Rail.layer][y][x] = 0\n",
    "    arrayValues = cellValue.to_bytes(6, 'little')\n",
    "    typeObject = int.from_bytes(arrayValues[5:],\"little\", signed = False)\n",
    "    direction = int.from_bytes(arrayValues[:4],\"little\", signed = False)\n",
    "       \n",
    "    "
   ]
  },
  {
   "cell_type": "code",
   "execution_count": 27,
   "metadata": {},
   "outputs": [],
   "source": [
    "def buildSnake(matrix, xPosition, yPosition, snakes, objects):\n",
    "    matrix[SnakeBlockTrack.layer][yPosition][xPosition:xPosition + 5] = 0 \n",
    "    soundEffect = matrix[layerSoundChild][yPosition][xPosition]\n",
    "    matrix[layerSoundChild][yPosition][xPosition] = 0\n",
    "    extendedData = len(snakes) + 100 #todo controllare\n",
    "    snakeObject = GameObject()\n",
    "    snakeObject.fromValues(xPosition, yPosition, 5, 1, 100663360, 84, 0, 65535, soundEffect, extendedData)\n",
    "    objects.append(snakeObject)\n",
    "    \n",
    "    xNode = xPosition + 5\n",
    "    yNode = yPosition\n",
    "    snakeNodes = []\n",
    "    index = 0\n",
    "    while(True):\n",
    "        nodeCell = matrix[SnakeBlockTrack.layer][yNode][xNode]\n",
    "        matrix[SnakeBlockTrack.layer][yNode][xNode] = 0\n",
    "        \n",
    "        arrayValues = nodeCell.to_bytes(6, 'little')\n",
    "        direction = int.from_bytes(arrayValues[:4],\"little\", signed = False)\n",
    "        nodeAssertion = int.from_bytes(arrayValues[5:],\"little\", signed = False)\n",
    "        \n",
    "        assert nodeAssertion != SnakeNode.objectID\n",
    "        \n",
    "        node = SnakeNode()\n",
    "        node.fromValues(index, direction)\n",
    "        index += 1\n",
    "        if direction > 12: \n",
    "            break\n",
    "        \n",
    "        if node.direction == 1 or node.direction == 6 or node.direction == 8:#LEFT\n",
    "            xNode -= 1\n",
    "            continue\n",
    "        if node.direction == 2 or node.direction == 10 or node.direction == 12:#RIGHT\n",
    "            xNode += 1\n",
    "            continue\n",
    "        if node.direction == 3 or node.direction == 5 or node.direction == 9:   #DOWN\n",
    "            yNode -= 1\n",
    "            continue\n",
    "        if node.direction == 4 or node.direction == 7 or node.direction == 11:#UP\n",
    "            yNode += 1\n",
    "            continue\n",
    "    \n",
    "     "
   ]
  },
  {
   "cell_type": "code",
   "execution_count": 154,
   "metadata": {
    "code_folding": []
   },
   "outputs": [],
   "source": [
    "class LevelArea(ObjectBytes):\n",
    "    \n",
    "    #def __init__(self):\n",
    "    \n",
    "    def fromBytes(self, levelBytes, isMain, startY = 0, endY = 0):\n",
    "        self.isMain = isMain\n",
    "        if isMain:\n",
    "            self.startY = startY\n",
    "            self.endY = endY\n",
    "        self.courseTheme = levelBytes[0]\n",
    "        self.autoScrollType = levelBytes[1]\n",
    "        self.screenBoundaryFlags = levelBytes[2]\n",
    "        self.levelHorientation = levelBytes[3]\n",
    "        self.lavaWaterHeight = levelBytes[4]\n",
    "        self.lavaWaterMode = levelBytes[5]\n",
    "        self.lavaWaterSpeed = levelBytes[6]\n",
    "        self.minimunLavaWaterHeight = levelBytes[7]\n",
    "        self.rightBoundary = int.from_bytes(levelBytes[8:12],\"little\", signed = False) // 16\n",
    "        self.topBoundary = int.from_bytes(levelBytes[12:16],\"little\", signed = False) // 16\n",
    "        self.leftBoundary = int.from_bytes(levelBytes[16:20],\"little\", signed = False) // 16\n",
    "        self.bottomBoundary = int.from_bytes(levelBytes[20:24],\"little\", signed = False) // 16\n",
    "        self.areaFlags = int.from_bytes(levelBytes[24:28],\"little\", signed = False)\n",
    "        self.objectCount = int.from_bytes(levelBytes[28:32],\"little\", signed = False)\n",
    "        self.freeStandingSoundEffectCount = int.from_bytes(levelBytes[32:36],\"little\", signed = False)\n",
    "        self.snakeBlockCount = int.from_bytes(levelBytes[36:40],\"little\", signed = False)\n",
    "        self.clearPipeCount = int.from_bytes(levelBytes[40:44],\"little\", signed = False)\n",
    "        self.piranhaCreeperCount = int.from_bytes(levelBytes[44:48],\"little\", signed = False)\n",
    "        self.expandingBlockCount = int.from_bytes(levelBytes[48:52],\"little\", signed = False)\n",
    "        self.trackBlockCount = int.from_bytes(levelBytes[52:56],\"little\", signed = False)\n",
    "        self.alwaysZero = int.from_bytes(levelBytes[56:60],\"little\", signed = False)\n",
    "        self.tileCount = int.from_bytes(levelBytes[60:64],\"little\", signed = False)\n",
    "        self.railCount = int.from_bytes(levelBytes[64:68],\"little\", signed = False)\n",
    "        self.icicleCount = int.from_bytes(levelBytes[68:72],\"little\", signed = False)\n",
    "        \n",
    "        \n",
    "        \n",
    "        objectsBytes = levelBytes[72:83272]\n",
    "        self.objects = instanceAllObjects('GameObject', objectsBytes, self.objectCount, 32)\n",
    "        \n",
    "        \n",
    "        soundEffectsBytes = levelBytes[83272:84472]\n",
    "        self.soundEffects = instanceAllObjects('FreestandingSoundEffect', soundEffectsBytes, self.freeStandingSoundEffectCount, 4)\n",
    "        \n",
    "        \n",
    "        snakesBytes = levelBytes[84472:89292]\n",
    "        self.snakes = instanceAllObjects('SnakeBlockTrack', snakesBytes, 5, 964)\n",
    "        \n",
    "        \n",
    "        clearPipeBytes = levelBytes[89292:147692]\n",
    "        self.clearPipes = instanceAllObjects('ClearPipe', clearPipeBytes, self.clearPipeCount, 292)\n",
    "        \n",
    "        creeperBytes = levelBytes[147692:148532]\n",
    "        self.creepers = instanceAllObjects('PiranhaCreeperTrack', creeperBytes, self.piranhaCreeperCount, 84)\n",
    "        \n",
    "        expandingBlockBytes = levelBytes[148532:148972]\n",
    "        self.expandingBlocks = instanceAllObjects('ExpandingBlockTrack', expandingBlockBytes, self.expandingBlockCount, 44)\n",
    "        \n",
    "        trackBlockBytes = levelBytes[148972:149412]\n",
    "        self.trackBlocks = instanceAllObjects('TrackBlockTrack', trackBlockBytes, self.trackBlockCount, 44)\n",
    "        \n",
    "        tilesBytes = levelBytes[149412:165412]\n",
    "        self.tiles = instanceAllObjects('Tile', tilesBytes, self.tileCount, 4)\n",
    "        \n",
    "        railBytes = levelBytes[165412:183412]\n",
    "        self.rails = instanceAllObjects('Rail', railBytes, self.railCount, 12)\n",
    "        \n",
    "        iCicleBytes = levelBytes[183412:184612]\n",
    "        self.icicles = instanceAllObjects('Icicle', iCicleBytes, self.icicleCount, 4)\n",
    "    \n",
    "    \n",
    "    def fromMatrix(self, matrix):  \n",
    "        self.objects = []\n",
    "        self.soundEffects = []\n",
    "        self.snakes = []\n",
    "        self.clearPipes = []\n",
    "        self.creepers = []\n",
    "        self.expandingBlocks = []\n",
    "        self.expandingBlocks = []\n",
    "        self.trackBlocks = []\n",
    "        self.tiles = []\n",
    "        self.rails = []\n",
    "        self.icicles = []\n",
    "        \n",
    "        tileID = 0\n",
    "        for layer in range(0, matrix.size()[0]):\n",
    "            for y in range(0, matrix.size()[1]):\n",
    "                for x in range(0, matrix.size()[2]): \n",
    "                    cellValue = matrix[layer][y][x]\n",
    "                    if cellValue == 0:\n",
    "                        continue\n",
    "                    if cellValue == 7:\n",
    "                        matrix[layer][y][x] = 0\n",
    "                        terrain = Tile()\n",
    "                        terrain.fromValues(x, y, tileID)\n",
    "                        tileID += 1\n",
    "                        continue\n",
    "                        \n",
    "                    \n",
    "                        \n",
    "                    if layer == FreestandingSoundEffect.layer:\n",
    "                        matrix[layer][y][x] = 0\n",
    "                        freeSound = FreestandingSoundEffect()\n",
    "                        freeSound.fromValues(cellValue, x, y)\n",
    "                        self.soundEffects.append(freeSound)\n",
    "                        continue\n",
    "                       \n",
    "                \n",
    "                    arrayValues = cellValue.to_bytes(6, 'little')\n",
    "                    flags = int.from_bytes(arrayValues[:4],\"little\", signed = False)\n",
    "                    typeObject = int.from_bytes(arrayValues[5:],\"little\", signed = False)\n",
    "                    \n",
    "                    \n",
    "                    if typeObject == SnakeNode.objectID:\n",
    "                        continue\n",
    "                    \n",
    "                    if typeObject == SnakeBlockTrack.objectID:\n",
    "                        buildSnake(matrix, x, y, snakes, objects)\n",
    "                        continue\n",
    "                    \n",
    "                    if typeObject == Icicle.typeObject:\n",
    "                        matrix[layer][y][x] = 0\n",
    "                        matrix[layer][y + 1][x] = 0\n",
    "                        iCicle = Icicle()\n",
    "                        iCicle.fromValues(x,y, int.from_bytes(arrayValues[:4],\"little\", signed = False))\n",
    "                        self.icicles.append(iCicle)\n",
    "                        continue\n",
    "                        \n",
    "                    \n",
    "                        \n",
    "                    \n",
    "                    \n",
    "    \n",
    "    def calculateLayerBackground(self, matrix, objectMM, layer = -1):\n",
    "        layer = layer if layer != -1 else objectMM.layer\n",
    "        if layer < backGroundMinLayer or layer > backGroundMaxLayer:\n",
    "            return layer\n",
    "        error = False\n",
    "        if objectMM.shape == 0:\n",
    "            for i in range (0,objectMM.objectWidth):\n",
    "                for j in range (0,objectMM.objectHeight):\n",
    "                    if matrix[layer][objectMM.yPosition + j][objectMM.xPosition + i] != 0:\n",
    "                        return self.calculateLayerBackground(matrix, objectMM, layer + 1)\n",
    "        else:\n",
    "            for i in range (0,objectMM.objectWidth):\n",
    "                if matrix[layer][objectMM.yPosition + objectMM.objectHeight - 1][objectMM.xPosition + i] != 0:\n",
    "                    return self.calculateLayerBackground(matrix, objectMM, layer + 1)\n",
    "            mediumPoint = objectMM.xPosition + (objectMM.objectWidth // 2)\n",
    "            if objectMM.objectWidth % 2 == 0:\n",
    "                for i in range (1, objectMM.objectHeight):\n",
    "                    if matrix[layer][objectMM.yPosition + i][mediumPoint] != 0 or matrix[layer][objectMM.yPosition + i][mediumPoint + 1] != 0:\n",
    "                        return self.calculateLayerBackground(matrix, objectMM, layer + 1)\n",
    "            else:\n",
    "                for i in range (1, objectMM.objectHeight):\n",
    "                    if matrix[layer][objectMM.yPosition + i][mediumPoint] != 0:\n",
    "                        return self.calculateLayerBackground(matrix, objectMM, layer + 1)\n",
    "        return layer\n",
    "    \n",
    "    def toPytorchMatrix(self):\n",
    "        if self.isMain:\n",
    "            matrix = torch.zeros((19,28,255),dtype=torch.int64) #A quanto pare un livello ha un oggetto in posizione 27\n",
    "            matrix[0][:self.startY, :5]  = 37 #Blocchi start\n",
    "            matrix[0][:self.endY, self.rightBoundary - 10 : self.rightBoundary] = 37 #blocchi end\n",
    "\n",
    "        else:\n",
    "            matrix = torch.zeros((19,255,255),dtype=torch.int64)\n",
    "            \n",
    "        for terrain in self.tiles:\n",
    "            assert matrix[1][terrain.yPosition][terrain.xPosition]  == 0, \"occupato: \" + str(matrix[1][terrain.yPosition][terrain.xPosition]) + 'posizione: (' + str(terrain.yPosition) + \\\n",
    "            ', ' + str(terrain.xPosition)\n",
    "            matrix[1][terrain.yPosition][terrain.xPosition] = 7\n",
    "            \n",
    "        for sound in self.soundEffects:\n",
    "            assert matrix[17][sound.yPosition][sound.xPosition]  == 0\n",
    "            matrix[17][sound.yPosition][sound.xPosition] = sound.effectType\n",
    "            \n",
    "        #for rail in self.rails:\n",
    "            #self.setRailTrack(matrix, rail)\n",
    "            \n",
    "        for iCicle in self.icicles:\n",
    "            assert matrix[1][iCicle.yPosition][iCicle.xPosition] == 0\n",
    "            assert matrix[1][iCicle.yPosition + 1][iCicle.xPosition] == 0\n",
    "            matrix[1][iCicle.yPosition:(iCicle.yPosition + 2), iCicle.xPosition] = iCicle.typeForMatrix\n",
    "            \n",
    "        for objectMM in self.objects:\n",
    "            if objectMM.layer == -1:\n",
    "                continue\n",
    "            layer = self.calculateLayerBackground(matrix, objectMM)\n",
    "            if objectMM.objectType == SnakeBlockTrack.objectID:#è uno snake\n",
    "                self.setSnakeTrack(matrix, objectMM)\n",
    "                continue\n",
    "                \n",
    "            if objectMM.shape == 0: #Forma RECT\n",
    "                \n",
    "                if ((layer == 0 or layer == 1 or layer == 5 or layer == 6)and objectMM.objectFlags.to_bytes(4, 'little')[1] & 4 != 0): #se questo flag è attivo, probabilmente sta su una rail\n",
    "                    continue\n",
    "                xPosition = objectMM.xPosition\n",
    "                yPosition = objectMM.yPosition\n",
    "                width = objectMM.objectWidth\n",
    "                height = objectMM.objectHeight\n",
    "                \n",
    "                if objectMM.objectType == 31: #nuvola\n",
    "                    if height == 4:\n",
    "                        appoggio = width\n",
    "                        width = height\n",
    "                        height = appoggio  \n",
    "                    if height == 2:#nuvola, sopra ci sta gente e non è mai 2\n",
    "                        height -=1\n",
    "                \n",
    "                if objectMM.objectFlags.to_bytes(4, 'little')[2] & 1 != 0: #nemico sopra nuvola\n",
    "                    yPosition += 1\n",
    "                    if objectMM.objectType == 30: #caso specifico lakitu\n",
    "                        height -=1\n",
    "                    \n",
    "                \n",
    "                if objectMM.objectType == 42 or objectMM.objectType == 17: # è una koopaclowncar o ponte\n",
    "                    height = 1\n",
    "                    \n",
    "                if objectMM.objectType == 32 or ((objectMM.objectType == 62 or objectMM.objectType == 77 or objectMM.objectType == 12 or objectMM.objectType == 31) and width == 4): #ciccioni, bowser, boom boom, banzai bill, cloud\n",
    "                    xPosition -=1\n",
    "                    \n",
    "                if objectMM.objectFlags.to_bytes(4, 'little')[3] & 8 != 0: #appeso\n",
    "                    yPosition -=1\n",
    "                \n",
    "                versoX = 1\n",
    "                versoY = 1\n",
    "                \n",
    "                \n",
    "                if objectMM.objectFlags.to_bytes(4, 'little')[0] & 1 != 0:\n",
    "                    layer = layerOggettiInTubo\n",
    "                \n",
    "                if objectMM.objectType == 9:\n",
    "                    rotation = (((objectMM.objectFlags.to_bytes(4, 'little')[0]<< 1) >> 6) & 3) << 5\n",
    "                    if rotation == 96:\n",
    "                        versoX = -1\n",
    "                        versoY = -1\n",
    "                    if rotation == 0:\n",
    "                        appoggio = width\n",
    "                        width = height\n",
    "                        height = appoggio\n",
    "                        versoY = -1\n",
    "                    if rotation == 32:\n",
    "                        versoX = -1\n",
    "                        appoggio = width\n",
    "                        width = height\n",
    "                        height = appoggio \n",
    "                for i in range (0,width):\n",
    "                    for j in range (0,height):\n",
    "                        self.setCellMatrix(matrix, objectMM, layer, yPosition + (j * versoY), xPosition + (i * versoX), (i == 0 and j == 0))\n",
    "                continue\n",
    "                \n",
    "                \n",
    "            if objectMM.shape == 1: #Forma T\n",
    "                for i in range (0,objectMM.objectWidth):\n",
    "                    self.setCellMatrix(matrix, objectMM, layer, objectMM.yPosition + objectMM.objectHeight - 1, objectMM.xPosition + i, i == 0)\n",
    "                mediumPoint = objectMM.xPosition + (objectMM.objectWidth // 2)\n",
    "                if objectMM.objectWidth % 2 == 0:\n",
    "                    matrix[objectMM.layer][objectMM.yPosition:(objectMM.yPosition + objectMM.objectHeight - 1), mediumPoint - 1 : mediumPoint + 1] = objectMM.flagsType\n",
    "                else:\n",
    "                    matrix[objectMM.layer][objectMM.yPosition:(objectMM.yPosition + objectMM.objectHeight - 1), mediumPoint] = objectMM.flagsType\n",
    "                continue\n",
    "                \n",
    "            if objectMM.shape == 2: #forma gentle\n",
    "                rotation = objectMM.objectFlags.to_bytes(4, 'little')[2]\n",
    "                if (objectMM.objectType == 87 and (rotation == 48 or rotation == 16)): \n",
    "                    self.setCellMatrix(matrix, objectMM, layer, objectMM.yPosition, objectMM.xPosition + objectMM.objectWidth - 1, True)\n",
    "                    for i in range(1, objectMM.objectWidth - 1, 2):#discesa\n",
    "                        matrix[objectMM.layer][(objectMM.yPosition + objectMM.objectHeight - (i // 2) - 2):(objectMM.yPosition + objectMM.objectHeight - (i // 2)), objectMM.xPosition + i : objectMM.xPosition + i + 2] = objectMM.flagsType\n",
    "                    self.setCellMatrix(matrix, objectMM, layer, objectMM.yPosition + objectMM.objectHeight - 1, objectMM.xPosition, False)\n",
    "                elif (objectMM.objectType == 87 and (rotation == 0 or rotation == 32)):\n",
    "                    self.setCellMatrix(matrix, objectMM, layer, objectMM.yPosition, objectMM.xPosition, True)\n",
    "                    for i in range(1, objectMM.objectWidth - 1, 2):#salita\n",
    "                        matrix[objectMM.layer][(objectMM.yPosition + (i // 2)):(objectMM.yPosition + (i // 2)) + 2, objectMM.xPosition + i : objectMM.xPosition + i + 2] = objectMM.flagsType                    \n",
    "                    self.setCellMatrix(matrix, objectMM, layer, objectMM.yPosition + objectMM.objectHeight - 1, objectMM.xPosition + objectMM.objectWidth - 1, False)\n",
    "                continue\n",
    "            \n",
    "            \n",
    "            \n",
    "            \n",
    "            if objectMM.shape == 3: #forma steep\n",
    "                rotation = objectMM.objectFlags.to_bytes(4, 'little')[2]\n",
    "                if (objectMM.objectType == 88 and (rotation == 48 or rotation == 16)) or (objectMM.objectType == 94 and rotation == 32): #discesa riflesso\n",
    "                    self.setCellMatrix(matrix, objectMM, layer, objectMM.yPosition, objectMM.xPosition + objectMM.objectWidth - 1, True)\n",
    "                    for i in range(1, objectMM.objectWidth - 1): #discesa da destra\n",
    "                        matrix[objectMM.layer][(objectMM.yPosition + i - 1):(objectMM.yPosition + i + 1), objectMM.xPosition + objectMM.objectWidth - i - 1] = objectMM.flagsType\n",
    "                    self.setCellMatrix(matrix, objectMM, layer, objectMM.yPosition + objectMM.objectHeight - 1, objectMM.xPosition , False)\n",
    "                elif (objectMM.objectType == 88 and (rotation == 0 or rotation == 32)) or (objectMM.objectType == 94 and rotation == 16): #salita normale\n",
    "                    self.setCellMatrix(matrix, objectMM, layer, objectMM.yPosition, objectMM.xPosition, True)\n",
    "                    for i in range(1, objectMM.objectWidth - 1): #salita\n",
    "                        matrix[objectMM.layer][(objectMM.yPosition + i - 1):(objectMM.yPosition + i + 1), objectMM.xPosition + i] = objectMM.flagsType\n",
    "                    self.setCellMatrix(matrix, objectMM, layer, objectMM.yPosition + objectMM.objectHeight - 1, objectMM.xPosition + objectMM.objectWidth - 1 , False)\n",
    "                continue\n",
    "                    \n",
    "            if objectMM.shape == 4: #forma T contraria\n",
    "                for i in range (-1,objectMM.objectWidth -1):\n",
    "                    self.setCellMatrix(matrix, objectMM, layer, objectMM.yPosition, objectMM.xPosition + i, i == 0)\n",
    "                mediumPoint = objectMM.xPosition + (objectMM.objectWidth // 2) - 1\n",
    "                if objectMM.objectWidth % 2 == 0:\n",
    "                    matrix[objectMM.layer][objectMM.yPosition:(objectMM.yPosition + objectMM.objectHeight - 1), mediumPoint : mediumPoint + 2] = objectMM.flagsType\n",
    "                else:\n",
    "                    matrix[objectMM.layer][objectMM.yPosition:(objectMM.yPosition + objectMM.objectHeight - 1), mediumPoint] = objectMM.flagsType\n",
    "            \n",
    "        return matrix\n",
    "                \n",
    "        \n",
    "    def setSnakeTrack(self, matrix, objectMM):\n",
    "        leftSnake = False\n",
    "        extendData = objectMM.extendedData\n",
    "        if extendData > 10:\n",
    "            leftSnake = True\n",
    "            extendData -= 16\n",
    "            \n",
    "        snakeBlock = self.snakes[extendData - 1]\n",
    "        assert snakeBlock.nodeCount > 0\n",
    "        for i in range (-objectMM.objectWidth // 2 + 1 if objectMM.objectWidth % 2 == 1 else 0, (objectMM.objectWidth // 2) + 1):\n",
    "            self.setCellMatrix(matrix, objectMM, SnakeBlockTrack.layer, objectMM.yPosition, objectMM.xPosition + i, (i == 0))\n",
    "        \n",
    "        xCurrentTrack = objectMM.xPosition + (objectMM.objectWidth // 2 if not leftSnake else -(objectMM.objectWidth // 2))\n",
    "        yCurrentTrack = objectMM.yPosition\n",
    "        \n",
    "        firstNode = snakeBlock.snakeNodes[0]\n",
    "\n",
    "        if firstNode.direction == 1 or firstNode.direction == 5 or firstNode.direction == 7 or firstNode.direction == 14:#LEFT\n",
    "            xCurrentTrack -= 1\n",
    "        elif firstNode.direction == 2 or firstNode.direction == 9 or firstNode.direction == 11 or firstNode.direction == 13:#RIGHT\n",
    "            xCurrentTrack += 1\n",
    "        elif firstNode.direction == 3 or firstNode.direction == 6 or firstNode.direction == 10 or firstNode.direction == 16:   #DOWN\n",
    "            yCurrentTrack -= 1\n",
    "        elif firstNode.direction == 4 or firstNode.direction == 8 or firstNode.direction == 12 or firstNode.direction == 15:#UP\n",
    "            yCurrentTrack += 1\n",
    "\n",
    "        \n",
    "        for node in snakeBlock.snakeNodes:\n",
    "            assert matrix[SnakeNode.layer][yCurrentTrack][xCurrentTrack] == 0, 'occupato: ' + str(matrix[SnakeNode.layer][yCurrentTrack][xCurrentTrack]) + ' id:' + str(snakeBlock.linkID) + \\\n",
    "            '\\nPosizione: ' + str(yCurrentTrack) + ' ' + str(xCurrentTrack)\n",
    "            matrix[SnakeNode.layer][yCurrentTrack][xCurrentTrack] = node.directionSnake\n",
    "            if node.direction == 1 or node.direction == 6 or node.direction == 8 or node.direction == 14:#LEFT\n",
    "                xCurrentTrack -= 1\n",
    "                continue\n",
    "            if node.direction == 2 or node.direction == 10 or node.direction == 12 or node.direction == 13:#RIGHT\n",
    "                xCurrentTrack += 1\n",
    "                continue\n",
    "            if node.direction == 3 or node.direction == 5 or node.direction == 9 or node.direction == 16:   #DOWN\n",
    "                yCurrentTrack -= 1\n",
    "                continue\n",
    "            if node.direction == 4 or node.direction == 7 or node.direction == 11 or node.direction == 15:#UP\n",
    "                yCurrentTrack += 1\n",
    "                continue\n",
    "    \n",
    "    \n",
    "    \n",
    "    def setRailTrack(self, matrix, rail):\n",
    "        assert matrix[Rail.layer][rail.yPosition][rail.xPosition] == 0\n",
    "        matrix[Rail.layer][rail.yPosition][rail.xPosition] = rail.railDirection\n",
    "    \n",
    "    def setCellMatrix(self, matrix, objectMM, layer, yPosition, xPosition, childSoundCell):\n",
    "        if yPosition >= 28:\n",
    "            print(str(objectMM.objectType) + ' ' + str(objectMM.objectWidth) + ' ' + str(objectMM.objectHeight)\\\n",
    "        + ' ' + str(objectMM.middleTileX) + ' ' + str(objectMM.middleTileY) + ' ' + str(objectMM.yOriginalPosition) + ' ' + str(objectMM.xOriginalPosition) + ' ' + str(objectMM.linkID) + ' ' + str(childSoundCell)\\\n",
    "        + ' ' + str(yPosition) + ' ' + str(xPosition) + ' Flags: ' + str(objectMM.objectFlags))\n",
    "        if matrix[layer][yPosition][xPosition] != 0 and (objectMM.objectType == 88 or objectMM.objectType == 87):\n",
    "            return\n",
    "        assert matrix[layer][yPosition][xPosition] == 0 or matrix[layer][yPosition][xPosition] == 7, 'occupato: ' + str(matrix[layer][yPosition][xPosition]) + ' ' + str(objectMM.objectType) + ' ' + str(objectMM.objectWidth) + ' ' + str(objectMM.objectHeight)\\\n",
    "        + ' ' + str(objectMM.middleTileX) + ' ' + str(objectMM.middleTileY) + ' ' + str(objectMM.yOriginalPosition) + ' ' + str(objectMM.xOriginalPosition) + ' ' + str(objectMM.linkID) + ' ' + str(childSoundCell)\\\n",
    "        + ' ' + str(yPosition) + ' ' + str(xPosition) + ' Flags: ' + str(objectMM.objectFlags)\n",
    "        matrix[layer][yPosition][xPosition] = objectMM.flagsType\n",
    "        if(childSoundCell):\n",
    "            if(objectMM.childObjectType != 65535):\n",
    "                assert matrix[15][yPosition][xPosition] == 0\n",
    "                matrix[15][yPosition][xPosition] = objectMM.childFlagsType\n",
    "            if(objectMM.soundEffect != 65535):\n",
    "                assert matrix[layerSoundChild][yPosition][xPosition] == 0\n",
    "                matrix[layerSoundChild][yPosition][xPosition] = objectMM.soundEffect\n",
    "    \n",
    "    def toBytes(self):\n",
    "        courseTheme = self.courseTheme.to_bytes(1, 'little')\n",
    "        autoScrollType = self.autoScrollType.to_bytes(1, 'little')\n",
    "        screenBoundaryFlags = self.screenBoundaryFlags.to_bytes(1, 'little')\n",
    "        levelHorientation = self.levelHorientation.to_bytes(1, 'little')\n",
    "        lavaWaterHeight = self.lavaWaterHeight.to_bytes(1, 'little')\n",
    "        lavaWaterMode = self.lavaWaterMode.to_bytes(1, 'little')\n",
    "        lavaWaterSpeed = self.lavaWaterSpeed.to_bytes(1, 'little')\n",
    "        minimunLavaWaterHeight = self.minimunLavaWaterHeight.to_bytes(1, 'little')\n",
    "        \n",
    "        rightBoundary = (self.rightBoundary * 16).to_bytes(4, 'little')\n",
    "        topBoundary = (self.topBoundary * 16).to_bytes(4, 'little')\n",
    "        leftBoundary = (self.leftBoundary * 16).to_bytes(4, 'little')\n",
    "        rightBoundary = (self.rightBoundary * 16).to_bytes(4, 'little')\n",
    "        bottomBoundary = self.bottomBoundary.to_bytes(4, 'little')\n",
    "        areaFlags = self.areaFlags.to_bytes(4, 'little')\n",
    "        objectCount = self.objectCount.to_bytes(4, 'little')\n",
    "        freeStandingSoundEffectCount = self.freeStandingSoundEffectCount.to_bytes(4, 'little')\n",
    "        snakeBlockCount = self.snakeBlockCount.to_bytes(4, 'little')\n",
    "        clearPipeCount = self.clearPipeCount.to_bytes(4, 'little')\n",
    "        piranhaCreeperCount = self.piranhaCreeperCount.to_bytes(4, 'little')\n",
    "        expandingBlockCount = self.expandingBlockCount.to_bytes(4, 'little')\n",
    "        trackBlockCount = self.trackBlockCount.to_bytes(4, 'little')\n",
    "        alwaysZero = self.alwaysZero.to_bytes(4, 'little')\n",
    "        tileCount = self.tileCount.to_bytes(4, 'little')\n",
    "        railCount = self.railCount.to_bytes(4, 'little')\n",
    "        icicleCount = self.icicleCount.to_bytes(4, 'little')\n",
    "        returnBytes = courseTheme + autoScrollType + screenBoundaryFlags + levelHorientation + lavaWaterHeight + lavaWaterMode + lavaWaterSpeed + minimunLavaWaterHeight  \\\n",
    "               + rightBoundary + topBoundary + leftBoundary + bottomBoundary + areaFlags + objectCount + freeStandingSoundEffectCount + snakeBlockCount + clearPipeCount \\\n",
    "               + piranhaCreeperCount + expandingBlockCount + trackBlockCount + alwaysZero + tileCount + railCount + icicleCount\n",
    "        objectsBytes = fromListToBytes(self.objects, 83200)\n",
    "        soundEffectsBytes = fromListToBytes(self.soundEffects, 1200)\n",
    "        snakesBytes = fromListToBytes(self.snakes, 4820)\n",
    "        clearPipeBytes = fromListToBytes(self.clearPipes, 58400)\n",
    "        creeperBytes = fromListToBytes(self.creepers, 840)\n",
    "        expandingBlockBytes = fromListToBytes(self.expandingBlocks, 440)\n",
    "        trackBlockBytes = fromListToBytes(self.trackBlocks, 440)\n",
    "        tilesBytes = fromListToBytes(self.tiles, 16000)\n",
    "        railBytes = fromListToBytes(self.rails, 18000)\n",
    "        iCicleBytes = fromListToBytes(self.icicles, 1200)\n",
    "        return returnBytes +  objectsBytes + soundEffectsBytes + snakesBytes + clearPipeBytes + creeperBytes + expandingBlockBytes + trackBlockBytes + tilesBytes + railBytes + iCicleBytes\n",
    "        "
   ]
  },
  {
   "cell_type": "code",
   "execution_count": 149,
   "metadata": {},
   "outputs": [],
   "source": [
    "class Header(ObjectBytes):\n",
    "    def fromBytes(self, headerBytes):\n",
    "        self.startY = headerBytes[0]\n",
    "        self.endY = headerBytes[1]\n",
    "        self.goalXx100 = int.from_bytes(headerBytes[2:4],\"little\", signed = False)\n",
    "        self.timeLimit = int.from_bytes(headerBytes[4:6],\"little\", signed = False)\n",
    "        self.targetAmountClearCondition = int.from_bytes(headerBytes[6:8],\"little\", signed = False)\n",
    "        self.year = int.from_bytes(headerBytes[8:10],\"little\", signed = False)\n",
    "        self.month = headerBytes[10]\n",
    "        self.day = headerBytes[11]\n",
    "        self.hour = headerBytes[12]\n",
    "        self.minute = headerBytes[13]\n",
    "        self.customAutoscrollSpeed = headerBytes[14]\n",
    "        self.clearConditionType = headerBytes[15]\n",
    "        self.clearConditionObject = int.from_bytes(headerBytes[16:20],\"little\", signed = False)\n",
    "        self.gameVersion = int.from_bytes(headerBytes[20:24],\"little\", signed = False)\n",
    "        self.levelFlags = int.from_bytes(headerBytes[24:28],\"little\", signed = False)\n",
    "        self.clearCheckTries = int.from_bytes(headerBytes[28:32],\"little\", signed = False)\n",
    "        self.clearCheckTime = int.from_bytes(headerBytes[32:36],\"little\", signed = False)\n",
    "        self.creationID = int.from_bytes(headerBytes[36:40],\"little\", signed = False)\n",
    "        self.uploadID = headerBytes[40:48]\n",
    "        self.gameVersionCheck = headerBytes[48:52]\n",
    "        self.padding = headerBytes[52:240]\n",
    "        self.unknow2 = headerBytes[240]\n",
    "        self.gameStyle = headerBytes[241:244]\n",
    "        self.courseName = headerBytes[244:310]#wchar16\n",
    "        self.courseDescription = headerBytes[310:512]\n",
    "        \n",
    "    def toBytes(self):\n",
    "        startY = self.startY.to_bytes(1, 'little')\n",
    "        endY = self.endY.to_bytes(1, 'little')\n",
    "        goalXx100 = self.goalXx100.to_bytes(2, 'little')\n",
    "        timeLimit = self.timeLimit.to_bytes(2, 'little')\n",
    "        targetAmountClearCondition = self.targetAmountClearCondition.to_bytes(2, 'little')\n",
    "        year = self.year.to_bytes(2, 'little')\n",
    "        month = self.month.to_bytes(1, 'little')\n",
    "        day = self.day.to_bytes(1, 'little')\n",
    "        hour = self.hour.to_bytes(1, 'little')\n",
    "        minute = self.minute.to_bytes(1, 'little')   \n",
    "        customAutoscrollSpeed = self.customAutoscrollSpeed.to_bytes(1, 'little') \n",
    "        clearConditionType = self.clearConditionType.to_bytes(1, 'little') \n",
    "        clearConditionObject = self.clearConditionObject.to_bytes(4, 'little') \n",
    "        gameVersion = self.gameVersion.to_bytes(4, 'little')\n",
    "        levelFlags = self.levelFlags.to_bytes(4, 'little')\n",
    "        clearCheckTries = self.clearCheckTries.to_bytes(4, 'little')\n",
    "        clearCheckTime = self.clearCheckTime.to_bytes(4, 'little')\n",
    "        creationID = self.creationID.to_bytes(4, 'little')\n",
    "        unknow2 = self.unknow2.to_bytes(1, 'little')\n",
    "        \n",
    "        return startY + endY + goalXx100 + timeLimit + targetAmountClearCondition + year + month + day + hour + minute + customAutoscrollSpeed + clearConditionType \\\n",
    "               + clearConditionObject + gameVersion + levelFlags + clearCheckTries + clearCheckTime + creationID + self.uploadID \\\n",
    "               + self.gameVersionCheck + self.padding + unknow2 + self.gameStyle + self.courseName + self.courseDescription"
   ]
  },
  {
   "cell_type": "code",
   "execution_count": 30,
   "metadata": {},
   "outputs": [],
   "source": [
    "class MarioMaker2File(ObjectBytes):\n",
    "    def fromBytes(self, fileBytes):\n",
    "        self.gameVersion = fileBytes[:4]\n",
    "        self.gameVersion2 = fileBytes[4:6]\n",
    "        self.padding = fileBytes[6:8]\n",
    "        self.CRC32 = fileBytes[8:12]\n",
    "        self.SCDL = fileBytes[12:16]\n",
    "        self.header = Header()\n",
    "        self.header.fromBytes(fileBytes[16:528])\n",
    "        self.mainLevelArea = LevelArea()\n",
    "        self.mainLevelArea.fromBytes(fileBytes[528:188656], True, self.header.startY, self.header.endY)\n",
    "        self.subLevelArea = LevelArea()\n",
    "        self.subLevelArea.fromBytes(fileBytes[188656:376784], False)\n",
    "        self.cryptoCfg = fileBytes[376784:]#non ne sono sicuro\n",
    "        \n",
    "    def toBytes(self):\n",
    "        return self.gameVersion + self.gameVersion2 + self.padding + self.CRC32 + self.SCDL + addZeros(self.header.toBytes(), 512) + addZeros(self.mainLevelArea.toBytes(), 188128) + addZeros(self.subLevelArea.toBytes(), 188128) + self.cryptoCfg"
   ]
  },
  {
   "cell_type": "code",
   "execution_count": 31,
   "metadata": {},
   "outputs": [],
   "source": [
    "levelFolder = Path(\"levels/\")\n",
    "levelsDownloaded = [f for f in listdir(levelFolder) if isfile(join(levelFolder, f))]\n",
    "decryptLevelFilteredFolder = Path(\"levels/filtered/\")\n",
    "levelsDecrypted = [f for f in listdir(decryptLevelFilteredFolder) if isfile(join(decryptLevelFilteredFolder, f))]"
   ]
  },
  {
   "cell_type": "code",
   "execution_count": 32,
   "metadata": {},
   "outputs": [],
   "source": [
    "\n",
    "levelsFiltered = []"
   ]
  },
  {
   "cell_type": "code",
   "execution_count": 33,
   "metadata": {},
   "outputs": [],
   "source": [
    "levelsFilteredFile = Path(\"levelsFiltered.txt\")\n",
    "if levelsFilteredFile.is_file():\n",
    "    with open(levelsFilteredFile, \"r\") as f:\n",
    "        levelsFiltered = f.read().splitlines()"
   ]
  },
  {
   "cell_type": "code",
   "execution_count": 34,
   "metadata": {},
   "outputs": [],
   "source": [
    "levelsToLoad = levelsDecrypted[:] if levelsDecrypted else levelsFiltered[:] if levelsFiltered else levelsDownloaded[:]"
   ]
  },
  {
   "cell_type": "code",
   "execution_count": 82,
   "metadata": {},
   "outputs": [
    {
     "name": "stderr",
     "output_type": "stream",
     "text": [
      "100%|████████████████████████████████████████████████████████████████████████████| 13972/13972 [03:30<00:00, 66.51it/s]\n"
     ]
    }
   ],
   "source": [
    "marioMakerLevels = []\n",
    "levelsFiltered = []\n",
    "levelsSet = set()\n",
    "for levelName in tqdm(levelsToLoad):\n",
    "    if not levelsDecrypted:\n",
    "        filePath = join(levelFolder, levelName)\n",
    "        if levelName[-4:] == '.zip':\n",
    "            archive = zipfile.ZipFile(filePath, 'r')\n",
    "            leveldata = archive.read('course_data_000.bcd')\n",
    "            archive.close()\n",
    "            with open('tools/tmp/course_data_000.bcd', 'wb') as f:\n",
    "                f.write(leveldata)\n",
    "        else:\n",
    "            archive = tarfile.open(filePath, 'r')\n",
    "            archive.extract('course_data_000.bcd', path=\"tools/tmp/\")\n",
    "            archive.close()\n",
    "        !.\\tools\\smm2dec.exe -h .\\tools\\tmp\\course_data_000.bcd .\\tools\\tmp\\course_data_dec.bcd >nul 2>&1\n",
    "        with open('tools/tmp/course_data_dec.bcd', 'rb') as f:\n",
    "            leveldata = f.read()\n",
    "    else:\n",
    "        filePath = join(decryptLevelFilteredFolder ,levelName)\n",
    "        with open(filePath, 'rb') as f:\n",
    "            leveldata = f.read()\n",
    "    level = MarioMaker2File()\n",
    "    level.fromBytes(leveldata)\n",
    "    if level.header.gameStyle.decode(\"utf-8\") == '3W\\x00':\n",
    "        continue\n",
    "    if level.header.creationID in levelsSet:\n",
    "        os.remove(filePath)\n",
    "        continue\n",
    "    levelsSet.add(level.header.creationID)\n",
    "    marioMakerLevels.append(level)\n",
    "    levelsFiltered.append(levelName)\n",
    "    if not levelsDecrypted:\n",
    "        with open(join(decryptLevelFilteredFolder, levelName[:-4] + '.bcd'), 'wb') as f:\n",
    "            f.write(leveldata)"
   ]
  },
  {
   "cell_type": "code",
   "execution_count": null,
   "metadata": {},
   "outputs": [],
   "source": [
    "with open(\"levelsFiltered.txt\", \"w\") as outfile:\n",
    "    outfile.write(\"\\n\".join(levelsFiltered))"
   ]
  },
  {
   "cell_type": "code",
   "execution_count": null,
   "metadata": {},
   "outputs": [],
   "source": [
    "for l in marioMakerLevels:\n",
    "    levelsSet.add(l.header.creationID)"
   ]
  },
  {
   "cell_type": "code",
   "execution_count": null,
   "metadata": {},
   "outputs": [],
   "source": [
    "len(levelsSet)"
   ]
  },
  {
   "cell_type": "code",
   "execution_count": null,
   "metadata": {},
   "outputs": [],
   "source": []
  },
  {
   "cell_type": "code",
   "execution_count": null,
   "metadata": {},
   "outputs": [],
   "source": [
    "for lmm in marioMakerLevels:\n",
    "    for o in lmm.mainLevelArea.objects:\n",
    "        if  (o.yPosition == 0) and not o.middleTileY:\n",
    "            print(o)\n",
    "            print(o.middleTileY)\n",
    "            print(o.middleTileX)\n",
    "            print(lmm.header.courseName.decode(\"utf-16\"))"
   ]
  },
  {
   "cell_type": "code",
   "execution_count": null,
   "metadata": {},
   "outputs": [],
   "source": [
    "archive = zipfile.ZipFile(join(levelFolder, 'flying_ghosthouse__70.zip'), 'r')\n",
    "leveldata = archive.read('course_data_000.bcd')\n",
    "archive.close()\n",
    "with open('tools/tmp/course_data_000.bcd', 'wb') as f:\n",
    "    f.write(leveldata)"
   ]
  },
  {
   "cell_type": "code",
   "execution_count": null,
   "metadata": {},
   "outputs": [],
   "source": [
    "len(leveldata)"
   ]
  },
  {
   "cell_type": "code",
   "execution_count": null,
   "metadata": {},
   "outputs": [],
   "source": [
    "!.\\tools\\smm2dec.exe -h .\\tools\\tmp\\course_data_000.bcd .\\tools\\tmp\\course_data_dec.bcd"
   ]
  },
  {
   "cell_type": "code",
   "execution_count": null,
   "metadata": {},
   "outputs": [],
   "source": [
    "with open('tools/tmp/course_data_dec.bcd', 'rb') as f:\n",
    "    leveldata = f.read()"
   ]
  },
  {
   "cell_type": "code",
   "execution_count": null,
   "metadata": {},
   "outputs": [],
   "source": [
    "testM = MarioMaker2File()\n",
    "testM.fromBytes(leveldata)\n",
    "len(testM.toBytes())"
   ]
  },
  {
   "cell_type": "code",
   "execution_count": null,
   "metadata": {
    "scrolled": false
   },
   "outputs": [],
   "source": [
    "for t in testM.mainLevelArea.tiles:\n",
    "    if t.backgroundObjectID != 0:\n",
    "        print(t.backgroundObjectID)"
   ]
  },
  {
   "cell_type": "code",
   "execution_count": null,
   "metadata": {},
   "outputs": [],
   "source": [
    "checkSameBytes(leveldata, testM.toBytes())"
   ]
  },
  {
   "cell_type": "code",
   "execution_count": null,
   "metadata": {},
   "outputs": [],
   "source": [
    "testM.mainLevelArea.expandingBlockCount"
   ]
  },
  {
   "cell_type": "code",
   "execution_count": null,
   "metadata": {},
   "outputs": [],
   "source": [
    "testM.header.gameStyle.decode(\"utf-8\")"
   ]
  },
  {
   "cell_type": "code",
   "execution_count": null,
   "metadata": {},
   "outputs": [],
   "source": [
    "testM.header.courseName.decode(\"utf-16\")[:9]"
   ]
  },
  {
   "cell_type": "code",
   "execution_count": null,
   "metadata": {},
   "outputs": [],
   "source": [
    "testM.header.courseName.decode(\"utf-16\").find('\\x00')"
   ]
  },
  {
   "cell_type": "code",
   "execution_count": null,
   "metadata": {},
   "outputs": [],
   "source": [
    "a = testM.toBytes()\n",
    "print(len(a))\n",
    "for idx, b in enumerate(leveldata):\n",
    "    if a[idx] != b:\n",
    "        print('porco dio')\n",
    "        print(idx)\n",
    "        break"
   ]
  },
  {
   "cell_type": "code",
   "execution_count": null,
   "metadata": {},
   "outputs": [],
   "source": [
    "CryptoCfg"
   ]
  },
  {
   "cell_type": "code",
   "execution_count": null,
   "metadata": {},
   "outputs": [],
   "source": [
    "courseName.decode(\"utf-16\")"
   ]
  },
  {
   "cell_type": "code",
   "execution_count": null,
   "metadata": {},
   "outputs": [],
   "source": [
    "courseDescription.decode(\"utf-16\")"
   ]
  },
  {
   "cell_type": "code",
   "execution_count": null,
   "metadata": {},
   "outputs": [],
   "source": [
    "gameStyle.decode(\"utf-8\")"
   ]
  },
  {
   "cell_type": "code",
   "execution_count": null,
   "metadata": {},
   "outputs": [],
   "source": [
    "'3W\\x00'.rstrip('\\x00')"
   ]
  },
  {
   "cell_type": "code",
   "execution_count": null,
   "metadata": {},
   "outputs": [],
   "source": [
    "testM.header.gameStyle.decode(\"utf-8\") == '3W\\x00'"
   ]
  },
  {
   "cell_type": "code",
   "execution_count": null,
   "metadata": {},
   "outputs": [],
   "source": [
    "for o in testM.mainLevelArea.objects:\n",
    "    #print(o.objectType)\n",
    "    if o.objectType == 26:\n",
    "        print('ok')"
   ]
  },
  {
   "cell_type": "code",
   "execution_count": null,
   "metadata": {},
   "outputs": [],
   "source": [
    "sampling = random.choices(levelsDownloaded, k=100)"
   ]
  },
  {
   "cell_type": "code",
   "execution_count": 45,
   "metadata": {},
   "outputs": [
    {
     "name": "stderr",
     "output_type": "stream",
     "text": [
      "  0%|                                                                                        | 0/31502 [00:00<?, ?it/s]\n"
     ]
    },
    {
     "ename": "TypeError",
     "evalue": "MarioMaker2File() takes no arguments",
     "output_type": "error",
     "traceback": [
      "\u001b[1;31m---------------------------------------------------------------------------\u001b[0m",
      "\u001b[1;31mTypeError\u001b[0m                                 Traceback (most recent call last)",
      "\u001b[1;32m<ipython-input-45-87f97bdf9b4e>\u001b[0m in \u001b[0;36m<module>\u001b[1;34m\u001b[0m\n\u001b[0;32m     14\u001b[0m     \u001b[1;32mwith\u001b[0m \u001b[0mopen\u001b[0m\u001b[1;33m(\u001b[0m\u001b[1;34m'tools/tmp/course_data_dec.bcd'\u001b[0m\u001b[1;33m,\u001b[0m \u001b[1;34m'rb'\u001b[0m\u001b[1;33m)\u001b[0m \u001b[1;32mas\u001b[0m \u001b[0mf\u001b[0m\u001b[1;33m:\u001b[0m\u001b[1;33m\u001b[0m\u001b[1;33m\u001b[0m\u001b[0m\n\u001b[0;32m     15\u001b[0m         \u001b[0mleveldata\u001b[0m \u001b[1;33m=\u001b[0m \u001b[0mf\u001b[0m\u001b[1;33m.\u001b[0m\u001b[0mread\u001b[0m\u001b[1;33m(\u001b[0m\u001b[1;33m)\u001b[0m\u001b[1;33m\u001b[0m\u001b[1;33m\u001b[0m\u001b[0m\n\u001b[1;32m---> 16\u001b[1;33m     \u001b[0mtestM\u001b[0m \u001b[1;33m=\u001b[0m \u001b[0mMarioMaker2File\u001b[0m\u001b[1;33m(\u001b[0m\u001b[0mleveldata\u001b[0m\u001b[1;33m)\u001b[0m\u001b[1;33m\u001b[0m\u001b[1;33m\u001b[0m\u001b[0m\n\u001b[0m\u001b[0;32m     17\u001b[0m     \u001b[1;32mif\u001b[0m \u001b[0mtestM\u001b[0m\u001b[1;33m.\u001b[0m\u001b[0mheader\u001b[0m\u001b[1;33m.\u001b[0m\u001b[0mgameStyle\u001b[0m\u001b[1;33m.\u001b[0m\u001b[0mdecode\u001b[0m\u001b[1;33m(\u001b[0m\u001b[1;34m\"utf-8\"\u001b[0m\u001b[1;33m)\u001b[0m \u001b[1;33m==\u001b[0m \u001b[1;34m'3W\\x00'\u001b[0m\u001b[1;33m:\u001b[0m\u001b[1;33m\u001b[0m\u001b[1;33m\u001b[0m\u001b[0m\n\u001b[0;32m     18\u001b[0m         \u001b[1;32mcontinue\u001b[0m\u001b[1;33m\u001b[0m\u001b[1;33m\u001b[0m\u001b[0m\n",
      "\u001b[1;31mTypeError\u001b[0m: MarioMaker2File() takes no arguments"
     ]
    }
   ],
   "source": [
    "levelsError = 0\n",
    "for levelName in tqdm(levelsDownloaded):\n",
    "    if levelName[-4:] == '.zip':\n",
    "        archive = zipfile.ZipFile(join(levelFolder, levelName), 'r')\n",
    "        leveldata = archive.read('course_data_000.bcd')\n",
    "        archive.close()\n",
    "        with open('tools/tmp/course_data_000.bcd', 'wb') as f:\n",
    "            f.write(leveldata)\n",
    "    else:\n",
    "        archive = tarfile.open(join(levelFolder, levelName), 'r')\n",
    "        archive.extract('course_data_000.bcd', path=\"tools/tmp/\")\n",
    "        archive.close()\n",
    "    !.\\tools\\smm2dec.exe -h .\\tools\\tmp\\course_data_000.bcd .\\tools\\tmp\\course_data_dec.bcd >nul 2>&1\n",
    "    with open('tools/tmp/course_data_dec.bcd', 'rb') as f:\n",
    "        leveldata = f.read()\n",
    "    testM = MarioMaker2File()\n",
    "    \n",
    "    if testM.header.gameStyle.decode(\"utf-8\") == '3W\\x00':\n",
    "        continue\n",
    "    a = testM.toBytes()\n",
    "    for idx, b in enumerate(leveldata):\n",
    "        if a[idx] != b:\n",
    "            levelsError += 1\n",
    "            print(testM.header.gameStyle.decode(\"utf-8\"))\n",
    "            print(testM.header.courseName.decode(\"utf-16\"))\n",
    "            print(levelName)\n",
    "            print(idx)\n",
    "            print('--------********')\n",
    "            print(a[idx])\n",
    "            print(b)\n",
    "            break\n"
   ]
  },
  {
   "cell_type": "code",
   "execution_count": null,
   "metadata": {},
   "outputs": [],
   "source": [
    "levelsError"
   ]
  },
  {
   "cell_type": "code",
   "execution_count": 155,
   "metadata": {},
   "outputs": [
    {
     "data": {
      "text/plain": [
       "tensor([[          37,           37,           37,           37,           37,\n",
       "                    0,            0,            0,            0,            0,\n",
       "                    0,            0,            0,            0,            0,\n",
       "                    0,            0,            0,            0,            0,\n",
       "                    0,            0,            0,            0,            0,\n",
       "                    0,            0,            0,            0,            0,\n",
       "                    0,            0,            0,            0,            0,\n",
       "                    0,            0,            0,            0,            0,\n",
       "                    0,            0,            0,            0,            0,\n",
       "                    0,            0,            0,            0,            0,\n",
       "                    0,            0,            0,            0,            0,\n",
       "                    0,            0,            0,            0,            0,\n",
       "          ...,            0,            0,            0,            0,\n",
       "                    0,            0,            0,            0,            0,\n",
       "                    0,            0,            0,            0,            0,\n",
       "                    0,            0,            0,            0,            0,\n",
       "                    0,            0,            0,            0,            0,\n",
       "                    0,            0,            0,            0,            0,\n",
       "                    0,            0,            0,            0,            0,\n",
       "                    0,            0,            0,            0,            0,\n",
       "                    0,            0,            0,            0,            0,\n",
       "                    0,            0,            0,            0,            0,\n",
       "                    0,            0,            0,            0,            0,\n",
       "                    0,            0,            0,            0,            0,\n",
       "                    0],\n",
       "        [          37,           37,           37,           37,           37,\n",
       "                    0,            0,            0,            0,            0,\n",
       "                    0,            0,            0,            0,            0,\n",
       "                    0,            0,            0,            0,            0,\n",
       "                    0,            0,            0,            0,            0,\n",
       "                    0,            0,            0,            0,            0,\n",
       "                    0,            0,            0,            0,            0,\n",
       "                    0,            0,            0,            0,            0,\n",
       "                    0,            0,            0,            0,            0,\n",
       "                    0,            0,            0,            0,            0,\n",
       "                    0,            0,            0,            0,            0,\n",
       "                    0,            0,            0,            0,            0,\n",
       "          ...,            0,            0,            0,            0,\n",
       "                    0,            0,            0,            0,            0,\n",
       "                    0,            0,            0,            0,            0,\n",
       "                    0,            0,            0,            0,            0,\n",
       "                    0,            0,            0,            0,            0,\n",
       "                    0,            0,            0,            0,            0,\n",
       "                    0,            0,            0,            0,            0,\n",
       "                    0,            0,            0,            0,            0,\n",
       "                    0,            0,            0,            0,            0,\n",
       "                    0,            0,            0,            0,            0,\n",
       "                    0,            0,            0,            0,            0,\n",
       "                    0,            0,            0,            0,            0,\n",
       "                    0],\n",
       "        [          37,           37,           37,           37,           37,\n",
       "                    0,            0,    100663360,            0,    100663360,\n",
       "                    0,    100663360,            0,            0,            0,\n",
       "                    0,            0,            0,            0,            0,\n",
       "                    0,            0,            0,            0,            0,\n",
       "                    0,            0,            0,            0,            0,\n",
       "                    0,            0,            0,            0,            0,\n",
       "                    0,            0,            0,            0,            0,\n",
       "                    0,            0,            0,            0,    100663360,\n",
       "                    0,            0,            0,            0,            0,\n",
       "                    0,            0,            0,            0,            0,\n",
       "                    0,            0,            0,            0,            0,\n",
       "          ...,            0,            0,            0,            0,\n",
       "                    0,            0,            0,            0,            0,\n",
       "                    0,            0,            0,            0,            0,\n",
       "                    0,            0,            0,            0,            0,\n",
       "                    0,            0,            0,            0,            0,\n",
       "                    0,            0,            0,            0,            0,\n",
       "                    0,            0,            0,            0,            0,\n",
       "                    0,            0,            0,            0,            0,\n",
       "                    0,            0,            0,            0,            0,\n",
       "                    0,            0,            0,            0,            0,\n",
       "                    0,            0,            0,            0,            0,\n",
       "                    0,            0,            0,            0,            0,\n",
       "                    0],\n",
       "        [          37,           37,           37,           37,           37,\n",
       "                    0,            0,            0,            0,            0,\n",
       "                    0,            0,            0,            0,            0,\n",
       "                    0,            0,            0,            0,            0,\n",
       "                    0,            0,            0,            0,            0,\n",
       "                    0,            0,            0,            0,            0,\n",
       "                    0,            0,            0,            0,            0,\n",
       "                    0,            0,            0,            0,            0,\n",
       "                    0,            0,            0,            0,            0,\n",
       "                    0,            0,            0,            0,            0,\n",
       "                    0,            0,            0,            0,            0,\n",
       "                    0,            0,            0,            0,            0,\n",
       "          ...,            0,            0,            0,            0,\n",
       "                    0,            0,            0,            0,            0,\n",
       "                    0,            0,            0,            0,            0,\n",
       "                    0,            0,            0,            0,            0,\n",
       "                    0,            0,            0,            0,            0,\n",
       "                    0,            0,            0,            0,            0,\n",
       "                    0,            0,            0,            0,            0,\n",
       "                    0,            0,            0,            0,            0,\n",
       "                    0,            0,            0,            0,            0,\n",
       "                    0,            0,            0,            0,            0,\n",
       "                    0,            0,            0,            0,            0,\n",
       "                    0,            0,            0,            0,            0,\n",
       "                    0],\n",
       "        [          37,           37,           37,           37,           37,\n",
       "                    0,            0,            0,            0,            0,\n",
       "                    0,            0,            0,            0,            0,\n",
       "                    0,            0,            0,            0,            0,\n",
       "                    0,            0,            0,            0,            0,\n",
       "                    0,            0,            0,            0,            0,\n",
       "                    0,            0,            0,            0,            0,\n",
       "                    0,            0,            0,            0,    100663360,\n",
       "                    0,            0,            0,            0,            0,\n",
       "                    0,            0,            0,            0,            0,\n",
       "                    0,            0,            0,            0,            0,\n",
       "                    0,            0,            0,            0,            0,\n",
       "          ...,            0,            0,            0,            0,\n",
       "                    0,            0,            0,            0,            0,\n",
       "                    0,            0,            0,            0,            0,\n",
       "                    0,            0,            0,            0,            0,\n",
       "                    0,            0,            0,            0,            0,\n",
       "                    0,            0,            0,            0,            0,\n",
       "                    0,            0,            0,            0,            0,\n",
       "                    0,            0,            0,            0,            0,\n",
       "                    0,            0,            0,            0,            0,\n",
       "                    0,            0,            0,            0,            0,\n",
       "                    0,            0,            0,            0,            0,\n",
       "                    0,            0,            0,            0,            0,\n",
       "                    0],\n",
       "        [          37,           37,           37,           37,           37,\n",
       "                    0,            0,  51640270936,  51640270936,  51640270936,\n",
       "          51640270936,  51640275032,  51640275032,            0,            0,\n",
       "                    0,            0,            0,            0,            0,\n",
       "                    0,            0,            0,            0,            0,\n",
       "                    0,            0,            0,            0,            0,\n",
       "                    0,            0,            0,            0,            0,\n",
       "                    0,            0,            0,            0,            0,\n",
       "                    0,            0,            0,            0,            0,\n",
       "                    0,            0,            0,            0,            0,\n",
       "                    0,            0,            0,            0,            0,\n",
       "                    0,            0,            0,            0,            0,\n",
       "          ...,            0,            0,            0,            0,\n",
       "                    0,            0,            0,            0,            0,\n",
       "                    0,            0,            0,            0,            0,\n",
       "                    0,            0,            0,            0,            0,\n",
       "                    0,            0,            0,            0,            0,\n",
       "                    0,            0,            0,            0,            0,\n",
       "                    0,            0,            0,            0,            0,\n",
       "                    0,            0,            0,            0,            0,\n",
       "                    0,            0,            0,            0,            0,\n",
       "                    0,            0,            0,            0,            0,\n",
       "                    0,            0,            0,            0,            0,\n",
       "                    0,            0,            0,            0,            0,\n",
       "                    0],\n",
       "        [          37,           37,           37,           37,           37,\n",
       "                    0,            0,  51640270936,  51640270936,  51640270936,\n",
       "          51640270936,  51640275032,  51640275032,            0,            0,\n",
       "                    0,            0,            0,            0,            0,\n",
       "                    0,            0,            0,            0,            0,\n",
       "                    0,            0,            0,            0,            0,\n",
       "                    0,            0,            0,            0,            0,\n",
       "                    0,            0,            0,            0,            0,\n",
       "                    0,            0,            0,            0,            0,\n",
       "                    0,            0,            0,            0,            0,\n",
       "                    0,            0,            0,            0,            0,\n",
       "                    0,            0,            0,            0,            0,\n",
       "          ...,            0,            0,            0,            0,\n",
       "                    0,            0,            0,            0,            0,\n",
       "                    0,            0,            0,            0,            0,\n",
       "                    0,            0,            0,            0,            0,\n",
       "                    0,            0,            0,            0,            0,\n",
       "                    0,            0,            0,            0,            0,\n",
       "                    0,            0,            0,            0,            0,\n",
       "                    0,            0,            0,            0,            0,\n",
       "                    0,            0,            0,            0,            0,\n",
       "                    0,            0,            0,            0,            0,\n",
       "                    0,            0,            0,            0,            0,\n",
       "                    0,            0,            0,            0,            0,\n",
       "                    0],\n",
       "        [          37,           37,           37,           37,           37,\n",
       "                    0,            0,            0,            0,            0,\n",
       "                    0,    100667456,            0,            0,            0,\n",
       "                    0,            0,            0,            0,            0,\n",
       "                    0,            0,            0,            0,            0,\n",
       "                    0,            0,            0,            0,            0,\n",
       "                    0,            0, 103184072768,            0,            0,\n",
       "                    0,            0,            0,            0,            0,\n",
       "                    0,            0,            0,            0,            0,\n",
       "                    0,            0,            0,            0,            0,\n",
       "                    0,            0,            0,            0,            0,\n",
       "                    0,            0,            0,            0,            0,\n",
       "          ...,            0,            0,            0,            0,\n",
       "                    0,            0,            0,            0,            0,\n",
       "                    0,            0,            0,            0,            0,\n",
       "                    0,            0,            0,            0,            0,\n",
       "                    0,            0,            0,            0,            0,\n",
       "                    0,            0,            0,            0,            0,\n",
       "                    0,            0,            0,            0,            0,\n",
       "                    0,            0,            0,            0,            0,\n",
       "                    0,            0,            0,            0,            0,\n",
       "                    0,            0,            0,            0,            0,\n",
       "                    0,            0,            0,            0,            0,\n",
       "                    0,            0,            0,            0,            0,\n",
       "                    0],\n",
       "        [          37,           37,           37,           37,           37,\n",
       "                    0,            0,    100663360,            0,    100663360,\n",
       "                    0,            0,            0,            0,            0,\n",
       "                    0,            0,            0,            0,            0,\n",
       "                    0,            0,            0,            0,            0,\n",
       "                    0,            0,            0,            0,            0,\n",
       "                    0,            0,            0,            0,            0,\n",
       "                    0,            0,            0,            0,            0,\n",
       "                    0,            0,            0,            0,            0,\n",
       "                    0,            0,            0,            0,            0,\n",
       "                    0,            0,            0,            0,            0,\n",
       "                    0,            0,            0,            0,            0,\n",
       "          ...,            0,            0,            0,            0,\n",
       "                    0,            0,            0,            0,            0,\n",
       "                    0,            0,            0,            0,            0,\n",
       "                    0,            0,            0,            0,            0,\n",
       "                    0,            0,            0,            0,            0,\n",
       "                    0,            0,            0,            0,            0,\n",
       "                    0,            0,            0,            0,            0,\n",
       "                    0,            0,            0,            0,            0,\n",
       "                    0,            0,            0,            0,            0,\n",
       "                    0,            0,            0,            0,            0,\n",
       "                    0,            0,            0,            0,            0,\n",
       "                    0,            0,            0,            0,            0,\n",
       "                    0],\n",
       "        [          37,           37,           37,           37,           37,\n",
       "                    0,            0,            0,            0,            0,\n",
       "                    0,            0,            0,            0,            0,\n",
       "                    0,            0,            0,            0,            0,\n",
       "                    0,            0,            0,            0,            0,\n",
       "                    0,            0,            0,            0,            0,\n",
       "                    0,            0,            0,            0,            0,\n",
       "                    0,            0,            0,            0,            0,\n",
       "                    0,            0,            0,            0,            0,\n",
       "                    0,            0,            0,            0,            0,\n",
       "                    0,            0,            0,            0,            0,\n",
       "                    0,            0,            0,            0,            0,\n",
       "          ...,            0,            0,            0,            0,\n",
       "                    0,            0,            0,            0,            0,\n",
       "                    0,            0,            0,            0,            0,\n",
       "                    0,            0,            0,            0,            0,\n",
       "                    0,            0,            0,            0,            0,\n",
       "                    0,            0,            0,            0,            0,\n",
       "                    0,            0,            0,            0,            0,\n",
       "                    0,            0,            0,            0,            0,\n",
       "                    0,            0,            0,            0,            0,\n",
       "                    0,            0,            0,            0,            0,\n",
       "                    0,            0,            0,            0,            0,\n",
       "                    0,            0,            0,            0,            0,\n",
       "                    0],\n",
       "        [          37,           37,           37,           37,           37,\n",
       "                    0,            0,            0,            0,            0,\n",
       "                    0,            0,            0,            0,            0,\n",
       "                    0,            0,            0,            0,            0,\n",
       "                    0,            0,            0,            0,            0,\n",
       "                    0,            0,            0,            0,            0,\n",
       "                    0,            0,            0,            0,            0,\n",
       "                    0,            0,            0,            0,            0,\n",
       "                    0,            0,            0,            0,            0,\n",
       "                    0,            0,            0,            0,            0,\n",
       "                    0,            0,            0,            0,            0,\n",
       "                    0,            0,            0,            0,            0,\n",
       "          ...,            0,            0,            0,            0,\n",
       "                    0,            0,            0,            0,            0,\n",
       "                    0,            0,            0,            0,            0,\n",
       "                    0,            0,            0,            0,            0,\n",
       "                    0,            0,            0,            0,            0,\n",
       "                    0,            0,            0,            0,            0,\n",
       "                    0,            0,            0,            0,            0,\n",
       "                    0,            0,            0,            0,            0,\n",
       "                    0,            0,            0,            0,            0,\n",
       "                    0,            0,            0,            0,            0,\n",
       "                    0,            0,            0,            0,            0,\n",
       "                    0,            0,            0,            0,            0,\n",
       "                    0],\n",
       "        [          37,           37,           37,           37,           37,\n",
       "                    0,            0,            0,            0,            0,\n",
       "                    0,            0,            0,            0,            0,\n",
       "                    0,            0,            0,            0,            0,\n",
       "                    0,            0,            0,            0,            0,\n",
       "                    0, 180489289920, 180489289920,            0,            0,\n",
       "                    0,            0,            0,            0,            0,\n",
       "                    0,            0,            0,            0,            0,\n",
       "                    0,            0,            0,            0,            0,\n",
       "                    0,            0,            0,            0,            0,\n",
       "                    0,            0,            0,            0,            0,\n",
       "                    0,            0,            0,            0,            0,\n",
       "          ...,            0,            0,            0,            0,\n",
       "                    0,            0,            0,            0,            0,\n",
       "                    0,            0,            0,            0,            0,\n",
       "                    0,            0,            0,            0,            0,\n",
       "                    0,            0,            0,            0,            0,\n",
       "                    0,            0,            0,            0,            0,\n",
       "                    0,            0,            0,            0,            0,\n",
       "                    0,            0,            0,            0,            0,\n",
       "                    0,            0,            0,            0,            0,\n",
       "                    0,            0,            0,            0,            0,\n",
       "                    0,            0,            0,            0,            0,\n",
       "                    0,            0,            0,            0,            0,\n",
       "                    0],\n",
       "        [          37,           37,           37,           37,           37,\n",
       "                    0,            0,            0,            0,            0,\n",
       "                    0,            0,            0,            0,            0,\n",
       "                    0,            0,            0,            0,            0,\n",
       "                    0,            0,            0,            0,            0,\n",
       "                    0, 421007458880,            0,            0,            0,\n",
       "                    0, 167738605632,            0,            0,            0,\n",
       "                    0,            0,            0,            0,            0,\n",
       "                    0,            0,            0,            0,            0,\n",
       "                    0,            0,            0,            0,            0,\n",
       "                    0,            0,            0,            0,            0,\n",
       "                    0,            0,            0,            0,            0,\n",
       "          ...,            0,            0,            0,            0,\n",
       "                    0,            0,            0,            0,            0,\n",
       "                    0,            0,            0,            0,            0,\n",
       "                    0,            0,            0,            0,            0,\n",
       "                    0,            0,            0,            0,            0,\n",
       "                    0,            0,            0,            0,            0,\n",
       "                    0,            0,            0,            0,            0,\n",
       "                    0,            0,            0,            0,            0,\n",
       "                    0,            0,            0,            0,            0,\n",
       "                    0,            0,            0,            0,            0,\n",
       "                    0,            0,            0,            0,            0,\n",
       "                    0,            0,            0,            0,            0,\n",
       "                    0],\n",
       "        [          37,           37,           37,           37,           37,\n",
       "                    0,            0,            0,            0,            0,\n",
       "                    0,            0,            0,            0,            0,\n",
       "                    0,            0,            0,            0,            0,\n",
       "                    0,            0,            0,            0,            0,\n",
       "                    0,            0,            0,            0,            0,\n",
       "                    0,            0,            0,            0,            0,\n",
       "                    0,            0,    100667456,    100663360,    100663360,\n",
       "                    0,            0,    100663360,    100663360,    100667456,\n",
       "                    0,            0,            0,            0,            0,\n",
       "                    0,            0,            0,            0,            0,\n",
       "                    0,            0,            0,            0,            0,\n",
       "          ...,            0,            0,            0,            0,\n",
       "                    0,            0,            0,            0,            0,\n",
       "                    0,            0,            0,            0,            0,\n",
       "                    0,            0,            0,            0,            0,\n",
       "                    0,            0,            0,            0,            0,\n",
       "                    0,            0,            0,            0,            0,\n",
       "                    0,            0,            0,            0,            0,\n",
       "                    0,            0,            0,            0,            0,\n",
       "                    0,            0,            0,            0,            0,\n",
       "                    0,            0,            0,            0,            0,\n",
       "                    0,            0,            0,            0,            0,\n",
       "                    0,            0,            0,            0,            0,\n",
       "                    0],\n",
       "        [          37,           37,           37,           37,           37,\n",
       "                    0,            0,            0,            0,            0,\n",
       "                    0,            0,            0,            0,            0,\n",
       "                    0,            0,            0,            0,            0,\n",
       "                    0,            0,            0, 133244649664,            0,\n",
       "                    0,            0,            0,            0,            0,\n",
       "         451072229568, 451072229568, 451072229568,            0,            0,\n",
       "                    0,            0,    100667456,            0, 137543811136,\n",
       "         137543811136, 137543811136, 137543811136,            0,    100667456,\n",
       "                    0,            0,            0,            0,            0,\n",
       "                    0,            0,            0,            0,            0,\n",
       "                    0,            0,            0,            0,            0,\n",
       "          ...,            0,            0,            0,            0,\n",
       "                    0,            0,            0,            0,            0,\n",
       "                    0,            0,            0,            0,            0,\n",
       "                    0,            0,            0,            0,            0,\n",
       "                    0,            0,            0,            0,            0,\n",
       "                    0,            0,            0,            0,            0,\n",
       "                    0,            0,            0,            0,            0,\n",
       "                    0,            0,            0,            0,            0,\n",
       "                    0,            0,            0,            0,            0,\n",
       "                    0,            0,            0,            0,            0,\n",
       "                    0,            0,            0,            0,            0,\n",
       "                    0,            0,            0,            0,            0,\n",
       "                    0],\n",
       "        [          37,           37,           37,           37,           37,\n",
       "                    0,            0,            0,            0,            0,\n",
       "                    0,            0,            0,            0,            0,\n",
       "                    0,            0,            0,            0,            0,\n",
       "                    0,            0,            0, 128949747776,            0,\n",
       "                    0,            0,            0,            0,            0,\n",
       "                    0, 451072229568,            0,            0,            0,\n",
       "                    0,            0,    100667456,            0, 137543811136,\n",
       "         137543811136, 137543811136, 137543811136,            0,    100667456,\n",
       "                    0,            0,            0,            0,            0,\n",
       "                    0,            0,            0,            0,            0,\n",
       "                    0,            0,            0,            0,            0,\n",
       "          ...,            0,            0,            0,            0,\n",
       "                    0,            0,            0,            0,            0,\n",
       "                    0,            0,            0,            0,            0,\n",
       "                    0,            0,            0,            0,            0,\n",
       "                    0,            0,            0,            0,            0,\n",
       "                    0,            0,            0,            0,            0,\n",
       "                    0,            0,            0,            0,            0,\n",
       "                    0,            0,            0,            0,            0,\n",
       "                    0,            0,            0,            0,            0,\n",
       "                    0,            0,            0,            0,            0,\n",
       "                    0,            0,            0,            0,            0,\n",
       "                    0,            0,            0,            0,            0,\n",
       "                    0],\n",
       "        [          37,           37,           37,           37,           37,\n",
       "                    0,            0,            0,            0,            0,\n",
       "                    0,            0,            0,            0,            0,\n",
       "                    0,            0,            0,            0,            0,\n",
       "                    0,            0,            0,            0,            0,\n",
       "                    0,            0,            0,            0,            0,\n",
       "                    0, 451072229568,            0,            0,            0,\n",
       "                    0,            0,    100667456,            0, 137543811136,\n",
       "         137543811136, 137543811136, 137543811136,            0,    100667456,\n",
       "                    0,            0,            0,            0,            0,\n",
       "                    0,            0,            0,            0,            0,\n",
       "                    0,            0,            0,            0,            0,\n",
       "          ...,            0,            0,            0,            0,\n",
       "                    0,            0,            0,            0,            0,\n",
       "                    0,            0,            0,            0,            0,\n",
       "                    0,            0,            0,            0,            0,\n",
       "                    0,            0,            0,            0,            0,\n",
       "                    0,            0,            0,            0,            0,\n",
       "                    0,            0,            0,            0,            0,\n",
       "                    0,            0,            0,            0,            0,\n",
       "                    0,            0,            0,            0,            0,\n",
       "                    0,            0,            0,            0,            0,\n",
       "                    0,            0,            0,            0,            0,\n",
       "                    0,            0,            0,            0,            0,\n",
       "                    0],\n",
       "        [          37,           37,           37,           37,           37,\n",
       "                    0,            0,            0,            0,            0,\n",
       "                    0,            0,            0,            0,            0,\n",
       "                    0,            0,            0,            0,            0,\n",
       "                    0,            0,            0,            0,            0,\n",
       "                    0,            0,            0,            0,            0,\n",
       "                    0,            0,            0,            0,            0,\n",
       "                    0,            0,    100667456,            0, 137543811136,\n",
       "         137543811136, 137543811136, 137543811136,            0,    100667456,\n",
       "                    0,            0,            0,            0,            0,\n",
       "                    0,            0,            0,            0,            0,\n",
       "                    0,            0,            0,            0,            0,\n",
       "          ...,            0,            0,            0,            0,\n",
       "                    0,            0,            0,            0,            0,\n",
       "                    0,            0,            0,            0,            0,\n",
       "                    0,            0,            0,            0,            0,\n",
       "                    0,            0,            0,            0,            0,\n",
       "                    0,            0,            0,            0,            0,\n",
       "                    0,            0,            0,            0,            0,\n",
       "                    0,            0,            0,            0,            0,\n",
       "                    0,            0,            0,            0,            0,\n",
       "                    0,            0,            0,            0,            0,\n",
       "                    0,            0,            0,            0,            0,\n",
       "                    0,            0,            0,            0,            0,\n",
       "                    0],\n",
       "        [          37,           37,           37,           37,           37,\n",
       "                    0,            0,            0,            0,            0,\n",
       "                    0,            0,            0,            0,            0,\n",
       "                    0,            0,            0,            0, 133244666048,\n",
       "         133244666048, 133244666048, 133244666048,            0,            0,\n",
       "                    0,            0,            0,            0,            0,\n",
       "                    0,            0,            0,            0,            0,\n",
       "                    0,            0,    100667456,            0,            0,\n",
       "                    0,            0,            0,            0,    100667456,\n",
       "                    0,            0,            0,            0,            0,\n",
       "                    0,            0,            0,            0,            0,\n",
       "                    0,            0,            0,            0,            0,\n",
       "          ...,            0,            0,            0,            0,\n",
       "                    0,            0,            0,            0,            0,\n",
       "                    0,            0,            0,            0,            0,\n",
       "                    0,            0,            0,            0,            0,\n",
       "                    0,            0,            0,            0,            0,\n",
       "                    0,            0,            0,            0,            0,\n",
       "                    0,            0,            0,            0,            0,\n",
       "                    0,            0,            0,            0,            0,\n",
       "                    0,            0,            0,            0,            0,\n",
       "                    0,            0,            0,            0,            0,\n",
       "                    0,            0,            0,            0,            0,\n",
       "                    0,            0,            0,            0,            0,\n",
       "                    0],\n",
       "        [          37,           37,           37,           37,           37,\n",
       "                    0,            0,            0,            0,            0,\n",
       "                    0,            0,            0,            0,            0,\n",
       "                    0,            0,            0,            0,            0,\n",
       "                    0,            0,            0,            0,            0,\n",
       "                    0,            0,            0,            0,            0,\n",
       "                    0,            0,            0,            0,            0,\n",
       "                    0,            0,    100667456,            0,            0,\n",
       "                    0,            0,            0,            0,    100667456,\n",
       "                    0,            0,            0,            0,            0,\n",
       "                    0,            0,            0,            0,            0,\n",
       "                    0,            0,            0,            0,            0,\n",
       "          ...,            0,            0,            0,            0,\n",
       "                    0,            0,            0,            0,            0,\n",
       "                    0,            0,            0,            0,            0,\n",
       "                    0,            0,            0,            0,            0,\n",
       "                    0,            0,            0,            0,            0,\n",
       "                    0,            0,            0,            0,            0,\n",
       "                    0,            0,            0,            0,            0,\n",
       "                    0,            0,            0,            0,            0,\n",
       "                    0,            0,            0,            0,            0,\n",
       "                    0,            0,            0,            0,            0,\n",
       "                    0,            0,            0,            0,            0,\n",
       "                    0,            0,            0,            0,            0,\n",
       "                    0],\n",
       "        [          37,           37,           37,           37,           37,\n",
       "                    0,            0,            0,            0,            0,\n",
       "                    0,            0,            0,            0,            0,\n",
       "                    0,            0,            0,            0,            0,\n",
       "         197669371968, 197669371968,            0,            0,            0,\n",
       "                    0,            0,            0,            0,            0,\n",
       "                    0,            0,            0,            0,            0,\n",
       "                    0,            0,    100667456,    100663360,    100663360,\n",
       "            100663360,    100663360,    100663360,    100663360,    100667456,\n",
       "                    0,            0,            0,            0,            0,\n",
       "                    0,            0,            0,            0,            0,\n",
       "                    0,            0,            0,            0,  64525172800,\n",
       "          ...,            0,            0,            0,            0,\n",
       "                    0,            0,            0,            0,            0,\n",
       "                    0,            0,            0,            0,            0,\n",
       "                    0,            0,            0,            0,            0,\n",
       "                    0,            0,            0,            0,            0,\n",
       "                    0,            0,            0,            0,            0,\n",
       "                    0,            0,            0,            0,            0,\n",
       "                    0,            0,            0,            0,            0,\n",
       "                    0,            0,            0,            0,            0,\n",
       "                    0,            0,            0,            0,            0,\n",
       "                    0,            0,            0,            0,            0,\n",
       "                    0,            0,            0,            0,            0,\n",
       "                    0],\n",
       "        [          37,           37,           37,           37,           37,\n",
       "                    0,            0,            0,            0,            0,\n",
       "                    0,            0,            0,            0,            0,\n",
       "                    0,            0,            0,            0,            0,\n",
       "         197669371968, 197669371968,            0,            0,            0,\n",
       "                    0,            0,            0,            0,            0,\n",
       "                    0,            0,            0,            0,            0,\n",
       "                    0,            0,            0,            0,            0,\n",
       "                    0,            0,            0,            0,            0,\n",
       "                    0,            0,            0,            0,            0,\n",
       "                    0,            0,            0,            0,            0,\n",
       "                    0,            0,            0,            0,            0,\n",
       "          ...,            0,            0,            0,            0,\n",
       "                    0,            0,            0,            0,            0,\n",
       "                    0,            0,            0,            0,            0,\n",
       "                    0,            0,            0,            0,            0,\n",
       "                    0,            0,            0,            0,            0,\n",
       "                    0,            0,            0,            0,            0,\n",
       "                    0,            0,            0,            0,            0,\n",
       "                    0,            0,            0,            0,            0,\n",
       "                    0,            0,            0,            0,            0,\n",
       "                    0,            0,            0,            0,            0,\n",
       "                    0,            0,            0,            0,            0,\n",
       "                    0,            0,            0,            0,            0,\n",
       "                    0],\n",
       "        [          37,           37,           37,           37,           37,\n",
       "                    0,            0,            0,            0,            0,\n",
       "                    0,            0,            0,            0,            0,\n",
       "                    0,            0,            0,            0,            0,\n",
       "                    0,            0,            0,            0,            0,\n",
       "                    0,            0,            0,            0,            0,\n",
       "                    0,            0,            0,            0,            0,\n",
       "                    0,            0,            0,            0,            0,\n",
       "                    0,            0,            0,            0,            0,\n",
       "                    0,            0,            0,            0,            0,\n",
       "                    0,            0,            0,            0,            0,\n",
       "                    0,            0,            0,            0,            0,\n",
       "          ...,            0,            0,            0,            0,\n",
       "                    0,            0,            0,            0,            0,\n",
       "                    0,            0,            0,            0,            0,\n",
       "                    0,            0,            0,            0,            0,\n",
       "                    0,            0,            0,            0,            0,\n",
       "                    0,            0,            0,            0,            0,\n",
       "                    0,            0,            0,            0,            0,\n",
       "                    0,            0,            0,            0,            0,\n",
       "                    0,            0,            0,            0,            0,\n",
       "                    0,            0,            0,            0,            0,\n",
       "                    0,            0,            0,            0,            0,\n",
       "                    0,            0,            0,            0,            0,\n",
       "                    0],\n",
       "        [          37,           37,           37,           37,           37,\n",
       "                    0,            0,            0,            0,            0,\n",
       "                    0,            0,            0,            0,            0,\n",
       "                    0,            0,            0,            0,            0,\n",
       "                    0,            0,            0,            0,            0,\n",
       "                    0,            0,            0,            0,            0,\n",
       "                    0,            0,            0,            0,            0,\n",
       "                    0,            0,            0,            0,            0,\n",
       "                    0,            0,            0,            0,            0,\n",
       "                    0,            0,            0,            0,            0,\n",
       "                    0,            0,            0,            0,            0,\n",
       "                    0,            0,            0,            0, 137539616832,\n",
       "          ...,            0,            0,            0,            0,\n",
       "                    0,            0,            0,            0,            0,\n",
       "                    0,            0,            0,            0,            0,\n",
       "                    0,            0,            0,            0,            0,\n",
       "                    0,            0,            0,            0,            0,\n",
       "                    0,            0,            0,            0,            0,\n",
       "                    0,            0,            0,            0,            0,\n",
       "                    0,            0,            0,            0,            0,\n",
       "                    0,            0,            0,            0,            0,\n",
       "                    0,            0,            0,            0,            0,\n",
       "                    0,            0,            0,            0,            0,\n",
       "                    0,            0,            0,            0,            0,\n",
       "                    0],\n",
       "        [           0,            0,            0,            0,            0,\n",
       "                    0,            0,            0,            0,            0,\n",
       "                    0,            0,            0,            0,            0,\n",
       "                    0,            0,            0,            0,            0,\n",
       "                    0,            0,            0,            0,            0,\n",
       "                    0,   4395630656,            0,            0,            0,\n",
       "                    0,            0,            0,            0,            0,\n",
       "                    0,            0,            0,            0,            0,\n",
       "                    0,            0,            0,            0,            0,\n",
       "                    0,            0,            0,            0,            0,\n",
       "                    0,            0,            0,            0,            0,\n",
       "                    0,            0,            0,            0, 137539616832,\n",
       "          ...,            0,            0,            0,            0,\n",
       "                    0,            0,            0,            0,            0,\n",
       "                    0,            0,            0,            0,            0,\n",
       "                    0,            0,            0,            0,            0,\n",
       "                    0,            0,            0,            0,            0,\n",
       "                    0,            0,            0,            0,            0,\n",
       "                    0,            0,            0,            0,            0,\n",
       "                    0,            0,            0,            0,            0,\n",
       "                    0,            0,            0,            0,            0,\n",
       "                    0,            0,            0,            0,            0,\n",
       "                    0,            0,            0,            0,            0,\n",
       "                    0,            0,            0,            0,            0,\n",
       "                    0],\n",
       "        [           0,            0,            0,            0,            0,\n",
       "                    0,            0,            0,            0,            0,\n",
       "                    0,            0,            0,            0,            0,\n",
       "                    0,            0,            0,            0,            0,\n",
       "                    0,            0,            0,            0,            0,\n",
       "                    0,            0,            0,            0,            0,\n",
       "                    0,            0,            0,            0,            0,\n",
       "                    0,            0,            0,            0,            0,\n",
       "                    0,            0,            0,            0,            0,\n",
       "                    0,            0,            0,            0,            0,\n",
       "                    0,            0,            0,            0,            0,\n",
       "                    0,            0,            0,            0, 137539616832,\n",
       "          ...,            0,            0,            0,            0,\n",
       "                    0,            0,            0,            0,            0,\n",
       "                    0,            0,            0,            0,            0,\n",
       "                    0,            0,            0,            0,            0,\n",
       "                    0,            0,            0,            0,            0,\n",
       "                    0,            0,            0,            0,            0,\n",
       "                    0,            0,            0,            0,            0,\n",
       "                    0,            0,            0,            0,            0,\n",
       "                    0,            0,            0,            0,            0,\n",
       "                    0,            0,            0,            0,            0,\n",
       "                    0,            0,            0,            0,            0,\n",
       "                    0,            0,            0,            0,            0,\n",
       "                    0],\n",
       "        [           0,            0,            0,            0,            0,\n",
       "                    0,            0,            0,            0,            0,\n",
       "                    0,            0,            0,            0,            0,\n",
       "                    0,            0,            0,            0,            0,\n",
       "                    0,            0,            0,            0,            0,\n",
       "                    0,            0,            0,            0,            0,\n",
       "                    0,            0,            0,            0,            0,\n",
       "                    0,            0,            0,            0,            0,\n",
       "                    0,            0,            0,            0,            0,\n",
       "                    0,            0,            0,            0,            0,\n",
       "                    0,            0,            0,            0,            0,\n",
       "                    0,            0,            0,            0, 137539616832,\n",
       "          ...,            0,            0,            0,            0,\n",
       "                    0,            0,            0,            0,            0,\n",
       "                    0,            0,            0,            0,            0,\n",
       "                    0,            0,            0,            0,            0,\n",
       "                    0,            0,            0,            0,            0,\n",
       "                    0,            0,            0,            0,            0,\n",
       "                    0,            0,            0,            0,            0,\n",
       "                    0,            0,            0,            0,            0,\n",
       "                    0,            0,            0,            0,            0,\n",
       "                    0,            0,            0,            0,            0,\n",
       "                    0,            0,            0,            0,            0,\n",
       "                    0,            0,            0,            0,            0,\n",
       "                    0],\n",
       "        [           0,            0,            0,            0,            0,\n",
       "                    0,            0,            0,            0,            0,\n",
       "                    0,            0,            0,            0,            0,\n",
       "                    0,            0,            0,            0,            0,\n",
       "                    0,            0,            0,            0,            0,\n",
       "                    0,            0,            0,            0,            0,\n",
       "                    0,            0,            0,            0,            0,\n",
       "                    0,            0,            0,            0,            0,\n",
       "                    0,            0,            0,            0,            0,\n",
       "                    0,            0,            0,            0,            0,\n",
       "                    0,            0,            0,            0,            0,\n",
       "                    0,            0,            0,            0,            0,\n",
       "          ...,            0,            0,            0,            0,\n",
       "                    0,            0,            0,            0,            0,\n",
       "                    0,            0,            0,            0,            0,\n",
       "                    0,            0,            0,            0,            0,\n",
       "                    0,            0,            0,            0,            0,\n",
       "                    0,            0,            0,            0,            0,\n",
       "                    0,            0,            0,            0,            0,\n",
       "                    0,            0,            0,            0,            0,\n",
       "                    0,            0,            0,            0,            0,\n",
       "                    0,            0,            0,            0,            0,\n",
       "                    0,            0,            0,            0,            0,\n",
       "                    0,            0,            0,            0,            0,\n",
       "                    0]])"
      ]
     },
     "execution_count": 155,
     "metadata": {},
     "output_type": "execute_result"
    }
   ],
   "source": [
    "testM = MarioMaker2File()\n",
    "testM.fromBytes(leveldata)\n",
    "asd = testM.mainLevelArea.toPytorchMatrix()[0]\n",
    "torch.set_printoptions(edgeitems=60)\n",
    "asd"
   ]
  },
  {
   "cell_type": "code",
   "execution_count": 156,
   "metadata": {},
   "outputs": [
    {
     "data": {
      "text/plain": [
       "<matplotlib.image.AxesImage at 0x2bdebe77d30>"
      ]
     },
     "execution_count": 156,
     "metadata": {},
     "output_type": "execute_result"
    },
    {
     "data": {
      "image/png": "[encoded data removed]",
      "text/plain": [
       "<Figure size 432x288 with 1 Axes>"
      ]
     },
     "metadata": {
      "needs_background": "light"
     },
     "output_type": "display_data"
    }
   ],
   "source": [
    "plt.imshow(torch.flip(asd, [-2]), cmap='gray', vmin=0, vmax=1)"
   ]
  },
  {
   "cell_type": "code",
   "execution_count": 157,
   "metadata": {
    "scrolled": true
   },
   "outputs": [
    {
     "data": {
      "text/plain": [
       "<matplotlib.image.AxesImage at 0x2bdec295198>"
      ]
     },
     "execution_count": 157,
     "metadata": {},
     "output_type": "execute_result"
    },
    {
     "data": {
      "image/png": "[encoded data removed]",
      "text/plain": [
       "<Figure size 432x288 with 1 Axes>"
      ]
     },
     "metadata": {
      "needs_background": "light"
     },
     "output_type": "display_data"
    }
   ],
   "source": [
    "plt.imshow(torch.flip(asd[:,15:40], [-2]), cmap='gray', vmin=0, vmax=1)"
   ]
  },
  {
   "cell_type": "code",
   "execution_count": 183,
   "metadata": {},
   "outputs": [
    {
     "name": "stderr",
     "output_type": "stream",
     "text": [
      " 94%|█████████████████████████████████████████████████████████████████████████████▏    | 16/17 [00:00<00:00, 27.80it/s]"
     ]
    },
    {
     "name": "stdout",
     "output_type": "stream",
     "text": [
      "bene dai\n"
     ]
    },
    {
     "name": "stderr",
     "output_type": "stream",
     "text": [
      "\n"
     ]
    },
    {
     "ename": "AssertionError",
     "evalue": "occupato: tensor(180489289924) 62 2 2 True True 2560 20960 5 True 15 130",
     "output_type": "error",
     "traceback": [
      "\u001b[1;31m---------------------------------------------------------------------------\u001b[0m",
      "\u001b[1;31mAssertionError\u001b[0m                            Traceback (most recent call last)",
      "\u001b[1;32m<ipython-input-183-b15489e6661d>\u001b[0m in \u001b[0;36m<module>\u001b[1;34m\u001b[0m\n\u001b[0;32m      1\u001b[0m \u001b[1;32mfor\u001b[0m \u001b[0mlevelMM\u001b[0m \u001b[1;32min\u001b[0m \u001b[0mtqdm\u001b[0m\u001b[1;33m(\u001b[0m\u001b[0mmarioMakerLevels\u001b[0m\u001b[1;33m)\u001b[0m\u001b[1;33m:\u001b[0m\u001b[1;33m\u001b[0m\u001b[1;33m\u001b[0m\u001b[0m\n\u001b[1;32m----> 2\u001b[1;33m     \u001b[0mlevelMM\u001b[0m\u001b[1;33m.\u001b[0m\u001b[0mmainLevelArea\u001b[0m\u001b[1;33m.\u001b[0m\u001b[0mtoPytorchMatrix\u001b[0m\u001b[1;33m(\u001b[0m\u001b[1;33m)\u001b[0m\u001b[1;33m\u001b[0m\u001b[1;33m\u001b[0m\u001b[0m\n\u001b[0m",
      "\u001b[1;32m<ipython-input-162-8f93fd47afd0>\u001b[0m in \u001b[0;36mtoPytorchMatrix\u001b[1;34m(self)\u001b[0m\n\u001b[0;32m    212\u001b[0m                 \u001b[1;32mfor\u001b[0m \u001b[0mi\u001b[0m \u001b[1;32min\u001b[0m \u001b[0mrange\u001b[0m \u001b[1;33m(\u001b[0m\u001b[1;36m0\u001b[0m\u001b[1;33m,\u001b[0m\u001b[0mwidth\u001b[0m\u001b[1;33m)\u001b[0m\u001b[1;33m:\u001b[0m\u001b[1;33m\u001b[0m\u001b[1;33m\u001b[0m\u001b[0m\n\u001b[0;32m    213\u001b[0m                     \u001b[1;32mfor\u001b[0m \u001b[0mj\u001b[0m \u001b[1;32min\u001b[0m \u001b[0mrange\u001b[0m \u001b[1;33m(\u001b[0m\u001b[1;36m0\u001b[0m\u001b[1;33m,\u001b[0m\u001b[0mheight\u001b[0m\u001b[1;33m)\u001b[0m\u001b[1;33m:\u001b[0m\u001b[1;33m\u001b[0m\u001b[1;33m\u001b[0m\u001b[0m\n\u001b[1;32m--> 214\u001b[1;33m                         \u001b[0mself\u001b[0m\u001b[1;33m.\u001b[0m\u001b[0msetCellMatrix\u001b[0m\u001b[1;33m(\u001b[0m\u001b[0mmatrix\u001b[0m\u001b[1;33m,\u001b[0m \u001b[0mobjectMM\u001b[0m\u001b[1;33m,\u001b[0m \u001b[0mlayer\u001b[0m\u001b[1;33m,\u001b[0m \u001b[0mobjectMM\u001b[0m\u001b[1;33m.\u001b[0m\u001b[0myPosition\u001b[0m \u001b[1;33m+\u001b[0m \u001b[1;33m(\u001b[0m\u001b[0mj\u001b[0m \u001b[1;33m*\u001b[0m \u001b[0mversoY\u001b[0m\u001b[1;33m)\u001b[0m\u001b[1;33m,\u001b[0m \u001b[0mobjectMM\u001b[0m\u001b[1;33m.\u001b[0m\u001b[0mxPosition\u001b[0m \u001b[1;33m+\u001b[0m \u001b[1;33m(\u001b[0m\u001b[0mi\u001b[0m \u001b[1;33m*\u001b[0m \u001b[0mversoX\u001b[0m\u001b[1;33m)\u001b[0m\u001b[1;33m,\u001b[0m \u001b[1;33m(\u001b[0m\u001b[0mi\u001b[0m \u001b[1;33m==\u001b[0m \u001b[1;36m0\u001b[0m \u001b[1;32mand\u001b[0m \u001b[0mj\u001b[0m \u001b[1;33m==\u001b[0m \u001b[1;36m0\u001b[0m\u001b[1;33m)\u001b[0m\u001b[1;33m)\u001b[0m\u001b[1;33m\u001b[0m\u001b[1;33m\u001b[0m\u001b[0m\n\u001b[0m\u001b[0;32m    215\u001b[0m                 \u001b[1;32mcontinue\u001b[0m\u001b[1;33m\u001b[0m\u001b[1;33m\u001b[0m\u001b[0m\n\u001b[0;32m    216\u001b[0m \u001b[1;33m\u001b[0m\u001b[0m\n",
      "\u001b[1;32m<ipython-input-162-8f93fd47afd0>\u001b[0m in \u001b[0;36msetCellMatrix\u001b[1;34m(self, matrix, objectMM, layer, yPosition, xPosition, childSoundCell)\u001b[0m\n\u001b[0;32m    309\u001b[0m         \u001b[1;32massert\u001b[0m \u001b[0mmatrix\u001b[0m\u001b[1;33m[\u001b[0m\u001b[0mlayer\u001b[0m\u001b[1;33m]\u001b[0m\u001b[1;33m[\u001b[0m\u001b[0myPosition\u001b[0m\u001b[1;33m]\u001b[0m\u001b[1;33m[\u001b[0m\u001b[0mxPosition\u001b[0m\u001b[1;33m]\u001b[0m \u001b[1;33m==\u001b[0m \u001b[1;36m0\u001b[0m \u001b[1;32mor\u001b[0m \u001b[0mmatrix\u001b[0m\u001b[1;33m[\u001b[0m\u001b[0mlayer\u001b[0m\u001b[1;33m]\u001b[0m\u001b[1;33m[\u001b[0m\u001b[0myPosition\u001b[0m\u001b[1;33m]\u001b[0m\u001b[1;33m[\u001b[0m\u001b[0mxPosition\u001b[0m\u001b[1;33m]\u001b[0m \u001b[1;33m==\u001b[0m \u001b[1;36m7\u001b[0m\u001b[1;33m,\u001b[0m \u001b[1;34m'occupato: '\u001b[0m \u001b[1;33m+\u001b[0m \u001b[0mstr\u001b[0m\u001b[1;33m(\u001b[0m\u001b[0mmatrix\u001b[0m\u001b[1;33m[\u001b[0m\u001b[0mlayer\u001b[0m\u001b[1;33m]\u001b[0m\u001b[1;33m[\u001b[0m\u001b[0myPosition\u001b[0m\u001b[1;33m]\u001b[0m\u001b[1;33m[\u001b[0m\u001b[0mxPosition\u001b[0m\u001b[1;33m]\u001b[0m\u001b[1;33m)\u001b[0m \u001b[1;33m+\u001b[0m \u001b[1;34m' '\u001b[0m \u001b[1;33m+\u001b[0m \u001b[0mstr\u001b[0m\u001b[1;33m(\u001b[0m\u001b[0mobjectMM\u001b[0m\u001b[1;33m.\u001b[0m\u001b[0mobjectType\u001b[0m\u001b[1;33m)\u001b[0m \u001b[1;33m+\u001b[0m \u001b[1;34m' '\u001b[0m \u001b[1;33m+\u001b[0m \u001b[0mstr\u001b[0m\u001b[1;33m(\u001b[0m\u001b[0mobjectMM\u001b[0m\u001b[1;33m.\u001b[0m\u001b[0mobjectWidth\u001b[0m\u001b[1;33m)\u001b[0m \u001b[1;33m+\u001b[0m \u001b[1;34m' '\u001b[0m \u001b[1;33m+\u001b[0m \u001b[0mstr\u001b[0m\u001b[1;33m(\u001b[0m\u001b[0mobjectMM\u001b[0m\u001b[1;33m.\u001b[0m\u001b[0mobjectHeight\u001b[0m\u001b[1;33m)\u001b[0m\u001b[0;31m\\\u001b[0m\u001b[1;33m\u001b[0m\u001b[1;33m\u001b[0m\u001b[0m\n\u001b[0;32m    310\u001b[0m         \u001b[1;33m+\u001b[0m \u001b[1;34m' '\u001b[0m \u001b[1;33m+\u001b[0m \u001b[0mstr\u001b[0m\u001b[1;33m(\u001b[0m\u001b[0mobjectMM\u001b[0m\u001b[1;33m.\u001b[0m\u001b[0mmiddleTileX\u001b[0m\u001b[1;33m)\u001b[0m \u001b[1;33m+\u001b[0m \u001b[1;34m' '\u001b[0m \u001b[1;33m+\u001b[0m \u001b[0mstr\u001b[0m\u001b[1;33m(\u001b[0m\u001b[0mobjectMM\u001b[0m\u001b[1;33m.\u001b[0m\u001b[0mmiddleTileY\u001b[0m\u001b[1;33m)\u001b[0m \u001b[1;33m+\u001b[0m \u001b[1;34m' '\u001b[0m \u001b[1;33m+\u001b[0m \u001b[0mstr\u001b[0m\u001b[1;33m(\u001b[0m\u001b[0mobjectMM\u001b[0m\u001b[1;33m.\u001b[0m\u001b[0myOriginalPosition\u001b[0m\u001b[1;33m)\u001b[0m \u001b[1;33m+\u001b[0m \u001b[1;34m' '\u001b[0m \u001b[1;33m+\u001b[0m \u001b[0mstr\u001b[0m\u001b[1;33m(\u001b[0m\u001b[0mobjectMM\u001b[0m\u001b[1;33m.\u001b[0m\u001b[0mxOriginalPosition\u001b[0m\u001b[1;33m)\u001b[0m \u001b[1;33m+\u001b[0m \u001b[1;34m' '\u001b[0m \u001b[1;33m+\u001b[0m \u001b[0mstr\u001b[0m\u001b[1;33m(\u001b[0m\u001b[0mobjectMM\u001b[0m\u001b[1;33m.\u001b[0m\u001b[0mlinkID\u001b[0m\u001b[1;33m)\u001b[0m \u001b[1;33m+\u001b[0m \u001b[1;34m' '\u001b[0m \u001b[1;33m+\u001b[0m \u001b[0mstr\u001b[0m\u001b[1;33m(\u001b[0m\u001b[0mchildSoundCell\u001b[0m\u001b[1;33m)\u001b[0m\u001b[0;31m\\\u001b[0m\u001b[1;33m\u001b[0m\u001b[1;33m\u001b[0m\u001b[0m\n\u001b[1;32m--> 311\u001b[1;33m         \u001b[1;33m+\u001b[0m \u001b[1;34m' '\u001b[0m \u001b[1;33m+\u001b[0m \u001b[0mstr\u001b[0m\u001b[1;33m(\u001b[0m\u001b[0myPosition\u001b[0m\u001b[1;33m)\u001b[0m \u001b[1;33m+\u001b[0m \u001b[1;34m' '\u001b[0m \u001b[1;33m+\u001b[0m \u001b[0mstr\u001b[0m\u001b[1;33m(\u001b[0m\u001b[0mxPosition\u001b[0m\u001b[1;33m)\u001b[0m\u001b[1;33m\u001b[0m\u001b[1;33m\u001b[0m\u001b[0m\n\u001b[0m\u001b[0;32m    312\u001b[0m         \u001b[0mmatrix\u001b[0m\u001b[1;33m[\u001b[0m\u001b[0mlayer\u001b[0m\u001b[1;33m]\u001b[0m\u001b[1;33m[\u001b[0m\u001b[0myPosition\u001b[0m\u001b[1;33m]\u001b[0m\u001b[1;33m[\u001b[0m\u001b[0mxPosition\u001b[0m\u001b[1;33m]\u001b[0m \u001b[1;33m=\u001b[0m \u001b[0mobjectMM\u001b[0m\u001b[1;33m.\u001b[0m\u001b[0mflagsType\u001b[0m\u001b[1;33m\u001b[0m\u001b[1;33m\u001b[0m\u001b[0m\n\u001b[0;32m    313\u001b[0m         \u001b[1;32mif\u001b[0m\u001b[1;33m(\u001b[0m\u001b[0mchildSoundCell\u001b[0m\u001b[1;33m)\u001b[0m\u001b[1;33m:\u001b[0m\u001b[1;33m\u001b[0m\u001b[1;33m\u001b[0m\u001b[0m\n",
      "\u001b[1;31mAssertionError\u001b[0m: occupato: tensor(180489289924) 62 2 2 True True 2560 20960 5 True 15 130"
     ]
    }
   ],
   "source": [
    "for levelMM in tqdm(marioMakerLevels):\n",
    "    levelMM.mainLevelArea.toPytorchMatrix()"
   ]
  },
  {
   "cell_type": "code",
   "execution_count": null,
   "metadata": {},
   "outputs": [],
   "source": []
  },
  {
   "cell_type": "code",
   "execution_count": 158,
   "metadata": {},
   "outputs": [
    {
     "name": "stderr",
     "output_type": "stream",
     "text": [
      "  0%|                                                                                | 4/13971 [00:00<11:31, 20.18it/s]"
     ]
    },
    {
     "name": "stdout",
     "output_type": "stream",
     "text": [
      "\u0000\u0000\u0000\u0000\u0000\u0000\u0000\u0000\u0000\u0000\u0000\u0000\u0000\u0000\u0000\u0000\u0000\u0000\u0000\u0000\u0000\u0000\u0000\u0000\u0000\u0000\u0000\u0000\u0000\u0000\u0000\u0000\u0000\n",
      ".bcd\n",
      ".\u0000\u0000\u0000\u0000\u0000\u0000\u0000\u0000\u0000\u0000\u0000\u0000\u0000\u0000\u0000\u0000\u0000\u0000\u0000\u0000\u0000\u0000\u0000\u0000\u0000\u0000\u0000\u0000\u0000\u0000\u0000\u0000\n",
      "._12720.bcd\n",
      "0-1 Strawberry Marshmallow\u0000\u0000\u0000\u0000\u0000\u0000\u0000\n",
      "0-1_strawberry_marshmallow_13844.bcd\n",
      "0-2 The Wind Rises\u0000\u0000\u0000\u0000\u0000\u0000\u0000\u0000\u0000\u0000\u0000\u0000\u0000\u0000\u0000\n",
      "0-2_the_wind_rises_15637.bcd\n"
     ]
    },
    {
     "name": "stderr",
     "output_type": "stream",
     "text": [
      "\r",
      "  0%|                                                                                | 8/13971 [00:00<10:31, 22.13it/s]"
     ]
    },
    {
     "name": "stdout",
     "output_type": "stream",
     "text": [
      "000\u0000\u0000\u0000\u0000\u0000\u0000\u0000\u0000\u0000\u0000\u0000\u0000\u0000\u0000\u0000\u0000\u0000\u0000\u0000\u0000\u0000\u0000\u0000\u0000\u0000\u0000\u0000\u0000\u0000\u0000\n",
      "000_3523.bcd\n",
      "001\u0000\u0000\u0000\u0000\u0000\u0000\u0000\u0000\u0000\u0000\u0000\u0000\u0000\u0000\u0000\u0000\u0000\u0000\u0000\u0000\u0000\u0000\u0000\u0000\u0000\u0000\u0000\u0000\u0000\u0000\n",
      "001_2447.bcd\n",
      "001\u0000\u0000\u0000\u0000\u0000\u0000\u0000\u0000\u0000\u0000\u0000\u0000\u0000\u0000\u0000\u0000\u0000\u0000\u0000\u0000\u0000\u0000\u0000\u0000\u0000\u0000\u0000\u0000\u0000\u0000\n",
      "001_4583.bcd\n",
      "007 - Bond, Mario Bond ♪\u0000\u0000\u0000\u0000\u0000\u0000\u0000\u0000\u0000\n",
      "007_-_bond_mario_bond__2958.bcd\n",
      "00\u0000\u0000\u0000\u0000\u0000\u0000\u0000\u0000\u0000\u0000\u0000\u0000\u0000\u0000\u0000\u0000\u0000\u0000\u0000\u0000\u0000\u0000\u0000\u0000\u0000\u0000\u0000\u0000\u0000\u0000\u0000\n",
      "00_12889.bcd\n",
      "00\u0000\u0000\u0000\u0000\u0000\u0000\u0000\u0000\u0000\u0000\u0000\u0000\u0000\u0000\u0000\u0000\u0000\u0000\u0000\u0000\u0000\u0000\u0000\u0000\u0000\u0000\u0000\u0000\u0000\u0000\u0000\n",
      "00_4633.bcd\n",
      "01castle\u0000\u0000\u0000\u0000\u0000\u0000\u0000\u0000\u0000\u0000\u0000\u0000\u0000\u0000\u0000\u0000\u0000\u0000\u0000\u0000\u0000\u0000\u0000\u0000\u0000\n",
      "01castle_4415.bcd\n"
     ]
    },
    {
     "name": "stderr",
     "output_type": "stream",
     "text": [
      "  0%|                                                                               | 16/13971 [00:00<09:02, 25.70it/s]"
     ]
    },
    {
     "name": "stdout",
     "output_type": "stream",
     "text": [
      "01flyinghouse\u0000\u0000\u0000\u0000\u0000\u0000\u0000\u0000\u0000\u0000\u0000\u0000\u0000\u0000\u0000\u0000\u0000\u0000\u0000\u0000\n",
      "01flyinghouse_4452.bcd\n",
      "01Forest\u0000\u0000\u0000\u0000\u0000\u0000\u0000\u0000\u0000\u0000\u0000\u0000\u0000\u0000\u0000\u0000\u0000\u0000\u0000\u0000\u0000\u0000\u0000\u0000\u0000\n",
      "01forest_4431.bcd\n",
      "01ghost\u0000\u0000\u0000\u0000\u0000\u0000\u0000\u0000\u0000\u0000\u0000\u0000\u0000\u0000\u0000\u0000\u0000\u0000\u0000\u0000\u0000\u0000\u0000\u0000\u0000\u0000\n",
      "01ghost_4139.bcd\n",
      "01\u0000\u0000\u0000\u0000\u0000\u0000\u0000\u0000\u0000\u0000\u0000\u0000\u0000\u0000\u0000\u0000\u0000\u0000\u0000\u0000\u0000\u0000\u0000\u0000\u0000\u0000\u0000\u0000\u0000\u0000\u0000\n",
      "01_12890.bcd\n",
      "01\u0000\u0000\u0000\u0000\u0000\u0000\u0000\u0000\u0000\u0000\u0000\u0000\u0000\u0000\u0000\u0000\u0000\u0000\u0000\u0000\u0000\u0000\u0000\u0000\u0000\u0000\u0000\u0000\u0000\u0000\u0000\n",
      "01_721.bcd\n",
      "01 Bordel dans le desert\u0000\u0000\u0000\u0000\u0000\u0000\u0000\u0000\u0000\n",
      "01_bordel_dans_le_desert_4453.bcd\n"
     ]
    },
    {
     "name": "stderr",
     "output_type": "stream",
     "text": [
      "\r",
      "  0%|                                                                               | 19/13971 [00:00<10:45, 21.62it/s]"
     ]
    },
    {
     "name": "stdout",
     "output_type": "stream",
     "text": [
      "03: Kleiner Abenteuer-Dschungel\u0000\u0000\n",
      "03_kleiner_abenteuer-dschungel_878.bcd\n",
      "05:00 AM\u0000\u0000\u0000\u0000\u0000\u0000\u0000\u0000\u0000\u0000\u0000\u0000\u0000\u0000\u0000\u0000\u0000\u0000\u0000\u0000\u0000\u0000\u0000\u0000\u0000\n",
      "05_00_am_12100.bcd\n",
      "099\u0000\u0000\u0000\u0000\u0000\u0000\u0000\u0000\u0000\u0000\u0000\u0000\u0000\u0000\u0000\u0000\u0000\u0000\u0000\u0000\u0000\u0000\u0000\u0000\u0000\u0000\u0000\u0000\u0000\u0000\n",
      "099_13632.bcd\n",
      "0_0\u0000\u0000\u0000\u0000\u0000\u0000\u0000\u0000\u0000\u0000\u0000\u0000\u0000\u0000d\u0000\u0000\u0000\u0000\u0000\u0000\u0000\u0000\u0000\u0000\u0000\u0000\u0000\u0000\u0000\n",
      "0_0d_12647.bcd\n"
     ]
    },
    {
     "name": "stderr",
     "output_type": "stream",
     "text": [
      "\r",
      "  0%|▏                                                                              | 23/13971 [00:00<09:57, 23.36it/s]"
     ]
    },
    {
     "name": "stdout",
     "output_type": "stream",
     "text": [
      "0\u0000\u0000\u0000\u0000\u0000\u0000\u0000\u0000\u0000\u0000\u0000\u0000\u0000\u0000\u0000\u0000\u0000\u0000\u0000\u0000\u0000\u0000\u0000\u0000\u0000\u0000\u0000\u0000\u0000\u0000\u0000\u0000\n",
      "0_2849.bcd\n",
      "0 Degrees Shellsius #TS #ST\u0000\u0000\u0000\u0000\u0000\u0000\n",
      "0_degrees_shellsius_ts_st_11763.bcd\n",
      "1-1.exe has encountered an error\u0000\n",
      "1-1.exe_has_encountered_an_error_737.bcd\n",
      "1-1but it autoscrolls vertically\u0000\n",
      "1-1but_it_autoscrolls_vertically_10902.bcd\n",
      "1-1 1-2\u0000\u0000\u0000\u0000\u0000\u0000\u0000\u0000\u0000\u0000\u0000\u0000\u0000\u0000\u0000\u0000\u0000\u0000\u0000\u0000\u0000\u0000\u0000\u0000\u0000\u0000\n",
      "1-1_1-2_511.bcd\n",
      "1-1\u0000\u0000\u0000\u0000\u0000\u0000\u0000\u0000\u0000\u0000\u0000\u0000\u0000\u0000\u0000\u0000\u0000\u0000\u0000\u0000\u0000\u0000\u0000\u0000\u0000\u0000\u0000\u0000\u0000\u0000\n",
      "1-1_12888.bcd\n"
     ]
    },
    {
     "name": "stderr",
     "output_type": "stream",
     "text": [
      "  0%|▏                                                                              | 30/13971 [00:01<10:07, 22.95it/s]"
     ]
    },
    {
     "name": "stdout",
     "output_type": "stream",
     "text": [
      "1-1\u0000\u0000\u0000\u0000\u0000\u0000\u0000\u0000\u0000\u0000\u0000\u0000\u0000\u0000\u0000\u0000\u0000\u0000\u0000\u0000\u0000\u0000\u0000\u0000\u0000\u0000\u0000\u0000\u0000\u0000\n",
      "1-1_178.bcd\n",
      "1-1\u0000\u0000\u0000\u0000\u0000\u0000\u0000\u0000\u0000\u0000\u0000\u0000\u0000\u0000\u0000\u0000\u0000\u0000\u0000\u0000\u0000\u0000\u0000\u0000\u0000\u0000\u0000\u0000\u0000\u0000\n",
      "1-1_2545.bcd\n",
      "1-1\u0000\u0000\u0000\u0000\u0000\u0000\u0000\u0000\u0000\u0000\u0000\u0000\u0000\u0000\u0000\u0000\u0000\u0000\u0000\u0000\u0000\u0000\u0000\u0000\u0000\u0000\u0000\u0000\u0000\u0000\n",
      "1-1_5129.bcd\n",
      "1-1\u0000\u0000\u0000\u0000\u0000\u0000\u0000\u0000\u0000\u0000\u0000\u0000\u0000\u0000\u0000\u0000\u0000\u0000\u0000\u0000\u0000\u0000\u0000\u0000\u0000\u0000\u0000\u0000\u0000\u0000\n",
      "1-1_6168.bcd\n",
      "1-1 Appel Wood Valley\u0000\u0000\u0000\u0000\u0000\u0000\u0000\u0000\u0000\u0000\u0000\u0000\n",
      "1-1_appel_wood_valley_2963.bcd\n",
      "1-1 but ...?\u0000\u0000\u0000\u0000\u0000ist\u0000\u0000\u0000\u0000\u0000\u0000\u0000\u0000\u0000\u0000\u0000\u0000\u0000"
     ]
    },
    {
     "name": "stderr",
     "output_type": "stream",
     "text": [
      "\r",
      "  0%|▏                                                                              | 33/13971 [00:01<10:00, 23.20it/s]"
     ]
    },
    {
     "name": "stdout",
     "output_type": "stream",
     "text": [
      "\n",
      "1-1_but_..._ist_2697.bcd\n",
      "1-1 but in a nintedo switch\u0000\u0000\u0000\u0000\u0000\u0000\n",
      "1-1_but_in_a_nintedo_switch_12223.bcd\n",
      "1-1 but its on and off\u0000\u0000\u0000\u0000\u0000\u0000\u0000\u0000\u0000\u0000\u0000\n",
      "1-1_but_its_on_and_off_12337.bcd\n",
      "1-1 But It's Played By A Goomba\u0000\u0000\n",
      "1-1_but_it_s_played_by_a_goomba_10551.bcd\n"
     ]
    },
    {
     "name": "stderr",
     "output_type": "stream",
     "text": [
      "\r",
      "  0%|▏                                                                              | 36/13971 [00:01<12:15, 18.96it/s]"
     ]
    },
    {
     "name": "stdout",
     "output_type": "stream",
     "text": [
      "1-1, but it's shaky\u0000\u0000\u0000\u0000\u0000\u0000\u0000\u0000\u0000\u0000\u0000\u0000\u0000\u0000\n",
      "1-1_but_it_s_shaky_13985.bcd\n",
      "1-1 but Mother Nature is MAD!\u0000\u0000\u0000\u0000\n",
      "1-1_but_mother_nature_is_mad__2720.bcd\n",
      "1-1 but this joke is dead :( \u0000\u0000\u0000\u0000\n",
      "1-1_but_this_joke_is_dead__8179.bcd\n"
     ]
    },
    {
     "name": "stderr",
     "output_type": "stream",
     "text": [
      "\r",
      "  0%|▏                                                                              | 39/13971 [00:02<17:39, 13.15it/s]"
     ]
    },
    {
     "name": "stdout",
     "output_type": "stream",
     "text": [
      "1-1 but with an extra twist\u0000\u0000\u0000\u0000\u0000\u0000\n",
      "1-1_but_with_an_extra_twist_4023.bcd\n",
      "1-1 but with a twist\u0000\u0000\u0000\u0000\u0000\u0000\u0000\u0000\u0000\u0000\u0000\u0000\u0000\n",
      "1-1_but_with_a_twist_2394.bcd\n",
      "1-1 Deluxe (NES REMASTER)\u0000!!\u0000\u0000\u0000\u0000\u0000\n",
      "1-1_deluxe_nes_remaster__11875.bcd\n"
     ]
    },
    {
     "name": "stderr",
     "output_type": "stream",
     "text": [
      "  0%|▎                                                                              | 45/13971 [00:02<16:16, 14.27it/s]"
     ]
    },
    {
     "name": "stdout",
     "output_type": "stream",
     "text": [
      "1-1 Flipped On Its Side!\u00000s)\u0000nt!\u0000\n",
      "1-1_flipped_on_its_side_0s_nt__4041.bcd\n",
      "1-1 Freewheelin\u0000\u0000mb's Blues\u0000e\u0000\u0000\u0000\u0000\n",
      "1-1_freewheelinmb_s_bluese_15011.bcd\n",
      "1-1 Glitch Wall\u0000\u0000-1 Remake\u0000\u0000\u0000\u0000\u0000\u0000\u0000\n",
      "1-1_glitch_wall-1_remake_4421.bcd\n",
      "1-1  goomba hills  (5 starcoins)\u0000\n",
      "1-1_goomba_hills_5_starcoins__13736.bcd\n",
      "1-1 Grassy Goomba Grounds\u0000ds\u0000\u0000\u0000\u0000\u0000\n",
      "1-1_grassy_goomba_groundsds_13483.bcd\n"
     ]
    },
    {
     "name": "stderr",
     "output_type": "stream",
     "text": [
      "  0%|▎                                                                              | 50/13971 [00:02<13:33, 17.12it/s]"
     ]
    },
    {
     "name": "stdout",
     "output_type": "stream",
     "text": [
      "1-1を壊さないで！！　Lakitu Breaks 1-1\u0000\u0000\u0000\u0000\n",
      "1-1_lakitu_breaks_1-1_11651.bcd\n",
      "1-1 Leaving Home\u0000\u0000\u0000\u0000\u0000\u0000\u0000\u0000\u0000\u0000\u0000\u0000\u0000\u0000\u0000\u0000\u0000\n",
      "1-1_leaving_home_2863.bcd\n",
      "1-1 Mario 3\u0000\u0000\u0000\u0000\u0000\u0000\u0000\u0000\u0000\u0000\u0000\u0000\u0000\u0000\u0000\u0000\u0000\u0000\u0000\u0000\u0000\u0000\n",
      "1-1_mario_3_12722.bcd\n",
      "1-1 Mario Bros.: A New Journey\u0000\u0000\u0000\n",
      "1-1_mario_bros._a_new_journey_14350.bcd\n",
      "1-1: Muncher Mines\u0000\u0000\u0000\u0000\u0000\u0000\u0000\u0000\u0000\u0000\u0000\u0000\u0000\u0000\u0000\n",
      "1-1_muncher_mines_5058.bcd\n"
     ]
    },
    {
     "name": "stderr",
     "output_type": "stream",
     "text": [
      "  0%|▎                                                                              | 54/13971 [00:02<13:21, 17.35it/s]"
     ]
    },
    {
     "name": "stdout",
     "output_type": "stream",
     "text": [
      "1-1: Mushroom Fields Forever\u0000\u0000\u0000\u0000\u0000\n",
      "1-1_mushroom_fields_forever_14403.bcd\n",
      "1-1: Mystical Mushrooms.\u0000\u0000\u0000\u0000\u0000\u0000\u0000\u0000\u0000\n",
      "1-1_mystical_mushrooms._12384.bcd\n",
      "1-1 New Super Mario Bros 2\u0000\u0000\u0000\u0000\u0000\u0000\u0000\n",
      "1-1_new_super_mario_bros_2_13492.bcd\n",
      "1-1 Offical Nintendo Autoscroll\u0000\u0000\n",
      "1-1_offical_nintendo_autoscroll_5340.bcd\n",
      "1-1 On/Off Hill\u0000\u0000ction\u0000\u0000\u0000\u0000\u0000\u0000\u0000\u0000\u0000\u0000\u0000"
     ]
    },
    {
     "name": "stderr",
     "output_type": "stream",
     "text": [
      "  0%|▎                                                                              | 59/13971 [00:03<13:13, 17.54it/s]"
     ]
    },
    {
     "name": "stdout",
     "output_type": "stream",
     "text": [
      "\n",
      "1-1_on_off_hillction_1085.bcd\n",
      "1-1 Platform Plains\u0000\u0000\u0000\u0000\u0000\u0000\u0000\u0000\u0000\u0000\u0000\u0000\u0000\u0000\n",
      "1-1_platform_plains_13414.bcd\n",
      "1-1 Remastered\u0000\u0000\u0000\u0000\u0000\u0000\u0000\u0000\u0000\u0000\u0000\u0000\u0000\u0000\u0000\u0000\u0000\u0000\u0000\n",
      "1-1_remastered_10783.bcd\n",
      "1-1 Remix\u0000\u0000\u0000\u0000\u0000\u0000\u0000\u0000\u0000\u0000\u0000\u0000\u0000\u0000\u0000\u0000\u0000\u0000\u0000\u0000\u0000\u0000\u0000\u0000\n",
      "1-1_remix_557.bcd\n",
      "1-1 (SMB 3) Christmas Special\u0000\u0000\u0000\u0000"
     ]
    },
    {
     "name": "stderr",
     "output_type": "stream",
     "text": [
      "\r",
      "  0%|▎                                                                              | 61/13971 [00:03<14:32, 15.94it/s]"
     ]
    },
    {
     "name": "stdout",
     "output_type": "stream",
     "text": [
      "\n",
      "1-1_smb_3_christmas_special_7120.bcd\n",
      "1-1 SMB\u0000\u0000\u0000\u0000\u0000\u0000\u0000\u0000\u0000\u0000\u0000\u0000\u0000\u0000\u0000\u0000\u0000\u0000\u0000\u0000\u0000\u0000\u0000\u0000\u0000\u0000\n",
      "1-1_smb_451.bcd\n",
      "1-1: Spinjump Valley\u0000\u0000\u0000\u0000\u0000\u0000\u0000\u0000\u0000\u0000\u0000\u0000\u0000\n",
      "1-1_spinjump_valley_4380.bcd\n"
     ]
    },
    {
     "name": "stderr",
     "output_type": "stream",
     "text": [
      "\r",
      "  0%|▎                                                                              | 64/13971 [00:03<16:22, 14.16it/s]"
     ]
    },
    {
     "name": "stdout",
     "output_type": "stream",
     "text": [
      "1-1 Super Mario Bros. 2\u0000\u0000\u0000\u0000\u0000\u0000\u0000\u0000\u0000\u0000\n",
      "1-1_super_mario_bros._2_12781.bcd\n",
      "1-1 the crazy woods\u0000e wege\u0000\u0000\u0000\u0000\u0000\u0000\u0000\n",
      "1-1_the_crazy_woodse_wege_1316.bcd\n",
      "1-1 without the ground\u0000\u0000\u0000\u0000\u0000\u0000\u0000\u0000\u0000\u0000\u0000"
     ]
    },
    {
     "name": "stderr",
     "output_type": "stream",
     "text": [
      "\r",
      "  0%|▍                                                                              | 68/13971 [00:03<14:48, 15.64it/s]"
     ]
    },
    {
     "name": "stdout",
     "output_type": "stream",
     "text": [
      "\n",
      "1-1_without_the_ground_6808.bcd\n",
      "1-1 Without Touching the Ground\u0000\u0000\n",
      "1-1_without_touching_the_ground_2164.bcd\n",
      "1-1?\u0000\u0000\u0000\u0000\u0000\u0000\u0000\u0000\u0000\u0000\u0000\u0000\u0000\u0000\u0000\u0000\u0000\u0000\u0000\u0000\u0000\u0000\u0000\u0000\u0000\u0000\u0000\u0000\u0000\n",
      "1-1__1164.bcd\n",
      "1-2.exe has encountered an ěřŕôŕ\u0000\n",
      "1-2.exe_has_encountered_an__876.bcd\n"
     ]
    },
    {
     "name": "stderr",
     "output_type": "stream",
     "text": [
      "\r",
      "  1%|▍                                                                              | 70/13971 [00:03<14:38, 15.82it/s]"
     ]
    },
    {
     "name": "stdout",
     "output_type": "stream",
     "text": [
      "1-2 ノコノコレジデンス -Troopa Town-\u0000\u0000\u0000\u0000\u0000\u0000\n",
      "1-2_-troopa_town-_10277.bcd\n",
      "1-2\u0000\u0000\u0000\u0000\u0000\u0000\u0000\u0000\u0000\u0000\u0000\u0000\u0000\u0000\u0000\u0000\u0000\u0000\u0000\u0000\u0000\u0000\u0000\u0000\u0000\u0000\u0000\u0000\u0000\u0000\n",
      "1-2_10813.bcd\n",
      "1-2\u0000\u0000\u0000\u0000\u0000\u0000\u0000\u0000\u0000\u0000\u0000\u0000\u0000\u0000\u0000\u0000\u0000\u0000\u0000\u0000\u0000\u0000\u0000\u0000\u0000\u0000\u0000\u0000\u0000\u0000\n",
      "1-2_1961.bcd\n",
      "1-2 \"3 pièces dans 3 pièces\"\u0000\u0000\u0000\u0000\u0000\n",
      "1-2_3_pi_ces_dans_3_pi_ces__1393.bcd\n"
     ]
    },
    {
     "name": "stderr",
     "output_type": "stream",
     "text": [
      "\r",
      "  1%|▍                                                                              | 73/13971 [00:04<15:36, 14.83it/s]"
     ]
    },
    {
     "name": "stdout",
     "output_type": "stream",
     "text": [
      "1-2\u0000\u0000\u0000\u0000\u0000\u0000\u0000\u0000\u0000\u0000\u0000\u0000\u0000\u0000\u0000\u0000\u0000\u0000\u0000\u0000\u0000\u0000\u0000\u0000\u0000\u0000\u0000\u0000\u0000\u0000\n",
      "1-2_5130.bcd\n",
      "1-2 but without ground\u0000\u0000\u0000\u0000\u0000\u0000\u0000\u0000\u0000\u0000\u0000\n",
      "1-2_but_without_ground_8587.bcd\n",
      "1-2 Deluxe (NES REMASTER)\u0000Level)\u0000\n",
      "1-2_deluxe_nes_remaster_level__9001.bcd\n"
     ]
    },
    {
     "name": "stderr",
     "output_type": "stream",
     "text": [
      "  1%|▍                                                                              | 78/13971 [00:04<16:18, 14.19it/s]"
     ]
    },
    {
     "name": "stdout",
     "output_type": "stream",
     "text": [
      "1-2 Easy Ocean\u0000\u0000\u0000u\u0000\u0000\u0000\u0000\u0000\u0000\u0000\u0000\u0000\u0000\u0000\u0000\u0000\u0000\u0000\n",
      "1-2_easy_oceanu_11055.bcd\n",
      "1-2 Highwater\u0000\u0000\u0000\u0000mb's Blues\u0000e\u0000\u0000\u0000\u0000\n",
      "1-2_highwatermb_s_bluese_15010.bcd\n",
      "1-2: King Boboboomboom's Cavern\u0000\u0000\n",
      "1-2_king_boboboomboom_s_cavern_5059.bcd\n"
     ]
    },
    {
     "name": "stderr",
     "output_type": "stream",
     "text": [
      "\r",
      "  1%|▍                                                                              | 80/13971 [00:04<17:30, 13.23it/s]"
     ]
    },
    {
     "name": "stdout",
     "output_type": "stream",
     "text": [
      "1-2 Love never dies #Bakedpotato\u0000\n",
      "1-2_love_never_dies_bakedpotato_14743.bcd\n",
      "1-2 Mushroom Sky\u0000\u0000\u0000\u0000\u0000\u0000\u0000\u0000\u0000\u0000\u0000\u0000\u0000\u0000\u0000\u0000\u0000\n",
      "1-2_mushroom_sky_14371.bcd\n",
      "1-2: Pesky Pipelines.\u0000\u0000\u0000\u0000\u0000\u0000\u0000\u0000\u0000\u0000\u0000\u0000\n",
      "1-2_pesky_pipelines._12340.bcd\n"
     ]
    },
    {
     "name": "stderr",
     "output_type": "stream",
     "text": [
      "\r",
      "  1%|▍                                                                              | 82/13971 [00:05<28:43,  8.06it/s]"
     ]
    },
    {
     "name": "stdout",
     "output_type": "stream",
     "text": [
      "1-2 Piranha Pipe Grotto\u0000\u0000\u0000\u0000\u0000\u0000\u0000\u0000\u0000\u0000\n",
      "1-2_piranha_pipe_grotto_2950.bcd\n",
      "1-2 Slippery Slope Slide [30s]\u0000]\u0000\n",
      "1-2_slippery_slope_slide_30s__14465.bcd\n"
     ]
    },
    {
     "name": "stderr",
     "output_type": "stream",
     "text": [
      "  1%|▌                                                                              | 89/13971 [00:05<22:55, 10.09it/s]"
     ]
    },
    {
     "name": "stdout",
     "output_type": "stream",
     "text": [
      "1-2 SMB\u0000\u0000\u0000\u0000\u0000\u0000\u0000\u0000\u0000\u0000\u0000\u0000\u0000\u0000\u0000\u0000\u0000\u0000\u0000\u0000\u0000\u0000\u0000\u0000\u0000\u0000\n",
      "1-2_smb_452.bcd\n",
      "1-2 Taking It Back\u0000\u0000\u0000\u0000\u0000\u0000\u0000\u0000\u0000\u0000\u0000\u0000\u0000\u0000\u0000\n",
      "1-2_taking_it_back_4496.bcd\n",
      "1-2 The 76 Strip\u0000\u0000\u0000w Zealand\u0000\u0000\u0000\u0000\u0000\n",
      "1-2_the_76_stripw_zealand_15248.bcd\n",
      "1-2: The Long and Winding Roots\u0000\u0000\n",
      "1-2_the_long_and_winding_roots_14415.bcd\n",
      "1-3 カラフル空中庭園 -Shiny Sky Garden-\u0000\u0000\n",
      "1-3_-shiny_sky_garden-_10387.bcd\n",
      "1-3\u0000\u0000\u0000\u0000\u0000\u0000\u0000\u0000\u0000\u0000\u0000\u0000\u0000\u0000\u0000\u0000\u0000\u0000\u0000\u0000\u0000\u0000\u0000\u0000\u0000\u0000\u0000\u0000\u0000\u0000\n",
      "1-3_5131.bcd\n",
      "1-3: Across the Caps\u0000\u0000\u0000\u0000\u0000\u0000\u0000\u0000\u0000\u0000\u0000\u0000\u0000\n",
      "1-3_across_the_caps_14386.bcd\n",
      "1-3 Deluxe (NES REMASTER)\u0000Level)\u0000\n",
      "1-3_deluxe_nes_remaster_level__11869.bcd\n"
     ]
    },
    {
     "name": "stderr",
     "output_type": "stream",
     "text": [
      "\r",
      "  1%|▌                                                                              | 92/13971 [00:05<22:08, 10.45it/s]"
     ]
    },
    {
     "name": "stdout",
     "output_type": "stream",
     "text": [
      "1-3 Flight School\u0000\u0000\u0000\u0000\u0000\u0000\u0000\u0000\u0000\u0000\u0000\u0000\u0000\u0000\u0000\u0000\n",
      "1-3_flight_school_4497.bcd\n",
      "1-3 Kirstie's Serene Swim\u0000m\u0000!\u0000!\u0000\u0000\n",
      "1-3_kirstie_s_serene_swimm__2584.bcd\n",
      "1-3: Lord Kiavik's Demise\u0000l\u0000ern\u0000\u0000\n",
      "1-3_lord_kiavik_s_demiselern_5060.bcd\n"
     ]
    },
    {
     "name": "stderr",
     "output_type": "stream",
     "text": [
      "\r",
      "  1%|▌                                                                              | 95/13971 [00:06<21:48, 10.60it/s]"
     ]
    },
    {
     "name": "stdout",
     "output_type": "stream",
     "text": [
      "1-3 Mushroom Heights\u0000\u0000s\u0000\u0000\u0000\u0000\u0000\u0000\u0000\u0000\u0000\u0000\n",
      "1-3_mushroom_heightss_13521.bcd\n",
      "1-3 mushroom tower until the sky\u0000\n",
      "1-3_mushroom_tower_until_the_sky_13797.bcd\n"
     ]
    },
    {
     "name": "stderr",
     "output_type": "stream",
     "text": [
      "  1%|▌                                                                              | 99/13971 [00:06<22:08, 10.44it/s]"
     ]
    },
    {
     "name": "stdout",
     "output_type": "stream",
     "text": [
      "1-3 Piranha Plains\u0000\u0000\u0000\u0000\u0000\u0000\u0000\u0000\u0000\u0000\u0000\u0000\u0000\u0000\u0000\n",
      "1-3_piranha_plains_13765.bcd\n",
      "1-3 Roll on John\u0000mb's Blues\u0000e\u0000\u0000\u0000\u0000\n",
      "1-3_roll_on_johnmb_s_bluese_15009.bcd\n",
      "1-3 Sky Ruins\u0000\u0000\u0000\u0000\u0000\u0000\u0000\u0000\u0000\u0000\u0000\u0000\u0000\u0000\u0000\u0000\u0000\u0000\u0000\u0000\n",
      "1-3_sky_ruins_14326.bcd\n",
      "1-3 SMB\u0000\u0000\u0000\u0000\u0000\u0000\u0000\u0000\u0000\u0000\u0000\u0000\u0000\u0000\u0000\u0000\u0000\u0000\u0000\u0000\u0000\u0000\u0000\u0000\u0000\u0000\n",
      "1-3_smb_453.bcd\n"
     ]
    },
    {
     "name": "stderr",
     "output_type": "stream",
     "text": [
      "\r",
      "  1%|▌                                                                             | 101/13971 [00:06<18:59, 12.17it/s]"
     ]
    },
    {
     "name": "stdout",
     "output_type": "stream",
     "text": [
      "1-3 Snowshroom Summit\u0000\u0000\u0000\u0000\u0000\u0000\u0000\u0000\u0000\u0000\u0000\u0000\n",
      "1-3_snowshroom_summit_3304.bcd\n"
     ]
    },
    {
     "name": "stderr",
     "output_type": "stream",
     "text": [
      "\r",
      "  1%|▌                                                                             | 103/13971 [00:06<25:16,  9.15it/s]"
     ]
    },
    {
     "name": "stdout",
     "output_type": "stream",
     "text": [
      "1-3 Spikeball Tower\u0000\u0000\u0000\u0000\u0000\u0000\u0000\u0000\u0000\u0000\u0000\u0000\u0000\u0000\n",
      "1-3_spikeball_tower_13394.bcd\n",
      "1-3: Stiletto Skys.\u0000rs\u0000\u0000\u0000\u0000\u0000\u0000\u0000\u0000\u0000\u0000\u0000\n",
      "1-3_stiletto_skys.rs_12354.bcd\n",
      "1-3 Submerged Obsidian\u0000\u0000\u0000\u0000\u0000\u0000\u0000\u0000\u0000\u0000\u0000\n",
      "1-3_submerged_obsidian_13741.bcd\n"
     ]
    },
    {
     "name": "stderr",
     "output_type": "stream",
     "text": [
      "\r",
      "  1%|▌                                                                             | 105/13971 [00:07<22:07, 10.44it/s]"
     ]
    },
    {
     "name": "stdout",
     "output_type": "stream",
     "text": [
      "1-4 ブンブントンネル -Boom Boom Tunnel-\u0000\u0000\n",
      "1-4_-boom_boom_tunnel-_10318.bcd\n",
      "1-4 - The Floor is Goombas\u0000)\u0000..!\u0000\n",
      "1-4_-_the_floor_is_goombas_..__7419.bcd\n"
     ]
    },
    {
     "name": "stderr",
     "output_type": "stream",
     "text": [
      "  1%|▌                                                                             | 109/13971 [00:07<21:20, 10.83it/s]"
     ]
    },
    {
     "name": "stdout",
     "output_type": "stream",
     "text": [
      "1-4\u0000\u0000\u0000\u0000\u0000\u0000\u0000\u0000\u0000\u0000\u0000\u0000\u0000\u0000\u0000\u0000\u0000\u0000\u0000\u0000\u0000\u0000\u0000\u0000\u0000\u0000\u0000\u0000\u0000\u0000\n",
      "1-4_5132.bcd\n",
      "1-4 Bodacious Boot Dash [20s]\u0000\u0000\u0000\u0000\n",
      "1-4_bodacious_boot_dash_20s__14449.bcd\n",
      "1-4: Boom Boom's Seesaw Shrooms\u0000\u0000\n",
      "1-4_boom_boom_s_seesaw_shrooms_5037.bcd\n"
     ]
    },
    {
     "name": "stderr",
     "output_type": "stream",
     "text": [
      "\r",
      "  1%|▌                                                                             | 111/13971 [00:07<20:35, 11.22it/s]"
     ]
    },
    {
     "name": "stdout",
     "output_type": "stream",
     "text": [
      "1-4 Deep Breathe\u0000\u0000\u0000\u0000\u0000\u0000\u0000\u0000\u0000\u0000\u0000\u0000\u0000\u0000\u0000\u0000\u0000\n",
      "1-4_deep_breathe_4498.bcd\n",
      "1-4 Fiery Fortress\u0000\u0000\u0000\u0000\u0000\u0000\u0000\u0000\u0000\u0000\u0000\u0000\u0000\u0000\u0000\n",
      "1-4_fiery_fortress_11106.bcd\n",
      "1-4: Sizzle and Swing\u0000 Climb\u0000\u0000\u0000\u0000\u0000\n",
      "1-4_sizzle_and_swing_climb_13013.bcd\n"
     ]
    },
    {
     "name": "stderr",
     "output_type": "stream",
     "text": [
      "\r",
      "  1%|▋                                                                             | 113/13971 [00:07<19:22, 11.92it/s]"
     ]
    },
    {
     "name": "stdout",
     "output_type": "stream",
     "text": [
      "1-4 Sky Platforms\u0000ms in the sky\u0000\u0000\n",
      "1-4_sky_platformsms_in_the_sky_14372.bcd\n",
      "1-4: Underground Fungi Fortress.\u0000\n",
      "1-4_underground_fungi_fortress._12385.bcd\n"
     ]
    },
    {
     "name": "stderr",
     "output_type": "stream",
     "text": [
      "\r",
      "  1%|▋                                                                             | 115/13971 [00:08<29:01,  7.96it/s]"
     ]
    },
    {
     "name": "stdout",
     "output_type": "stream",
     "text": [
      "1-5: Basidiomycota Bastion.\u0000\u0000\u0000\u0000\u0000\u0000\n",
      "1-5_basidiomycota_bastion._12376.bcd\n",
      "1-5 Clown Amusement Park\u0000\u0000\u0000\u0000\u0000\u0000\u0000\u0000\u0000"
     ]
    },
    {
     "name": "stderr",
     "output_type": "stream",
     "text": [
      "\r",
      "  1%|▋                                                                             | 117/13971 [00:08<29:56,  7.71it/s]"
     ]
    },
    {
     "name": "stdout",
     "output_type": "stream",
     "text": [
      "\n",
      "1-5_clown_amusement_park_14791.bcd\n",
      "1-5 Larry's Skewering Castle\u0000\u0000\u0000\u0000\u0000\n",
      "1-5_larry_s_skewering_castle_13400.bcd\n"
     ]
    },
    {
     "name": "stderr",
     "output_type": "stream",
     "text": [
      "  1%|▋                                                                             | 120/13971 [00:08<26:57,  8.56it/s]"
     ]
    },
    {
     "name": "stdout",
     "output_type": "stream",
     "text": [
      "1-5 Sky Castle\u0000\u0000\u0000astle\u0000\u0000\u0000\u0000\u0000\u0000\u0000\u0000\u0000\u0000\u0000\n",
      "1-5_sky_castleastle_14325.bcd\n",
      "1-6: Mushroom Meltdown\u0000\u0000\u0000\u0000\u0000\u0000\u0000\u0000\u0000\u0000\u0000\n",
      "1-6_mushroom_meltdown_12355.bcd\n",
      "1-6　おどる わかめの うみのなか　Seaweed Swim\u0000\u0000\n",
      "1-6_seaweed_swim_7497.bcd\n"
     ]
    },
    {
     "name": "stderr",
     "output_type": "stream",
     "text": [
      "  1%|▋                                                                             | 125/13971 [00:09<19:47, 11.66it/s]"
     ]
    },
    {
     "name": "stdout",
     "output_type": "stream",
     "text": [
      "1-7 Bunte Dimensionen\u0000\u0000\u0000\u0000\u0000\u0000\u0000\u0000\u0000\u0000\u0000\u0000\n",
      "1-7_bunte_dimensionen_2982.bcd\n",
      "1-7　おなかがすいた おはながさいた　Foodie Field\u0000\n",
      "1-7_foodie_field_8221.bcd\n",
      "1-7 Yoshi Fun\u0000\u0000\u0000\u0000\u0000\u0000\u0000\u0000\u0000\u0000\u0000\u0000\u0000\u0000\u0000\u0000\u0000\u0000\u0000\u0000\n",
      "1-7_yoshi_fun_4501.bcd\n",
      "1-8 Bring it back 2\u0000\u0000\u0000\u0000\u0000\u0000\u0000\u0000\u0000\u0000\u0000\u0000\u0000\u0000\n",
      "1-8_bring_it_back_2_4502.bcd\n",
      "1-9 Ship Has Flight\u0000\u0000\u0000\u0000\u0000\u0000\u0000\u0000\u0000\u0000\u0000\u0000\u0000\u0000\n",
      "1-9_ship_has_flight_4503.bcd\n",
      "1-A: Submerged Shiitake\u0000\u0000\u0000\u0000\u0000\u0000\u0000\u0000\u0000\u0000\n",
      "1-a_submerged_shiitake_12352.bcd\n"
     ]
    },
    {
     "name": "stderr",
     "output_type": "stream",
     "text": [
      "  1%|▋                                                                             | 129/13971 [00:09<28:35,  8.07it/s]"
     ]
    },
    {
     "name": "stdout",
     "output_type": "stream",
     "text": [
      "1-B: Glomeromycota Airship\u0000\u0000\u0000\u0000\u0000\u0000\u0000\n",
      "1-b_glomeromycota_airship_12371.bcd\n",
      "1-S: VENDETTA!\u0000\u0000\u0000s Demise\u0000l\u0000ern\u0000\u0000\n",
      "1-s_vendetta_s_demiselern_5061.bcd\n",
      "1-ups galore\u0000\u0000\u0000\u0000\u0000\u0000\u0000\u0000\u0000\u0000\u0000\u0000\u0000\u0000\u0000\u0000\u0000\u0000\u0000\u0000\u0000\n",
      "1-ups_galore_5653.bcd\n",
      "1-城　ほうだいリフト のりほうだい　Blaster Boats\u0000\n",
      "1-_blaster_boats_8307.bcd\n"
     ]
    },
    {
     "name": "stderr",
     "output_type": "stream",
     "text": [
      "\r",
      "  1%|▋                                                                             | 131/13971 [00:09<24:22,  9.46it/s]"
     ]
    },
    {
     "name": "stdout",
     "output_type": "stream",
     "text": [
      "1000 Ways to Die![Koopa Edition]\u0000\n",
      "1000_ways_to_die_koopa_edition__4176.bcd\n",
      "1000人紹介企画　かまぼこ隊完成記念※説明要チェック\u0000」\u0000\u0000\u0000\u0000\n",
      "1000__12111.bcd\n"
     ]
    },
    {
     "name": "stderr",
     "output_type": "stream",
     "text": [
      "  1%|▊                                                                             | 135/13971 [00:10<36:09,  6.38it/s]"
     ]
    },
    {
     "name": "stdout",
     "output_type": "stream",
     "text": [
      "100 Coin Challenge: Winter\u0000Winds\u0000\n",
      "100_coin_challenge_winterwinds_279.bcd\n",
      "100 Year Flood\u0000\u0000\u0000her\u0000\u0000\u0000\u0000\u0000\u0000\u0000\u0000\u0000\u0000\u0000\u0000\u0000\n",
      "100_year_floodher_10894.bcd\n",
      "\u0000\u0000\u0000\u0000\u0000\u0000\u0000\u0000\u0000\u0000\u0000\u0000\u0000\u0000\u0000\u0000\u0000\u0000\u0000\u0000\u0000\u0000\u0000\u0000\u0000\u0000\u0000\u0000\u0000\u0000\u0000\u0000\u0000\n",
      "1026759769.bcd\n",
      "\u0000\u0000\u0000\u0000\u0000\u0000\u0000\u0000\u0000\u0000\u0000\u0000\u0000\u0000\u0000\u0000\u0000\u0000\u0000\u0000\u0000\u0000\u0000\u0000\u0000\u0000\u0000\u0000\u0000\u0000\u0000\u0000\u0000\n",
      "1046974344.bcd\n",
      "\u0000\u0000\u0000\u0000\u0000\u0000\u0000\u0000\u0000\u0000\u0000\u0000\u0000\u0000\u0000\u0000\u0000\u0000\u0000\u0000\u0000\u0000\u0000\u0000\u0000\u0000\u0000\u0000\u0000\u0000\u0000\u0000\u0000\n",
      "1048912984.bcd\n",
      "10kSpecial♪Ultimate FNAF Medley♪\u0000\n",
      "10kspecial_ultimate_fnaf_medley__11609.bcd\n"
     ]
    },
    {
     "name": "stderr",
     "output_type": "stream",
     "text": [
      "  1%|▊                                                                             | 143/13971 [00:11<23:27,  9.82it/s]"
     ]
    },
    {
     "name": "stdout",
     "output_type": "stream",
     "text": [
      "10k Expert Endless Special (20s)\u0000\n",
      "10k_expert_endless_special_20s__12559.bcd\n",
      "10o\u0000\u0000\u0000\u0000\u0000\u0000\u0000\u0000\u0000\u0000\u0000\u0000\u0000\u0000\u0000\u0000\u0000\u0000\u0000\u0000\u0000\u0000\u0000\u0000\u0000\u0000\u0000\u0000\u0000\u0000\n",
      "10o_2433.bcd\n",
      "10sec2\u0000\u0000\u0000\u0000\u0000\u0000\u0000\u0000\u0000\u0000\u0000\u0000\u0000\u0000\u0000\u0000\u0000\u0000\u0000\u0000\u0000\u0000\u0000\u0000\u0000\u0000\u0000\n",
      "10sec2_607.bcd\n",
      "10sec challenge ～銀河氷～\u0000\u0000\u0000\u0000\u0000\u0000\u0000\u0000\u0000\u0000\u0000\u0000\n",
      "10sec_challenge__6485.bcd\n",
      "10sec Fugitive remake\u0000\u0000\u0000\u0000\u0000\u0000\u0000\u0000\u0000\u0000\u0000\u0000\n",
      "10sec_fugitive_remake_194.bcd\n",
      "10秒マリオ　音符抜け\u0000\u0000\u0000\u0000\u0000　る。\u0000クッパを倒そう！\u0000el1\u0000\n",
      "10_el1_2315.bcd\n",
      "10秒間に畳み掛けるダッシュ半自動！！　　Keep Y+→\u0000+→\u0000"
     ]
    },
    {
     "name": "stderr",
     "output_type": "stream",
     "text": [
      "\r",
      "  1%|▊                                                                             | 148/13971 [00:11<18:18, 12.58it/s]"
     ]
    },
    {
     "name": "stdout",
     "output_type": "stream",
     "text": [
      "\n",
      "10_keep_y__8222.bcd\n",
      "10 Seconds Cloud Run\u0000\u0000\u0000\u0000\u0000\u0000\u0000\u0000\u0000\u0000\u0000\u0000\u0000\n",
      "10_seconds_cloud_run_3055.bcd\n",
      "10 Seconds: Fiery Fist of Fury\u0000\u0000\u0000\n",
      "10_seconds_fiery_fist_of_fury_10432.bcd\n",
      "10 seconds Speed Run ～Z Castle～\u0000\u0000\n",
      "10_seconds_speed_run_z_castle__8404.bcd\n",
      "10 Seconds: Super Star Speedrun\u0000\u0000\n",
      "10_seconds_super_star_speedrun_10422.bcd\n",
      "10 Second Shell Jump Challenge\u0000 \u0000"
     ]
    },
    {
     "name": "stderr",
     "output_type": "stream",
     "text": [
      "  1%|▊                                                                             | 155/13971 [00:11<13:32, 16.99it/s]"
     ]
    },
    {
     "name": "stdout",
     "output_type": "stream",
     "text": [
      "\n",
      "10_second_shell_jump_challenge_15523.bcd\n",
      "10 second speedrun\u0000\u0000\u0000\u0000\u0000\u0000\u0000\u0000\u0000\u0000\u0000\u0000\u0000\u0000\u0000\n",
      "10_second_speedrun_15347.bcd\n",
      "10 Second Speedrun!\u0000\u0000\u0000\u0000\u0000\u0000\u0000\u0000\u0000\u0000\u0000\u0000\u0000\u0000\n",
      "10_second_speedrun__2244.bcd\n",
      "10コインを出すだけの簡単なお仕事。\u0000\u0000\u0000\u0000\u0000\u0000\u0000\u0000\u0000\u0000\u0000\u0000\u0000\u0000\u0000\n",
      "10__1501.bcd\n",
      "10秒！\u0000\u0000\u0000\u0000\u0000\u0000\u0000\u0000\u0000\u0000\u0000\u0000\u0000\u0000\u0000\u0000\u0000\u0000\u0000\u0000\u0000\u0000\u0000\u0000\u0000\u0000\u0000\u0000\u0000\n",
      "10__6495.bcd\n",
      "11-4\u0000\u0000\u0000\u0000\u0000\u0000\u0000\u0000\u0000\u0000\u0000\u0000\u0000\u0000\u0000\u0000\u0000\u0000\u0000\u0000\u0000\u0000\u0000\u0000\u0000\u0000\u0000\u0000\u0000\n",
      "11-4_10731.bcd\n"
     ]
    },
    {
     "name": "stderr",
     "output_type": "stream",
     "text": [
      "\r",
      "  1%|▉                                                                             | 158/13971 [00:11<13:08, 17.51it/s]"
     ]
    },
    {
     "name": "stdout",
     "output_type": "stream",
     "text": [
      "1111\u0000\u0000\u0000\u0000\u0000\u0000\u0000\u0000\u0000\u0000\u0000\u0000\u0000\u0000\u0000\u0000\u0000\u0000\u0000\u0000\u0000\u0000\u0000\u0000\u0000\u0000\u0000\u0000\u0000\n",
      "1111_3505.bcd\n",
      "1111\u0000\u0000\u0000\u0000\u0000\u0000\u0000\u0000\u0000\u0000\u0000\u0000\u0000\u0000\u0000\u0000\u0000\u0000\u0000\u0000\u0000\u0000\u0000\u0000\u0000\u0000\u0000\u0000\u0000\n",
      "1111_468.bcd\n",
      "11\u0000\u0000\u0000\u0000\u0000\u0000\u0000\u0000\u0000\u0000\u0000\u0000\u0000\u0000\u0000\u0000\u0000\u0000\u0000\u0000\u0000\u0000\u0000\u0000\u0000\u0000\u0000\u0000\u0000\u0000\u0000\n",
      "11_11019.bcd\n",
      "11\u0000\u0000\u0000\u0000\u0000\u0000\u0000\u0000\u0000\u0000\u0000\u0000\u0000\u0000\u0000\u0000\u0000\u0000\u0000\u0000\u0000\u0000\u0000\u0000\u0000\u0000\u0000\u0000\u0000\u0000\u0000\n",
      "11_12148.bcd\n",
      "11\u0000\u0000\u0000\u0000\u0000\u0000\u0000\u0000\u0000\u0000\u0000\u0000\u0000\u0000\u0000\u0000\u0000\u0000\u0000\u0000\u0000\u0000\u0000\u0000\u0000\u0000\u0000\u0000\u0000\u0000\u0000\n",
      "11_13626.bcd\n",
      "11\u0000\u0000\u0000\u0000\u0000\u0000\u0000\u0000\u0000\u0000\u0000\u0000\u0000\u0000\u0000\u0000\u0000\u0000\u0000\u0000\u0000\u0000\u0000\u0000\u0000\u0000\u0000\u0000\u0000\u0000\u0000\n",
      "11_7475.bcd\n",
      "120秒スピードラン　攻略せよ！暗黒のスピラン魔城\u0000！\u0000\u0000\u0000\u0000\u0000\u0000\n",
      "120__8650.bcd\n"
     ]
    },
    {
     "name": "stderr",
     "output_type": "stream",
     "text": [
      "\r",
      "  1%|▉                                                                             | 163/13971 [00:11<12:39, 18.19it/s]"
     ]
    },
    {
     "name": "stdout",
     "output_type": "stream",
     "text": [
      "1234\u0000\u0000\u0000\u0000\u0000\u0000\u0000\u0000\u0000\u0000\u0000\u0000\u0000\u0000\u0000\u0000\u0000\u0000\u0000\u0000\u0000\u0000\u0000\u0000\u0000\u0000\u0000\u0000\u0000\n",
      "1234_5646.bcd\n",
      "1234ㄱㄷㄹㅎㅅㄱ\u0000\u0000\u0000\u0000\u0000\u0000\u0000d\u0000\u0000\u0000\u0000\u0000\u0000\u0000\u0000\u0000\u0000\u0000\u0000\u0000\u0000\u0000\n",
      "1234_d_12654.bcd\n",
      "123\u0000\u0000\u0000\u0000\u0000\u0000\u0000\u0000\u0000\u0000\u0000\u0000\u0000\u0000\u0000\u0000\u0000\u0000\u0000\u0000\u0000\u0000\u0000\u0000\u0000\u0000\u0000\u0000\u0000\u0000\n",
      "123_12828.bcd\n",
      "123\u0000\u0000\u0000\u0000\u0000\u0000\u0000\u0000\u0000\u0000\u0000\u0000\u0000\u0000\u0000\u0000\u0000\u0000\u0000\u0000\u0000\u0000\u0000\u0000\u0000\u0000\u0000\u0000\u0000\u0000\n",
      "123_3175.bcd\n",
      "123\u0000\u0000\u0000\u0000\u0000\u0000\u0000\u0000\u0000\u0000\u0000\u0000\u0000\u0000\u0000\u0000\u0000\u0000\u0000\u0000\u0000\u0000\u0000\u0000\u0000\u0000\u0000\u0000\u0000\u0000\n",
      "123_4643.bcd\n",
      "123ㄷㅈㅂㅁㄴ\u0000\u0000\u0000\u0000\u0000\u0000\u0000\u0000\u0000d\u0000\u0000\u0000\u0000\u0000\u0000\u0000\u0000\u0000\u0000\u0000\u0000\u0000\u0000\u0000\n",
      "123_d_12664.bcd\n",
      "123\u0000\u0000\u0000\u0000\u0000\u0000\u0000\u0000\u0000\u0000\u0000\u0000\u0000㄀ㄹㅇ\u0000\u0000\u0000\u0000\u0000\u0000\u0000\u0000\u0000\u0000\u0000\u0000\u0000\u0000\n",
      "123__12662.bcd\n"
     ]
    },
    {
     "name": "stderr",
     "output_type": "stream",
     "text": [
      "  1%|▉                                                                             | 173/13971 [00:12<11:23, 20.19it/s]"
     ]
    },
    {
     "name": "stdout",
     "output_type": "stream",
     "text": [
      "12aaa\u0000\u0000\u0000\u0000\u0000\u0000\u0000\u0000\u0000\u0000\u0000\u0000\u0000\u0000\u0000\u0000\u0000\u0000\u0000\u0000\u0000\u0000\u0000\u0000\u0000\u0000\u0000\u0000\n",
      "12aaa_3843.bcd\n",
      "12\u0000\u0000\u0000\u0000\u0000\u0000\u0000\u0000\u0000\u0000\u0000\u0000\u0000\u0000\u0000nowy Slide\u0000lide\u0000\n",
      "12nowy_slidelide_12642.bcd\n",
      "12\u0000\u0000\u0000\u0000\u0000\u0000\u0000\u0000\u0000\u0000\u0000\u0000\u0000\u0000\u0000\u0000\u0000\u0000\u0000\u0000\u0000\u0000\u0000\u0000\u0000\u0000\u0000\u0000\u0000\u0000\u0000\n",
      "12_4569.bcd\n",
      "12 petar\u0000\u0000\u0000\u0000\u0000\u0000\u0000\u0000\u0000\u0000\u0000\u0000\u0000\u0000\u0000\u0000\u0000\u0000\u0000\u0000\u0000\u0000\u0000\u0000\u0000\n",
      "12_petar_6209.bcd\n",
      "12월이건데가\u0000\u0000\u0000\u0000\u0000\u0000\u0000\u0000\u0000윀나가의나가 \u0000\u0000\u0000\u0000\u0000\u0000\u0000\u0000\u0000\u0000\n",
      "12__12640.bcd\n",
      "\u0000\u0000\u0000\u0000\u0000\u0000\u0000\u0000\u0000\u0000\u0000\u0000\u0000\u0000\u0000\u0000\u0000\u0000\u0000\u0000\u0000\u0000\u0000\u0000\u0000\u0000\u0000\u0000\u0000\u0000\u0000\u0000\u0000\n",
      "1339926839.bcd\n",
      "13θθθポイント記念爽快コース[Refreshcourse]\u0000\u0000"
     ]
    },
    {
     "name": "stderr",
     "output_type": "stream",
     "text": [
      "\r",
      "  1%|▉                                                                             | 177/13971 [00:12<09:56, 23.13it/s]"
     ]
    },
    {
     "name": "stdout",
     "output_type": "stream",
     "text": [
      "\n",
      "13_refreshcourse__7498.bcd\n",
      "\u0000\u0000\u0000\u0000\u0000\u0000\u0000\u0000\u0000\u0000\u0000\u0000\u0000\u0000\u0000\u0000\u0000\u0000\u0000\u0000\u0000\u0000\u0000\u0000\u0000\u0000\u0000\u0000\u0000\u0000\u0000\u0000\u0000\n",
      "1419776409.bcd\n",
      "\u0000\u0000\u0000\u0000\u0000\u0000\u0000\u0000\u0000\u0000\u0000\u0000\u0000\u0000\u0000\u0000\u0000\u0000\u0000\u0000\u0000\u0000\u0000\u0000\u0000\u0000\u0000\u0000\u0000\u0000\u0000\u0000\u0000\n",
      "1446024433.bcd\n",
      "\u0000\u0000\u0000\u0000\u0000\u0000\u0000\u0000\u0000\u0000\u0000\u0000\u0000\u0000\u0000\u0000\u0000\u0000\u0000\u0000\u0000\u0000\u0000\u0000\u0000\u0000\u0000\u0000\u0000\u0000\u0000\u0000\u0000\n",
      "151792073.bcd\n",
      "15 POW Challenges\u0000\u0000\u0000\u0000\u0000\u0000\u0000\u0000\u0000\u0000\u0000\u0000\u0000\u0000\u0000\u0000\n",
      "15_pow_challenges_2734.bcd\n",
      "\u0000\u0000\u0000\u0000\u0000\u0000\u0000\u0000\u0000\u0000\u0000\u0000\u0000\u0000\u0000\u0000\u0000\u0000\u0000\u0000\u0000\u0000\u0000\u0000\u0000\u0000\u0000\u0000\u0000\u0000\u0000\u0000\u0000\n",
      "1670982820.bcd\n",
      "\u0000\u0000\u0000\u0000\u0000\u0000\u0000\u0000\u0000\u0000\u0000\u0000\u0000\u0000\u0000\u0000\u0000\u0000\u0000\u0000\u0000\u0000\u0000\u0000\u0000\u0000\u0000\u0000\u0000\u0000\u0000\u0000\u0000\n",
      "168892518.bcd\n",
      "\u0000\u0000\u0000\u0000\u0000\u0000\u0000\u0000\u0000\u0000\u0000\u0000\u0000\u0000\u0000\u0000\u0000\u0000\u0000\u0000\u0000\u0000\u0000\u0000\u0000\u0000\u0000\u0000\u0000\u0000\u0000\u0000\u0000\n",
      "1770627167.bcd\n",
      "\u0000\u0000\u0000\u0000\u0000\u0000\u0000\u0000\u0000\u0000\u0000\u0000\u0000\u0000\u0000\u0000\u0000\u0000\u0000\u0000\u0000\u0000\u0000\u0000\u0000\u0000\u0000\u0000\u0000\u0000\u0000\u0000\u0000\n",
      "1841839243.bcd\n",
      "\u0000\u0000\u0000\u0000\u0000\u0000\u0000\u0000\u0000\u0000\u0000\u0000\u0000\u0000\u0000\u0000\u0000\u0000\u0000\u0000\u0000\u0000\u0000\u0000\u0000\u0000\u0000\u0000\u0000\u0000\u0000\u0000\u0000\n",
      "1869112192.bcd\n",
      "18\u0000\u0000\u0000\u0000\u0000\u0000\u0000\u0000\u0000\u0000\u0000\u0000\u0000\u0000\u0000\u0000\u0000\u0000\u0000\u0000\u0000\u0000\u0000\u0000\u0000\u0000\u0000\u0000\u0000\u0000\u0000\n",
      "18_1226.bcd\n",
      "\u0000\u0000\u0000\u0000\u0000\u0000\u0000\u0000\u0000\u0000\u0000\u0000\u0000\u0000\u0000\u0000\u0000\u0000\u0000\u0000\u0000\u0000\u0000\u0000\u0000\u0000\u0000\u0000\u0000\u0000\u0000\u0000\u0000\n",
      "1905429383.bcd\n",
      "\u0000\u0000\u0000\u0000\u0000\u0000\u0000\u0000\u0000\u0000\u0000\u0000\u0000\u0000\u0000\u0000\u0000\u0000\u0000\u0000\u0000\u0000\u0000\u0000\u0000\u0000\u0000\u0000\u0000\u0000\u0000\u0000\u0000\n",
      "1968084012.bcd\n",
      "1999\u0000\u0000\u0000\u0000\u0000\u0000\u0000\u0000\u0000\u0000\u0000\u0000\u0000\u0000\u0000\u0000\u0000\u0000\u0000\u0000\u0000\u0000\u0000\u0000\u0000\u0000\u0000\u0000\u0000\n",
      "1999_10477.bcd\n"
     ]
    },
    {
     "name": "stderr",
     "output_type": "stream",
     "text": [
      "  1%|█                                                                             | 194/13971 [00:12<08:22, 27.43it/s]"
     ]
    },
    {
     "name": "stdout",
     "output_type": "stream",
     "text": [
      "1\u0000\u0000\u0000\u0000\u0000\u0000\u0000\u0000\u0000\u0000\u0000\u0000\u0000\u0000\u0000\u0000d\u0000\u0000\u0000\u0000\u0000\u0000\u0000\u0000\u0000\u0000\u0000\u0000\u0000\u0000\u0000\n",
      "1d_12663.bcd\n",
      "1\u0000\u0000\u0000\u0000\u0000\u0000\u0000\u0000\u0000\u0000\u0000\u0000\u0000\u0000\u0000\u0000d\u0000\u0000\u0000\u0000\u0000\u0000\u0000\u0000\u0000\u0000\u0000\u0000\u0000\u0000\u0000\n",
      "1d_12665.bcd\n",
      "1er Tour de Bowser.Jr\u0000\u0000\u0000\u0000\u0000\u0000\u0000\u0000\u0000\u0000\u0000\u0000\n",
      "1er_tour_de_bowser.jr_512.bcd\n",
      "1min.MARIO\u0000\u0000\u0000\u0000\u0000\u0000\u0000\u0000\u0000\u0000\u0000\u0000\u0000\u0000\u0000\u0000\u0000\u0000\u0000\u0000\u0000\u0000\u0000\n",
      "1min.mario_2494.bcd\n",
      "1st level\u0000\u0000\u0000\u0000\u0000\u0000\u0000\u0000\u0000\u0000\u0000\u0000\u0000\u0000\u0000\u0000\u0000\u0000\u0000\u0000\u0000\u0000\u0000\u0000\n",
      "1st_level_4399.bcd\n",
      "1Suntouch Sanctuary\u0000\u0000\u0000\u0000\u0000\u0000\u0000\u0000\u0000\u0000\u0000\u0000\u0000\u0000\n",
      "1suntouch_sanctuary_1188.bcd\n",
      "1 - 1\u0000\u0000\u0000\u0000\u0000\u0000\u0000\u0000\u0000\u0000\u0000\u0000\u0000\u0000\u0000\u0000\u0000\u0000\u0000\u0000\u0000\u0000\u0000\u0000\u0000\u0000\u0000\u0000"
     ]
    },
    {
     "name": "stderr",
     "output_type": "stream",
     "text": [
      "\r",
      "  1%|█▏                                                                            | 202/13971 [00:12<06:44, 34.07it/s]"
     ]
    },
    {
     "name": "stdout",
     "output_type": "stream",
     "text": [
      "\n",
      "1_-_1_13452.bcd\n",
      "1\u0000\u0000\u0000\u0000\u0000\u0000\u0000\u0000\u0000\u0000\u0000\u0000\u0000\u0000\u0000\u0000\u0000\u0000\u0000\u0000\u0000\u0000\u0000\u0000\u0000\u0000\u0000\u0000\u0000\u0000\u0000\u0000\n",
      "1_1129.bcd\n",
      "1\u0000\u0000\u0000\u0000\u0000\u0000\u0000\u0000\u0000\u0000\u0000\u0000\u0000\u0000\u0000\u0000\u0000\u0000\u0000\u0000\u0000\u0000\u0000\u0000\u0000\u0000\u0000\u0000\u0000\u0000\u0000\u0000\n",
      "1_1183.bcd\n",
      "1\u0000\u0000\u0000\u0000\u0000\u0000\u0000\u0000\u0000\u0000\u0000\u0000\u0000\u0000\u0000\u0000\u0000\u0000\u0000\u0000\u0000\u0000\u0000\u0000\u0000\u0000\u0000\u0000\u0000\u0000\u0000\u0000\n",
      "1_1229.bcd\n",
      "1\u0000\u0000\u0000\u0000\u0000\u0000\u0000\u0000\u0000\u0000\u0000\u0000\u0000\u0000\u0000\u0000\u0000\u0000\u0000\u0000\u0000\u0000\u0000\u0000\u0000\u0000\u0000\u0000\u0000\u0000\u0000\u0000\n",
      "1_12652.bcd\n",
      "1\u0000\u0000\u0000\u0000\u0000\u0000\u0000\u0000\u0000\u0000\u0000\u0000\u0000\u0000\u0000\u0000\u0000\u0000\u0000\u0000\u0000\u0000\u0000\u0000\u0000\u0000\u0000\u0000\u0000\u0000\u0000\u0000\n",
      "1_12846.bcd\n",
      "1\u0000\u0000\u0000\u0000\u0000\u0000\u0000\u0000\u0000\u0000\u0000\u0000\u0000\u0000\u0000\u0000\u0000\u0000\u0000\u0000\u0000\u0000\u0000\u0000\u0000\u0000\u0000\u0000\u0000\u0000\u0000\u0000\n",
      "1_14672.bcd\n"
     ]
    },
    {
     "name": "stderr",
     "output_type": "stream",
     "text": [
      "  2%|█▏                                                                            | 213/13971 [00:13<07:30, 30.57it/s]"
     ]
    },
    {
     "name": "stdout",
     "output_type": "stream",
     "text": [
      "1\u0000\u0000\u0000\u0000\u0000\u0000\u0000\u0000\u0000\u0000\u0000\u0000\u0000\u0000\u0000\u0000\u0000\u0000\u0000\u0000\u0000\u0000\u0000\u0000\u0000\u0000\u0000\u0000\u0000\u0000\u0000\u0000\n",
      "1_1806.bcd\n",
      "1\u0000\u0000\u0000\u0000\u0000\u0000\u0000\u0000\u0000\u0000\u0000\u0000\u0000\u0000\u0000\u0000\u0000\u0000\u0000\u0000\u0000\u0000\u0000\u0000\u0000\u0000\u0000\u0000\u0000\u0000\u0000\u0000\n",
      "1_1807.bcd\n",
      "1画面ステージ / 1screen stage ～ZELDA～\u0000\u0000\n",
      "1_1screen_stage_zelda__6595.bcd\n",
      "1～1　～波打つコース～\u0000\u0000\u0000\u0000\u0000\u0000\u0000\u0000\u0000\u0000\u0000\u0000\u0000\u0000\u0000\u0000\u0000\u0000\u0000\u0000\u0000\n",
      "1_1__3252.bcd\n",
      "1\u0000\u0000\u0000\u0000\u0000\u0000\u0000\u0000\u0000\u0000\u0000\u0000\u0000\u0000\u0000\u0000\u0000\u0000\u0000\u0000\u0000\u0000\u0000\u0000\u0000\u0000\u0000\u0000\u0000\u0000\u0000\u0000\n",
      "1_2060.bcd\n",
      "1!22\u0000\u0000\u0000\u0000\u0000\u0000\u0000\u0000\u0000\u0000\u0000\u0000\u0000\u0000\u0000\u0000\u0000\u0000\u0000\u0000\u0000\u0000\u0000\u0000\u0000\u0000\u0000\u0000\u0000\n",
      "1_22_10867.bcd\n",
      "1\u0000\u0000\u0000\u0000\u0000\u0000\u0000\u0000\u0000\u0000\u0000\u0000\u0000\u0000\u0000\u0000\u0000\u0000\u0000\u0000\u0000\u0000\u0000\u0000\u0000\u0000\u0000\u0000\u0000\u0000\u0000\u0000\n",
      "1_2413.bcd\n",
      "1\u0000\u0000\u0000\u0000\u0000\u0000\u0000\u0000\u0000\u0000\u0000\u0000\u0000\u0000\u0000\u0000\u0000\u0000\u0000\u0000\u0000\u0000\u0000\u0000\u0000\u0000\u0000\u0000\u0000\u0000\u0000\u0000\n",
      "1_2450.bcd\n",
      "1\u0000\u0000\u0000\u0000\u0000\u0000\u0000\u0000\u0000\u0000\u0000\u0000\u0000\u0000\u0000\u0000\u0000\u0000\u0000\u0000\u0000\u0000\u0000\u0000\u0000\u0000\u0000\u0000\u0000\u0000\u0000\u0000\n",
      "1_2814.bcd\n",
      "1秒に泣く30秒スピラン\u0000\u0000\u0000\u0000\u0000\u0000\u0000\u0000\u0000\u0000\u0000\u0000\u0000\u0000\u0000\u0000\u0000\u0000\u0000\u0000\u0000\n",
      "1_30__158.bcd\n",
      "1\u0000\u0000\u0000\u0000\u0000\u0000\u0000\u0000\u0000\u0000\u0000\u0000\u0000\u0000\u0000\u0000\u0000\u0000\u0000\u0000\u0000\u0000\u0000\u0000\u0000\u0000\u0000\u0000\u0000\u0000\u0000\u0000\n",
      "1_3165.bcd\n"
     ]
    },
    {
     "name": "stderr",
     "output_type": "stream",
     "text": [
      "\r",
      "  2%|█▎                                                                            | 226/13971 [00:13<06:00, 38.17it/s]"
     ]
    },
    {
     "name": "stdout",
     "output_type": "stream",
     "text": [
      "1\u0000\u0000\u0000\u0000\u0000\u0000\u0000\u0000\u0000\u0000\u0000\u0000\u0000\u0000\u0000\u0000\u0000\u0000\u0000\u0000\u0000\u0000\u0000\u0000\u0000\u0000\u0000\u0000\u0000\u0000\u0000\u0000\n",
      "1_3504.bcd\n",
      "1\u0000\u0000\u0000\u0000\u0000\u0000\u0000\u0000\u0000\u0000\u0000\u0000\u0000\u0000\u0000\u0000\u0000\u0000\u0000\u0000\u0000\u0000\u0000\u0000\u0000\u0000\u0000\u0000\u0000\u0000\u0000\u0000\n",
      "1_3521.bcd\n",
      "1\u0000\u0000\u0000\u0000\u0000\u0000\u0000\u0000\u0000\u0000\u0000\u0000\u0000\u0000\u0000\u0000\u0000\u0000\u0000\u0000\u0000\u0000\u0000\u0000\u0000\u0000\u0000\u0000\u0000\u0000\u0000\u0000\n",
      "1_4439.bcd\n",
      "1\u0000\u0000\u0000\u0000\u0000\u0000\u0000\u0000\u0000\u0000\u0000\u0000\u0000\u0000\u0000\u0000\u0000\u0000\u0000\u0000\u0000\u0000\u0000\u0000\u0000\u0000\u0000\u0000\u0000\u0000\u0000\u0000\n",
      "1_4456.bcd\n",
      "1\u0000\u0000\u0000\u0000\u0000\u0000\u0000\u0000\u0000\u0000\u0000\u0000\u0000\u0000\u0000\u0000\u0000\u0000\u0000\u0000\u0000\u0000\u0000\u0000\u0000\u0000\u0000\u0000\u0000\u0000\u0000\u0000\n",
      "1_4548.bcd\n",
      "1\u0000\u0000\u0000\u0000\u0000\u0000\u0000\u0000\u0000\u0000\u0000\u0000\u0000\u0000\u0000\u0000\u0000\u0000\u0000\u0000\u0000\u0000\u0000\u0000\u0000\u0000\u0000\u0000\u0000\u0000\u0000\u0000\n",
      "1_4551.bcd\n",
      "1\u0000\u0000\u0000\u0000\u0000\u0000\u0000\u0000\u0000\u0000\u0000\u0000\u0000\u0000\u0000\u0000\u0000\u0000\u0000\u0000\u0000\u0000\u0000\u0000\u0000\u0000\u0000\u0000\u0000\u0000\u0000\u0000\n",
      "1_6643.bcd\n",
      "1\u0000\u0000\u0000\u0000\u0000\u0000\u0000\u0000\u0000\u0000\u0000\u0000\u0000\u0000\u0000\u0000\u0000\u0000\u0000\u0000\u0000\u0000\u0000\u0000\u0000\u0000\u0000\u0000\u0000\u0000\u0000\u0000\n",
      "1_6645.bcd\n",
      "1\u0000\u0000\u0000\u0000\u0000\u0000\u0000\u0000\u0000\u0000\u0000\u0000\u0000\u0000\u0000\u0000\u0000\u0000\u0000\u0000\u0000\u0000\u0000\u0000\u0000\u0000\u0000\u0000\u0000\u0000\u0000\u0000\n",
      "1_730.bcd\n",
      "1\u0000\u0000\u0000\u0000\u0000\u0000\u0000\u0000\u0000\u0000\u0000\u0000\u0000\u0000\u0000\u0000\u0000\u0000\u0000\u0000\u0000\u0000\u0000\u0000\u0000\u0000\u0000\u0000\u0000\u0000\u0000\u0000\n",
      "1_8988.bcd\n",
      "1=ªççlllswweerrfdffxccdswedfffff\u0000\n",
      "1_lllswweerrfdffxccdswedfffff_6685.bcd\n",
      "1 Ounce Floaty Boi Bounce\u0000ce\u0000\u0000\u0000\u0000\u0000\n",
      "1_ounce_floaty_boi_bouncece_15457.bcd\n",
      "1画面マリオPART13\u0000\u0000\u0000\u0000\u0000\u0000\u0000\u0000\u0000\u0000\u0000\u0000\u0000\u0000\u0000\u0000\u0000\u0000\u0000\u0000\u0000\n",
      "1_part13_11317.bcd\n",
      "1画面Puzzle III\u0000\u0000\u0000\u0000\u0000\u0000\u0000\u0000\u0000\u0000\u0000\u0000\u0000\u0000\u0000\u0000\u0000\u0000\u0000\u0000\n",
      "1_puzzle_iii_13647.bcd\n",
      "1画面Puzzle II\u0000\u0000\u0000\u0000\u0000\u0000\u0000\u0000\u0000\u0000\u0000\u0000\u0000\u0000\u0000\u0000\u0000\u0000\u0000\u0000\u0000\n",
      "1_puzzle_ii_13650.bcd\n",
      "1画面Puzzle II rev. 2.0\u0000\u0000\u0000\u0000\u0000\u0000\u0000\u0000\u0000\u0000\u0000\u0000"
     ]
    },
    {
     "name": "stderr",
     "output_type": "stream",
     "text": [
      "\r",
      "  2%|█▎                                                                            | 232/13971 [00:13<05:37, 40.66it/s]"
     ]
    },
    {
     "name": "stdout",
     "output_type": "stream",
     "text": [
      "\n",
      "1_puzzle_ii_rev._2.0_13649.bcd\n",
      "1画面Puzzle I\u0000\u0000\u0000\u0000\u0000\u0000\u0000\u0000\u0000\u0000\u0000\u0000\u0000\u0000\u0000\u0000\u0000\u0000\u0000\u0000\u0000\u0000\n",
      "1_puzzle_i_13651.bcd\n",
      "1画面Puzzle VI  $Don't Look Back$\u0000\u0000\n",
      "1_puzzle_vi_don_t_look_back__13646.bcd\n",
      "1 ROOM PUZZLE: Gemini\u0000s it?\u0000g\u0000\u0000\u0000\u0000\n",
      "1_room_puzzle_geminis_it_g_6185.bcd\n",
      "1 Screen: Fire and Ice\u0000\u0000\u0000\u0000\u0000\u0000\u0000\u0000\u0000\u0000\u0000\n",
      "1_screen_fire_and_ice_7390.bcd\n",
      "1 Screen Puzzle\u0000\u0000\u0000\u0000\u0000\u0000\u0000\u0000\u0000\u0000\u0000\u0000\u0000\u0000\u0000\u0000\u0000\u0000\n",
      "1_screen_puzzle_10996.bcd\n",
      "1 screen puzzle\u0000\u0000\u0000\u0000\u0000\u0000\u0000\u0000\u0000\u0000\u0000\u0000\u0000\u0000\u0000\u0000\u0000\u0000\n",
      "1_screen_puzzle_1380.bcd\n",
      "1 SCREEN PUZZLE: Coin Bombing\u0000\u0000\u0000\u0000\n",
      "1_screen_puzzle_coin_bombing_6184.bcd\n",
      "1 SCREEN PUZZLE: MoleVenture\u0000\u0000\u0000\u0000\u0000\n",
      "1_screen_puzzle_moleventure_6201.bcd\n"
     ]
    },
    {
     "name": "stderr",
     "output_type": "stream",
     "text": [
      "  2%|█▎                                                                            | 244/13971 [00:13<05:13, 43.83it/s]"
     ]
    },
    {
     "name": "stdout",
     "output_type": "stream",
     "text": [
      "1 Screen Puzzle: Muncher Guards\u0000\u0000\n",
      "1_screen_puzzle_muncher_guards_10655.bcd\n",
      "1 Screen Puzzle: Reutilize\u0000s\u0000ds\u0000\u0000\n",
      "1_screen_puzzle_reutilizesds_11506.bcd\n",
      "1 Screen Puzzle: Sky Tower\u0000Shell\u0000\n",
      "1_screen_puzzle_sky_towershell_9166.bcd\n",
      "1 Screen Puzzle: Slide Over\u0000\u0000\u0000\u0000\u0000\u0000\n",
      "1_screen_puzzle_slide_over_12570.bcd\n",
      "1 Screen Puzzle: SMB2 Mario\u0000\u0000\u0000\u0000\u0000\u0000\n",
      "1_screen_puzzle_smb2_mario_13396.bcd\n",
      "1 SCREEN PUZZLE: Spring Required\u0000\n",
      "1_screen_puzzle_spring_required_6181.bcd\n",
      "1 SCREEN PUZZLE: Thwomp Day\u0000\u0000\u0000\u0000\u0000\u0000\n",
      "1_screen_puzzle_thwomp_day_307.bcd\n",
      "1 Screen Puzzle: Triple Keys\u0000ds\u0000\u0000\n",
      "1_screen_puzzle_triple_keysds_10978.bcd\n",
      "1 Screen: The Floor is Hot Lava\u0000\u0000\n",
      "1_screen_the_floor_is_hot_lava_7356.bcd\n",
      "1 Screen: Water Snake\u0000\u0000\u0000\u0000\u0000\u0000\u0000\u0000\u0000\u0000\u0000\u0000\n",
      "1_screen_water_snake_7354.bcd\n",
      "1 up\u0000\u0000\u0000\u0000\u0000\u0000\u0000\u0000\u0000\u0000\u0000\u0000\u0000\u0000\u0000\u0000\u0000\u0000\u0000\u0000\u0000\u0000\u0000\u0000\u0000\u0000\u0000\u0000\u0000"
     ]
    },
    {
     "name": "stderr",
     "output_type": "stream",
     "text": [
      "\r",
      "  2%|█▍                                                                            | 250/13971 [00:14<04:54, 46.56it/s]"
     ]
    },
    {
     "name": "stdout",
     "output_type": "stream",
     "text": [
      "\n",
      "1_up_439.bcd\n",
      "1発ドア\u0000\u0000\u0000\u0000\u0000\u0000\u0000\u0000\u0000\u0000\u0000\u0000\u0000\u0000\u0000\u0000\u0000\u0000\u0000\u0000\u0000\u0000\u0000\u0000\u0000\u0000\u0000\u0000\u0000\n",
      "1__10752.bcd\n",
      "1画面謎解き\u0000\u0000\u0000\u0000\u0000\u0000\u0000\u0000\u0000\u0000\u0000\u0000\u0000\u0000\u0000\u0000\u0000\u0000\u0000\u0000\u0000\u0000\u0000\u0000\u0000\u0000\u0000\n",
      "1__11284.bcd\n",
      "1画面耐久ステージ！\u0000\u0000\u0000\u0000\u0000\u0000\u0000\u0000\u0000\u0000\u0000\u0000\u0000\u0000\u0000\u0000\u0000\u0000\u0000\u0000\u0000\u0000\u0000\n",
      "1__1524.bcd\n",
      "2-1: Dzuttsun\u0000\u0000\u0000\u00008ngcheckkkk\u0000\u0000\u0000\u0000\u0000\n",
      "2-1_dzuttsun8ngcheckkkk_5062.bcd\n",
      "2-1 Little Drummer Boy\u0000lues\u0000e\u0000\u0000\u0000\u0000\n",
      "2-1_little_drummer_boyluese_15008.bcd\n",
      "2-1: Otherworldly Overworld.\u0000\u0000\u0000\u0000\u0000\n",
      "2-1_otherworldly_overworld._12380.bcd\n",
      "2-1　ノコノコの しゅうらく　Redshell Resort\u0000\u0000\n",
      "2-1_redshell_resort_8501.bcd\n"
     ]
    },
    {
     "name": "stderr",
     "output_type": "stream",
     "text": [
      "\r",
      "  2%|█▍                                                                            | 256/13971 [00:14<09:54, 23.07it/s]"
     ]
    },
    {
     "name": "stdout",
     "output_type": "stream",
     "text": [
      "2-1: The Fool on the Hill\u0000\u0000\u0000\u0000\u0000\u0000\u0000\u0000\n",
      "2-1_the_fool_on_the_hill_14416.bcd\n",
      "2-1 Wiggler Forest\u0000\u0000\u0000\u0000\u0000\u0000\u0000\u0000\u0000\u0000\u0000\u0000\u0000\u0000\u0000\n",
      "2-1_wiggler_forest_14378.bcd\n",
      "2-2 Cheep-Cheep Sea\u0000\u0000\u0000\u0000\u0000\u0000\u0000\u0000\u0000\u0000\u0000\u0000\u0000\u0000\n",
      "2-2_cheep-cheep_sea_14329.bcd\n",
      "2-2 プクプクの オアシス/Cheep Cheep Oasis\u0000\n",
      "2-2_cheep_cheep_oasis_2091.bcd\n"
     ]
    },
    {
     "name": "stderr",
     "output_type": "stream",
     "text": [
      "\r",
      "  2%|█▍                                                                            | 260/13971 [00:14<10:37, 21.51it/s]"
     ]
    },
    {
     "name": "stdout",
     "output_type": "stream",
     "text": [
      "2-2 Donut Lift Caves\u0000\u0000\u0000\u0000\u0000\u0000\u0000\u0000\u0000\u0000\u0000\u0000\u0000\n",
      "2-2_donut_lift_caves_13510.bcd\n"
     ]
    },
    {
     "name": "stderr",
     "output_type": "stream",
     "text": [
      "\r",
      "  2%|█▍                                                                            | 264/13971 [00:15<13:11, 17.31it/s]"
     ]
    },
    {
     "name": "stdout",
     "output_type": "stream",
     "text": [
      "2-2 Frostybottom Hills\u0000\u0000\u0000\u0000\u0000\u0000\u0000\u0000\u0000\u0000\u0000\n",
      "2-2_frostybottom_hills_3005.bcd\n",
      "2-2 Into the desert cave\u0000sh  20s\u0000\n",
      "2-2_into_the_desert_cavesh_20s_7853.bcd\n",
      "2-2: Let It Breeze\u0000Long\u0000s\u0000\u0000\u0000\u0000\u0000\u0000\u0000\u0000\n",
      "2-2_let_it_breezelongs_14385.bcd\n",
      "2-2 Outlaw Run\u0000\u0000\u0000\u0000\u0000w Zealand\u0000\u0000\u0000\u0000\u0000\n",
      "2-2_outlaw_runw_zealand_15246.bcd\n",
      "2-2: Panic at the Platform-Tower\u0000\n",
      "2-2_panic_at_the_platform-tower_14294.bcd\n"
     ]
    },
    {
     "name": "stderr",
     "output_type": "stream",
     "text": [
      "\r",
      "  2%|█▍                                                                            | 267/13971 [00:15<16:43, 13.65it/s]"
     ]
    },
    {
     "name": "stdout",
     "output_type": "stream",
     "text": [
      "2-2 海へ山へ！そして空へ！/road to airship!\u0000\n",
      "2-2_road_to_airship__13813.bcd\n",
      "2-2 Spiny Spelunking\u0000\u0000\u0000\u0000\u0000\u0000\u0000\u0000\u0000\u0000\u0000\u0000\u0000\n",
      "2-2_spiny_spelunking_13488.bcd\n",
      "2-2: Tundra Turmoil.\u0000\u0000\u0000\u0000\u0000\u0000\u0000\u0000\u0000\u0000\u0000\u0000\u0000\n",
      "2-2_tundra_turmoil._12344.bcd\n"
     ]
    },
    {
     "name": "stderr",
     "output_type": "stream",
     "text": [
      "\r",
      "  2%|█▌                                                                            | 270/13971 [00:15<17:21, 13.16it/s]"
     ]
    },
    {
     "name": "stdout",
     "output_type": "stream",
     "text": [
      "2-2: Under The (Scary) Sea\u0000ones\u0000\u0000\n",
      "2-2_under_the_scary_seaones_5063.bcd\n",
      "2-2 Wild West Winds\u0000\u0000\u0000\u0000\u0000\u0000\u0000\u0000\u0000\u0000\u0000\u0000\u0000\u0000\n",
      "2-2_wild_west_winds_3007.bcd\n",
      "2-3 シーソー広場 -Seesaw Square-\u0000\u0000\u0000\u0000\u0000\u0000\u0000"
     ]
    },
    {
     "name": "stderr",
     "output_type": "stream",
     "text": [
      "\r",
      "  2%|█▌                                                                            | 272/13971 [00:15<19:20, 11.80it/s]"
     ]
    },
    {
     "name": "stdout",
     "output_type": "stream",
     "text": [
      "\n",
      "2-3_-seesaw_square-_11072.bcd\n",
      "2-3: Fishy Fleet.\u0000 cat person\"\u0000\u0000\u0000\n",
      "2-3_fishy_fleet._cat_person__12390.bcd\n"
     ]
    },
    {
     "name": "stderr",
     "output_type": "stream",
     "text": [
      "  2%|█▌                                                                            | 276/13971 [00:16<17:26, 13.08it/s]"
     ]
    },
    {
     "name": "stdout",
     "output_type": "stream",
     "text": [
      "2-3: Here Comes the Angry Sun\u0000\u0000\u0000\u0000\n",
      "2-3_here_comes_the_angry_sun_14418.bcd\n",
      "2-3 Masters Of War\u0000's Blues\u0000e\u0000\u0000\u0000\u0000\n",
      "2-3_masters_of_war_s_bluese_15006.bcd\n",
      "2-3 Mushroom Growth\u0000drun [20s]\u0000\u0000\u0000\n",
      "2-3_mushroom_growthdrun_20s__13419.bcd\n",
      "2-3 Paranormal Pipe Palace\u0000\u0000\u0000\u0000\u0000\u0000\u0000\n",
      "2-3_paranormal_pipe_palace_13408.bcd\n"
     ]
    },
    {
     "name": "stderr",
     "output_type": "stream",
     "text": [
      "\r",
      "  2%|█▌                                                                            | 278/13971 [00:16<19:24, 11.76it/s]"
     ]
    },
    {
     "name": "stdout",
     "output_type": "stream",
     "text": [
      "2-3 Poisonous Cave\u0000\u0000\u0000\u0000\u0000\u0000\u0000\u0000\u0000\u0000\u0000\u0000\u0000\u0000\u0000\n",
      "2-3_poisonous_cave_14327.bcd\n",
      "2-3 Remake\u0000\u0000\u0000\u0000\u0000\u0000\u0000rk of pain\u0000\u0000\u0000\u0000\u0000\u0000\n",
      "2-3_remakerk_of_pain_6554.bcd\n",
      "2-3: Rubble ruins\u0000\u0000\u0000\u0000\u0000\u0000\u0000\u0000\u0000\u0000\u0000\u0000\u0000\u0000\u0000\u0000\n"
     ]
    },
    {
     "name": "stderr",
     "output_type": "stream",
     "text": [
      "\r",
      "  2%|█▌                                                                            | 280/13971 [00:16<18:49, 12.12it/s]"
     ]
    },
    {
     "name": "stdout",
     "output_type": "stream",
     "text": [
      "2-3_rubble_ruins_13972.bcd\n",
      "2-3: Subglacial Stepping Stones\u0000\u0000\n",
      "2-3_subglacial_stepping_stones_3441.bcd\n",
      "2-3　ハナチャン だいこうしん　Wiggler Woods\u0000s\u0000"
     ]
    },
    {
     "name": "stderr",
     "output_type": "stream",
     "text": [
      "\r",
      "  2%|█▌                                                                            | 282/13971 [00:17<27:50,  8.20it/s]"
     ]
    },
    {
     "name": "stdout",
     "output_type": "stream",
     "text": [
      "\n",
      "2-3_wiggler_woodss_11367.bcd\n",
      "2-4 Big Cedar\u0000\u0000\u0000\u0000\u0000\u0000w Zealand\u0000\u0000\u0000\u0000\u0000\n",
      "2-4_big_cedarw_zealand_14451.bcd\n",
      "2-4: Dig a Pokey\u0000\u0000\u0000\u0000\u0000\u0000\u0000\u0000\u0000\u0000\u0000\u0000\u0000\u0000\u0000\u0000\u0000\n",
      "2-4_dig_a_pokey_14387.bcd\n",
      "2-4 Frostybottom Hills\u0000\u0000\u0000\u0000\u0000\u0000\u0000\u0000\u0000\u0000\u0000\n",
      "2-4_frostybottom_hills_2961.bcd\n"
     ]
    },
    {
     "name": "stderr",
     "output_type": "stream",
     "text": [
      "  2%|█▌                                                                            | 287/13971 [00:17<20:19, 11.22it/s]"
     ]
    },
    {
     "name": "stdout",
     "output_type": "stream",
     "text": [
      "2-4: Koopahari Keep\u0000\u0000\u0000\u0000\u0000\u0000\u0000\u0000\u0000\u0000\u0000\u0000\u0000\u0000\n",
      "2-4_koopahari_keep_5041.bcd\n",
      "2-4 Piranha Plant Forest\u0000\u0000\u0000\u0000\u0000\u0000\u0000\u0000\u0000\n",
      "2-4_piranha_plant_forest_14363.bcd\n",
      "2-4: Piranha Pyramid Peril.\u0000run!\u0000\n",
      "2-4_piranha_pyramid_peril.run__12357.bcd\n"
     ]
    },
    {
     "name": "stderr",
     "output_type": "stream",
     "text": [
      "\r",
      "  2%|█▌                                                                            | 289/13971 [00:17<34:41,  6.57it/s]"
     ]
    },
    {
     "name": "stdout",
     "output_type": "stream",
     "text": [
      "2-4 Roy's Spiky Seesaw Castle\u0000\u0000\u0000\u0000\n",
      "2-4_roy_s_spiky_seesaw_castle_13773.bcd\n",
      "2-4 Toxisches Terrain\u0000\u0000\u0000\u0000\u0000\u0000\u0000\u0000\u0000\u0000\u0000\u0000\n",
      "2-4_toxisches_terrain_2975.bcd\n",
      "2-4 Trembling Tall Tower\u0000\u0000\u0000\u0000\u0000\u0000\u0000\u0000\u0000"
     ]
    },
    {
     "name": "stderr",
     "output_type": "stream",
     "text": [
      "\r",
      "  2%|█▌                                                                            | 291/13971 [00:18<30:26,  7.49it/s]"
     ]
    },
    {
     "name": "stdout",
     "output_type": "stream",
     "text": [
      "\n",
      "2-4_trembling_tall_tower_2990.bcd\n",
      "2-5 Fire in the Hole\u0000Zealand\u0000\u0000\u0000\u0000\u0000\n",
      "2-5_fire_in_the_holezealand_15357.bcd\n",
      "2-5 Gumba-Gipfel\u0000\u0000\u0000\u0000\u0000\u0000\u0000\u0000\u0000\u0000\u0000\u0000\u0000\u0000\u0000\u0000\u0000\n",
      "2-5_gumba-gipfel_2997.bcd\n"
     ]
    },
    {
     "name": "stderr",
     "output_type": "stream",
     "text": [
      "\r",
      "  2%|█▋                                                                            | 293/13971 [00:18<28:27,  8.01it/s]"
     ]
    },
    {
     "name": "stdout",
     "output_type": "stream",
     "text": [
      "2-5: Molten Moonlight\u0000\u0000\u0000\u0000\u0000\u0000\u0000\u0000\u0000\u0000\u0000\u0000\n",
      "2-5_molten_moonlight_12383.bcd\n"
     ]
    },
    {
     "name": "stderr",
     "output_type": "stream",
     "text": [
      "\r",
      "  2%|█▋                                                                            | 295/13971 [00:18<38:07,  5.98it/s]"
     ]
    },
    {
     "name": "stdout",
     "output_type": "stream",
     "text": [
      "2-5 Poisonous Castle\u0000 Castle\u0000\u0000\u0000\u0000\u0000\n",
      "2-5_poisonous_castle_castle_14362.bcd\n",
      "2-6: Enter Boom Boom!\u0000\u0000\u0000\u0000\u0000\u0000\u0000\u0000\u0000\u0000\u0000\u0000\n",
      "2-6_enter_boom_boom__12368.bcd\n",
      "2-A: Shiny Spiny Skies.\u0000\u0000\u0000\u0000\u0000\u0000\u0000\u0000\u0000\u0000\n",
      "2-a_shiny_spiny_skies._12349.bcd\n"
     ]
    },
    {
     "name": "stderr",
     "output_type": "stream",
     "text": [
      "\r",
      "  2%|█▋                                                                            | 297/13971 [00:18<32:03,  7.11it/s]"
     ]
    },
    {
     "name": "stdout",
     "output_type": "stream",
     "text": [
      "2-B: Gloomy Goombrats.\u0000Remix\u0000\u0000\u0000\u0000\u0000\n",
      "2-b_gloomy_goombrats.remix_12381.bcd\n"
     ]
    },
    {
     "name": "stderr",
     "output_type": "stream",
     "text": [
      "\r",
      "  2%|█▌                                                                          | 298/13971 [00:19<1:00:57,  3.74it/s]"
     ]
    },
    {
     "name": "stdout",
     "output_type": "stream",
     "text": [
      "2-C Morton's Speed Rise Infest\u0000 \u0000\n",
      "2-c_morton_s_speed_rise_infest_15633.bcd\n",
      "2-S: The White Palace\u0000\u0000\u0000\u0000\u0000\u0000\u0000\u0000\u0000\u0000\u0000\u0000\n",
      "2-s_the_white_palace_5065.bcd\n"
     ]
    },
    {
     "name": "stderr",
     "output_type": "stream",
     "text": [
      "  2%|█▋                                                                            | 302/13971 [00:20<42:48,  5.32it/s]"
     ]
    },
    {
     "name": "stdout",
     "output_type": "stream",
     "text": [
      "20-second speedrun but it's not.\u0000\n",
      "20-second_speedrun_but_it_s_not._13318.bcd\n",
      "2001: A Space Odyssey\u0000\u0000\u0000\u0000\u0000\u0000\u0000\u0000\u0000\u0000\u0000\u0000\n",
      "2001_a_space_odyssey_5372.bcd\n",
      "2012\u0000\u0000\u0000\u0000\u0000\u0000\u0000\u0000\u0000\u0000\u0000\u0000\u0000\u0000\u0000\u0000\u0000\u0000\u0000\u0000\u0000\u0000\u0000\u0000\u0000\u0000\u0000\u0000\u0000\n",
      "2012_11242.bcd\n"
     ]
    },
    {
     "name": "stderr",
     "output_type": "stream",
     "text": [
      "  2%|█▋                                                                            | 305/13971 [00:20<33:58,  6.70it/s]"
     ]
    },
    {
     "name": "stdout",
     "output_type": "stream",
     "text": [
      "\u0000\u0000\u0000\u0000\u0000\u0000\u0000\u0000\u0000\u0000\u0000\u0000\u0000\u0000\u0000\u0000\u0000\u0000\u0000\u0000\u0000\u0000\u0000\u0000\u0000\u0000\u0000\u0000\u0000\u0000\u0000\u0000\u0000\n",
      "2063199109.bcd\n",
      "20seconds : Auto-Switch House \u0000c\u0000\n",
      "20seconds_auto-switch_house_c_2632.bcd\n",
      "20seconds : Boom castle 2\u0000\u0000\u0000\u0000\u0000\u0000\u0000\u0000\n",
      "20seconds_boom_castle_2_13221.bcd\n",
      "20seconds: Earthquake Jungle Run\u0000"
     ]
    },
    {
     "name": "stderr",
     "output_type": "stream",
     "text": [
      "\r",
      "  2%|█▋                                                                            | 307/13971 [00:20<30:06,  7.56it/s]"
     ]
    },
    {
     "name": "stdout",
     "output_type": "stream",
     "text": [
      "\n",
      "20seconds_earthquake_jungle_run_3629.bcd\n",
      "20seconds : Grinder Speedrun\u0000\u0000\u0000\u0000\u0000\n",
      "20seconds_grinder_speedrun_12481.bcd\n",
      "20seconds :On/Off switch house\u0000e\u0000\n",
      "20seconds_on_off_switch_housee_3685.bcd\n"
     ]
    },
    {
     "name": "stderr",
     "output_type": "stream",
     "text": [
      "\r",
      "  2%|█▋                                                                            | 309/13971 [00:20<32:21,  7.04it/s]"
     ]
    },
    {
     "name": "stdout",
     "output_type": "stream",
     "text": [
      "20seconds : Pipe party！！！\u0000ouse\u0000e\u0000\n",
      "20seconds_pipe_party_ousee_3704.bcd\n"
     ]
    },
    {
     "name": "stderr",
     "output_type": "stream",
     "text": [
      "  2%|█▋                                                                            | 311/13971 [00:21<40:55,  5.56it/s]"
     ]
    },
    {
     "name": "stdout",
     "output_type": "stream",
     "text": [
      "20seconds : Poison switcher\u0000\u0000\u0000\u0000\u0000\u0000\n",
      "20seconds_poison_switcher_4326.bcd\n",
      "20seconds : Simple on/off cave\u0000\u0000\u0000"
     ]
    },
    {
     "name": "stderr",
     "output_type": "stream",
     "text": [
      "\r",
      "  2%|█▋                                                                            | 312/13971 [00:21<37:23,  6.09it/s]"
     ]
    },
    {
     "name": "stdout",
     "output_type": "stream",
     "text": [
      "\n",
      "20seconds_simple_on_off_cave_6279.bcd\n",
      "20Seconds Speed Run Challenge☆\u0000\u0000\u0000\n",
      "20seconds_speed_run_challenge__12013.bcd\n",
      "20seconds : Spiny rain \u0000\u0000\u0000\u0000\u0000\u0000\u0000\u0000\u0000\u0000"
     ]
    },
    {
     "name": "stderr",
     "output_type": "stream",
     "text": [
      "\r",
      "  2%|█▊                                                                            | 314/13971 [00:21<31:01,  7.34it/s]"
     ]
    },
    {
     "name": "stdout",
     "output_type": "stream",
     "text": [
      "\n",
      "20seconds_spiny_rain_3974.bcd\n",
      "20seconds:Thwomp Desert2/ドッスン砂漠2\u0000\n",
      "20seconds_thwomp_desert2_2_6323.bcd\n",
      "20second : Grinder & Lift Panic\u0000\u0000\n",
      "20second_grinder_lift_panic_12525.bcd\n"
     ]
    },
    {
     "name": "stderr",
     "output_type": "stream",
     "text": [
      "  2%|█▊                                                                            | 317/13971 [00:21<27:25,  8.30it/s]"
     ]
    },
    {
     "name": "stdout",
     "output_type": "stream",
     "text": [
      "20second SPEED RUN!! #2\u0000\u0000\u0000\u0000\u0000\u0000\u0000\u0000\u0000\u0000\n",
      "20second_speed_run_2_11662.bcd\n",
      "20second SPEED RUN!! #3\u0000\u0000\u0000\u0000\u0000\u0000\u0000\u0000\u0000\u0000\n",
      "20second_speed_run_3_11985.bcd\n"
     ]
    },
    {
     "name": "stderr",
     "output_type": "stream",
     "text": [
      "\r",
      "  2%|█▊                                                                            | 319/13971 [00:22<23:58,  9.49it/s]"
     ]
    },
    {
     "name": "stdout",
     "output_type": "stream",
     "text": [
      "20second speed run\u0000\u0000\u0000\u0000\u0000\u0000\u0000\u0000\u0000\u0000\u0000\u0000\u0000\u0000\u0000\n",
      "20second_speed_run_7193.bcd\n",
      "20Second:　Swicth&Lift Speed Run！\u0000\n",
      "20second_swicth_lift_speed_run__9144.bcd\n"
     ]
    },
    {
     "name": "stderr",
     "output_type": "stream",
     "text": [
      "\r",
      "  2%|█▊                                                                            | 321/13971 [00:22<27:11,  8.37it/s]"
     ]
    },
    {
     "name": "stdout",
     "output_type": "stream",
     "text": [
      "20Second:switch run 2\u0000\u0000\u0000\u0000\u0000\u0000\u0000\u0000\u0000\u0000\u0000\u0000\n",
      "20second_switch_run_2_4215.bcd\n",
      "20Sec/ピーパックン スピードラン 2☆SPEED RUN★\u0000\n",
      "20sec_2_speed_run__14424.bcd\n"
     ]
    },
    {
     "name": "stderr",
     "output_type": "stream",
     "text": [
      "  2%|█▊                                                                            | 323/13971 [00:22<29:39,  7.67it/s]"
     ]
    },
    {
     "name": "stdout",
     "output_type": "stream",
     "text": [
      "20sec 3DJerome3D Grove speedrun\u0000\u0000\n",
      "20sec_3djerome3d_grove_speedrun_4321.bcd\n",
      "20sec BLG-X Chain Chomp speedrun\u0000\n",
      "20sec_blg-x_chain_chomp_speedrun_4294.bcd\n",
      "20sec Challenge SPPED RUN #1\u0000\u0000\u0000\u0000\u0000"
     ]
    },
    {
     "name": "stderr",
     "output_type": "stream",
     "text": [
      "\r",
      "  2%|█▊                                                                            | 325/13971 [00:22<25:06,  9.06it/s]"
     ]
    },
    {
     "name": "stdout",
     "output_type": "stream",
     "text": [
      "\n",
      "20sec_challenge_spped_run_1_12021.bcd\n",
      "20sec fire barrier 8 speedrun\u0000\u0000\u0000\u0000\n",
      "20sec_fire_barrier_8_speedrun_3956.bcd\n"
     ]
    },
    {
     "name": "stderr",
     "output_type": "stream",
     "text": [
      "  2%|█▊                                                                            | 329/13971 [00:23<22:31, 10.09it/s]"
     ]
    },
    {
     "name": "stdout",
     "output_type": "stream",
     "text": [
      "20sec fire barrier speedrun 2\u0000\u0000\u0000\u0000\n",
      "20sec_fire_barrier_speedrun_2_3632.bcd\n",
      "20sec fire barrier speedrun\u0000\u0000\u0000\u0000\u0000\u0000\n",
      "20sec_fire_barrier_speedrun_3631.bcd\n",
      "20sec Jooboo Ruins speedrun\u0000un\u0000\u0000\u0000\n",
      "20sec_jooboo_ruins_speedrunun_4260.bcd\n",
      "20sec Luigi John chase run\u0000\u0000n\u0000\u0000\u0000\u0000\n",
      "20sec_luigi_john_chase_runn_4228.bcd\n"
     ]
    },
    {
     "name": "stderr",
     "output_type": "stream",
     "text": [
      "\r",
      "  2%|█▊                                                                            | 331/13971 [00:23<28:00,  8.12it/s]"
     ]
    },
    {
     "name": "stdout",
     "output_type": "stream",
     "text": [
      "20sec Moist Pipeline Panic! \u000020s\u0000\n",
      "20sec_moist_pipeline_panic_20s_11732.bcd\n",
      "20sec Momoモモ Castle speedrun\u0000\u0000\u0000\u0000\u0000\n",
      "20sec_momo_castle_speedrun_4328.bcd\n"
     ]
    },
    {
     "name": "stderr",
     "output_type": "stream",
     "text": [
      "\r",
      "  2%|█▊                                                                            | 333/13971 [00:23<23:55,  9.50it/s]"
     ]
    },
    {
     "name": "stdout",
     "output_type": "stream",
     "text": [
      "20sec NoGeniusノ Snow speedrun\u0000\u0000\u0000\u0000\n",
      "20sec_nogenius_snow_speedrun_4229.bcd\n",
      "20sec peaceful forest speedrun\u0000\u0000\u0000\n",
      "20sec_peaceful_forest_speedrun_3931.bcd\n"
     ]
    },
    {
     "name": "stderr",
     "output_type": "stream",
     "text": [
      "\r",
      "  2%|█▊                                                                            | 335/13971 [00:23<28:08,  8.07it/s]"
     ]
    },
    {
     "name": "stdout",
     "output_type": "stream",
     "text": [
      "20sec ♪Pluto Snow speedrun\u0000\u0000\u0000\u0000\u0000\u0000\u0000\n",
      "20sec_pluto_snow_speedrun_4311.bcd\n",
      "20sec snow run 寒い土地は走るに限るのスピードラン\u0000\n",
      "20sec_snow_run__2960.bcd\n",
      "20sec speedrun for the fastest\u0000\u0000\u0000\n",
      "20sec_speedrun_for_the_fastest_3681.bcd\n",
      "20Sec/暗闇のトゲこんぼうスピードラン/Speed run\u0000\u0000\n",
      "20sec_speed_run_14171.bcd\n"
     ]
    },
    {
     "name": "stderr",
     "output_type": "stream",
     "text": [
      "  2%|█▉                                                                            | 340/13971 [00:24<23:03,  9.85it/s]"
     ]
    },
    {
     "name": "stdout",
     "output_type": "stream",
     "text": [
      "20sec speed run:新感覚!踏むスピードラン\u0000\u0000\u0000\u0000\u0000\n",
      "20sec_speed_run__11945.bcd\n",
      "20sec SR|Cindy Temple speedrun\u0000\u0000\u0000\n",
      "20sec_sr_cindy_temple_speedrun_4256.bcd\n",
      "20sec Wolf Castle platform run\u0000\u0000\u0000\n",
      "20sec_wolf_castle_platform_run_4254.bcd\n"
     ]
    },
    {
     "name": "stderr",
     "output_type": "stream",
     "text": [
      "\r",
      "  2%|█▉                                                                            | 342/13971 [00:24<20:16, 11.21it/s]"
     ]
    },
    {
     "name": "stdout",
     "output_type": "stream",
     "text": [
      "20sec スピードラン\u0000\u0000\u0000\u0000　ン　\u0000\u0000\u0000\u0000\u0000\u0000\u0000\u0000\u0000\u0000\u0000\u0000\u0000\u0000\n",
      "20sec__191.bcd\n",
      "20s POW castle exhilarating ver.\u0000\n",
      "20s_pow_castle_exhilarating_ver._4359.bcd\n",
      "20s:Sky On/Off Speedrun\u0000\u0000\u0000\u0000\u0000\u0000\u0000\u0000\u0000\u0000\n",
      "20s_sky_on_off_speedrun_11206.bcd\n"
     ]
    },
    {
     "name": "stderr",
     "output_type": "stream",
     "text": [
      "\r",
      "  2%|█▉                                                                            | 344/13971 [00:24<22:23, 10.14it/s]"
     ]
    },
    {
     "name": "stdout",
     "output_type": "stream",
     "text": [
      "20s speedrun: Lava hopping 3\u0000\u0000\u0000\u0000\u0000\n",
      "20s_speedrun_lava_hopping_3_10444.bcd\n",
      "20s speedrun　どくどく洞窟\\Poison cave\u0000\u0000\n",
      "20s_speedrun_poison_cave_11474.bcd\n"
     ]
    },
    {
     "name": "stderr",
     "output_type": "stream",
     "text": [
      "\r",
      "  2%|█▉                                                                            | 346/13971 [00:24<23:00,  9.87it/s]"
     ]
    },
    {
     "name": "stdout",
     "output_type": "stream",
     "text": [
      "20秒スピードラン / 毒沼で爽快にEnjoy！！\u0000\u0000\u0000\u0000\u0000\u0000\u0000\u0000\n",
      "20_enjoy__12012.bcd\n"
     ]
    },
    {
     "name": "stderr",
     "output_type": "stream",
     "text": [
      "\r",
      "  2%|█▉                                                                            | 348/13971 [00:25<23:54,  9.50it/s]"
     ]
    },
    {
     "name": "stdout",
     "output_type": "stream",
     "text": [
      "20 Secondes: Easy mode\u0000\u0000\u0000\u0000\u0000\u0000\u0000\u0000\u0000\u0000\u0000\n",
      "20_secondes_easy_mode_12205.bcd\n",
      "20 Seconds: Abominable Snowmen\u0000\u0000\u0000\n",
      "20_seconds_abominable_snowmen_7362.bcd\n",
      "20 Seconds: Aerial Armada\u0000\u0000\u0000\u0000\u0000\u0000\u0000\u0000\n",
      "20_seconds_aerial_armada_7352.bcd\n"
     ]
    },
    {
     "name": "stderr",
     "output_type": "stream",
     "text": [
      "\r",
      "  3%|█▉                                                                            | 350/13971 [00:25<23:28,  9.67it/s]"
     ]
    },
    {
     "name": "stdout",
     "output_type": "stream",
     "text": [
      "20 seconds: Arctic Tundra Dash\u0000\u0000\u0000\n",
      "20_seconds_arctic_tundra_dash_12944.bcd\n",
      "20 seconds: Auto Switch Heaven \u0000\u0000\n",
      "20_seconds_auto_switch_heaven_3045.bcd\n"
     ]
    },
    {
     "name": "stderr",
     "output_type": "stream",
     "text": [
      "  3%|█▉                                                                            | 353/13971 [00:26<34:08,  6.65it/s]"
     ]
    },
    {
     "name": "stdout",
     "output_type": "stream",
     "text": [
      "20 seconds: Beatles cave!\u0000\u0000\u0000\u0000\u0000\u0000\u0000\u0000\n",
      "20_seconds_beatles_cave__2675.bcd\n",
      "20 Seconds: Belly of the Beast\u0000\u0000\u0000\n",
      "20_seconds_belly_of_the_beast_8921.bcd\n"
     ]
    },
    {
     "name": "stderr",
     "output_type": "stream",
     "text": [
      "  3%|█▉                                                                            | 355/13971 [00:26<31:44,  7.15it/s]"
     ]
    },
    {
     "name": "stdout",
     "output_type": "stream",
     "text": [
      "20 Seconds: Blackout Blitz\u0000ades\u0000\u0000\n",
      "20_seconds_blackout_blitzades_2628.bcd\n",
      "20 Seconds: Bob-omb Blastoff\u0000\u0000\u0000\u0000\u0000\n",
      "20_seconds_bob-omb_blastoff_739.bcd\n"
     ]
    },
    {
     "name": "stderr",
     "output_type": "stream",
     "text": [
      "  3%|█▉                                                                            | 358/13971 [00:26<26:41,  8.50it/s]"
     ]
    },
    {
     "name": "stdout",
     "output_type": "stream",
     "text": [
      "20 seconds: Bob-omb Bonanza\u0000\u0000n\u0000\u0000\u0000\n",
      "20_seconds_bob-omb_bonanzan_6305.bcd\n",
      "20 seconds: Bowser on/off castle\u0000\n",
      "20_seconds_bowser_on_off_castle_3646.bcd\n",
      "20 Seconds: Buzzy Beetle Blaze\u0000\u0000\u0000\n",
      "20_seconds_buzzy_beetle_blaze_381.bcd\n",
      "20 seconds: Buzzy Castle\u0000\u0000\u0000\u0000\u0000\u0000\u0000\u0000\u0000\n",
      "20_seconds_buzzy_castle_3647.bcd\n"
     ]
    },
    {
     "name": "stderr",
     "output_type": "stream",
     "text": [
      "  3%|██                                                                            | 362/13971 [00:27<26:54,  8.43it/s]"
     ]
    },
    {
     "name": "stdout",
     "output_type": "stream",
     "text": [
      "20 Seconds: Cannonball Capers\u0000\u0000\u0000\u0000\n",
      "20_seconds_cannonball_capers_2611.bcd\n",
      "20 Seconds: Cannonball Panic\u0000\u0000\u0000\u0000\u0000\n",
      "20_seconds_cannonball_panic_4220.bcd\n",
      "20 Seconds: Cannonball Panic!\u0000\u0000\u0000\u0000\n",
      "20_seconds_cannonball_panic__4295.bcd\n"
     ]
    },
    {
     "name": "stderr",
     "output_type": "stream",
     "text": [
      "  3%|██                                                                            | 364/13971 [00:27<34:30,  6.57it/s]"
     ]
    },
    {
     "name": "stdout",
     "output_type": "stream",
     "text": [
      "20 Seconds: Cannon Catastrophe\u0000\u0000\u0000\n",
      "20_seconds_cannon_catastrophe_11938.bcd\n",
      "20 seconds: Celestial Koopa Jump\u0000\n",
      "20_seconds_celestial_koopa_jump_3392.bcd\n"
     ]
    },
    {
     "name": "stderr",
     "output_type": "stream",
     "text": [
      "\r",
      "  3%|██                                                                            | 365/13971 [00:27<38:47,  5.84it/s]"
     ]
    },
    {
     "name": "stdout",
     "output_type": "stream",
     "text": [
      "20 Seconds challenge 1-4\u0000\u0000\u0000\u0000\u0000\u0000\u0000\u0000\u0000\n",
      "20_seconds_challenge_1-4_2222.bcd\n",
      "20 seconds: Colorful Sky Rush\u0000h\u0000\u0000\n",
      "20_seconds_colorful_sky_rushh_12956.bcd\n"
     ]
    },
    {
     "name": "stderr",
     "output_type": "stream",
     "text": [
      "\r",
      "  3%|██                                                                            | 367/13971 [00:27<36:02,  6.29it/s]"
     ]
    },
    {
     "name": "stdout",
     "output_type": "stream",
     "text": [
      "20 Seconds: Countdown Crumble\u0000\u0000\u0000\u0000\n",
      "20_seconds_countdown_crumble_1407.bcd\n"
     ]
    },
    {
     "name": "stderr",
     "output_type": "stream",
     "text": [
      "\r",
      "  3%|██                                                                            | 369/13971 [00:28<39:51,  5.69it/s]"
     ]
    },
    {
     "name": "stdout",
     "output_type": "stream",
     "text": [
      "20 Seconds: Daunting Desert Dash\u0000\n",
      "20_seconds_daunting_desert_dash_778.bcd\n",
      "20 seconds: Deadly Desert\u0000\u0000\u0000\u0000\u0000\u0000\u0000\u0000\n",
      "20_seconds_deadly_desert_2681.bcd\n"
     ]
    },
    {
     "name": "stderr",
     "output_type": "stream",
     "text": [
      "  3%|██                                                                            | 371/13971 [00:28<44:12,  5.13it/s]"
     ]
    },
    {
     "name": "stdout",
     "output_type": "stream",
     "text": [
      "20 seconds: Desert Stiletto Rush\u0000\n",
      "20_seconds_desert_stiletto_rush_3729.bcd\n",
      "20 Seconds: Disturbance Dogs\u0000\u0000\u0000\u0000\u0000\n",
      "20_seconds_disturbance_dogs_3697.bcd\n"
     ]
    },
    {
     "name": "stderr",
     "output_type": "stream",
     "text": [
      "\r",
      "  3%|██                                                                            | 372/13971 [00:29<46:48,  4.84it/s]"
     ]
    },
    {
     "name": "stdout",
     "output_type": "stream",
     "text": [
      "20 Seconds: Electric Disco\u0000\u0000\u0000\u0000\u0000\u0000\u0000\n",
      "20_seconds_electric_disco_12004.bcd\n"
     ]
    },
    {
     "name": "stderr",
     "output_type": "stream",
     "text": [
      "  3%|██                                                                            | 374/13971 [00:29<49:40,  4.56it/s]"
     ]
    },
    {
     "name": "stdout",
     "output_type": "stream",
     "text": [
      "20 seconds: Elysian Cannon Blast\u0000\n",
      "20_seconds_elysian_cannon_blast_3668.bcd\n",
      "20 Seconds: Ethereal POW Garden\u0000\u0000\n",
      "20_seconds_ethereal_pow_garden_1631.bcd\n"
     ]
    },
    {
     "name": "stderr",
     "output_type": "stream",
     "text": [
      "\r",
      "  3%|██                                                                            | 375/13971 [00:29<42:31,  5.33it/s]"
     ]
    },
    {
     "name": "stdout",
     "output_type": "stream",
     "text": [
      "20 Seconds: Fearsome Fire Fort\u0000\u0000\u0000\n",
      "20_seconds_fearsome_fire_fort_1911.bcd\n"
     ]
    },
    {
     "name": "stderr",
     "output_type": "stream",
     "text": [
      "  3%|██                                                                            | 378/13971 [00:30<40:40,  5.57it/s]"
     ]
    },
    {
     "name": "stdout",
     "output_type": "stream",
     "text": [
      "20 seconds: Fire Run\u0000\u0000\u0000\u0000\u0000\u0000\u0000\u0000\u0000\u0000\u0000\u0000\u0000\n",
      "20_seconds_fire_run_2223.bcd\n",
      "20 Seconds: Flooded Forest\u0000\u0000\u0000\u0000\u0000\u0000\u0000\n",
      "20_seconds_flooded_forest_7350.bcd\n",
      "20 Seconds : Freezy Galaxy\u0000\u0000\u0000\u0000\u0000\u0000\u0000\n",
      "20_seconds_freezy_galaxy_3684.bcd\n"
     ]
    },
    {
     "name": "stderr",
     "output_type": "stream",
     "text": [
      "  3%|██▏                                                                           | 381/13971 [00:30<38:04,  5.95it/s]"
     ]
    },
    {
     "name": "stdout",
     "output_type": "stream",
     "text": [
      "20 seconds: Get Down\u0000\u0000\u0000\u0000\u0000\u0000\u0000\u0000\u0000\u0000\u0000\u0000\u0000\n",
      "20_seconds_get_down_2685.bcd\n",
      "20 Seconds: Ghost of a Chance\u0000\u0000\u0000\u0000\n",
      "20_seconds_ghost_of_a_chance_7402.bcd\n"
     ]
    },
    {
     "name": "stderr",
     "output_type": "stream",
     "text": [
      "\r",
      "  3%|██▏                                                                           | 383/13971 [00:30<30:25,  7.45it/s]"
     ]
    },
    {
     "name": "stdout",
     "output_type": "stream",
     "text": [
      "20 seconds: Goomba's Armada\u0000\u0000\u0000\u0000\u0000\u0000\n",
      "20_seconds_goomba_s_armada_3710.bcd\n",
      "20 Seconds Great Flow Speedrun\u0000\u0000\u0000\n",
      "20_seconds_great_flow_speedrun_2274.bcd\n",
      "20 Seconds: Highspeed Hill Climb\u0000\n",
      "20_seconds_highspeed_hill_climb_3345.bcd\n",
      "20 Seconds: High In The Clouds\u0000\u0000\u0000\n",
      "20_seconds_high_in_the_clouds_4304.bcd\n"
     ]
    },
    {
     "name": "stderr",
     "output_type": "stream",
     "text": [
      "\r",
      "  3%|██▏                                                                           | 385/13971 [00:30<25:32,  8.87it/s]"
     ]
    },
    {
     "name": "stdout",
     "output_type": "stream",
     "text": [
      "20 seconds: King Thwomp's Castle\u0000\n",
      "20_seconds_king_thwomp_s_castle_10886.bcd\n",
      "20 seconds: Link's Frosty Dash\u0000\u0000\u0000\n",
      "20_seconds_link_s_frosty_dash_7190.bcd\n"
     ]
    },
    {
     "name": "stderr",
     "output_type": "stream",
     "text": [
      "  3%|██▏                                                                           | 388/13971 [00:31<32:08,  7.04it/s]"
     ]
    },
    {
     "name": "stdout",
     "output_type": "stream",
     "text": [
      "20 seconds: ♪♪Little Star♪♪\u0000\u0000\u0000\u0000\u0000\u0000\n",
      "20_seconds_little_star__3604.bcd\n",
      "20 Seconds: Majestic Clouds\u0000\u0000\u0000\u0000\u0000\u0000\n",
      "20_seconds_majestic_clouds_13426.bcd\n"
     ]
    },
    {
     "name": "stderr",
     "output_type": "stream",
     "text": [
      "  3%|██▏                                                                           | 390/13971 [00:31<32:17,  7.01it/s]"
     ]
    },
    {
     "name": "stdout",
     "output_type": "stream",
     "text": [
      "20 Seconds: Mega Mario Smashdown\u0000\n",
      "20_seconds_mega_mario_smashdown_787.bcd\n",
      "20 seconds: Muncher Cave!\u0000\u0000\u0000\u0000\u0000\u0000\u0000\u0000\n",
      "20_seconds_muncher_cave__3371.bcd\n"
     ]
    },
    {
     "name": "stderr",
     "output_type": "stream",
     "text": [
      "  3%|██▏                                                                           | 392/13971 [00:31<28:41,  7.89it/s]"
     ]
    },
    {
     "name": "stdout",
     "output_type": "stream",
     "text": [
      "20 seconds: My brother Thwomp!\u0000\u0000\u0000\n",
      "20_seconds_my_brother_thwomp__2717.bcd\n",
      "20 seconds: Pipeline Lift Sprint\u0000\n",
      "20_seconds_pipeline_lift_sprint_8564.bcd\n"
     ]
    },
    {
     "name": "stderr",
     "output_type": "stream",
     "text": [
      "  3%|██▏                                                                           | 394/13971 [00:32<30:44,  7.36it/s]"
     ]
    },
    {
     "name": "stdout",
     "output_type": "stream",
     "text": [
      "20 seconds: Piranha Cave\u0000\u0000\u0000\u0000\u0000\u0000\u0000\u0000\u0000\n",
      "20_seconds_piranha_cave_2238.bcd\n",
      "20 Seconds: Platform Panic\u0000\u0000\u0000\u0000\u0000\u0000\u0000\n",
      "20_seconds_platform_panic_3394.bcd\n",
      "20 Seconds: Platform Pushthrough\u0000"
     ]
    },
    {
     "name": "stderr",
     "output_type": "stream",
     "text": [
      "\r",
      "  3%|██▏                                                                           | 396/13971 [00:32<27:17,  8.29it/s]"
     ]
    },
    {
     "name": "stdout",
     "output_type": "stream",
     "text": [
      "\n",
      "20_seconds_platform_pushthrough_733.bcd\n",
      "20 Seconds: POWer Mansion!\u0000\u0000\u0000\u0000\u0000\u0000\u0000\n",
      "20_seconds_power_mansion__3627.bcd\n"
     ]
    },
    {
     "name": "stderr",
     "output_type": "stream",
     "text": [
      "\r",
      "  3%|██▏                                                                           | 397/13971 [00:32<32:24,  6.98it/s]"
     ]
    },
    {
     "name": "stdout",
     "output_type": "stream",
     "text": [
      "20 Seconds: POW Block Blitz\u0000Y+→\u0000\u0000\n",
      "20_seconds_pow_block_blitzy__347.bcd\n",
      "20 seconds: POW Block Mansion\u0000\u0000\u0000\u0000\n",
      "20_seconds_pow_block_mansion_3300.bcd\n"
     ]
    },
    {
     "name": "stderr",
     "output_type": "stream",
     "text": [
      "\r",
      "  3%|██▏                                                                           | 399/13971 [00:32<30:55,  7.32it/s]"
     ]
    },
    {
     "name": "stdout",
     "output_type": "stream",
     "text": [
      "20 seconds: POW Block Mountain\u0000\u0000\u0000\n",
      "20_seconds_pow_block_mountain_2239.bcd\n"
     ]
    },
    {
     "name": "stderr",
     "output_type": "stream",
     "text": [
      "\r",
      "  3%|██▏                                                                           | 400/13971 [00:33<39:46,  5.69it/s]"
     ]
    },
    {
     "name": "stdout",
     "output_type": "stream",
     "text": [
      "20 Seconds: Pow Throw Overflow\u0000\u0000\u0000\n",
      "20_seconds_pow_throw_overflow_3374.bcd\n"
     ]
    },
    {
     "name": "stderr",
     "output_type": "stream",
     "text": [
      "  3%|██▏                                                                           | 402/13971 [00:33<41:21,  5.47it/s]"
     ]
    },
    {
     "name": "stdout",
     "output_type": "stream",
     "text": [
      "20 Seconds: Rainbow Run - Kotaku\u0000\n",
      "20_seconds_rainbow_run_-_kotaku_7372.bcd\n",
      "20 seconds: Sawblade-Castle\u0000\u0000\u0000\u0000\u0000\u0000\n",
      "20_seconds_sawblade-castle_12929.bcd\n"
     ]
    },
    {
     "name": "stderr",
     "output_type": "stream",
     "text": [
      "\r",
      "  3%|██▏                                                                           | 403/13971 [00:33<46:48,  4.83it/s]"
     ]
    },
    {
     "name": "stdout",
     "output_type": "stream",
     "text": [
      "20 seconds: ☆Sharp Sky☆\u0000\u0000\u0000\u0000\u0000\u0000\u0000\u0000\u0000\u0000\n",
      "20_seconds_sharp_sky__11098.bcd\n",
      "20 seconds: Sky Auto switch Run\u0000\u0000\n",
      "20_seconds_sky_auto_switch_run_3951.bcd\n"
     ]
    },
    {
     "name": "stderr",
     "output_type": "stream",
     "text": [
      "\r",
      "  3%|██▎                                                                           | 405/13971 [00:34<41:53,  5.40it/s]"
     ]
    },
    {
     "name": "stdout",
     "output_type": "stream",
     "text": [
      "20 Seconds: Slide To Victory\u0000\u0000\u0000\u0000\u0000\n",
      "20_seconds_slide_to_victory_1691.bcd\n",
      "20 seconds: Snowy Death\u0000\u0000\u0000\u0000\u0000\u0000\u0000\u0000\u0000\u0000\n",
      "20_seconds_snowy_death_2221.bcd\n"
     ]
    },
    {
     "name": "stderr",
     "output_type": "stream",
     "text": [
      "  3%|██▎                                                                           | 408/13971 [00:34<33:07,  6.82it/s]"
     ]
    },
    {
     "name": "stdout",
     "output_type": "stream",
     "text": [
      "20 Seconds : Snow Boll SpeedRun！\u0000\n",
      "20_seconds_snow_boll_speedrun__10440.bcd\n",
      "20 seconds: Snow Storm!\u0000\u0000\u0000\u0000\u0000\u0000\u0000\u0000\u0000\u0000\n",
      "20_seconds_snow_storm__3612.bcd\n"
     ]
    },
    {
     "name": "stderr",
     "output_type": "stream",
     "text": [
      "\r",
      "  3%|██▎                                                                           | 409/13971 [00:34<33:09,  6.82it/s]"
     ]
    },
    {
     "name": "stdout",
     "output_type": "stream",
     "text": [
      "20 Seconds: Speed of Sound\u0000\u0000\u0000\u0000\u0000\u0000\u0000\n",
      "20_seconds_speed_of_sound_3366.bcd\n"
     ]
    },
    {
     "name": "stderr",
     "output_type": "stream",
     "text": [
      "  3%|██▎                                                                           | 411/13971 [00:34<37:06,  6.09it/s]"
     ]
    },
    {
     "name": "stdout",
     "output_type": "stream",
     "text": [
      "20 seconds: Spiky Spiny Forest\u0000\u0000\u0000\n",
      "20_seconds_spiky_spiny_forest_2748.bcd\n",
      "20 seconds: Spinning Thwomps\u0000\u0000\u0000\u0000\u0000\n",
      "20_seconds_spinning_thwomps_2683.bcd\n"
     ]
    },
    {
     "name": "stderr",
     "output_type": "stream",
     "text": [
      "\r",
      "  3%|██▎                                                                           | 412/13971 [00:35<49:07,  4.60it/s]"
     ]
    },
    {
     "name": "stdout",
     "output_type": "stream",
     "text": [
      "20 Seconds: Super Flimsy Parkour\u0000\n",
      "20_seconds_super_flimsy_parkour_12571.bcd\n",
      "20 Seconds: Super MATRIX Bros\u0000\u0000\u0000\u0000\n",
      "20_seconds_super_matrix_bros_4266.bcd\n",
      "20 Seconds: Super Star Sprint\u0000\u0000\u0000\u0000\n",
      "20_seconds_super_star_sprint_3972.bcd\n"
     ]
    },
    {
     "name": "stderr",
     "output_type": "stream",
     "text": [
      "  3%|██▎                                                                           | 416/13971 [00:35<39:11,  5.76it/s]"
     ]
    },
    {
     "name": "stdout",
     "output_type": "stream",
     "text": [
      "20 Seconds: Swift Switcheroo\u0000\u0000\u0000\u0000\u0000\n",
      "20_seconds_swift_switcheroo_3638.bcd\n",
      "20 Seconds: Switch Block Blast\u0000n\u0000\n",
      "20_seconds_switch_block_blastn_325.bcd\n"
     ]
    },
    {
     "name": "stderr",
     "output_type": "stream",
     "text": [
      "\r",
      "  3%|██▎                                                                           | 418/13971 [00:35<33:30,  6.74it/s]"
     ]
    },
    {
     "name": "stdout",
     "output_type": "stream",
     "text": [
      "20 Seconds:switch run\u00000秒スピードラン\u0000\u0000\u0000\n",
      "20_seconds_switch_run0__3944.bcd\n",
      "20 Seconds: Switch Sky Station\u0000h\u0000\n",
      "20_seconds_switch_sky_stationh_783.bcd\n"
     ]
    },
    {
     "name": "stderr",
     "output_type": "stream",
     "text": [
      "\r",
      "  3%|██▎                                                                           | 420/13971 [00:36<32:09,  7.02it/s]"
     ]
    },
    {
     "name": "stdout",
     "output_type": "stream",
     "text": [
      "20 Seconds: Tee Hee Two\u0000\u0000\u0000\u0000\u0000\u0000\u0000\u0000\u0000\u0000\n",
      "20_seconds_tee_hee_two_2980.bcd\n",
      "20 seconds: Thwomp Castle Run!\u0000\u0000\u0000\n",
      "20_seconds_thwomp_castle_run__3634.bcd\n"
     ]
    },
    {
     "name": "stderr",
     "output_type": "stream",
     "text": [
      "  3%|██▎                                                                           | 423/13971 [00:36<29:17,  7.71it/s]"
     ]
    },
    {
     "name": "stdout",
     "output_type": "stream",
     "text": [
      "20 Seconds: Thwomp Temple Run\u0000\u0000h\u0000\n",
      "20_seconds_thwomp_temple_runh_1390.bcd\n",
      "20 seconds: Toxic Sewers Run!\u0000\u0000\u0000\u0000\n",
      "20_seconds_toxic_sewers_run__3636.bcd\n",
      "20 Seconds: !!To Hot For You!!\u0000\u0000\u0000\n",
      "20_seconds_to_hot_for_you__3672.bcd\n"
     ]
    },
    {
     "name": "stderr",
     "output_type": "stream",
     "text": [
      "\r",
      "  3%|██▎                                                                           | 425/13971 [00:36<29:08,  7.75it/s]"
     ]
    },
    {
     "name": "stdout",
     "output_type": "stream",
     "text": [
      "20 second: House of Switches\u0000\u0000\u0000\u0000\u0000\n",
      "20_second_house_of_switches_2228.bcd\n",
      "20 Second Icicle Speedrun\u0000\u0000\u0000\u0000\u0000\u0000\u0000\u0000\n",
      "20_second_icicle_speedrun_3448.bcd\n"
     ]
    },
    {
     "name": "stderr",
     "output_type": "stream",
     "text": [
      "  3%|██▍                                                                           | 427/13971 [00:37<30:27,  7.41it/s]"
     ]
    },
    {
     "name": "stdout",
     "output_type": "stream",
     "text": [
      "20 second mayhem part I \u0000\u0000\u0000\u0000\u0000\u0000\u0000\u0000\u0000\n",
      "20_second_mayhem_part_i_8383.bcd\n",
      "20 Second Puzzle Room (Icy Cave)\u0000\n",
      "20_second_puzzle_room_icy_cave__2708.bcd\n",
      "20 second run! (moderate)\u0000\u0000\u0000\u0000\u0000\u0000\u0000\u0000\n",
      "20_second_run_moderate__932.bcd\n",
      "20 Second Shell Jump Challenge\u0000\u0000\u0000"
     ]
    },
    {
     "name": "stderr",
     "output_type": "stream",
     "text": [
      "\r",
      "  3%|██▍                                                                           | 430/13971 [00:37<24:09,  9.34it/s]"
     ]
    },
    {
     "name": "stdout",
     "output_type": "stream",
     "text": [
      "\n",
      "20_second_shell_jump_challenge_15522.bcd\n",
      "20 Second Speed\u0000\u0000d\u0000\u0000\u0000\u0000\u0000\u0000\u0000\u0000\u0000\u0000\u0000\u0000\u0000\u0000\u0000\n",
      "20_second_speedd_726.bcd\n",
      "20 second speed run\u0000estar　Music\u0000\u0000\n",
      "20_second_speed_runestar_music_4967.bcd\n"
     ]
    },
    {
     "name": "stderr",
     "output_type": "stream",
     "text": [
      "  3%|██▍                                                                           | 435/13971 [00:37<19:50, 11.37it/s]"
     ]
    },
    {
     "name": "stdout",
     "output_type": "stream",
     "text": [
      "20 Second Switch Run\u0000\u0000\u0000\u0000\u0000\u0000\u0000\u0000\u0000\u0000\u0000\u0000\u0000\n",
      "20_second_switch_run_4002.bcd\n",
      "20 Second Switch Speedrun\u0000\u0000\u0000\u0000\u0000\u0000\u0000\u0000\n",
      "20_second_switch_speedrun_4343.bcd\n",
      "20 Second Variety Speedrun!\u0000\u0000\u0000\u0000\u0000\u0000\n",
      "20_second_variety_speedrun__2243.bcd\n",
      "20 SECS: An Icy, ON and OFF Run\u0000\u0000\n",
      "20_secs_an_icy_on_and_off_run_2282.bcd\n",
      "20 secs of Tunnel Vision? \u0000l?\u0000\u0000\u0000\u0000"
     ]
    },
    {
     "name": "stderr",
     "output_type": "stream",
     "text": [
      "\r",
      "  3%|██▍                                                                           | 438/13971 [00:37<16:58, 13.29it/s]"
     ]
    },
    {
     "name": "stdout",
     "output_type": "stream",
     "text": [
      "\n",
      "20_secs_of_tunnel_vision_l__8986.bcd\n",
      "20 secs: Red Koopa = Hold Jump\u0000\u0000\u0000\n",
      "20_secs_red_koopa_hold_jump_7150.bcd\n",
      "20 sec: Delightful Cannon Blast\u0000\u0000\n",
      "20_sec_delightful_cannon_blast_7625.bcd\n",
      "20 Sec Mario Dash - Boo's House\u0000\u0000\n",
      "20_sec_mario_dash_-_boo_s_house_3059.bcd\n"
     ]
    },
    {
     "name": "stderr",
     "output_type": "stream",
     "text": [
      "\r",
      "  3%|██▍                                                                           | 440/13971 [00:38<26:30,  8.51it/s]"
     ]
    },
    {
     "name": "stdout",
     "output_type": "stream",
     "text": [
      "20 Sec Mario Dash - Moon Rockets\u0000\n",
      "20_sec_mario_dash_-_moon_rockets_3346.bcd\n",
      "20 Sec on/off Desert Run \u0000\u0000\u0000\u0000\u0000\u0000\u0000\u0000\n",
      "20_sec_on_off_desert_run_1669.bcd\n",
      "20 Sec : ON/OFF & Lift SpeedRun！\u0000\n",
      "20_sec_on_off_lift_speedrun__11199.bcd\n"
     ]
    },
    {
     "name": "stderr",
     "output_type": "stream",
     "text": [
      "  3%|██▍                                                                           | 445/13971 [00:38<23:15,  9.69it/s]"
     ]
    },
    {
     "name": "stdout",
     "output_type": "stream",
     "text": [
      "20 sec run POW- & On/Off-Block\u0000\u0000\u0000\n",
      "20_sec_run_pow-_on_off-block_13618.bcd\n",
      "20 Sec: Speed Run Kill Chomp\u0000\u0000\u0000\u0000\u0000\n",
      "20_sec_speed_run_kill_chomp_4521.bcd\n",
      "20秒スピードラン！SPEEDRUN 20sec\u0000\u0000\u0000\u0000\u0000\u0000\u0000\u0000\u0000\n",
      "20_speedrun_20sec_4986.bcd\n"
     ]
    },
    {
     "name": "stderr",
     "output_type": "stream",
     "text": [
      "  3%|██▋                                                                           | 474/13971 [00:38<14:38, 15.36it/s]"
     ]
    },
    {
     "name": "stdout",
     "output_type": "stream",
     "text": [
      "20秒マリオ\u0000\u0000\u0000\u0000\u0000\u0000\u0000\u0000\u0000\u0000　の\u0000\u0000\u0000\u0000\u0000\u0000\u0000\u0000\u0000\u0000\u0000\u0000\u0000\u0000\u0000\n",
      "20__6551.bcd\n",
      "\u0000\u0000\u0000\u0000\u0000\u0000\u0000\u0000\u0000\u0000\u0000\u0000\u0000\u0000\u0000\u0000\u0000\u0000\u0000\u0000\u0000\u0000\u0000\u0000\u0000\u0000\u0000\u0000\u0000\u0000\u0000\u0000\u0000\n",
      "211975947.bcd\n",
      "\u0000\u0000\u0000\u0000\u0000\u0000\u0000\u0000\u0000\u0000\u0000\u0000\u0000\u0000\u0000\u0000\u0000\u0000\u0000\u0000\u0000\u0000\u0000\u0000\u0000\u0000\u0000\u0000\u0000\u0000\u0000\u0000\u0000\n",
      "2159168434.bcd\n",
      "\u0000\u0000\u0000\u0000\u0000\u0000\u0000\u0000\u0000\u0000\u0000\u0000\u0000\u0000\u0000\u0000\u0000\u0000\u0000\u0000\u0000\u0000\u0000\u0000\u0000\u0000\u0000\u0000\u0000\u0000\u0000\u0000\u0000\n",
      "2177569259.bcd\n",
      "\u0000\u0000\u0000\u0000\u0000\u0000\u0000\u0000\u0000\u0000\u0000\u0000\u0000\u0000\u0000\u0000\u0000\u0000\u0000\u0000\u0000\u0000\u0000\u0000\u0000\u0000\u0000\u0000\u0000\u0000\u0000\u0000\u0000\n",
      "2220054183.bcd\n",
      "2222wwweeeeeeeeeeeeeeeeee\u0000\u0000\u0000\u0000\u0000\u0000\u0000\u0000\n",
      "2222wwweeeeeeeeeeeeeeeeee_12136.bcd\n",
      "222\u0000\u0000\u0000\u0000\u0000\u0000\u0000\u0000\u0000\u0000\u0000\u0000\u0000\u0000\u0000\u0000\u0000\u0000\u0000\u0000\u0000\u0000\u0000\u0000\u0000\u0000\u0000\u0000\u0000\u0000\n",
      "222_2066.bcd\n",
      "222\u0000\u0000\u0000\u0000\u0000\u0000\u0000\u0000\u0000\u0000\u0000\u0000\u0000\u0000\u0000\u0000\u0000\u0000\u0000\u0000\u0000\u0000\u0000\u0000\u0000\u0000\u0000\u0000\u0000\u0000\n",
      "222_3163.bcd\n",
      "222       \u0000\u0000\u0000\u0000\u0000\u0000\u0000yo\u0000\u0000\u0000\u0000\u0000\u0000\u0000\u0000\u0000\u0000\u0000\u0000\u0000\u0000\n",
      "222_yo_6684.bcd\n",
      "\u0000\u0000\u0000\u0000\u0000\u0000\u0000\u0000\u0000\u0000\u0000\u0000\u0000\u0000\u0000\u0000\u0000\u0000\u0000\u0000\u0000\u0000\u0000\u0000\u0000\u0000\u0000\u0000\u0000\u0000\u0000\u0000\u0000\n",
      "225596230.bcd\n",
      "\u0000\u0000\u0000\u0000\u0000\u0000\u0000\u0000\u0000\u0000\u0000\u0000\u0000\u0000\u0000\u0000\u0000\u0000\u0000\u0000\u0000\u0000\u0000\u0000\u0000\u0000\u0000\u0000\u0000\u0000\u0000\u0000\u0000\n",
      "2256920871.bcd\n",
      "\u0000\u0000\u0000\u0000\u0000\u0000\u0000\u0000\u0000\u0000\u0000\u0000\u0000\u0000\u0000\u0000\u0000\u0000\u0000\u0000\u0000\u0000\u0000\u0000\u0000\u0000\u0000\u0000\u0000\u0000\u0000\u0000\u0000\n",
      "2257841957.bcd\n",
      "\u0000\u0000\u0000\u0000\u0000\u0000\u0000\u0000\u0000\u0000\u0000\u0000\u0000\u0000\u0000\u0000\u0000\u0000\u0000\u0000\u0000\u0000\u0000\u0000\u0000\u0000\u0000\u0000\u0000\u0000\u0000\u0000\u0000\n",
      "2258427207.bcd\n",
      "\u0000\u0000\u0000\u0000\u0000\u0000\u0000\u0000\u0000\u0000\u0000\u0000\u0000\u0000\u0000\u0000\u0000\u0000\u0000\u0000\u0000\u0000\u0000\u0000\u0000\u0000\u0000\u0000\u0000\u0000\u0000\u0000\u0000\n",
      "2282694719.bcd\n",
      "\u0000\u0000\u0000\u0000\u0000\u0000\u0000\u0000\u0000\u0000\u0000\u0000\u0000\u0000\u0000\u0000\u0000\u0000\u0000\u0000\u0000\u0000\u0000\u0000\u0000\u0000\u0000\u0000\u0000\u0000\u0000\u0000\u0000\n",
      "2283608302.bcd\n",
      "\u0000\u0000\u0000\u0000\u0000\u0000\u0000\u0000\u0000\u0000\u0000\u0000\u0000\u0000\u0000\u0000\u0000\u0000\u0000\u0000\u0000\u0000\u0000\u0000\u0000\u0000\u0000\u0000\u0000\u0000\u0000\u0000\u0000\n",
      "2307086209.bcd\n",
      "2323\u0000\u0000\u0000\u0000\u0000\u0000\u0000\u0000\u0000\u0000\u0000\u0000\u0000\u0000\u0000\u0000\u0000\u0000\u0000\u0000\u0000\u0000\u0000\u0000\u0000\u0000\u0000\u0000\u0000\n",
      "2323_12644.bcd\n",
      "\u0000\u0000\u0000\u0000\u0000\u0000\u0000\u0000\u0000\u0000\u0000\u0000\u0000\u0000\u0000\u0000\u0000\u0000\u0000\u0000\u0000\u0000\u0000\u0000\u0000\u0000\u0000\u0000\u0000\u0000\u0000\u0000\u0000\n",
      "2447036274.bcd\n",
      "\u0000\u0000\u0000\u0000\u0000\u0000\u0000\u0000\u0000\u0000\u0000\u0000\u0000\u0000\u0000\u0000\u0000\u0000\u0000\u0000\u0000\u0000\u0000\u0000\u0000\u0000\u0000\u0000\u0000\u0000\u0000\u0000\u0000\n",
      "2495851129.bcd\n",
      "\u0000\u0000\u0000\u0000\u0000\u0000\u0000\u0000\u0000\u0000\u0000\u0000\u0000\u0000\u0000\u0000\u0000\u0000\u0000\u0000\u0000\u0000\u0000\u0000\u0000\u0000\u0000\u0000\u0000\u0000\u0000\u0000\u0000\n",
      "2498568271.bcd\n",
      "24 Yeet Street (Candle Sets)\u0000)\u0000\u0000\u0000\n",
      "24_yeet_street_candle_sets__1566.bcd\n",
      "\u0000\u0000\u0000\u0000\u0000\u0000\u0000\u0000\u0000\u0000\u0000\u0000\u0000\u0000\u0000\u0000\u0000\u0000\u0000\u0000\u0000\u0000\u0000\u0000\u0000\u0000\u0000\u0000\u0000\u0000\u0000\u0000\u0000\n",
      "2555860737.bcd\n",
      "\u0000\u0000\u0000\u0000\u0000\u0000\u0000\u0000\u0000\u0000\u0000\u0000\u0000\u0000\u0000\u0000\u0000\u0000\u0000\u0000\u0000\u0000\u0000\u0000\u0000\u0000\u0000\u0000\u0000\u0000\u0000\u0000\u0000\n",
      "2590432691.bcd\n",
      "\u0000\u0000\u0000\u0000\u0000\u0000\u0000\u0000\u0000\u0000\u0000\u0000\u0000\u0000\u0000\u0000\u0000\u0000\u0000\u0000\u0000\u0000\u0000\u0000\u0000\u0000\u0000\u0000\u0000\u0000\u0000\u0000\u0000\n",
      "2632905899.bcd\n",
      "\u0000\u0000\u0000\u0000\u0000\u0000\u0000\u0000\u0000\u0000\u0000\u0000\u0000\u0000\u0000\u0000\u0000\u0000\u0000\u0000\u0000\u0000\u0000\u0000\u0000\u0000\u0000\u0000\u0000\u0000\u0000\u0000\u0000\n",
      "264992946.bcd\n",
      "\u0000\u0000\u0000\u0000\u0000\u0000\u0000\u0000\u0000\u0000\u0000\u0000\u0000\u0000\u0000\u0000\u0000\u0000\u0000\u0000\u0000\u0000\u0000\u0000\u0000\u0000\u0000\u0000\u0000\u0000\u0000\u0000\u0000\n",
      "2754396542.bcd\n",
      "\u0000\u0000\u0000\u0000\u0000\u0000\u0000\u0000\u0000\u0000\u0000\u0000\u0000\u0000\u0000\u0000\u0000\u0000\u0000\u0000\u0000\u0000\u0000\u0000\u0000\u0000\u0000\u0000\u0000\u0000\u0000\u0000\u0000\n",
      "278197583.bcd\n",
      "28-4\u0000\u0000\u0000\u0000\u0000\u0000\u0000\u0000\u0000\u0000\u0000\u0000\u0000\u0000\u0000\u0000\u0000\u0000\u0000\u0000\u0000\u0000\u0000\u0000\u0000\u0000\u0000\u0000\u0000\n",
      "28-4_10846.bcd\n",
      "\u0000\u0000\u0000\u0000\u0000\u0000\u0000\u0000\u0000\u0000\u0000\u0000\u0000\u0000\u0000\u0000\u0000\u0000\u0000\u0000\u0000\u0000\u0000\u0000\u0000\u0000\u0000\u0000\u0000\u0000\u0000\u0000\u0000\n",
      "2829675772.bcd\n",
      "\u0000\u0000\u0000\u0000\u0000\u0000\u0000\u0000\u0000\u0000\u0000\u0000\u0000\u0000\u0000\u0000\u0000\u0000\u0000\u0000\u0000\u0000\u0000\u0000\u0000\u0000\u0000\u0000\u0000\u0000\u0000\u0000\u0000\n",
      "2858866363.bcd\n",
      "28 Days Later\u0000\u0000\u0000\u0000\u0000\u0000\u0000\u0000\u0000\u0000\u0000\u0000\u0000\u0000\u0000\u0000\u0000\u0000\u0000\u0000\n",
      "28_days_later_5366.bcd\n",
      "\u0000\u0000\u0000\u0000\u0000\u0000\u0000\u0000\u0000\u0000\u0000\u0000\u0000\u0000\u0000\u0000\u0000\u0000\u0000\u0000\u0000\u0000\u0000\u0000\u0000\u0000\u0000\u0000\u0000\u0000\u0000\u0000\u0000\n",
      "2917051394.bcd\n",
      "\u0000\u0000\u0000\u0000\u0000\u0000\u0000\u0000\u0000\u0000\u0000\u0000\u0000\u0000\u0000\u0000\u0000\u0000\u0000\u0000\u0000\u0000\u0000\u0000\u0000\u0000\u0000\u0000\u0000\u0000\u0000\u0000\u0000\n",
      "2927977811.bcd\n",
      "\u0000\u0000\u0000\u0000\u0000\u0000\u0000\u0000\u0000\u0000\u0000\u0000\u0000\u0000\u0000\u0000\u0000\u0000\u0000\u0000\u0000\u0000\u0000\u0000\u0000\u0000\u0000\u0000\u0000\u0000\u0000\u0000\u0000\n",
      "2962917915.bcd\n",
      "2Osec Adrian117 Bullet Bill run\u0000\u0000\n",
      "2osec_adrian117_bullet_bill_run_4290.bcd\n",
      "2P coop / High danger at castle\u0000\u0000\n",
      "2p_coop_high_danger_at_castle_10264.bcd\n"
     ]
    },
    {
     "name": "stderr",
     "output_type": "stream",
     "text": [
      "\r",
      "  3%|██▋                                                                           | 482/13971 [00:39<12:38, 17.78it/s]"
     ]
    },
    {
     "name": "stdout",
     "output_type": "stream",
     "text": [
      "2p coop|Love won't tear us apart\u0000\n",
      "2p_coop_love_won_t_tear_us_apart_9236.bcd\n",
      "2SMB3♪Sky Theme♪KEEP RUNNING\u0000>+Y\u0000\n",
      "2smb3_sky_theme_keep_running_y_8984.bcd\n"
     ]
    },
    {
     "name": "stderr",
     "output_type": "stream",
     "text": [
      "\r",
      "  4%|██▋                                                                           | 489/13971 [00:39<13:14, 16.98it/s]"
     ]
    },
    {
     "name": "stdout",
     "output_type": "stream",
     "text": [
      "2\u0000\u0000\u0000\u0000\u0000\u0000\u0000\u0000\u0000\u0000\u0000\u0000\u0000\u0000\u0000\u0000\u0000\u0000\u0000\u0000\u0000\u0000\u0000\u0000\u0000\u0000\u0000\u0000\u0000\u0000\u0000\u0000\n",
      "2_1153.bcd\n",
      "2\u0000\u0000\u0000\u0000\u0000\u0000\u0000\u0000\u0000\u0000\u0000\u0000\u0000\u0000\u0000\u0000\u0000\u0000\u0000\u0000\u0000\u0000\u0000\u0000\u0000\u0000\u0000\u0000\u0000\u0000\u0000\u0000\n",
      "2_1455.bcd\n",
      "2\u0000\u0000\u0000\u0000\u0000\u0000\u0000\u0000\u0000\u0000\u0000\u0000\u0000\u0000\u0000\u0000\u0000\u0000\u0000\u0000\u0000\u0000\u0000\u0000\u0000\u0000\u0000\u0000\u0000\u0000\u0000\u0000\n",
      "2_3166.bcd\n",
      "2=4\u0000\u0000\u0000\u0000\u0000\u0000\u0000\u0000\u0000\u0000\u0000\u0000\u0000\u0000\u0000\u0000\u0000\u0000\u0000\u0000\u0000\u0000\u0000\u0000\u0000\u0000\u0000\u0000\u0000\u0000\n",
      "2_4_13209.bcd\n",
      "2\u0000\u0000\u0000\u0000\u0000\u0000\u0000\u0000\u0000\u0000\u0000\u0000\u0000\u0000\u0000\u0000\u0000\u0000\u0000\u0000\u0000\u0000\u0000\u0000\u0000\u0000\u0000\u0000\u0000\u0000\u0000\u0000\n",
      "2_5643.bcd\n",
      "2\u0000\u0000\u0000\u0000\u0000\u0000\u0000\u0000\u0000\u0000\u0000\u0000\u0000\u0000\u0000\u0000\u0000\u0000\u0000\u0000\u0000\u0000\u0000\u0000\u0000\u0000\u0000\u0000\u0000\u0000\u0000\u0000\n",
      "2_660.bcd\n",
      "2 Fast 2 Furious\u0000\u0000\u0000\u0000\u0000\u0000\u0000\u0000\u0000\u0000\u0000\u0000\u0000\u0000\u0000\u0000\u0000\n",
      "2_fast_2_furious_112.bcd\n",
      "2エリアダッシュ半自動マリオ Keep run(→+Y)\u0000\u0000\u0000\u0000\u0000\n",
      "2_keep_run_y__2097.bcd\n",
      "2エリア左ダッシュ半自動マリオ Keep run(←+Y)\u0000\u0000\u0000\u0000\n",
      "2_keep_run_y__3538.bcd\n",
      "2 Lies 1 Truth\u0000\u0000\u0000\u0000\u0000\u0000\u0000\u0000\u0000\u0000\u0000\u0000\u0000\u0000\u0000\u0000\u0000\u0000\u0000"
     ]
    },
    {
     "name": "stderr",
     "output_type": "stream",
     "text": [
      "\r",
      "  4%|██▊                                                                           | 494/13971 [00:39<14:35, 15.40it/s]"
     ]
    },
    {
     "name": "stdout",
     "output_type": "stream",
     "text": [
      "\n",
      "2_lies_1_truth_1210.bcd\n",
      "2 Screen Puzzle\u0000\u0000er Endeavor v2\u0000\u0000\n",
      "2_screen_puzzleer_endeavor_v2_10887.bcd\n",
      "2 THWOMP 2 FURIOUS\u0000\u0000\u0000\u0000\u0000\u0000\u0000\u0000\u0000\u0000\u0000\u0000\u0000\u0000\u0000\n",
      "2_thwomp_2_furious_3099.bcd\n"
     ]
    },
    {
     "name": "stderr",
     "output_type": "stream",
     "text": [
      "\r",
      "  4%|██▊                                                                           | 498/13971 [00:40<14:56, 15.02it/s]"
     ]
    },
    {
     "name": "stdout",
     "output_type": "stream",
     "text": [
      "2人の英雄　 TWO HEROES\u0000ES\u0000\u0000\u0000\u0000\u0000\u0000\u0000\u0000\u0000\u0000\u0000\u0000\u0000\n",
      "2_two_heroeses_5659.bcd\n",
      "2 Ways to Win\u0000\u0000\u0000\u0000\u0000\u0000\u0000\u0000\u0000\u0000\u0000\u0000\u0000\u0000\u0000\u0000\u0000\u0000\u0000\u0000\n",
      "2_ways_to_win_458.bcd\n",
      "2さいきよう\u0000\u0000\u0000\u0000\u0000\u0000\u0000\u0000\u0000\u0000\u0000\u0000\u0000\u0000\u0000\u0000\u0000\u0000\u0000\u0000\u0000\u0000\u0000\u0000\u0000\u0000\u0000\n",
      "2__12156.bcd\n",
      "3-1: Blue Bay Way\u0000\u0000\u0000\u0000\u0000\u0000\u0000\u0000\u0000\u0000\u0000\u0000\u0000\u0000\u0000\u0000\n",
      "3-1_blue_bay_way_14410.bcd\n",
      "3-1 Cave Lifts\u0000\u0000\u0000\u0000\u0000\u0000\u0000\u0000\u0000\u0000\u0000\u0000\u0000\u0000\u0000\u0000\u0000\u0000\u0000\n",
      "3-1_cave_lifts_14323.bcd\n"
     ]
    },
    {
     "name": "stderr",
     "output_type": "stream",
     "text": [
      "  4%|██▊                                                                           | 502/13971 [00:40<18:08, 12.38it/s]"
     ]
    },
    {
     "name": "stdout",
     "output_type": "stream",
     "text": [
      "3-1 Flockiger Federflug\u0000Schloss\u0000\u0000\n",
      "3-1_flockiger_federflugschloss_3004.bcd\n",
      "3-1: Happy Little Sky Castles\u0000\u0000\u0000\u0000\n",
      "3-1_happy_little_sky_castles_3382.bcd\n"
     ]
    },
    {
     "name": "stderr",
     "output_type": "stream",
     "text": [
      "\n"
     ]
    },
    {
     "ename": "AssertionError",
     "evalue": "occupato: tensor(133244666048) 41 2 2 True False 240 23680 41 True 2 147 Flags: 100876352",
     "output_type": "error",
     "traceback": [
      "\u001b[1;31m---------------------------------------------------------------------------\u001b[0m",
      "\u001b[1;31mAssertionError\u001b[0m                            Traceback (most recent call last)",
      "\u001b[1;32m<ipython-input-158-5c8a1fd2ad8a>\u001b[0m in \u001b[0;36m<module>\u001b[1;34m\u001b[0m\n\u001b[0;32m     48\u001b[0m     \u001b[0mprint\u001b[0m\u001b[1;33m(\u001b[0m\u001b[0mlevel\u001b[0m\u001b[1;33m.\u001b[0m\u001b[0mheader\u001b[0m\u001b[1;33m.\u001b[0m\u001b[0mcourseName\u001b[0m\u001b[1;33m.\u001b[0m\u001b[0mdecode\u001b[0m\u001b[1;33m(\u001b[0m\u001b[1;34m\"utf-16\"\u001b[0m\u001b[1;33m)\u001b[0m\u001b[1;33m)\u001b[0m\u001b[1;33m\u001b[0m\u001b[1;33m\u001b[0m\u001b[0m\n\u001b[0;32m     49\u001b[0m     \u001b[0mprint\u001b[0m\u001b[1;33m(\u001b[0m\u001b[0mlevelName\u001b[0m\u001b[1;33m)\u001b[0m\u001b[1;33m\u001b[0m\u001b[1;33m\u001b[0m\u001b[0m\n\u001b[1;32m---> 50\u001b[1;33m     \u001b[0mlevel\u001b[0m\u001b[1;33m.\u001b[0m\u001b[0mmainLevelArea\u001b[0m\u001b[1;33m.\u001b[0m\u001b[0mtoPytorchMatrix\u001b[0m\u001b[1;33m(\u001b[0m\u001b[1;33m)\u001b[0m\u001b[1;33m\u001b[0m\u001b[1;33m\u001b[0m\u001b[0m\n\u001b[0m",
      "\u001b[1;32m<ipython-input-154-7a27bddea73f>\u001b[0m in \u001b[0;36mtoPytorchMatrix\u001b[1;34m(self)\u001b[0m\n\u001b[0;32m    246\u001b[0m                 \u001b[1;32mfor\u001b[0m \u001b[0mi\u001b[0m \u001b[1;32min\u001b[0m \u001b[0mrange\u001b[0m \u001b[1;33m(\u001b[0m\u001b[1;36m0\u001b[0m\u001b[1;33m,\u001b[0m\u001b[0mwidth\u001b[0m\u001b[1;33m)\u001b[0m\u001b[1;33m:\u001b[0m\u001b[1;33m\u001b[0m\u001b[1;33m\u001b[0m\u001b[0m\n\u001b[0;32m    247\u001b[0m                     \u001b[1;32mfor\u001b[0m \u001b[0mj\u001b[0m \u001b[1;32min\u001b[0m \u001b[0mrange\u001b[0m \u001b[1;33m(\u001b[0m\u001b[1;36m0\u001b[0m\u001b[1;33m,\u001b[0m\u001b[0mheight\u001b[0m\u001b[1;33m)\u001b[0m\u001b[1;33m:\u001b[0m\u001b[1;33m\u001b[0m\u001b[1;33m\u001b[0m\u001b[0m\n\u001b[1;32m--> 248\u001b[1;33m                         \u001b[0mself\u001b[0m\u001b[1;33m.\u001b[0m\u001b[0msetCellMatrix\u001b[0m\u001b[1;33m(\u001b[0m\u001b[0mmatrix\u001b[0m\u001b[1;33m,\u001b[0m \u001b[0mobjectMM\u001b[0m\u001b[1;33m,\u001b[0m \u001b[0mlayer\u001b[0m\u001b[1;33m,\u001b[0m \u001b[0myPosition\u001b[0m \u001b[1;33m+\u001b[0m \u001b[1;33m(\u001b[0m\u001b[0mj\u001b[0m \u001b[1;33m*\u001b[0m \u001b[0mversoY\u001b[0m\u001b[1;33m)\u001b[0m\u001b[1;33m,\u001b[0m \u001b[0mxPosition\u001b[0m \u001b[1;33m+\u001b[0m \u001b[1;33m(\u001b[0m\u001b[0mi\u001b[0m \u001b[1;33m*\u001b[0m \u001b[0mversoX\u001b[0m\u001b[1;33m)\u001b[0m\u001b[1;33m,\u001b[0m \u001b[1;33m(\u001b[0m\u001b[0mi\u001b[0m \u001b[1;33m==\u001b[0m \u001b[1;36m0\u001b[0m \u001b[1;32mand\u001b[0m \u001b[0mj\u001b[0m \u001b[1;33m==\u001b[0m \u001b[1;36m0\u001b[0m\u001b[1;33m)\u001b[0m\u001b[1;33m)\u001b[0m\u001b[1;33m\u001b[0m\u001b[1;33m\u001b[0m\u001b[0m\n\u001b[0m\u001b[0;32m    249\u001b[0m                 \u001b[1;32mcontinue\u001b[0m\u001b[1;33m\u001b[0m\u001b[1;33m\u001b[0m\u001b[0m\n\u001b[0;32m    250\u001b[0m \u001b[1;33m\u001b[0m\u001b[0m\n",
      "\u001b[1;32m<ipython-input-154-7a27bddea73f>\u001b[0m in \u001b[0;36msetCellMatrix\u001b[1;34m(self, matrix, objectMM, layer, yPosition, xPosition, childSoundCell)\u001b[0m\n\u001b[0;32m    362\u001b[0m         \u001b[1;32massert\u001b[0m \u001b[0mmatrix\u001b[0m\u001b[1;33m[\u001b[0m\u001b[0mlayer\u001b[0m\u001b[1;33m]\u001b[0m\u001b[1;33m[\u001b[0m\u001b[0myPosition\u001b[0m\u001b[1;33m]\u001b[0m\u001b[1;33m[\u001b[0m\u001b[0mxPosition\u001b[0m\u001b[1;33m]\u001b[0m \u001b[1;33m==\u001b[0m \u001b[1;36m0\u001b[0m \u001b[1;32mor\u001b[0m \u001b[0mmatrix\u001b[0m\u001b[1;33m[\u001b[0m\u001b[0mlayer\u001b[0m\u001b[1;33m]\u001b[0m\u001b[1;33m[\u001b[0m\u001b[0myPosition\u001b[0m\u001b[1;33m]\u001b[0m\u001b[1;33m[\u001b[0m\u001b[0mxPosition\u001b[0m\u001b[1;33m]\u001b[0m \u001b[1;33m==\u001b[0m \u001b[1;36m7\u001b[0m\u001b[1;33m,\u001b[0m \u001b[1;34m'occupato: '\u001b[0m \u001b[1;33m+\u001b[0m \u001b[0mstr\u001b[0m\u001b[1;33m(\u001b[0m\u001b[0mmatrix\u001b[0m\u001b[1;33m[\u001b[0m\u001b[0mlayer\u001b[0m\u001b[1;33m]\u001b[0m\u001b[1;33m[\u001b[0m\u001b[0myPosition\u001b[0m\u001b[1;33m]\u001b[0m\u001b[1;33m[\u001b[0m\u001b[0mxPosition\u001b[0m\u001b[1;33m]\u001b[0m\u001b[1;33m)\u001b[0m \u001b[1;33m+\u001b[0m \u001b[1;34m' '\u001b[0m \u001b[1;33m+\u001b[0m \u001b[0mstr\u001b[0m\u001b[1;33m(\u001b[0m\u001b[0mobjectMM\u001b[0m\u001b[1;33m.\u001b[0m\u001b[0mobjectType\u001b[0m\u001b[1;33m)\u001b[0m \u001b[1;33m+\u001b[0m \u001b[1;34m' '\u001b[0m \u001b[1;33m+\u001b[0m \u001b[0mstr\u001b[0m\u001b[1;33m(\u001b[0m\u001b[0mobjectMM\u001b[0m\u001b[1;33m.\u001b[0m\u001b[0mobjectWidth\u001b[0m\u001b[1;33m)\u001b[0m \u001b[1;33m+\u001b[0m \u001b[1;34m' '\u001b[0m \u001b[1;33m+\u001b[0m \u001b[0mstr\u001b[0m\u001b[1;33m(\u001b[0m\u001b[0mobjectMM\u001b[0m\u001b[1;33m.\u001b[0m\u001b[0mobjectHeight\u001b[0m\u001b[1;33m)\u001b[0m\u001b[0;31m\\\u001b[0m\u001b[1;33m\u001b[0m\u001b[1;33m\u001b[0m\u001b[0m\n\u001b[0;32m    363\u001b[0m         \u001b[1;33m+\u001b[0m \u001b[1;34m' '\u001b[0m \u001b[1;33m+\u001b[0m \u001b[0mstr\u001b[0m\u001b[1;33m(\u001b[0m\u001b[0mobjectMM\u001b[0m\u001b[1;33m.\u001b[0m\u001b[0mmiddleTileX\u001b[0m\u001b[1;33m)\u001b[0m \u001b[1;33m+\u001b[0m \u001b[1;34m' '\u001b[0m \u001b[1;33m+\u001b[0m \u001b[0mstr\u001b[0m\u001b[1;33m(\u001b[0m\u001b[0mobjectMM\u001b[0m\u001b[1;33m.\u001b[0m\u001b[0mmiddleTileY\u001b[0m\u001b[1;33m)\u001b[0m \u001b[1;33m+\u001b[0m \u001b[1;34m' '\u001b[0m \u001b[1;33m+\u001b[0m \u001b[0mstr\u001b[0m\u001b[1;33m(\u001b[0m\u001b[0mobjectMM\u001b[0m\u001b[1;33m.\u001b[0m\u001b[0myOriginalPosition\u001b[0m\u001b[1;33m)\u001b[0m \u001b[1;33m+\u001b[0m \u001b[1;34m' '\u001b[0m \u001b[1;33m+\u001b[0m \u001b[0mstr\u001b[0m\u001b[1;33m(\u001b[0m\u001b[0mobjectMM\u001b[0m\u001b[1;33m.\u001b[0m\u001b[0mxOriginalPosition\u001b[0m\u001b[1;33m)\u001b[0m \u001b[1;33m+\u001b[0m \u001b[1;34m' '\u001b[0m \u001b[1;33m+\u001b[0m \u001b[0mstr\u001b[0m\u001b[1;33m(\u001b[0m\u001b[0mobjectMM\u001b[0m\u001b[1;33m.\u001b[0m\u001b[0mlinkID\u001b[0m\u001b[1;33m)\u001b[0m \u001b[1;33m+\u001b[0m \u001b[1;34m' '\u001b[0m \u001b[1;33m+\u001b[0m \u001b[0mstr\u001b[0m\u001b[1;33m(\u001b[0m\u001b[0mchildSoundCell\u001b[0m\u001b[1;33m)\u001b[0m\u001b[0;31m\\\u001b[0m\u001b[1;33m\u001b[0m\u001b[1;33m\u001b[0m\u001b[0m\n\u001b[1;32m--> 364\u001b[1;33m         \u001b[1;33m+\u001b[0m \u001b[1;34m' '\u001b[0m \u001b[1;33m+\u001b[0m \u001b[0mstr\u001b[0m\u001b[1;33m(\u001b[0m\u001b[0myPosition\u001b[0m\u001b[1;33m)\u001b[0m \u001b[1;33m+\u001b[0m \u001b[1;34m' '\u001b[0m \u001b[1;33m+\u001b[0m \u001b[0mstr\u001b[0m\u001b[1;33m(\u001b[0m\u001b[0mxPosition\u001b[0m\u001b[1;33m)\u001b[0m \u001b[1;33m+\u001b[0m \u001b[1;34m' Flags: '\u001b[0m \u001b[1;33m+\u001b[0m \u001b[0mstr\u001b[0m\u001b[1;33m(\u001b[0m\u001b[0mobjectMM\u001b[0m\u001b[1;33m.\u001b[0m\u001b[0mobjectFlags\u001b[0m\u001b[1;33m)\u001b[0m\u001b[1;33m\u001b[0m\u001b[1;33m\u001b[0m\u001b[0m\n\u001b[0m\u001b[0;32m    365\u001b[0m         \u001b[0mmatrix\u001b[0m\u001b[1;33m[\u001b[0m\u001b[0mlayer\u001b[0m\u001b[1;33m]\u001b[0m\u001b[1;33m[\u001b[0m\u001b[0myPosition\u001b[0m\u001b[1;33m]\u001b[0m\u001b[1;33m[\u001b[0m\u001b[0mxPosition\u001b[0m\u001b[1;33m]\u001b[0m \u001b[1;33m=\u001b[0m \u001b[0mobjectMM\u001b[0m\u001b[1;33m.\u001b[0m\u001b[0mflagsType\u001b[0m\u001b[1;33m\u001b[0m\u001b[1;33m\u001b[0m\u001b[0m\n\u001b[0;32m    366\u001b[0m         \u001b[1;32mif\u001b[0m\u001b[1;33m(\u001b[0m\u001b[0mchildSoundCell\u001b[0m\u001b[1;33m)\u001b[0m\u001b[1;33m:\u001b[0m\u001b[1;33m\u001b[0m\u001b[1;33m\u001b[0m\u001b[0m\n",
      "\u001b[1;31mAssertionError\u001b[0m: occupato: tensor(133244666048) 41 2 2 True False 240 23680 41 True 2 147 Flags: 100876352"
     ]
    }
   ],
   "source": [
    "marioMakerLevels = []\n",
    "levelsFiltered = []\n",
    "levelsSet = set()\n",
    "for levelName in tqdm(levelsToLoad[250:]):\n",
    "    if not levelsDecrypted:\n",
    "        filePath = join(levelFolder, levelName)\n",
    "        if levelName[-4:] == '.zip':\n",
    "            archive = zipfile.ZipFile(filePath, 'r')\n",
    "            leveldata = archive.read('course_data_000.bcd')\n",
    "            archive.close()\n",
    "            with open('tools/tmp/course_data_000.bcd', 'wb') as f:\n",
    "                f.write(leveldata)\n",
    "        else:\n",
    "            archive = tarfile.open(filePath, 'r')\n",
    "            archive.extract('course_data_000.bcd', path=\"tools/tmp/\")\n",
    "            archive.close()\n",
    "        !.\\tools\\smm2dec.exe -h .\\tools\\tmp\\course_data_000.bcd .\\tools\\tmp\\course_data_dec.bcd >nul 2>&1\n",
    "        with open('tools/tmp/course_data_dec.bcd', 'rb') as f:\n",
    "            leveldata = f.read()\n",
    "    else:\n",
    "        filePath = join(decryptLevelFilteredFolder ,levelName)\n",
    "        with open(filePath, 'rb') as f:\n",
    "            leveldata = f.read()\n",
    "    level = MarioMaker2File()\n",
    "    level.fromBytes(leveldata)\n",
    "    if level.header.gameStyle.decode(\"utf-8\") == '3W\\x00':\n",
    "        continue\n",
    "    if level.header.creationID in levelsSet:\n",
    "        os.remove(filePath)\n",
    "        continue\n",
    "    levelsSet.add(level.header.creationID)\n",
    "    marioMakerLevels.append(level)\n",
    "#     tSet = set()\n",
    "#     oSet = set()\n",
    "#     for terrain in level.mainLevelArea.tiles:\n",
    "#         tSet.add((terrain.xPosition, terrain.yPosition))\n",
    "#         #print(str(terrain))\n",
    "#         oSet.add((objectMM.xPosition, objectMM.yPosition))\n",
    "        \n",
    "#         if (objectMM.xPosition, objectMM.yPosition) in tSet and objectMM.layer == 1:\n",
    "#             print(objectMM)\n",
    "        \n",
    "        \n",
    "    \n",
    "#     print(tSet.intersection(oSet))\n",
    "    \n",
    "    \n",
    "    print(level.header.courseName.decode(\"utf-16\"))\n",
    "    print(levelName)\n",
    "    level.mainLevelArea.toPytorchMatrix()"
   ]
  },
  {
   "cell_type": "code",
   "execution_count": 159,
   "metadata": {},
   "outputs": [
    {
     "name": "stdout",
     "output_type": "stream",
     "text": [
      "100679872\n"
     ]
    },
    {
     "data": {
      "text/plain": [
       "31"
      ]
     },
     "execution_count": 159,
     "metadata": {},
     "output_type": "execute_result"
    }
   ],
   "source": [
    "a = 378060931136\n",
    "\n",
    "asd = (133244666048).to_bytes(6, byteorder='little')\n",
    "print(int.from_bytes(asd[:4],\"little\", signed = False))\n",
    "int.from_bytes(asd[4:],\"little\", signed = False)\n"
   ]
  },
  {
   "cell_type": "code",
   "execution_count": 36,
   "metadata": {},
   "outputs": [],
   "source": [
    "testFolder = Path(\"testLevel/\")"
   ]
  },
  {
   "cell_type": "code",
   "execution_count": 145,
   "metadata": {},
   "outputs": [
    {
     "data": {
      "text/plain": [
       "376832"
      ]
     },
     "execution_count": 145,
     "metadata": {},
     "output_type": "execute_result"
    }
   ],
   "source": [
    "with open(join(testFolder, 'course_data_003dec.bcd'), 'rb') as f:\n",
    "#with open(join(testFolder, '007dec.bcd'), 'rb') as f:\n",
    "    leveldata = f.read()\n",
    "len(leveldata)"
   ]
  },
  {
   "cell_type": "code",
   "execution_count": 146,
   "metadata": {
    "scrolled": true
   },
   "outputs": [],
   "source": [
    "testM = MarioMaker2File()\n",
    "testM.fromBytes(leveldata)"
   ]
  },
  {
   "cell_type": "code",
   "execution_count": 147,
   "metadata": {},
   "outputs": [
    {
     "name": "stdout",
     "output_type": "stream",
     "text": [
      "Tipo:9\n",
      "Posizione:(26,2)\n",
      "Dimensioni:(2,2)non ha figlio\n",
      "flags: 100663488 posizione originale:4240 400\n",
      "b'\\xc0\\x00\\x00\\x06'\n",
      "192\n",
      "0\n",
      "0\n",
      "6\n",
      "Tipo:9\n",
      "Posizione:(27,9)\n",
      "Dimensioni:(2,4)non ha figlio\n",
      "flags: 100663520 posizione originale:4400 1520\n",
      "b'\\xe0\\x00\\x00\\x06'\n",
      "224\n",
      "0\n",
      "0\n",
      "6\n",
      "Tipo:9\n",
      "Posizione:(31,4)\n",
      "Dimensioni:(2,4)non ha figlio\n",
      "flags: 100663456 posizione originale:5040 720\n",
      "b'\\xa0\\x00\\x00\\x06'\n",
      "160\n",
      "0\n",
      "0\n",
      "6\n",
      "Tipo:9\n",
      "Posizione:(22,5)\n",
      "Dimensioni:(2,4)non ha figlio\n",
      "flags: 100663296 posizione originale:3600 880\n",
      "b'\\x00\\x00\\x00\\x06'\n",
      "0\n",
      "0\n",
      "0\n",
      "6\n",
      "Tipo:9\n",
      "Posizione:(34,2)\n",
      "Dimensioni:(2,2)non ha figlio\n",
      "flags: 100925504 posizione originale:5520 400\n",
      "b'@\\x00\\x04\\x06'\n",
      "64\n",
      "0\n",
      "4\n",
      "6\n",
      "Tipo:9\n",
      "Posizione:(38,2)\n",
      "Dimensioni:(2,2)non ha figlio\n",
      "flags: 101449792 posizione originale:6160 400\n",
      "b'@\\x00\\x0c\\x06'\n",
      "64\n",
      "0\n",
      "12\n",
      "6\n",
      "Tipo:9\n",
      "Posizione:(36,2)\n",
      "Dimensioni:(2,2)non ha figlio\n",
      "flags: 101187648 posizione originale:5840 400\n",
      "b'@\\x00\\x08\\x06'\n",
      "64\n",
      "0\n",
      "8\n",
      "6\n",
      "Tipo:88\n",
      "Posizione:(7,14)\n",
      "Dimensioni:(3,2)non ha figlio\n",
      "flags: 100663360 posizione originale:1200 2320\n",
      "b'@\\x00\\x00\\x06'\n",
      "64\n",
      "0\n",
      "0\n",
      "6\n",
      "Tipo:88\n",
      "Posizione:(15,5)\n",
      "Dimensioni:(3,2)non ha figlio\n",
      "flags: 102760512 posizione originale:2480 880\n",
      "b'@\\x00 \\x06'\n",
      "64\n",
      "0\n",
      "32\n",
      "6\n",
      "Tipo:88\n",
      "Posizione:(11,11)\n",
      "Dimensioni:(3,2)non ha figlio\n",
      "flags: 101711936 posizione originale:1840 1840\n",
      "b'@\\x00\\x10\\x06'\n",
      "64\n",
      "0\n",
      "16\n",
      "6\n",
      "Tipo:88\n",
      "Posizione:(19,8)\n",
      "Dimensioni:(6,5)non ha figlio\n",
      "flags: 101711936 posizione originale:3120 1360\n",
      "b'@\\x00\\x10\\x06'\n",
      "64\n",
      "0\n",
      "16\n",
      "6\n",
      "Tipo:88\n",
      "Posizione:(14,14)\n",
      "Dimensioni:(3,2)non ha figlio\n",
      "flags: 103809088 posizione originale:2320 2320\n",
      "b'@\\x000\\x06'\n",
      "64\n",
      "0\n",
      "48\n",
      "6\n",
      "Tipo:87\n",
      "Posizione:(50,4)\n",
      "Dimensioni:(4,2)non ha figlio\n",
      "flags: 100663360 posizione originale:8080 720\n",
      "b'@\\x00\\x00\\x06'\n",
      "64\n",
      "0\n",
      "0\n",
      "6\n",
      "Tipo:87\n",
      "Posizione:(66,11)\n",
      "Dimensioni:(6,3)non ha figlio\n",
      "flags: 101711936 posizione originale:10640 1840\n",
      "b'@\\x00\\x10\\x06'\n",
      "64\n",
      "0\n",
      "16\n",
      "6\n",
      "Tipo:87\n",
      "Posizione:(49,12)\n",
      "Dimensioni:(4,2)non ha figlio\n",
      "flags: 103809088 posizione originale:7920 2000\n",
      "b'@\\x000\\x06'\n",
      "64\n",
      "0\n",
      "48\n",
      "6\n",
      "Tipo:87\n",
      "Posizione:(65,2)\n",
      "Dimensioni:(6,3)non ha figlio\n",
      "flags: 101711936 posizione originale:10480 400\n",
      "b'@\\x00\\x10\\x06'\n",
      "64\n",
      "0\n",
      "16\n",
      "6\n",
      "Tipo:12\n",
      "Posizione:(7,5)\n",
      "Dimensioni:(2,2)non ha figlio\n",
      "flags: 100663384 posizione originale:1280 880\n",
      "b'X\\x00\\x00\\x06'\n",
      "88\n",
      "0\n",
      "0\n",
      "6\n",
      "Tipo:12\n",
      "Posizione:(9,5)\n",
      "Dimensioni:(2,2)non ha figlio\n",
      "flags: 100663384 posizione originale:1600 880\n",
      "b'X\\x00\\x00\\x06'\n",
      "88\n",
      "0\n",
      "0\n",
      "6\n",
      "Tipo:12\n",
      "Posizione:(11,5)\n",
      "Dimensioni:(2,2)non ha figlio\n",
      "flags: 100667480 posizione originale:1920 880\n",
      "b'X\\x10\\x00\\x06'\n",
      "88\n",
      "16\n",
      "0\n",
      "6\n",
      "Tipo:0\n",
      "Posizione:(7,2)\n",
      "Dimensioni:(1,1)non ha figlio\n",
      "flags: 100663360 posizione originale:1200 400\n",
      "b'@\\x00\\x00\\x06'\n",
      "64\n",
      "0\n",
      "0\n",
      "6\n",
      "Tipo:0\n",
      "Posizione:(9,2)\n",
      "Dimensioni:(1,1)non ha figlio\n",
      "flags: 100663360 posizione originale:1520 400\n",
      "b'@\\x00\\x00\\x06'\n",
      "64\n",
      "0\n",
      "0\n",
      "6\n",
      "Tipo:0\n",
      "Posizione:(11,2)\n",
      "Dimensioni:(1,1)non ha figlio\n",
      "flags: 100663360 posizione originale:1840 400\n",
      "b'@\\x00\\x00\\x06'\n",
      "64\n",
      "0\n",
      "0\n",
      "6\n",
      "Tipo:0\n",
      "Posizione:(7,8)\n",
      "Dimensioni:(1,1)non ha figlio\n",
      "flags: 100663360 posizione originale:1200 1360\n",
      "b'@\\x00\\x00\\x06'\n",
      "64\n",
      "0\n",
      "0\n",
      "6\n",
      "Tipo:0\n",
      "Posizione:(9,8)\n",
      "Dimensioni:(1,1)non ha figlio\n",
      "flags: 100663360 posizione originale:1520 1360\n",
      "b'@\\x00\\x00\\x06'\n",
      "64\n",
      "0\n",
      "0\n",
      "6\n",
      "Tipo:0\n",
      "Posizione:(11,7)\n",
      "Dimensioni:(1,1)non ha figlio\n",
      "flags: 100667456 posizione originale:1920 1200\n",
      "b'@\\x10\\x00\\x06'\n",
      "64\n",
      "16\n",
      "0\n",
      "6\n",
      "Tipo:84\n",
      "Posizione:(50,18)\n",
      "Dimensioni:(5,1)non ha figlio\n",
      "flags: 100663360 posizione originale:8080 2960\n",
      "b'@\\x00\\x00\\x06'\n",
      "64\n",
      "0\n",
      "0\n",
      "6\n",
      "Tipo:84\n",
      "Posizione:(43,7)\n",
      "Dimensioni:(6,1)non ha figlio\n",
      "flags: 100663360 posizione originale:7040 1200\n",
      "b'@\\x00\\x00\\x06'\n",
      "64\n",
      "0\n",
      "0\n",
      "6\n",
      "Tipo:0\n",
      "Posizione:(44,2)\n",
      "Dimensioni:(1,1)non ha figlio\n",
      "flags: 100663360 posizione originale:7120 400\n",
      "b'@\\x00\\x00\\x06'\n",
      "64\n",
      "0\n",
      "0\n",
      "6\n",
      "Tipo:14\n",
      "Posizione:(53,4)\n",
      "Dimensioni:(5,4)non ha figlio\n",
      "flags: 100663360 posizione originale:8560 720\n",
      "b'@\\x00\\x00\\x06'\n",
      "64\n",
      "0\n",
      "0\n",
      "6\n",
      "Tipo:14\n",
      "Posizione:(55,8)\n",
      "Dimensioni:(4,3)non ha figlio\n",
      "flags: 100663360 posizione originale:8880 1360\n",
      "b'@\\x00\\x00\\x06'\n",
      "64\n",
      "0\n",
      "0\n",
      "6\n",
      "Tipo:16\n",
      "Posizione:(7,2)\n",
      "Dimensioni:(9,9)non ha figlio\n",
      "flags: 100663360 posizione originale:1200 400\n",
      "b'@\\x00\\x00\\x06'\n",
      "64\n",
      "0\n",
      "0\n",
      "6\n",
      "Tipo:14\n",
      "Posizione:(9,11)\n",
      "Dimensioni:(4,3)non ha figlio\n",
      "flags: 100663360 posizione originale:1520 1840\n",
      "b'@\\x00\\x00\\x06'\n",
      "64\n",
      "0\n",
      "0\n",
      "6\n",
      "Tipo:6\n",
      "Posizione:(55,13)\n",
      "Dimensioni:(1,1)non ha figlio\n",
      "flags: 100663360 posizione originale:8880 2160\n",
      "b'@\\x00\\x00\\x06'\n",
      "64\n",
      "0\n",
      "0\n",
      "6\n",
      "Tipo:6\n",
      "Posizione:(55,14)\n",
      "Dimensioni:(1,1)non ha figlio\n",
      "flags: 100663360 posizione originale:8880 2320\n",
      "b'@\\x00\\x00\\x06'\n",
      "64\n",
      "0\n",
      "0\n",
      "6\n",
      "Tipo:6\n",
      "Posizione:(55,15)\n",
      "Dimensioni:(1,1)non ha figlio\n",
      "flags: 100663360 posizione originale:8880 2480\n",
      "b'@\\x00\\x00\\x06'\n",
      "64\n",
      "0\n",
      "0\n",
      "6\n",
      "Tipo:6\n",
      "Posizione:(55,16)\n",
      "Dimensioni:(1,1)non ha figlio\n",
      "flags: 100663360 posizione originale:8880 2640\n",
      "b'@\\x00\\x00\\x06'\n",
      "64\n",
      "0\n",
      "0\n",
      "6\n",
      "Tipo:6\n",
      "Posizione:(55,17)\n",
      "Dimensioni:(1,1)non ha figlio\n",
      "flags: 100663360 posizione originale:8880 2800\n",
      "b'@\\x00\\x00\\x06'\n",
      "64\n",
      "0\n",
      "0\n",
      "6\n",
      "Tipo:6\n",
      "Posizione:(55,18)\n",
      "Dimensioni:(1,1)non ha figlio\n",
      "flags: 100663360 posizione originale:8880 2960\n",
      "b'@\\x00\\x00\\x06'\n",
      "64\n",
      "0\n",
      "0\n",
      "6\n",
      "Tipo:6\n",
      "Posizione:(55,19)\n",
      "Dimensioni:(1,1)non ha figlio\n",
      "flags: 100663360 posizione originale:8880 3120\n",
      "b'@\\x00\\x00\\x06'\n",
      "64\n",
      "0\n",
      "0\n",
      "6\n",
      "Tipo:6\n",
      "Posizione:(56,19)\n",
      "Dimensioni:(1,1)non ha figlio\n",
      "flags: 100663360 posizione originale:9040 3120\n",
      "b'@\\x00\\x00\\x06'\n",
      "64\n",
      "0\n",
      "0\n",
      "6\n",
      "Tipo:6\n",
      "Posizione:(57,19)\n",
      "Dimensioni:(1,1)non ha figlio\n",
      "flags: 100663360 posizione originale:9200 3120\n",
      "b'@\\x00\\x00\\x06'\n",
      "64\n",
      "0\n",
      "0\n",
      "6\n",
      "Tipo:6\n",
      "Posizione:(58,19)\n",
      "Dimensioni:(1,1)non ha figlio\n",
      "flags: 100663360 posizione originale:9360 3120\n",
      "b'@\\x00\\x00\\x06'\n",
      "64\n",
      "0\n",
      "0\n",
      "6\n",
      "Tipo:6\n",
      "Posizione:(59,19)\n",
      "Dimensioni:(1,1)non ha figlio\n",
      "flags: 100663360 posizione originale:9520 3120\n",
      "b'@\\x00\\x00\\x06'\n",
      "64\n",
      "0\n",
      "0\n",
      "6\n",
      "Tipo:6\n",
      "Posizione:(60,19)\n",
      "Dimensioni:(1,1)non ha figlio\n",
      "flags: 100663360 posizione originale:9680 3120\n",
      "b'@\\x00\\x00\\x06'\n",
      "64\n",
      "0\n",
      "0\n",
      "6\n",
      "Tipo:6\n",
      "Posizione:(61,19)\n",
      "Dimensioni:(1,1)non ha figlio\n",
      "flags: 100663360 posizione originale:9840 3120\n",
      "b'@\\x00\\x00\\x06'\n",
      "64\n",
      "0\n",
      "0\n",
      "6\n",
      "Tipo:6\n",
      "Posizione:(62,19)\n",
      "Dimensioni:(1,1)non ha figlio\n",
      "flags: 100663360 posizione originale:10000 3120\n",
      "b'@\\x00\\x00\\x06'\n",
      "64\n",
      "0\n",
      "0\n",
      "6\n",
      "Tipo:6\n",
      "Posizione:(63,19)\n",
      "Dimensioni:(1,1)non ha figlio\n",
      "flags: 100663360 posizione originale:10160 3120\n",
      "b'@\\x00\\x00\\x06'\n",
      "64\n",
      "0\n",
      "0\n",
      "6\n",
      "Tipo:6\n",
      "Posizione:(64,19)\n",
      "Dimensioni:(1,1)non ha figlio\n",
      "flags: 100663360 posizione originale:10320 3120\n",
      "b'@\\x00\\x00\\x06'\n",
      "64\n",
      "0\n",
      "0\n",
      "6\n",
      "Tipo:6\n",
      "Posizione:(64,18)\n",
      "Dimensioni:(1,1)non ha figlio\n",
      "flags: 100663360 posizione originale:10320 2960\n",
      "b'@\\x00\\x00\\x06'\n",
      "64\n",
      "0\n",
      "0\n",
      "6\n",
      "Tipo:6\n",
      "Posizione:(64,17)\n",
      "Dimensioni:(1,1)non ha figlio\n",
      "flags: 100663360 posizione originale:10320 2800\n",
      "b'@\\x00\\x00\\x06'\n",
      "64\n",
      "0\n",
      "0\n",
      "6\n",
      "Tipo:6\n",
      "Posizione:(64,16)\n",
      "Dimensioni:(1,1)non ha figlio\n",
      "flags: 100663360 posizione originale:10320 2640\n",
      "b'@\\x00\\x00\\x06'\n",
      "64\n",
      "0\n",
      "0\n",
      "6\n",
      "Tipo:6\n",
      "Posizione:(64,15)\n",
      "Dimensioni:(1,1)non ha figlio\n",
      "flags: 100663360 posizione originale:10320 2480\n",
      "b'@\\x00\\x00\\x06'\n",
      "64\n",
      "0\n",
      "0\n",
      "6\n",
      "Tipo:6\n",
      "Posizione:(64,14)\n",
      "Dimensioni:(1,1)non ha figlio\n",
      "flags: 100663360 posizione originale:10320 2320\n",
      "b'@\\x00\\x00\\x06'\n",
      "64\n",
      "0\n",
      "0\n",
      "6\n",
      "Tipo:6\n",
      "Posizione:(64,13)\n",
      "Dimensioni:(1,1)non ha figlio\n",
      "flags: 100663360 posizione originale:10320 2160\n",
      "b'@\\x00\\x00\\x06'\n",
      "64\n",
      "0\n",
      "0\n",
      "6\n",
      "Tipo:6\n",
      "Posizione:(63,13)\n",
      "Dimensioni:(1,1)non ha figlio\n",
      "flags: 100663360 posizione originale:10160 2160\n",
      "b'@\\x00\\x00\\x06'\n",
      "64\n",
      "0\n",
      "0\n",
      "6\n",
      "Tipo:6\n",
      "Posizione:(62,13)\n",
      "Dimensioni:(1,1)non ha figlio\n",
      "flags: 100663360 posizione originale:10000 2160\n",
      "b'@\\x00\\x00\\x06'\n",
      "64\n",
      "0\n",
      "0\n",
      "6\n",
      "Tipo:6\n",
      "Posizione:(61,13)\n",
      "Dimensioni:(1,1)non ha figlio\n",
      "flags: 100663360 posizione originale:9840 2160\n",
      "b'@\\x00\\x00\\x06'\n",
      "64\n",
      "0\n",
      "0\n",
      "6\n",
      "Tipo:6\n",
      "Posizione:(60,13)\n",
      "Dimensioni:(1,1)non ha figlio\n",
      "flags: 100663360 posizione originale:9680 2160\n",
      "b'@\\x00\\x00\\x06'\n",
      "64\n",
      "0\n",
      "0\n",
      "6\n",
      "Tipo:6\n",
      "Posizione:(59,13)\n",
      "Dimensioni:(1,1)non ha figlio\n",
      "flags: 100663360 posizione originale:9520 2160\n",
      "b'@\\x00\\x00\\x06'\n",
      "64\n",
      "0\n",
      "0\n",
      "6\n",
      "Tipo:6\n",
      "Posizione:(58,13)\n",
      "Dimensioni:(1,1)non ha figlio\n",
      "flags: 100663360 posizione originale:9360 2160\n",
      "b'@\\x00\\x00\\x06'\n",
      "64\n",
      "0\n",
      "0\n",
      "6\n",
      "Tipo:6\n",
      "Posizione:(57,13)\n",
      "Dimensioni:(1,1)non ha figlio\n",
      "flags: 100663360 posizione originale:9200 2160\n",
      "b'@\\x00\\x00\\x06'\n",
      "64\n",
      "0\n",
      "0\n",
      "6\n",
      "Tipo:6\n",
      "Posizione:(56,13)\n",
      "Dimensioni:(1,1)non ha figlio\n",
      "flags: 100663360 posizione originale:9040 2160\n",
      "b'@\\x00\\x00\\x06'\n",
      "64\n",
      "0\n",
      "0\n",
      "6\n",
      "Tipo:6\n",
      "Posizione:(56,14)\n",
      "Dimensioni:(1,1)non ha figlio\n",
      "flags: 100663360 posizione originale:9040 2320\n",
      "b'@\\x00\\x00\\x06'\n",
      "64\n",
      "0\n",
      "0\n",
      "6\n",
      "Tipo:6\n",
      "Posizione:(56,15)\n",
      "Dimensioni:(1,1)non ha figlio\n",
      "flags: 100663360 posizione originale:9040 2480\n",
      "b'@\\x00\\x00\\x06'\n",
      "64\n",
      "0\n",
      "0\n",
      "6\n",
      "Tipo:6\n",
      "Posizione:(56,17)\n",
      "Dimensioni:(1,1)non ha figlio\n",
      "flags: 100663360 posizione originale:9040 2800\n",
      "b'@\\x00\\x00\\x06'\n",
      "64\n",
      "0\n",
      "0\n",
      "6\n",
      "Tipo:6\n",
      "Posizione:(56,16)\n",
      "Dimensioni:(1,1)non ha figlio\n",
      "flags: 100663360 posizione originale:9040 2640\n",
      "b'@\\x00\\x00\\x06'\n",
      "64\n",
      "0\n",
      "0\n",
      "6\n",
      "Tipo:6\n",
      "Posizione:(56,18)\n",
      "Dimensioni:(1,1)non ha figlio\n",
      "flags: 100663360 posizione originale:9040 2960\n",
      "b'@\\x00\\x00\\x06'\n",
      "64\n",
      "0\n",
      "0\n",
      "6\n",
      "Tipo:6\n",
      "Posizione:(57,18)\n",
      "Dimensioni:(1,1)non ha figlio\n",
      "flags: 100663360 posizione originale:9200 2960\n",
      "b'@\\x00\\x00\\x06'\n",
      "64\n",
      "0\n",
      "0\n",
      "6\n",
      "Tipo:6\n",
      "Posizione:(58,18)\n",
      "Dimensioni:(1,1)non ha figlio\n",
      "flags: 100663360 posizione originale:9360 2960\n",
      "b'@\\x00\\x00\\x06'\n",
      "64\n",
      "0\n",
      "0\n",
      "6\n",
      "Tipo:6\n",
      "Posizione:(59,18)\n",
      "Dimensioni:(1,1)non ha figlio\n",
      "flags: 100663360 posizione originale:9520 2960\n",
      "b'@\\x00\\x00\\x06'\n",
      "64\n",
      "0\n",
      "0\n",
      "6\n",
      "Tipo:6\n",
      "Posizione:(60,18)\n",
      "Dimensioni:(1,1)non ha figlio\n",
      "flags: 100663360 posizione originale:9680 2960\n",
      "b'@\\x00\\x00\\x06'\n",
      "64\n",
      "0\n",
      "0\n",
      "6\n",
      "Tipo:6\n",
      "Posizione:(61,18)\n",
      "Dimensioni:(1,1)non ha figlio\n",
      "flags: 100663360 posizione originale:9840 2960\n",
      "b'@\\x00\\x00\\x06'\n",
      "64\n",
      "0\n",
      "0\n",
      "6\n",
      "Tipo:6\n",
      "Posizione:(62,18)\n",
      "Dimensioni:(1,1)non ha figlio\n",
      "flags: 100663360 posizione originale:10000 2960\n",
      "b'@\\x00\\x00\\x06'\n",
      "64\n",
      "0\n",
      "0\n",
      "6\n",
      "Tipo:6\n",
      "Posizione:(63,18)\n",
      "Dimensioni:(1,1)non ha figlio\n",
      "flags: 100663360 posizione originale:10160 2960\n",
      "b'@\\x00\\x00\\x06'\n",
      "64\n",
      "0\n",
      "0\n",
      "6\n",
      "Tipo:6\n",
      "Posizione:(63,17)\n",
      "Dimensioni:(1,1)non ha figlio\n",
      "flags: 100663360 posizione originale:10160 2800\n",
      "b'@\\x00\\x00\\x06'\n",
      "64\n",
      "0\n",
      "0\n",
      "6\n",
      "Tipo:6\n",
      "Posizione:(63,16)\n",
      "Dimensioni:(1,1)non ha figlio\n",
      "flags: 100663360 posizione originale:10160 2640\n",
      "b'@\\x00\\x00\\x06'\n",
      "64\n",
      "0\n",
      "0\n",
      "6\n",
      "Tipo:6\n",
      "Posizione:(63,15)\n",
      "Dimensioni:(1,1)non ha figlio\n",
      "flags: 100663360 posizione originale:10160 2480\n",
      "b'@\\x00\\x00\\x06'\n",
      "64\n",
      "0\n",
      "0\n",
      "6\n",
      "Tipo:6\n",
      "Posizione:(62,14)\n",
      "Dimensioni:(1,1)non ha figlio\n",
      "flags: 100663360 posizione originale:10000 2320\n",
      "b'@\\x00\\x00\\x06'\n",
      "64\n",
      "0\n",
      "0\n",
      "6\n",
      "Tipo:6\n",
      "Posizione:(63,14)\n",
      "Dimensioni:(1,1)non ha figlio\n",
      "flags: 100663360 posizione originale:10160 2320\n",
      "b'@\\x00\\x00\\x06'\n",
      "64\n",
      "0\n",
      "0\n",
      "6\n",
      "Tipo:6\n",
      "Posizione:(61,14)\n",
      "Dimensioni:(1,1)non ha figlio\n",
      "flags: 100663360 posizione originale:9840 2320\n",
      "b'@\\x00\\x00\\x06'\n",
      "64\n",
      "0\n",
      "0\n",
      "6\n",
      "Tipo:6\n",
      "Posizione:(60,14)\n",
      "Dimensioni:(1,1)non ha figlio\n",
      "flags: 100663360 posizione originale:9680 2320\n",
      "b'@\\x00\\x00\\x06'\n",
      "64\n",
      "0\n",
      "0\n",
      "6\n",
      "Tipo:6\n",
      "Posizione:(59,14)\n",
      "Dimensioni:(1,1)non ha figlio\n",
      "flags: 100663360 posizione originale:9520 2320\n",
      "b'@\\x00\\x00\\x06'\n",
      "64\n",
      "0\n",
      "0\n",
      "6\n",
      "Tipo:6\n",
      "Posizione:(58,14)\n",
      "Dimensioni:(1,1)non ha figlio\n",
      "flags: 100663360 posizione originale:9360 2320\n",
      "b'@\\x00\\x00\\x06'\n",
      "64\n",
      "0\n",
      "0\n",
      "6\n",
      "Tipo:6\n",
      "Posizione:(57,14)\n",
      "Dimensioni:(1,1)non ha figlio\n",
      "flags: 100663360 posizione originale:9200 2320\n",
      "b'@\\x00\\x00\\x06'\n",
      "64\n",
      "0\n",
      "0\n",
      "6\n",
      "Tipo:6\n",
      "Posizione:(57,15)\n",
      "Dimensioni:(1,1)non ha figlio\n",
      "flags: 100663360 posizione originale:9200 2480\n",
      "b'@\\x00\\x00\\x06'\n",
      "64\n",
      "0\n",
      "0\n",
      "6\n",
      "Tipo:6\n",
      "Posizione:(57,16)\n",
      "Dimensioni:(1,1)non ha figlio\n",
      "flags: 100663360 posizione originale:9200 2640\n",
      "b'@\\x00\\x00\\x06'\n",
      "64\n",
      "0\n",
      "0\n",
      "6\n",
      "Tipo:6\n",
      "Posizione:(58,15)\n",
      "Dimensioni:(1,1)non ha figlio\n",
      "flags: 100663360 posizione originale:9360 2480\n",
      "b'@\\x00\\x00\\x06'\n",
      "64\n",
      "0\n",
      "0\n",
      "6\n",
      "Tipo:6\n",
      "Posizione:(59,15)\n",
      "Dimensioni:(1,1)non ha figlio\n",
      "flags: 100663360 posizione originale:9520 2480\n",
      "b'@\\x00\\x00\\x06'\n",
      "64\n",
      "0\n",
      "0\n",
      "6\n",
      "Tipo:6\n",
      "Posizione:(61,17)\n",
      "Dimensioni:(1,1)non ha figlio\n",
      "flags: 100663360 posizione originale:9840 2800\n",
      "b'@\\x00\\x00\\x06'\n",
      "64\n",
      "0\n",
      "0\n",
      "6\n",
      "Tipo:6\n",
      "Posizione:(60,17)\n",
      "Dimensioni:(1,1)non ha figlio\n",
      "flags: 100663360 posizione originale:9680 2800\n",
      "b'@\\x00\\x00\\x06'\n",
      "64\n",
      "0\n",
      "0\n",
      "6\n",
      "Tipo:6\n",
      "Posizione:(62,17)\n",
      "Dimensioni:(1,1)non ha figlio\n",
      "flags: 100663360 posizione originale:10000 2800\n",
      "b'@\\x00\\x00\\x06'\n",
      "64\n",
      "0\n",
      "0\n",
      "6\n",
      "Tipo:6\n",
      "Posizione:(62,16)\n",
      "Dimensioni:(1,1)non ha figlio\n",
      "flags: 100663360 posizione originale:10000 2640\n",
      "b'@\\x00\\x00\\x06'\n",
      "64\n",
      "0\n",
      "0\n",
      "6\n",
      "Tipo:87\n",
      "Posizione:(66,19)\n",
      "Dimensioni:(4,2)non ha figlio\n",
      "flags: 101711936 posizione originale:10640 3120\n",
      "b'@\\x00\\x10\\x06'\n",
      "64\n",
      "0\n",
      "16\n",
      "6\n",
      "Tipo:6\n",
      "Posizione:(66,10)\n",
      "Dimensioni:(1,1)non ha figlio\n",
      "flags: 100663360 posizione originale:10640 1680\n",
      "b'@\\x00\\x00\\x06'\n",
      "64\n",
      "0\n",
      "0\n",
      "6\n",
      "Tipo:42\n",
      "Posizione:(26,11)\n",
      "Dimensioni:(2,3)non ha figlio\n",
      "flags: 100663488 posizione originale:4320 1840\n",
      "b'\\xc0\\x00\\x00\\x06'\n",
      "192\n",
      "0\n",
      "0\n",
      "6\n",
      "Tipo:98\n",
      "Posizione:(26,12)\n",
      "Dimensioni:(1,1)non ha figlio\n",
      "flags: 100663872 posizione originale:4320 2080\n",
      "b'@\\x02\\x00\\x06'\n",
      "64\n",
      "2\n",
      "0\n",
      "6\n",
      "Tipo:34\n",
      "Posizione:(26,5)\n",
      "Dimensioni:(1,1)non ha figlio\n",
      "flags: 100663393 posizione originale:4320 960\n",
      "b'a\\x00\\x00\\x06'\n",
      "97\n",
      "0\n",
      "0\n",
      "6\n",
      "Tipo:34\n",
      "Posizione:(27,4)\n",
      "Dimensioni:(1,1)non ha figlio\n",
      "flags: 100663329 posizione originale:4480 800\n",
      "b'!\\x00\\x00\\x06'\n",
      "33\n",
      "0\n",
      "0\n",
      "6\n",
      "Tipo:20\n",
      "Posizione:(26,3)\n",
      "Dimensioni:(1,1)non ha figlio\n",
      "flags: 100663361 posizione originale:4320 640\n",
      "b'A\\x00\\x00\\x06'\n",
      "65\n",
      "0\n",
      "0\n",
      "6\n",
      "Tipo:13\n",
      "Posizione:(61,2)\n",
      "Dimensioni:(1,8)non ha figlio\n",
      "flags: 100663360 posizione originale:9840 400\n",
      "b'@\\x00\\x00\\x06'\n",
      "64\n",
      "0\n",
      "0\n",
      "6\n",
      "Tipo:25\n",
      "Posizione:(66,7)\n",
      "Dimensioni:(1,1)non ha figlio\n",
      "flags: 100663360 posizione originale:10640 1200\n",
      "b'@\\x00\\x00\\x06'\n",
      "64\n",
      "0\n",
      "0\n",
      "6\n",
      "Tipo:25\n",
      "Posizione:(63,7)\n",
      "Dimensioni:(1,1)non ha figlio\n",
      "flags: 103810112 posizione originale:10160 1200\n",
      "b'@\\x040\\x06'\n",
      "64\n",
      "4\n",
      "48\n",
      "6\n",
      "Tipo:25\n",
      "Posizione:(69,9)\n",
      "Dimensioni:(1,1)non ha figlio\n",
      "flags: 100663364 posizione originale:11120 1520\n",
      "b'D\\x00\\x00\\x06'\n",
      "68\n",
      "0\n",
      "0\n",
      "6\n",
      "Tipo:25\n",
      "Posizione:(70,9)\n",
      "Dimensioni:(1,1)non ha figlio\n",
      "flags: 100663362 posizione originale:11280 1520\n",
      "b'B\\x00\\x00\\x06'\n",
      "66\n",
      "0\n",
      "0\n",
      "6\n",
      "Tipo:25\n",
      "Posizione:(72,3)\n",
      "Dimensioni:(2,2)non ha figlio\n",
      "flags: 100679744 posizione originale:11680 560\n",
      "b'@@\\x00\\x06'\n",
      "64\n",
      "64\n",
      "0\n",
      "6\n",
      "Tipo:25\n",
      "Posizione:(69,14)\n",
      "Dimensioni:(1,1)non ha figlio\n",
      "flags: 100696128 posizione originale:11120 2320\n",
      "b'@\\x80\\x00\\x06'\n",
      "64\n",
      "128\n",
      "0\n",
      "6\n",
      "Tipo:15\n",
      "Posizione:(54,9)\n",
      "Dimensioni:(2,2)non ha figlio\n",
      "flags: 100680772 posizione originale:8720 1520\n",
      "b'DD\\x00\\x06'\n",
      "68\n",
      "68\n",
      "0\n",
      "6\n",
      "Tipo:15\n",
      "Posizione:(66,5)\n",
      "Dimensioni:(1,1)non ha figlio\n",
      "flags: 100663364 posizione originale:10640 880\n",
      "b'D\\x00\\x00\\x06'\n",
      "68\n",
      "0\n",
      "0\n",
      "6\n",
      "Tipo:0\n",
      "Posizione:(60,11)\n",
      "Dimensioni:(1,1)non ha figlio\n",
      "flags: 100664384 posizione originale:9680 1840\n",
      "b'@\\x04\\x00\\x06'\n",
      "64\n",
      "4\n",
      "0\n",
      "6\n",
      "Tipo:31\n",
      "Posizione:(23,14)\n",
      "Dimensioni:(1,2)non ha figlio\n",
      "flags: 100663488 posizione originale:3760 2320\n",
      "b'\\xc0\\x00\\x00\\x06'\n",
      "192\n",
      "0\n",
      "0\n",
      "6\n",
      "Tipo:30\n",
      "Posizione:(23,14)\n",
      "Dimensioni:(1,2)non ha figlio\n",
      "flags: 100728896 posizione originale:3760 2320\n",
      "b'@\\x00\\x01\\x06'\n",
      "64\n",
      "0\n",
      "1\n",
      "6\n",
      "Tipo:11\n",
      "Posizione:(13,25)\n",
      "Dimensioni:(4,1)non ha figlio\n",
      "flags: 100663360 posizione originale:2240 4080\n",
      "b'@\\x00\\x00\\x06'\n",
      "64\n",
      "0\n",
      "0\n",
      "6\n",
      "Tipo:11\n",
      "Posizione:(10,22)\n",
      "Dimensioni:(4,1)non ha figlio\n",
      "flags: 101712976 posizione originale:1680 3600\n",
      "b'P\\x04\\x10\\x06'\n",
      "80\n",
      "4\n",
      "16\n",
      "6\n",
      "Tipo:11\n",
      "Posizione:(12,20)\n",
      "Dimensioni:(4,1)non ha figlio\n",
      "flags: 100664384 posizione originale:2000 3280\n",
      "b'@\\x04\\x00\\x06'\n",
      "64\n",
      "4\n",
      "0\n",
      "6\n",
      "Tipo:32\n",
      "Posizione:(40,14)\n",
      "Dimensioni:(4,4)non ha figlio\n",
      "flags: 104857664 posizione originale:6560 2320\n",
      "b'@\\x00@\\x06'\n",
      "64\n",
      "0\n",
      "64\n",
      "6\n",
      "Tipo:0\n",
      "Posizione:(37,17)\n",
      "Dimensioni:(1,1)non ha figlio\n",
      "flags: 100667456 posizione originale:6000 2800\n",
      "b'@\\x10\\x00\\x06'\n",
      "64\n",
      "16\n",
      "0\n",
      "6\n",
      "Tipo:0\n",
      "Posizione:(37,16)\n",
      "Dimensioni:(1,1)non ha figlio\n",
      "flags: 100667456 posizione originale:6000 2640\n",
      "b'@\\x10\\x00\\x06'\n",
      "64\n",
      "16\n",
      "0\n",
      "6\n",
      "Tipo:0\n",
      "Posizione:(37,15)\n",
      "Dimensioni:(1,1)non ha figlio\n",
      "flags: 100667456 posizione originale:6000 2480\n",
      "b'@\\x10\\x00\\x06'\n",
      "64\n",
      "16\n",
      "0\n",
      "6\n",
      "Tipo:0\n",
      "Posizione:(37,14)\n",
      "Dimensioni:(1,1)non ha figlio\n",
      "flags: 100667456 posizione originale:6000 2320\n",
      "b'@\\x10\\x00\\x06'\n",
      "64\n",
      "16\n",
      "0\n",
      "6\n",
      "Tipo:0\n",
      "Posizione:(37,13)\n",
      "Dimensioni:(1,1)non ha figlio\n",
      "flags: 100667456 posizione originale:6000 2160\n",
      "b'@\\x10\\x00\\x06'\n",
      "64\n",
      "16\n",
      "0\n",
      "6\n",
      "Tipo:0\n",
      "Posizione:(38,13)\n",
      "Dimensioni:(1,1)non ha figlio\n",
      "flags: 100663360 posizione originale:6160 2160\n",
      "b'@\\x00\\x00\\x06'\n",
      "64\n",
      "0\n",
      "0\n",
      "6\n",
      "Tipo:0\n",
      "Posizione:(39,13)\n",
      "Dimensioni:(1,1)non ha figlio\n",
      "flags: 100663360 posizione originale:6320 2160\n",
      "b'@\\x00\\x00\\x06'\n",
      "64\n",
      "0\n",
      "0\n",
      "6\n",
      "Tipo:0\n",
      "Posizione:(42,13)\n",
      "Dimensioni:(1,1)non ha figlio\n",
      "flags: 100663360 posizione originale:6800 2160\n",
      "b'@\\x00\\x00\\x06'\n",
      "64\n",
      "0\n",
      "0\n",
      "6\n",
      "Tipo:0\n",
      "Posizione:(43,13)\n",
      "Dimensioni:(1,1)non ha figlio\n",
      "flags: 100663360 posizione originale:6960 2160\n",
      "b'@\\x00\\x00\\x06'\n",
      "64\n",
      "0\n",
      "0\n",
      "6\n",
      "Tipo:0\n",
      "Posizione:(44,13)\n",
      "Dimensioni:(1,1)non ha figlio\n",
      "flags: 100667456 posizione originale:7120 2160\n",
      "b'@\\x10\\x00\\x06'\n",
      "64\n",
      "16\n",
      "0\n",
      "6\n",
      "Tipo:0\n",
      "Posizione:(44,14)\n",
      "Dimensioni:(1,1)non ha figlio\n",
      "flags: 100667456 posizione originale:7120 2320\n",
      "b'@\\x10\\x00\\x06'\n",
      "64\n",
      "16\n",
      "0\n",
      "6\n",
      "Tipo:0\n",
      "Posizione:(44,15)\n",
      "Dimensioni:(1,1)non ha figlio\n",
      "flags: 100667456 posizione originale:7120 2480\n",
      "b'@\\x10\\x00\\x06'\n",
      "64\n",
      "16\n",
      "0\n",
      "6\n",
      "Tipo:0\n",
      "Posizione:(44,16)\n",
      "Dimensioni:(1,1)non ha figlio\n",
      "flags: 100667456 posizione originale:7120 2640\n",
      "b'@\\x10\\x00\\x06'\n",
      "64\n",
      "16\n",
      "0\n",
      "6\n",
      "Tipo:0\n",
      "Posizione:(44,17)\n",
      "Dimensioni:(1,1)non ha figlio\n",
      "flags: 100667456 posizione originale:7120 2800\n",
      "b'@\\x10\\x00\\x06'\n",
      "64\n",
      "16\n",
      "0\n",
      "6\n",
      "Tipo:0\n",
      "Posizione:(44,19)\n",
      "Dimensioni:(1,1)non ha figlio\n",
      "flags: 100667456 posizione originale:7120 3120\n",
      "b'@\\x10\\x00\\x06'\n",
      "64\n",
      "16\n",
      "0\n",
      "6\n",
      "Tipo:0\n",
      "Posizione:(44,18)\n",
      "Dimensioni:(1,1)non ha figlio\n",
      "flags: 100667456 posizione originale:7120 2960\n",
      "b'@\\x10\\x00\\x06'\n",
      "64\n",
      "16\n",
      "0\n",
      "6\n",
      "Tipo:0\n",
      "Posizione:(44,20)\n",
      "Dimensioni:(1,1)non ha figlio\n",
      "flags: 100667456 posizione originale:7120 3280\n",
      "b'@\\x10\\x00\\x06'\n",
      "64\n",
      "16\n",
      "0\n",
      "6\n",
      "Tipo:0\n",
      "Posizione:(43,20)\n",
      "Dimensioni:(1,1)non ha figlio\n",
      "flags: 100663360 posizione originale:6960 3280\n",
      "b'@\\x00\\x00\\x06'\n",
      "64\n",
      "0\n",
      "0\n",
      "6\n",
      "Tipo:0\n",
      "Posizione:(42,20)\n",
      "Dimensioni:(1,1)non ha figlio\n",
      "flags: 100663360 posizione originale:6800 3280\n",
      "b'@\\x00\\x00\\x06'\n",
      "64\n",
      "0\n",
      "0\n",
      "6\n",
      "Tipo:0\n",
      "Posizione:(41,20)\n",
      "Dimensioni:(1,1)non ha figlio\n",
      "flags: 100663360 posizione originale:6640 3280\n",
      "b'@\\x00\\x00\\x06'\n",
      "64\n",
      "0\n",
      "0\n",
      "6\n",
      "Tipo:0\n",
      "Posizione:(40,20)\n",
      "Dimensioni:(1,1)non ha figlio\n",
      "flags: 100663360 posizione originale:6480 3280\n",
      "b'@\\x00\\x00\\x06'\n",
      "64\n",
      "0\n",
      "0\n",
      "6\n",
      "Tipo:0\n",
      "Posizione:(39,20)\n",
      "Dimensioni:(1,1)non ha figlio\n",
      "flags: 100663360 posizione originale:6320 3280\n",
      "b'@\\x00\\x00\\x06'\n",
      "64\n",
      "0\n",
      "0\n",
      "6\n",
      "Tipo:0\n",
      "Posizione:(38,20)\n",
      "Dimensioni:(1,1)non ha figlio\n",
      "flags: 100663360 posizione originale:6160 3280\n",
      "b'@\\x00\\x00\\x06'\n",
      "64\n",
      "0\n",
      "0\n",
      "6\n",
      "Tipo:0\n",
      "Posizione:(37,20)\n",
      "Dimensioni:(1,1)non ha figlio\n",
      "flags: 100667456 posizione originale:6000 3280\n",
      "b'@\\x10\\x00\\x06'\n",
      "64\n",
      "16\n",
      "0\n",
      "6\n",
      "Tipo:0\n",
      "Posizione:(37,19)\n",
      "Dimensioni:(1,1)non ha figlio\n",
      "flags: 100667456 posizione originale:6000 3120\n",
      "b'@\\x10\\x00\\x06'\n",
      "64\n",
      "16\n",
      "0\n",
      "6\n",
      "Tipo:0\n",
      "Posizione:(37,18)\n",
      "Dimensioni:(1,1)non ha figlio\n",
      "flags: 100667456 posizione originale:6000 2960\n",
      "b'@\\x10\\x00\\x06'\n",
      "64\n",
      "16\n",
      "0\n",
      "6\n",
      "Tipo:0\n",
      "Posizione:(39,4)\n",
      "Dimensioni:(1,1)non ha figlio\n",
      "flags: 100663360 posizione originale:6320 720\n",
      "b'@\\x00\\x00\\x06'\n",
      "64\n",
      "0\n",
      "0\n",
      "6\n",
      "Tipo:15\n",
      "Posizione:(59,20)\n",
      "Dimensioni:(1,1)non ha figlio\n",
      "flags: 100663360 posizione originale:9520 3280\n",
      "b'@\\x00\\x00\\x06'\n",
      "64\n",
      "0\n",
      "0\n",
      "6\n",
      "Tipo:0\n",
      "Posizione:(62,20)\n",
      "Dimensioni:(1,1)non ha figlio\n",
      "flags: 100663360 posizione originale:10000 3280\n",
      "b'@\\x00\\x00\\x06'\n",
      "64\n",
      "0\n",
      "0\n",
      "6\n",
      "Tipo:32\n",
      "Posizione:(60,23)\n",
      "Dimensioni:(4,4)non ha figlio\n",
      "flags: 100663360 posizione originale:9760 3760\n",
      "b'@\\x00\\x00\\x06'\n",
      "64\n",
      "0\n",
      "0\n",
      "6\n",
      "Tipo:84\n",
      "Posizione:(32,9)\n",
      "Dimensioni:(5,1)non ha figlio\n",
      "flags: 100663360 posizione originale:5200 1520\n",
      "b'@\\x00\\x00\\x06'\n",
      "64\n",
      "0\n",
      "0\n",
      "6\n",
      "Tipo:24\n",
      "Posizione:(32,7)\n",
      "Dimensioni:(1,1)non ha figlio\n",
      "flags: 104857664 posizione originale:5200 1200\n",
      "b'@\\x00@\\x06'\n",
      "64\n",
      "0\n",
      "64\n",
      "6\n",
      "Tipo:105\n",
      "Posizione:(31,14)\n",
      "Dimensioni:(3,4)non ha figlio\n",
      "flags: 100663488 posizione originale:5040 2320\n",
      "b'\\xc0\\x00\\x00\\x06'\n",
      "192\n",
      "0\n",
      "0\n",
      "6\n",
      "Tipo:39\n",
      "Posizione:(31,13)\n",
      "Dimensioni:(1,1)non ha figlio\n",
      "flags: 234881088 posizione originale:5040 2180\n",
      "b'@\\x00\\x00\\x0e'\n",
      "64\n",
      "0\n",
      "0\n",
      "14\n",
      "Tipo:1\n",
      "Posizione:(26,24)\n",
      "Dimensioni:(1,1)non ha figlio\n",
      "flags: 100663360 posizione originale:4240 3920\n",
      "b'@\\x00\\x00\\x06'\n",
      "64\n",
      "0\n",
      "0\n",
      "6\n",
      "Tipo:31\n",
      "Posizione:(20,18)\n",
      "Dimensioni:(2,4)non ha figlio\n",
      "flags: 100679872 posizione originale:3360 2960\n",
      "b'\\xc0@\\x00\\x06'\n",
      "192\n",
      "64\n",
      "0\n",
      "6\n",
      "Tipo:46\n",
      "Posizione:(20,19)\n",
      "Dimensioni:(2,2)non ha figlio\n",
      "flags: 100876352 posizione originale:3360 3120\n",
      "b'@@\\x03\\x06'\n",
      "64\n",
      "64\n",
      "3\n",
      "6\n"
     ]
    }
   ],
   "source": [
    "for o in testM.mainLevelArea.objects:\n",
    "    print(o)\n",
    "    print(o.objectFlags.to_bytes(4, 'little'))\n",
    "    print(o.objectFlags.to_bytes(4, 'little')[0])\n",
    "    print(o.objectFlags.to_bytes(4, 'little')[1])\n",
    "    print(o.objectFlags.to_bytes(4, 'little')[2])\n",
    "    print(o.objectFlags.to_bytes(4, 'little')[3])"
   ]
  },
  {
   "cell_type": "code",
   "execution_count": 40,
   "metadata": {
    "scrolled": true
   },
   "outputs": [
    {
     "name": "stdout",
     "output_type": "stream",
     "text": [
      "57\n"
     ]
    }
   ],
   "source": [
    "for t in testM.mainLevelArea.tiles:\n",
    "    if t.yPosition == 3:\n",
    "        print(t.xPosition)"
   ]
  },
  {
   "cell_type": "code",
   "execution_count": 41,
   "metadata": {
    "scrolled": false
   },
   "outputs": [
    {
     "name": "stdout",
     "output_type": "stream",
     "text": [
      "Tipo:84\n",
      "Posizione:(50,18)\n",
      "Dimensioni:(5,1)non ha figlio\n",
      "flags: 100663360 posizione originale:8080 2960\n",
      "19\n",
      "65535\n",
      "0\n",
      "Tipo:84\n",
      "Posizione:(31,18)\n",
      "Dimensioni:(9,1)non ha figlio\n",
      "flags: 100663360 posizione originale:5040 2960\n",
      "4\n",
      "65535\n",
      "0\n",
      "Tipo:84\n",
      "Posizione:(43,7)\n",
      "Dimensioni:(6,1)non ha figlio\n",
      "flags: 100663360 posizione originale:7040 1200\n",
      "5\n",
      "65535\n",
      "0\n",
      "Tipo:84\n",
      "Posizione:(32,9)\n",
      "Dimensioni:(5,1)non ha figlio\n",
      "flags: 100663360 posizione originale:5200 1520\n",
      "17\n",
      "65535\n",
      "0\n",
      "Tipo:84\n",
      "Posizione:(25,23)\n",
      "Dimensioni:(5,1)non ha figlio\n",
      "flags: 100663360 posizione originale:4080 3760\n",
      "18\n",
      "65535\n",
      "0\n"
     ]
    }
   ],
   "source": [
    "for o in testM.mainLevelArea.objects:\n",
    "    if o.objectType == 84:\n",
    "        print(o)\n",
    "        print(o.extendedData)\n",
    "        print(o.linkID)\n",
    "        print(o.objectFlags.to_bytes(4, 'little')[2])"
   ]
  },
  {
   "cell_type": "code",
   "execution_count": null,
   "metadata": {},
   "outputs": [],
   "source": []
  },
  {
   "cell_type": "code",
   "execution_count": 141,
   "metadata": {},
   "outputs": [
    {
     "name": "stdout",
     "output_type": "stream",
     "text": [
      "Tipo:84\n",
      "Posizione:(48,23)\n",
      "Dimensioni:(5,1)non ha figlio\n",
      "flags: 100663364 posizione originale:7760 3760\n",
      "65535\n",
      "b'D\\x00\\x00\\x06'\n",
      "68\n",
      "0\n",
      "0\n",
      "6\n",
      "Tipo:84\n",
      "Posizione:(54,5)\n",
      "Dimensioni:(5,1)non ha figlio\n",
      "flags: 100663364 posizione originale:8720 880\n",
      "65535\n",
      "b'D\\x00\\x00\\x06'\n",
      "68\n",
      "0\n",
      "0\n",
      "6\n"
     ]
    }
   ],
   "source": [
    "for o in level.mainLevelArea.objects:\n",
    "    if o.objectType == 84:\n",
    "        print(o)\n",
    "        print(o.linkID)\n",
    "        print(o.objectFlags.to_bytes(4, 'little'))\n",
    "        print(o.objectFlags.to_bytes(4, 'little')[0])\n",
    "        print(o.objectFlags.to_bytes(4, 'little')[1])\n",
    "        print(o.objectFlags.to_bytes(4, 'little')[2])\n",
    "        print(o.objectFlags.to_bytes(4, 'little')[3])"
   ]
  },
  {
   "cell_type": "code",
   "execution_count": 47,
   "metadata": {},
   "outputs": [
    {
     "name": "stdout",
     "output_type": "stream",
     "text": [
      "Tipo:84\n",
      "Posizione:(50,18)\n",
      "Dimensioni:(5,1)non ha figlio\n",
      "flags: 100663360 posizione originale:8080 2960\n",
      "65535\n",
      "19\n",
      "b'@\\x00\\x00\\x06'\n",
      "64\n",
      "0\n",
      "0\n",
      "6\n",
      "Tipo:84\n",
      "Posizione:(31,18)\n",
      "Dimensioni:(9,1)non ha figlio\n",
      "flags: 100663360 posizione originale:5040 2960\n",
      "65535\n",
      "4\n",
      "b'@\\x00\\x00\\x06'\n",
      "64\n",
      "0\n",
      "0\n",
      "6\n",
      "Tipo:84\n",
      "Posizione:(43,7)\n",
      "Dimensioni:(6,1)non ha figlio\n",
      "flags: 100663360 posizione originale:7040 1200\n",
      "65535\n",
      "5\n",
      "b'@\\x00\\x00\\x06'\n",
      "64\n",
      "0\n",
      "0\n",
      "6\n",
      "Tipo:84\n",
      "Posizione:(32,9)\n",
      "Dimensioni:(5,1)non ha figlio\n",
      "flags: 100663360 posizione originale:5200 1520\n",
      "65535\n",
      "17\n",
      "b'@\\x00\\x00\\x06'\n",
      "64\n",
      "0\n",
      "0\n",
      "6\n",
      "Tipo:84\n",
      "Posizione:(25,23)\n",
      "Dimensioni:(5,1)non ha figlio\n",
      "flags: 100663360 posizione originale:4080 3760\n",
      "65535\n",
      "18\n",
      "b'@\\x00\\x00\\x06'\n",
      "64\n",
      "0\n",
      "0\n",
      "6\n"
     ]
    }
   ],
   "source": [
    "for o in testM.mainLevelArea.objects:\n",
    "    if o.objectType == 84:\n",
    "        print(o)\n",
    "        print(o.linkID)\n",
    "        print(o.extendedData)\n",
    "        print(o.objectFlags.to_bytes(4, 'little'))\n",
    "        print(o.objectFlags.to_bytes(4, 'little')[0])\n",
    "        print(o.objectFlags.to_bytes(4, 'little')[1])\n",
    "        print(o.objectFlags.to_bytes(4, 'little')[2])\n",
    "        print(o.objectFlags.to_bytes(4, 'little')[3])"
   ]
  },
  {
   "cell_type": "code",
   "execution_count": 44,
   "metadata": {},
   "outputs": [
    {
     "name": "stdout",
     "output_type": "stream",
     "text": [
      "0\n"
     ]
    },
    {
     "data": {
      "text/plain": [
       "0"
      ]
     },
     "execution_count": 44,
     "metadata": {},
     "output_type": "execute_result"
    }
   ],
   "source": [
    "asd = 100663296       \n",
    "a = asd.to_bytes(4, 'little')\n",
    "print(a[0])\n",
    "val = ((a[0]<<1) >> 6) & 3\n",
    "val<<5"
   ]
  },
  {
   "cell_type": "code",
   "execution_count": 83,
   "metadata": {},
   "outputs": [
    {
     "data": {
      "text/plain": [
       "0"
      ]
     },
     "execution_count": 83,
     "metadata": {},
     "output_type": "execute_result"
    }
   ],
   "source": [
    "32&6"
   ]
  },
  {
   "cell_type": "code",
   "execution_count": 78,
   "metadata": {},
   "outputs": [
    {
     "data": {
      "text/plain": [
       "True"
      ]
     },
     "execution_count": 78,
     "metadata": {},
     "output_type": "execute_result"
    }
   ],
   "source": [
    "x = 3\n",
    "#Check if the 1st bit is set:\n",
    "x&1 != 0\n",
    "#Returns True\n",
    "\n",
    "#Check if the 2nd bit is set:\n",
    "x&2 != 0\n",
    "#Returns True\n",
    "\n",
    "#Check if the 3rd bit is set:\n",
    "x&4 != 0\n",
    "#Returns False"
   ]
  },
  {
   "cell_type": "code",
   "execution_count": 86,
   "metadata": {},
   "outputs": [
    {
     "data": {
      "text/plain": [
       "32"
      ]
     },
     "execution_count": 86,
     "metadata": {},
     "output_type": "execute_result"
    }
   ],
   "source": [
    "48&32"
   ]
  },
  {
   "cell_type": "code",
   "execution_count": 125,
   "metadata": {},
   "outputs": [],
   "source": [
    "x = 100728896     "
   ]
  },
  {
   "cell_type": "code",
   "execution_count": 155,
   "metadata": {},
   "outputs": [
    {
     "data": {
      "text/plain": [
       "True"
      ]
     },
     "execution_count": 155,
     "metadata": {},
     "output_type": "execute_result"
    }
   ],
   "source": [
    "x.to_bytes(4, 'little')[1] & 4 != 0"
   ]
  },
  {
   "cell_type": "code",
   "execution_count": 114,
   "metadata": {},
   "outputs": [
    {
     "name": "stdout",
     "output_type": "stream",
     "text": [
      "70\n",
      "68\n",
      "0\n",
      "6\n"
     ]
    }
   ],
   "source": [
    "print(x.to_bytes(4, 'little')[0])\n",
    "print(x.to_bytes(4, 'little')[1])\n",
    "print(x.to_bytes(4, 'little')[2])\n",
    "print(x.to_bytes(4, 'little')[3])"
   ]
  },
  {
   "cell_type": "code",
   "execution_count": 126,
   "metadata": {},
   "outputs": [
    {
     "data": {
      "text/plain": [
       "True"
      ]
     },
     "execution_count": 126,
     "metadata": {},
     "output_type": "execute_result"
    }
   ],
   "source": [
    "x.to_bytes(4, 'little')[2] & 1 != 0"
   ]
  },
  {
   "cell_type": "code",
   "execution_count": null,
   "metadata": {},
   "outputs": [],
   "source": []
  }
 ],
 "metadata": {
  "kernelspec": {
   "display_name": "Python 3",
   "language": "python",
   "name": "python3"
  },
  "language_info": {
   "codemirror_mode": {
    "name": "ipython",
    "version": 3
   },
   "file_extension": ".py",
   "mimetype": "text/x-python",
   "name": "python",
   "nbconvert_exporter": "python",
   "pygments_lexer": "ipython3",
   "version": "3.7.3"
  }
 },
 "nbformat": 4,
 "nbformat_minor": 2
}
