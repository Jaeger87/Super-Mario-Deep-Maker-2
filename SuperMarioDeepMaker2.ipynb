{
 "cells": [
  {
   "cell_type": "code",
   "execution_count": 32,
   "metadata": {},
   "outputs": [],
   "source": [
    "import zipfile\n",
    "import tarfile\n",
    "\n",
    "from os import listdir\n",
    "from os.path import isfile, join\n",
    "from pathlib import Path\n",
    "\n",
    "from abc import ABC, abstractmethod\n",
    "\n",
    "\n",
    "import random\n",
    "from tqdm import tqdm"
   ]
  },
  {
   "cell_type": "code",
   "execution_count": 2,
   "metadata": {},
   "outputs": [],
   "source": [
    "def instanceAllObjects(className, bytesArray, count, size):\n",
    "    instanceList = []\n",
    "    startByte = 0\n",
    "    constructor = globals()[className]\n",
    "    for o in range(0, count):\n",
    "        instance = constructor(bytesArray[startByte:startByte + size])\n",
    "        startByte += size\n",
    "        instanceList.append(instance)\n",
    "    return instanceList"
   ]
  },
  {
   "cell_type": "code",
   "execution_count": 3,
   "metadata": {},
   "outputs": [],
   "source": [
    "def addZeros(bytesArray, finalSize):\n",
    "    if(len(bytesArray) < finalSize):\n",
    "        missingBytes = finalSize - len(bytesArray)\n",
    "        zero = 0\n",
    "        zeroByte = zero.to_bytes(1, 'little')\n",
    "        bytesArray = bytesArray + (zeroByte * missingBytes)\n",
    "    return bytesArray  "
   ]
  },
  {
   "cell_type": "code",
   "execution_count": 4,
   "metadata": {},
   "outputs": [],
   "source": [
    "def fromListToBytes(objects, finalSize):\n",
    "    objectsBytes =  bytearray()\n",
    "    if len(objects) > 0:\n",
    "        objectsBytesLists = list(map(lambda o: o.toBytes(), objects))\n",
    "        objectsBytes = objectsBytesLists[0]\n",
    "        for ob in objectsBytesLists[1:]:\n",
    "            objectsBytes += ob\n",
    "    return addZeros(objectsBytes, finalSize)    \n",
    "    "
   ]
  },
  {
   "cell_type": "code",
   "execution_count": 5,
   "metadata": {},
   "outputs": [],
   "source": [
    "class ObjectBytes(ABC):\n",
    "    @abstractmethod\n",
    "    def toBytes(self):\n",
    "        pass"
   ]
  },
  {
   "cell_type": "code",
   "execution_count": 6,
   "metadata": {},
   "outputs": [],
   "source": [
    "class GameObject(ObjectBytes):\n",
    "    def __init__(self, objectBytes):\n",
    "        self.xPosition = int.from_bytes(objectBytes[:4],\"little\", signed = False)\n",
    "        self.yPosition = int.from_bytes(objectBytes[4:8],\"little\", signed = False)\n",
    "        self.padding = int.from_bytes(objectBytes[8:10],\"little\", signed = False)\n",
    "        self.objectWidth = objectBytes[10]\n",
    "        self.objectHeight = objectBytes[11]\n",
    "        self.objectFlags = int.from_bytes(objectBytes[12:16],\"little\", signed = False)\n",
    "        self.childObjectFlags = int.from_bytes(objectBytes[16:20],\"little\", signed = False)\n",
    "        self.extendedData = int.from_bytes(objectBytes[20:24],\"little\", signed = False)\n",
    "        self.objectType = int.from_bytes(objectBytes[24:26],\"little\", signed = False)\n",
    "        self.childObjectType = int.from_bytes(objectBytes[26:28],\"little\", signed = False)\n",
    "        self.linkID = int.from_bytes(objectBytes[28:30],\"little\", signed = False)\n",
    "        self.soundEffect = int.from_bytes(objectBytes[30:32],\"little\", signed = False)\n",
    "    \n",
    "    def toBytes(self):\n",
    "        xBytes = self.xPosition.to_bytes(4, 'little')\n",
    "        yBytes = self.yPosition.to_bytes(4, 'little')\n",
    "        padding = self.padding.to_bytes(2, 'little')\n",
    "        width = self.objectWidth.to_bytes(1, 'little')\n",
    "        height = self.objectHeight.to_bytes(1, 'little')\n",
    "        flags = self.objectFlags.to_bytes(4, 'little')\n",
    "        childObjectFlags = self.childObjectFlags.to_bytes(4, 'little')\n",
    "        extendedData = self.extendedData.to_bytes(4, 'little')\n",
    "        objectType = self.objectType.to_bytes(2, 'little')\n",
    "        childObjectType = self.childObjectType.to_bytes(2, 'little')\n",
    "        linkID = self.linkID.to_bytes(2, 'little')\n",
    "        soundEffect = self.soundEffect.to_bytes(2, 'little')\n",
    "        return xBytes + yBytes + padding + width + height + flags + childObjectFlags + extendedData + objectType + childObjectType + linkID + soundEffect"
   ]
  },
  {
   "cell_type": "code",
   "execution_count": 7,
   "metadata": {},
   "outputs": [],
   "source": [
    "class FreestandingSoundEffect(ObjectBytes):\n",
    "    def __init__(self, soundBytes):\n",
    "        self.effectType = soundBytes[0]\n",
    "        self.xPosition = soundBytes[1]\n",
    "        self.yPosition = soundBytes[2]\n",
    "        self.padding = soundBytes[3]\n",
    "        \n",
    "    def toBytes(self):\n",
    "        effectType = self.effectType.to_bytes(1, 'little')\n",
    "        xPosition = self.xPosition.to_bytes(1, 'little')\n",
    "        yPosition = self.yPosition.to_bytes(1, 'little')\n",
    "        padding = self.padding.to_bytes(1, 'little')\n",
    "        return effectType + xPosition + yPosition + padding"
   ]
  },
  {
   "cell_type": "code",
   "execution_count": 8,
   "metadata": {},
   "outputs": [],
   "source": [
    "class SnakeNode(ObjectBytes):\n",
    "    def __init__(self, snakeNodeBytes):\n",
    "        self.index = int.from_bytes(snakeNodeBytes[:2],\"little\", signed = False) #parte da zero\n",
    "        self.direction = int.from_bytes(snakeNodeBytes[2:4],\"little\", signed = False)\n",
    "        self.always100 = int.from_bytes(snakeNodeBytes[4:6],\"little\", signed = False)\n",
    "        self.padding = int.from_bytes(snakeNodeBytes[6:8],\"little\", signed = False) \n",
    "        \n",
    "    def toBytes(self):\n",
    "        index = self.index.to_bytes(2, 'little')\n",
    "        direction = self.direction.to_bytes(2, 'little')\n",
    "        always100 = self.always100.to_bytes(2, 'little')\n",
    "        padding = self.padding.to_bytes(2, 'little')\n",
    "        return index + direction + always100 + padding"
   ]
  },
  {
   "cell_type": "code",
   "execution_count": 9,
   "metadata": {},
   "outputs": [],
   "source": [
    "class SnakeBlockTrack(ObjectBytes):\n",
    "    def __init__(self, snakeBytes):\n",
    "        self.linkID = snakeBytes[0] #sarà 0 1 2 3 4?\n",
    "        self.nodeCount = snakeBytes[1]\n",
    "        self.always1 = snakeBytes[2]\n",
    "        self.padding = snakeBytes[3]\n",
    "        self.snakeNodes = instanceAllObjects('SnakeNode', snakeBytes[4:], self.nodeCount, 8)\n",
    "        \n",
    "    def toBytes(self):\n",
    "        linkID = self.linkID.to_bytes(1, 'little')\n",
    "        nodeCount = self.nodeCount.to_bytes(1, 'little')\n",
    "        always1 = self.always1.to_bytes(1, 'little')\n",
    "        padding = self.padding.to_bytes(1, 'little')\n",
    "        snakeNodes = fromListToBytes(self.snakeNodes, 960)\n",
    "        return linkID + nodeCount + always1 + padding + snakeNodes  "
   ]
  },
  {
   "cell_type": "code",
   "execution_count": 10,
   "metadata": {},
   "outputs": [],
   "source": [
    "class ClearPipeNode(ObjectBytes):\n",
    "    def __init__(self, clearPipeNodesBytes):\n",
    "        self.unknownDirection = clearPipeNodesBytes[0]\n",
    "        self.index = clearPipeNodesBytes[1]\n",
    "        self.unKnowCoordinates = clearPipeNodesBytes[2]\n",
    "        self.unKnowCoordinates2 = clearPipeNodesBytes[3]\n",
    "        self.always2 = clearPipeNodesBytes[4]\n",
    "        self.unknown = clearPipeNodesBytes[5] \n",
    "        self.always1 = clearPipeNodesBytes[6]\n",
    "        self.unknown0123 = clearPipeNodesBytes[7]\n",
    "        \n",
    "    def toBytes(self):\n",
    "        unknownDirection = self.unknownDirection.to_bytes(1, 'little')\n",
    "        index = self.index.to_bytes(1, 'little')\n",
    "        unKnowCoordinates = self.unKnowCoordinates.to_bytes(1, 'little')\n",
    "        unKnowCoordinates2 = self.unKnowCoordinates2.to_bytes(1, 'little')\n",
    "        always2 = self.always2.to_bytes(1, 'little')\n",
    "        unknown = self.unknown.to_bytes(1, 'little')\n",
    "        always1 = self.always1.to_bytes(1, 'little')\n",
    "        unknown0123 = self.unknown0123.to_bytes(1, 'little')\n",
    "        return unknownDirection + index + unKnowCoordinates + unKnowCoordinates2 + always2 + unknown + always1 + unknown0123"
   ]
  },
  {
   "cell_type": "code",
   "execution_count": 11,
   "metadata": {},
   "outputs": [],
   "source": [
    "class ClearPipe(ObjectBytes):\n",
    "    def __init__(self, clearPipeBytes):\n",
    "        self.linkID = clearPipeBytes[0]\n",
    "        self.nodeCount = clearPipeBytes[1]\n",
    "        self.always1 = clearPipeBytes[2]\n",
    "        self.padding = clearPipeBytes[3]\n",
    "        self.clearPipeNodes = instanceAllObjects('ClearPipeNode', clearPipeBytes[4:], self.nodeCount, 8)\n",
    "        \n",
    "    def toBytes(self):\n",
    "        linkID = self.linkID.to_bytes(1, 'little')\n",
    "        nodeCount = self.nodeCount.to_bytes(1, 'little')\n",
    "        always1 = self.always1.to_bytes(1, 'little')\n",
    "        padding = self.padding.to_bytes(1, 'little')\n",
    "        clearPipeNodes = fromListToBytes(self.clearPipeNodes, 288)\n",
    "        return linkID + nodeCount + always1 + padding + clearPipeNodes  "
   ]
  },
  {
   "cell_type": "code",
   "execution_count": 12,
   "metadata": {},
   "outputs": [],
   "source": [
    "class PiranhaCreeperNode(ObjectBytes):\n",
    "    def __init__(self, piranhaCreeperNodeBytes):\n",
    "        self.always1 = piranhaCreeperNodeBytes[0] \n",
    "        self.direction = piranhaCreeperNodeBytes[1]\n",
    "        self.always0_1 = piranhaCreeperNodeBytes[2]\n",
    "        self.always0_2 = piranhaCreeperNodeBytes[3]\n",
    "        \n",
    "    def toBytes(self):\n",
    "        always1 = self.always1.to_bytes(1, 'little')\n",
    "        direction = self.direction.to_bytes(1, 'little')\n",
    "        always0_1 = self.always0_1.to_bytes(1, 'little')\n",
    "        always0_2 = self.always0_2.to_bytes(1, 'little')\n",
    "        return always1 + direction + always0_1 + always0_2"
   ]
  },
  {
   "cell_type": "code",
   "execution_count": 13,
   "metadata": {},
   "outputs": [],
   "source": [
    "class PiranhaCreeperTrack(ObjectBytes):\n",
    "    def __init__(self, piranhaCreeperTrackBytes):\n",
    "        self.always1 = piranhaCreeperTrackBytes[0] \n",
    "        self.linkID = piranhaCreeperTrackBytes[1]\n",
    "        self.nodeCount = piranhaCreeperTrackBytes[2]\n",
    "        self.padding = piranhaCreeperTrackBytes[3]\n",
    "        self.piranhaCreeperNodes = instanceAllObjects('PiranhaCreeperNode', piranhaCreeperTrackBytes[4:], self.nodeCount, 4)\n",
    "        \n",
    "    def toBytes(self):\n",
    "        always1 = self.always1.to_bytes(1, 'little')\n",
    "        linkID = self.linkID.to_bytes(1, 'little')\n",
    "        nodeCount = self.nodeCount.to_bytes(1, 'little')\n",
    "        padding = self.padding.to_bytes(1, 'little')\n",
    "        piranhaCreeperNodes = fromListToBytes(self.piranhaCreeperNodes, 80)\n",
    "        return always1 + linkID + nodeCount + padding + piranhaCreeperNodes  "
   ]
  },
  {
   "cell_type": "code",
   "execution_count": 14,
   "metadata": {},
   "outputs": [],
   "source": [
    "class ExpandingBlockNode(ObjectBytes):\n",
    "    def __init__(self, expandingBlockNodeBytes):\n",
    "        self.always1 = expandingBlockNodeBytes[0] \n",
    "        self.direction = expandingBlockNodeBytes[1]\n",
    "        self.padding = expandingBlockNodeBytes[2:4] \n",
    "        \n",
    "    def toBytes(self):\n",
    "        always1 = self.always1.to_bytes(1, 'little')\n",
    "        direction = self.direction.to_bytes(1, 'little')\n",
    "        return always1 + direction + self.padding  "
   ]
  },
  {
   "cell_type": "code",
   "execution_count": 15,
   "metadata": {},
   "outputs": [],
   "source": [
    "class ExpandingBlockTrack(ObjectBytes):\n",
    "    def __init__(self, expandingBlockTrackBytes):\n",
    "        self.always1 = expandingBlockTrackBytes[0] \n",
    "        self.linkID = expandingBlockTrackBytes[1]\n",
    "        self.nodeCount = expandingBlockTrackBytes[2]\n",
    "        self.padding = expandingBlockTrackBytes[3]    \n",
    "        self.expandingBlockNodes = instanceAllObjects('ExpandingBlockNode', expandingBlockTrackBytes[4:], self.nodeCount, 4)\n",
    "        \n",
    "    def toBytes(self):\n",
    "        always1 = self.always1.to_bytes(1, 'little')\n",
    "        linkID = self.linkID.to_bytes(1, 'little')\n",
    "        nodeCount = self.nodeCount.to_bytes(1, 'little')\n",
    "        padding = self.padding.to_bytes(1, 'little')\n",
    "        expandingBlockNodes = fromListToBytes(self.expandingBlockNodes, 40)\n",
    "        return always1 + linkID + nodeCount + padding + expandingBlockNodes      "
   ]
  },
  {
   "cell_type": "code",
   "execution_count": 16,
   "metadata": {},
   "outputs": [],
   "source": [
    "class TrackBlockNode(ObjectBytes):\n",
    "    def __init__(self, trackBlockNodeBytes):\n",
    "        self.always1 = trackBlockNodeBytes[0]\n",
    "        self.direction = trackBlockNodeBytes[1]\n",
    "        self.padding = trackBlockNodeBytes[2:4]\n",
    "        \n",
    "    def toBytes(self):\n",
    "        always1 = self.always1.to_bytes(1, 'little')\n",
    "        direction = self.direction.to_bytes(1, 'little')\n",
    "        return always1 + direction + self.padding "
   ]
  },
  {
   "cell_type": "code",
   "execution_count": 17,
   "metadata": {},
   "outputs": [],
   "source": [
    "class TrackBlockTrack(ObjectBytes):\n",
    "    def __init__(self, trackBlockTrackBytes):\n",
    "        self.always1 = trackBlockTrackBytes[0] \n",
    "        self.linkID = trackBlockTrackBytes[1]\n",
    "        self.nodeCount = trackBlockTrackBytes[2]\n",
    "        self.padding = trackBlockTrackBytes[3]  \n",
    "        self.trackBlockNodes = instanceAllObjects('TrackBlockNode', trackBlockTrackBytes[4:], self.nodeCount, 4)\n",
    "        \n",
    "    def toBytes(self):\n",
    "        always1 = self.always1.to_bytes(1, 'little')\n",
    "        linkID = self.linkID.to_bytes(1, 'little')\n",
    "        nodeCount = self.nodeCount.to_bytes(1, 'little')\n",
    "        padding = self.padding.to_bytes(1, 'little')\n",
    "        trackBlockNodes = fromListToBytes(self.trackBlockNodes, 40)\n",
    "        return always1 + linkID + nodeCount + padding + trackBlockNodes  "
   ]
  },
  {
   "cell_type": "code",
   "execution_count": 18,
   "metadata": {},
   "outputs": [],
   "source": [
    "class Tile(ObjectBytes):\n",
    "    def __init__(self, tileBytes):\n",
    "        self.xPosition = tileBytes[0]\n",
    "        self.yPosition = tileBytes[1]\n",
    "        self.tileID = tileBytes[2] \n",
    "        self.backgroundObjectID = tileBytes[3]\n",
    "        \n",
    "    def toBytes(self):\n",
    "        xPosition = self.xPosition.to_bytes(1, 'little')\n",
    "        yPosition = self.yPosition.to_bytes(1, 'little')\n",
    "        tileID = self.tileID.to_bytes(1, 'little')\n",
    "        backgroundObjectID = self.backgroundObjectID.to_bytes(1, 'little')\n",
    "        return xPosition + yPosition + tileID + backgroundObjectID     "
   ]
  },
  {
   "cell_type": "code",
   "execution_count": 19,
   "metadata": {},
   "outputs": [],
   "source": [
    "class Rail(ObjectBytes):\n",
    "    def __init__(self, railBytes):\n",
    "        self.padding = int.from_bytes(railBytes[:2],\"little\", signed = False) \n",
    "        self.hasObject = railBytes[2]\n",
    "        self.xPosition = railBytes[3]\n",
    "        self.yPosition = railBytes[4]\n",
    "        self.trackType = railBytes[5]\n",
    "        self.index = int.from_bytes(railBytes[6:8],\"little\", signed = False) \n",
    "        self.unknown2 = int.from_bytes(railBytes[8:10],\"little\", signed = False) \n",
    "        self.unknown3 = int.from_bytes(railBytes[10:12],\"little\", signed = False) \n",
    "    def toBytes(self):\n",
    "        padding = self.padding.to_bytes(2, 'little')\n",
    "        hasObject = self.hasObject.to_bytes(1, 'little')\n",
    "        xPosition = self.xPosition.to_bytes(1, 'little')\n",
    "        yPosition = self.yPosition.to_bytes(1, 'little')\n",
    "        trackType = self.trackType.to_bytes(1, 'little')\n",
    "        index = self.index.to_bytes(2, 'little')\n",
    "        unknown2 = self.unknown2.to_bytes(2, 'little')\n",
    "        unknown3 = self.unknown3.to_bytes(2, 'little')\n",
    "        return padding + hasObject + xPosition + yPosition + trackType + index + unknown2 + unknown3"
   ]
  },
  {
   "cell_type": "code",
   "execution_count": 20,
   "metadata": {},
   "outputs": [],
   "source": [
    "class Icicle(ObjectBytes):\n",
    "    def __init__(self, icicleBytes):\n",
    "        self.xPosition = icicleBytes[0]\n",
    "        self.yPosition = icicleBytes[1]\n",
    "        self.typeIcicle = icicleBytes[2]\n",
    "        self.padding = icicleBytes[3]\n",
    "    def toBytes(self):\n",
    "        xPosition = self.xPosition.to_bytes(1, 'little')\n",
    "        yPosition = self.yPosition.to_bytes(1, 'little')\n",
    "        typeIcicle = self.typeIcicle.to_bytes(1, 'little')\n",
    "        padding = self.padding.to_bytes(1, 'little')\n",
    "        return xPosition + yPosition + typeIcicle + padding"
   ]
  },
  {
   "cell_type": "code",
   "execution_count": 21,
   "metadata": {},
   "outputs": [],
   "source": [
    "class LevelArea(ObjectBytes):\n",
    "    def __init__(self, levelBytes):\n",
    "        self.courseTheme = levelBytes[0]\n",
    "        self.autoScrollType = levelBytes[1]\n",
    "        self.screenBoundaryFlags = levelBytes[2]\n",
    "        self.levelHorientation = levelBytes[3]\n",
    "        self.lavaWaterHeight = levelBytes[4]\n",
    "        self.lavaWaterMode = levelBytes[5]\n",
    "        self.lavaWaterSpeed = levelBytes[6]\n",
    "        self.minimunLavaWaterHeight = levelBytes[7]\n",
    "        self.rightBoundary = int.from_bytes(levelBytes[8:12],\"little\", signed = False)\n",
    "        self.topBoundary = int.from_bytes(levelBytes[12:16],\"little\", signed = False)\n",
    "        self.leftBoundary = int.from_bytes(levelBytes[16:20],\"little\", signed = False)\n",
    "        self.bottomBoundary = int.from_bytes(levelBytes[20:24],\"little\", signed = False)\n",
    "        self.areaFlags = int.from_bytes(levelBytes[24:28],\"little\", signed = False)\n",
    "        self.objectCount = int.from_bytes(levelBytes[28:32],\"little\", signed = False)\n",
    "        self.freeStandingSoundEffectCount = int.from_bytes(levelBytes[32:36],\"little\", signed = False)\n",
    "        self.snakeBlockCount = int.from_bytes(levelBytes[36:40],\"little\", signed = False)\n",
    "        self.clearPipeCount = int.from_bytes(levelBytes[40:44],\"little\", signed = False)\n",
    "        self.piranhaCreeperCount = int.from_bytes(levelBytes[44:48],\"little\", signed = False)\n",
    "        self.expandingBlockCount = int.from_bytes(levelBytes[48:52],\"little\", signed = False)\n",
    "        self.trackBlockCount = int.from_bytes(levelBytes[52:56],\"little\", signed = False)\n",
    "        self.alwaysZero = int.from_bytes(levelBytes[56:60],\"little\", signed = False)\n",
    "        self.tileCount = int.from_bytes(levelBytes[60:64],\"little\", signed = False)\n",
    "        self.railCount = int.from_bytes(levelBytes[64:68],\"little\", signed = False)\n",
    "        self.icicleCount = int.from_bytes(levelBytes[68:72],\"little\", signed = False)\n",
    "        \n",
    "        \n",
    "        \n",
    "        objectsBytes = levelBytes[72:83272]\n",
    "        self.objects = instanceAllObjects('GameObject', objectsBytes, self.objectCount, 32)\n",
    "        \n",
    "        \n",
    "        soundEffectsBytes = levelBytes[83272:84472]\n",
    "        self.soundEffects = instanceAllObjects('FreestandingSoundEffect', soundEffectsBytes, self.freeStandingSoundEffectCount, 4)\n",
    "        \n",
    "        \n",
    "        snakesBytes = levelBytes[84472:89292]\n",
    "        self.snakes = instanceAllObjects('SnakeBlockTrack', snakesBytes, self.snakeBlockCount, 964)\n",
    "        \n",
    "        \n",
    "        clearPipeBytes = levelBytes[89292:147692]\n",
    "        self.clearPipes = instanceAllObjects('ClearPipe', clearPipeBytes, self.clearPipeCount, 292)\n",
    "        \n",
    "        creeperBytes = levelBytes[147692:148532]\n",
    "        self.creepers = instanceAllObjects('PiranhaCreeperTrack', creeperBytes, self.piranhaCreeperCount, 84)\n",
    "        \n",
    "        expandingBlockBytes = levelBytes[148532:148972]\n",
    "        self.expandingBlocks = instanceAllObjects('ExpandingBlockTrack', expandingBlockBytes, self.expandingBlockCount, 44)\n",
    "        \n",
    "        trackBlockBytes = levelBytes[148972:149412]\n",
    "        self.trackBlocks = instanceAllObjects('TrackBlockTrack', trackBlockBytes, self.trackBlockCount, 44)\n",
    "        \n",
    "        tilesBytes = levelBytes[149412:165412]\n",
    "        self.tiles = instanceAllObjects('Tile', tilesBytes, self.tileCount, 4)\n",
    "        \n",
    "        railBytes = levelBytes[165412:183412]\n",
    "        self.rails = instanceAllObjects('Rail', railBytes, self.railCount, 12)\n",
    "        \n",
    "        iCicleBytes = levelBytes[183412:184612]\n",
    "        self.icicles = instanceAllObjects('Icicle', iCicleBytes, self.icicleCount, 4)\n",
    "        \n",
    "    def toBytes(self):\n",
    "        courseTheme = self.courseTheme.to_bytes(1, 'little')\n",
    "        autoScrollType = self.autoScrollType.to_bytes(1, 'little')\n",
    "        screenBoundaryFlags = self.screenBoundaryFlags.to_bytes(1, 'little')\n",
    "        levelHorientation = self.levelHorientation.to_bytes(1, 'little')\n",
    "        lavaWaterHeight = self.lavaWaterHeight.to_bytes(1, 'little')\n",
    "        lavaWaterMode = self.lavaWaterMode.to_bytes(1, 'little')\n",
    "        lavaWaterSpeed = self.lavaWaterSpeed.to_bytes(1, 'little')\n",
    "        minimunLavaWaterHeight = self.minimunLavaWaterHeight.to_bytes(1, 'little')\n",
    "        rightBoundary = self.rightBoundary.to_bytes(4, 'little')\n",
    "        topBoundary = self.topBoundary.to_bytes(4, 'little')\n",
    "        leftBoundary = self.leftBoundary.to_bytes(4, 'little')\n",
    "        rightBoundary = self.rightBoundary.to_bytes(4, 'little')\n",
    "        bottomBoundary = self.bottomBoundary.to_bytes(4, 'little')\n",
    "        areaFlags = self.areaFlags.to_bytes(4, 'little')\n",
    "        objectCount = self.objectCount.to_bytes(4, 'little')\n",
    "        freeStandingSoundEffectCount = self.freeStandingSoundEffectCount.to_bytes(4, 'little')\n",
    "        snakeBlockCount = self.snakeBlockCount.to_bytes(4, 'little')\n",
    "        clearPipeCount = self.clearPipeCount.to_bytes(4, 'little')\n",
    "        piranhaCreeperCount = self.piranhaCreeperCount.to_bytes(4, 'little')\n",
    "        expandingBlockCount = self.expandingBlockCount.to_bytes(4, 'little')\n",
    "        trackBlockCount = self.trackBlockCount.to_bytes(4, 'little')\n",
    "        alwaysZero = self.alwaysZero.to_bytes(4, 'little')\n",
    "        tileCount = self.tileCount.to_bytes(4, 'little')\n",
    "        railCount = self.railCount.to_bytes(4, 'little')\n",
    "        icicleCount = self.icicleCount.to_bytes(4, 'little')\n",
    "        returnBytes = courseTheme + autoScrollType + screenBoundaryFlags + levelHorientation + lavaWaterHeight + lavaWaterMode + lavaWaterSpeed + minimunLavaWaterHeight  \\\n",
    "               + rightBoundary + topBoundary + leftBoundary + bottomBoundary + areaFlags + objectCount + freeStandingSoundEffectCount + snakeBlockCount + clearPipeCount \\\n",
    "               + piranhaCreeperCount + expandingBlockCount + trackBlockCount + alwaysZero + tileCount + railCount + icicleCount\n",
    "        objectsBytes = fromListToBytes(self.objects, 83200)\n",
    "        soundEffectsBytes = fromListToBytes(self.soundEffects, 1200)\n",
    "        snakesBytes = fromListToBytes(self.snakes, 4820)\n",
    "        clearPipeBytes = fromListToBytes(self.clearPipes, 58400)\n",
    "        creeperBytes = fromListToBytes(self.creepers, 840)\n",
    "        expandingBlockBytes = fromListToBytes(self.expandingBlocks, 440)\n",
    "        trackBlockBytes = fromListToBytes(self.trackBlocks, 440)\n",
    "        tilesBytes = fromListToBytes(self.tiles, 16000)\n",
    "        railBytes = fromListToBytes(self.rails, 18000)\n",
    "        iCicleBytes = fromListToBytes(self.icicles, 1200)\n",
    "        return returnBytes +  objectsBytes + soundEffectsBytes + snakesBytes + clearPipeBytes + creeperBytes + expandingBlockBytes + trackBlockBytes + tilesBytes + railBytes + iCicleBytes\n",
    "        "
   ]
  },
  {
   "cell_type": "code",
   "execution_count": 22,
   "metadata": {},
   "outputs": [],
   "source": [
    "class Header(ObjectBytes):\n",
    "    def __init__(self, headerBytes):\n",
    "        self.startY = headerBytes[0]\n",
    "        self.endY = headerBytes[1]\n",
    "        self.goalXx100 = int.from_bytes(headerBytes[2:4],\"little\", signed = False)\n",
    "        self.timeLimit = int.from_bytes(headerBytes[4:6],\"little\", signed = False)\n",
    "        self.targetAmountClearCondition = int.from_bytes(headerBytes[6:8],\"little\", signed = False)\n",
    "        self.year = int.from_bytes(headerBytes[8:10],\"little\", signed = False)\n",
    "        self.month = headerBytes[10]\n",
    "        self.day = headerBytes[11]\n",
    "        self.hour = headerBytes[12]\n",
    "        self.minute = headerBytes[13]\n",
    "        self.customAutoscrollSpeed = headerBytes[14]\n",
    "        self.clearConditionType = headerBytes[15]\n",
    "        self.clearConditionObject = int.from_bytes(headerBytes[16:20],\"little\", signed = False)\n",
    "        self.gameVersion = int.from_bytes(headerBytes[20:24],\"little\", signed = False)\n",
    "        self.levelFlags = int.from_bytes(headerBytes[24:28],\"little\", signed = False)\n",
    "        self.clearCheckTries = int.from_bytes(headerBytes[28:32],\"little\", signed = False)\n",
    "        self.clearCheckTime = int.from_bytes(headerBytes[32:36],\"little\", signed = False)\n",
    "        self.creationID = int.from_bytes(headerBytes[36:40],\"little\", signed = False)\n",
    "        self.uploadID = headerBytes[40:48]\n",
    "        self.gameVersionCheck = headerBytes[48:52]\n",
    "        self.padding = headerBytes[52:240]\n",
    "        self.unknow2 = headerBytes[240]\n",
    "        self.gameStyle = headerBytes[241:244]\n",
    "        self.courseName = headerBytes[244:310]#wchar16\n",
    "        self.courseDescription = headerBytes[310:512]\n",
    "        \n",
    "    def toBytes(self):\n",
    "        startY = self.startY.to_bytes(1, 'little')\n",
    "        endY = self.endY.to_bytes(1, 'little')\n",
    "        goalXx100 = self.goalXx100.to_bytes(2, 'little')\n",
    "        timeLimit = self.timeLimit.to_bytes(2, 'little')\n",
    "        targetAmountClearCondition = self.targetAmountClearCondition.to_bytes(2, 'little')\n",
    "        year = self.year.to_bytes(2, 'little')\n",
    "        month = self.month.to_bytes(1, 'little')\n",
    "        day = self.day.to_bytes(1, 'little')\n",
    "        hour = self.hour.to_bytes(1, 'little')\n",
    "        minute = self.minute.to_bytes(1, 'little')   \n",
    "        customAutoscrollSpeed = self.customAutoscrollSpeed.to_bytes(1, 'little') \n",
    "        clearConditionType = self.clearConditionType.to_bytes(1, 'little') \n",
    "        clearConditionObject = self.clearConditionObject.to_bytes(4, 'little') \n",
    "        gameVersion = self.gameVersion.to_bytes(4, 'little')\n",
    "        levelFlags = self.levelFlags.to_bytes(4, 'little')\n",
    "        clearCheckTries = self.clearCheckTries.to_bytes(4, 'little')\n",
    "        clearCheckTime = self.clearCheckTime.to_bytes(4, 'little')\n",
    "        creationID = self.creationID.to_bytes(4, 'little')\n",
    "        unknow2 = self.unknow2.to_bytes(1, 'little')\n",
    "        \n",
    "        return startY + endY + goalXx100 + timeLimit + targetAmountClearCondition + year + month + day + hour + minute + customAutoscrollSpeed + clearConditionType \\\n",
    "               + clearConditionObject + gameVersion + levelFlags + clearCheckTries + clearCheckTime + creationID + self.uploadID \\\n",
    "               + self.gameVersionCheck + self.padding + unknow2 + self.gameStyle + self.courseName + self.courseDescription"
   ]
  },
  {
   "cell_type": "code",
   "execution_count": 23,
   "metadata": {},
   "outputs": [],
   "source": [
    "class MarioMaker2File(ObjectBytes):\n",
    "    def __init__(self, fileBytes):\n",
    "        self.gameVersion = fileBytes[:4]\n",
    "        self.gameVersion2 = fileBytes[4:6]\n",
    "        self.padding = fileBytes[6:8]\n",
    "        self.CRC32 = fileBytes[8:12]\n",
    "        self.SCDL = fileBytes[12:16]\n",
    "        self.header = Header(fileBytes[16:528])\n",
    "        self.mainLevelArea = LevelArea(fileBytes[528:188656])\n",
    "        self.subLevelArea = LevelArea(fileBytes[188656:376784])\n",
    "        self.cryptoCfg = fileBytes[376784:]#non ne sono sicuro\n",
    "        \n",
    "    def toBytes(self):\n",
    "        return self.gameVersion + self.gameVersion2 + self.padding + self.CRC32 + self.SCDL + addZeros(self.header.toBytes(), 512) + addZeros(self.mainLevelArea.toBytes(), 188128) + addZeros(self.subLevelArea.toBytes(), 188128) + self.cryptoCfg"
   ]
  },
  {
   "cell_type": "code",
   "execution_count": 24,
   "metadata": {},
   "outputs": [],
   "source": [
    "levelFolder = Path(\"levels/\")\n",
    "levelsDownloaded = [f for f in listdir(levelFolder) if isfile(join(levelFolder, f))]"
   ]
  },
  {
   "cell_type": "code",
   "execution_count": 25,
   "metadata": {},
   "outputs": [],
   "source": [
    "marioMakerLevels = []\n",
    "levelsFiltered = []"
   ]
  },
  {
   "cell_type": "code",
   "execution_count": 36,
   "metadata": {},
   "outputs": [],
   "source": [
    "levelsFilteredFile = Path(\"levelsFiltered.txt\")\n",
    "if levelsFilteredFile.is_file():\n",
    "    with open(levelsFilteredFile, \"r\") as f:\n",
    "        levelsFiltered = f.readlines()"
   ]
  },
  {
   "cell_type": "code",
   "execution_count": 37,
   "metadata": {},
   "outputs": [],
   "source": [
    "levelsToLoad = levelsFiltered if levelsFiltered else levelsDownloaded"
   ]
  },
  {
   "cell_type": "code",
   "execution_count": 26,
   "metadata": {},
   "outputs": [
    {
     "name": "stderr",
     "output_type": "stream",
     "text": [
      "100%|████████████████████████████████████████████████████████████████████████████| 31502/31502 [40:04<00:00, 13.10it/s]\n"
     ]
    }
   ],
   "source": [
    "for levelName in tqdm(levelsDownloaded):\n",
    "    if levelName[-4:] == '.zip':\n",
    "        archive = zipfile.ZipFile(join(levelFolder, levelName), 'r')\n",
    "        leveldata = archive.read('course_data_000.bcd')\n",
    "        archive.close()\n",
    "        with open('tools/tmp/course_data_000.bcd', 'wb') as f:\n",
    "            f.write(leveldata)\n",
    "    else:\n",
    "        archive = tarfile.open(join(levelFolder, levelName), 'r')\n",
    "        archive.extract('course_data_000.bcd', path=\"tools/tmp/\")\n",
    "        archive.close()\n",
    "    !.\\tools\\smm2dec.exe -h .\\tools\\tmp\\course_data_000.bcd .\\tools\\tmp\\course_data_dec.bcd >nul 2>&1\n",
    "    with open('tools/tmp/course_data_dec.bcd', 'rb') as f:\n",
    "        leveldata = f.read()\n",
    "    level = MarioMaker2File(leveldata)\n",
    "    if level.header.gameStyle.decode(\"utf-8\") == '3W\\x00':\n",
    "        continue\n",
    "    marioMakerLevels.append(level)\n",
    "    levelsFiltered.append(levelName)"
   ]
  },
  {
   "cell_type": "code",
   "execution_count": 34,
   "metadata": {},
   "outputs": [],
   "source": [
    "with open(\"levelsFiltered.txt\", \"w\") as outfile:\n",
    "    outfile.write(\"\\n\".join(levelsFiltered))"
   ]
  },
  {
   "cell_type": "code",
   "execution_count": null,
   "metadata": {},
   "outputs": [],
   "source": [
    "archive = zipfile.ZipFile(join(levelFolder, '007_-_bond_mario_bond__2958.zip'), 'r')\n",
    "leveldata = archive.read('course_data_000.bcd')\n",
    "archive.close()"
   ]
  },
  {
   "cell_type": "code",
   "execution_count": null,
   "metadata": {},
   "outputs": [],
   "source": [
    "len(leveldata)"
   ]
  },
  {
   "cell_type": "code",
   "execution_count": 66,
   "metadata": {},
   "outputs": [],
   "source": [
    "archive = tarfile.open(join(levelFolder, '5dc42ac200afe5b700ceb4c5.tar'), 'r')\n",
    "archive.extract('course_data_000.bcd', path=\"tools/tmp/\")\n",
    "archive.close()"
   ]
  },
  {
   "cell_type": "code",
   "execution_count": 67,
   "metadata": {},
   "outputs": [
    {
     "name": "stdout",
     "output_type": "stream",
     "text": [
      "Decrypting course .\\tools\\tmp\\course_data_000.bcd to .\\tools\\tmp\\course_data_dec.bcd...\n",
      "Done!\n"
     ]
    }
   ],
   "source": [
    "!.\\tools\\smm2dec.exe -h .\\tools\\tmp\\course_data_000.bcd .\\tools\\tmp\\course_data_dec.bcd"
   ]
  },
  {
   "cell_type": "code",
   "execution_count": 68,
   "metadata": {},
   "outputs": [],
   "source": [
    "with open('tools/tmp/course_data_dec.bcd', 'rb') as f:\n",
    "    leveldata = f.read()"
   ]
  },
  {
   "cell_type": "code",
   "execution_count": 69,
   "metadata": {},
   "outputs": [
    {
     "data": {
      "text/plain": [
       "0"
      ]
     },
     "execution_count": 69,
     "metadata": {},
     "output_type": "execute_result"
    }
   ],
   "source": [
    "leveldata[149327]"
   ]
  },
  {
   "cell_type": "code",
   "execution_count": 70,
   "metadata": {},
   "outputs": [
    {
     "data": {
      "text/plain": [
       "376832"
      ]
     },
     "execution_count": 70,
     "metadata": {},
     "output_type": "execute_result"
    }
   ],
   "source": [
    "testM = MarioMaker2File(leveldata)\n",
    "len(testM.toBytes())"
   ]
  },
  {
   "cell_type": "code",
   "execution_count": null,
   "metadata": {},
   "outputs": [],
   "source": [
    "testM.mainLevelArea.expandingBlockCount"
   ]
  },
  {
   "cell_type": "code",
   "execution_count": null,
   "metadata": {},
   "outputs": [],
   "source": [
    "testM.header.gameStyle.decode(\"utf-8\")"
   ]
  },
  {
   "cell_type": "code",
   "execution_count": null,
   "metadata": {},
   "outputs": [],
   "source": [
    "testM.header.courseName.decode(\"utf-16\")"
   ]
  },
  {
   "cell_type": "code",
   "execution_count": null,
   "metadata": {},
   "outputs": [],
   "source": [
    "a = testM.toBytes()\n",
    "print(len(a))\n",
    "for idx, b in enumerate(leveldata):\n",
    "    if a[idx] != b:\n",
    "        print('porco dio')\n",
    "        print(idx)\n",
    "        break"
   ]
  },
  {
   "cell_type": "code",
   "execution_count": null,
   "metadata": {},
   "outputs": [],
   "source": [
    "CryptoCfg"
   ]
  },
  {
   "cell_type": "code",
   "execution_count": null,
   "metadata": {},
   "outputs": [],
   "source": [
    "courseName.decode(\"utf-16\")"
   ]
  },
  {
   "cell_type": "code",
   "execution_count": null,
   "metadata": {},
   "outputs": [],
   "source": [
    "courseDescription.decode(\"utf-16\")"
   ]
  },
  {
   "cell_type": "code",
   "execution_count": null,
   "metadata": {},
   "outputs": [],
   "source": [
    "gameStyle.decode(\"utf-8\")"
   ]
  },
  {
   "cell_type": "code",
   "execution_count": 64,
   "metadata": {},
   "outputs": [
    {
     "data": {
      "text/plain": [
       "'3W'"
      ]
     },
     "execution_count": 64,
     "metadata": {},
     "output_type": "execute_result"
    }
   ],
   "source": [
    "'3W\\x00'.rstrip('\\x00')"
   ]
  },
  {
   "cell_type": "code",
   "execution_count": 72,
   "metadata": {},
   "outputs": [
    {
     "data": {
      "text/plain": [
       "True"
      ]
     },
     "execution_count": 72,
     "metadata": {},
     "output_type": "execute_result"
    }
   ],
   "source": [
    "testM.header.gameStyle.decode(\"utf-8\") == '3W\\x00'"
   ]
  },
  {
   "cell_type": "code",
   "execution_count": null,
   "metadata": {},
   "outputs": [],
   "source": []
  },
  {
   "cell_type": "code",
   "execution_count": 58,
   "metadata": {},
   "outputs": [],
   "source": [
    "sampling = random.choices(levelsDownloaded, k=100)"
   ]
  },
  {
   "cell_type": "code",
   "execution_count": 74,
   "metadata": {},
   "outputs": [
    {
     "name": "stderr",
     "output_type": "stream",
     "text": [
      "  2%|█▌                                                                            | 622/31502 [01:10<55:13,  9.32it/s]"
     ]
    },
    {
     "name": "stdout",
     "output_type": "stream",
     "text": [
      "MW\u0000\n",
      "2p coop|Love won't tear us apart\u0000\n",
      "2p_coop_love_won_t_tear_us_apart_9236.zip\n",
      "86928\n",
      "--------********\n",
      "0\n",
      "2\n"
     ]
    },
    {
     "name": "stderr",
     "output_type": "stream",
     "text": [
      "  4%|██▉                                                                        | 1243/31502 [02:19<1:03:54,  7.89it/s]"
     ]
    },
    {
     "name": "stdout",
     "output_type": "stream",
     "text": [
      "M1\u0000\n",
      "The Very Varying Tower\u0000\u0000\u0000\u0000\u0000\u0000\u0000\u0000\u0000\u0000\u0000\n",
      "5dc42655002d5b3200ceae9d.tar\n",
      "275056\n",
      "--------********\n",
      "0\n",
      "2\n"
     ]
    },
    {
     "name": "stderr",
     "output_type": "stream",
     "text": [
      "  4%|██▉                                                                        | 1245/31502 [02:20<1:00:53,  8.28it/s]"
     ]
    },
    {
     "name": "stdout",
     "output_type": "stream",
     "text": [
      "M3\u0000\n",
      "THE STALKER\u0000\u0000\u0000\u0000\u0000\u0000\u0000\u0000\u0000\u0000\u0000\u0000\u0000\u0000\u0000\u0000\u0000\u0000\u0000\u0000\u0000\u0000\n",
      "5dc42655004e218700ceaea3.tar\n",
      "86928\n",
      "--------********\n",
      "0\n",
      "2\n"
     ]
    },
    {
     "name": "stderr",
     "output_type": "stream",
     "text": [
      "  5%|███▌                                                                       | 1518/31502 [02:52<1:00:43,  8.23it/s]"
     ]
    },
    {
     "name": "stdout",
     "output_type": "stream",
     "text": [
      "M1\u0000\n",
      "The Very Varying Tower\u0000\u0000\u0000\u0000\u0000\u0000\u0000\u0000\u0000\u0000\u0000\n",
      "5dc426b60096a5db00ceafb5.tar\n",
      "275056\n",
      "--------********\n",
      "0\n",
      "2\n"
     ]
    },
    {
     "name": "stderr",
     "output_type": "stream",
     "text": [
      "  6%|████▌                                                                        | 1891/31502 [03:35<58:59,  8.37it/s]"
     ]
    },
    {
     "name": "stdout",
     "output_type": "stream",
     "text": [
      "M1\u0000\n",
      "★ Into the Galaxy ★ 銀河の中へ ★\u0000le\u0000\u0000\u0000\n",
      "5dc42744003d1a3500ceb12d.tar\n",
      "274092\n",
      "--------********\n",
      "0\n",
      "1\n"
     ]
    },
    {
     "name": "stderr",
     "output_type": "stream",
     "text": [
      "  7%|█████▌                                                                       | 2271/31502 [04:20<58:27,  8.33it/s]"
     ]
    },
    {
     "name": "stdout",
     "output_type": "stream",
     "text": [
      "WU\u0000\n",
      "One Piece - Thousand Sunny\u0000\u0000\u0000\u0000\u0000\u0000\u0000\n",
      "5dc4285a005676aa00ceb2a9.tar\n",
      "87892\n",
      "--------********\n",
      "0\n",
      "3\n"
     ]
    },
    {
     "name": "stderr",
     "output_type": "stream",
     "text": [
      "  8%|█████▊                                                                       | 2365/31502 [04:31<53:52,  9.01it/s]"
     ]
    },
    {
     "name": "stdout",
     "output_type": "stream",
     "text": [
      "M1\u0000\n",
      "Splashdown!\u0000\u0000\u0000\u0000\u0000\u0000\u0000\u0000\u0000\u0000\u0000\u0000\u0000\u0000\u0000\u0000\u0000\u0000\u0000\u0000\u0000\u0000\n",
      "5dc4289000079a5a00ceb304.tar\n",
      "276020\n",
      "--------********\n",
      "0\n",
      "3\n"
     ]
    },
    {
     "name": "stderr",
     "output_type": "stream",
     "text": [
      "  8%|██████▎                                                                      | 2596/31502 [04:58<57:07,  8.43it/s]"
     ]
    },
    {
     "name": "stdout",
     "output_type": "stream",
     "text": [
      "M1\u0000\n",
      "♪Evolution of Games♪ (80’⇒87’)\u0000\u0000\u0000\n",
      "5dc429af00e91bb000ceb3dc.tar\n",
      "85964\n",
      "--------********\n",
      "0\n",
      "1\n"
     ]
    },
    {
     "name": "stderr",
     "output_type": "stream",
     "text": [
      "  8%|██████▍                                                                      | 2633/31502 [05:03<55:48,  8.62it/s]"
     ]
    },
    {
     "name": "stdout",
     "output_type": "stream",
     "text": [
      "WU\u0000\n",
      "Trans Rights!!!!! (from fish!!)\u0000\u0000\n",
      "5dc42a3300a956c600ceb411.tar\n",
      "274092\n",
      "--------********\n",
      "0\n",
      "1\n"
     ]
    },
    {
     "name": "stderr",
     "output_type": "stream",
     "text": [
      "  9%|██████▉                                                                      | 2822/31502 [05:24<54:57,  8.70it/s]"
     ]
    },
    {
     "name": "stdout",
     "output_type": "stream",
     "text": [
      "MW\u0000\n",
      "♪Zelda OOT Shop♪\u0000\u0000\u0000\u0000\u0000\u0000\u0000\u0000\u0000\u0000\u0000\u0000\u0000\u0000\u0000\u0000\u0000\n",
      "5dc42ac3002292cc00ceb4cc.tar\n",
      "87892\n",
      "--------********\n",
      "0\n",
      "3\n"
     ]
    },
    {
     "name": "stderr",
     "output_type": "stream",
     "text": [
      "  9%|███████▎                                                                     | 2977/31502 [05:43<53:17,  8.92it/s]"
     ]
    },
    {
     "name": "stdout",
     "output_type": "stream",
     "text": [
      "MW\u0000\n",
      "A Trollo Story\u0000\u0000\u0000ry\u0000tmare\u0000ken v3\u0000\n",
      "5dc42ba800ff5dcb00ceb563.tar\n",
      "275056\n",
      "--------********\n",
      "0\n",
      "2\n"
     ]
    },
    {
     "name": "stderr",
     "output_type": "stream",
     "text": [
      " 10%|███████▉                                                                     | 3260/31502 [06:17<56:29,  8.33it/s]"
     ]
    },
    {
     "name": "stdout",
     "output_type": "stream",
     "text": [
      "MW\u0000\n",
      "A Trollo Story\u0000\u0000\u0000ry\u0000tmare\u0000ken v3\u0000\n",
      "5dc42c23007f224300ceb67d.tar\n",
      "275056\n",
      "--------********\n",
      "0\n",
      "2\n"
     ]
    },
    {
     "name": "stderr",
     "output_type": "stream",
     "text": [
      " 13%|█████████▉                                                                   | 4066/31502 [07:53<54:07,  8.45it/s]"
     ]
    },
    {
     "name": "stdout",
     "output_type": "stream",
     "text": [
      "MW\u0000\n",
      "[SDW2] 5-2 Slippery Spiky Subway\u0000\n",
      "5df811a5008dc63a00e33516.tar\n",
      "276984\n",
      "--------********\n",
      "0\n",
      "4\n"
     ]
    },
    {
     "name": "stderr",
     "output_type": "stream",
     "text": [
      " 15%|███████████▌                                                                 | 4755/31502 [09:12<53:11,  8.38it/s]"
     ]
    },
    {
     "name": "stdout",
     "output_type": "stream",
     "text": [
      "M1\u0000\n",
      "STAR RUN!!　◆◇◆◇◆　スターラン！！\u0000BEGIN.\u0000\u0000\n",
      "5ed09c46002a69f600362632.tar\n",
      "88856\n",
      "--------********\n",
      "0\n",
      "4\n"
     ]
    },
    {
     "name": "stderr",
     "output_type": "stream",
     "text": [
      " 16%|███████████▉                                                                 | 4898/31502 [09:29<54:30,  8.14it/s]"
     ]
    },
    {
     "name": "stdout",
     "output_type": "stream",
     "text": [
      "MW\u0000\n",
      "A Trollo Story (Revived)\u0000\u0000ken v3\u0000\n",
      "5ed09ca500901e9f003626b9.tar\n",
      "275056\n",
      "--------********\n",
      "0\n",
      "2\n"
     ]
    },
    {
     "name": "stderr",
     "output_type": "stream",
     "text": [
      " 16%|████████████▍                                                                | 5063/31502 [09:48<49:29,  8.90it/s]"
     ]
    },
    {
     "name": "stdout",
     "output_type": "stream",
     "text": [
      "M3\u0000\n",
      "Mysterious [?] Block\u0000\u0000\u0000\u0000\u0000\u0000\u0000\u0000\u0000\u0000\u0000\u0000\u0000\n",
      "5ed09d2700cfef0b0036275c.tar\n",
      "85964\n",
      "--------********\n",
      "0\n",
      "1\n"
     ]
    },
    {
     "name": "stderr",
     "output_type": "stream",
     "text": [
      " 16%|████████████▍                                                                | 5088/31502 [09:51<50:22,  8.74it/s]"
     ]
    },
    {
     "name": "stdout",
     "output_type": "stream",
     "text": [
      "WU\u0000\n",
      "THE CONGO - Platforms&Walljumps\u0000\u0000\n",
      "5ed09d2a003439b300362777.tar\n",
      "276984\n",
      "--------********\n",
      "0\n",
      "4\n"
     ]
    },
    {
     "name": "stderr",
     "output_type": "stream",
     "text": [
      " 16%|████████████▋                                                                | 5166/31502 [10:00<50:07,  8.76it/s]"
     ]
    },
    {
     "name": "stdout",
     "output_type": "stream",
     "text": [
      "M3\u0000\n",
      "The Treasure in the Sky\u0000\u0000\u0000\u0000\u0000\u0000\u0000\u0000\u0000\u0000\n",
      "5ed09d9900ce3412003627bd.tar\n",
      "88856\n",
      "--------********\n",
      "0\n",
      "4\n"
     ]
    },
    {
     "name": "stderr",
     "output_type": "stream",
     "text": [
      " 17%|█████████████                                                                | 5358/31502 [10:22<54:02,  8.06it/s]"
     ]
    },
    {
     "name": "stdout",
     "output_type": "stream",
     "text": [
      "M1\u0000\n",
      "The Very Varying Tower\u0000\u0000\u0000\u0000\u0000\u0000\u0000\u0000\u0000\u0000\u0000\n",
      "5ed09dc500436bc10036288a.tar\n",
      "275056\n",
      "--------********\n",
      "0\n",
      "2\n"
     ]
    },
    {
     "name": "stderr",
     "output_type": "stream",
     "text": [
      " 19%|██████████████▎                                                              | 5836/31502 [11:18<48:21,  8.84it/s]"
     ]
    },
    {
     "name": "stdout",
     "output_type": "stream",
     "text": [
      "M1\u0000\n",
      "♪Game music quiz♪ #2 \u0000 \u0000c loops]\u0000\n",
      "5ed09e1a00cebfc300362a56.tar\n",
      "86928\n",
      "--------********\n",
      "0\n",
      "2\n"
     ]
    },
    {
     "name": "stderr",
     "output_type": "stream",
     "text": [
      " 20%|███████████████▋                                                             | 6442/31502 [12:23<48:57,  8.53it/s]"
     ]
    },
    {
     "name": "stdout",
     "output_type": "stream",
     "text": [
      "M3\u0000\n",
      "Mario Joins The Army-o\u00000 s]\u0000e\u0000in\u0000\n",
      "5ed8c7ea002c4d4b00e7ec23.tar\n",
      "275056\n",
      "--------********\n",
      "0\n",
      "2\n"
     ]
    },
    {
     "name": "stderr",
     "output_type": "stream",
     "text": [
      " 21%|████████████████                                                             | 6584/31502 [12:38<41:18, 10.05it/s]"
     ]
    },
    {
     "name": "stdout",
     "output_type": "stream",
     "text": [
      "M1\u0000\n",
      "DryBones's Frosted Tips\u0000\u0000\u0000\u0000\u0000\u0000\u0000\u0000\u0000\u0000\n",
      "5ed8cb0c00238fa800e7ecb1.tar\n",
      "85964\n",
      "--------********\n",
      "0\n",
      "1\n"
     ]
    },
    {
     "name": "stderr",
     "output_type": "stream",
     "text": [
      " 24%|██████████████████▍                                                          | 7553/31502 [14:24<47:40,  8.37it/s]"
     ]
    },
    {
     "name": "stdout",
     "output_type": "stream",
     "text": [
      "MW\u0000\n",
      "[SDW2] 5-2 Slippery Spiky Subway\u0000\n",
      "5ed8ee0100f6dafe00e7f07a.tar\n",
      "276984\n",
      "--------********\n",
      "0\n",
      "4\n"
     ]
    },
    {
     "name": "stderr",
     "output_type": "stream",
     "text": [
      " 25%|███████████████████▌                                                         | 8028/31502 [15:19<47:25,  8.25it/s]"
     ]
    },
    {
     "name": "stdout",
     "output_type": "stream",
     "text": [
      "MW\u0000\n",
      "♪Let It Be / The Beatles 【KEEP↑】\u0000\n",
      "5ed8fb770099371900e7f257.tar\n",
      "276984\n",
      "--------********\n",
      "0\n",
      "4\n"
     ]
    },
    {
     "name": "stderr",
     "output_type": "stream",
     "text": [
      " 26%|███████████████████▋                                                         | 8042/31502 [15:21<44:15,  8.83it/s]"
     ]
    },
    {
     "name": "stdout",
     "output_type": "stream",
     "text": [
      "M1\u0000\n",
      "Forest of Deception - Chapter 4\u0000\u0000\n",
      "5ed8fc45008658c100e7f265.tar\n",
      "275056\n",
      "--------********\n",
      "0\n",
      "2\n"
     ]
    },
    {
     "name": "stderr",
     "output_type": "stream",
     "text": [
      " 26%|████████████████████▍                                                        | 8343/31502 [15:57<56:12,  6.87it/s]"
     ]
    },
    {
     "name": "stdout",
     "output_type": "stream",
     "text": [
      "M3\u0000\n",
      "Auto Music：♪Carol of the Bells♪²\u0000\n",
      "5ed93ee400de37cc00223285.tar\n",
      "276984\n",
      "--------********\n",
      "0\n",
      "4\n"
     ]
    },
    {
     "name": "stderr",
     "output_type": "stream",
     "text": [
      " 27%|████████████████████▊                                                        | 8521/31502 [16:18<45:17,  8.46it/s]"
     ]
    },
    {
     "name": "stdout",
     "output_type": "stream",
     "text": [
      "WU\u0000\n",
      "☆フジークリスマス☆\u0000\u0000\u0000\u0000\u0000\u0000\u0000\u0000\u0000\u0000\u0000\u0000\u0000\u0000\u0000\u0000\u0000\u0000\u0000\u0000\u0000\u0000\u0000\n",
      "5ed93fde00f57e5b00223337.tar\n",
      "276020\n",
      "--------********\n",
      "0\n",
      "3\n"
     ]
    },
    {
     "name": "stderr",
     "output_type": "stream",
     "text": [
      " 28%|█████████████████████▎                                                       | 8736/31502 [16:42<43:28,  8.73it/s]"
     ]
    },
    {
     "name": "stdout",
     "output_type": "stream",
     "text": [
      "M1\u0000\n",
      "Gohma's Lava Temple ↑CLOUD=WALK↓\u0000\n",
      "5ed940f200f6c0b10022340e.tar\n",
      "275056\n",
      "--------********\n",
      "0\n",
      "2\n"
     ]
    },
    {
     "name": "stderr",
     "output_type": "stream",
     "text": [
      " 30%|███████████████████████▎                                                     | 9531/31502 [18:14<38:22,  9.54it/s]"
     ]
    },
    {
     "name": "stdout",
     "output_type": "stream",
     "text": [
      "WU\u0000\n",
      "Ω★ Christmas Koopa Companion ★Ω\u0000\u0000\n",
      "5ed945170084a2c90022372a.tar\n",
      "87892\n",
      "--------********\n",
      "0\n",
      "3\n"
     ]
    },
    {
     "name": "stderr",
     "output_type": "stream",
     "text": [
      " 31%|███████████████████████▌                                                     | 9664/31502 [18:28<41:17,  8.81it/s]"
     ]
    },
    {
     "name": "stdout",
     "output_type": "stream",
     "text": [
      "M1\u0000\n",
      "Multiplayer Monty Mole Simulator\u0000\n",
      "5ed945c700bf9284002237af.tar\n",
      "276020\n",
      "--------********\n",
      "0\n",
      "3\n"
     ]
    },
    {
     "name": "stderr",
     "output_type": "stream",
     "text": [
      " 31%|████████████████████████                                                     | 9869/31502 [18:52<42:06,  8.56it/s]"
     ]
    },
    {
     "name": "stdout",
     "output_type": "stream",
     "text": [
      "MW\u0000\n",
      "2p coop|Love won't tear us apart\u0000\n",
      "5ed946e3009e368a0022387d.tar\n",
      "86928\n",
      "--------********\n",
      "0\n",
      "2\n"
     ]
    },
    {
     "name": "stderr",
     "output_type": "stream",
     "text": [
      " 33%|█████████████████████████                                                   | 10404/31502 [19:54<40:31,  8.68it/s]"
     ]
    },
    {
     "name": "stdout",
     "output_type": "stream",
     "text": [
      "M3\u0000\n",
      "Bank Heist!\u0000\u0000\u0000\u0000\u0000\u0000\u0000\u0000\u0000\u0000\u0000\u0000\u0000\u0000\u0000\u0000\u0000\u0000\u0000\u0000\u0000\u0000\n",
      "5ed949ba0027337200223a93.tar\n",
      "275056\n",
      "--------********\n",
      "0\n",
      "2\n"
     ]
    },
    {
     "name": "stderr",
     "output_type": "stream",
     "text": [
      " 33%|█████████████████████████▏                                                  | 10460/31502 [20:00<36:10,  9.70it/s]"
     ]
    },
    {
     "name": "stdout",
     "output_type": "stream",
     "text": [
      "M1\u0000\n",
      "Rhymes with FUN! ryu42\u0000\u0000\u0000\u0000\u0000\u0000\u0000\u0000\u0000\u0000\u0000\n",
      "5ed94a0b003a9e6f00223acb.tar\n",
      "86928\n",
      "--------********\n",
      "0\n",
      "2\n"
     ]
    },
    {
     "name": "stderr",
     "output_type": "stream",
     "text": [
      " 33%|█████████████████████████▍                                                  | 10519/31502 [20:07<42:53,  8.15it/s]"
     ]
    },
    {
     "name": "stdout",
     "output_type": "stream",
     "text": [
      "MW\u0000\n",
      "Fire Flower Power!\u0000\u0000\u0000\u0000\u0000\u0000\u0000\u0000\u0000\u0000\u0000\u0000\u0000\u0000\u0000\n",
      "5ed94a6200fc002b00223b06.tar\n",
      "276020\n",
      "--------********\n",
      "0\n",
      "3\n"
     ]
    },
    {
     "name": "stderr",
     "output_type": "stream",
     "text": [
      " 34%|██████████████████████████                                                  | 10792/31502 [20:39<39:23,  8.76it/s]"
     ]
    },
    {
     "name": "stdout",
     "output_type": "stream",
     "text": [
      "MW\u0000\n",
      "Pブロックに従って！Follow the P Block 30s\u0000\n",
      "5ed94bce00981c7d00223c17.tar\n",
      "85964\n",
      "--------********\n",
      "0\n",
      "1\n"
     ]
    },
    {
     "name": "stderr",
     "output_type": "stream",
     "text": [
      " 35%|██████████████████████████▋                                                 | 11050/31502 [21:10<42:49,  7.96it/s]"
     ]
    },
    {
     "name": "stdout",
     "output_type": "stream",
     "text": [
      "WU\u0000\n",
      "新☆爽快コース♪ #4　Exhilarating♪ #4\u0000\u0000\u0000\u0000\u0000\n",
      "5ed94d320056243200223d19.tar\n",
      "276984\n",
      "--------********\n",
      "0\n",
      "4\n"
     ]
    },
    {
     "name": "stderr",
     "output_type": "stream",
     "text": [
      " 36%|███████████████████████████▌                                                | 11423/31502 [21:53<37:00,  9.04it/s]"
     ]
    },
    {
     "name": "stdout",
     "output_type": "stream",
     "text": [
      "MW\u0000\n",
      "Mario Mechanics 101: The Quiz\u0000\u0000\u0000\u0000\n",
      "5ed94f14007a43ec00223e8f.tar\n",
      "87892\n",
      "--------********\n",
      "0\n",
      "3\n"
     ]
    },
    {
     "name": "stderr",
     "output_type": "stream",
     "text": [
      " 37%|████████████████████████████                                                | 11636/31502 [22:17<38:56,  8.50it/s]"
     ]
    },
    {
     "name": "stdout",
     "output_type": "stream",
     "text": [
      "M3\u0000\n",
      " Extra Virgin Olive Oil #PR\u0000e)\u0000\u0000\u0000\n",
      "5ed9504f003feef400afa99b.tar\n",
      "274092\n",
      "--------********\n",
      "0\n",
      "1\n"
     ]
    },
    {
     "name": "stderr",
     "output_type": "stream",
     "text": [
      " 39%|█████████████████████████████▉                                              | 12421/31502 [23:45<37:50,  8.40it/s]"
     ]
    },
    {
     "name": "stdout",
     "output_type": "stream",
     "text": [
      "M3\u0000\n",
      "カエル物語と2つの結末　MULTI END FROG STORY\u0000\n",
      "5ed955230030ec1a00afacad.tar\n",
      "85964\n",
      "--------********\n",
      "0\n",
      "1\n"
     ]
    },
    {
     "name": "stderr",
     "output_type": "stream",
     "text": [
      " 41%|██████████████████████████████▊                                             | 12784/31502 [24:27<37:23,  8.34it/s]"
     ]
    },
    {
     "name": "stdout",
     "output_type": "stream",
     "text": [
      "WU\u0000\n",
      "SM64: Recreated + Special Ending\u0000\n",
      "5ed9573c00458b9f00afae17.tar\n",
      "276984\n",
      "--------********\n",
      "0\n",
      "4\n"
     ]
    },
    {
     "name": "stderr",
     "output_type": "stream",
     "text": [
      " 44%|█████████████████████████████████▎                                          | 13790/31502 [26:15<33:43,  8.76it/s]"
     ]
    },
    {
     "name": "stdout",
     "output_type": "stream",
     "text": [
      "WU\u0000\n",
      "ヨッシーのふんばりジャンプEX　Keep your Feet !\u0000\n",
      "5eedbbed000d0d8a00260d2b.tar\n",
      "86928\n",
      "--------********\n",
      "0\n",
      "2\n"
     ]
    },
    {
     "name": "stderr",
     "output_type": "stream",
     "text": [
      " 46%|██████████████████████████████████▊                                         | 14440/31502 [27:21<19:21, 14.69it/s]"
     ]
    },
    {
     "name": "stdout",
     "output_type": "stream",
     "text": [
      "MW\u0000\n",
      "OSHA vs Junior's Crushing Castle\u0000\n",
      "5ef1ad3f00fbead000261005.tar\n",
      "86928\n",
      "--------********\n",
      "0\n",
      "2\n"
     ]
    },
    {
     "name": "stderr",
     "output_type": "stream",
     "text": [
      " 46%|██████████████████████████████████▉                                         | 14476/31502 [27:25<32:48,  8.65it/s]"
     ]
    },
    {
     "name": "stdout",
     "output_type": "stream",
     "text": [
      "MW\u0000\n",
      "Heatwave\u0000\u0000\u0000\u0000\u0000\u0000\u0000\u0000\u0000\u0000\u0000\u0000\u0000\u0000\u0000\u0000\u0000\u0000\u0000\u0000\u0000\u0000\u0000\u0000\u0000\n",
      "5ef1ad860023fc3d00261028.tar\n",
      "275056\n",
      "--------********\n",
      "0\n",
      "2\n"
     ]
    },
    {
     "name": "stderr",
     "output_type": "stream",
     "text": [
      " 46%|███████████████████████████████████▏                                        | 14582/31502 [27:35<34:05,  8.27it/s]"
     ]
    },
    {
     "name": "stdout",
     "output_type": "stream",
     "text": [
      "MW\u0000\n",
      "Spotlight #TeamShell\u0000\u0000\u0000\u0000\u0000\u0000\u0000\u0000\u0000\u0000\u0000\u0000\u0000\n",
      "5ef1ae3800bf292800261092.tar\n",
      "276984\n",
      "--------********\n",
      "0\n",
      "4\n"
     ]
    },
    {
     "name": "stderr",
     "output_type": "stream",
     "text": [
      " 47%|████████████████████████████████████                                        | 14939/31502 [28:15<34:40,  7.96it/s]"
     ]
    },
    {
     "name": "stdout",
     "output_type": "stream",
     "text": [
      "MW\u0000\n",
      "<Rainbow Speedrun> [30s]\u0000\u0000\u0000\u0000\u0000\u0000\u0000\u0000\u0000\n",
      "5f02cfab0059041200261342.tar\n",
      "87892\n",
      "--------********\n",
      "0\n",
      "3\n"
     ]
    },
    {
     "name": "stderr",
     "output_type": "stream",
     "text": [
      " 48%|████████████████████████████████████▎                                       | 15075/31502 [28:31<33:29,  8.17it/s]"
     ]
    },
    {
     "name": "stdout",
     "output_type": "stream",
     "text": [
      "M3\u0000\n",
      "Meager Attempts at Trolling 1.16\u0000\n",
      "5f02d06500b17405002613c9.tar\n",
      "275056\n",
      "--------********\n",
      "0\n",
      "2\n"
     ]
    },
    {
     "name": "stderr",
     "output_type": "stream",
     "text": [
      " 49%|████████████████████████████████████▊                                       | 15280/31502 [28:54<33:17,  8.12it/s]"
     ]
    },
    {
     "name": "stdout",
     "output_type": "stream",
     "text": [
      "MW\u0000\n",
      "Pyro Palace\u0000\u0000\u0000\u0000\u0000\u0000ld\u0000\u0000\u0000\u0000\u0000\u0000\u0000\u0000\u0000\u0000\u0000\u0000\u0000\u0000\n",
      "5f02d17400a385ba00261497.tar\n",
      "85964\n",
      "--------********\n",
      "0\n",
      "1\n"
     ]
    },
    {
     "name": "stderr",
     "output_type": "stream",
     "text": [
      " 49%|█████████████████████████████████████▎                                      | 15448/31502 [29:14<31:59,  8.36it/s]"
     ]
    },
    {
     "name": "stdout",
     "output_type": "stream",
     "text": [
      "MW\u0000\n",
      "[4YMM] The Lost Ancient Skewer\u0000r\u0000\n",
      "5f0c0760003fbb5d00485dc3.tar\n",
      "87892\n",
      "--------********\n",
      "0\n",
      "3\n"
     ]
    },
    {
     "name": "stderr",
     "output_type": "stream",
     "text": [
      " 49%|█████████████████████████████████████▎                                      | 15453/31502 [29:15<33:00,  8.10it/s]"
     ]
    },
    {
     "name": "stdout",
     "output_type": "stream",
     "text": [
      "M1\u0000\n",
      "[4YMM] Prancing Pow Playground\u0000\u0000\u0000\n",
      "5f0c076f005f821200485dc8.tar\n",
      "275056\n",
      "--------********\n",
      "0\n",
      "2\n"
     ]
    },
    {
     "name": "stderr",
     "output_type": "stream",
     "text": [
      " 50%|█████████████████████████████████████▊                                      | 15654/31502 [29:40<32:36,  8.10it/s]"
     ]
    },
    {
     "name": "stdout",
     "output_type": "stream",
     "text": [
      "M1\u0000\n",
      "[4YMM] Prancing Pow Playground\u0000\u0000\u0000\n",
      "5f1e8e5d00d18c780048530f.tar\n",
      "275056\n",
      "--------********\n",
      "0\n",
      "2\n"
     ]
    },
    {
     "name": "stderr",
     "output_type": "stream",
     "text": [
      " 52%|███████████████████████████████████████▍                                    | 16343/31502 [31:01<29:24,  8.59it/s]"
     ]
    },
    {
     "name": "stdout",
     "output_type": "stream",
     "text": [
      "M3\u0000\n",
      "Deepnest\u0000\u0000\u0000\u0000\u0000\u0000\u0000\u0000\u0000\u0000\u0000\u0000\u0000\u0000\u0000\u0000\u0000\u0000\u0000\u0000\u0000\u0000\u0000\u0000\u0000\n",
      "5f23c58b004e552900485631.tar\n",
      "276984\n",
      "--------********\n",
      "0\n",
      "4\n"
     ]
    },
    {
     "name": "stderr",
     "output_type": "stream",
     "text": [
      " 52%|███████████████████████████████████████▌                                    | 16419/31502 [31:10<30:27,  8.26it/s]"
     ]
    },
    {
     "name": "stdout",
     "output_type": "stream",
     "text": [
      "MW\u0000\n",
      "Spooky Shells II\u0000\u0000\u0000\u0000\u0000\u0000\u0000\u0000\u0000\u0000\u0000\u0000\u0000\u0000\u0000\u0000\u0000\n",
      "5f23c5ef00967f2f0048567e.tar\n",
      "85964\n",
      "--------********\n",
      "0\n",
      "1\n"
     ]
    },
    {
     "name": "stderr",
     "output_type": "stream",
     "text": [
      " 52%|███████████████████████████████████████▌                                    | 16424/31502 [31:10<29:56,  8.39it/s]"
     ]
    },
    {
     "name": "stdout",
     "output_type": "stream",
     "text": [
      "MW\u0000\n",
      "The Grotto #TS\u0000\u0000\u0000\u0000\u0000\u0000\u0000\u0000\u0000\u0000\u0000\u0000\u0000\u0000\u0000\u0000\u0000\u0000\u0000\n",
      "5f23c5f500fd7e2200485683.tar\n",
      "86928\n",
      "--------********\n",
      "0\n",
      "2\n"
     ]
    },
    {
     "name": "stderr",
     "output_type": "stream",
     "text": [
      " 53%|████████████████████████████████████████                                    | 16603/31502 [31:31<29:24,  8.44it/s]"
     ]
    },
    {
     "name": "stdout",
     "output_type": "stream",
     "text": [
      "WU\u0000\n",
      "[4YMM] Jungle Jam\u0000\u0000\u0000\u0000\u0000\u0000\u0000\u0000\u0000\u0000\u0000\u0000\u0000\u0000\u0000\u0000\n",
      "5f30f1960012897500db25ba.tar\n",
      "86928\n",
      "--------********\n",
      "0\n",
      "2\n"
     ]
    },
    {
     "name": "stderr",
     "output_type": "stream",
     "text": [
      " 53%|████████████████████████████████████████                                    | 16608/31502 [31:32<30:46,  8.07it/s]"
     ]
    },
    {
     "name": "stdout",
     "output_type": "stream",
     "text": [
      "M1\u0000\n",
      "[4YMM] What Is Love?\u0000n't Hurt Me\u0000\n",
      "5f30f19f00d2d43e00db25bf.tar\n",
      "276984\n",
      "--------********\n",
      "0\n",
      "4\n"
     ]
    },
    {
     "name": "stderr",
     "output_type": "stream",
     "text": [
      " 53%|████████████████████████████████████████                                    | 16617/31502 [31:33<32:25,  7.65it/s]"
     ]
    },
    {
     "name": "stdout",
     "output_type": "stream",
     "text": [
      "M1\u0000\n",
      "SMB2 7-2 Remastered (Final Part)\u0000\n",
      "5f3394990015930500db25f5.tar\n",
      "86928\n",
      "--------********\n",
      "0\n",
      "2\n"
     ]
    },
    {
     "name": "stderr",
     "output_type": "stream",
     "text": [
      " 54%|████████████████████████████████████████▋                                   | 16867/31502 [32:02<26:50,  9.09it/s]"
     ]
    },
    {
     "name": "stdout",
     "output_type": "stream",
     "text": [
      "M3\u0000\n",
      "[4YMM] Escape the Mad Lad's Lab\u0000\u0000\n",
      "5f3a2c25003de2b000db2759.tar\n",
      "275056\n",
      "--------********\n",
      "0\n",
      "2\n"
     ]
    },
    {
     "name": "stderr",
     "output_type": "stream",
     "text": [
      " 54%|████████████████████████████████████████▉                                   | 16944/31502 [32:10<31:23,  7.73it/s]"
     ]
    },
    {
     "name": "stdout",
     "output_type": "stream",
     "text": [
      "MW\u0000\n",
      "[4YMM] The Lost Ancient Skewer\u0000r\u0000\n",
      "5f3b89ac007ae59300db27c7.tar\n",
      "87892\n",
      "--------********\n",
      "0\n",
      "3\n"
     ]
    },
    {
     "name": "stderr",
     "output_type": "stream",
     "text": [
      " 54%|████████████████████████████████████████▉                                   | 16957/31502 [32:12<29:25,  8.24it/s]"
     ]
    },
    {
     "name": "stdout",
     "output_type": "stream",
     "text": [
      "M1\u0000\n",
      "[4YMM] Prancing Pow Playground\u0000\u0000\u0000\n",
      "5f3b89ad0080280b00db27d5.tar\n",
      "275056\n",
      "--------********\n",
      "0\n",
      "2\n"
     ]
    },
    {
     "name": "stderr",
     "output_type": "stream",
     "text": [
      " 56%|██████████████████████████████████████████▋                                 | 17695/31502 [33:37<28:36,  8.04it/s]"
     ]
    },
    {
     "name": "stdout",
     "output_type": "stream",
     "text": [
      "M1\u0000\n",
      "☆★ Popular Minigame Remix ★☆\u0000\u0000\u0000\u0000\u0000\n",
      "5f5f16900076798d006b7af6.tar\n",
      "276020\n",
      "--------********\n",
      "0\n",
      "3\n"
     ]
    },
    {
     "name": "stderr",
     "output_type": "stream",
     "text": [
      " 57%|███████████████████████████████████████████▎                                | 17963/31502 [34:09<27:48,  8.12it/s]"
     ]
    },
    {
     "name": "stdout",
     "output_type": "stream",
     "text": [
      "M1\u0000\n",
      "☆★ Popular Minigame Remix ★☆\u0000\u0000\u0000\u0000\u0000\n",
      "5f6dd9b7001a3fbd006b7d1d.tar\n",
      "276020\n",
      "--------********\n",
      "0\n",
      "3\n"
     ]
    },
    {
     "name": "stderr",
     "output_type": "stream",
     "text": [
      " 57%|███████████████████████████████████████████▍                                | 18003/31502 [34:14<25:08,  8.95it/s]"
     ]
    },
    {
     "name": "stdout",
     "output_type": "stream",
     "text": [
      "M1\u0000\n",
      "コインを信じて進めばゴールできる爽快SpeedRun！\u0000坂下り】\u0000\n",
      "5f6dd9e200e50460006b7d37.tar\n",
      "85964\n",
      "--------********\n",
      "0\n",
      "1\n"
     ]
    },
    {
     "name": "stderr",
     "output_type": "stream",
     "text": [
      " 57%|███████████████████████████████████████████▍                                | 18009/31502 [34:14<27:05,  8.30it/s]"
     ]
    },
    {
     "name": "stdout",
     "output_type": "stream",
     "text": [
      "M1\u0000\n",
      "☆★ Popular Minigame Remix ★☆\u0000\u0000\u0000\u0000\u0000\n",
      "5f6dd9e3001c6a2c006b7d46.tar\n",
      "276020\n",
      "--------********\n",
      "0\n",
      "3\n"
     ]
    },
    {
     "name": "stderr",
     "output_type": "stream",
     "text": [
      " 58%|████████████████████████████████████████████▍                               | 18399/31502 [34:57<26:38,  8.20it/s]"
     ]
    },
    {
     "name": "stdout",
     "output_type": "stream",
     "text": [
      "M3\u0000\n",
      "Auto Music：♪Carol of the Bells♪²\u0000\n",
      "auto_music_carol_of_the_bells__7081.zip\n",
      "276984\n",
      "--------********\n",
      "0\n",
      "4\n"
     ]
    },
    {
     "name": "stderr",
     "output_type": "stream",
     "text": [
      " 59%|████████████████████████████████████████████▊                               | 18571/31502 [35:16<21:01, 10.25it/s]"
     ]
    },
    {
     "name": "stdout",
     "output_type": "stream",
     "text": [
      "MW\u0000\n",
      "A Trollo Story\u0000\u0000\u0000ry\u0000tmare\u0000ken v3\u0000\n",
      "a_trollo_storyrytmareken_v3_4045.zip\n",
      "275056\n",
      "--------********\n",
      "0\n",
      "2\n",
      "MW\u0000\n",
      "A Trollo Story (Revived)\u0000\u0000ken v3\u0000\n",
      "a_trollo_story_revived_ken_v3_8159.zip\n",
      "275056\n",
      "--------********\n",
      "0\n",
      "2\n"
     ]
    },
    {
     "name": "stderr",
     "output_type": "stream",
     "text": [
      " 59%|████████████████████████████████████████████▉                               | 18639/31502 [35:24<26:09,  8.20it/s]"
     ]
    },
    {
     "name": "stdout",
     "output_type": "stream",
     "text": [
      "M3\u0000\n",
      "Bank Heist!\u0000\u0000\u0000\u0000\u0000\u0000\u0000\u0000\u0000\u0000\u0000\u0000\u0000\u0000\u0000\u0000\u0000\u0000\u0000\u0000\u0000\u0000\n",
      "bank_heist__10951.zip\n",
      "275056\n",
      "--------********\n",
      "0\n",
      "2\n"
     ]
    },
    {
     "name": "stderr",
     "output_type": "stream",
     "text": [
      " 64%|████████████████████████████████████████████████▎                           | 20047/31502 [37:59<18:01, 10.59it/s]"
     ]
    },
    {
     "name": "stdout",
     "output_type": "stream",
     "text": [
      "M1\u0000\n",
      "DryBones's Frosted Tips\u0000\u0000\u0000\u0000\u0000\u0000\u0000\u0000\u0000\u0000\n",
      "drybones_s_frosted_tips_1852.zip\n",
      "85964\n",
      "--------********\n",
      "0\n",
      "1\n"
     ]
    },
    {
     "name": "stderr",
     "output_type": "stream",
     "text": [
      " 64%|████████████████████████████████████████████████▉                           | 20292/31502 [38:27<21:43,  8.60it/s]"
     ]
    },
    {
     "name": "stdout",
     "output_type": "stream",
     "text": [
      "M3\u0000\n",
      " Extra Virgin Olive Oil #PR\u0000e)\u0000\u0000\u0000\n",
      "extra_virgin_olive_oil_pre__12046.zip\n",
      "274092\n",
      "--------********\n",
      "0\n",
      "1\n"
     ]
    },
    {
     "name": "stderr",
     "output_type": "stream",
     "text": [
      "\r",
      " 64%|████████████████████████████████████████████████▉                           | 20293/31502 [38:27<21:05,  8.86it/s]"
     ]
    },
    {
     "name": "stdout",
     "output_type": "stream",
     "text": [
      "M3\u0000\n",
      " Extra Virgin Olive Oil #PR\u0000e)\u0000\u0000\u0000\n",
      "extra_virgin_olive_oil_pre__12579.zip\n",
      "274092\n",
      "--------********\n",
      "0\n",
      "1\n"
     ]
    },
    {
     "name": "stderr",
     "output_type": "stream",
     "text": [
      " 65%|█████████████████████████████████████████████████▏                          | 20379/31502 [38:37<22:25,  8.27it/s]"
     ]
    },
    {
     "name": "stdout",
     "output_type": "stream",
     "text": [
      "MW\u0000\n",
      "Fire Flower Power!\u0000\u0000\u0000\u0000\u0000\u0000\u0000\u0000\u0000\u0000\u0000\u0000\u0000\u0000\u0000\n",
      "fire_flower_power__11127.zip\n",
      "276020\n",
      "--------********\n",
      "0\n",
      "3\n"
     ]
    },
    {
     "name": "stderr",
     "output_type": "stream",
     "text": [
      " 65%|█████████████████████████████████████████████████▍                          | 20486/31502 [38:48<20:49,  8.82it/s]"
     ]
    },
    {
     "name": "stdout",
     "output_type": "stream",
     "text": [
      "M1\u0000\n",
      "Forest of Deception - Chapter 4\u0000\u0000\n",
      "forest_of_deception_-_chapter_4_6350.zip\n",
      "275056\n",
      "--------********\n",
      "0\n",
      "2\n"
     ]
    },
    {
     "name": "stderr",
     "output_type": "stream",
     "text": [
      "\r",
      " 65%|█████████████████████████████████████████████████▍                          | 20487/31502 [38:49<20:28,  8.97it/s]"
     ]
    },
    {
     "name": "stdout",
     "output_type": "stream",
     "text": [
      "M1\u0000\n",
      "Forest of Deception - Chapter 4\u0000\u0000\n",
      "forest_of_deception_-_chapter_4_6616.zip\n",
      "275056\n",
      "--------********\n",
      "0\n",
      "2\n"
     ]
    },
    {
     "name": "stderr",
     "output_type": "stream",
     "text": [
      " 66%|██████████████████████████████████████████████████                          | 20733/31502 [39:17<20:05,  8.93it/s]"
     ]
    },
    {
     "name": "stdout",
     "output_type": "stream",
     "text": [
      "M1\u0000\n",
      "Gohma's Lava Temple ↑CLOUD=WALK↓\u0000\n",
      "gohma_s_lava_temple_cloud_walk__7186.zip\n",
      "275056\n",
      "--------********\n",
      "0\n",
      "2\n"
     ]
    },
    {
     "name": "stderr",
     "output_type": "stream",
     "text": [
      "\r",
      " 66%|██████████████████████████████████████████████████                          | 20734/31502 [39:17<19:43,  9.10it/s]"
     ]
    },
    {
     "name": "stdout",
     "output_type": "stream",
     "text": [
      "M1\u0000\n",
      "Gohma's Lava Temple ↑CLOUD=WALK↓\u0000\n",
      "gohma_s_lava_temple_cloud_walk__7610.zip\n",
      "275056\n",
      "--------********\n",
      "0\n",
      "2\n"
     ]
    },
    {
     "name": "stderr",
     "output_type": "stream",
     "text": [
      " 71%|█████████████████████████████████████████████████████▋                      | 22274/31502 [42:08<17:28,  8.81it/s]"
     ]
    },
    {
     "name": "stdout",
     "output_type": "stream",
     "text": [
      "M3\u0000\n",
      "Mario Joins The Army-o\u00000 s]\u0000e\u0000in\u0000\n",
      "mario_joins_the_army-o0_s_ein_1377.zip\n",
      "275056\n",
      "--------********\n",
      "0\n",
      "2\n"
     ]
    },
    {
     "name": "stderr",
     "output_type": "stream",
     "text": [
      " 71%|█████████████████████████████████████████████████████▊                      | 22321/31502 [42:13<17:07,  8.93it/s]"
     ]
    },
    {
     "name": "stdout",
     "output_type": "stream",
     "text": [
      "MW\u0000\n",
      "Mario Mechanics 101: The Quiz\u0000\u0000\u0000\u0000\n",
      "mario_mechanics_101_the_quiz_12009.zip\n",
      "87892\n",
      "--------********\n",
      "0\n",
      "3\n"
     ]
    },
    {
     "name": "stderr",
     "output_type": "stream",
     "text": [
      "\r",
      " 71%|█████████████████████████████████████████████████████▊                      | 22323/31502 [42:13<16:12,  9.44it/s]"
     ]
    },
    {
     "name": "stdout",
     "output_type": "stream",
     "text": [
      "MW\u0000\n",
      "Mario Mechanics 101: The Quiz\u0000\u0000\u0000\u0000\n",
      "mario_mechanics_101_the_quiz_12330.zip\n",
      "87892\n",
      "--------********\n",
      "0\n",
      "3\n"
     ]
    },
    {
     "name": "stderr",
     "output_type": "stream",
     "text": [
      " 72%|██████████████████████████████████████████████████████▋                     | 22673/31502 [42:51<16:15,  9.05it/s]"
     ]
    },
    {
     "name": "stdout",
     "output_type": "stream",
     "text": [
      "M1\u0000\n",
      "Multiplayer Monty Mole Simulator\u0000\n",
      "multiplayer_monty_mole_simulator_8960.zip\n",
      "276020\n",
      "--------********\n",
      "0\n",
      "3\n"
     ]
    },
    {
     "name": "stderr",
     "output_type": "stream",
     "text": [
      " 72%|██████████████████████████████████████████████████████▊                     | 22732/31502 [42:58<16:19,  8.95it/s]"
     ]
    },
    {
     "name": "stdout",
     "output_type": "stream",
     "text": [
      "M3\u0000\n",
      "Mysterious [?] Block\u0000\u0000\u0000\u0000\u0000\u0000\u0000\u0000\u0000\u0000\u0000\u0000\u0000\n",
      "mysterious_block_10518.zip\n",
      "85964\n",
      "--------********\n",
      "0\n",
      "1\n"
     ]
    },
    {
     "name": "stderr",
     "output_type": "stream",
     "text": [
      " 73%|███████████████████████████████████████████████████████▌                    | 23027/31502 [43:31<16:38,  8.49it/s]"
     ]
    },
    {
     "name": "stdout",
     "output_type": "stream",
     "text": [
      "WU\u0000\n",
      "One Piece - Thousand Sunny\u0000\u0000\u0000\u0000\u0000\u0000\u0000\n",
      "one_piece_-_thousand_sunny_3117.zip\n",
      "87892\n",
      "--------********\n",
      "0\n",
      "3\n"
     ]
    },
    {
     "name": "stderr",
     "output_type": "stream",
     "text": [
      " 75%|█████████████████████████████████████████████████████████▏                  | 23727/31502 [44:49<14:36,  8.87it/s]"
     ]
    },
    {
     "name": "stdout",
     "output_type": "stream",
     "text": [
      "MW\u0000\n",
      "Pブロックに従って！Follow the P Block 30s\u0000\n",
      "p_follow_the_p_block_30s_11188.zip\n",
      "85964\n",
      "--------********\n",
      "0\n",
      "1\n"
     ]
    },
    {
     "name": "stderr",
     "output_type": "stream",
     "text": [
      "\r",
      " 75%|█████████████████████████████████████████████████████████▏                  | 23729/31502 [44:49<13:43,  9.44it/s]"
     ]
    },
    {
     "name": "stdout",
     "output_type": "stream",
     "text": [
      "MW\u0000\n",
      "Pブロックに従って！Follow the P Block 30s\u0000\n",
      "p_follow_the_p_block_30s_11499.zip\n",
      "85964\n",
      "--------********\n",
      "0\n",
      "1\n"
     ]
    },
    {
     "name": "stderr",
     "output_type": "stream",
     "text": [
      " 76%|█████████████████████████████████████████████████████████▊                  | 23984/31502 [45:17<14:20,  8.74it/s]"
     ]
    },
    {
     "name": "stdout",
     "output_type": "stream",
     "text": [
      "M1\u0000\n",
      "Rhymes with FUN! rev29\u0000\u0000\u0000\u0000\u0000\u0000\u0000\u0000\u0000\u0000\u0000\n",
      "rhymes_with_fun_rev29_10945.zip\n",
      "86928\n",
      "--------********\n",
      "0\n",
      "2\n"
     ]
    },
    {
     "name": "stderr",
     "output_type": "stream",
     "text": [
      "\r",
      " 76%|█████████████████████████████████████████████████████████▊                  | 23985/31502 [45:17<14:03,  8.91it/s]"
     ]
    },
    {
     "name": "stdout",
     "output_type": "stream",
     "text": [
      "M1\u0000\n",
      "Rhymes with FUN! ryu42\u0000\u0000\u0000\u0000\u0000\u0000\u0000\u0000\u0000\u0000\u0000\n",
      "rhymes_with_fun_ryu42_11022.zip\n",
      "86928\n",
      "--------********\n",
      "0\n",
      "2\n"
     ]
    },
    {
     "name": "stderr",
     "output_type": "stream",
     "text": [
      " 78%|███████████████████████████████████████████████████████████▎                | 24584/31502 [46:25<13:48,  8.35it/s]"
     ]
    },
    {
     "name": "stdout",
     "output_type": "stream",
     "text": [
      "WU\u0000\n",
      "SM64: Recreated + Special Ending\u0000\n",
      "sm64_recreated_special_ending_14569.zip\n",
      "276984\n",
      "--------********\n",
      "0\n",
      "4\n"
     ]
    },
    {
     "name": "stderr",
     "output_type": "stream",
     "text": [
      " 80%|████████████████████████████████████████████████████████████▌               | 25083/31502 [47:22<12:18,  8.69it/s]"
     ]
    },
    {
     "name": "stdout",
     "output_type": "stream",
     "text": [
      "M1\u0000\n",
      "Splashdown!\u0000\u0000\u0000\u0000\u0000\u0000\u0000\u0000\u0000\u0000\u0000\u0000\u0000\u0000\u0000\u0000\u0000\u0000\u0000\u0000\u0000\u0000\n",
      "splashdown__3278.zip\n",
      "276020\n",
      "--------********\n",
      "0\n",
      "3\n"
     ]
    },
    {
     "name": "stderr",
     "output_type": "stream",
     "text": [
      " 82%|██████████████████████████████████████████████████████████████▏             | 25783/31502 [48:41<11:25,  8.35it/s]"
     ]
    },
    {
     "name": "stdout",
     "output_type": "stream",
     "text": [
      "WU\u0000\n",
      "THE CONGO - Platforms&Walljumps\u0000\u0000\n",
      "the_congo_-_platforms_walljumps_10653.zip\n",
      "276984\n",
      "--------********\n",
      "0\n",
      "4\n"
     ]
    },
    {
     "name": "stderr",
     "output_type": "stream",
     "text": [
      "\r",
      " 82%|██████████████████████████████████████████████████████████████▏             | 25784/31502 [48:41<11:03,  8.62it/s]"
     ]
    },
    {
     "name": "stdout",
     "output_type": "stream",
     "text": [
      "WU\u0000\n",
      "THE CONGO - Platforms&Walljumps\u0000\u0000\n",
      "the_congo_-_platforms_walljumps_11201.zip\n",
      "276984\n",
      "--------********\n",
      "0\n",
      "4\n"
     ]
    },
    {
     "name": "stderr",
     "output_type": "stream",
     "text": [
      " 83%|██████████████████████████████████████████████████████████████▋             | 26005/31502 [49:07<11:38,  7.87it/s]"
     ]
    },
    {
     "name": "stdout",
     "output_type": "stream",
     "text": [
      "MW\u0000\n",
      "The Matrix\u0000\u0000\u0000\u0000\u0000\u0000\u0000\u0000\u0000\u0000\u0000\u0000\u0000\u0000\u0000\u0000\u0000\u0000\u0000\u0000\u0000\u0000\u0000\n",
      "the_matrix_14510.zip\n",
      "85964\n",
      "--------********\n",
      "0\n",
      "1\n"
     ]
    },
    {
     "name": "stderr",
     "output_type": "stream",
     "text": [
      " 83%|███████████████████████████████████████████████████████████████             | 26143/31502 [49:22<10:14,  8.71it/s]"
     ]
    },
    {
     "name": "stdout",
     "output_type": "stream",
     "text": [
      "M3\u0000\n",
      "THE STALKER\u0000\u0000\u0000\u0000\u0000\u0000\u0000\u0000\u0000\u0000\u0000\u0000\u0000\u0000\u0000\u0000\u0000\u0000\u0000\u0000\u0000\u0000\n",
      "the_stalker_917.zip\n",
      "86928\n",
      "--------********\n",
      "0\n",
      "2\n"
     ]
    },
    {
     "name": "stderr",
     "output_type": "stream",
     "text": [
      " 83%|███████████████████████████████████████████████████████████████▏            | 26195/31502 [49:28<09:49,  9.01it/s]"
     ]
    },
    {
     "name": "stdout",
     "output_type": "stream",
     "text": [
      "M1\u0000\n",
      "The Very Varying Tower\u0000\u0000\u0000\u0000\u0000\u0000\u0000\u0000\u0000\u0000\u0000\n",
      "the_very_varying_tower_1695.zip\n",
      "275056\n",
      "--------********\n",
      "0\n",
      "2\n"
     ]
    },
    {
     "name": "stderr",
     "output_type": "stream",
     "text": [
      "\r",
      " 83%|███████████████████████████████████████████████████████████████▏            | 26196/31502 [49:28<09:49,  9.01it/s]"
     ]
    },
    {
     "name": "stdout",
     "output_type": "stream",
     "text": [
      "M1\u0000\n",
      "The Very Varying Tower\u0000\u0000\u0000\u0000\u0000\u0000\u0000\u0000\u0000\u0000\u0000\n",
      "the_very_varying_tower_743.zip\n",
      "275056\n",
      "--------********\n",
      "0\n",
      "2\n"
     ]
    },
    {
     "name": "stderr",
     "output_type": "stream",
     "text": [
      "\r",
      " 83%|███████████████████████████████████████████████████████████████▏            | 26197/31502 [49:28<09:49,  9.00it/s]"
     ]
    },
    {
     "name": "stdout",
     "output_type": "stream",
     "text": [
      "M1\u0000\n",
      "The Very Varying Tower\u0000\u0000\u0000\u0000\u0000\u0000\u0000\u0000\u0000\u0000\u0000\n",
      "the_very_varying_tower_942.zip\n",
      "275056\n",
      "--------********\n",
      "0\n",
      "2\n"
     ]
    },
    {
     "name": "stderr",
     "output_type": "stream",
     "text": [
      " 84%|███████████████████████████████████████████████████████████████▊            | 26445/31502 [49:55<08:50,  9.54it/s]"
     ]
    },
    {
     "name": "stdout",
     "output_type": "stream",
     "text": [
      "WU\u0000\n",
      "Trans Rights!!!!! (from fish!!)\u0000\u0000\n",
      "trans_rights_from_fish__3616.zip\n",
      "274092\n",
      "--------********\n",
      "0\n",
      "1\n"
     ]
    },
    {
     "name": "stderr",
     "output_type": "stream",
     "text": [
      " 90%|████████████████████████████████████████████████████████████████████▎       | 28334/31502 [53:29<06:13,  8.49it/s]"
     ]
    },
    {
     "name": "stdout",
     "output_type": "stream",
     "text": [
      "M3\u0000\n",
      "カエル物語と2つの結末　MULTI END FROG STORY\u0000\n",
      "_2_multi_end_frog_story_14005.zip\n",
      "85964\n",
      "--------********\n",
      "0\n",
      "1\n"
     ]
    },
    {
     "name": "stderr",
     "output_type": "stream",
     "text": [
      " 90%|████████████████████████████████████████████████████████████████████▋       | 28477/31502 [53:44<04:57, 10.18it/s]"
     ]
    },
    {
     "name": "stdout",
     "output_type": "stream",
     "text": [
      "WU\u0000\n",
      "新☆爽快コース♪ #4　Exhilarating♪ #4\u0000\u0000\u0000\u0000\u0000\n",
      "_4_exhilarating_4_11903.zip\n",
      "276984\n",
      "--------********\n",
      "0\n",
      "4\n"
     ]
    },
    {
     "name": "stderr",
     "output_type": "stream",
     "text": [
      " 92%|█████████████████████████████████████████████████████████████████████▌      | 28834/31502 [54:26<05:53,  7.54it/s]"
     ]
    },
    {
     "name": "stdout",
     "output_type": "stream",
     "text": [
      "WU\u0000\n",
      "Ω★ Christmas Koopa Companion ★Ω\u0000\u0000\n",
      "_christmas_koopa_companion__7389.zip\n",
      "87892\n",
      "--------********\n",
      "0\n",
      "3\n"
     ]
    },
    {
     "name": "stderr",
     "output_type": "stream",
     "text": [
      "\r",
      " 92%|█████████████████████████████████████████████████████████████████████▌      | 28836/31502 [54:26<05:20,  8.31it/s]"
     ]
    },
    {
     "name": "stdout",
     "output_type": "stream",
     "text": [
      "WU\u0000\n",
      "Ω★ Christmas Koopa Companion ★Ω\u0000\u0000\n",
      "_christmas_koopa_companion__8773.zip\n",
      "87892\n",
      "--------********\n",
      "0\n",
      "3\n"
     ]
    },
    {
     "name": "stderr",
     "output_type": "stream",
     "text": [
      " 92%|█████████████████████████████████████████████████████████████████████▉      | 28994/31502 [54:45<04:49,  8.67it/s]"
     ]
    },
    {
     "name": "stdout",
     "output_type": "stream",
     "text": [
      "M1\u0000\n",
      "♪Evolution of Games♪ (80’⇒87’)\u0000\u0000\u0000\n",
      "_evolution_of_games_80_87__3574.zip\n",
      "85964\n",
      "--------********\n",
      "0\n",
      "1\n"
     ]
    },
    {
     "name": "stderr",
     "output_type": "stream",
     "text": [
      " 93%|██████████████████████████████████████████████████████████████████████▍     | 29218/31502 [55:12<04:36,  8.25it/s]"
     ]
    },
    {
     "name": "stdout",
     "output_type": "stream",
     "text": [
      "M1\u0000\n",
      "★ Into the Galaxy ★ 銀河の中へ ★\u0000le\u0000\u0000\u0000\n",
      "_into_the_galaxy_le_2629.zip\n",
      "274092\n",
      "--------********\n",
      "0\n",
      "1\n"
     ]
    },
    {
     "name": "stderr",
     "output_type": "stream",
     "text": [
      " 93%|██████████████████████████████████████████████████████████████████████▊     | 29372/31502 [55:31<04:17,  8.28it/s]"
     ]
    },
    {
     "name": "stdout",
     "output_type": "stream",
     "text": [
      "MW\u0000\n",
      "♪Let It Be / The Beatles 【KEEP↑】\u0000\n",
      "_let_it_be_the_beatles_keep__6217.zip\n",
      "276984\n",
      "--------********\n",
      "0\n",
      "4\n"
     ]
    },
    {
     "name": "stderr",
     "output_type": "stream",
     "text": [
      "\r",
      " 93%|██████████████████████████████████████████████████████████████████████▊     | 29373/31502 [55:31<04:10,  8.51it/s]"
     ]
    },
    {
     "name": "stdout",
     "output_type": "stream",
     "text": [
      "MW\u0000\n",
      "♪Let It Be / The Beatles 【KEEP↑】\u0000\n",
      "_let_it_be_the_beatles_keep__6596.zip\n",
      "276984\n",
      "--------********\n",
      "0\n",
      "4\n"
     ]
    },
    {
     "name": "stderr",
     "output_type": "stream",
     "text": [
      " 95%|████████████████████████████████████████████████████████████████████████▍   | 30018/31502 [56:45<02:52,  8.58it/s]"
     ]
    },
    {
     "name": "stdout",
     "output_type": "stream",
     "text": [
      "MW\u0000\n",
      "[SDW2] 5-2 Slippery Spiky Subway\u0000\n",
      "_sdw2_5-2_slippery_spiky_subway_5525.zip\n",
      "276984\n",
      "--------********\n",
      "0\n",
      "4\n"
     ]
    },
    {
     "name": "stderr",
     "output_type": "stream",
     "text": [
      "\r",
      " 95%|████████████████████████████████████████████████████████████████████████▍   | 30019/31502 [56:45<02:49,  8.75it/s]"
     ]
    },
    {
     "name": "stdout",
     "output_type": "stream",
     "text": [
      "MW\u0000\n",
      "[SDW2] 5-2 Slippery Spiky Subway\u0000\n",
      "_sdw2_5-2_slippery_spiky_subway_5824.zip\n",
      "276984\n",
      "--------********\n",
      "0\n",
      "4\n"
     ]
    },
    {
     "name": "stderr",
     "output_type": "stream",
     "text": [
      "100%|███████████████████████████████████████████████████████████████████████████▊| 31440/31502 [59:29<00:06,  8.94it/s]"
     ]
    },
    {
     "name": "stdout",
     "output_type": "stream",
     "text": [
      "WU\u0000\n",
      "☆フジークリスマス☆\u0000\u0000\u0000\u0000\u0000\u0000\u0000\u0000\u0000\u0000\u0000\u0000\u0000\u0000\u0000\u0000\u0000\u0000\u0000\u0000\u0000\u0000\u0000\n",
      "__7325.zip\n",
      "276020\n",
      "--------********\n",
      "0\n",
      "3\n"
     ]
    },
    {
     "name": "stderr",
     "output_type": "stream",
     "text": [
      "100%|████████████████████████████████████████████████████████████████████████████| 31502/31502 [59:35<00:00,  8.81it/s]\n"
     ]
    }
   ],
   "source": [
    "levelsError = 0\n",
    "for levelName in tqdm(levelsDownloaded):\n",
    "    if levelName[-4:] == '.zip':\n",
    "        archive = zipfile.ZipFile(join(levelFolder, levelName), 'r')\n",
    "        leveldata = archive.read('course_data_000.bcd')\n",
    "        archive.close()\n",
    "        with open('tools/tmp/course_data_000.bcd', 'wb') as f:\n",
    "            f.write(leveldata)\n",
    "    else:\n",
    "        archive = tarfile.open(join(levelFolder, levelName), 'r')\n",
    "        archive.extract('course_data_000.bcd', path=\"tools/tmp/\")\n",
    "        archive.close()\n",
    "    !.\\tools\\smm2dec.exe -h .\\tools\\tmp\\course_data_000.bcd .\\tools\\tmp\\course_data_dec.bcd >nul 2>&1\n",
    "    with open('tools/tmp/course_data_dec.bcd', 'rb') as f:\n",
    "        leveldata = f.read()\n",
    "    testM = MarioMaker2File(leveldata)\n",
    "    if testM.header.gameStyle.decode(\"utf-8\") == '3W\\x00':\n",
    "        continue\n",
    "    a = testM.toBytes()\n",
    "    for idx, b in enumerate(leveldata):\n",
    "        if a[idx] != b:\n",
    "            levelsError += 1\n",
    "            print(testM.header.gameStyle.decode(\"utf-8\"))\n",
    "            print(testM.header.courseName.decode(\"utf-16\"))\n",
    "            print(levelName)\n",
    "            print(idx)\n",
    "            print('--------********')\n",
    "            print(a[idx])\n",
    "            print(b)\n",
    "            break\n"
   ]
  },
  {
   "cell_type": "code",
   "execution_count": 75,
   "metadata": {},
   "outputs": [
    {
     "data": {
      "text/plain": [
       "106"
      ]
     },
     "execution_count": 75,
     "metadata": {},
     "output_type": "execute_result"
    }
   ],
   "source": [
    "levelsError"
   ]
  }
 ],
 "metadata": {
  "kernelspec": {
   "display_name": "Python 3",
   "language": "python",
   "name": "python3"
  },
  "language_info": {
   "codemirror_mode": {
    "name": "ipython",
    "version": 3
   },
   "file_extension": ".py",
   "mimetype": "text/x-python",
   "name": "python",
   "nbconvert_exporter": "python",
   "pygments_lexer": "ipython3",
   "version": "3.7.3"
  }
 },
 "nbformat": 4,
 "nbformat_minor": 2
}
