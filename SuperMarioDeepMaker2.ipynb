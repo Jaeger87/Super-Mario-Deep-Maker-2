{
 "cells": [
  {
   "cell_type": "code",
   "execution_count": 139,
   "metadata": {},
   "outputs": [],
   "source": [
    "import zipfile\n",
    "from os import listdir\n",
    "from os.path import isfile, join\n",
    "from pathlib import Path\n",
    "\n",
    "from abc import ABC, abstractmethod\n",
    "\n",
    "from tqdm import tqdm"
   ]
  },
  {
   "cell_type": "code",
   "execution_count": 86,
   "metadata": {},
   "outputs": [],
   "source": [
    "def instanceAllObjects(className, bytesArray, count, size):\n",
    "    instanceList = []\n",
    "    startByte = 0\n",
    "    constructor = globals()[className]\n",
    "    for o in range(0, count):\n",
    "        instance = constructor(bytesArray[startByte:startByte + size])\n",
    "        startByte += size\n",
    "        instanceList.append(instance)\n",
    "    return instanceList"
   ]
  },
  {
   "cell_type": "code",
   "execution_count": 161,
   "metadata": {},
   "outputs": [],
   "source": [
    "def addZeros(bytesArray, finalSize):\n",
    "    if(len(bytesArray) < finalSize):\n",
    "        missingBytes = finalSize - len(bytesArray)\n",
    "        zero = 0\n",
    "        zeroByte = zero.to_bytes(1, 'little')\n",
    "        bytesArray = bytesArray + (zeroByte * missingBytes)\n",
    "    return bytesArray  "
   ]
  },
  {
   "cell_type": "code",
   "execution_count": 162,
   "metadata": {},
   "outputs": [],
   "source": [
    "def fromListToBytes(objects, finalSize):\n",
    "    objectsBytes =  bytearray()\n",
    "    if len(objects) > 0:\n",
    "        objectsBytesLists = list(map(lambda o: o.toBytes(), objects))\n",
    "        objectsBytes = objectsBytesLists[0]\n",
    "        for ob in objectsBytesLists[1:]:\n",
    "            objectsBytes += ob\n",
    "    return addZeros(objectsBytes, finalSize)    \n",
    "    "
   ]
  },
  {
   "cell_type": "code",
   "execution_count": 87,
   "metadata": {},
   "outputs": [],
   "source": [
    "class ObjectBytes(ABC):\n",
    "    @abstractmethod\n",
    "    def toBytes(self):\n",
    "        pass"
   ]
  },
  {
   "cell_type": "code",
   "execution_count": 88,
   "metadata": {},
   "outputs": [],
   "source": [
    "class GameObject(ObjectBytes):\n",
    "    def __init__(self, objectBytes):\n",
    "        self.xPosition = int.from_bytes(objectBytes[:4],\"little\", signed = False)\n",
    "        self.yPosition = int.from_bytes(objectBytes[4:8],\"little\", signed = False)\n",
    "        self.unUsed = int.from_bytes(objectBytes[8:10],\"little\", signed = False)\n",
    "        self.objectWidth = objectBytes[10]\n",
    "        self.objectHeight = objectBytes[11]\n",
    "        self.objectFlags = int.from_bytes(objectBytes[12:16],\"little\", signed = False)\n",
    "        self.childObjectFlags = int.from_bytes(objectBytes[16:20],\"little\", signed = False)\n",
    "        self.extendedData = int.from_bytes(objectBytes[20:24],\"little\", signed = False)\n",
    "        self.objectType = int.from_bytes(objectBytes[24:26],\"little\", signed = False)\n",
    "        self.childObjectType = int.from_bytes(objectBytes[26:28],\"little\", signed = False)\n",
    "        self.linkID = int.from_bytes(objectBytes[28:30],\"little\", signed = False)\n",
    "        self.soundEffect = int.from_bytes(objectBytes[30:32],\"little\", signed = False)\n",
    "    \n",
    "    def toBytes(self):\n",
    "        xBytes = self.xPosition.to_bytes(4, 'little')\n",
    "        yBytes = self.yPosition.to_bytes(4, 'little')\n",
    "        unUsedBytes = self.unUsed.to_bytes(2, 'little')\n",
    "        width = self.objectWidth.to_bytes(1, 'little')\n",
    "        height = self.objectHeight.to_bytes(1, 'little')\n",
    "        flags = self.objectFlags.to_bytes(4, 'little')\n",
    "        childObjectFlags = self.childObjectFlags.to_bytes(4, 'little')\n",
    "        extendedData = self.extendedData.to_bytes(4, 'little')\n",
    "        objectType = self.objectType.to_bytes(2, 'little')\n",
    "        childObjectType = self.childObjectType.to_bytes(2, 'little')\n",
    "        linkID = self.linkID.to_bytes(2, 'little')\n",
    "        soundEffect = self.soundEffect.to_bytes(2, 'little')\n",
    "        return xBytes + yBytes + unUsedBytes + width + height + flags + childObjectFlags + extendedData + objectType + childObjectType + linkID + soundEffect"
   ]
  },
  {
   "cell_type": "code",
   "execution_count": 89,
   "metadata": {},
   "outputs": [],
   "source": [
    "class FreestandingSoundEffect(ObjectBytes):\n",
    "    def __init__(self, soundBytes):\n",
    "        self.effectType = soundBytes[0]\n",
    "        self.xPosition = soundBytes[1]\n",
    "        self.yPosition = soundBytes[2]\n",
    "        self.padding = soundBytes[3]\n",
    "        \n",
    "    def toBytes(self):\n",
    "        effectType = self.effectType.to_bytes(1, 'little')\n",
    "        xPosition = self.xPosition.to_bytes(1, 'little')\n",
    "        yPosition = self.yPosition.to_bytes(1, 'little')\n",
    "        padding = self.padding.to_bytes(1, 'little')\n",
    "        return effectType + xPosition + yPosition + padding"
   ]
  },
  {
   "cell_type": "code",
   "execution_count": 90,
   "metadata": {},
   "outputs": [],
   "source": [
    "class SnakeNode(ObjectBytes):\n",
    "    def __init__(self, snakeNodeBytes):\n",
    "        self.index = int.from_bytes(snakeNodeBytes[:1],\"little\", signed = False) #parte da zero\n",
    "        self.mistery = int.from_bytes(snakeNodeBytes[1:3],\"little\", signed = False)\n",
    "        self.zerocento = int.from_bytes(snakeNodeBytes[3:5],\"little\", signed = False)\n",
    "        self.unused = int.from_bytes(snakeNodeBytes[5:7],\"little\", signed = False) \n",
    "        \n",
    "    def toBytes(self):\n",
    "        index = self.index.to_bytes(2, 'little')\n",
    "        mistery = self.mistery.to_bytes(2, 'little')\n",
    "        zerocento = self.zerocento.to_bytes(2, 'little')\n",
    "        unused = self.unused.to_bytes(2, 'little')\n",
    "        return index + xPosition + mistery + zerocento + unused"
   ]
  },
  {
   "cell_type": "code",
   "execution_count": 91,
   "metadata": {},
   "outputs": [],
   "source": [
    "class SnakeBlockTrack(ObjectBytes):\n",
    "    def __init__(self, snakeBytes):\n",
    "        self.snakeID = snakeBytes[0] #sarà 0 1 2 3 4?\n",
    "        self.nodeCount = snakeBytes[1]\n",
    "        self.always1 = snakeBytes[2]\n",
    "        self.padding = snakeBytes[3]\n",
    "        self.snakeNodes = instanceAllObjects('SnakeNode', snakesBytes[4:], self.snakeBlockCount, 8)\n",
    "        \n",
    "    def toBytes(self):\n",
    "        snakeID = self.snakeID.to_bytes(1, 'little')\n",
    "        nodeCount = self.nodeCount.to_bytes(1, 'little')\n",
    "        always1 = self.always1.to_bytes(1, 'little')\n",
    "        padding = self.padding.to_bytes(1, 'little')\n",
    "        snakeNodes = fromListToBytes(self.snakeNodes, 964)\n",
    "        return snakeID + nodeCount + always1 + padding + unused + snakeNodes  "
   ]
  },
  {
   "cell_type": "code",
   "execution_count": 92,
   "metadata": {},
   "outputs": [],
   "source": [
    "class ClearPipeNode(ObjectBytes):\n",
    "    def __init__(self, clearPipeNodesBytes):\n",
    "        self.unknown011 = clearPipeNodesBytes[0]\n",
    "        self.index = clearPipeNodesBytes[1]\n",
    "        self.unKnowCoordinates = clearPipeNodesBytes[2]\n",
    "        self.unKnowCoordinates2 = clearPipeNodesBytes[3]\n",
    "        self.always2 = clearPipeNodesBytes[4]    \n",
    "        \n",
    "    def toBytes(self):\n",
    "        unknown011 = self.unknown011.to_bytes(1, 'little')\n",
    "        index = self.index.to_bytes(1, 'little')\n",
    "        unKnowCoordinates = self.unKnowCoordinates.to_bytes(1, 'little')\n",
    "        unKnowCoordinates2 = self.unKnowCoordinates2.to_bytes(1, 'little')\n",
    "        always2 = self.always2.to_bytes(1, 'little')\n",
    "        return unknown011 + index + unKnowCoordinates + unKnowCoordinates2 + always2"
   ]
  },
  {
   "cell_type": "code",
   "execution_count": 165,
   "metadata": {},
   "outputs": [],
   "source": [
    "class ClearPipe(ObjectBytes):\n",
    "    def __init__(self, clearPipeBytes):\n",
    "        self.id = clearPipeBytes[0]\n",
    "        self.nodeCount = clearPipeBytes[1]\n",
    "        self.always1 = clearPipeBytes[2]\n",
    "        self.padding = clearPipeBytes[3]\n",
    "        self.clearPipeNodes = instanceAllObjects('ClearPipeNode', clearPipeBytes[4:], self.nodeCount, 8)\n",
    "        \n",
    "    def toBytes(self):\n",
    "        pipeId = self.id.to_bytes(1, 'little')\n",
    "        nodeCount = self.nodeCount.to_bytes(1, 'little')\n",
    "        always1 = self.always1.to_bytes(1, 'little')\n",
    "        padding = self.padding.to_bytes(1, 'little')\n",
    "        clearPipeNodes = fromListToBytes(self.clearPipeNodes, 292)\n",
    "        return pipeId + nodeCount + always1 + padding + unused + clearPipeNodes  "
   ]
  },
  {
   "cell_type": "code",
   "execution_count": 166,
   "metadata": {},
   "outputs": [],
   "source": [
    "class PiranhaCreeperNode(ObjectBytes):\n",
    "    def __init__(self, piranhaCreeperNodeBytes):\n",
    "        self.always1 = piranhaCreeperNodeBytes[0] \n",
    "        self.valuesSeen = piranhaCreeperNodeBytes[1]\n",
    "        self.always0_1 = piranhaCreeperNodeBytes[2]\n",
    "        self.always0_2 = piranhaCreeperNodeBytes[3]\n",
    "        \n",
    "    def toBytes(self):\n",
    "        always1 = self.always1.to_bytes(1, 'little')\n",
    "        valuesSeen = self.valuesSeen.to_bytes(1, 'little')\n",
    "        always0_1 = self.always0_1.to_bytes(1, 'little')\n",
    "        always0_2 = self.always0_2.to_bytes(1, 'little')\n",
    "        return always1 + valuesSeen + always0_1 + always0_2"
   ]
  },
  {
   "cell_type": "code",
   "execution_count": 95,
   "metadata": {},
   "outputs": [],
   "source": [
    "class PiranhaCreeperTrack(ObjectBytes):\n",
    "    def __init__(self, piranhaCreeperTrackBytes):\n",
    "        self.always1 = piranhaCreeperTrackBytes[0] \n",
    "        self.idTrack = piranhaCreeperTrackBytes[1]\n",
    "        self.nodeCount = piranhaCreeperTrackBytes[2]\n",
    "        self.piranhaCreeperNodes = instanceAllObjects('PiranhaCreeperNode', piranhaCreeperTrackBytes[3:43], self.nodeCount, 4)\n",
    "        \n",
    "    def toBytes(self):\n",
    "        always1 = self.always1.to_bytes(1, 'little')\n",
    "        idTrack = self.idTrack.to_bytes(1, 'little')\n",
    "        nodeCount = self.nodeCount.to_bytes(1, 'little')\n",
    "        piranhaCreeperNodes = fromListToBytes(self.piranhaCreeperNodes, 84)\n",
    "        return always1 + idTrack + nodeCount + piranhaCreeperNodes  "
   ]
  },
  {
   "cell_type": "code",
   "execution_count": 96,
   "metadata": {},
   "outputs": [],
   "source": [
    "class ExpandingBlockNode(ObjectBytes):\n",
    "    def __init__(self, expandingBlockNodeBytes):\n",
    "        self.always1 = expandingBlockNodeBytes[0] \n",
    "        self.valuesSeen = expandingBlockNodeBytes[1]\n",
    "        self.always0_1 = expandingBlockNodeBytes[2]\n",
    "        self.always0_2 = expandingBlockNodeBytes[3]  \n",
    "        \n",
    "    def toBytes(self):\n",
    "        always1 = self.always1.to_bytes(1, 'little')\n",
    "        valuesSeen = self.valuesSeen.to_bytes(1, 'little')\n",
    "        always0_1 = self.always0_1.to_bytes(1, 'little')\n",
    "        always0_2 = self.always0_2.to_bytes(1, 'little')\n",
    "        return always1 + valuesSeen + always0_1 + always0_2   "
   ]
  },
  {
   "cell_type": "code",
   "execution_count": 97,
   "metadata": {},
   "outputs": [],
   "source": [
    "class ExpandingBlockTrack(ObjectBytes):\n",
    "    def __init__(self, expandingBlockTrackBytes):\n",
    "        self.always1 = expandingBlockNodeBytes[0] \n",
    "        self.idTrack = expandingBlockNodeBytes[1]\n",
    "        self.nodeCount = expandingBlockNodeBytes[2]\n",
    "        self.padding = expandingBlockNodeBytes[3]    \n",
    "        self.expandingBlockNodes = instanceAllObjects('ExpandingBlockNode', expandingBlockNodeBytes[4:44], self.nodeCount, 4)\n",
    "        \n",
    "    def toBytes(self):\n",
    "        always1 = self.always1.to_bytes(1, 'little')\n",
    "        idTrack = self.idTrack.to_bytes(1, 'little')\n",
    "        nodeCount = self.nodeCount.to_bytes(1, 'little')\n",
    "        padding = self.padding.to_bytes(1, 'little')\n",
    "        expandingBlockNodes = fromListToBytes(self.expandingBlockNodes, 44)\n",
    "        return always1 + idTrack + nodeCount + padding + expandingBlockNodes      "
   ]
  },
  {
   "cell_type": "code",
   "execution_count": 98,
   "metadata": {},
   "outputs": [],
   "source": [
    "class TrackBlockNode(ObjectBytes):\n",
    "    def __init__(self, trackBlockNodeBytes):\n",
    "        self.always1 = trackBlockNodeBytes[0]\n",
    "        self.valuesSeen = trackBlockNodeBytes[1]\n",
    "        self.always0_1 = trackBlockNodeBytes[2]\n",
    "        self.always0_2 = trackBlockNodeBytes[3]\n",
    "        \n",
    "    def toBytes(self):\n",
    "        always1 = self.always1.to_bytes(1, 'little')\n",
    "        valuesSeen = self.valuesSeen.to_bytes(1, 'little')\n",
    "        always0_1 = self.always0_1.to_bytes(1, 'little')\n",
    "        always0_2 = self.always0_2.to_bytes(1, 'little')\n",
    "        return always1 + valuesSeen + always0_1 + always0_2 "
   ]
  },
  {
   "cell_type": "code",
   "execution_count": 167,
   "metadata": {},
   "outputs": [],
   "source": [
    "class TrackBlockTrack(ObjectBytes):\n",
    "    def __init__(self, trackBlockTrackBytes):\n",
    "        self.always1 = trackBlockTrackBytes[0] \n",
    "        self.idTrackBlock = trackBlockTrackBytes[1]\n",
    "        self.nodeCount = trackBlockTrackBytes[2]\n",
    "        self.unused = trackBlockTrackBytes[3]  \n",
    "        self.trackBlockNodes = instanceAllObjects('TrackBlockNode', trackBlockTrackBytes[4:], self.nodeCount, 4)\n",
    "        \n",
    "    def toBytes(self):\n",
    "        always1 = self.always1.to_bytes(1, 'little')\n",
    "        idTrackBlock = self.idTrackBlock.to_bytes(1, 'little')\n",
    "        nodeCount = self.nodeCount.to_bytes(1, 'little')\n",
    "        unused = self.unused.to_bytes(1, 'little')\n",
    "        trackBlockNodes = fromListToBytes(self.trackBlockNodes, 44)\n",
    "        return always1 + idTrackBlock + nodeCount + unused + trackBlockNodes  "
   ]
  },
  {
   "cell_type": "code",
   "execution_count": 100,
   "metadata": {},
   "outputs": [],
   "source": [
    "class Tile(ObjectBytes):\n",
    "    def __init__(self, tileBytes):\n",
    "        self.xPosition = tileBytes[0]\n",
    "        self.yPosition = tileBytes[1]\n",
    "        self.tileID = int.from_bytes(tileBytes[2:4],\"little\", signed = False) \n",
    "        \n",
    "    def toBytes(self):\n",
    "        xPosition = self.xPosition.to_bytes(1, 'little')\n",
    "        yPosition = self.yPosition.to_bytes(1, 'little')\n",
    "        tileID = self.tileID.to_bytes(2, 'little')\n",
    "        return xPosition + yPosition + tileID      "
   ]
  },
  {
   "cell_type": "code",
   "execution_count": 101,
   "metadata": {},
   "outputs": [],
   "source": [
    "class Rail(ObjectBytes):\n",
    "    def __init__(self, railBytes):\n",
    "        self.alwaysZero = int.from_bytes(railBytes[:1],\"little\", signed = False) \n",
    "        self.alwaysZeroOne = railBytes[1]\n",
    "        self.xPosition = railBytes[2]\n",
    "        self.yPosition = railBytes[3]\n",
    "        self.unknown014 = railBytes[4]\n",
    "        self.unknown1 = int.from_bytes(railBytes[5:7],\"little\", signed = False) \n",
    "        self.unknown2 = int.from_bytes(railBytes[7:9],\"little\", signed = False) \n",
    "        self.unknown3 = int.from_bytes(railBytes[9:11],\"little\", signed = False) \n",
    "    def toBytes(self):\n",
    "        alwaysZero = self.alwaysZero.to_bytes(2, 'little')\n",
    "        alwaysZeroOne = self.alwaysZeroOne.to_bytes(1, 'little')\n",
    "        xPosition = self.xPosition.to_bytes(1, 'little')\n",
    "        yPosition = self.yPosition.to_bytes(1, 'little')\n",
    "        unknown014 = self.unknown014.to_bytes(1, 'little')\n",
    "        unknown1 = self.unknown1.to_bytes(2, 'little')\n",
    "        unknown2 = self.unknown2.to_bytes(2, 'little')\n",
    "        unknown3 = self.unknown3.to_bytes(2, 'little')\n",
    "        return alwaysZero + alwaysZeroOne + xPosition + yPosition + unknown014 + unknown1 + unknown2 + unknown3"
   ]
  },
  {
   "cell_type": "code",
   "execution_count": 102,
   "metadata": {},
   "outputs": [],
   "source": [
    "class Icicle(ObjectBytes):\n",
    "    def __init__(self, icicleBytes):\n",
    "        self.xPosition = icicleBytes[0]\n",
    "        self.yPosition = icicleBytes[1]\n",
    "        self.zeroOne = icicleBytes[2]\n",
    "        self.padding = icicleBytes[3]\n",
    "    def toBytes(self):\n",
    "        xPosition = self.xPosition.to_bytes(1, 'little')\n",
    "        yPosition = self.yPosition.to_bytes(1, 'little')\n",
    "        zeroOne = self.zeroOne.to_bytes(1, 'little')\n",
    "        padding = self.padding.to_bytes(1, 'little')\n",
    "        return xPosition + yPosition + zeroOne + padding"
   ]
  },
  {
   "cell_type": "code",
   "execution_count": 131,
   "metadata": {},
   "outputs": [],
   "source": [
    "class LevelArea(ObjectBytes):\n",
    "    def __init__(self, levelBytes):\n",
    "        self.courseTheme = levelBytes[0]\n",
    "        self.autoScrollType = levelBytes[1]\n",
    "        self.unknowHorientation = levelBytes[2]\n",
    "        self.levelHorientation = levelBytes[3]\n",
    "        self.lavaWaterHeight = levelBytes[4]\n",
    "        self.lavaWaterMode = levelBytes[5]\n",
    "        self.lavaWaterSpeed = levelBytes[6]\n",
    "        self.minimunLavaWaterHeight = levelBytes[7]\n",
    "        self.rightBoundary = int.from_bytes(levelBytes[8:12],\"little\", signed = False)\n",
    "        self.topBoundary = int.from_bytes(levelBytes[12:16],\"little\", signed = False)\n",
    "        self.leftBoundary = int.from_bytes(levelBytes[16:20],\"little\", signed = False)\n",
    "        self.bottomBoundary = int.from_bytes(levelBytes[20:24],\"little\", signed = False)\n",
    "        self.bitField = int.from_bytes(levelBytes[24:28],\"little\", signed = False)\n",
    "        self.objectCount = int.from_bytes(levelBytes[28:32],\"little\", signed = False)\n",
    "        self.freeStandingSoundEffectCount = int.from_bytes(levelBytes[32:36],\"little\", signed = False)\n",
    "        self.snakeBlockCount = int.from_bytes(levelBytes[36:40],\"little\", signed = False)\n",
    "        self.clearPipeCount = int.from_bytes(levelBytes[40:44],\"little\", signed = False)\n",
    "        self.piranhaCreeperCount = int.from_bytes(levelBytes[44:48],\"little\", signed = False)\n",
    "        self.expandingBlockCount = int.from_bytes(levelBytes[48:52],\"little\", signed = False)\n",
    "        self.trackBlockCount = int.from_bytes(levelBytes[52:56],\"little\", signed = False)\n",
    "        self.alwaysZero = int.from_bytes(levelBytes[56:60],\"little\", signed = False)\n",
    "        self.tileCount = int.from_bytes(levelBytes[60:64],\"little\", signed = False)\n",
    "        self.railCount = int.from_bytes(levelBytes[64:68],\"little\", signed = False)\n",
    "        self.icicleCount = int.from_bytes(levelBytes[68:72],\"little\", signed = False)\n",
    "        \n",
    "        \n",
    "        \n",
    "        objectsBytes = levelBytes[72:83272]\n",
    "        self.objects = instanceAllObjects('GameObject', objectsBytes, self.objectCount, 32)\n",
    "        \n",
    "        \n",
    "        soundEffectsBytes = levelBytes[83272:84472]\n",
    "        self.soundEffects = instanceAllObjects('FreestandingSoundEffect', soundEffectsBytes, self.freeStandingSoundEffectCount, 4)\n",
    "        \n",
    "        \n",
    "        snakesBytes = levelBytes[84472:89292]\n",
    "        self.snakes = instanceAllObjects('SnakeBlockTrack', snakesBytes, self.snakeBlockCount, 964)\n",
    "        \n",
    "        \n",
    "        clearPipeBytes = levelBytes[89292:147692]\n",
    "        self.clearPipes = instanceAllObjects('ClearPipe', clearPipeBytes, self.clearPipeCount, 292)\n",
    "        \n",
    "        creeperBytes = levelBytes[147692:148532]\n",
    "        self.creepers = instanceAllObjects('PiranhaCreeperTrack', creeperBytes, self.piranhaCreeperCount, 84)\n",
    "        \n",
    "        expandingBlockBytes = levelBytes[148532:148972]\n",
    "        self.expandingBlocks = instanceAllObjects('ExpandingBlockTrack', expandingBlockBytes, self.expandingBlockCount, 44)\n",
    "        \n",
    "        trackBlockBytes = levelBytes[148972:149412]\n",
    "        self.trackBlocks = instanceAllObjects('TrackBlockTrack', trackBlockBytes, self.trackBlockCount, 44)\n",
    "        \n",
    "        tilesBytes = levelBytes[149412:165412]\n",
    "        self.tiles = instanceAllObjects('Tile', tilesBytes, self.tileCount, 4)\n",
    "        \n",
    "        railBytes = levelBytes[165412:183412]\n",
    "        self.rails = instanceAllObjects('Rail', railBytes, self.railCount, 12)\n",
    "        \n",
    "        iCicleBytes = levelBytes[183412:184612]\n",
    "        self.icicles = instanceAllObjects('Icicle', iCicleBytes, self.icicleCount, 4)\n",
    "        \n",
    "    def toBytes(self):\n",
    "        courseTheme = self.courseTheme.to_bytes(1, 'little')\n",
    "        autoScrollType = self.autoScrollType.to_bytes(1, 'little')\n",
    "        unknowHorientation = self.unknowHorientation.to_bytes(1, 'little')\n",
    "        levelHorientation = self.levelHorientation.to_bytes(1, 'little')\n",
    "        lavaWaterHeight = self.lavaWaterHeight.to_bytes(1, 'little')\n",
    "        lavaWaterMode = self.lavaWaterMode.to_bytes(1, 'little')\n",
    "        lavaWaterSpeed = self.lavaWaterSpeed.to_bytes(1, 'little')\n",
    "        minimunLavaWaterHeight = self.minimunLavaWaterHeight.to_bytes(1, 'little')\n",
    "        rightBoundary = self.rightBoundary.to_bytes(4, 'little')\n",
    "        topBoundary = self.topBoundary.to_bytes(4, 'little')\n",
    "        leftBoundary = self.leftBoundary.to_bytes(4, 'little')\n",
    "        rightBoundary = self.rightBoundary.to_bytes(4, 'little')\n",
    "        bitField = self.bitField.to_bytes(4, 'little')\n",
    "        objectCount = self.objectCount.to_bytes(4, 'little')\n",
    "        freeStandingSoundEffectCount = self.freeStandingSoundEffectCount.to_bytes(4, 'little')\n",
    "        snakeBlockCount = self.snakeBlockCount.to_bytes(4, 'little')\n",
    "        clearPipeCount = self.clearPipeCount.to_bytes(4, 'little')\n",
    "        piranhaCreeperCount = self.piranhaCreeperCount.to_bytes(4, 'little')\n",
    "        expandingBlockCount = self.expandingBlockCount.to_bytes(4, 'little')\n",
    "        trackBlockCount = self.trackBlockCount.to_bytes(4, 'little')\n",
    "        alwaysZero = self.alwaysZero.to_bytes(4, 'little')\n",
    "        tileCount = self.tileCount.to_bytes(4, 'little')\n",
    "        railCount = self.railCount.to_bytes(4, 'little')\n",
    "        icicleCount = self.icicleCount.to_bytes(4, 'little')\n",
    "        returnBytes = courseTheme + autoScrollType + unknowHorientation + levelHorientation + lavaWaterHeight + lavaWaterMode + lavaWaterSpeed + minimunLavaWaterHeight  \\\n",
    "               + rightBoundary + topBoundary + leftBoundary + bottomBoundary + bitField + objectCount + freeStandingSoundEffectCount + snakeBlockCount + clearPipeCount \\\n",
    "               + piranhaCreeperCount + expandingBlockCount + trackBlockCount + alwaysZero + tileCount + railCount + icicleCount\n",
    "        objectsBytes = fromListToBytes(self.objects, 83200)\n",
    "        soundEffectsBytes = fromListToBytes(self.soundEffects, 1200)\n",
    "        snakesBytes = fromListToBytes(self.snakes, 4820)\n",
    "        clearPipeBytes = fromListToBytes(self.clearPipes, 58400)\n",
    "        creeperBytes = fromListToBytes(self.creepers, 840)\n",
    "        expandingBlockBytes = fromListToBytes(self.expandingBlocks, 440)\n",
    "        trackBlockBytes = fromListToBytes(self.trackBlocks, 440)\n",
    "        tilesBytes = fromListToBytes(self.tiles, 16000)\n",
    "        railBytes = fromListToBytes(self.rails, 18000)\n",
    "        iCicleBytes = fromListToBytes(self.icicles, 1200)\n",
    "        return returnBytes +  objectsBytes + soundEffectsBytes + snakesBytes + clearPipeBytes + creeperBytes + expandingBlockBytes + trackBlockBytes + tilesBytes + railBytes + iCicleBytes\n",
    "        "
   ]
  },
  {
   "cell_type": "code",
   "execution_count": 199,
   "metadata": {},
   "outputs": [],
   "source": [
    "class Header(ObjectBytes):\n",
    "    def __init__(self, headerBytes):\n",
    "        self.startY = headerBytes[0]\n",
    "        self.endY = headerBytes[1]\n",
    "        self.goalXx100 = int.from_bytes(headerBytes[2:4],\"little\", signed = False)\n",
    "        self.timeLimit = int.from_bytes(headerBytes[4:6],\"little\", signed = False)\n",
    "        self.targetAmountClearCondition = int.from_bytes(headerBytes[6:8],\"little\", signed = False)\n",
    "        self.year = int.from_bytes(headerBytes[8:10],\"little\", signed = False)\n",
    "        self.month = headerBytes[10]\n",
    "        self.day = headerBytes[11]\n",
    "        self.hour = headerBytes[12]\n",
    "        self.minute = headerBytes[13]\n",
    "        self.unknow = headerBytes[14]\n",
    "        self.clearConditionType = headerBytes[15]\n",
    "        self.clearConditionObject = int.from_bytes(headerBytes[16:20],\"little\", signed = False)\n",
    "        self.gameVersion = int.from_bytes(headerBytes[20:24],\"little\", signed = False)\n",
    "        self.levelFlags = int.from_bytes(headerBytes[24:28],\"little\", signed = False)\n",
    "        self.clearCheckTries = int.from_bytes(headerBytes[28:32],\"little\", signed = False)\n",
    "        self.clearCheckTime = int.from_bytes(headerBytes[32:36],\"little\", signed = False)\n",
    "        self.creationID = int.from_bytes(headerBytes[36:40],\"little\", signed = False)\n",
    "        self.uploadID = headerBytes[40:48]\n",
    "        self.gameVersionCheck = headerBytes[48:52]\n",
    "        self.padding = headerBytes[52:240]\n",
    "        self.unknow2 = headerBytes[240]\n",
    "        self.gameStyle = headerBytes[241:244]\n",
    "        self.courseName = headerBytes[244:310]#wchar16\n",
    "        self.courseDescription = headerBytes[310:378]\n",
    "        \n",
    "    def toBytes(self):\n",
    "        startY = self.startY.to_bytes(1, 'little')\n",
    "        endY = self.endY.to_bytes(1, 'little')\n",
    "        goalXx100 = self.goalXx100.to_bytes(2, 'little')\n",
    "        timeLimit = self.timeLimit.to_bytes(2, 'little')\n",
    "        targetAmountClearCondition = self.targetAmountClearCondition.to_bytes(2, 'little')\n",
    "        year = self.year.to_bytes(2, 'little')\n",
    "        month = self.month.to_bytes(1, 'little')\n",
    "        day = self.day.to_bytes(1, 'little')\n",
    "        hour = self.hour.to_bytes(1, 'little')\n",
    "        minute = self.minute.to_bytes(1, 'little')   \n",
    "        unknow = self.unknow.to_bytes(1, 'little') \n",
    "        clearConditionType = self.clearConditionType.to_bytes(1, 'little') \n",
    "        clearConditionObject = self.clearConditionObject.to_bytes(4, 'little') \n",
    "        gameVersion = self.gameVersion.to_bytes(4, 'little')\n",
    "        levelFlags = self.levelFlags.to_bytes(4, 'little')\n",
    "        clearCheckTries = self.clearCheckTries.to_bytes(4, 'little')\n",
    "        clearCheckTime = self.clearCheckTime.to_bytes(4, 'little')\n",
    "        creationID = self.creationID.to_bytes(4, 'little')\n",
    "        unknow2 = self.unknow2.to_bytes(1, 'little')\n",
    "        \n",
    "        return startY + endY + goalXx100 + timeLimit + targetAmountClearCondition + year + month + day + hour + minute + unknow + clearConditionType \\\n",
    "               + clearConditionObject + gameVersion + levelFlags + clearCheckTries + clearCheckTime + creationID + self.uploadID \\\n",
    "               + self.gameVersionCheck + self.padding + unknow2 + self.gameStyle + self.courseName + self.courseDescription"
   ]
  },
  {
   "cell_type": "code",
   "execution_count": 197,
   "metadata": {},
   "outputs": [],
   "source": [
    "class MarioMaker2File(ObjectBytes):\n",
    "    def __init__(self, fileBytes):\n",
    "        self.gameVersion = fileBytes[:4]\n",
    "        self.gameVersion2 = fileBytes[4:6]\n",
    "        self.padding = fileBytes[6:8]\n",
    "        self.CRC32 = fileBytes[8:12]\n",
    "        self.SCDL = fileBytes[12:16]\n",
    "        self.header = Header(fileBytes[16:528])\n",
    "        self.mainLevelArea = LevelArea(fileBytes[528:188656])\n",
    "        self.subLevelArea = LevelArea(fileBytes[188656:376784])\n",
    "        self.cryptoCfg = fileBytes[376784:]#non ne sono sicuro\n",
    "        \n",
    "    def toBytes(self):\n",
    "        return self.gameVersion + self.gameVersion2 + self.padding + self.CRC32 + self.SCDL + addZeros(self.header.toBytes(), 512) + addZeros(self.mainLevelArea.toBytes(), 188128) + addZeros(self.subLevelArea.toBytes(), 188128) + self.cryptoCfg"
   ]
  },
  {
   "cell_type": "code",
   "execution_count": 20,
   "metadata": {},
   "outputs": [],
   "source": [
    "levelFolder = Path(\"levels/\")"
   ]
  },
  {
   "cell_type": "code",
   "execution_count": 21,
   "metadata": {},
   "outputs": [],
   "source": [
    "levelsDownloaded = [f for f in listdir(levelFolder) if isfile(join(levelFolder, f))]"
   ]
  },
  {
   "cell_type": "code",
   "execution_count": 22,
   "metadata": {},
   "outputs": [],
   "source": [
    "archive = zipfile.ZipFile(join(levelFolder, '007_-_bond_mario_bond__2958.zip'), 'r')\n",
    "leveldata = archive.read('course_data_000.bcd')"
   ]
  },
  {
   "cell_type": "code",
   "execution_count": 172,
   "metadata": {},
   "outputs": [
    {
     "data": {
      "text/plain": [
       "376832"
      ]
     },
     "execution_count": 172,
     "metadata": {},
     "output_type": "execute_result"
    }
   ],
   "source": [
    "len(leveldata)"
   ]
  },
  {
   "cell_type": "code",
   "execution_count": 24,
   "metadata": {},
   "outputs": [],
   "source": [
    "with open('tools/tmp/course_data_000.bcd', 'wb') as f:\n",
    "    f.write(leveldata)"
   ]
  },
  {
   "cell_type": "code",
   "execution_count": 25,
   "metadata": {},
   "outputs": [
    {
     "name": "stdout",
     "output_type": "stream",
     "text": [
      "Decrypting course .\\tools\\tmp\\course_data_000.bcd to .\\tools\\tmp\\course_data_dec.bcd...\n",
      "Done!\n"
     ]
    }
   ],
   "source": [
    "!.\\tools\\smm2dec.exe -h .\\tools\\tmp\\course_data_000.bcd .\\tools\\tmp\\course_data_dec.bcd"
   ]
  },
  {
   "cell_type": "code",
   "execution_count": 26,
   "metadata": {},
   "outputs": [],
   "source": [
    "with open('tools/tmp/course_data_dec.bcd', 'rb') as f:\n",
    "    leveldata = f.read()"
   ]
  },
  {
   "cell_type": "code",
   "execution_count": 27,
   "metadata": {},
   "outputs": [
    {
     "data": {
      "text/plain": [
       "0"
      ]
     },
     "execution_count": 27,
     "metadata": {},
     "output_type": "execute_result"
    }
   ],
   "source": [
    "leveldata[15215]"
   ]
  },
  {
   "cell_type": "code",
   "execution_count": 200,
   "metadata": {},
   "outputs": [
    {
     "data": {
      "text/plain": [
       "376832"
      ]
     },
     "execution_count": 200,
     "metadata": {},
     "output_type": "execute_result"
    }
   ],
   "source": [
    "testM = MarioMaker2File(leveldata)\n",
    "len(testM.toBytes())"
   ]
  },
  {
   "cell_type": "code",
   "execution_count": 204,
   "metadata": {},
   "outputs": [
    {
     "name": "stdout",
     "output_type": "stream",
     "text": [
      "376832\n",
      "porco dio\n",
      "165943\n"
     ]
    }
   ],
   "source": [
    "a = testM.toBytes()\n",
    "print(len(a))\n",
    "for idx, b in enumerate(leveldata):\n",
    "    if a[idx] != b:\n",
    "        print('porco dio')\n",
    "        print(idx)\n",
    "        break"
   ]
  },
  {
   "cell_type": "code",
   "execution_count": 192,
   "metadata": {},
   "outputs": [],
   "source": [
    "AESIV = leveldata[:16]  #array\n",
    "randomiserState = leveldata[17:33]\n",
    "AESCMAC = leveldata[34:50]\n",
    "\n",
    "\n",
    "gameVersion = leveldata[:4]\n",
    "gameVersion2 = leveldata[4:6]\n",
    "padding = leveldata[6:8]\n",
    "CRC32 = leveldata[8:12]\n",
    "SCDL = leveldata[12:16]\n",
    "header = leveldata[16:528]\n",
    "mainLevelArea = leveldata[528:188656]\n",
    "subLevelArea = leveldata[188656:376784]\n",
    "CryptoCfg = leveldata[376784:]#non ne sono sicuro\n"
   ]
  },
  {
   "cell_type": "code",
   "execution_count": 29,
   "metadata": {},
   "outputs": [
    {
     "data": {
      "text/plain": [
       "b\"\\xf8T\\x028'\\xae\\x05N\\x07\\xf9 \\xeb\\x84\\xe8n\\x1c'\\xae\\x05N\\xf8T\\x028\\x84\\xe8n\\x1c\\x07\\xf9 \\xeb\\xe0\\x18<=\\x8aZ\\xf5F0\\xcd\\xc6r\\n<\\xe1\\xaf\""
      ]
     },
     "execution_count": 29,
     "metadata": {},
     "output_type": "execute_result"
    }
   ],
   "source": [
    "CryptoCfg"
   ]
  },
  {
   "cell_type": "code",
   "execution_count": 48,
   "metadata": {},
   "outputs": [],
   "source": [
    "startY = header[0]\n",
    "endY = header[1]\n",
    "goalXx100 = header[2:4]\n",
    "timeLimit = header[4:6]\n",
    "targetAmountClearCondition = header[6:8]\n",
    "year = header[8:10]\n",
    "month = header[10]\n",
    "day = header[11]\n",
    "hour = header[12]\n",
    "minute = header[13]\n",
    "unknow = header[14]\n",
    "clearConditionType = header[15]\n",
    "clearConditionObject = header[16:20]\n",
    "unknow4 = header[20:24]\n",
    "levelFlags = header[24:28]\n",
    "clearCheckTime = header[28:32]\n",
    "randomValue = header[32:36]\n",
    "courseWorld = header[36:40]\n",
    "\n",
    "unknow2 = header[240]\n",
    "gameStyle = header[241:244]\n",
    "courseName = header[244:310]#wchar16\n",
    "courseDescription = header[310:378]"
   ]
  },
  {
   "cell_type": "code",
   "execution_count": 49,
   "metadata": {},
   "outputs": [],
   "source": [
    "courseTheme = mainLevelArea[0]\n",
    "autoScrollType = mainLevelArea[1]\n",
    "unknowHorientation = mainLevelArea[2]\n",
    "levelHorientation = mainLevelArea[3]\n",
    "lavaWaterHeight = mainLevelArea[4]\n",
    "lavaWaterMode = mainLevelArea[5]\n",
    "lavaWaterSpeed = mainLevelArea[6]\n",
    "minimunLavaWaterHeight = mainLevelArea[7]\n",
    "rightBoundary = mainLevelArea[8:12]\n",
    "topBoundary = mainLevelArea[12:16]\n",
    "leftBoundary = mainLevelArea[16:20]\n",
    "bottomBoundary = mainLevelArea[20:24]\n",
    "bitField = mainLevelArea[24:28]\n",
    "objectCount = mainLevelArea[28:32]\n",
    "freeStandingSoundEffectCount = mainLevelArea[32:36]\n",
    "snakeBlockCount = mainLevelArea[36:40]\n",
    "clearPipeCount = mainLevelArea[40:44]\n",
    "piranhaCreeperCount = mainLevelArea[44:48]\n",
    "expandingBlockCount = mainLevelArea[48:52]\n",
    "trackBlockCount = mainLevelArea[52:56]\n",
    "alwaysZero = mainLevelArea[56:60]\n",
    "tileCount = mainLevelArea[60:64]\n",
    "railCount = mainLevelArea[64:68]\n",
    "icicleCount = mainLevelArea[68:72]\n",
    "objects = mainLevelArea[72:83272]\n",
    "soundEffects = mainLevelArea[83272:84472]\n",
    "snake = mainLevelArea[84472:89292]\n",
    "clearPipe = mainLevelArea[89292:147692]\n",
    "creeper = mainLevelArea[147692:148532]\n",
    "expandingBlock = mainLevelArea[148532:148972]\n",
    "trackBlock = mainLevelArea[148972:149412]\n",
    "tiles = mainLevelArea[149412:165412]\n",
    "rail = mainLevelArea[165412:183412]\n",
    "iCicle = mainLevelArea[183412:184612]"
   ]
  },
  {
   "cell_type": "code",
   "execution_count": 163,
   "metadata": {},
   "outputs": [],
   "source": [
    "main = LevelArea(mainLevelArea)"
   ]
  },
  {
   "cell_type": "code",
   "execution_count": 164,
   "metadata": {},
   "outputs": [
    {
     "data": {
      "text/plain": [
       "184612"
      ]
     },
     "execution_count": 164,
     "metadata": {},
     "output_type": "execute_result"
    }
   ],
   "source": [
    "len(main.toBytes())"
   ]
  },
  {
   "cell_type": "code",
   "execution_count": 107,
   "metadata": {},
   "outputs": [
    {
     "data": {
      "text/plain": [
       "5"
      ]
     },
     "execution_count": 107,
     "metadata": {},
     "output_type": "execute_result"
    }
   ],
   "source": [
    "courseTheme"
   ]
  },
  {
   "cell_type": "code",
   "execution_count": 15,
   "metadata": {},
   "outputs": [
    {
     "data": {
      "text/plain": [
       "1128"
      ]
     },
     "execution_count": 15,
     "metadata": {},
     "output_type": "execute_result"
    }
   ],
   "source": [
    "int.from_bytes(tileCount,\"little\", signed = False)"
   ]
  },
  {
   "cell_type": "code",
   "execution_count": 16,
   "metadata": {},
   "outputs": [
    {
     "data": {
      "text/plain": [
       "b'\\x10\\x00'"
      ]
     },
     "execution_count": 16,
     "metadata": {},
     "output_type": "execute_result"
    }
   ],
   "source": [
    "gameVersion2"
   ]
  },
  {
   "cell_type": "code",
   "execution_count": 17,
   "metadata": {},
   "outputs": [
    {
     "data": {
      "text/plain": [
       "7"
      ]
     },
     "execution_count": 17,
     "metadata": {},
     "output_type": "execute_result"
    }
   ],
   "source": [
    "month"
   ]
  },
  {
   "cell_type": "code",
   "execution_count": 18,
   "metadata": {},
   "outputs": [
    {
     "data": {
      "text/plain": [
       "'007 - Bond, Mario Bond ♪\\x00\\x00\\x00\\x00\\x00\\x00\\x00\\x00\\x00'"
      ]
     },
     "execution_count": 18,
     "metadata": {},
     "output_type": "execute_result"
    }
   ],
   "source": [
    "courseName.decode(\"utf-16\")"
   ]
  },
  {
   "cell_type": "code",
   "execution_count": 19,
   "metadata": {},
   "outputs": [
    {
     "data": {
      "text/plain": [
       "'Music and Play!\\x00\\x00\\x00\\x00\\x00\\x00\\x00\\x00\\x00\\x00\\x00\\x00\\x00\\x00\\x00\\x00\\x00\\x00\\x00'"
      ]
     },
     "execution_count": 19,
     "metadata": {},
     "output_type": "execute_result"
    }
   ],
   "source": [
    "courseDescription.decode(\"utf-16\")"
   ]
  },
  {
   "cell_type": "code",
   "execution_count": 20,
   "metadata": {},
   "outputs": [
    {
     "data": {
      "text/plain": [
       "'M3\\x00'"
      ]
     },
     "execution_count": 20,
     "metadata": {},
     "output_type": "execute_result"
    }
   ],
   "source": [
    "gameStyle.decode(\"utf-8\")"
   ]
  },
  {
   "cell_type": "code",
   "execution_count": null,
   "metadata": {},
   "outputs": [],
   "source": []
  }
 ],
 "metadata": {
  "kernelspec": {
   "display_name": "Python 3",
   "language": "python",
   "name": "python3"
  },
  "language_info": {
   "codemirror_mode": {
    "name": "ipython",
    "version": 3
   },
   "file_extension": ".py",
   "mimetype": "text/x-python",
   "name": "python",
   "nbconvert_exporter": "python",
   "pygments_lexer": "ipython3",
   "version": "3.7.3"
  }
 },
 "nbformat": 4,
 "nbformat_minor": 2
}
