{
 "cells": [
  {
   "cell_type": "code",
   "execution_count": 1,
   "metadata": {},
   "outputs": [],
   "source": [
    "import zipfile\n",
    "from os import listdir\n",
    "from os.path import isfile, join\n",
    "from pathlib import Path\n",
    "\n",
    "from tqdm import tqdm"
   ]
  },
  {
   "cell_type": "code",
   "execution_count": 2,
   "metadata": {},
   "outputs": [],
   "source": [
    "levelFolder = Path(\"levels/\")"
   ]
  },
  {
   "cell_type": "code",
   "execution_count": 3,
   "metadata": {},
   "outputs": [],
   "source": [
    "levelsDownloaded = [f for f in listdir(levelFolder) if isfile(join(levelFolder, f))]"
   ]
  },
  {
   "cell_type": "code",
   "execution_count": 4,
   "metadata": {},
   "outputs": [],
   "source": [
    "archive = zipfile.ZipFile(join(levelFolder, '007_-_bond_mario_bond__2958.zip'), 'r')\n",
    "leveldata = archive.read('course_data_000.bcd')"
   ]
  },
  {
   "cell_type": "code",
   "execution_count": 5,
   "metadata": {},
   "outputs": [
    {
     "data": {
      "text/plain": [
       "96"
      ]
     },
     "execution_count": 5,
     "metadata": {},
     "output_type": "execute_result"
    }
   ],
   "source": [
    "leveldata[15215]"
   ]
  },
  {
   "cell_type": "code",
   "execution_count": 6,
   "metadata": {},
   "outputs": [],
   "source": [
    "with open('tools/tmp/course_data_000.bcd', 'wb') as f:\n",
    "    f.write(leveldata)"
   ]
  },
  {
   "cell_type": "code",
   "execution_count": 7,
   "metadata": {},
   "outputs": [
    {
     "name": "stdout",
     "output_type": "stream",
     "text": [
      "Decrypting course .\\tools\\tmp\\course_data_000.bcd to .\\tools\\tmp\\course_data_dec.bcd...\n",
      "Done!\n"
     ]
    }
   ],
   "source": [
    "!.\\tools\\smm2dec.exe -h .\\tools\\tmp\\course_data_000.bcd .\\tools\\tmp\\course_data_dec.bcd"
   ]
  },
  {
   "cell_type": "code",
   "execution_count": 8,
   "metadata": {},
   "outputs": [],
   "source": [
    "with open('tools/tmp/course_data_dec.bcd', 'rb') as f:\n",
    "    leveldata = f.read()"
   ]
  },
  {
   "cell_type": "code",
   "execution_count": 9,
   "metadata": {},
   "outputs": [
    {
     "data": {
      "text/plain": [
       "0"
      ]
     },
     "execution_count": 9,
     "metadata": {},
     "output_type": "execute_result"
    }
   ],
   "source": [
    "leveldata[15215]"
   ]
  },
  {
   "cell_type": "code",
   "execution_count": 12,
   "metadata": {},
   "outputs": [],
   "source": [
    "AESIV = leveldata[:16]  #array\n",
    "randomiserState = leveldata[17:33]\n",
    "AESCMAC = leveldata[34:50]\n",
    "\n",
    "\n",
    "gameVersion = leveldata[:4]\n",
    "gameVersion2 = leveldata[4:6]\n",
    "padding = leveldata[6:8]\n",
    "CRC32 = leveldata[8:12]\n",
    "SCDL = leveldata[12:16]\n",
    "header = leveldata[16:528]\n",
    "mainLevelArea = leveldata[528:12285]\n",
    "subLevelArea = leveldata[12285:24042]\n",
    "#manca la parte cripto"
   ]
  },
  {
   "cell_type": "code",
   "execution_count": 14,
   "metadata": {},
   "outputs": [],
   "source": [
    "startY = header[0]\n",
    "endY = header[1]\n",
    "goalXx100 = header[2:4]\n",
    "timeLimit = header[4:6]\n",
    "targetAmountClearCondition = header[6:8]\n",
    "year = header[8:10]\n",
    "month = header[10]\n",
    "day = header[11]\n",
    "hour = header[12]\n",
    "minute = header[13]\n",
    "unknow = header[14]\n",
    "clearConditionType = header[15]\n",
    "clearConditionObject = header[16:20]\n",
    "unknow4 = header[20:24]\n",
    "levelFlags = header[24:28]\n",
    "clearCheckTime = header[28:32]\n",
    "randomValue = header[32:36]\n",
    "courseWorld = header[36:40]\n",
    "\n",
    "unknow2 = header[240]\n",
    "gameStyle = header[241:244]\n",
    "courseName = header[244:277]\n",
    "courseDescription = header[277:378]"
   ]
  },
  {
   "cell_type": "code",
   "execution_count": 108,
   "metadata": {},
   "outputs": [
    {
     "data": {
      "text/plain": [
       "512"
      ]
     },
     "execution_count": 108,
     "metadata": {},
     "output_type": "execute_result"
    }
   ],
   "source": [
    "len(header)"
   ]
  },
  {
   "cell_type": "code",
   "execution_count": 110,
   "metadata": {},
   "outputs": [
    {
     "data": {
      "text/plain": [
       "2019"
      ]
     },
     "execution_count": 110,
     "metadata": {},
     "output_type": "execute_result"
    }
   ],
   "source": [
    "int.from_bytes(year,\"little\", signed = False)"
   ]
  },
  {
   "cell_type": "code",
   "execution_count": 75,
   "metadata": {},
   "outputs": [
    {
     "data": {
      "text/plain": [
       "b'\\x10\\x00'"
      ]
     },
     "execution_count": 75,
     "metadata": {},
     "output_type": "execute_result"
    }
   ],
   "source": [
    "gameVersion2"
   ]
  },
  {
   "cell_type": "code",
   "execution_count": 114,
   "metadata": {},
   "outputs": [
    {
     "data": {
      "text/plain": [
       "7"
      ]
     },
     "execution_count": 114,
     "metadata": {},
     "output_type": "execute_result"
    }
   ],
   "source": [
    "month"
   ]
  },
  {
   "cell_type": "code",
   "execution_count": 17,
   "metadata": {},
   "outputs": [
    {
     "data": {
      "text/plain": [
       "'\\x00 \\x00B\\x00o\\x00n\\x00d\\x00 \\x00j&\\x00\\x00\\x00\\x00\\x00\\x00\\x00\\x00\\x00\\x00\\x00\\x00\\x00\\x00\\x00\\x00\\x00\\x00M\\x00u\\x00s\\x00i\\x00c\\x00 \\x00a\\x00n\\x00d\\x00 \\x00P\\x00l\\x00a\\x00y\\x00!\\x00\\x00\\x00\\x00\\x00\\x00\\x00\\x00\\x00\\x00\\x00\\x00\\x00\\x00\\x00\\x00\\x00\\x00\\x00\\x00\\x00\\x00\\x00\\x00\\x00\\x00\\x00\\x00\\x00\\x00\\x00\\x00\\x00\\x00\\x00\\x00\\x00\\x00\\x00'"
      ]
     },
     "execution_count": 17,
     "metadata": {},
     "output_type": "execute_result"
    }
   ],
   "source": [
    "courseDescription.decode(\"utf-8\")"
   ]
  },
  {
   "cell_type": "code",
   "execution_count": null,
   "metadata": {},
   "outputs": [],
   "source": []
  }
 ],
 "metadata": {
  "kernelspec": {
   "display_name": "Python 3",
   "language": "python",
   "name": "python3"
  },
  "language_info": {
   "codemirror_mode": {
    "name": "ipython",
    "version": 3
   },
   "file_extension": ".py",
   "mimetype": "text/x-python",
   "name": "python",
   "nbconvert_exporter": "python",
   "pygments_lexer": "ipython3",
   "version": "3.7.3"
  }
 },
 "nbformat": 4,
 "nbformat_minor": 2
}
