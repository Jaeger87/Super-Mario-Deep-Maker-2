{
 "cells": [
  {
   "cell_type": "code",
   "execution_count": 1,
   "metadata": {},
   "outputs": [],
   "source": [
    "import json\n",
    "from os import listdir\n",
    "from os.path import isfile, join\n",
    "from pathlib import Path\n",
    "import requests\n",
    "import urllib.request\n",
    "import re\n",
    "\n",
    "\n",
    "from tqdm import tqdm"
   ]
  },
  {
   "cell_type": "code",
   "execution_count": 2,
   "metadata": {},
   "outputs": [],
   "source": [
    "levelFolder = Path(\"levels/\")\n",
    "levelsDownloaded = set()\n",
    "idDiscarted = set()"
   ]
  },
  {
   "cell_type": "code",
   "execution_count": 3,
   "metadata": {},
   "outputs": [],
   "source": [
    "urlIDBrokenFile = Path(\"idNo.txt\")\n",
    "if urlIDBrokenFile.is_file():\n",
    "    with open(urlIDBrokenFile, \"r\") as f:\n",
    "        idDiscarted = ast.literal_eval(f.read())"
   ]
  },
  {
   "cell_type": "code",
   "execution_count": 4,
   "metadata": {},
   "outputs": [],
   "source": [
    "onlyfiles = [f for f in listdir(levelFolder) if isfile(join(levelFolder, f))]\n",
    "levelsDownloaded = set(onlyfiles)"
   ]
  },
  {
   "cell_type": "code",
   "execution_count": 5,
   "metadata": {},
   "outputs": [],
   "source": [
    "tinfoilLevels = set(map(lambda x: int(x[::-1].split(\"_\",1)[0][4:][::-1]), filter( lambda l: l[-4:] == '.zip', levelsDownloaded)))"
   ]
  },
  {
   "cell_type": "code",
   "execution_count": 7,
   "metadata": {},
   "outputs": [],
   "source": [
    "baseUrl = 'https://tinfoil.media/MarioMaker/Download/{:d}'"
   ]
  },
  {
   "cell_type": "code",
   "execution_count": 8,
   "metadata": {},
   "outputs": [],
   "source": [
    "def downloadLevelFile(idLevel):\n",
    "    r = requests.get(baseUrl.format(idLevel))\n",
    "    fname = re.findall(\"filename=(.+)\",  r.headers['content-disposition'])[0]\n",
    "    with open(join(levelFolder, fname), 'wb') as outfile:\n",
    "        outfile.write(r.content)"
   ]
  },
  {
   "cell_type": "code",
   "execution_count": 10,
   "metadata": {},
   "outputs": [
    {
     "name": "stderr",
     "output_type": "stream",
     "text": [
      "100%|████████████████████████████████████████████████████████████████████████████| 15642/15642 [07:06<00:00, 36.66it/s]\n"
     ]
    }
   ],
   "source": [
    "for i in tqdm(range (1, 15643)):\n",
    "    if i not in tinfoilLevels:\n",
    "        try:\n",
    "            downloadLevelFile(i)\n",
    "        except:\n",
    "            idDiscarted.add(i)"
   ]
  },
  {
   "cell_type": "code",
   "execution_count": 11,
   "metadata": {},
   "outputs": [],
   "source": [
    "with open(urlIDBrokenFile, \"w\") as f:\n",
    "    f.write(str(idDiscarted))"
   ]
  },
  {
   "cell_type": "code",
   "execution_count": null,
   "metadata": {},
   "outputs": [],
   "source": []
  }
 ],
 "metadata": {
  "kernelspec": {
   "display_name": "Python 3",
   "language": "python",
   "name": "python3"
  },
  "language_info": {
   "codemirror_mode": {
    "name": "ipython",
    "version": 3
   },
   "file_extension": ".py",
   "mimetype": "text/x-python",
   "name": "python",
   "nbconvert_exporter": "python",
   "pygments_lexer": "ipython3",
   "version": "3.7.3"
  }
 },
 "nbformat": 4,
 "nbformat_minor": 2
}
